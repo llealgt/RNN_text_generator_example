{
 "cells": [
  {
   "cell_type": "markdown",
   "metadata": {},
   "source": [
    "# Recurrent neural networks for H.P Lovecraft text generation\n",
    "\n",
    "\"The color out of space\" is one of my favorite tales from Lovecraft, i will use it(as well as others as the call of cthulhu) to create a recurrent neural network in tensorflow that learns his style and generates new text in his style\n",
    "\n",
    "This network is based off of Andrej Karpathy's [post on RNNs](http://karpathy.github.io/2015/05/21/rnn-effectiveness/) and [implementation in Torch](https://github.com/karpathy/char-rnn) and an example from \"Deep Learning Nanodegree\" on udacity. Also, some information [here at r2rt](http://r2rt.com/recurrent-neural-networks-in-tensorflow-ii.html) and from [Sherjil Ozair](https://github.com/sherjilozair/char-rnn-tensorflow) on GitHub. \n",
    "\n",
    "## General architecture using \"Long short term memory\" units in the recurrent layers\n",
    "\n",
    "<img src=\"assets/charseq.jpeg\" width=\"500\">"
   ]
  },
  {
   "cell_type": "code",
   "execution_count": 1,
   "metadata": {},
   "outputs": [],
   "source": [
    "%matplotlib inline\n",
    "%config InlineBackend.figure_format = 'retina'"
   ]
  },
  {
   "cell_type": "code",
   "execution_count": 2,
   "metadata": {},
   "outputs": [],
   "source": [
    "import time\n",
    "from collections import namedtuple\n",
    "\n",
    "import numpy as np\n",
    "import tensorflow as tf\n",
    "from nltk.tokenize import word_tokenize\n",
    "import nltk\n",
    "import itertools\n",
    "import matplotlib.pyplot as plt\n",
    "from time import gmtime, strftime ,localtime"
   ]
  },
  {
   "cell_type": "code",
   "execution_count": 3,
   "metadata": {},
   "outputs": [],
   "source": [
    "# Run only the  first time nltk is used to download language\n",
    "#nltk.download()"
   ]
  },
  {
   "cell_type": "markdown",
   "metadata": {},
   "source": [
    "### Define conf variables and hyper parameteters "
   ]
  },
  {
   "cell_type": "code",
   "execution_count": 39,
   "metadata": {
    "collapsed": true
   },
   "outputs": [],
   "source": [
    "mode = \"characters\" #characters or words\n",
    "\n",
    "epochs = 15\n",
    "batch_size = 128       # Sequences per batch\n",
    "num_steps = 75         # Number of sequence steps per batch\n",
    "lstm_size = 512         # Size of hidden layers in LSTMs\n",
    "num_layers = 2          # Number of LSTM layers\n",
    "learning_rate = 0.001    # Learning rate\n",
    "keep_prob = 1       # Dropout keep probability\n",
    "\n",
    "resume_from_checkpoint = True"
   ]
  },
  {
   "cell_type": "markdown",
   "metadata": {},
   "source": [
    "### Define base text\n",
    "Once trained ,the network can take base text and a sequence size and generate new text using base text as first characters in the sequence. For every element in base text wi will create a list that will store generated text as training goes, to be able to compare results between steps"
   ]
  },
  {
   "cell_type": "code",
   "execution_count": 5,
   "metadata": {
    "collapsed": true
   },
   "outputs": [],
   "source": [
    "text_to_try = [\"In the first place\",\"the night before\",\"horror\",\"creature\",\"night\",\"dream\",\"thing\",\"That night\",\"mountain\",\"Ammi\",\"Cthulhu\",\"raven\",\"bird\",\"nevermore\",\"dead\",\"The bird\"]"
   ]
  },
  {
   "cell_type": "markdown",
   "metadata": {},
   "source": [
    "#### Function that separates text into tokens(for whitespace characters, only new line is implemented, missing tabs and others="
   ]
  },
  {
   "cell_type": "code",
   "execution_count": 6,
   "metadata": {},
   "outputs": [
    {
     "data": {
      "text/plain": [
       "['H',\n",
       " 'e',\n",
       " 'l',\n",
       " 'l',\n",
       " 'o',\n",
       " ',',\n",
       " ' ',\n",
       " 'm',\n",
       " 'y',\n",
       " ' ',\n",
       " 'n',\n",
       " 'a',\n",
       " 'm',\n",
       " 'e',\n",
       " ' ',\n",
       " 'i',\n",
       " 's',\n",
       " ' ',\n",
       " 'L',\n",
       " 'u',\n",
       " 'i',\n",
       " 's',\n",
       " ' ',\n",
       " 'L',\n",
       " 'e',\n",
       " 'a',\n",
       " 'l',\n",
       " '!',\n",
       " '\\n',\n",
       " '\\n',\n",
       " 'F',\n",
       " 'r',\n",
       " 'o',\n",
       " 'm',\n",
       " ' ',\n",
       " 'G',\n",
       " 'u',\n",
       " 'a',\n",
       " 't',\n",
       " 'e',\n",
       " 'm',\n",
       " 'a',\n",
       " 'l',\n",
       " 'a']"
      ]
     },
     "execution_count": 6,
     "metadata": {},
     "output_type": "execute_result"
    }
   ],
   "source": [
    "def tokenize_by_words(text):\n",
    "    text = text.replace(\"\\n\",\" new_line_token \")\n",
    "    tokens = []\n",
    "    splitted =[[word_tokenize(w),' ']for w in text.split()]\n",
    "    splitted = list(itertools.chain(*list(itertools.chain(*splitted))))\n",
    "    \n",
    "    token_list = []\n",
    "    i = 0\n",
    "    while i < len(splitted):\n",
    "        if splitted[i] == \"new_line_token\":\n",
    "            if   token_list[-1]==\" \":\n",
    "                token_list[-1] = splitted[i]\n",
    "            else:\n",
    "                token_list.append(splitted[i])\n",
    "            i+=1\n",
    "        else:\n",
    "            token_list.append(splitted[i])\n",
    "        i+=1\n",
    "    \n",
    "    return token_list\n",
    "\n",
    "def tokenize_by_characters(text):\n",
    "    return list(text)\n",
    "\n",
    "def tokenize_text(text,mode=\"characters\"):\n",
    "    if mode == \"characters\":\n",
    "        return tokenize_by_characters(text)\n",
    "    elif mode == \"words\":\n",
    "        return tokenize_by_words(text)\n",
    "    \n",
    "tokenize_text(\"Hello, my name is Luis Leal!\\n\\nFrom Guatemala\",mode)\n",
    "#tokenize_text(\"Hello, my name is Luis Leal!\\n\\nFrom Guatemala\",\"words\")\n"
   ]
  },
  {
   "cell_type": "markdown",
   "metadata": {},
   "source": [
    "First we'll load the text file and convert it into integers for our network to use. Here I'm creating a couple dictionaries to convert the characters to and from integers. Encoding the characters as integers makes it easier to use as input in the network."
   ]
  },
  {
   "cell_type": "code",
   "execution_count": 7,
   "metadata": {
    "collapsed": true
   },
   "outputs": [],
   "source": [
    "with open('corpus.txt', 'r') as f:\n",
    "    text=f.read()"
   ]
  },
  {
   "cell_type": "code",
   "execution_count": 8,
   "metadata": {
    "collapsed": true
   },
   "outputs": [],
   "source": [
    "vocab = set(tokenize_text(text,mode))\n",
    "vocab_to_int = {c: i for i, c in enumerate(vocab)}\n",
    "int_to_vocab = dict(enumerate(vocab))"
   ]
  },
  {
   "cell_type": "markdown",
   "metadata": {},
   "source": [
    "### Get a little portion of text for validation"
   ]
  },
  {
   "cell_type": "code",
   "execution_count": 9,
   "metadata": {
    "collapsed": true
   },
   "outputs": [],
   "source": [
    "tokenized_text = tokenize_text(text,mode)\n",
    "encoded_dataset = np.array([vocab_to_int[c] for c in tokenized_text if c in vocab_to_int], dtype=np.int32)"
   ]
  },
  {
   "cell_type": "code",
   "execution_count": 10,
   "metadata": {
    "collapsed": true
   },
   "outputs": [],
   "source": [
    "validation_size = batch_size * num_steps #create a single baty\n",
    "validation_start_index = len(encoded_dataset) - validation_size\n",
    "\n",
    "encoded = encoded_dataset[:validation_start_index]\n",
    "encoded_val = encoded_dataset[validation_start_index:]"
   ]
  },
  {
   "cell_type": "code",
   "execution_count": 11,
   "metadata": {},
   "outputs": [
    {
     "name": "stdout",
     "output_type": "stream",
     "text": [
      "r genera of creatures are germinated) -- the spontaneous germination, I say, of five vast hordes of \n"
     ]
    }
   ],
   "source": [
    "def encoded_to_text(encoded):\n",
    "    return \"\".join([int_to_vocab[number] for number in encoded])\n",
    "\n",
    "print(encoded_to_text(encoded_val[0:100]))"
   ]
  },
  {
   "cell_type": "code",
   "execution_count": 12,
   "metadata": {
    "collapsed": true
   },
   "outputs": [],
   "source": [
    "val_text =encoded_to_text(encoded_val)\n",
    "text = encoded_to_text(encoded)"
   ]
  },
  {
   "cell_type": "markdown",
   "metadata": {},
   "source": [
    "Let's check out the first 100 characters of train and validation, make sure everything is peachy.  line of a book ever."
   ]
  },
  {
   "cell_type": "code",
   "execution_count": 13,
   "metadata": {},
   "outputs": [
    {
     "data": {
      "text/plain": [
       "'THE COLOUR OUT OF SPACE\\n\\nWest of Arkham the hills rise wild, and there are valleys with deep woods t'"
      ]
     },
     "execution_count": 13,
     "metadata": {},
     "output_type": "execute_result"
    }
   ],
   "source": [
    "text[:100]"
   ]
  },
  {
   "cell_type": "code",
   "execution_count": 14,
   "metadata": {},
   "outputs": [
    {
     "data": {
      "text/plain": [
       "'r genera of creatures are germinated) -- the spontaneous germination, I say, of five vast hordes of '"
      ]
     },
     "execution_count": 14,
     "metadata": {},
     "output_type": "execute_result"
    }
   ],
   "source": [
    "val_text[:100]"
   ]
  },
  {
   "cell_type": "markdown",
   "metadata": {},
   "source": [
    "And we can see the characters encoded as integersin both train and validation"
   ]
  },
  {
   "cell_type": "code",
   "execution_count": 15,
   "metadata": {},
   "outputs": [
    {
     "data": {
      "text/plain": [
       "array([53, 70, 96, 48, 84, 18, 15, 18, 71,  1, 48, 18, 71, 53, 48, 18, 52,\n",
       "       48, 74, 10, 31, 84, 96, 19, 19, 77, 16, 49, 63, 48, 62, 57, 48, 31,\n",
       "       99, 69, 43, 92,  9, 48, 63, 43, 16, 48, 43,  6, 20, 20, 49, 48, 99,\n",
       "        6, 49, 16, 48, 93,  6, 20, 32, 58, 48, 92, 47, 32, 48, 63, 43, 16,\n",
       "       99, 16, 48, 92, 99, 16, 48, 35, 92, 20, 20, 16, 67, 49, 48, 93,  6,\n",
       "       63, 43, 48, 32, 16, 16, 78, 48, 93, 62, 62, 32, 49, 48, 63], dtype=int32)"
      ]
     },
     "execution_count": 15,
     "metadata": {},
     "output_type": "execute_result"
    }
   ],
   "source": [
    "encoded[:100]"
   ]
  },
  {
   "cell_type": "code",
   "execution_count": 16,
   "metadata": {},
   "outputs": [
    {
     "data": {
      "text/plain": [
       "array([99, 48, 97, 16, 47, 16, 99, 92, 48, 62, 57, 48, 39, 99, 16, 92, 63,\n",
       "       82, 99, 16, 49, 48, 92, 99, 16, 48, 97, 16, 99,  9,  6, 47, 92, 63,\n",
       "       16, 32, 55, 48,  0,  0, 48, 63, 43, 16, 48, 49, 78, 62, 47, 63, 92,\n",
       "       47, 16, 62, 82, 49, 48, 97, 16, 99,  9,  6, 47, 92, 63,  6, 62, 47,\n",
       "       58, 48, 12, 48, 49, 92, 67, 58, 48, 62, 57, 48, 57,  6, 35, 16, 48,\n",
       "       35, 92, 49, 63, 48, 43, 62, 99, 32, 16, 49, 48, 62, 57, 48], dtype=int32)"
      ]
     },
     "execution_count": 16,
     "metadata": {},
     "output_type": "execute_result"
    }
   ],
   "source": [
    "encoded_val[0:100]"
   ]
  },
  {
   "cell_type": "markdown",
   "metadata": {},
   "source": [
    "Since the network is working with individual english tokens, it's similar to a classification problem in which we are trying to predict the next character from the previous text.  Here's how many 'classes' our network has to pick from."
   ]
  },
  {
   "cell_type": "code",
   "execution_count": 17,
   "metadata": {},
   "outputs": [
    {
     "data": {
      "text/plain": [
       "102"
      ]
     },
     "execution_count": 17,
     "metadata": {},
     "output_type": "execute_result"
    }
   ],
   "source": [
    "len(vocab)"
   ]
  },
  {
   "cell_type": "markdown",
   "metadata": {},
   "source": [
    "## Making training mini-batches\n",
    "\n",
    "Here is where we'll make our mini-batches for training. Remember that we want our batches to be multiple sequences of some desired number of sequence steps. Considering a simple example, our batches would look like this:\n",
    "\n",
    "<img src=\"assets/sequence_batching@1x.png\" width=500px>\n",
    "\n",
    "\n",
    "<br>\n",
    "We have our text encoded as integers as one long array in `encoded`. Let's create a function that will give us an iterator for our batches. I like using [generator functions](https://jeffknupp.com/blog/2013/04/07/improve-your-python-yield-and-generators-explained/) to do this. Then we can pass `encoded` into this function and get our batch generator.\n",
    "\n",
    "The first thing we need to do is discard some of the text so we only have completely full batches. Each batch contains $N \\times M$ characters, where $N$ is the batch size (the number of sequences) and $M$ is the number of steps. Then, to get the number of batches we can make from some array `arr`, you divide the length of `arr` by the batch size. Once you know the number of batches and the batch size, you can get the total number of characters to keep.\n",
    "\n",
    "After that, we need to split `arr` into $N$ sequences. You can do this using `arr.reshape(size)` where `size` is a tuple containing the dimensions sizes of the reshaped array. We know we want $N$ sequences (`n_seqs` below), let's make that the size of the first dimension. For the second dimension, you can use `-1` as a placeholder in the size, it'll fill up the array with the appropriate data for you. After this, you should have an array that is $N \\times (M * K)$ where $K$ is the number of batches.\n",
    "\n",
    "Now that we have this array, we can iterate through it to get our batches. The idea is each batch is a $N \\times M$ window on the array. For each subsequent batch, the window moves over by `n_steps`. We also want to create both the input and target arrays. Remember that the targets are the inputs shifted over one character. You'll usually see the first input character used as the last target character, so something like this:\n",
    "```python\n",
    "y[:, :-1], y[:, -1] = x[:, 1:], x[:, 0]\n",
    "```\n",
    "where `x` is the input batch and `y` is the target batch.\n",
    "\n",
    "The way I like to do this window is use `range` to take steps of size `n_steps` from $0$ to `arr.shape[1]`, the total number of steps in each sequence. That way, the integers you get from `range` always point to the start of a batch, and each window is `n_steps` wide."
   ]
  },
  {
   "cell_type": "code",
   "execution_count": 18,
   "metadata": {
    "collapsed": true
   },
   "outputs": [],
   "source": [
    "def get_batches(arr, n_seqs, n_steps):\n",
    "    '''Create a generator that returns batches of size\n",
    "       n_seqs x n_steps from arr.\n",
    "       \n",
    "       Arguments\n",
    "       ---------\n",
    "       arr: Array you want to make batches from\n",
    "       n_seqs: Batch size, the number of sequences per batch\n",
    "       n_steps: Number of sequence steps per batch\n",
    "    '''\n",
    "    # Get the batch size and number of batches we can make\n",
    "    batch_size = n_seqs * n_steps \n",
    "    n_batches =  len(arr)//batch_size\n",
    "    \n",
    "    # Keep only enough characters to make full batches\n",
    "    arr =  arr[:n_batches*batch_size]\n",
    "    \n",
    "    # Reshape into n_seqs rows\n",
    "    arr = arr.reshape((n_seqs,-1))\n",
    "    \n",
    "    for n in range(0, arr.shape[1], n_steps):\n",
    "        # The features\n",
    "        x = arr[:,n:n+n_steps]\n",
    "        # The targets, shifted by one\n",
    "        y = np.zeros(x.shape)\n",
    "        y[:,:-1],y[:,-1] = x[:,1:] ,x[:,0]\n",
    "        yield x, y"
   ]
  },
  {
   "cell_type": "markdown",
   "metadata": {},
   "source": [
    "Now I'll make my data sets and we can check out what's going on here. Here I'm going to use a batch size of 10 and 50 sequence steps."
   ]
  },
  {
   "cell_type": "code",
   "execution_count": 19,
   "metadata": {
    "collapsed": true
   },
   "outputs": [],
   "source": [
    "batches = get_batches(encoded, 10, 50)\n",
    "x, y = next(batches)"
   ]
  },
  {
   "cell_type": "code",
   "execution_count": 20,
   "metadata": {},
   "outputs": [
    {
     "name": "stdout",
     "output_type": "stream",
     "text": [
      "x\n",
      " [[53 70 96 48 84 18 15 18 71  1]\n",
      " [48 49 16 63 48 92 78 78 16 92]\n",
      " [48 39 92 35 16 99 47 62 82 49]\n",
      " [16 32 48 20 62 62 78 43 62 20]\n",
      " [63 20 67 48 63 62 48 92 20 20]\n",
      " [16 92 99 20 67 48 39 92 20  9]\n",
      " [16 49 48 93 16 99 16 48 92 97]\n",
      " [47 48 92 32 35 92 47 39 16 58]\n",
      " [92 39 16 32 48 32 62 93 47 48]\n",
      " [63 92  6 47 95 49 48 54 92 49]]\n",
      "\n",
      "y\n",
      " [[ 70.  96.  48.  84.  18.  15.  18.  71.   1.  48.]\n",
      " [ 49.  16.  63.  48.  92.  78.  78.  16.  92.  20.]\n",
      " [ 39.  92.  35.  16.  99.  47.  62.  82.  49.  48.]\n",
      " [ 32.  48.  20.  62.  62.  78.  43.  62.  20.  16.]\n",
      " [ 20.  67.  48.  63.  62.  48.  92.  20.  20.  62.]\n",
      " [ 92.  99.  20.  67.  48.  39.  92.  20.   9.  58.]\n",
      " [ 49.  48.  93.  16.  99.  16.  48.  92.  97.  92.]\n",
      " [ 48.  92.  32.  35.  92.  47.  39.  16.  58.  48.]\n",
      " [ 39.  16.  32.  48.  32.  62.  93.  47.  48.  78.]\n",
      " [ 92.   6.  47.  95.  49.  48.  54.  92.  49.  16.]]\n"
     ]
    }
   ],
   "source": [
    "print('x\\n', x[:10, :10])\n",
    "print('\\ny\\n', y[:10, :10])"
   ]
  },
  {
   "cell_type": "markdown",
   "metadata": {},
   "source": [
    "## Building the model\n",
    "\n",
    "Below is where you'll build the network. We'll break it up into parts so it's easier to reason about each bit. Then we can connect them up into the whole network.\n",
    "\n",
    "<img src=\"assets/charRNN.png\" width=500px>\n",
    "\n",
    "\n",
    "### Inputs\n",
    "\n",
    "First off we'll create our input placeholders. As usual we need placeholders for the training data and the targets. We'll also create a placeholder for dropout layers called `keep_prob`. This will be a scalar, that is a 0-D tensor. To make a scalar, you create a placeholder without giving it a size."
   ]
  },
  {
   "cell_type": "code",
   "execution_count": 21,
   "metadata": {
    "collapsed": true
   },
   "outputs": [],
   "source": [
    "def build_inputs(batch_size, num_steps):\n",
    "    ''' Define placeholders for inputs, targets, and dropout \n",
    "    \n",
    "        Arguments\n",
    "        ---------\n",
    "        batch_size: Batch size, number of sequences per batch\n",
    "        num_steps: Number of sequence steps in a batch\n",
    "        \n",
    "    '''\n",
    "    # Declare placeholders we'll feed into the graph\n",
    "    inputs = tf.placeholder(tf.int32,[batch_size,num_steps],name=\"inputs\")\n",
    "    targets = tf.placeholder(tf.int32,[batch_size,num_steps],name=\"targets\")\n",
    "    \n",
    "    # Keep probability placeholder for drop out layers\n",
    "    keep_prob = tf.placeholder(tf.float32,name=\"keep_prob\")\n",
    "    \n",
    "    return inputs, targets, keep_prob"
   ]
  },
  {
   "cell_type": "markdown",
   "metadata": {},
   "source": [
    "### LSTM Cell\n",
    "\n",
    "Here we will create the LSTM cell we'll use in the hidden layer. We'll use this cell as a building block for the RNN. So we aren't actually defining the RNN here, just the type of cell we'll use in the hidden layer.\n",
    "\n",
    "We first create a basic LSTM cell with\n",
    "\n",
    "```python\n",
    "lstm = tf.contrib.rnn.BasicLSTMCell(num_units)\n",
    "```\n",
    "\n",
    "where `num_units` is the number of units in the hidden layers in the cell. Then we can add dropout by wrapping it with \n",
    "\n",
    "```python\n",
    "tf.contrib.rnn.DropoutWrapper(lstm, output_keep_prob=keep_prob)\n",
    "```\n",
    "You pass in a cell and it will automatically add dropout to the inputs or outputs. Finally, we can stack up the LSTM cells into layers with [`tf.contrib.rnn.MultiRNNCell`](https://www.tensorflow.org/versions/r1.0/api_docs/python/tf/contrib/rnn/MultiRNNCell). With this, you pass in a list of cells and it will send the output of one cell into the next cell. For example,\n",
    "\n",
    "```python\n",
    "tf.contrib.rnn.MultiRNNCell([cell]*num_layers)\n",
    "```\n",
    "\n",
    "This might look a little weird if you know Python well because this will create a list of the same `cell` object. However, TensorFlow will create different weight matrices for all `cell` objects. Even though this is actually multiple LSTM cells stacked on each other, you can treat the multiple layers as one cell.\n",
    "\n",
    "We also need to create an initial cell state of all zeros. This can be done like so\n",
    "\n",
    "```python\n",
    "initial_state = cell.zero_state(batch_size, tf.float32)\n",
    "```\n"
   ]
  },
  {
   "cell_type": "code",
   "execution_count": 22,
   "metadata": {
    "collapsed": true
   },
   "outputs": [],
   "source": [
    "def build_lstm(lstm_size, num_layers, batch_size, keep_prob):\n",
    "    ''' Build LSTM cell.\n",
    "    \n",
    "        Arguments\n",
    "        ---------\n",
    "        keep_prob: Scalar tensor (tf.placeholder) for the dropout keep probability\n",
    "        lstm_size: Size of the hidden layers in the LSTM cells\n",
    "        num_layers: Number of LSTM layers\n",
    "        batch_size: Batch size\n",
    "\n",
    "    '''\n",
    "    ### Build the LSTM Cell\n",
    "    # Use a basic LSTM cell\n",
    "    # Add dropout to the cell outputs\n",
    "    # Stack up multiple LSTM layers, for deep learning\n",
    "    cell = tf.contrib.rnn.MultiRNNCell([tf.contrib.rnn.DropoutWrapper( tf.contrib.rnn.BasicLSTMCell(lstm_size),output_keep_prob = keep_prob) for _ in range(num_layers)])\n",
    "    initial_state = cell.zero_state(batch_size,tf.float32)\n",
    "    \n",
    "    return cell, initial_state"
   ]
  },
  {
   "cell_type": "markdown",
   "metadata": {},
   "source": [
    "### RNN Output\n",
    "\n",
    "Here we'll create the output layer. We need to connect the output of the RNN cells to a full connected layer with a softmax output. The softmax output gives us a probability distribution we can use to predict the next character, so we want this layer to have size $C$, the number of classes/characters we have in our text.\n",
    "\n",
    "If our input has batch size $N$, number of steps $M$, and the hidden layer has $L$ hidden units, then the output is a 3D tensor with size $N \\times M \\times L$. The output of each LSTM cell has size $L$, we have $M$ of them, one for each sequence step, and we have $N$ sequences. So the total size is $N \\times M \\times L$. \n",
    "\n",
    "We are using the same fully connected layer, the same weights, for each of the outputs. Then, to make things easier, we should reshape the outputs into a 2D tensor with shape $(M * N) \\times L$. That is, one row for each sequence and step, where the values of each row are the output from the LSTM cells. We get the LSTM output as a list, `lstm_output`. First we need to concatenate this whole list into one array with [`tf.concat`](https://www.tensorflow.org/api_docs/python/tf/concat). Then, reshape it (with `tf.reshape`) to size $(M * N) \\times L$.\n",
    "\n",
    "One we have the outputs reshaped, we can do the matrix multiplication with the weights. We need to wrap the weight and bias variables in a variable scope with `tf.variable_scope(scope_name)` because there are weights being created in the LSTM cells. TensorFlow will throw an error if the weights created here have the same names as the weights created in the LSTM cells, which they will be default. To avoid this, we wrap the variables in a variable scope so we can give them unique names.\n"
   ]
  },
  {
   "cell_type": "code",
   "execution_count": 23,
   "metadata": {
    "collapsed": true
   },
   "outputs": [],
   "source": [
    "def build_output(lstm_output, in_size, out_size):\n",
    "    ''' Build a softmax layer, return the softmax output and logits.\n",
    "    \n",
    "        Arguments\n",
    "        ---------\n",
    "        \n",
    "        lstm_output: List of output tensors from the LSTM layer\n",
    "        in_size: Size of the input tensor, for example, size of the LSTM cells\n",
    "        out_size: Size of this softmax layer\n",
    "    \n",
    "    '''\n",
    "\n",
    "    # Reshape output so it's a bunch of rows, one row for each step for each sequence.\n",
    "    # Concatenate lstm_output over axis 1 (the columns)\n",
    "    seq_output = tf.concat(lstm_output,axis=1)\n",
    "    # Reshape seq_output to a 2D tensor with lstm_size columns\n",
    "    x = tf.reshape(seq_output,[-1,in_size])\n",
    "    \n",
    "    # Connect the RNN outputs to a softmax layer\n",
    "    with tf.variable_scope('softmax'):\n",
    "        # Create the weight and bias variables here\n",
    "        softmax_w = tf.Variable(tf.truncated_normal((in_size, out_size),stddev=0.1))\n",
    "        softmax_b = tf.Variable(tf.zeros([out_size]))\n",
    "    \n",
    "    # Since output is a bunch of rows of RNN cell outputs, logits will be a bunch\n",
    "    # of rows of logit outputs, one for each step and sequence\n",
    "    logits =  tf.add(tf.matmul(x,softmax_w),softmax_b) \n",
    "    \n",
    "    # Use softmax to get the probabilities for predicted characters\n",
    "    out = tf.nn.softmax(logits,name =\"out\")\n",
    "    \n",
    "    return out, logits"
   ]
  },
  {
   "cell_type": "markdown",
   "metadata": {},
   "source": [
    "### Training loss\n",
    "\n",
    "Next up is the training loss. We get the logits and targets and calculate the softmax cross-entropy loss. First we need to one-hot encode the targets, we're getting them as encoded characters. Then, reshape the one-hot targets so it's a 2D tensor with size $(M*N) \\times C$ where $C$ is the number of classes/characters we have. Remember that we reshaped the LSTM outputs and ran them through a fully connected layer with $C$ units. So our logits will also have size $(M*N) \\times C$.\n",
    "\n",
    "Then we run the logits and targets through `tf.nn.softmax_cross_entropy_with_logits` and find the mean to get the loss."
   ]
  },
  {
   "cell_type": "code",
   "execution_count": 24,
   "metadata": {
    "collapsed": true
   },
   "outputs": [],
   "source": [
    "def build_loss(logits, targets, lstm_size, num_classes):\n",
    "    ''' Calculate the loss from the logits and the targets.\n",
    "    \n",
    "        Arguments\n",
    "        ---------\n",
    "        logits: Logits from final fully connected layer\n",
    "        targets: Targets for supervised learning\n",
    "        lstm_size: Number of LSTM hidden units\n",
    "        num_classes: Number of classes in targets\n",
    "        \n",
    "    '''\n",
    "    # One-hot encode targets and reshape to match logits, one row per sequence per step\n",
    "    y_one_hot = tf.one_hot(targets,num_classes)\n",
    "    y_reshaped =  tf.reshape(y_one_hot,logits.get_shape())\n",
    "    \n",
    "    # Softmax cross entropy loss\n",
    "    loss = tf.reduce_mean(tf.nn.softmax_cross_entropy_with_logits(logits=logits,labels=y_reshaped))\n",
    "    \n",
    "    return loss"
   ]
  },
  {
   "cell_type": "markdown",
   "metadata": {},
   "source": [
    "### Optimizer\n",
    "\n",
    "Here we build the optimizer. Normal RNNs have have issues gradients exploding and disappearing. LSTMs fix the disappearance problem, but the gradients can still grow without bound. To fix this, we can clip the gradients above some threshold. That is, if a gradient is larger than that threshold, we set it to the threshold. This will ensure the gradients never grow overly large. Then we use an AdamOptimizer for the learning step."
   ]
  },
  {
   "cell_type": "code",
   "execution_count": 25,
   "metadata": {
    "collapsed": true
   },
   "outputs": [],
   "source": [
    "def build_optimizer(loss, learning_rate, grad_clip,global_step):\n",
    "    ''' Build optmizer for training, using gradient clipping.\n",
    "    \n",
    "        Arguments:\n",
    "        loss: Network loss\n",
    "        learning_rate: Learning rate for optimizer\n",
    "        global_step: to control the total number of train steps\n",
    "    \n",
    "    '''\n",
    "    \n",
    "    # Optimizer for training, using gradient clipping to control exploding gradients\n",
    "    tvars = tf.trainable_variables()\n",
    "    grads, _ = tf.clip_by_global_norm(tf.gradients(loss, tvars), grad_clip)\n",
    "    train_op = tf.train.AdamOptimizer(learning_rate)\n",
    "    optimizer = train_op.apply_gradients(zip(grads, tvars),global_step)\n",
    "    \n",
    "    return optimizer"
   ]
  },
  {
   "cell_type": "markdown",
   "metadata": {},
   "source": [
    "### Build the network\n",
    "\n",
    "Now we can put all the pieces together and build a class for the network. To actually run data through the LSTM cells, we will use [`tf.nn.dynamic_rnn`](https://www.tensorflow.org/versions/r1.0/api_docs/python/tf/nn/dynamic_rnn). This function will pass the hidden and cell states across LSTM cells appropriately for us. It returns the outputs for each LSTM cell at each step for each sequence in the mini-batch. It also gives us the final LSTM state. We want to save this state as `final_state` so we can pass it to the first LSTM cell in the the next mini-batch run. For `tf.nn.dynamic_rnn`, we pass in the cell and initial state we get from `build_lstm`, as well as our input sequences. Also, we need to one-hot encode the inputs before going into the RNN. \n"
   ]
  },
  {
   "cell_type": "code",
   "execution_count": 26,
   "metadata": {
    "collapsed": true
   },
   "outputs": [],
   "source": [
    "class CharRNN:\n",
    "    \n",
    "    def __init__(self, num_classes, batch_size=64, num_steps=50, \n",
    "                       lstm_size=128, num_layers=2, learning_rate=0.001, \n",
    "                       grad_clip=5, sampling=False):\n",
    "    \n",
    "        # When we're using this network for sampling later, we'll be passing in\n",
    "        # one character at a time, so providing an option for that\n",
    "        if sampling == True:\n",
    "            batch_size, num_steps = 1, 1\n",
    "        else:\n",
    "            batch_size, num_steps = batch_size, num_steps\n",
    "\n",
    "        tf.reset_default_graph()\n",
    "        \n",
    "        self.global_step_tensor = tf.Variable(0,trainable=False,name = \"global_step\")\n",
    "        # Build the input placeholder tensors\n",
    "        self.inputs, self.targets, self.keep_prob = build_inputs(batch_size,num_steps)\n",
    "        # Build the LSTM cell\n",
    "        cell, self.initial_state = build_lstm(lstm_size,num_layers,batch_size,self.keep_prob)\n",
    "        ### Run the data through the RNN layers\n",
    "        # First, one-hot encode the input tokens\n",
    "        x_one_hot = tf.one_hot(self.inputs,num_classes)\n",
    "        \n",
    "        self.grad_clip  = grad_clip\n",
    "        # Run each sequence step through the RNN with tf.nn.dynamic_rnn \n",
    "        outputs, state = tf.nn.dynamic_rnn(cell,x_one_hot,initial_state=self.initial_state)\n",
    "        self.final_state = state\n",
    "        \n",
    "        # Get softmax predictions and logits\n",
    "        self.prediction, self.logits = build_output(outputs,lstm_size,num_classes)\n",
    "        \n",
    "        # Loss and optimizer (with gradient clipping)\n",
    "        self.loss =  build_loss(self.logits,self.targets,lstm_size,num_classes)\n",
    "        self.optimizer = build_optimizer(self.loss,learning_rate,grad_clip,self.global_step_tensor)"
   ]
  },
  {
   "cell_type": "markdown",
   "metadata": {},
   "source": [
    "## Hyperparameters\n",
    "\n",
    "Here are the hyperparameters for the network.\n",
    "\n",
    "* `batch_size` - Number of sequences running through the network in one pass.\n",
    "* `num_steps` - Number of characters in the sequence the network is trained on. Larger is better typically, the network will learn more long range dependencies. But it takes longer to train. 100 is typically a good number here.\n",
    "* `lstm_size` - The number of units in the hidden layers.\n",
    "* `num_layers` - Number of hidden LSTM layers to use\n",
    "* `learning_rate` - Learning rate for training\n",
    "* `keep_prob` - The dropout keep probability when training. If you're network is overfitting, try decreasing this.\n",
    "\n",
    "Here's some good advice from Andrej Karpathy on training the network:. \n",
    "\n",
    "> ## Tips and Tricks\n",
    "\n",
    ">### Monitoring Validation Loss vs. Training Loss\n",
    ">If you're somewhat new to Machine Learning or Neural Networks it can take a bit of expertise to get good models. The most important quantity to keep track of is the difference between your training loss (printed during training) and the validation loss (printed once in a while when the RNN is run on the validation data (by default every 1000 iterations)). In particular:\n",
    "\n",
    "> - If your training loss is much lower than validation loss then this means the network might be **overfitting**. Solutions to this are to decrease your network size, or to increase dropout. For example you could try dropout of 0.5 and so on.\n",
    "> - If your training/validation loss are about equal then your model is **underfitting**. Increase the size of your model (either number of layers or the raw number of neurons per layer)\n",
    "\n",
    "> ### Approximate number of parameters\n",
    "\n",
    "> The two most important parameters that control the model are `lstm_size` and `num_layers`. I would advise that you always use `num_layers` of either 2/3. The `lstm_size` can be adjusted based on how much data you have. The two important quantities to keep track of here are:\n",
    "\n",
    "> - The number of parameters in your model. This is printed when you start training.\n",
    "> - The size of your dataset. 1MB file is approximately 1 million characters.\n",
    "\n",
    ">These two should be about the same order of magnitude. It's a little tricky to tell. Here are some examples:\n",
    "\n",
    "> - I have a 100MB dataset and I'm using the default parameter settings (which currently print 150K parameters). My data size is significantly larger (100 mil >> 0.15 mil), so I expect to heavily underfit. I am thinking I can comfortably afford to make `lstm_size` larger.\n",
    "> - I have a 10MB dataset and running a 10 million parameter model. I'm slightly nervous and I'm carefully monitoring my validation loss. If it's larger than my training loss then I may want to try to increase dropout a bit and see if that helps the validation loss.\n",
    "\n",
    "> ### Best models strategy\n",
    "\n",
    ">The winning strategy to obtaining very good models (if you have the compute time) is to always err on making the network larger (as large as you're willing to wait for it to compute) and then try different dropout values (between 0,1). Whatever model has the best validation performance (the loss, written in the checkpoint filename, low is good) is the one you should use in the end.\n",
    "\n",
    ">It is very common in deep learning to run many different models with many different hyperparameter settings, and in the end take whatever checkpoint gave the best validation performance.\n",
    "\n",
    ">By the way, the size of your training and validation splits are also parameters. Make sure you have a decent amount of data in your validation set or otherwise the validation performance will be noisy and not very informative."
   ]
  },
  {
   "cell_type": "code",
   "execution_count": 27,
   "metadata": {
    "collapsed": true
   },
   "outputs": [],
   "source": [
    "def get_number_of_parameters():\n",
    "    total_parameters = 0\n",
    "    for variable in tf.trainable_variables():\n",
    "        shape = variable.get_shape()\n",
    "        #print(shape)\n",
    "        #print(len(shape))\n",
    "        variable_parameters = 1\n",
    "        \n",
    "        for dim in shape:\n",
    "            #print(dim)\n",
    "            variable_parameters*=dim.value\n",
    "        #print(variable_parameters)\n",
    "        total_parameters+= variable_parameters\n",
    "    return total_parameters"
   ]
  },
  {
   "cell_type": "code",
   "execution_count": 28,
   "metadata": {
    "collapsed": true
   },
   "outputs": [],
   "source": [
    "def pick_top_n(preds, vocab_size, top_n=5):\n",
    "    p = np.squeeze(preds)\n",
    "    p[np.argsort(p)[:-top_n]] = 0\n",
    "    p = p / np.sum(p)\n",
    "    c = np.random.choice(vocab_size, 1, p=p)[0]\n",
    "    return c"
   ]
  },
  {
   "cell_type": "markdown",
   "metadata": {},
   "source": [
    "## Time for training\n",
    "\n",
    "This is typical training code, passing inputs and targets into the network, then running the optimizer. Here we also get back the final LSTM state for the mini-batch. Then, we pass that state back into the network so the next batch can continue the state from the previous batch. And every so often (set by `save_every_n`) I save a checkpoint.\n",
    "\n",
    "Here I'm saving checkpoints with the format\n",
    "\n",
    "`i{iteration number}_l{# hidden layer units}.ckpt`\n"
   ]
  },
  {
   "cell_type": "code",
   "execution_count": 29,
   "metadata": {
    "collapsed": true
   },
   "outputs": [],
   "source": [
    "losses = {\"train\":[],\"validation\":[]}\n",
    "x_steps = list()"
   ]
  },
  {
   "cell_type": "code",
   "execution_count": 40,
   "metadata": {},
   "outputs": [
    {
     "name": "stdout",
     "output_type": "stream",
     "text": [
      "Training starting at time: 2017-10-16 01:22:41\n",
      "Number of parameters: 3411046 Dataset size: 2563420\n",
      "INFO:tensorflow:Restoring parameters from checkpoints/mcharacters_i4005_l512.ckpt\n",
      "Epoch: 1/15...  Training Step: 4006...  Training loss: 1.3181...  Val loss: 1.5247...  0.1758 sec/batch\n",
      "Epoch: 1/15...  Training Step: 4106...  Training loss: 1.3138...  Val loss: 1.4788...  0.1265 sec/batch\n",
      "Epoch: 1/15...  Training Step: 4206...  Training loss: 1.2997...  Val loss: 1.4849...  0.1264 sec/batch\n",
      "Epoch: 2/15...  Training Step: 4306...  Training loss: 1.2443...  Val loss: 1.4872...  0.1269 sec/batch\n",
      "Epoch: 2/15...  Training Step: 4406...  Training loss: 1.2662...  Val loss: 1.4826...  0.1270 sec/batch\n",
      "Epoch: 2/15...  Training Step: 4506...  Training loss: 1.3008...  Val loss: 1.4861...  0.1273 sec/batch\n",
      "Epoch: 3/15...  Training Step: 4606...  Training loss: 1.2764...  Val loss: 1.4783...  0.1269 sec/batch\n",
      "Epoch: 3/15...  Training Step: 4706...  Training loss: 1.2361...  Val loss: 1.4801...  0.1272 sec/batch\n",
      "Epoch: 3/15...  Training Step: 4806...  Training loss: 1.2928...  Val loss: 1.4875...  0.1284 sec/batch\n",
      "Epoch: 4/15...  Training Step: 4906...  Training loss: 1.2547...  Val loss: 1.4888...  0.1280 sec/batch\n",
      "Epoch: 4/15...  Training Step: 5006...  Training loss: 1.2540...  Val loss: 1.4862...  0.1276 sec/batch\n",
      "Epoch: 5/15...  Training Step: 5106...  Training loss: 1.2387...  Val loss: 1.4816...  0.1290 sec/batch\n",
      "Epoch: 5/15...  Training Step: 5206...  Training loss: 1.2343...  Val loss: 1.4885...  0.1276 sec/batch\n",
      "Epoch: 5/15...  Training Step: 5306...  Training loss: 1.2679...  Val loss: 1.4850...  0.1275 sec/batch\n",
      "Epoch: 6/15...  Training Step: 5406...  Training loss: 1.2557...  Val loss: 1.4787...  0.1283 sec/batch\n",
      "Epoch: 6/15...  Training Step: 5506...  Training loss: 1.2513...  Val loss: 1.4813...  0.1283 sec/batch\n",
      "Epoch: 6/15...  Training Step: 5606...  Training loss: 1.2643...  Val loss: 1.4819...  0.1277 sec/batch\n",
      "Epoch: 7/15...  Training Step: 5706...  Training loss: 1.2602...  Val loss: 1.4932...  0.1278 sec/batch\n",
      "Epoch: 7/15...  Training Step: 5806...  Training loss: 1.2227...  Val loss: 1.4848...  0.1281 sec/batch\n",
      "Epoch: 8/15...  Training Step: 5906...  Training loss: 1.2389...  Val loss: 1.4881...  0.1278 sec/batch\n",
      "Epoch: 8/15...  Training Step: 6006...  Training loss: 1.2431...  Val loss: 1.4865...  0.1280 sec/batch\n",
      "Epoch: 8/15...  Training Step: 6106...  Training loss: 1.2539...  Val loss: 1.4847...  0.1283 sec/batch\n",
      "Epoch: 9/15...  Training Step: 6206...  Training loss: 1.2457...  Val loss: 1.4955...  0.1278 sec/batch\n",
      "Epoch: 9/15...  Training Step: 6306...  Training loss: 1.2392...  Val loss: 1.4859...  0.1281 sec/batch\n",
      "Epoch: 9/15...  Training Step: 6406...  Training loss: 1.2369...  Val loss: 1.4854...  0.1280 sec/batch\n",
      "Epoch: 10/15...  Training Step: 6506...  Training loss: 1.2334...  Val loss: 1.4920...  0.1278 sec/batch\n",
      "Epoch: 10/15...  Training Step: 6606...  Training loss: 1.2350...  Val loss: 1.4920...  0.1278 sec/batch\n",
      "Epoch 10/15 time:34.59162521362305...  finished at 2017-10-16 01:28:25\n",
      "Epoch: 11/15...  Training Step: 6706...  Training loss: 1.2393...  Val loss: 1.4884...  0.1281 sec/batch\n",
      "Epoch: 11/15...  Training Step: 6806...  Training loss: 1.2352...  Val loss: 1.5031...  0.1281 sec/batch\n",
      "Epoch: 11/15...  Training Step: 6906...  Training loss: 1.2252...  Val loss: 1.4891...  0.1287 sec/batch\n",
      "Epoch: 12/15...  Training Step: 7006...  Training loss: 1.2436...  Val loss: 1.5003...  0.1287 sec/batch\n",
      "Epoch: 12/15...  Training Step: 7106...  Training loss: 1.2155...  Val loss: 1.4902...  0.1281 sec/batch\n",
      "Epoch: 12/15...  Training Step: 7206...  Training loss: 1.2254...  Val loss: 1.4950...  0.1277 sec/batch\n",
      "Epoch: 13/15...  Training Step: 7306...  Training loss: 1.2417...  Val loss: 1.4879...  0.1281 sec/batch\n",
      "Epoch: 13/15...  Training Step: 7406...  Training loss: 1.2550...  Val loss: 1.4927...  0.1281 sec/batch\n",
      "Epoch: 14/15...  Training Step: 7506...  Training loss: 1.2378...  Val loss: 1.4880...  0.1279 sec/batch\n",
      "Epoch: 14/15...  Training Step: 7606...  Training loss: 1.2125...  Val loss: 1.4902...  0.1285 sec/batch\n",
      "Epoch: 14/15...  Training Step: 7706...  Training loss: 1.2410...  Val loss: 1.4946...  0.1294 sec/batch\n",
      "Epoch: 15/15...  Training Step: 7806...  Training loss: 1.2090...  Val loss: 1.5019...  0.1342 sec/batch\n",
      "Epoch: 15/15...  Training Step: 7906...  Training loss: 1.2338...  Val loss: 1.5042...  0.1278 sec/batch\n",
      "Epoch: 15/15...  Training Step: 8006...  Training loss: 1.2087...  Val loss: 1.4944...  0.1276 sec/batch\n",
      "Training ending at time: 2017-10-16 01:31:19\n",
      "Trainint total time: 517.9772381782532\n"
     ]
    }
   ],
   "source": [
    "#epochs = 1\n",
    "# Save every N iterations\n",
    "save_every_n = 500\n",
    "print_loss_every_n = 100\n",
    "sample_every = 500\n",
    "print_epoch_time_every = 10\n",
    "\n",
    "with tf.device(\"/gpu:0\"):\n",
    "    model = CharRNN(len(vocab), batch_size=batch_size, num_steps=num_steps,\n",
    "                lstm_size=lstm_size, num_layers=num_layers, \n",
    "                learning_rate=learning_rate)\n",
    "    #print(\"after model\")\n",
    "\n",
    "saver = tf.train.Saver(max_to_keep=5)\n",
    "print(\"Training starting at time:\",strftime(\"%Y-%m-%d %H:%M:%S\", localtime()))\n",
    "train_start_time = time.time()\n",
    "with tf.Session() as sess:\n",
    "    sess.run(tf.global_variables_initializer())\n",
    "    print(\"Number of parameters:\",get_number_of_parameters(),\"Dataset size:\",len(encoded))\n",
    "    #print(\"after initializer\")\n",
    "    if resume_from_checkpoint:\n",
    "        latest_checkpoint = tf.train.latest_checkpoint('checkpoints')\n",
    "        saver.restore(sess, latest_checkpoint)\n",
    "    counter = 0\n",
    "    for e in range(epochs):\n",
    "        # Train network\n",
    "        epoch_start = time.time()\n",
    "        \n",
    "        new_state = sess.run(model.initial_state)\n",
    "        loss = 0\n",
    "        for x, y in get_batches(encoded, batch_size, num_steps):\n",
    "            \n",
    "            \n",
    "            start = time.time()\n",
    "            feed = {model.inputs: x,\n",
    "                    model.targets: y,\n",
    "                    model.keep_prob: keep_prob,\n",
    "                    model.initial_state: new_state}\n",
    "            batch_loss, new_state, _ = sess.run([model.loss, \n",
    "                                                 model.final_state, \n",
    "                                                 model.optimizer], \n",
    "                                                 feed_dict=feed)\n",
    "        \n",
    "            \n",
    "            end = time.time()\n",
    "            if counter%print_loss_every_n == 0:\n",
    "                val_batches = get_batches(encoded_val,int(len(encoded_val)/num_steps),num_steps)\n",
    "                x_val,y_val = next(val_batches)\n",
    "                \n",
    "                val_dict = {model.inputs: x_val,\n",
    "                            model.targets: y_val,\n",
    "                            model.keep_prob: 1,\n",
    "                            model.initial_state: new_state}\n",
    "                \n",
    "                val_loss,prediction = sess.run([model.loss,model.prediction],feed_dict=val_dict)\n",
    "                \n",
    "                losses[\"train\"].append(batch_loss)\n",
    "                losses[\"validation\"].append(val_loss)\n",
    "                \n",
    "                \n",
    "                global_step = tf.train.global_step(sess,model.global_step_tensor)\n",
    "                x_steps.append(global_step)\n",
    "                \n",
    "                print('Epoch: {}/{}... '.format(e+1, epochs),\n",
    "                      'Training Step: {}... '.format(global_step),\n",
    "                      'Training loss: {:.4f}... '.format(batch_loss),\n",
    "                      'Val loss: {:.4f}... '.format(val_loss),\n",
    "                      '{:.4f} sec/batch'.format((end-start)))\n",
    "        \n",
    "            if (counter % save_every_n == 0):\n",
    "                global_step = tf.train.global_step(sess,model.global_step_tensor)\n",
    "                saver.save(sess, \"checkpoints/m{}_i{}_l{}.ckpt\".format(mode,global_step, lstm_size))\n",
    "                \n",
    "            counter += 1\n",
    "            #learning_rate*=0.75\n",
    "            #model.optimizer = build_optimizer(model.loss,learning_rate,model.grad_clip,model.global_step_tensor)\n",
    "        \n",
    "        epoch_end = time.time()\n",
    "        \n",
    "        \n",
    "        if ((e+1) % print_epoch_time_every== 0):\n",
    "            print('Epoch {}/{} time:{}...'.format(e+1,epochs,epoch_end-epoch_start),\n",
    "                 \" finished at\",strftime(\"%Y-%m-%d %H:%M:%S\", localtime()))\n",
    "        \n",
    "            \n",
    "    global_step = tf.train.global_step(sess,model.global_step_tensor)\n",
    "    saver.save(sess, \"checkpoints/m{}_i{}_l{}.ckpt\".format(mode,global_step, lstm_size))\n",
    "    \n",
    "print(\"Training ending at time:\",strftime(\"%Y-%m-%d %H:%M:%S\", localtime()))\n",
    "print(\"Trainint total time:\",time.time()-train_start_time)"
   ]
  },
  {
   "cell_type": "code",
   "execution_count": 41,
   "metadata": {},
   "outputs": [
    {
     "data": {
      "image/png": "[encoded data removed]",
      "text/plain": [
       "<matplotlib.figure.Figure at 0x7f38946b1ef0>"
      ]
     },
     "metadata": {
      "image/png": {
       "height": 250,
       "width": 373
      }
     },
     "output_type": "display_data"
    }
   ],
   "source": [
    "plt.plot(x_steps,losses[\"train\"],label=\"Train loss\")\n",
    "plt.plot(x_steps,losses[\"validation\"],label=\"Validation loss\")\n",
    "plt.legend()\n",
    "_ = plt.ylim()"
   ]
  },
  {
   "cell_type": "markdown",
   "metadata": {},
   "source": [
    "#### Saved checkpoints\n",
    "\n",
    "Read up on saving and loading checkpoints here: https://www.tensorflow.org/programmers_guide/variables"
   ]
  },
  {
   "cell_type": "code",
   "execution_count": 42,
   "metadata": {
    "collapsed": true
   },
   "outputs": [],
   "source": [
    "checkpoints = tf.train.get_checkpoint_state('checkpoints')"
   ]
  },
  {
   "cell_type": "markdown",
   "metadata": {},
   "source": [
    "## Sampling final trained model\n",
    "\n",
    "Now that the network is trained, we'll can use it to generate new text. The idea is that we pass in a character, then the network will predict the next character. We can use the new one, to predict the next one. And we keep doing this to generate all new text. I also included some functionality to prime the network with some text by passing in a string and building up a state from that.\n",
    "\n",
    "The network gives us predictions for each character. To reduce noise and make things a little less random, I'm going to only choose a new character from the top N most likely characters.\n",
    "\n"
   ]
  },
  {
   "cell_type": "code",
   "execution_count": 43,
   "metadata": {
    "collapsed": true
   },
   "outputs": [],
   "source": [
    "def sample(checkpoint, n_samples, lstm_size, vocab_size, prime=\"The \",mode=\"characters\"):\n",
    "    print(mode)\n",
    "    samples = tokenize_text(prime,mode)\n",
    "    model = CharRNN(len(vocab), lstm_size=lstm_size, sampling=True)\n",
    "    saver = tf.train.Saver()\n",
    "    with tf.Session() as sess:\n",
    "        saver.restore(sess, checkpoint)\n",
    "        new_state = sess.run(model.initial_state)\n",
    "        for c in tokenize_text(prime,mode):\n",
    "            x = np.zeros((1, 1))\n",
    "            x[0,0] = vocab_to_int[c]\n",
    "            feed = {model.inputs: x,\n",
    "                    model.keep_prob: 1.,\n",
    "                    model.initial_state: new_state}\n",
    "            preds, new_state = sess.run([model.prediction, model.final_state], \n",
    "                                         feed_dict=feed)\n",
    "\n",
    "        c = pick_top_n(preds, len(vocab))\n",
    "        samples.append(int_to_vocab[c])\n",
    "\n",
    "        for i in range(n_samples):\n",
    "            x[0,0] = c\n",
    "            feed = {model.inputs: x,\n",
    "                    model.keep_prob: 1.,\n",
    "                    model.initial_state: new_state}\n",
    "            preds, new_state = sess.run([model.prediction, model.final_state], \n",
    "                                         feed_dict=feed)\n",
    "\n",
    "            c = pick_top_n(preds, len(vocab))\n",
    "            samples.append(int_to_vocab[c])\n",
    "        \n",
    "    return ''.join(samples).replace(\"new_line_token\",\"\\n\")"
   ]
  },
  {
   "cell_type": "markdown",
   "metadata": {},
   "source": [
    "Here, pass in the path to a checkpoint and sample from the network."
   ]
  },
  {
   "cell_type": "code",
   "execution_count": 44,
   "metadata": {},
   "outputs": [
    {
     "data": {
      "text/plain": [
       "'checkpoints/mcharacters_i8010_l512.ckpt'"
      ]
     },
     "execution_count": 44,
     "metadata": {},
     "output_type": "execute_result"
    }
   ],
   "source": [
    "tf.train.latest_checkpoint('checkpoints')"
   ]
  },
  {
   "cell_type": "markdown",
   "metadata": {},
   "source": [
    "## Generate new text from \"base\" text"
   ]
  },
  {
   "cell_type": "code",
   "execution_count": 45,
   "metadata": {},
   "outputs": [
    {
     "name": "stdout",
     "output_type": "stream",
     "text": [
      "characters\n",
      "INFO:tensorflow:Restoring parameters from checkpoints/mcharacters_i8010_l512.ckpt\n",
      "characters\n",
      "INFO:tensorflow:Restoring parameters from checkpoints/mcharacters_i8010_l512.ckpt\n",
      "characters\n",
      "INFO:tensorflow:Restoring parameters from checkpoints/mcharacters_i8010_l512.ckpt\n",
      "characters\n",
      "INFO:tensorflow:Restoring parameters from checkpoints/mcharacters_i8010_l512.ckpt\n",
      "characters\n",
      "INFO:tensorflow:Restoring parameters from checkpoints/mcharacters_i8010_l512.ckpt\n",
      "characters\n",
      "INFO:tensorflow:Restoring parameters from checkpoints/mcharacters_i8010_l512.ckpt\n",
      "characters\n",
      "INFO:tensorflow:Restoring parameters from checkpoints/mcharacters_i8010_l512.ckpt\n",
      "characters\n",
      "INFO:tensorflow:Restoring parameters from checkpoints/mcharacters_i8010_l512.ckpt\n",
      "characters\n",
      "INFO:tensorflow:Restoring parameters from checkpoints/mcharacters_i8010_l512.ckpt\n",
      "characters\n",
      "INFO:tensorflow:Restoring parameters from checkpoints/mcharacters_i8010_l512.ckpt\n",
      "characters\n",
      "INFO:tensorflow:Restoring parameters from checkpoints/mcharacters_i8010_l512.ckpt\n",
      "characters\n",
      "INFO:tensorflow:Restoring parameters from checkpoints/mcharacters_i8010_l512.ckpt\n",
      "characters\n",
      "INFO:tensorflow:Restoring parameters from checkpoints/mcharacters_i8010_l512.ckpt\n",
      "characters\n",
      "INFO:tensorflow:Restoring parameters from checkpoints/mcharacters_i8010_l512.ckpt\n",
      "characters\n",
      "INFO:tensorflow:Restoring parameters from checkpoints/mcharacters_i8010_l512.ckpt\n",
      "characters\n",
      "INFO:tensorflow:Restoring parameters from checkpoints/mcharacters_i8010_l512.ckpt\n"
     ]
    }
   ],
   "source": [
    "\n",
    "checkpoint = tf.train.latest_checkpoint('checkpoints')\n",
    "\n",
    "\n",
    "samples = list()\n",
    "for text in text_to_try:\n",
    "    #print(\"------------------------\",text)\n",
    "    samples.append( sample(checkpoint, 500, lstm_size, len(vocab), prime=text,mode=mode))\n",
    "    #print(samp)\n",
    "    #print(\"------------------------\")"
   ]
  },
  {
   "cell_type": "code",
   "execution_count": 46,
   "metadata": {},
   "outputs": [
    {
     "name": "stdout",
     "output_type": "stream",
     "text": [
      "------------------------ In the first place\n",
      "In the first place of the senses from her columns and the cliffs and then that I was now the\n",
      "crawling seatorities as shortly-double, there was a corde of those which\n",
      "was the missing of the cabin. In orriparals of my mind were the shortest and prepareance,\n",
      "and we could scrood of\n",
      "with the\n",
      "crepathoen was still as a child once in a shallow who drew from the perilous cases of such ascended with the\n",
      "professarguis witnesses of their sea-carcauent and frenzied sing-prets observation\n",
      "of the moon was\n",
      "almost, and we were so \n",
      "------------------------\n",
      "------------------------ the night before\n",
      "the night before they were always intone. There is something\n",
      "of the playes. And now, as it seemed that the masquerade wall to distinguish isour to be such as included, if the main sensations of the direction. They, it strode, as if ye had took me in truiture what was take thoroughly discourages in that plenting more and images. That is the material were sounded and done at the floor, obviously, and then there were night of the second with, without them. His first supper circle and discovered it to the countenanc\n",
      "------------------------\n",
      "------------------------ horror\n",
      "horror how commenced him. I was absonce to the mountains the mouth wherein he wondered at a mingled bencle the chimney. He should never seek out of the streets had been through, and seemed so, as if the sense and most, walls as a most of the presence of the mental strength, thin times with the soul for silence, the sacrifices the passage, which had supporing, but the secrecy, he was to telp them. They had not too my fingers on totch that is to satisfying, and which, as I have no doubt there concluded, \n",
      "------------------------\n",
      "------------------------ creature\n",
      "creature\n",
      "in species to the confisting common\n",
      "rumoy countresser is an all those three of her strong repeated coloun that soon chained through\n",
      "the rooms on the countryside of the chasms the cargo, and which seemed to receive the floor, and there was the madness and when, where the memory of my chamber spectral instruction than three or twentied menace to the same to see whose face, I had no large clothes about the chai sigh the crowned world and\n",
      "crimitian of seventy feet of mingled wind and wonder would re\n",
      "------------------------\n",
      "------------------------ night\n",
      "night torches in the drear of silkngor.\n",
      "     This wound hermit an incipied them and all the secret of the tasting outside. A flee and then that I had seen that I had taken the path as a cheeks at secretive to began to cross this cast, and was sure that we could not have been this it was not burial-paitification, and the farther arched secutities was to doubt that they words although I say way,\" said, \"degree in the mate having deep and merely a proper towers of accursed charnal sources, with the more \n",
      "------------------------\n",
      "------------------------ dream\n",
      "dreams of things, and the sterm as it could see any partiers of the masonry with him in a characteries, all over the mild mumman are superiority which must have been called alive at the towers they are at last, then there comprohortest and sometyles had composed into the cryptic increases in the dreaded and mouth of the community, and when they were true.\n",
      "\n",
      "    It is nothing of stone by the ships of\n",
      "the cry to the cargo or part, at the two men which, a mont men at him. We\n",
      "crigdled as to be remained by \n",
      "------------------------\n",
      "------------------------ thing\n",
      "thing or through seven sea-back with me to believe. While suck at about him did not recover me that I must be a gardens the same moments of\n",
      "the creatures and myth at the table would be moderately as if the carvings of accident one, we are taken into the first place. The frenzied access and shrine of marked whose detestable race of the prodigious secret world of the party to be at once. Any of his feeling of the statues and silently rushed forth in the mouth of\n",
      "these sight. I shall shall, along the con\n",
      "------------------------\n",
      "------------------------ That night\n",
      "That night this shrewd secure in the diabolay.\n",
      "\n",
      "\"What would call the flee had been seen the memory of the stunning attraction and silent ship first than when the familiar. It may be trained the creeping which I was stored.\n",
      "\n",
      "\"Yes. It was this it wished through the days, and the principal stanting sersetfold with the same pass which they had been at length, and so about ton my own, and I had take in an appare that had that the cords of the top were sufficiently able to coming and run indication. As in a cert\n",
      "------------------------\n",
      "------------------------ mountain\n",
      "mountains of modern worlds and traversed. The fourther- this circumstances of the merciful organisms towards, in this singular repulsing to the strange spicular acres at my ears opioices in a cargo of thoughts and past which was shifting on ancient probably the stench at this streets.\n",
      "     I had been disaved and solved to be disappointed by a period at the matter on occultism to the breathing and means of matter of the merciful attitude of the matter and animal wored, that was termination, waited and rep\n",
      "------------------------\n",
      "------------------------ Ammi\n",
      "Ammi wakes in and the collar of his second with the mouth of time, as they was\n",
      "a person found at that marvel of the chains.\n",
      "   \n",
      " There were all our situation.\n",
      "\n",
      "And now to be rustion to the most\n",
      "reaches for more proper aim to say, and somewhat moments, without trim into the spots, by the solution of a few spiritual matter, to my secondary posifirances. It must have tall of the familiar search, with a blue, at the friends of the stone silly ones.\n",
      "     “Yes, I am already made in twistic at this peace to\n",
      "------------------------\n",
      "------------------------ Cthulhu\n",
      "Cthulhul-she who had sufficiently alive. There were a secondary street, he decaded alike to the\n",
      "wine, and at last to start that the sea was the precise and marine countenance of\n",
      "their sheer roaring with its burrowing frequency and disturbing an accursed curiously all that that the cable was tall a second the pain of dreams and troubled and a coloone walks, two harm in the same and preserved by the side of the chain of a balloon. That wounds of the discordinne sense of memory of the claim, we had been sh\n",
      "------------------------\n",
      "------------------------ raven\n",
      "ravenish that I had now term a farther emphares and the steep speculation altogether than a few seated spectration there was nothing above the middle of the dark place in the seven sea words on the direction. And then, with the statement to the shouts of ten or two of the secondary parchment interesting themselves, and that he had been concealed their fancy; and it was the conclusion of his proposios were all marked and taken. The shore in the mere secret of the\n",
      "boat of the side. This man had, he\n",
      "said\n",
      "------------------------\n",
      "------------------------ bird\n",
      "bird please.\n",
      "     About two, and we were in return and trained the primal minds of the story of this streams of simplic altitude of any ordinary article of more. This thing to be seen, as I did in the distant production was in subricious and farther individuaition. It was in some obscure care. There were the particular part, together as the ship at\n",
      "once the blessing of that city and struggled about him; and his sense of difficulty to analytim off and theivy intellect, and if we rode on him.' I at lea\n",
      "------------------------\n",
      "------------------------ nevermore\n",
      "nevermore with\n",
      "a fair speculation.\n",
      "\n",
      "    We arrives had been at all, all at once to the dead blight. I stared him at the bandage and strengthen to make his clothing, to a story above her steps which had been sufficiently abnormalities into the business of the company attendants as well, the most difficulties would be madness immi walls and conviction to the frog. I say a shot of some of those windowless pentum with a perfect dark seculing countenance on the music of the safety, and watched it witnitude, wi\n",
      "------------------------\n",
      "------------------------ dead\n",
      "dead,\n",
      "it will seem the mad complete torch in my mind too strong terrified a significance in world were in the southering motion of\n",
      "the particulars was it that temperature;\n",
      "and this they are thought it were in animal.\n",
      "     It carefully still help thatches of the power of the clear sculptures of tapietity. These sound on the termination on ten or three mysting of the mouth about this monstrous and far titan creakin’s folks all they must be the south was in the following men and disgropes and person and\n",
      "------------------------\n",
      "------------------------ The bird\n",
      "The bird of things were immediately, with something at a seat when about the prodigious character of that corpse in a desire to specified this boat which he had not so chamber and appreheming for them, and they walk a forest, they came and tell of the crack, and sometimes farther through the properties of the sound of son' inconceivable all the tops of short, and the corpse are friends, it was not a dead and towered above the brea that I heerness as if the corpse of the strange sea strong if he concerned\n",
      "------------------------\n"
     ]
    }
   ],
   "source": [
    "for i in range(len(text_to_try)):\n",
    "    text = text_to_try[i]\n",
    "    generated = samples[i]\n",
    "    print(\"------------------------\",text)\n",
    "    print(generated)\n",
    "    print(\"------------------------\")"
   ]
  },
  {
   "cell_type": "code",
   "execution_count": 47,
   "metadata": {},
   "outputs": [
    {
     "data": {
      "text/plain": [
       "model_checkpoint_path: \"checkpoints/mcharacters_i8010_l512.ckpt\"\n",
       "all_model_checkpoint_paths: \"checkpoints/mcharacters_i6506_l512.ckpt\"\n",
       "all_model_checkpoint_paths: \"checkpoints/mcharacters_i7006_l512.ckpt\"\n",
       "all_model_checkpoint_paths: \"checkpoints/mcharacters_i7506_l512.ckpt\"\n",
       "all_model_checkpoint_paths: \"checkpoints/mcharacters_i8006_l512.ckpt\"\n",
       "all_model_checkpoint_paths: \"checkpoints/mcharacters_i8010_l512.ckpt\""
      ]
     },
     "execution_count": 47,
     "metadata": {},
     "output_type": "execute_result"
    }
   ],
   "source": [
    "tf.train.get_checkpoint_state('checkpoints')"
   ]
  },
  {
   "cell_type": "code",
   "execution_count": 48,
   "metadata": {},
   "outputs": [
    {
     "name": "stdout",
     "output_type": "stream",
     "text": [
      "characters\n",
      "INFO:tensorflow:Restoring parameters from checkpoints/mcharacters_i8010_l512.ckpt\n",
      "The old folk have gone away from the parties of the corridors.\n",
      "\n",
      "And it would not be some the past trunkages, we were an excellent persons with the press of the creatures he could need to be than feelings at the blood of the chief one,\n",
      "and want of my obscurn strength, we had, thus a few months are threw down and bad tall that I could see the peculiar specimens are about the contrary with accursed. It was tallical months. Have a matter\n",
      "down the stars a confirmation, and a large\n",
      "spires, sealed on them, all of the dark stone whipped their significance on the dark with his body, and the dreads, at length what they was success over the monolution of the contemporary objects of the shore of those of the state, and as the sole cheeks, and his father and the sea seem at about four top of the stars and thinner with a series of the presence of maturity which there was no series of search as seen that would not be telephoning to the beginnin’ a travel in a count of the time. When all about this paw and alies, a moment, as I thought it steed at least of her whispering sense of mine. At length he was a good\n",
      "dead and always to her secondary part of the madness of the more.\" Ammi contric to which it had been a great carvings of the crag. As it was to the business—within the same personal pitiful arm had a species of manifest abysmal arranging these things at least a firm of the past one of\n",
      "the sentiment, and when a store. The forenain-stare that would be a sense of such a tensible day, and the ships were indeed a conton opinition and dreamed words, and sometoms of anything of all the manner of the pressure of the mercifue of this propersy of a than a farmhoust. It was taking a perception of her spite of the case would be of a connecting an early remarks were as they could be something to be someher as a start. All the chief, but it will\n",
      "be sent into the principle in the sea, which the door.\"\n",
      "\n",
      "\"I am now shall have the let mention here to do so, the most of my company of the pass about third. And after this was the mutineer and shreaking than time will now telephone to the cult. At all to be a significant carvings of the chosphers, although the stories of the thoughts, and his change on temporary dark. I saw that the meantime, we found in my colloquiation of the state of the most reminisharg, and took the black stone stories and stark first thought, and\n",
      "we containy; and all over, thrown were an arrangement and servised at the bank to the straight construction of the dirgest.\n",
      "\n",
      "    A fever of the strange danging armed so to the curation of those speciest specimen. I could, too, he said to admit, as I could not hold abound strange and somewhat to the first of the corner and privary, and that they all tell that I was a partial odour was thrilling fragment of a sharp into one of the case of the monstross and means of superintending him and fathoms alive. And was absent than there wasnd to me became a shadows of a menacity.\n",
      "     “Tignum impusion was such to see if they were not although first step for the sea or twenty fortune in that one or the constitution. In a memorals were solved to have a partition of the carginaries which had been all the way the comperaty about a cheeks were anticipated.\n",
      "\n",
      "And then had taken awaked me that I might say those all this trues of the mutineers aboundance, a second, wherein the seven peaks at that secure as the dired mindless and strongly plain.\n",
      "     It was a character of harbour. There was always alluded to the crawning we had all the carved ships. Then, when he went to see all man and myself in his sunset collegg or circular tense or fifty feeling fright. He was to be deceptibly before three dreams of the prinabilities. This was then shockinglish, therefore in a sending things that we had seen as the seven speak of made things. Terminated men.\n",
      "     On these were not sure that it was in their clear in their hours and the consultation of this sort of crawling of the corridors. Work and assured the clear of subsequent stones of men and the conference that I could not be defecade and serf and believed those topics, and when he would not be sure we had a shinical corridor which they had a madmen worshipped to the study of a dark shettere hurtless star-light. I did so as to be dead to telling one of the discoveries above the whole of a state of the place of a madmority; ancient and the dreams of the problem is never to decide. The corner of a mile, and shone at this meridee on acception, were alive to see him to mine that which he did so an obvious thing, a secrecy informed of the crumeness in which\n",
      "those time in a shape turned and reached the particular insidious chief sight of my previous practicarity, wide man had not simplying the ship. I was too leaped a perforce was a probable attempts to the bottom of the stone brown fleeing onyx past a dreaded character to an end of the dreary, and threw him as that is to break a sentiment of their mouth from the same presence in the care that I discovered the contrivan spot had been a \n"
     ]
    }
   ],
   "source": [
    "generated = sample(checkpoint, 5000, lstm_size, len(vocab), prime=\"The old folk have gone away\",mode=mode)\n",
    "print(generated)"
   ]
  },
  {
   "cell_type": "code",
   "execution_count": 49,
   "metadata": {},
   "outputs": [
    {
     "name": "stdout",
     "output_type": "stream",
     "text": [
      "characters\n",
      "INFO:tensorflow:Restoring parameters from checkpoints/mcharacters_i8010_l512.ckpt\n",
      "The thing that should not be some moments of all the chills of the shrink of the signafurous space-troubles of shames in the second of a clay in two particles, and seemed this soul was something. It seemed to be a great plant of treatisist of the danger that he had take a struggle of\n",
      "the sound of another singularity and dressing. The seamen this time were stretched and to terrible with the ship and\n",
      "country, with the combination to additional contecting it of the chish of those senses of the three or mineral reminned and frightful circlism, and it would recover, having said that the sea would be more and shrine, that he would never sat at one thing we had so long at the course which had succeeded in the seven mase was a primal stone and ten out that I had seen himself to the morning and accomplish floor, and was an implear interpectation withinstended in histories were new plainly triping. The sense of threw of them.\n",
      "\n",
      "As I arms are applied that the crypt was a more careless specimen of his short depths of mankind, as a moment, as it was soon as it stayed on the regularity, and sold, as if the compleage. The shrubs of thought in the storerous trumpet was strangely and the confined my brown ordinary distance above almost attention of the sound with the place is now because\n",
      "was still to account of half-absolute crowded precise of a farm of the thing which winder through a shock. All the stars, a dream. This tavern was a specicated mounts of ancient sea and consequently the most researcutions that have thinking him it in spite of my parents who had supposed that it had needless, and, that I was allow at the bedstead; since the floor were nor any intricate cheering shapes and drawn on the crown of their apparently present. We always deeply so as they close to the day. There was a lone, which were shuttered the battery. I had access to believe in his cargoer in specimens which shockiness of their side of ten or terrible accidents in the moon. I clambered on back. They attempted to me that I had\n",
      "the monthe was it induced me there were starting the cats, and which may be no means of all infinity, to which the firmanet. I was about to be a carvings, but indeed what thing was the painted security of the sea was now. I started to make the third tents which they saw that the sea which may be made itself. The tentacles with the disperies of the prosperion, and seemed a shape of through the sea, which has succeeded from that struggle to the character of the methods told the steep robes in which this cargo of tentacies of my occasional monorous and men on that of a stroy, we were then to deveath the principal idea of any one of the cloud of sersect, and a second of the countenance. I stripped my heart an opening at this thing of all that I was the past of which the court whether the men fell of almost important pitiable citizens or process was that of waiting its beauties and that of the chasm. Two of the town of all the parts of this particular influences of the\n",
      "prevaniorities and the creature was not, although the frenzued place to a single, and when twenty frantic and accord and seen and the street this. He could he repeately move alienist at the fate was seen. There are the most intense of the clothes-seeken for the steep, ann of the chimney. At the pit of that day, that I have not been chambered in teathen, and\n",
      "a gras foreigner in the contriated stir which there were seen of the chain of detectives of a point. The construction, I sailed in an irors about the case of those west, but there were somewhere in a part of the sea at the same tier of a terrible principal study.\"\n",
      "\n",
      "\"I say that the formula of Augustus and many of the teeth of the country. The same thirty-one seashiad.\n",
      "\n",
      "The start indeed the first time was a matter a pallor. I was absolutely and dared to advance to the chance of such as they have. All this was no doubt, too, that the strong abnormality of this accounts in his conceptration were to takn him. To the police came on, in an approach with the crephomed man in added about thirty musical prime almost-human immeniable level frightedly as if this mineral channees hump soothing of a single chain, and at least in the frame, and sprawated the captive ancient casks abnormal things where he could not hard of madinately thair the place of the crowd of struggness of a marvellous street, with a choking imperious columns of ming. I had so carried back into a single city were seen at sim in all this meat comprofoun of the diamettes were stared and the southward, by anyone that they seemed to be ready to accursed by the shepos. And when headlong those waters they could not be approached the background wouldly bent to the strange passages, and to their houses in the safe then contine to the foot of the people at length stand where the fishes, and when I shall no more. Then, to-digon\" sailors as I do not raise its ascent on their signs that headlond it.\n",
      "\n",
      "\"I was then,\" struck that the matters and a curiosity that we had seen the patient which seemed\n"
     ]
    }
   ],
   "source": [
    "generated = sample(checkpoint, 5000, lstm_size, len(vocab), prime=\"The thing that should not be\",mode=mode)\n",
    "print(generated)"
   ]
  },
  {
   "cell_type": "markdown",
   "metadata": {
    "collapsed": true
   },
   "source": []
  }
 ],
 "metadata": {
  "kernelspec": {
   "display_name": "Python 3",
   "language": "python",
   "name": "python3"
  },
  "language_info": {
   "codemirror_mode": {
    "name": "ipython",
    "version": 3
   },
   "file_extension": ".py",
   "mimetype": "text/x-python",
   "name": "python",
   "nbconvert_exporter": "python",
   "pygments_lexer": "ipython3",
   "version": "3.6.3"
  }
 },
 "nbformat": 4,
 "nbformat_minor": 2
}
