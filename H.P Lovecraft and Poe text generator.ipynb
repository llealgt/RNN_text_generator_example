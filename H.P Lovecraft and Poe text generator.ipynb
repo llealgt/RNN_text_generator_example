{
 "cells": [
  {
   "cell_type": "markdown",
   "metadata": {},
   "source": [
    "# Recurrent neural networks for H.P Lovecraft text generation\n",
    "\n",
    "\"The color out of space\" is one of my favorite tales from Lovecraft, i will use it(as well as others as the call of cthulhu) to create a recurrent neural network in tensorflow that learns his style and generates new text in his style\n",
    "\n",
    "This network is based off of Andrej Karpathy's [post on RNNs](http://karpathy.github.io/2015/05/21/rnn-effectiveness/) and [implementation in Torch](https://github.com/karpathy/char-rnn) and an example from \"Deep Learning Nanodegree\" on udacity. Also, some information [here at r2rt](http://r2rt.com/recurrent-neural-networks-in-tensorflow-ii.html) and from [Sherjil Ozair](https://github.com/sherjilozair/char-rnn-tensorflow) on GitHub. \n",
    "\n",
    "## General architecture using \"Long short term memory\" units in the recurrent layers\n",
    "\n",
    "<img src=\"assets/charseq.jpeg\" width=\"500\">"
   ]
  },
  {
   "cell_type": "code",
   "execution_count": 1,
   "metadata": {
    "collapsed": true
   },
   "outputs": [],
   "source": [
    "%matplotlib inline\n",
    "%config InlineBackend.figure_format = 'retina'"
   ]
  },
  {
   "cell_type": "code",
   "execution_count": 2,
   "metadata": {
    "collapsed": true
   },
   "outputs": [],
   "source": [
    "import time\n",
    "from collections import namedtuple\n",
    "\n",
    "import numpy as np\n",
    "import tensorflow as tf\n",
    "from nltk.tokenize import word_tokenize\n",
    "import nltk\n",
    "import itertools\n",
    "import matplotlib.pyplot as plt"
   ]
  },
  {
   "cell_type": "code",
   "execution_count": 3,
   "metadata": {
    "collapsed": true
   },
   "outputs": [],
   "source": [
    "# Run only the  first time nltk is used to download language\n",
    "#nltk.download()"
   ]
  },
  {
   "cell_type": "markdown",
   "metadata": {},
   "source": [
    "### Define conf variables and hyper parameteters "
   ]
  },
  {
   "cell_type": "code",
   "execution_count": 4,
   "metadata": {
    "collapsed": true
   },
   "outputs": [],
   "source": [
    "mode = \"characters\" #characters or words\n",
    "\n",
    "epochs = 700\n",
    "batch_size = 100         # Sequences per batch\n",
    "num_steps = 250          # Number of sequence steps per batch\n",
    "lstm_size = 300         # Size of hidden layers in LSTMs\n",
    "num_layers = 2          # Number of LSTM layers\n",
    "learning_rate = 0.0001    # Learning rate\n",
    "keep_prob = 0.2         # Dropout keep probability\n",
    "\n",
    "resume_from_checkpoint = False"
   ]
  },
  {
   "cell_type": "markdown",
   "metadata": {},
   "source": [
    "### Define base text\n",
    "Once trained ,the network can take base text and a sequence size and generate new text using base text as first characters in the sequence. For every element in base text wi will create a list that will store generated text as training goes, to be able to compare results between steps"
   ]
  },
  {
   "cell_type": "code",
   "execution_count": 5,
   "metadata": {
    "collapsed": true
   },
   "outputs": [],
   "source": [
    "text_to_try = [\"In the first place\",\"the night before\",\"horror\",\"creature\",\"night\",\"dream\",\"thing\",\"That night\",\"mountain\",\"Ammi\",\"Cthulhu\",\"raven\",\"bird\",\"nevermore\",\"dead\",\"The bird\"]"
   ]
  },
  {
   "cell_type": "markdown",
   "metadata": {},
   "source": [
    "#### Function that separates text into tokens(for whitespace characters, only new line is implemented, missing tabs and others="
   ]
  },
  {
   "cell_type": "code",
   "execution_count": 6,
   "metadata": {},
   "outputs": [
    {
     "data": {
      "text/plain": [
       "['H',\n",
       " 'e',\n",
       " 'l',\n",
       " 'l',\n",
       " 'o',\n",
       " ',',\n",
       " ' ',\n",
       " 'm',\n",
       " 'y',\n",
       " ' ',\n",
       " 'n',\n",
       " 'a',\n",
       " 'm',\n",
       " 'e',\n",
       " ' ',\n",
       " 'i',\n",
       " 's',\n",
       " ' ',\n",
       " 'L',\n",
       " 'u',\n",
       " 'i',\n",
       " 's',\n",
       " ' ',\n",
       " 'L',\n",
       " 'e',\n",
       " 'a',\n",
       " 'l',\n",
       " '!',\n",
       " '\\n',\n",
       " '\\n',\n",
       " 'F',\n",
       " 'r',\n",
       " 'o',\n",
       " 'm',\n",
       " ' ',\n",
       " 'G',\n",
       " 'u',\n",
       " 'a',\n",
       " 't',\n",
       " 'e',\n",
       " 'm',\n",
       " 'a',\n",
       " 'l',\n",
       " 'a']"
      ]
     },
     "execution_count": 6,
     "metadata": {},
     "output_type": "execute_result"
    }
   ],
   "source": [
    "def tokenize_by_words(text):\n",
    "    text = text.replace(\"\\n\",\" new_line_token \")\n",
    "    tokens = []\n",
    "    splitted =[[word_tokenize(w),' ']for w in text.split()]\n",
    "    splitted = list(itertools.chain(*list(itertools.chain(*splitted))))\n",
    "    \n",
    "    token_list = []\n",
    "    i = 0\n",
    "    while i < len(splitted):\n",
    "        if splitted[i] == \"new_line_token\":\n",
    "            if   token_list[-1]==\" \":\n",
    "                token_list[-1] = splitted[i]\n",
    "            else:\n",
    "                token_list.append(splitted[i])\n",
    "            i+=1\n",
    "        else:\n",
    "            token_list.append(splitted[i])\n",
    "        i+=1\n",
    "    \n",
    "    return token_list\n",
    "\n",
    "def tokenize_by_characters(text):\n",
    "    return list(text)\n",
    "\n",
    "def tokenize_text(text,mode=\"characters\"):\n",
    "    if mode == \"characters\":\n",
    "        return tokenize_by_characters(text)\n",
    "    elif mode == \"words\":\n",
    "        return tokenize_by_words(text)\n",
    "    \n",
    "tokenize_text(\"Hello, my name is Luis Leal!\\n\\nFrom Guatemala\",mode)\n",
    "#tokenize_text(\"Hello, my name is Luis Leal!\\n\\nFrom Guatemala\",\"words\")\n"
   ]
  },
  {
   "cell_type": "markdown",
   "metadata": {},
   "source": [
    "First we'll load the text file and convert it into integers for our network to use. Here I'm creating a couple dictionaries to convert the characters to and from integers. Encoding the characters as integers makes it easier to use as input in the network."
   ]
  },
  {
   "cell_type": "code",
   "execution_count": 7,
   "metadata": {
    "collapsed": true
   },
   "outputs": [],
   "source": [
    "with open('colour_out_of_space.txt', 'r') as f:\n",
    "    text=f.read()"
   ]
  },
  {
   "cell_type": "code",
   "execution_count": 8,
   "metadata": {
    "collapsed": true
   },
   "outputs": [],
   "source": [
    "vocab = set(tokenize_text(text,mode))\n",
    "vocab_to_int = {c: i for i, c in enumerate(vocab)}\n",
    "int_to_vocab = dict(enumerate(vocab))"
   ]
  },
  {
   "cell_type": "markdown",
   "metadata": {},
   "source": [
    "### Get a little portion of text for validation"
   ]
  },
  {
   "cell_type": "code",
   "execution_count": 9,
   "metadata": {},
   "outputs": [],
   "source": [
    "validation_size = batch_size * num_steps #create a single baty\n",
    "validation_start_index = len(text) - validation_size\n",
    "\n",
    "val_text = text[validation_start_index:]\n",
    "text = text[:validation_start_index]"
   ]
  },
  {
   "cell_type": "markdown",
   "metadata": {},
   "source": [
    "Let's check out the first 100 characters of train and validation, make sure everything is peachy.  line of a book ever."
   ]
  },
  {
   "cell_type": "code",
   "execution_count": 10,
   "metadata": {},
   "outputs": [
    {
     "data": {
      "text/plain": [
       "'THE COLOUR OUT OF SPACE\\n\\nWest of Arkham the hills rise wild, and there are valleys with deep woods t'"
      ]
     },
     "execution_count": 10,
     "metadata": {},
     "output_type": "execute_result"
    }
   ],
   "source": [
    "text[:100]"
   ]
  },
  {
   "cell_type": "code",
   "execution_count": 11,
   "metadata": {},
   "outputs": [
    {
     "data": {
      "text/plain": [
       "'vine which had proved\\nthe tomb of our friends, and to the southward of the spot where the\\nhill had f'"
      ]
     },
     "execution_count": 11,
     "metadata": {},
     "output_type": "execute_result"
    }
   ],
   "source": [
    "val_text[:100]"
   ]
  },
  {
   "cell_type": "code",
   "execution_count": 12,
   "metadata": {
    "collapsed": true
   },
   "outputs": [],
   "source": [
    "encoded = np.array([vocab_to_int[c] for c in tokenize_text(text,mode)], dtype=np.int32)\n",
    "encoded_val = np.array([vocab_to_int[c] for c in tokenize_text(val_text,mode)],dtype=np.int32)"
   ]
  },
  {
   "cell_type": "markdown",
   "metadata": {},
   "source": [
    "And we can see the characters encoded as integersin both train and validation"
   ]
  },
  {
   "cell_type": "code",
   "execution_count": 13,
   "metadata": {},
   "outputs": [
    {
     "data": {
      "text/plain": [
       "array([52, 51, 38, 47, 35, 53, 42, 53, 50, 28, 47, 53, 50, 52, 47, 53, 72,\n",
       "       47, 83, 14, 48, 35, 38, 70, 70, 20, 61, 49, 10, 47, 79, 33, 47, 48,\n",
       "       73, 37, 66,  3, 57, 47, 10, 66, 61, 47, 66, 90, 85, 85, 49, 47, 73,\n",
       "       90, 49, 61, 47, 12, 90, 85, 32, 31, 47,  3, 23, 32, 47, 10, 66, 61,\n",
       "       73, 61, 47,  3, 73, 61, 47, 62,  3, 85, 85, 61, 27, 49, 47, 12, 90,\n",
       "       10, 66, 47, 32, 61, 61,  7, 47, 12, 79, 79, 32, 49, 47, 10], dtype=int32)"
      ]
     },
     "execution_count": 13,
     "metadata": {},
     "output_type": "execute_result"
    }
   ],
   "source": [
    "encoded[:100]"
   ]
  },
  {
   "cell_type": "code",
   "execution_count": 14,
   "metadata": {},
   "outputs": [
    {
     "data": {
      "text/plain": [
       "array([62, 90, 23, 61, 47, 12, 66, 90,  6, 66, 47, 66,  3, 32, 47,  7, 73,\n",
       "       79, 62, 61, 32, 70, 10, 66, 61, 47, 10, 79, 57,  9, 47, 79, 33, 47,\n",
       "       79, 21, 73, 47, 33, 73, 90, 61, 23, 32, 49, 31, 47,  3, 23, 32, 47,\n",
       "       10, 79, 47, 10, 66, 61, 47, 49, 79, 21, 10, 66, 12,  3, 73, 32, 47,\n",
       "       79, 33, 47, 10, 66, 61, 47, 49,  7, 79, 10, 47, 12, 66, 61, 73, 61,\n",
       "       47, 10, 66, 61, 70, 66, 90, 85, 85, 47, 66,  3, 32, 47, 33], dtype=int32)"
      ]
     },
     "execution_count": 14,
     "metadata": {},
     "output_type": "execute_result"
    }
   ],
   "source": [
    "encoded_val[0:100]"
   ]
  },
  {
   "cell_type": "markdown",
   "metadata": {},
   "source": [
    "Since the network is working with individual english tokens, it's similar to a classification problem in which we are trying to predict the next character from the previous text.  Here's how many 'classes' our network has to pick from."
   ]
  },
  {
   "cell_type": "code",
   "execution_count": 15,
   "metadata": {},
   "outputs": [
    {
     "data": {
      "text/plain": [
       "93"
      ]
     },
     "execution_count": 15,
     "metadata": {},
     "output_type": "execute_result"
    }
   ],
   "source": [
    "len(vocab)"
   ]
  },
  {
   "cell_type": "code",
   "execution_count": 16,
   "metadata": {},
   "outputs": [
    {
     "name": "stdout",
     "output_type": "stream",
     "text": [
      "vine which had proved\n",
      "the tomb of our friends, and to the southward of the spot where the\n",
      "hill had f\n"
     ]
    }
   ],
   "source": [
    "def encoded_to_text(encoded):\n",
    "    return \"\".join([int_to_vocab[number] for number in encoded])\n",
    "\n",
    "print(encoded_to_text(encoded_val[0:100]))"
   ]
  },
  {
   "cell_type": "markdown",
   "metadata": {},
   "source": [
    "## Making training mini-batches\n",
    "\n",
    "Here is where we'll make our mini-batches for training. Remember that we want our batches to be multiple sequences of some desired number of sequence steps. Considering a simple example, our batches would look like this:\n",
    "\n",
    "<img src=\"assets/sequence_batching@1x.png\" width=500px>\n",
    "\n",
    "\n",
    "<br>\n",
    "We have our text encoded as integers as one long array in `encoded`. Let's create a function that will give us an iterator for our batches. I like using [generator functions](https://jeffknupp.com/blog/2013/04/07/improve-your-python-yield-and-generators-explained/) to do this. Then we can pass `encoded` into this function and get our batch generator.\n",
    "\n",
    "The first thing we need to do is discard some of the text so we only have completely full batches. Each batch contains $N \\times M$ characters, where $N$ is the batch size (the number of sequences) and $M$ is the number of steps. Then, to get the number of batches we can make from some array `arr`, you divide the length of `arr` by the batch size. Once you know the number of batches and the batch size, you can get the total number of characters to keep.\n",
    "\n",
    "After that, we need to split `arr` into $N$ sequences. You can do this using `arr.reshape(size)` where `size` is a tuple containing the dimensions sizes of the reshaped array. We know we want $N$ sequences (`n_seqs` below), let's make that the size of the first dimension. For the second dimension, you can use `-1` as a placeholder in the size, it'll fill up the array with the appropriate data for you. After this, you should have an array that is $N \\times (M * K)$ where $K$ is the number of batches.\n",
    "\n",
    "Now that we have this array, we can iterate through it to get our batches. The idea is each batch is a $N \\times M$ window on the array. For each subsequent batch, the window moves over by `n_steps`. We also want to create both the input and target arrays. Remember that the targets are the inputs shifted over one character. You'll usually see the first input character used as the last target character, so something like this:\n",
    "```python\n",
    "y[:, :-1], y[:, -1] = x[:, 1:], x[:, 0]\n",
    "```\n",
    "where `x` is the input batch and `y` is the target batch.\n",
    "\n",
    "The way I like to do this window is use `range` to take steps of size `n_steps` from $0$ to `arr.shape[1]`, the total number of steps in each sequence. That way, the integers you get from `range` always point to the start of a batch, and each window is `n_steps` wide."
   ]
  },
  {
   "cell_type": "code",
   "execution_count": 17,
   "metadata": {
    "collapsed": true
   },
   "outputs": [],
   "source": [
    "def get_batches(arr, n_seqs, n_steps):\n",
    "    '''Create a generator that returns batches of size\n",
    "       n_seqs x n_steps from arr.\n",
    "       \n",
    "       Arguments\n",
    "       ---------\n",
    "       arr: Array you want to make batches from\n",
    "       n_seqs: Batch size, the number of sequences per batch\n",
    "       n_steps: Number of sequence steps per batch\n",
    "    '''\n",
    "    # Get the batch size and number of batches we can make\n",
    "    batch_size = n_seqs * n_steps \n",
    "    n_batches =  len(arr)//batch_size\n",
    "    \n",
    "    # Keep only enough characters to make full batches\n",
    "    arr =  arr[:n_batches*batch_size]\n",
    "    \n",
    "    # Reshape into n_seqs rows\n",
    "    arr = arr.reshape((n_seqs,-1))\n",
    "    \n",
    "    for n in range(0, arr.shape[1], n_steps):\n",
    "        # The features\n",
    "        x = arr[:,n:n+n_steps]\n",
    "        # The targets, shifted by one\n",
    "        y = np.zeros(x.shape)\n",
    "        y[:,:-1],y[:,-1] = x[:,1:] ,x[:,0]\n",
    "        yield x, y"
   ]
  },
  {
   "cell_type": "markdown",
   "metadata": {},
   "source": [
    "Now I'll make my data sets and we can check out what's going on here. Here I'm going to use a batch size of 10 and 50 sequence steps."
   ]
  },
  {
   "cell_type": "code",
   "execution_count": 18,
   "metadata": {
    "collapsed": true
   },
   "outputs": [],
   "source": [
    "batches = get_batches(encoded, 10, 50)\n",
    "x, y = next(batches)"
   ]
  },
  {
   "cell_type": "code",
   "execution_count": 19,
   "metadata": {},
   "outputs": [
    {
     "name": "stdout",
     "output_type": "stream",
     "text": [
      "x\n",
      " [[52 51 38 47 35 53 42 53 50 28]\n",
      " [47  7 61 73 62 61 73 49 90 79]\n",
      " [85 61 47  3  9 79 21 10 47 12]\n",
      " [47 57  3 85 79 32 79 73 79 21]\n",
      " [ 3 85 85 49 47 12 61  3 85 10]\n",
      " [90 85 85 21 49 90 79 23 47 32]\n",
      " [85  3 73 49 47 66 61 73 61 47]\n",
      " [31 47 90 23 47 10 73 21 10 66]\n",
      " [10 66 61 47 57  3 10 61 47  3]\n",
      " [61 61 23 70 66  3  7  7 90 85]]\n",
      "\n",
      "y\n",
      " [[ 51.  38.  47.  35.  53.  42.  53.  50.  28.  47.]\n",
      " [  7.  61.  73.  62.  61.  73.  49.  90.  79.  23.]\n",
      " [ 61.  47.   3.   9.  79.  21.  10.  47.  12.  66.]\n",
      " [ 57.   3.  85.  79.  32.  79.  73.  79.  21.  49.]\n",
      " [ 85.  85.  49.  47.  12.  61.   3.  85.  10.  66.]\n",
      " [ 85.  85.  21.  49.  90.  79.  23.  47.  32.  90.]\n",
      " [  3.  73.  49.  47.  66.  61.  73.  61.  47.   3.]\n",
      " [ 47.  90.  23.  47.  10.  73.  21.  10.  66.  31.]\n",
      " [ 66.  61.  47.  57.   3.  10.  61.  47.   3.  23.]\n",
      " [ 61.  23.  70.  66.   3.   7.   7.  90.  85.  27.]]\n"
     ]
    }
   ],
   "source": [
    "print('x\\n', x[:10, :10])\n",
    "print('\\ny\\n', y[:10, :10])"
   ]
  },
  {
   "cell_type": "markdown",
   "metadata": {},
   "source": [
    "## Building the model\n",
    "\n",
    "Below is where you'll build the network. We'll break it up into parts so it's easier to reason about each bit. Then we can connect them up into the whole network.\n",
    "\n",
    "<img src=\"assets/charRNN.png\" width=500px>\n",
    "\n",
    "\n",
    "### Inputs\n",
    "\n",
    "First off we'll create our input placeholders. As usual we need placeholders for the training data and the targets. We'll also create a placeholder for dropout layers called `keep_prob`. This will be a scalar, that is a 0-D tensor. To make a scalar, you create a placeholder without giving it a size."
   ]
  },
  {
   "cell_type": "code",
   "execution_count": 20,
   "metadata": {
    "collapsed": true
   },
   "outputs": [],
   "source": [
    "def build_inputs(batch_size, num_steps):\n",
    "    ''' Define placeholders for inputs, targets, and dropout \n",
    "    \n",
    "        Arguments\n",
    "        ---------\n",
    "        batch_size: Batch size, number of sequences per batch\n",
    "        num_steps: Number of sequence steps in a batch\n",
    "        \n",
    "    '''\n",
    "    # Declare placeholders we'll feed into the graph\n",
    "    inputs = tf.placeholder(tf.int32,[batch_size,num_steps],name=\"inputs\")\n",
    "    targets = tf.placeholder(tf.int32,[batch_size,num_steps],name=\"targets\")\n",
    "    \n",
    "    # Keep probability placeholder for drop out layers\n",
    "    keep_prob = tf.placeholder(tf.float32,name=\"keep_prob\")\n",
    "    \n",
    "    return inputs, targets, keep_prob"
   ]
  },
  {
   "cell_type": "markdown",
   "metadata": {},
   "source": [
    "### LSTM Cell\n",
    "\n",
    "Here we will create the LSTM cell we'll use in the hidden layer. We'll use this cell as a building block for the RNN. So we aren't actually defining the RNN here, just the type of cell we'll use in the hidden layer.\n",
    "\n",
    "We first create a basic LSTM cell with\n",
    "\n",
    "```python\n",
    "lstm = tf.contrib.rnn.BasicLSTMCell(num_units)\n",
    "```\n",
    "\n",
    "where `num_units` is the number of units in the hidden layers in the cell. Then we can add dropout by wrapping it with \n",
    "\n",
    "```python\n",
    "tf.contrib.rnn.DropoutWrapper(lstm, output_keep_prob=keep_prob)\n",
    "```\n",
    "You pass in a cell and it will automatically add dropout to the inputs or outputs. Finally, we can stack up the LSTM cells into layers with [`tf.contrib.rnn.MultiRNNCell`](https://www.tensorflow.org/versions/r1.0/api_docs/python/tf/contrib/rnn/MultiRNNCell). With this, you pass in a list of cells and it will send the output of one cell into the next cell. For example,\n",
    "\n",
    "```python\n",
    "tf.contrib.rnn.MultiRNNCell([cell]*num_layers)\n",
    "```\n",
    "\n",
    "This might look a little weird if you know Python well because this will create a list of the same `cell` object. However, TensorFlow will create different weight matrices for all `cell` objects. Even though this is actually multiple LSTM cells stacked on each other, you can treat the multiple layers as one cell.\n",
    "\n",
    "We also need to create an initial cell state of all zeros. This can be done like so\n",
    "\n",
    "```python\n",
    "initial_state = cell.zero_state(batch_size, tf.float32)\n",
    "```\n"
   ]
  },
  {
   "cell_type": "code",
   "execution_count": 21,
   "metadata": {
    "collapsed": true
   },
   "outputs": [],
   "source": [
    "def build_lstm(lstm_size, num_layers, batch_size, keep_prob):\n",
    "    ''' Build LSTM cell.\n",
    "    \n",
    "        Arguments\n",
    "        ---------\n",
    "        keep_prob: Scalar tensor (tf.placeholder) for the dropout keep probability\n",
    "        lstm_size: Size of the hidden layers in the LSTM cells\n",
    "        num_layers: Number of LSTM layers\n",
    "        batch_size: Batch size\n",
    "\n",
    "    '''\n",
    "    ### Build the LSTM Cell\n",
    "    # Use a basic LSTM cell\n",
    "    # Add dropout to the cell outputs\n",
    "    # Stack up multiple LSTM layers, for deep learning\n",
    "    cell = tf.contrib.rnn.MultiRNNCell([tf.contrib.rnn.DropoutWrapper( tf.contrib.rnn.BasicLSTMCell(lstm_size),output_keep_prob = keep_prob) for _ in range(num_layers)])\n",
    "    initial_state = cell.zero_state(batch_size,tf.float32)\n",
    "    \n",
    "    return cell, initial_state"
   ]
  },
  {
   "cell_type": "markdown",
   "metadata": {},
   "source": [
    "### RNN Output\n",
    "\n",
    "Here we'll create the output layer. We need to connect the output of the RNN cells to a full connected layer with a softmax output. The softmax output gives us a probability distribution we can use to predict the next character, so we want this layer to have size $C$, the number of classes/characters we have in our text.\n",
    "\n",
    "If our input has batch size $N$, number of steps $M$, and the hidden layer has $L$ hidden units, then the output is a 3D tensor with size $N \\times M \\times L$. The output of each LSTM cell has size $L$, we have $M$ of them, one for each sequence step, and we have $N$ sequences. So the total size is $N \\times M \\times L$. \n",
    "\n",
    "We are using the same fully connected layer, the same weights, for each of the outputs. Then, to make things easier, we should reshape the outputs into a 2D tensor with shape $(M * N) \\times L$. That is, one row for each sequence and step, where the values of each row are the output from the LSTM cells. We get the LSTM output as a list, `lstm_output`. First we need to concatenate this whole list into one array with [`tf.concat`](https://www.tensorflow.org/api_docs/python/tf/concat). Then, reshape it (with `tf.reshape`) to size $(M * N) \\times L$.\n",
    "\n",
    "One we have the outputs reshaped, we can do the matrix multiplication with the weights. We need to wrap the weight and bias variables in a variable scope with `tf.variable_scope(scope_name)` because there are weights being created in the LSTM cells. TensorFlow will throw an error if the weights created here have the same names as the weights created in the LSTM cells, which they will be default. To avoid this, we wrap the variables in a variable scope so we can give them unique names.\n"
   ]
  },
  {
   "cell_type": "code",
   "execution_count": 22,
   "metadata": {
    "collapsed": true
   },
   "outputs": [],
   "source": [
    "def build_output(lstm_output, in_size, out_size):\n",
    "    ''' Build a softmax layer, return the softmax output and logits.\n",
    "    \n",
    "        Arguments\n",
    "        ---------\n",
    "        \n",
    "        lstm_output: List of output tensors from the LSTM layer\n",
    "        in_size: Size of the input tensor, for example, size of the LSTM cells\n",
    "        out_size: Size of this softmax layer\n",
    "    \n",
    "    '''\n",
    "\n",
    "    # Reshape output so it's a bunch of rows, one row for each step for each sequence.\n",
    "    # Concatenate lstm_output over axis 1 (the columns)\n",
    "    seq_output = tf.concat(lstm_output,axis=1)\n",
    "    # Reshape seq_output to a 2D tensor with lstm_size columns\n",
    "    x = tf.reshape(seq_output,[-1,in_size])\n",
    "    \n",
    "    # Connect the RNN outputs to a softmax layer\n",
    "    with tf.variable_scope('softmax'):\n",
    "        # Create the weight and bias variables here\n",
    "        softmax_w = tf.Variable(tf.truncated_normal((in_size, out_size),stddev=0.1))\n",
    "        softmax_b = tf.Variable(tf.zeros([out_size]))\n",
    "    \n",
    "    # Since output is a bunch of rows of RNN cell outputs, logits will be a bunch\n",
    "    # of rows of logit outputs, one for each step and sequence\n",
    "    logits =  tf.add(tf.matmul(x,softmax_w),softmax_b) \n",
    "    \n",
    "    # Use softmax to get the probabilities for predicted characters\n",
    "    out = tf.nn.softmax(logits,name =\"out\")\n",
    "    \n",
    "    return out, logits"
   ]
  },
  {
   "cell_type": "markdown",
   "metadata": {},
   "source": [
    "### Training loss\n",
    "\n",
    "Next up is the training loss. We get the logits and targets and calculate the softmax cross-entropy loss. First we need to one-hot encode the targets, we're getting them as encoded characters. Then, reshape the one-hot targets so it's a 2D tensor with size $(M*N) \\times C$ where $C$ is the number of classes/characters we have. Remember that we reshaped the LSTM outputs and ran them through a fully connected layer with $C$ units. So our logits will also have size $(M*N) \\times C$.\n",
    "\n",
    "Then we run the logits and targets through `tf.nn.softmax_cross_entropy_with_logits` and find the mean to get the loss."
   ]
  },
  {
   "cell_type": "code",
   "execution_count": 23,
   "metadata": {
    "collapsed": true
   },
   "outputs": [],
   "source": [
    "def build_loss(logits, targets, lstm_size, num_classes):\n",
    "    ''' Calculate the loss from the logits and the targets.\n",
    "    \n",
    "        Arguments\n",
    "        ---------\n",
    "        logits: Logits from final fully connected layer\n",
    "        targets: Targets for supervised learning\n",
    "        lstm_size: Number of LSTM hidden units\n",
    "        num_classes: Number of classes in targets\n",
    "        \n",
    "    '''\n",
    "    # One-hot encode targets and reshape to match logits, one row per sequence per step\n",
    "    y_one_hot = tf.one_hot(targets,num_classes)\n",
    "    y_reshaped =  tf.reshape(y_one_hot,logits.get_shape())\n",
    "    \n",
    "    # Softmax cross entropy loss\n",
    "    loss = tf.reduce_mean(tf.nn.softmax_cross_entropy_with_logits(logits=logits,labels=y_reshaped))\n",
    "    \n",
    "    return loss"
   ]
  },
  {
   "cell_type": "markdown",
   "metadata": {},
   "source": [
    "### Optimizer\n",
    "\n",
    "Here we build the optimizer. Normal RNNs have have issues gradients exploding and disappearing. LSTMs fix the disappearance problem, but the gradients can still grow without bound. To fix this, we can clip the gradients above some threshold. That is, if a gradient is larger than that threshold, we set it to the threshold. This will ensure the gradients never grow overly large. Then we use an AdamOptimizer for the learning step."
   ]
  },
  {
   "cell_type": "code",
   "execution_count": 24,
   "metadata": {
    "collapsed": true
   },
   "outputs": [],
   "source": [
    "def build_optimizer(loss, learning_rate, grad_clip,global_step):\n",
    "    ''' Build optmizer for training, using gradient clipping.\n",
    "    \n",
    "        Arguments:\n",
    "        loss: Network loss\n",
    "        learning_rate: Learning rate for optimizer\n",
    "        global_step: to control the total number of train steps\n",
    "    \n",
    "    '''\n",
    "    \n",
    "    # Optimizer for training, using gradient clipping to control exploding gradients\n",
    "    tvars = tf.trainable_variables()\n",
    "    grads, _ = tf.clip_by_global_norm(tf.gradients(loss, tvars), grad_clip)\n",
    "    train_op = tf.train.AdamOptimizer(learning_rate)\n",
    "    optimizer = train_op.apply_gradients(zip(grads, tvars),global_step)\n",
    "    \n",
    "    return optimizer"
   ]
  },
  {
   "cell_type": "markdown",
   "metadata": {},
   "source": [
    "### Build the network\n",
    "\n",
    "Now we can put all the pieces together and build a class for the network. To actually run data through the LSTM cells, we will use [`tf.nn.dynamic_rnn`](https://www.tensorflow.org/versions/r1.0/api_docs/python/tf/nn/dynamic_rnn). This function will pass the hidden and cell states across LSTM cells appropriately for us. It returns the outputs for each LSTM cell at each step for each sequence in the mini-batch. It also gives us the final LSTM state. We want to save this state as `final_state` so we can pass it to the first LSTM cell in the the next mini-batch run. For `tf.nn.dynamic_rnn`, we pass in the cell and initial state we get from `build_lstm`, as well as our input sequences. Also, we need to one-hot encode the inputs before going into the RNN. \n"
   ]
  },
  {
   "cell_type": "code",
   "execution_count": 25,
   "metadata": {
    "collapsed": true
   },
   "outputs": [],
   "source": [
    "class CharRNN:\n",
    "    \n",
    "    def __init__(self, num_classes, batch_size=64, num_steps=50, \n",
    "                       lstm_size=128, num_layers=2, learning_rate=0.001, \n",
    "                       grad_clip=5, sampling=False):\n",
    "    \n",
    "        # When we're using this network for sampling later, we'll be passing in\n",
    "        # one character at a time, so providing an option for that\n",
    "        if sampling == True:\n",
    "            batch_size, num_steps = 1, 1\n",
    "        else:\n",
    "            batch_size, num_steps = batch_size, num_steps\n",
    "\n",
    "        tf.reset_default_graph()\n",
    "        \n",
    "        self.global_step_tensor = tf.Variable(0,trainable=False,name = \"global_step\")\n",
    "        # Build the input placeholder tensors\n",
    "        self.inputs, self.targets, self.keep_prob = build_inputs(batch_size,num_steps)\n",
    "        # Build the LSTM cell\n",
    "        cell, self.initial_state = build_lstm(lstm_size,num_layers,batch_size,self.keep_prob)\n",
    "        ### Run the data through the RNN layers\n",
    "        # First, one-hot encode the input tokens\n",
    "        x_one_hot = tf.one_hot(self.inputs,num_classes)\n",
    "        \n",
    "        # Run each sequence step through the RNN with tf.nn.dynamic_rnn \n",
    "        outputs, state = tf.nn.dynamic_rnn(cell,x_one_hot,initial_state=self.initial_state)\n",
    "        self.final_state = state\n",
    "        \n",
    "        # Get softmax predictions and logits\n",
    "        self.prediction, self.logits = build_output(outputs,lstm_size,num_classes)\n",
    "        \n",
    "        # Loss and optimizer (with gradient clipping)\n",
    "        self.loss =  build_loss(self.logits,self.targets,lstm_size,num_classes)\n",
    "        self.optimizer = build_optimizer(self.loss,learning_rate,grad_clip,self.global_step_tensor)"
   ]
  },
  {
   "cell_type": "markdown",
   "metadata": {},
   "source": [
    "## Hyperparameters\n",
    "\n",
    "Here are the hyperparameters for the network.\n",
    "\n",
    "* `batch_size` - Number of sequences running through the network in one pass.\n",
    "* `num_steps` - Number of characters in the sequence the network is trained on. Larger is better typically, the network will learn more long range dependencies. But it takes longer to train. 100 is typically a good number here.\n",
    "* `lstm_size` - The number of units in the hidden layers.\n",
    "* `num_layers` - Number of hidden LSTM layers to use\n",
    "* `learning_rate` - Learning rate for training\n",
    "* `keep_prob` - The dropout keep probability when training. If you're network is overfitting, try decreasing this.\n",
    "\n",
    "Here's some good advice from Andrej Karpathy on training the network:. \n",
    "\n",
    "> ## Tips and Tricks\n",
    "\n",
    ">### Monitoring Validation Loss vs. Training Loss\n",
    ">If you're somewhat new to Machine Learning or Neural Networks it can take a bit of expertise to get good models. The most important quantity to keep track of is the difference between your training loss (printed during training) and the validation loss (printed once in a while when the RNN is run on the validation data (by default every 1000 iterations)). In particular:\n",
    "\n",
    "> - If your training loss is much lower than validation loss then this means the network might be **overfitting**. Solutions to this are to decrease your network size, or to increase dropout. For example you could try dropout of 0.5 and so on.\n",
    "> - If your training/validation loss are about equal then your model is **underfitting**. Increase the size of your model (either number of layers or the raw number of neurons per layer)\n",
    "\n",
    "> ### Approximate number of parameters\n",
    "\n",
    "> The two most important parameters that control the model are `lstm_size` and `num_layers`. I would advise that you always use `num_layers` of either 2/3. The `lstm_size` can be adjusted based on how much data you have. The two important quantities to keep track of here are:\n",
    "\n",
    "> - The number of parameters in your model. This is printed when you start training.\n",
    "> - The size of your dataset. 1MB file is approximately 1 million characters.\n",
    "\n",
    ">These two should be about the same order of magnitude. It's a little tricky to tell. Here are some examples:\n",
    "\n",
    "> - I have a 100MB dataset and I'm using the default parameter settings (which currently print 150K parameters). My data size is significantly larger (100 mil >> 0.15 mil), so I expect to heavily underfit. I am thinking I can comfortably afford to make `lstm_size` larger.\n",
    "> - I have a 10MB dataset and running a 10 million parameter model. I'm slightly nervous and I'm carefully monitoring my validation loss. If it's larger than my training loss then I may want to try to increase dropout a bit and see if that helps the validation loss.\n",
    "\n",
    "> ### Best models strategy\n",
    "\n",
    ">The winning strategy to obtaining very good models (if you have the compute time) is to always err on making the network larger (as large as you're willing to wait for it to compute) and then try different dropout values (between 0,1). Whatever model has the best validation performance (the loss, written in the checkpoint filename, low is good) is the one you should use in the end.\n",
    "\n",
    ">It is very common in deep learning to run many different models with many different hyperparameter settings, and in the end take whatever checkpoint gave the best validation performance.\n",
    "\n",
    ">By the way, the size of your training and validation splits are also parameters. Make sure you have a decent amount of data in your validation set or otherwise the validation performance will be noisy and not very informative."
   ]
  },
  {
   "cell_type": "code",
   "execution_count": 26,
   "metadata": {
    "collapsed": true
   },
   "outputs": [],
   "source": [
    "def get_number_of_parameters():\n",
    "    total_parameters = 0\n",
    "    for variable in tf.trainable_variables():\n",
    "        shape = variable.get_shape()\n",
    "        #print(shape)\n",
    "        #print(len(shape))\n",
    "        variable_parameters = 1\n",
    "        \n",
    "        for dim in shape:\n",
    "            #print(dim)\n",
    "            variable_parameters*=dim.value\n",
    "        #print(variable_parameters)\n",
    "        total_parameters+= variable_parameters\n",
    "    return total_parameters"
   ]
  },
  {
   "cell_type": "code",
   "execution_count": 27,
   "metadata": {
    "collapsed": true
   },
   "outputs": [],
   "source": [
    "def pick_top_n(preds, vocab_size, top_n=5):\n",
    "    p = np.squeeze(preds)\n",
    "    p[np.argsort(p)[:-top_n]] = 0\n",
    "    p = p / np.sum(p)\n",
    "    c = np.random.choice(vocab_size, 1, p=p)[0]\n",
    "    return c"
   ]
  },
  {
   "cell_type": "markdown",
   "metadata": {},
   "source": [
    "## Time for training\n",
    "\n",
    "This is typical training code, passing inputs and targets into the network, then running the optimizer. Here we also get back the final LSTM state for the mini-batch. Then, we pass that state back into the network so the next batch can continue the state from the previous batch. And every so often (set by `save_every_n`) I save a checkpoint.\n",
    "\n",
    "Here I'm saving checkpoints with the format\n",
    "\n",
    "`i{iteration number}_l{# hidden layer units}.ckpt`\n"
   ]
  },
  {
   "cell_type": "code",
   "execution_count": 28,
   "metadata": {
    "collapsed": true
   },
   "outputs": [],
   "source": [
    "losses = {\"train\":[],\"validation\":[]}\n",
    "x_steps = list()"
   ]
  },
  {
   "cell_type": "code",
   "execution_count": 29,
   "metadata": {
    "scrolled": true
   },
   "outputs": [
    {
     "name": "stdout",
     "output_type": "stream",
     "text": [
      "Number of parameters: 1221993 Dataset size: 1288941\n",
      "Epoch: 1/700...  Training Step: 1...  Training loss: 4.5330...  Val loss: 4.5273...  0.3647 sec/batch\n",
      "WARNING:tensorflow:Error encountered when serializing LAYER_NAME_UIDS.\n",
      "Type is unsupported, or the types of the items don't match field type in CollectionDef.\n",
      "'dict' object has no attribute 'name'\n",
      "Epoch: 2/700...  Training Step: 101...  Training loss: 3.4142...  Val loss: 3.1805...  0.2012 sec/batch\n",
      "Epoch: 4/700...  Training Step: 201...  Training loss: 3.2939...  Val loss: 3.1135...  0.2005 sec/batch\n",
      "Epoch: 6/700...  Training Step: 301...  Training loss: 3.2322...  Val loss: 3.0852...  0.1991 sec/batch\n",
      "Epoch: 8/700...  Training Step: 401...  Training loss: 3.1838...  Val loss: 3.0666...  0.2025 sec/batch\n",
      "Epoch: 10/700...  Training Step: 501...  Training loss: 3.1563...  Val loss: 3.0487...  0.2005 sec/batch\n",
      "WARNING:tensorflow:Error encountered when serializing LAYER_NAME_UIDS.\n",
      "Type is unsupported, or the types of the items don't match field type in CollectionDef.\n",
      "'dict' object has no attribute 'name'\n",
      "Epoch: 12/700...  Training Step: 601...  Training loss: 3.1157...  Val loss: 3.0254...  0.2077 sec/batch\n",
      "Epoch: 14/700...  Training Step: 701...  Training loss: 3.0553...  Val loss: 2.9759...  0.2014 sec/batch\n",
      "Epoch: 16/700...  Training Step: 801...  Training loss: 2.9806...  Val loss: 2.8774...  0.2367 sec/batch\n",
      "Epoch: 18/700...  Training Step: 901...  Training loss: 2.9023...  Val loss: 2.7745...  0.2036 sec/batch\n",
      "Epoch: 20/700...  Training Step: 1001...  Training loss: 2.7929...  Val loss: 2.6626...  0.2015 sec/batch\n",
      "WARNING:tensorflow:Error encountered when serializing LAYER_NAME_UIDS.\n",
      "Type is unsupported, or the types of the items don't match field type in CollectionDef.\n",
      "'dict' object has no attribute 'name'\n",
      "Epoch: 22/700...  Training Step: 1101...  Training loss: 2.7388...  Val loss: 2.5795...  0.2196 sec/batch\n",
      "Epoch: 24/700...  Training Step: 1201...  Training loss: 2.6844...  Val loss: 2.5200...  0.2110 sec/batch\n",
      "Epoch: 26/700...  Training Step: 1301...  Training loss: 2.6578...  Val loss: 2.4835...  0.2074 sec/batch\n",
      "Epoch: 28/700...  Training Step: 1401...  Training loss: 2.5921...  Val loss: 2.4497...  0.2017 sec/batch\n",
      "Epoch: 30/700...  Training Step: 1501...  Training loss: 2.5760...  Val loss: 2.4199...  0.2028 sec/batch\n",
      "WARNING:tensorflow:Error encountered when serializing LAYER_NAME_UIDS.\n",
      "Type is unsupported, or the types of the items don't match field type in CollectionDef.\n",
      "'dict' object has no attribute 'name'\n",
      "Epoch: 32/700...  Training Step: 1601...  Training loss: 2.5417...  Val loss: 2.3926...  0.2013 sec/batch\n",
      "Epoch: 34/700...  Training Step: 1701...  Training loss: 2.5141...  Val loss: 2.3674...  0.2014 sec/batch\n",
      "Epoch: 36/700...  Training Step: 1801...  Training loss: 2.5078...  Val loss: 2.3459...  0.2158 sec/batch\n",
      "Epoch: 38/700...  Training Step: 1901...  Training loss: 2.4876...  Val loss: 2.3253...  0.2006 sec/batch\n",
      "Epoch: 40/700...  Training Step: 2001...  Training loss: 2.4475...  Val loss: 2.3053...  0.2093 sec/batch\n",
      "WARNING:tensorflow:Error encountered when serializing LAYER_NAME_UIDS.\n",
      "Type is unsupported, or the types of the items don't match field type in CollectionDef.\n",
      "'dict' object has no attribute 'name'\n",
      "Epoch: 42/700...  Training Step: 2101...  Training loss: 2.4347...  Val loss: 2.2869...  0.2029 sec/batch\n",
      "Epoch: 44/700...  Training Step: 2201...  Training loss: 2.4273...  Val loss: 2.2695...  0.2271 sec/batch\n",
      "Epoch: 46/700...  Training Step: 2301...  Training loss: 2.4075...  Val loss: 2.2537...  0.2016 sec/batch\n",
      "Epoch: 48/700...  Training Step: 2401...  Training loss: 2.3880...  Val loss: 2.2368...  0.2011 sec/batch\n",
      "Epoch: 50/700...  Training Step: 2501...  Training loss: 2.3950...  Val loss: 2.2231...  0.2015 sec/batch\n",
      "WARNING:tensorflow:Error encountered when serializing LAYER_NAME_UIDS.\n",
      "Type is unsupported, or the types of the items don't match field type in CollectionDef.\n",
      "'dict' object has no attribute 'name'\n",
      "Epoch: 51/700...  Training Step: 2601...  Training loss: 2.3698...  Val loss: 2.2117...  0.1999 sec/batch\n",
      "Epoch: 53/700...  Training Step: 2701...  Training loss: 2.3662...  Val loss: 2.1969...  0.2012 sec/batch\n",
      "Epoch: 55/700...  Training Step: 2801...  Training loss: 2.3246...  Val loss: 2.1840...  0.2011 sec/batch\n",
      "Epoch: 57/700...  Training Step: 2901...  Training loss: 2.3276...  Val loss: 2.1733...  0.2011 sec/batch\n",
      "Epoch: 59/700...  Training Step: 3001...  Training loss: 2.3492...  Val loss: 2.1621...  0.2012 sec/batch\n",
      "WARNING:tensorflow:Error encountered when serializing LAYER_NAME_UIDS.\n",
      "Type is unsupported, or the types of the items don't match field type in CollectionDef.\n",
      "'dict' object has no attribute 'name'\n",
      "Epoch: 61/700...  Training Step: 3101...  Training loss: 2.3015...  Val loss: 2.1496...  0.2031 sec/batch\n",
      "Epoch: 63/700...  Training Step: 3201...  Training loss: 2.3090...  Val loss: 2.1408...  0.2012 sec/batch\n",
      "Epoch: 65/700...  Training Step: 3301...  Training loss: 2.2886...  Val loss: 2.1293...  0.2169 sec/batch\n",
      "Epoch: 67/700...  Training Step: 3401...  Training loss: 2.2843...  Val loss: 2.1198...  0.2031 sec/batch\n",
      "Epoch: 69/700...  Training Step: 3501...  Training loss: 2.2613...  Val loss: 2.1108...  0.2078 sec/batch\n",
      "WARNING:tensorflow:Error encountered when serializing LAYER_NAME_UIDS.\n",
      "Type is unsupported, or the types of the items don't match field type in CollectionDef.\n",
      "'dict' object has no attribute 'name'\n",
      "Epoch: 71/700...  Training Step: 3601...  Training loss: 2.2619...  Val loss: 2.0999...  0.2052 sec/batch\n",
      "Epoch: 73/700...  Training Step: 3701...  Training loss: 2.2519...  Val loss: 2.0918...  0.2014 sec/batch\n",
      "Epoch: 75/700...  Training Step: 3801...  Training loss: 2.2362...  Val loss: 2.0822...  0.2015 sec/batch\n",
      "Epoch: 77/700...  Training Step: 3901...  Training loss: 2.2450...  Val loss: 2.0740...  0.1999 sec/batch\n",
      "Epoch: 79/700...  Training Step: 4001...  Training loss: 2.2399...  Val loss: 2.0647...  0.2065 sec/batch\n",
      "WARNING:tensorflow:Error encountered when serializing LAYER_NAME_UIDS.\n",
      "Type is unsupported, or the types of the items don't match field type in CollectionDef.\n",
      "'dict' object has no attribute 'name'\n",
      "Epoch: 81/700...  Training Step: 4101...  Training loss: 2.2428...  Val loss: 2.0570...  0.2012 sec/batch\n",
      "Epoch: 83/700...  Training Step: 4201...  Training loss: 2.2034...  Val loss: 2.0501...  0.2073 sec/batch\n",
      "Epoch: 85/700...  Training Step: 4301...  Training loss: 2.2041...  Val loss: 2.0403...  0.2018 sec/batch\n",
      "Epoch: 87/700...  Training Step: 4401...  Training loss: 2.2238...  Val loss: 2.0347...  0.2053 sec/batch\n",
      "Epoch: 89/700...  Training Step: 4501...  Training loss: 2.2084...  Val loss: 2.0240...  0.2014 sec/batch\n",
      "WARNING:tensorflow:Error encountered when serializing LAYER_NAME_UIDS.\n",
      "Type is unsupported, or the types of the items don't match field type in CollectionDef.\n",
      "'dict' object has no attribute 'name'\n",
      "Epoch: 91/700...  Training Step: 4601...  Training loss: 2.1663...  Val loss: 2.0204...  0.2031 sec/batch\n",
      "Epoch: 93/700...  Training Step: 4701...  Training loss: 2.1869...  Val loss: 2.0121...  0.2028 sec/batch\n",
      "Epoch: 95/700...  Training Step: 4801...  Training loss: 2.1630...  Val loss: 2.0058...  0.2064 sec/batch\n",
      "Epoch: 97/700...  Training Step: 4901...  Training loss: 2.1780...  Val loss: 2.0000...  0.2059 sec/batch\n",
      "Epoch: 99/700...  Training Step: 5001...  Training loss: 2.1757...  Val loss: 1.9946...  0.2035 sec/batch\n",
      "WARNING:tensorflow:Error encountered when serializing LAYER_NAME_UIDS.\n",
      "Type is unsupported, or the types of the items don't match field type in CollectionDef.\n",
      "'dict' object has no attribute 'name'\n",
      "Epoch: 101/700...  Training Step: 5101...  Training loss: 2.1773...  Val loss: 1.9857...  0.2072 sec/batch\n",
      "Epoch: 102/700...  Training Step: 5201...  Training loss: 2.1484...  Val loss: 1.9816...  0.2002 sec/batch\n",
      "Epoch: 104/700...  Training Step: 5301...  Training loss: 2.1495...  Val loss: 1.9746...  0.2014 sec/batch\n",
      "Epoch: 106/700...  Training Step: 5401...  Training loss: 2.1404...  Val loss: 1.9715...  0.2012 sec/batch\n",
      "Epoch: 108/700...  Training Step: 5501...  Training loss: 2.1296...  Val loss: 1.9640...  0.2014 sec/batch\n",
      "WARNING:tensorflow:Error encountered when serializing LAYER_NAME_UIDS.\n",
      "Type is unsupported, or the types of the items don't match field type in CollectionDef.\n",
      "'dict' object has no attribute 'name'\n"
     ]
    },
    {
     "name": "stdout",
     "output_type": "stream",
     "text": [
      "Epoch: 110/700...  Training Step: 5601...  Training loss: 2.1233...  Val loss: 1.9593...  0.2025 sec/batch\n",
      "Epoch: 112/700...  Training Step: 5701...  Training loss: 2.1241...  Val loss: 1.9541...  0.2013 sec/batch\n",
      "Epoch: 114/700...  Training Step: 5801...  Training loss: 2.0986...  Val loss: 1.9496...  0.2017 sec/batch\n",
      "Epoch: 116/700...  Training Step: 5901...  Training loss: 2.1215...  Val loss: 1.9445...  0.2189 sec/batch\n",
      "Epoch: 118/700...  Training Step: 6001...  Training loss: 2.1269...  Val loss: 1.9377...  0.2017 sec/batch\n",
      "WARNING:tensorflow:Error encountered when serializing LAYER_NAME_UIDS.\n",
      "Type is unsupported, or the types of the items don't match field type in CollectionDef.\n",
      "'dict' object has no attribute 'name'\n",
      "Epoch: 120/700...  Training Step: 6101...  Training loss: 2.1062...  Val loss: 1.9356...  0.2044 sec/batch\n",
      "Epoch: 122/700...  Training Step: 6201...  Training loss: 2.1120...  Val loss: 1.9292...  0.2011 sec/batch\n",
      "Epoch: 124/700...  Training Step: 6301...  Training loss: 2.1196...  Val loss: 1.9242...  0.2021 sec/batch\n",
      "Epoch: 126/700...  Training Step: 6401...  Training loss: 2.1101...  Val loss: 1.9214...  0.2012 sec/batch\n",
      "Epoch: 128/700...  Training Step: 6501...  Training loss: 2.0919...  Val loss: 1.9161...  0.2015 sec/batch\n",
      "WARNING:tensorflow:Error encountered when serializing LAYER_NAME_UIDS.\n",
      "Type is unsupported, or the types of the items don't match field type in CollectionDef.\n",
      "'dict' object has no attribute 'name'\n",
      "Epoch: 130/700...  Training Step: 6601...  Training loss: 2.0967...  Val loss: 1.9124...  0.2032 sec/batch\n",
      "Epoch: 132/700...  Training Step: 6701...  Training loss: 2.0909...  Val loss: 1.9072...  0.2014 sec/batch\n",
      "Epoch: 134/700...  Training Step: 6801...  Training loss: 2.0827...  Val loss: 1.9020...  0.2078 sec/batch\n",
      "Epoch: 136/700...  Training Step: 6901...  Training loss: 2.0792...  Val loss: 1.9006...  0.2051 sec/batch\n",
      "Epoch: 138/700...  Training Step: 7001...  Training loss: 2.0865...  Val loss: 1.8985...  0.2017 sec/batch\n",
      "WARNING:tensorflow:Error encountered when serializing LAYER_NAME_UIDS.\n",
      "Type is unsupported, or the types of the items don't match field type in CollectionDef.\n",
      "'dict' object has no attribute 'name'\n",
      "Epoch: 140/700...  Training Step: 7101...  Training loss: 2.0492...  Val loss: 1.8930...  0.2032 sec/batch\n",
      "Epoch: 142/700...  Training Step: 7201...  Training loss: 2.0651...  Val loss: 1.8865...  0.2041 sec/batch\n",
      "Epoch: 144/700...  Training Step: 7301...  Training loss: 2.0595...  Val loss: 1.8843...  0.2014 sec/batch\n",
      "Epoch: 146/700...  Training Step: 7401...  Training loss: 2.0478...  Val loss: 1.8798...  0.2075 sec/batch\n",
      "Epoch: 148/700...  Training Step: 7501...  Training loss: 2.0590...  Val loss: 1.8767...  0.2090 sec/batch\n",
      "WARNING:tensorflow:Error encountered when serializing LAYER_NAME_UIDS.\n",
      "Type is unsupported, or the types of the items don't match field type in CollectionDef.\n",
      "'dict' object has no attribute 'name'\n",
      "Epoch: 150/700...  Training Step: 7601...  Training loss: 2.0700...  Val loss: 1.8729...  0.2055 sec/batch\n",
      "Epoch: 151/700...  Training Step: 7701...  Training loss: 2.0385...  Val loss: 1.8728...  0.2019 sec/batch\n",
      "Epoch: 153/700...  Training Step: 7801...  Training loss: 2.0523...  Val loss: 1.8672...  0.2024 sec/batch\n",
      "Epoch: 155/700...  Training Step: 7901...  Training loss: 2.0114...  Val loss: 1.8606...  0.2169 sec/batch\n",
      "Epoch: 157/700...  Training Step: 8001...  Training loss: 2.0339...  Val loss: 1.8601...  0.2039 sec/batch\n",
      "WARNING:tensorflow:Error encountered when serializing LAYER_NAME_UIDS.\n",
      "Type is unsupported, or the types of the items don't match field type in CollectionDef.\n",
      "'dict' object has no attribute 'name'\n",
      "Epoch: 159/700...  Training Step: 8101...  Training loss: 2.0706...  Val loss: 1.8589...  0.2198 sec/batch\n",
      "Epoch: 161/700...  Training Step: 8201...  Training loss: 2.0373...  Val loss: 1.8529...  0.2022 sec/batch\n",
      "Epoch: 163/700...  Training Step: 8301...  Training loss: 2.0344...  Val loss: 1.8503...  0.2015 sec/batch\n",
      "Epoch: 165/700...  Training Step: 8401...  Training loss: 2.0278...  Val loss: 1.8458...  0.2170 sec/batch\n",
      "Epoch: 167/700...  Training Step: 8501...  Training loss: 2.0302...  Val loss: 1.8446...  0.2016 sec/batch\n",
      "WARNING:tensorflow:Error encountered when serializing LAYER_NAME_UIDS.\n",
      "Type is unsupported, or the types of the items don't match field type in CollectionDef.\n",
      "'dict' object has no attribute 'name'\n",
      "Epoch: 169/700...  Training Step: 8601...  Training loss: 2.0063...  Val loss: 1.8419...  0.2145 sec/batch\n",
      "Epoch: 171/700...  Training Step: 8701...  Training loss: 2.0126...  Val loss: 1.8369...  0.2014 sec/batch\n",
      "Epoch: 173/700...  Training Step: 8801...  Training loss: 2.0100...  Val loss: 1.8365...  0.2013 sec/batch\n",
      "Epoch: 175/700...  Training Step: 8901...  Training loss: 2.0061...  Val loss: 1.8317...  0.2212 sec/batch\n",
      "Epoch: 177/700...  Training Step: 9001...  Training loss: 2.0257...  Val loss: 1.8310...  0.2027 sec/batch\n",
      "WARNING:tensorflow:Error encountered when serializing LAYER_NAME_UIDS.\n",
      "Type is unsupported, or the types of the items don't match field type in CollectionDef.\n",
      "'dict' object has no attribute 'name'\n",
      "Epoch: 179/700...  Training Step: 9101...  Training loss: 2.0137...  Val loss: 1.8256...  0.2176 sec/batch\n",
      "Epoch: 181/700...  Training Step: 9201...  Training loss: 2.0275...  Val loss: 1.8242...  0.2005 sec/batch\n",
      "Epoch: 183/700...  Training Step: 9301...  Training loss: 1.9998...  Val loss: 1.8213...  0.2050 sec/batch\n",
      "Epoch: 185/700...  Training Step: 9401...  Training loss: 1.9972...  Val loss: 1.8192...  0.2043 sec/batch\n",
      "Epoch: 187/700...  Training Step: 9501...  Training loss: 2.0184...  Val loss: 1.8188...  0.2190 sec/batch\n",
      "WARNING:tensorflow:Error encountered when serializing LAYER_NAME_UIDS.\n",
      "Type is unsupported, or the types of the items don't match field type in CollectionDef.\n",
      "'dict' object has no attribute 'name'\n",
      "Epoch: 189/700...  Training Step: 9601...  Training loss: 2.0158...  Val loss: 1.8115...  0.2017 sec/batch\n",
      "Epoch: 191/700...  Training Step: 9701...  Training loss: 1.9763...  Val loss: 1.8145...  0.2028 sec/batch\n",
      "Epoch: 193/700...  Training Step: 9801...  Training loss: 1.9953...  Val loss: 1.8075...  0.2024 sec/batch\n",
      "Epoch: 195/700...  Training Step: 9901...  Training loss: 1.9706...  Val loss: 1.8062...  0.2000 sec/batch\n",
      "Epoch: 197/700...  Training Step: 10001...  Training loss: 1.9864...  Val loss: 1.8049...  0.1999 sec/batch\n",
      "WARNING:tensorflow:Error encountered when serializing LAYER_NAME_UIDS.\n",
      "Type is unsupported, or the types of the items don't match field type in CollectionDef.\n",
      "'dict' object has no attribute 'name'\n",
      "Epoch: 199/700...  Training Step: 10101...  Training loss: 1.9996...  Val loss: 1.8025...  0.2044 sec/batch\n",
      "Epoch: 201/700...  Training Step: 10201...  Training loss: 1.9879...  Val loss: 1.7985...  0.2211 sec/batch\n",
      "Epoch: 202/700...  Training Step: 10301...  Training loss: 1.9839...  Val loss: 1.7984...  0.2025 sec/batch\n",
      "Epoch: 204/700...  Training Step: 10401...  Training loss: 1.9720...  Val loss: 1.7927...  0.2033 sec/batch\n",
      "Epoch: 206/700...  Training Step: 10501...  Training loss: 1.9671...  Val loss: 1.7927...  0.2199 sec/batch\n",
      "WARNING:tensorflow:Error encountered when serializing LAYER_NAME_UIDS.\n",
      "Type is unsupported, or the types of the items don't match field type in CollectionDef.\n",
      "'dict' object has no attribute 'name'\n",
      "Epoch: 208/700...  Training Step: 10601...  Training loss: 1.9587...  Val loss: 1.7906...  0.2044 sec/batch\n",
      "Epoch: 210/700...  Training Step: 10701...  Training loss: 1.9543...  Val loss: 1.7891...  0.2003 sec/batch\n",
      "Epoch: 212/700...  Training Step: 10801...  Training loss: 1.9592...  Val loss: 1.7856...  0.2004 sec/batch\n",
      "Epoch: 214/700...  Training Step: 10901...  Training loss: 1.9520...  Val loss: 1.7830...  0.2049 sec/batch\n",
      "Epoch: 216/700...  Training Step: 11001...  Training loss: 1.9665...  Val loss: 1.7829...  0.2009 sec/batch\n",
      "WARNING:tensorflow:Error encountered when serializing LAYER_NAME_UIDS.\n",
      "Type is unsupported, or the types of the items don't match field type in CollectionDef.\n",
      "'dict' object has no attribute 'name'\n",
      "Epoch: 218/700...  Training Step: 11101...  Training loss: 1.9690...  Val loss: 1.7774...  0.2016 sec/batch\n",
      "Epoch: 220/700...  Training Step: 11201...  Training loss: 1.9585...  Val loss: 1.7765...  0.2055 sec/batch\n"
     ]
    },
    {
     "name": "stdout",
     "output_type": "stream",
     "text": [
      "Epoch: 222/700...  Training Step: 11301...  Training loss: 1.9647...  Val loss: 1.7729...  0.2253 sec/batch\n",
      "Epoch: 224/700...  Training Step: 11401...  Training loss: 1.9873...  Val loss: 1.7704...  0.2095 sec/batch\n",
      "Epoch: 226/700...  Training Step: 11501...  Training loss: 1.9706...  Val loss: 1.7722...  0.1999 sec/batch\n",
      "WARNING:tensorflow:Error encountered when serializing LAYER_NAME_UIDS.\n",
      "Type is unsupported, or the types of the items don't match field type in CollectionDef.\n",
      "'dict' object has no attribute 'name'\n",
      "Epoch: 228/700...  Training Step: 11601...  Training loss: 1.9577...  Val loss: 1.7688...  0.2136 sec/batch\n",
      "Epoch: 230/700...  Training Step: 11701...  Training loss: 1.9601...  Val loss: 1.7670...  0.2118 sec/batch\n",
      "Epoch: 232/700...  Training Step: 11801...  Training loss: 1.9457...  Val loss: 1.7654...  0.2086 sec/batch\n",
      "Epoch: 234/700...  Training Step: 11901...  Training loss: 1.9421...  Val loss: 1.7610...  0.2012 sec/batch\n",
      "Epoch: 236/700...  Training Step: 12001...  Training loss: 1.9487...  Val loss: 1.7630...  0.2075 sec/batch\n",
      "WARNING:tensorflow:Error encountered when serializing LAYER_NAME_UIDS.\n",
      "Type is unsupported, or the types of the items don't match field type in CollectionDef.\n",
      "'dict' object has no attribute 'name'\n",
      "Epoch: 238/700...  Training Step: 12101...  Training loss: 1.9542...  Val loss: 1.7610...  0.2046 sec/batch\n",
      "Epoch: 240/700...  Training Step: 12201...  Training loss: 1.9239...  Val loss: 1.7592...  0.2027 sec/batch\n",
      "Epoch: 242/700...  Training Step: 12301...  Training loss: 1.9453...  Val loss: 1.7534...  0.2182 sec/batch\n",
      "Epoch: 244/700...  Training Step: 12401...  Training loss: 1.9306...  Val loss: 1.7528...  0.2092 sec/batch\n",
      "Epoch: 246/700...  Training Step: 12501...  Training loss: 1.9256...  Val loss: 1.7527...  0.2086 sec/batch\n",
      "WARNING:tensorflow:Error encountered when serializing LAYER_NAME_UIDS.\n",
      "Type is unsupported, or the types of the items don't match field type in CollectionDef.\n",
      "'dict' object has no attribute 'name'\n",
      "Epoch: 248/700...  Training Step: 12601...  Training loss: 1.9406...  Val loss: 1.7492...  0.2094 sec/batch\n",
      "Epoch: 250/700...  Training Step: 12701...  Training loss: 1.9515...  Val loss: 1.7478...  0.2091 sec/batch\n",
      "Epoch: 251/700...  Training Step: 12801...  Training loss: 1.9311...  Val loss: 1.7472...  0.2075 sec/batch\n",
      "Epoch: 253/700...  Training Step: 12901...  Training loss: 1.9365...  Val loss: 1.7425...  0.2081 sec/batch\n",
      "Epoch: 255/700...  Training Step: 13001...  Training loss: 1.8980...  Val loss: 1.7408...  0.2162 sec/batch\n",
      "WARNING:tensorflow:Error encountered when serializing LAYER_NAME_UIDS.\n",
      "Type is unsupported, or the types of the items don't match field type in CollectionDef.\n",
      "'dict' object has no attribute 'name'\n",
      "Epoch: 257/700...  Training Step: 13101...  Training loss: 1.9206...  Val loss: 1.7402...  0.2013 sec/batch\n",
      "Epoch: 259/700...  Training Step: 13201...  Training loss: 1.9574...  Val loss: 1.7405...  0.2070 sec/batch\n",
      "Epoch: 261/700...  Training Step: 13301...  Training loss: 1.9220...  Val loss: 1.7372...  0.2157 sec/batch\n",
      "Epoch: 263/700...  Training Step: 13401...  Training loss: 1.9172...  Val loss: 1.7355...  0.2079 sec/batch\n",
      "Epoch: 265/700...  Training Step: 13501...  Training loss: 1.9150...  Val loss: 1.7328...  0.2129 sec/batch\n",
      "WARNING:tensorflow:Error encountered when serializing LAYER_NAME_UIDS.\n",
      "Type is unsupported, or the types of the items don't match field type in CollectionDef.\n",
      "'dict' object has no attribute 'name'\n",
      "Epoch: 267/700...  Training Step: 13601...  Training loss: 1.9195...  Val loss: 1.7313...  0.2087 sec/batch\n",
      "Epoch: 269/700...  Training Step: 13701...  Training loss: 1.9042...  Val loss: 1.7314...  0.2015 sec/batch\n",
      "Epoch: 271/700...  Training Step: 13801...  Training loss: 1.9188...  Val loss: 1.7298...  0.2011 sec/batch\n",
      "Epoch: 273/700...  Training Step: 13901...  Training loss: 1.9112...  Val loss: 1.7281...  0.2159 sec/batch\n",
      "Epoch: 275/700...  Training Step: 14001...  Training loss: 1.9019...  Val loss: 1.7258...  0.2105 sec/batch\n",
      "WARNING:tensorflow:Error encountered when serializing LAYER_NAME_UIDS.\n",
      "Type is unsupported, or the types of the items don't match field type in CollectionDef.\n",
      "'dict' object has no attribute 'name'\n",
      "Epoch: 277/700...  Training Step: 14101...  Training loss: 1.9188...  Val loss: 1.7251...  0.2012 sec/batch\n",
      "Epoch: 279/700...  Training Step: 14201...  Training loss: 1.9094...  Val loss: 1.7228...  0.2099 sec/batch\n",
      "Epoch: 281/700...  Training Step: 14301...  Training loss: 1.9317...  Val loss: 1.7202...  0.2036 sec/batch\n",
      "Epoch: 283/700...  Training Step: 14401...  Training loss: 1.9114...  Val loss: 1.7188...  0.2248 sec/batch\n",
      "Epoch: 285/700...  Training Step: 14501...  Training loss: 1.8956...  Val loss: 1.7172...  0.2017 sec/batch\n",
      "WARNING:tensorflow:Error encountered when serializing LAYER_NAME_UIDS.\n",
      "Type is unsupported, or the types of the items don't match field type in CollectionDef.\n",
      "'dict' object has no attribute 'name'\n",
      "Epoch: 287/700...  Training Step: 14601...  Training loss: 1.9227...  Val loss: 1.7177...  0.2030 sec/batch\n",
      "Epoch: 289/700...  Training Step: 14701...  Training loss: 1.9249...  Val loss: 1.7142...  0.2147 sec/batch\n",
      "Epoch: 291/700...  Training Step: 14801...  Training loss: 1.8914...  Val loss: 1.7171...  0.2092 sec/batch\n",
      "Epoch: 293/700...  Training Step: 14901...  Training loss: 1.8993...  Val loss: 1.7093...  0.2262 sec/batch\n",
      "Epoch: 295/700...  Training Step: 15001...  Training loss: 1.8715...  Val loss: 1.7090...  0.2093 sec/batch\n",
      "WARNING:tensorflow:Error encountered when serializing LAYER_NAME_UIDS.\n",
      "Type is unsupported, or the types of the items don't match field type in CollectionDef.\n",
      "'dict' object has no attribute 'name'\n",
      "Epoch: 297/700...  Training Step: 15101...  Training loss: 1.8959...  Val loss: 1.7090...  0.2100 sec/batch\n",
      "Epoch: 299/700...  Training Step: 15201...  Training loss: 1.9047...  Val loss: 1.7091...  0.2088 sec/batch\n",
      "Epoch: 301/700...  Training Step: 15301...  Training loss: 1.9033...  Val loss: 1.7050...  0.2087 sec/batch\n",
      "Epoch: 302/700...  Training Step: 15401...  Training loss: 1.8800...  Val loss: 1.7057...  0.2133 sec/batch\n",
      "Epoch: 304/700...  Training Step: 15501...  Training loss: 1.8853...  Val loss: 1.7030...  0.2103 sec/batch\n",
      "WARNING:tensorflow:Error encountered when serializing LAYER_NAME_UIDS.\n",
      "Type is unsupported, or the types of the items don't match field type in CollectionDef.\n",
      "'dict' object has no attribute 'name'\n",
      "Epoch: 306/700...  Training Step: 15601...  Training loss: 1.8747...  Val loss: 1.7011...  0.2110 sec/batch\n",
      "Epoch: 308/700...  Training Step: 15701...  Training loss: 1.8737...  Val loss: 1.7011...  0.2024 sec/batch\n",
      "Epoch: 310/700...  Training Step: 15801...  Training loss: 1.8738...  Val loss: 1.7009...  0.2023 sec/batch\n",
      "Epoch: 312/700...  Training Step: 15901...  Training loss: 1.8753...  Val loss: 1.6983...  0.2080 sec/batch\n",
      "Epoch: 314/700...  Training Step: 16001...  Training loss: 1.8698...  Val loss: 1.6960...  0.2088 sec/batch\n",
      "WARNING:tensorflow:Error encountered when serializing LAYER_NAME_UIDS.\n",
      "Type is unsupported, or the types of the items don't match field type in CollectionDef.\n",
      "'dict' object has no attribute 'name'\n",
      "Epoch: 316/700...  Training Step: 16101...  Training loss: 1.8860...  Val loss: 1.6960...  0.2095 sec/batch\n",
      "Epoch: 318/700...  Training Step: 16201...  Training loss: 1.8915...  Val loss: 1.6938...  0.2083 sec/batch\n",
      "Epoch: 320/700...  Training Step: 16301...  Training loss: 1.8768...  Val loss: 1.6926...  0.2090 sec/batch\n",
      "Epoch: 322/700...  Training Step: 16401...  Training loss: 1.8869...  Val loss: 1.6895...  0.2091 sec/batch\n",
      "Epoch: 324/700...  Training Step: 16501...  Training loss: 1.9024...  Val loss: 1.6893...  0.2034 sec/batch\n",
      "WARNING:tensorflow:Error encountered when serializing LAYER_NAME_UIDS.\n",
      "Type is unsupported, or the types of the items don't match field type in CollectionDef.\n",
      "'dict' object has no attribute 'name'\n",
      "Epoch: 326/700...  Training Step: 16601...  Training loss: 1.8919...  Val loss: 1.6899...  0.2042 sec/batch\n",
      "Epoch: 328/700...  Training Step: 16701...  Training loss: 1.8853...  Val loss: 1.6888...  0.2185 sec/batch\n",
      "Epoch: 330/700...  Training Step: 16801...  Training loss: 1.8846...  Val loss: 1.6860...  0.2087 sec/batch\n"
     ]
    },
    {
     "name": "stdout",
     "output_type": "stream",
     "text": [
      "Epoch: 332/700...  Training Step: 16901...  Training loss: 1.8766...  Val loss: 1.6854...  0.2036 sec/batch\n",
      "Epoch: 334/700...  Training Step: 17001...  Training loss: 1.8645...  Val loss: 1.6825...  0.2016 sec/batch\n",
      "WARNING:tensorflow:Error encountered when serializing LAYER_NAME_UIDS.\n",
      "Type is unsupported, or the types of the items don't match field type in CollectionDef.\n",
      "'dict' object has no attribute 'name'\n",
      "Epoch: 336/700...  Training Step: 17101...  Training loss: 1.8731...  Val loss: 1.6844...  0.2013 sec/batch\n",
      "Epoch: 338/700...  Training Step: 17201...  Training loss: 1.8856...  Val loss: 1.6845...  0.2223 sec/batch\n",
      "Epoch: 340/700...  Training Step: 17301...  Training loss: 1.8537...  Val loss: 1.6831...  0.2031 sec/batch\n",
      "Epoch: 342/700...  Training Step: 17401...  Training loss: 1.8743...  Val loss: 1.6762...  0.2157 sec/batch\n",
      "Epoch: 344/700...  Training Step: 17501...  Training loss: 1.8624...  Val loss: 1.6779...  0.2111 sec/batch\n",
      "WARNING:tensorflow:Error encountered when serializing LAYER_NAME_UIDS.\n",
      "Type is unsupported, or the types of the items don't match field type in CollectionDef.\n",
      "'dict' object has no attribute 'name'\n",
      "Epoch: 346/700...  Training Step: 17601...  Training loss: 1.8472...  Val loss: 1.6783...  0.2231 sec/batch\n",
      "Epoch: 348/700...  Training Step: 17701...  Training loss: 1.8617...  Val loss: 1.6777...  0.2097 sec/batch\n",
      "Epoch: 350/700...  Training Step: 17801...  Training loss: 1.8850...  Val loss: 1.6764...  0.2090 sec/batch\n",
      "Epoch: 351/700...  Training Step: 17901...  Training loss: 1.8601...  Val loss: 1.6761...  0.2080 sec/batch\n",
      "Epoch: 353/700...  Training Step: 18001...  Training loss: 1.8588...  Val loss: 1.6719...  0.2244 sec/batch\n",
      "WARNING:tensorflow:Error encountered when serializing LAYER_NAME_UIDS.\n",
      "Type is unsupported, or the types of the items don't match field type in CollectionDef.\n",
      "'dict' object has no attribute 'name'\n",
      "Epoch: 355/700...  Training Step: 18101...  Training loss: 1.8304...  Val loss: 1.6696...  0.2241 sec/batch\n",
      "Epoch: 357/700...  Training Step: 18201...  Training loss: 1.8440...  Val loss: 1.6705...  0.2083 sec/batch\n",
      "Epoch: 359/700...  Training Step: 18301...  Training loss: 1.8958...  Val loss: 1.6727...  0.2193 sec/batch\n",
      "Epoch: 361/700...  Training Step: 18401...  Training loss: 1.8569...  Val loss: 1.6665...  0.2094 sec/batch\n",
      "Epoch: 363/700...  Training Step: 18501...  Training loss: 1.8449...  Val loss: 1.6684...  0.2087 sec/batch\n",
      "WARNING:tensorflow:Error encountered when serializing LAYER_NAME_UIDS.\n",
      "Type is unsupported, or the types of the items don't match field type in CollectionDef.\n",
      "'dict' object has no attribute 'name'\n",
      "Epoch: 365/700...  Training Step: 18601...  Training loss: 1.8421...  Val loss: 1.6643...  0.2085 sec/batch\n",
      "Epoch: 367/700...  Training Step: 18701...  Training loss: 1.8492...  Val loss: 1.6664...  0.2098 sec/batch\n",
      "Epoch: 369/700...  Training Step: 18801...  Training loss: 1.8391...  Val loss: 1.6643...  0.2087 sec/batch\n",
      "Epoch: 371/700...  Training Step: 18901...  Training loss: 1.8485...  Val loss: 1.6632...  0.2081 sec/batch\n",
      "Epoch: 373/700...  Training Step: 19001...  Training loss: 1.8390...  Val loss: 1.6634...  0.2087 sec/batch\n",
      "WARNING:tensorflow:Error encountered when serializing LAYER_NAME_UIDS.\n",
      "Type is unsupported, or the types of the items don't match field type in CollectionDef.\n",
      "'dict' object has no attribute 'name'\n",
      "Epoch: 375/700...  Training Step: 19101...  Training loss: 1.8408...  Val loss: 1.6605...  0.2087 sec/batch\n",
      "Epoch: 377/700...  Training Step: 19201...  Training loss: 1.8530...  Val loss: 1.6618...  0.2084 sec/batch\n",
      "Epoch: 379/700...  Training Step: 19301...  Training loss: 1.8541...  Val loss: 1.6581...  0.2040 sec/batch\n",
      "Epoch: 381/700...  Training Step: 19401...  Training loss: 1.8642...  Val loss: 1.6583...  0.2168 sec/batch\n",
      "Epoch: 383/700...  Training Step: 19501...  Training loss: 1.8472...  Val loss: 1.6569...  0.2013 sec/batch\n",
      "WARNING:tensorflow:Error encountered when serializing LAYER_NAME_UIDS.\n",
      "Type is unsupported, or the types of the items don't match field type in CollectionDef.\n",
      "'dict' object has no attribute 'name'\n",
      "Epoch: 385/700...  Training Step: 19601...  Training loss: 1.8411...  Val loss: 1.6569...  0.2001 sec/batch\n",
      "Epoch: 387/700...  Training Step: 19701...  Training loss: 1.8700...  Val loss: 1.6574...  0.2010 sec/batch\n",
      "Epoch: 389/700...  Training Step: 19801...  Training loss: 1.8610...  Val loss: 1.6538...  0.2005 sec/batch\n",
      "Epoch: 391/700...  Training Step: 19901...  Training loss: 1.8225...  Val loss: 1.6560...  0.2011 sec/batch\n",
      "Epoch: 393/700...  Training Step: 20001...  Training loss: 1.8497...  Val loss: 1.6514...  0.2020 sec/batch\n",
      "WARNING:tensorflow:Error encountered when serializing LAYER_NAME_UIDS.\n",
      "Type is unsupported, or the types of the items don't match field type in CollectionDef.\n",
      "'dict' object has no attribute 'name'\n",
      "Epoch: 395/700...  Training Step: 20101...  Training loss: 1.8177...  Val loss: 1.6503...  0.2090 sec/batch\n",
      "Epoch: 397/700...  Training Step: 20201...  Training loss: 1.8412...  Val loss: 1.6527...  0.2089 sec/batch\n",
      "Epoch: 399/700...  Training Step: 20301...  Training loss: 1.8535...  Val loss: 1.6552...  0.2091 sec/batch\n",
      "Epoch: 401/700...  Training Step: 20401...  Training loss: 1.8496...  Val loss: 1.6493...  0.2089 sec/batch\n",
      "Epoch: 402/700...  Training Step: 20501...  Training loss: 1.8329...  Val loss: 1.6508...  0.2086 sec/batch\n",
      "WARNING:tensorflow:Error encountered when serializing LAYER_NAME_UIDS.\n",
      "Type is unsupported, or the types of the items don't match field type in CollectionDef.\n",
      "'dict' object has no attribute 'name'\n",
      "Epoch: 404/700...  Training Step: 20601...  Training loss: 1.8192...  Val loss: 1.6454...  0.2089 sec/batch\n",
      "Epoch: 406/700...  Training Step: 20701...  Training loss: 1.8288...  Val loss: 1.6451...  0.2086 sec/batch\n",
      "Epoch: 408/700...  Training Step: 20801...  Training loss: 1.8241...  Val loss: 1.6461...  0.2095 sec/batch\n",
      "Epoch: 410/700...  Training Step: 20901...  Training loss: 1.8144...  Val loss: 1.6456...  0.2092 sec/batch\n",
      "Epoch: 412/700...  Training Step: 21001...  Training loss: 1.8188...  Val loss: 1.6432...  0.2084 sec/batch\n",
      "WARNING:tensorflow:Error encountered when serializing LAYER_NAME_UIDS.\n",
      "Type is unsupported, or the types of the items don't match field type in CollectionDef.\n",
      "'dict' object has no attribute 'name'\n",
      "Epoch: 414/700...  Training Step: 21101...  Training loss: 1.8095...  Val loss: 1.6423...  0.2087 sec/batch\n",
      "Epoch: 416/700...  Training Step: 21201...  Training loss: 1.8338...  Val loss: 1.6431...  0.2093 sec/batch\n",
      "Epoch: 418/700...  Training Step: 21301...  Training loss: 1.8360...  Val loss: 1.6410...  0.2090 sec/batch\n",
      "Epoch: 420/700...  Training Step: 21401...  Training loss: 1.8262...  Val loss: 1.6409...  0.2092 sec/batch\n",
      "Epoch: 422/700...  Training Step: 21501...  Training loss: 1.8316...  Val loss: 1.6389...  0.2084 sec/batch\n",
      "WARNING:tensorflow:Error encountered when serializing LAYER_NAME_UIDS.\n",
      "Type is unsupported, or the types of the items don't match field type in CollectionDef.\n",
      "'dict' object has no attribute 'name'\n",
      "Epoch: 424/700...  Training Step: 21601...  Training loss: 1.8465...  Val loss: 1.6379...  0.2089 sec/batch\n",
      "Epoch: 426/700...  Training Step: 21701...  Training loss: 1.8387...  Val loss: 1.6400...  0.2099 sec/batch\n",
      "Epoch: 428/700...  Training Step: 21801...  Training loss: 1.8260...  Val loss: 1.6384...  0.2086 sec/batch\n",
      "Epoch: 430/700...  Training Step: 21901...  Training loss: 1.8339...  Val loss: 1.6349...  0.2080 sec/batch\n",
      "Epoch: 432/700...  Training Step: 22001...  Training loss: 1.8155...  Val loss: 1.6345...  0.2095 sec/batch\n",
      "WARNING:tensorflow:Error encountered when serializing LAYER_NAME_UIDS.\n",
      "Type is unsupported, or the types of the items don't match field type in CollectionDef.\n",
      "'dict' object has no attribute 'name'\n",
      "Epoch: 434/700...  Training Step: 22101...  Training loss: 1.8118...  Val loss: 1.6311...  0.2087 sec/batch\n",
      "Epoch: 436/700...  Training Step: 22201...  Training loss: 1.8293...  Val loss: 1.6343...  0.2084 sec/batch\n",
      "Epoch: 438/700...  Training Step: 22301...  Training loss: 1.8371...  Val loss: 1.6358...  0.2091 sec/batch\n",
      "Epoch: 440/700...  Training Step: 22401...  Training loss: 1.7982...  Val loss: 1.6341...  0.2085 sec/batch\n"
     ]
    },
    {
     "name": "stdout",
     "output_type": "stream",
     "text": [
      "Epoch: 442/700...  Training Step: 22501...  Training loss: 1.8194...  Val loss: 1.6288...  0.2089 sec/batch\n",
      "WARNING:tensorflow:Error encountered when serializing LAYER_NAME_UIDS.\n",
      "Type is unsupported, or the types of the items don't match field type in CollectionDef.\n",
      "'dict' object has no attribute 'name'\n",
      "Epoch: 444/700...  Training Step: 22601...  Training loss: 1.8166...  Val loss: 1.6316...  0.2081 sec/batch\n",
      "Epoch: 446/700...  Training Step: 22701...  Training loss: 1.8065...  Val loss: 1.6305...  0.2082 sec/batch\n",
      "Epoch: 448/700...  Training Step: 22801...  Training loss: 1.8166...  Val loss: 1.6285...  0.2084 sec/batch\n",
      "Epoch: 450/700...  Training Step: 22901...  Training loss: 1.8527...  Val loss: 1.6293...  0.2086 sec/batch\n",
      "Epoch: 451/700...  Training Step: 23001...  Training loss: 1.8055...  Val loss: 1.6288...  0.2086 sec/batch\n",
      "WARNING:tensorflow:Error encountered when serializing LAYER_NAME_UIDS.\n",
      "Type is unsupported, or the types of the items don't match field type in CollectionDef.\n",
      "'dict' object has no attribute 'name'\n",
      "Epoch: 453/700...  Training Step: 23101...  Training loss: 1.8204...  Val loss: 1.6269...  0.2240 sec/batch\n",
      "Epoch: 455/700...  Training Step: 23201...  Training loss: 1.7799...  Val loss: 1.6252...  0.2089 sec/batch\n",
      "Epoch: 457/700...  Training Step: 23301...  Training loss: 1.7942...  Val loss: 1.6253...  0.2082 sec/batch\n",
      "Epoch: 459/700...  Training Step: 23401...  Training loss: 1.8459...  Val loss: 1.6261...  0.2087 sec/batch\n",
      "Epoch: 461/700...  Training Step: 23501...  Training loss: 1.8138...  Val loss: 1.6214...  0.2083 sec/batch\n",
      "WARNING:tensorflow:Error encountered when serializing LAYER_NAME_UIDS.\n",
      "Type is unsupported, or the types of the items don't match field type in CollectionDef.\n",
      "'dict' object has no attribute 'name'\n",
      "Epoch: 463/700...  Training Step: 23601...  Training loss: 1.8003...  Val loss: 1.6230...  0.2087 sec/batch\n",
      "Epoch: 465/700...  Training Step: 23701...  Training loss: 1.8041...  Val loss: 1.6221...  0.2084 sec/batch\n",
      "Epoch: 467/700...  Training Step: 23801...  Training loss: 1.8219...  Val loss: 1.6218...  0.2094 sec/batch\n",
      "Epoch: 469/700...  Training Step: 23901...  Training loss: 1.7915...  Val loss: 1.6227...  0.2079 sec/batch\n",
      "Epoch: 471/700...  Training Step: 24001...  Training loss: 1.8132...  Val loss: 1.6234...  0.2087 sec/batch\n",
      "WARNING:tensorflow:Error encountered when serializing LAYER_NAME_UIDS.\n",
      "Type is unsupported, or the types of the items don't match field type in CollectionDef.\n",
      "'dict' object has no attribute 'name'\n",
      "Epoch: 473/700...  Training Step: 24101...  Training loss: 1.8010...  Val loss: 1.6224...  0.2089 sec/batch\n",
      "Epoch: 475/700...  Training Step: 24201...  Training loss: 1.7945...  Val loss: 1.6201...  0.2088 sec/batch\n",
      "Epoch: 477/700...  Training Step: 24301...  Training loss: 1.8130...  Val loss: 1.6205...  0.2015 sec/batch\n",
      "Epoch: 479/700...  Training Step: 24401...  Training loss: 1.8090...  Val loss: 1.6158...  0.2011 sec/batch\n",
      "Epoch: 481/700...  Training Step: 24501...  Training loss: 1.8259...  Val loss: 1.6164...  0.2015 sec/batch\n",
      "WARNING:tensorflow:Error encountered when serializing LAYER_NAME_UIDS.\n",
      "Type is unsupported, or the types of the items don't match field type in CollectionDef.\n",
      "'dict' object has no attribute 'name'\n",
      "Epoch: 483/700...  Training Step: 24601...  Training loss: 1.7998...  Val loss: 1.6172...  0.2132 sec/batch\n",
      "Epoch: 485/700...  Training Step: 24701...  Training loss: 1.7919...  Val loss: 1.6168...  0.2093 sec/batch\n",
      "Epoch: 487/700...  Training Step: 24801...  Training loss: 1.8298...  Val loss: 1.6190...  0.2139 sec/batch\n",
      "Epoch: 489/700...  Training Step: 24901...  Training loss: 1.8163...  Val loss: 1.6125...  0.2075 sec/batch\n",
      "Epoch: 491/700...  Training Step: 25001...  Training loss: 1.7925...  Val loss: 1.6159...  0.2072 sec/batch\n",
      "WARNING:tensorflow:Error encountered when serializing LAYER_NAME_UIDS.\n",
      "Type is unsupported, or the types of the items don't match field type in CollectionDef.\n",
      "'dict' object has no attribute 'name'\n",
      "Epoch: 493/700...  Training Step: 25101...  Training loss: 1.7974...  Val loss: 1.6119...  0.2072 sec/batch\n",
      "Epoch: 495/700...  Training Step: 25201...  Training loss: 1.7811...  Val loss: 1.6111...  0.2079 sec/batch\n",
      "Epoch: 497/700...  Training Step: 25301...  Training loss: 1.8028...  Val loss: 1.6129...  0.2095 sec/batch\n",
      "Epoch: 499/700...  Training Step: 25401...  Training loss: 1.8098...  Val loss: 1.6163...  0.2075 sec/batch\n",
      "Epoch: 501/700...  Training Step: 25501...  Training loss: 1.8056...  Val loss: 1.6098...  0.2079 sec/batch\n",
      "WARNING:tensorflow:Error encountered when serializing LAYER_NAME_UIDS.\n",
      "Type is unsupported, or the types of the items don't match field type in CollectionDef.\n",
      "'dict' object has no attribute 'name'\n",
      "Epoch: 502/700...  Training Step: 25601...  Training loss: 1.7975...  Val loss: 1.6113...  0.2071 sec/batch\n",
      "Epoch: 504/700...  Training Step: 25701...  Training loss: 1.7847...  Val loss: 1.6085...  0.2079 sec/batch\n",
      "Epoch: 506/700...  Training Step: 25801...  Training loss: 1.7808...  Val loss: 1.6069...  0.2278 sec/batch\n",
      "Epoch: 508/700...  Training Step: 25901...  Training loss: 1.7906...  Val loss: 1.6071...  0.2076 sec/batch\n",
      "Epoch: 510/700...  Training Step: 26001...  Training loss: 1.7803...  Val loss: 1.6091...  0.2072 sec/batch\n",
      "WARNING:tensorflow:Error encountered when serializing LAYER_NAME_UIDS.\n",
      "Type is unsupported, or the types of the items don't match field type in CollectionDef.\n",
      "'dict' object has no attribute 'name'\n",
      "Epoch: 512/700...  Training Step: 26101...  Training loss: 1.7792...  Val loss: 1.6084...  0.2083 sec/batch\n",
      "Epoch: 514/700...  Training Step: 26201...  Training loss: 1.7731...  Val loss: 1.6057...  0.2088 sec/batch\n",
      "Epoch: 516/700...  Training Step: 26301...  Training loss: 1.7939...  Val loss: 1.6055...  0.2080 sec/batch\n",
      "Epoch: 518/700...  Training Step: 26401...  Training loss: 1.7959...  Val loss: 1.6043...  0.2133 sec/batch\n",
      "Epoch: 520/700...  Training Step: 26501...  Training loss: 1.7897...  Val loss: 1.6072...  0.2076 sec/batch\n",
      "WARNING:tensorflow:Error encountered when serializing LAYER_NAME_UIDS.\n",
      "Type is unsupported, or the types of the items don't match field type in CollectionDef.\n",
      "'dict' object has no attribute 'name'\n",
      "Epoch: 522/700...  Training Step: 26601...  Training loss: 1.8003...  Val loss: 1.6022...  0.2078 sec/batch\n",
      "Epoch: 524/700...  Training Step: 26701...  Training loss: 1.8169...  Val loss: 1.6021...  0.2231 sec/batch\n",
      "Epoch: 526/700...  Training Step: 26801...  Training loss: 1.8013...  Val loss: 1.6071...  0.2077 sec/batch\n",
      "Epoch: 528/700...  Training Step: 26901...  Training loss: 1.7934...  Val loss: 1.6036...  0.2244 sec/batch\n",
      "Epoch: 530/700...  Training Step: 27001...  Training loss: 1.8054...  Val loss: 1.5996...  0.2067 sec/batch\n",
      "WARNING:tensorflow:Error encountered when serializing LAYER_NAME_UIDS.\n",
      "Type is unsupported, or the types of the items don't match field type in CollectionDef.\n",
      "'dict' object has no attribute 'name'\n",
      "Epoch: 532/700...  Training Step: 27101...  Training loss: 1.7794...  Val loss: 1.6006...  0.2071 sec/batch\n",
      "Epoch: 534/700...  Training Step: 27201...  Training loss: 1.7826...  Val loss: 1.5993...  0.2147 sec/batch\n",
      "Epoch: 536/700...  Training Step: 27301...  Training loss: 1.7925...  Val loss: 1.6024...  0.2078 sec/batch\n",
      "Epoch: 538/700...  Training Step: 27401...  Training loss: 1.7879...  Val loss: 1.6015...  0.2134 sec/batch\n",
      "Epoch: 540/700...  Training Step: 27501...  Training loss: 1.7678...  Val loss: 1.5977...  0.2072 sec/batch\n",
      "WARNING:tensorflow:Error encountered when serializing LAYER_NAME_UIDS.\n",
      "Type is unsupported, or the types of the items don't match field type in CollectionDef.\n",
      "'dict' object has no attribute 'name'\n",
      "Epoch: 542/700...  Training Step: 27601...  Training loss: 1.7810...  Val loss: 1.5954...  0.2073 sec/batch\n",
      "Epoch: 544/700...  Training Step: 27701...  Training loss: 1.7779...  Val loss: 1.5994...  0.2073 sec/batch\n",
      "Epoch: 546/700...  Training Step: 27801...  Training loss: 1.7764...  Val loss: 1.5983...  0.2197 sec/batch\n",
      "Epoch: 548/700...  Training Step: 27901...  Training loss: 1.7881...  Val loss: 1.5976...  0.2229 sec/batch\n",
      "Epoch: 550/700...  Training Step: 28001...  Training loss: 1.8112...  Val loss: 1.5973...  0.2068 sec/batch\n",
      "WARNING:tensorflow:Error encountered when serializing LAYER_NAME_UIDS.\n",
      "Type is unsupported, or the types of the items don't match field type in CollectionDef.\n",
      "'dict' object has no attribute 'name'\n"
     ]
    },
    {
     "name": "stdout",
     "output_type": "stream",
     "text": [
      "Epoch: 551/700...  Training Step: 28101...  Training loss: 1.7676...  Val loss: 1.5996...  0.2102 sec/batch\n",
      "Epoch: 553/700...  Training Step: 28201...  Training loss: 1.7771...  Val loss: 1.5942...  0.2081 sec/batch\n",
      "Epoch: 555/700...  Training Step: 28301...  Training loss: 1.7543...  Val loss: 1.5934...  0.2073 sec/batch\n",
      "Epoch: 557/700...  Training Step: 28401...  Training loss: 1.7601...  Val loss: 1.5938...  0.2072 sec/batch\n",
      "Epoch: 559/700...  Training Step: 28501...  Training loss: 1.8133...  Val loss: 1.5968...  0.2073 sec/batch\n",
      "WARNING:tensorflow:Error encountered when serializing LAYER_NAME_UIDS.\n",
      "Type is unsupported, or the types of the items don't match field type in CollectionDef.\n",
      "'dict' object has no attribute 'name'\n",
      "Epoch: 561/700...  Training Step: 28601...  Training loss: 1.7769...  Val loss: 1.5910...  0.2076 sec/batch\n",
      "Epoch: 563/700...  Training Step: 28701...  Training loss: 1.7736...  Val loss: 1.5948...  0.2073 sec/batch\n",
      "Epoch: 565/700...  Training Step: 28801...  Training loss: 1.7619...  Val loss: 1.5910...  0.2074 sec/batch\n",
      "Epoch: 567/700...  Training Step: 28901...  Training loss: 1.7804...  Val loss: 1.5928...  0.2075 sec/batch\n",
      "Epoch: 569/700...  Training Step: 29001...  Training loss: 1.7649...  Val loss: 1.5928...  0.2077 sec/batch\n",
      "WARNING:tensorflow:Error encountered when serializing LAYER_NAME_UIDS.\n",
      "Type is unsupported, or the types of the items don't match field type in CollectionDef.\n",
      "'dict' object has no attribute 'name'\n",
      "Epoch: 571/700...  Training Step: 29101...  Training loss: 1.7776...  Val loss: 1.5901...  0.2073 sec/batch\n",
      "Epoch: 573/700...  Training Step: 29201...  Training loss: 1.7626...  Val loss: 1.5914...  0.2069 sec/batch\n",
      "Epoch: 575/700...  Training Step: 29301...  Training loss: 1.7596...  Val loss: 1.5920...  0.2076 sec/batch\n",
      "Epoch: 577/700...  Training Step: 29401...  Training loss: 1.7868...  Val loss: 1.5918...  0.2077 sec/batch\n",
      "Epoch: 579/700...  Training Step: 29501...  Training loss: 1.7796...  Val loss: 1.5883...  0.2069 sec/batch\n",
      "WARNING:tensorflow:Error encountered when serializing LAYER_NAME_UIDS.\n",
      "Type is unsupported, or the types of the items don't match field type in CollectionDef.\n",
      "'dict' object has no attribute 'name'\n",
      "Epoch: 581/700...  Training Step: 29601...  Training loss: 1.7931...  Val loss: 1.5883...  0.2086 sec/batch\n",
      "Epoch: 583/700...  Training Step: 29701...  Training loss: 1.7785...  Val loss: 1.5880...  0.2072 sec/batch\n",
      "Epoch: 585/700...  Training Step: 29801...  Training loss: 1.7600...  Val loss: 1.5885...  0.2076 sec/batch\n",
      "Epoch: 587/700...  Training Step: 29901...  Training loss: 1.7990...  Val loss: 1.5900...  0.2237 sec/batch\n",
      "Epoch: 589/700...  Training Step: 30001...  Training loss: 1.7915...  Val loss: 1.5856...  0.2104 sec/batch\n",
      "WARNING:tensorflow:Error encountered when serializing LAYER_NAME_UIDS.\n",
      "Type is unsupported, or the types of the items don't match field type in CollectionDef.\n",
      "'dict' object has no attribute 'name'\n",
      "Epoch: 591/700...  Training Step: 30101...  Training loss: 1.7535...  Val loss: 1.5893...  0.2019 sec/batch\n",
      "Epoch: 593/700...  Training Step: 30201...  Training loss: 1.7599...  Val loss: 1.5839...  0.2011 sec/batch\n",
      "Epoch: 595/700...  Training Step: 30301...  Training loss: 1.7461...  Val loss: 1.5860...  0.2296 sec/batch\n",
      "Epoch: 597/700...  Training Step: 30401...  Training loss: 1.7684...  Val loss: 1.5879...  0.2151 sec/batch\n",
      "Epoch: 599/700...  Training Step: 30501...  Training loss: 1.7790...  Val loss: 1.5890...  0.2058 sec/batch\n",
      "WARNING:tensorflow:Error encountered when serializing LAYER_NAME_UIDS.\n",
      "Type is unsupported, or the types of the items don't match field type in CollectionDef.\n",
      "'dict' object has no attribute 'name'\n",
      "Epoch: 601/700...  Training Step: 30601...  Training loss: 1.7885...  Val loss: 1.5834...  0.2068 sec/batch\n",
      "Epoch: 602/700...  Training Step: 30701...  Training loss: 1.7656...  Val loss: 1.5867...  0.2056 sec/batch\n",
      "Epoch: 604/700...  Training Step: 30801...  Training loss: 1.7553...  Val loss: 1.5813...  0.1997 sec/batch\n",
      "Epoch: 606/700...  Training Step: 30901...  Training loss: 1.7502...  Val loss: 1.5825...  0.2012 sec/batch\n",
      "Epoch: 608/700...  Training Step: 31001...  Training loss: 1.7605...  Val loss: 1.5812...  0.2014 sec/batch\n",
      "WARNING:tensorflow:Error encountered when serializing LAYER_NAME_UIDS.\n",
      "Type is unsupported, or the types of the items don't match field type in CollectionDef.\n",
      "'dict' object has no attribute 'name'\n",
      "Epoch: 610/700...  Training Step: 31101...  Training loss: 1.7497...  Val loss: 1.5835...  0.2012 sec/batch\n",
      "Epoch: 612/700...  Training Step: 31201...  Training loss: 1.7475...  Val loss: 1.5827...  0.2010 sec/batch\n",
      "Epoch: 614/700...  Training Step: 31301...  Training loss: 1.7473...  Val loss: 1.5802...  0.2015 sec/batch\n",
      "Epoch: 616/700...  Training Step: 31401...  Training loss: 1.7683...  Val loss: 1.5804...  0.2012 sec/batch\n",
      "Epoch: 618/700...  Training Step: 31501...  Training loss: 1.7627...  Val loss: 1.5824...  0.2013 sec/batch\n",
      "WARNING:tensorflow:Error encountered when serializing LAYER_NAME_UIDS.\n",
      "Type is unsupported, or the types of the items don't match field type in CollectionDef.\n",
      "'dict' object has no attribute 'name'\n",
      "Epoch: 620/700...  Training Step: 31601...  Training loss: 1.7652...  Val loss: 1.5823...  0.2013 sec/batch\n",
      "Epoch: 622/700...  Training Step: 31701...  Training loss: 1.7628...  Val loss: 1.5800...  0.2013 sec/batch\n",
      "Epoch: 624/700...  Training Step: 31801...  Training loss: 1.7903...  Val loss: 1.5797...  0.2016 sec/batch\n",
      "Epoch: 626/700...  Training Step: 31901...  Training loss: 1.7732...  Val loss: 1.5837...  0.2071 sec/batch\n",
      "Epoch: 628/700...  Training Step: 32001...  Training loss: 1.7564...  Val loss: 1.5811...  0.2077 sec/batch\n",
      "WARNING:tensorflow:Error encountered when serializing LAYER_NAME_UIDS.\n",
      "Type is unsupported, or the types of the items don't match field type in CollectionDef.\n",
      "'dict' object has no attribute 'name'\n",
      "Epoch: 630/700...  Training Step: 32101...  Training loss: 1.7723...  Val loss: 1.5769...  0.2075 sec/batch\n",
      "Epoch: 632/700...  Training Step: 32201...  Training loss: 1.7547...  Val loss: 1.5767...  0.2076 sec/batch\n",
      "Epoch: 634/700...  Training Step: 32301...  Training loss: 1.7576...  Val loss: 1.5758...  0.2065 sec/batch\n",
      "Epoch: 636/700...  Training Step: 32401...  Training loss: 1.7589...  Val loss: 1.5788...  0.2078 sec/batch\n",
      "Epoch: 638/700...  Training Step: 32501...  Training loss: 1.7691...  Val loss: 1.5766...  0.2068 sec/batch\n",
      "WARNING:tensorflow:Error encountered when serializing LAYER_NAME_UIDS.\n",
      "Type is unsupported, or the types of the items don't match field type in CollectionDef.\n",
      "'dict' object has no attribute 'name'\n",
      "Epoch: 640/700...  Training Step: 32601...  Training loss: 1.7390...  Val loss: 1.5775...  0.2082 sec/batch\n",
      "Epoch: 642/700...  Training Step: 32701...  Training loss: 1.7604...  Val loss: 1.5714...  0.2080 sec/batch\n",
      "Epoch: 644/700...  Training Step: 32801...  Training loss: 1.7398...  Val loss: 1.5775...  0.2079 sec/batch\n",
      "Epoch: 646/700...  Training Step: 32901...  Training loss: 1.7469...  Val loss: 1.5754...  0.2071 sec/batch\n",
      "Epoch: 648/700...  Training Step: 33001...  Training loss: 1.7503...  Val loss: 1.5741...  0.2073 sec/batch\n",
      "WARNING:tensorflow:Error encountered when serializing LAYER_NAME_UIDS.\n",
      "Type is unsupported, or the types of the items don't match field type in CollectionDef.\n",
      "'dict' object has no attribute 'name'\n",
      "Epoch: 650/700...  Training Step: 33101...  Training loss: 1.7762...  Val loss: 1.5766...  0.2082 sec/batch\n",
      "Epoch: 651/700...  Training Step: 33201...  Training loss: 1.7481...  Val loss: 1.5754...  0.2076 sec/batch\n",
      "Epoch: 653/700...  Training Step: 33301...  Training loss: 1.7652...  Val loss: 1.5709...  0.2079 sec/batch\n",
      "Epoch: 655/700...  Training Step: 33401...  Training loss: 1.7196...  Val loss: 1.5715...  0.2075 sec/batch\n",
      "Epoch: 657/700...  Training Step: 33501...  Training loss: 1.7381...  Val loss: 1.5727...  0.2074 sec/batch\n",
      "WARNING:tensorflow:Error encountered when serializing LAYER_NAME_UIDS.\n",
      "Type is unsupported, or the types of the items don't match field type in CollectionDef.\n",
      "'dict' object has no attribute 'name'\n",
      "Epoch: 659/700...  Training Step: 33601...  Training loss: 1.7810...  Val loss: 1.5741...  0.2013 sec/batch\n"
     ]
    },
    {
     "name": "stdout",
     "output_type": "stream",
     "text": [
      "Epoch: 661/700...  Training Step: 33701...  Training loss: 1.7586...  Val loss: 1.5710...  0.2057 sec/batch\n",
      "Epoch: 663/700...  Training Step: 33801...  Training loss: 1.7353...  Val loss: 1.5730...  0.2012 sec/batch\n",
      "Epoch: 665/700...  Training Step: 33901...  Training loss: 1.7375...  Val loss: 1.5680...  0.2021 sec/batch\n",
      "Epoch: 667/700...  Training Step: 34001...  Training loss: 1.7550...  Val loss: 1.5728...  0.2015 sec/batch\n",
      "WARNING:tensorflow:Error encountered when serializing LAYER_NAME_UIDS.\n",
      "Type is unsupported, or the types of the items don't match field type in CollectionDef.\n",
      "'dict' object has no attribute 'name'\n",
      "Epoch: 669/700...  Training Step: 34101...  Training loss: 1.7384...  Val loss: 1.5732...  0.2123 sec/batch\n",
      "Epoch: 671/700...  Training Step: 34201...  Training loss: 1.7493...  Val loss: 1.5727...  0.2013 sec/batch\n",
      "Epoch: 673/700...  Training Step: 34301...  Training loss: 1.7439...  Val loss: 1.5705...  0.2044 sec/batch\n",
      "Epoch: 675/700...  Training Step: 34401...  Training loss: 1.7327...  Val loss: 1.5731...  0.2013 sec/batch\n",
      "Epoch: 677/700...  Training Step: 34501...  Training loss: 1.7514...  Val loss: 1.5727...  0.2304 sec/batch\n",
      "WARNING:tensorflow:Error encountered when serializing LAYER_NAME_UIDS.\n",
      "Type is unsupported, or the types of the items don't match field type in CollectionDef.\n",
      "'dict' object has no attribute 'name'\n",
      "Epoch: 679/700...  Training Step: 34601...  Training loss: 1.7512...  Val loss: 1.5666...  0.2054 sec/batch\n",
      "Epoch: 681/700...  Training Step: 34701...  Training loss: 1.7662...  Val loss: 1.5667...  0.2017 sec/batch\n",
      "Epoch: 683/700...  Training Step: 34801...  Training loss: 1.7390...  Val loss: 1.5691...  0.2016 sec/batch\n",
      "Epoch: 685/700...  Training Step: 34901...  Training loss: 1.7377...  Val loss: 1.5684...  0.2015 sec/batch\n",
      "Epoch: 687/700...  Training Step: 35001...  Training loss: 1.7661...  Val loss: 1.5721...  0.2001 sec/batch\n",
      "WARNING:tensorflow:Error encountered when serializing LAYER_NAME_UIDS.\n",
      "Type is unsupported, or the types of the items don't match field type in CollectionDef.\n",
      "'dict' object has no attribute 'name'\n",
      "Epoch: 689/700...  Training Step: 35101...  Training loss: 1.7693...  Val loss: 1.5642...  0.2220 sec/batch\n",
      "Epoch: 691/700...  Training Step: 35201...  Training loss: 1.7332...  Val loss: 1.5696...  0.2027 sec/batch\n",
      "Epoch: 693/700...  Training Step: 35301...  Training loss: 1.7369...  Val loss: 1.5654...  0.2190 sec/batch\n",
      "Epoch: 695/700...  Training Step: 35401...  Training loss: 1.7277...  Val loss: 1.5643...  0.2016 sec/batch\n",
      "Epoch: 697/700...  Training Step: 35501...  Training loss: 1.7475...  Val loss: 1.5678...  0.2256 sec/batch\n",
      "WARNING:tensorflow:Error encountered when serializing LAYER_NAME_UIDS.\n",
      "Type is unsupported, or the types of the items don't match field type in CollectionDef.\n",
      "'dict' object has no attribute 'name'\n",
      "Epoch: 699/700...  Training Step: 35601...  Training loss: 1.7493...  Val loss: 1.5695...  0.2015 sec/batch\n",
      "WARNING:tensorflow:Error encountered when serializing LAYER_NAME_UIDS.\n",
      "Type is unsupported, or the types of the items don't match field type in CollectionDef.\n",
      "'dict' object has no attribute 'name'\n"
     ]
    }
   ],
   "source": [
    "#epochs = 1\n",
    "# Save every N iterations\n",
    "save_every_n = 500\n",
    "print_loss_every_n = 100\n",
    "sample_every = 500\n",
    "with tf.device(\"/gpu:0\"):\n",
    "    model = CharRNN(len(vocab), batch_size=batch_size, num_steps=num_steps,\n",
    "                lstm_size=lstm_size, num_layers=num_layers, \n",
    "                learning_rate=learning_rate)\n",
    "    #print(\"after model\")\n",
    "\n",
    "saver = tf.train.Saver(max_to_keep=5)\n",
    "#print(\"after saver\")\n",
    "with tf.Session() as sess:\n",
    "    sess.run(tf.global_variables_initializer())\n",
    "    print(\"Number of parameters:\",get_number_of_parameters(),\"Dataset size:\",len(encoded))\n",
    "    #print(\"after initializer\")\n",
    "    if resume_from_checkpoint:\n",
    "        latest_checkpoint = tf.train.latest_checkpoint('checkpoints')\n",
    "        saver.restore(sess, latest_checkpoint)\n",
    "    counter = 0\n",
    "    for e in range(epochs):\n",
    "        # Train network\n",
    "        \n",
    "        new_state = sess.run(model.initial_state)\n",
    "        loss = 0\n",
    "        for x, y in get_batches(encoded, batch_size, num_steps):\n",
    "            \n",
    "            \n",
    "            start = time.time()\n",
    "            feed = {model.inputs: x,\n",
    "                    model.targets: y,\n",
    "                    model.keep_prob: keep_prob,\n",
    "                    model.initial_state: new_state}\n",
    "            batch_loss, new_state, _ = sess.run([model.loss, \n",
    "                                                 model.final_state, \n",
    "                                                 model.optimizer], \n",
    "                                                 feed_dict=feed)\n",
    "        \n",
    "            \n",
    "            end = time.time()\n",
    "            if counter%print_loss_every_n == 0:\n",
    "                val_batches = get_batches(encoded_val,int(len(encoded_val)/num_steps),num_steps)\n",
    "                x_val,y_val = next(val_batches)\n",
    "                \n",
    "                val_dict = {model.inputs: x_val,\n",
    "                            model.targets: y_val,\n",
    "                            model.keep_prob: 1,\n",
    "                            model.initial_state: new_state}\n",
    "                \n",
    "                val_loss,prediction = sess.run([model.loss,model.prediction],feed_dict=val_dict)\n",
    "                \n",
    "                losses[\"train\"].append(batch_loss)\n",
    "                losses[\"validation\"].append(val_loss)\n",
    "                \n",
    "                \n",
    "                global_step = tf.train.global_step(sess,model.global_step_tensor)\n",
    "                x_steps.append(global_step)\n",
    "                \n",
    "                print('Epoch: {}/{}... '.format(e+1, epochs),\n",
    "                      'Training Step: {}... '.format(global_step),\n",
    "                      'Training loss: {:.4f}... '.format(batch_loss),\n",
    "                      'Val loss: {:.4f}... '.format(val_loss),\n",
    "                      '{:.4f} sec/batch'.format((end-start)))\n",
    "        \n",
    "            if (counter % save_every_n == 0):\n",
    "                global_step = tf.train.global_step(sess,model.global_step_tensor)\n",
    "                saver.save(sess, \"checkpoints/m{}_i{}_l{}.ckpt\".format(mode,global_step, lstm_size))\n",
    "                \n",
    "            counter += 1\n",
    "            \n",
    "    global_step = tf.train.global_step(sess,model.global_step_tensor)\n",
    "    saver.save(sess, \"checkpoints/m{}_i{}_l{}.ckpt\".format(mode,global_step, lstm_size))"
   ]
  },
  {
   "cell_type": "code",
   "execution_count": 30,
   "metadata": {},
   "outputs": [
    {
     "data": {
      "image/png": "[encoded data removed]",
      "text/plain": [
       "<matplotlib.figure.Figure at 0x7fec44843390>"
      ]
     },
     "metadata": {
      "image/png": {
       "height": 250,
       "width": 373
      }
     },
     "output_type": "display_data"
    }
   ],
   "source": [
    "plt.plot(x_steps,losses[\"train\"],label=\"Train loss\")\n",
    "plt.plot(x_steps,losses[\"validation\"],label=\"Validation loss\")\n",
    "plt.legend()\n",
    "_ = plt.ylim()"
   ]
  },
  {
   "cell_type": "markdown",
   "metadata": {},
   "source": [
    "#### Saved checkpoints\n",
    "\n",
    "Read up on saving and loading checkpoints here: https://www.tensorflow.org/programmers_guide/variables"
   ]
  },
  {
   "cell_type": "code",
   "execution_count": 31,
   "metadata": {
    "collapsed": true
   },
   "outputs": [],
   "source": [
    "checkpoints = tf.train.get_checkpoint_state('checkpoints')"
   ]
  },
  {
   "cell_type": "markdown",
   "metadata": {},
   "source": [
    "## Sampling final trained model\n",
    "\n",
    "Now that the network is trained, we'll can use it to generate new text. The idea is that we pass in a character, then the network will predict the next character. We can use the new one, to predict the next one. And we keep doing this to generate all new text. I also included some functionality to prime the network with some text by passing in a string and building up a state from that.\n",
    "\n",
    "The network gives us predictions for each character. To reduce noise and make things a little less random, I'm going to only choose a new character from the top N most likely characters.\n",
    "\n"
   ]
  },
  {
   "cell_type": "code",
   "execution_count": 32,
   "metadata": {
    "collapsed": true
   },
   "outputs": [],
   "source": [
    "def sample(checkpoint, n_samples, lstm_size, vocab_size, prime=\"The \",mode=\"characters\"):\n",
    "    print(mode)\n",
    "    samples = tokenize_text(prime,mode)\n",
    "    model = CharRNN(len(vocab), lstm_size=lstm_size, sampling=True)\n",
    "    saver = tf.train.Saver()\n",
    "    with tf.Session() as sess:\n",
    "        saver.restore(sess, checkpoint)\n",
    "        new_state = sess.run(model.initial_state)\n",
    "        for c in tokenize_text(prime,mode):\n",
    "            x = np.zeros((1, 1))\n",
    "            x[0,0] = vocab_to_int[c]\n",
    "            feed = {model.inputs: x,\n",
    "                    model.keep_prob: 1.,\n",
    "                    model.initial_state: new_state}\n",
    "            preds, new_state = sess.run([model.prediction, model.final_state], \n",
    "                                         feed_dict=feed)\n",
    "\n",
    "        c = pick_top_n(preds, len(vocab))\n",
    "        samples.append(int_to_vocab[c])\n",
    "\n",
    "        for i in range(n_samples):\n",
    "            x[0,0] = c\n",
    "            feed = {model.inputs: x,\n",
    "                    model.keep_prob: 1.,\n",
    "                    model.initial_state: new_state}\n",
    "            preds, new_state = sess.run([model.prediction, model.final_state], \n",
    "                                         feed_dict=feed)\n",
    "\n",
    "            c = pick_top_n(preds, len(vocab))\n",
    "            samples.append(int_to_vocab[c])\n",
    "        \n",
    "    return ''.join(samples).replace(\"new_line_token\",\"\\n\")"
   ]
  },
  {
   "cell_type": "markdown",
   "metadata": {},
   "source": [
    "Here, pass in the path to a checkpoint and sample from the network."
   ]
  },
  {
   "cell_type": "code",
   "execution_count": 33,
   "metadata": {},
   "outputs": [
    {
     "data": {
      "text/plain": [
       "'checkpoints/mcharacters_i35700_l300.ckpt'"
      ]
     },
     "execution_count": 33,
     "metadata": {},
     "output_type": "execute_result"
    }
   ],
   "source": [
    "tf.train.latest_checkpoint('checkpoints')"
   ]
  },
  {
   "cell_type": "markdown",
   "metadata": {},
   "source": [
    "## Generate new text from \"base\" text"
   ]
  },
  {
   "cell_type": "code",
   "execution_count": 34,
   "metadata": {},
   "outputs": [
    {
     "name": "stdout",
     "output_type": "stream",
     "text": [
      "characters\n",
      "INFO:tensorflow:Restoring parameters from checkpoints/mcharacters_i35700_l300.ckpt\n",
      "characters\n",
      "INFO:tensorflow:Restoring parameters from checkpoints/mcharacters_i35700_l300.ckpt\n",
      "characters\n",
      "INFO:tensorflow:Restoring parameters from checkpoints/mcharacters_i35700_l300.ckpt\n",
      "characters\n",
      "INFO:tensorflow:Restoring parameters from checkpoints/mcharacters_i35700_l300.ckpt\n",
      "characters\n",
      "INFO:tensorflow:Restoring parameters from checkpoints/mcharacters_i35700_l300.ckpt\n",
      "characters\n",
      "INFO:tensorflow:Restoring parameters from checkpoints/mcharacters_i35700_l300.ckpt\n",
      "characters\n",
      "INFO:tensorflow:Restoring parameters from checkpoints/mcharacters_i35700_l300.ckpt\n",
      "characters\n",
      "INFO:tensorflow:Restoring parameters from checkpoints/mcharacters_i35700_l300.ckpt\n",
      "characters\n",
      "INFO:tensorflow:Restoring parameters from checkpoints/mcharacters_i35700_l300.ckpt\n",
      "characters\n",
      "INFO:tensorflow:Restoring parameters from checkpoints/mcharacters_i35700_l300.ckpt\n",
      "characters\n",
      "INFO:tensorflow:Restoring parameters from checkpoints/mcharacters_i35700_l300.ckpt\n",
      "characters\n",
      "INFO:tensorflow:Restoring parameters from checkpoints/mcharacters_i35700_l300.ckpt\n",
      "characters\n",
      "INFO:tensorflow:Restoring parameters from checkpoints/mcharacters_i35700_l300.ckpt\n",
      "characters\n",
      "INFO:tensorflow:Restoring parameters from checkpoints/mcharacters_i35700_l300.ckpt\n",
      "characters\n",
      "INFO:tensorflow:Restoring parameters from checkpoints/mcharacters_i35700_l300.ckpt\n",
      "characters\n",
      "INFO:tensorflow:Restoring parameters from checkpoints/mcharacters_i35700_l300.ckpt\n"
     ]
    }
   ],
   "source": [
    "\n",
    "checkpoint = tf.train.latest_checkpoint('checkpoints')\n",
    "\n",
    "\n",
    "samples = list()\n",
    "for text in text_to_try:\n",
    "    #print(\"------------------------\",text)\n",
    "    samples.append( sample(checkpoint, 500, lstm_size, len(vocab), prime=text,mode=mode))\n",
    "    #print(samp)\n",
    "    #print(\"------------------------\")"
   ]
  },
  {
   "cell_type": "code",
   "execution_count": 35,
   "metadata": {},
   "outputs": [
    {
     "name": "stdout",
     "output_type": "stream",
     "text": [
      "------------------------ In the first place\n",
      "In the first place which toed of mind wind of the sarching themeners and campings in the sanges of man opine with heavansser.\n",
      "     I had an ancaiting that we tit had such the methised merest of the strange than so meresely of south out to heaven the sonill titerity of the seeted moment of midentiling. It sad the mes of the thele the carticicaty which we taken it sate at the pastic trome sansse through the poring, which we had been sentated in the prinace as a sungace tran to shid and astant a precening wise of the\n",
      "------------------------\n",
      "------------------------ the night before\n",
      "the night before the present were of any sountering.\n",
      "\n",
      "    At the sead at the most other, so most and any ofe of a suppered becare and sumply the contrition without hadded and some southing of the southount the streantily was stated bild.\n",
      " \n",
      "   The southown asestation of the simpers of the moment a sentent attought to as he saw strickling. I sheld stores of horror. His ceether stances of thring thoreing such with mentioned\n",
      "it was now to be antically in the tanked on the potersially and thought of some of the same \n",
      "------------------------\n",
      "------------------------ horror\n",
      "horrore those they, and so stole as on the posess and men and his same torce on mind of the comprementions of the centany arches of the that the monett and chomen would than instact of antarttarins, and sundance this with these all of mishing sounds on a centary that had been suppered which we had been made immosted as our search as or a seened sundettic stonation in the person in seasting. He tamned the case of the sarce of a cares and antious stepping wall of all that search and stone all the taresto\n",
      "------------------------\n",
      "------------------------ creature\n",
      "creature to sarith. The propared a sore was survessed or of the\n",
      "prapanic charches of the pecite, and we winled such such some memaniors. I touththorouns to the propiren searce which we\n",
      "was thought of the catients,, and he was stronger, and had the camation of all a conceation which a things of the prosont with horrally at hondor, and the some of the prises were, and there tood\n",
      "suspose of the pilting with horrar shate of the sould\n",
      "the prigate and ancering and that the seeted been stelp that the poseal and\n",
      "------------------------\n",
      "------------------------ night\n",
      "night and had as a call, with when the cangones and atcacet weild an antertice of all all and condested, was antient to she the torching as as at hand that the sigh at we were of a surgace and caries were orled and seemed to me a than\n",
      "what we should be to cate, and of my parcore had told to to the mase, and the pasting of stalen thore and, his tame to some some of the care with his centain through seat when they was sore almost thing to his stelt, the sime of stept that he was such such of mes of man \n",
      "------------------------\n",
      "------------------------ dream\n",
      "dreamly seased things with the person and should be an this was as the targal attic and senting thas the tire, there was the siguren. In hears. As I seand her the chonses the sare sace of the carge and a strength were. I had been to show this was nor antited his tround it the partice, betwing the men wan of a secrine a somenous tamess the see that to the parinicy was a thansile to the still store to at a more such toldest attembting in the partain,\n",
      "and on the some all sare.\n",
      "\n",
      " \n",
      "  The track, and the sar\n",
      "------------------------\n",
      "------------------------ thing\n",
      "thing and that a sen some of horrandy and the serses all werr were all all, well on the mongants and alance of searth things of my petsacion as his, in sendent wat the the manses and stolother were to ate out, and of the store on, which that a sungle, with the trunglers, that the see and stringing. I houring the tounteness and chills, and there were that an antargtal time as the then of the candity would not so as to at was an end wished at the sang and something and\n",
      "than some of a secunt of the more,\n",
      "------------------------\n",
      "------------------------ That night\n",
      "That night, and there had been a torn, a searture which sad that\n",
      "the\n",
      "persinities was so for the sertabinity thrang that he were that the mistion and mer or the matter was not only to and suthertite where the strangero sack the some alled of the cold stone tame with the midering, that the chemental sate which was should the profanses of a contruted astances all the tame a contidency\n",
      "of the trees of a sting work in a certain store which with handled or the partast of a mourtater as the some and things and ca\n",
      "------------------------\n",
      "------------------------ mountain\n",
      "mountains is of the sortancisity of mind of some concred than a suppesient stell, and we to be to be. He was somethen what the chore of seeming so altemettens of\n",
      "the thing as a part the care. I sad that the corse was so to be of the sting and antoristing a sont strange secastire tress.\n",
      "\n",
      "I had born without a serest on the morn which, at the more at the\n",
      "caller tanching which all the southard and heart, and we had now breathed a things of the stoll of such and that stearing to have no pranous and sounded th\n",
      "------------------------\n",
      "------------------------ Ammi\n",
      "Ammit of mariting the country, was seal to be the seasters as the man of the streatting water, and on the time and things a sound and this the past a mithal to tight with a placas with all and this without his anssel with as a strong torches was no minated, whos the tord had such a mose of mearasion. The casting, he soon some mideration of at such all to atterpt insoning on as wanding the conssation of the condecient mensences which the cale of her there of the time and this of the tinge a percain a \n",
      "------------------------\n",
      "------------------------ Cthulhu\n",
      "Cthulhurise. Wald had not been at the consideration of his to to the pintaress. The confected on the chanted of the cropan couls, they, so far some of hass of the stone and sound that the side and the crind, with at when the choush at the criptic seemed a chirch with these could bus things that I was ther only the mestiring of an intereantic the pecitat of sushunion a frights of the tales.\n",
      "\n",
      "\n",
      "                          TAPAAARR\"\n",
      " \n",
      "    Thete of the seaden we same that we store would house the there of my s\n",
      "------------------------\n",
      "------------------------ raven\n",
      "raven we were and shew with a suches, than the strange time of horror, that had supently that the must of the seas and some on that with he was an ertilled bulling, the saratoly seess of his attention on the portain sours of those or others and tarestend to my treetion. He saw the pation were and as have been seen to alloun seet that the parily torn,, there he was no sace of my, and of horrer thene had to see the tontiest we houred the that that the seesing which well of her cingue we had alleed of al\n",
      "------------------------\n",
      "------------------------ bird\n",
      "bird, and some to the stone, with the\n",
      "possition of that time we could heave the then on my parice, and the porteal stall, the trat and might that\n",
      "a monetion had so sounding the carcase of the sould at out the the tremority, and of the\n",
      "matter of the mund heard hand at which I soweded the passionity in the touth of mes of my southore and searne in the momentanice of stotiting as anisall and, bark it to any outsole that was that we had seen a seemed alteret of her or other and the seemed. The samo of ma\n",
      "------------------------\n",
      "------------------------ nevermore\n",
      "nevermore with might a consunted teer of sunfle to the sigh about\n",
      "the seemonic care of the sare of the stoll of the middor sersated tame at its portory to the thers of that seater that and antertans of the cracters, and which the cale and the seast of the satient warleds to steer, the percisture, and time it, we had been the presoners about the siguling of a spot that which he some all almings teard his stalentest, was talt were seemed in ond staltating and colpinting of this one well we tound the secres \n",
      "------------------------\n",
      "------------------------ dead\n",
      "dead to the siscungies, and one seans was nearly to be attronted by, and an the stell of most stirl somentated a componing out impeseing, and we stowed\n",
      "our and ascorpition;\n",
      "but and seinting one of shower to to have tord\n",
      "however, who had to charge off the tounce thas had navered ourselves in the sace. That half a mare at the perion will not be out of his all to base this thought with his sounch of the chentes of minds, which he corsen, that all he that to the came, before we courded, with a thas and m\n",
      "------------------------\n",
      "------------------------ The bird\n",
      "The bird at the moring with a seading short with and oncy and the man of the toot of the mistre of that meant which the pacts of anterst was nothy of that an endengors, hid. They was a suck waress and told and\n",
      "allosicul antolace of my strungering on should bost and our southern, and hanf of antter seemed and of strougan and cearing to bases and altore that whol all ten westere seemance, where his starcher of the palled that as his sen works as the procession. He was such to him. At the manter himself was\n",
      "------------------------\n"
     ]
    }
   ],
   "source": [
    "for i in range(len(text_to_try)):\n",
    "    text = text_to_try[i]\n",
    "    generated = samples[i]\n",
    "    print(\"------------------------\",text)\n",
    "    print(generated)\n",
    "    print(\"------------------------\")"
   ]
  },
  {
   "cell_type": "code",
   "execution_count": 36,
   "metadata": {},
   "outputs": [
    {
     "data": {
      "text/plain": [
       "model_checkpoint_path: \"checkpoints/mcharacters_i35700_l300.ckpt\"\n",
       "all_model_checkpoint_paths: \"checkpoints/mcharacters_i34001_l300.ckpt\"\n",
       "all_model_checkpoint_paths: \"checkpoints/mcharacters_i34501_l300.ckpt\"\n",
       "all_model_checkpoint_paths: \"checkpoints/mcharacters_i35001_l300.ckpt\"\n",
       "all_model_checkpoint_paths: \"checkpoints/mcharacters_i35501_l300.ckpt\"\n",
       "all_model_checkpoint_paths: \"checkpoints/mcharacters_i35700_l300.ckpt\""
      ]
     },
     "execution_count": 36,
     "metadata": {},
     "output_type": "execute_result"
    }
   ],
   "source": [
    "tf.train.get_checkpoint_state('checkpoints')"
   ]
  },
  {
   "cell_type": "code",
   "execution_count": null,
   "metadata": {
    "collapsed": true
   },
   "outputs": [],
   "source": []
  }
 ],
 "metadata": {
  "kernelspec": {
   "display_name": "Python 3",
   "language": "python",
   "name": "python3"
  },
  "language_info": {
   "codemirror_mode": {
    "name": "ipython",
    "version": 3
   },
   "file_extension": ".py",
   "mimetype": "text/x-python",
   "name": "python",
   "nbconvert_exporter": "python",
   "pygments_lexer": "ipython3",
   "version": "3.6.1"
  }
 },
 "nbformat": 4,
 "nbformat_minor": 2
}
