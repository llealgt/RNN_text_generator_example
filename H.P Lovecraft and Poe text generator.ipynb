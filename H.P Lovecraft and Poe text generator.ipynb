{
 "cells": [
  {
   "cell_type": "markdown",
   "metadata": {},
   "source": [
    "# Recurrent neural networks for H.P Lovecraft text generation\n",
    "\n",
    "\"The color out of space\" is one of my favorite tales from Lovecraft, i will use it(as well as others as the call of cthulhu) to create a recurrent neural network in tensorflow that learns his style and generates new text in his style\n",
    "\n",
    "This network is based off of Andrej Karpathy's [post on RNNs](http://karpathy.github.io/2015/05/21/rnn-effectiveness/) and [implementation in Torch](https://github.com/karpathy/char-rnn) and an example from \"Deep Learning Nanodegree\" on udacity. Also, some information [here at r2rt](http://r2rt.com/recurrent-neural-networks-in-tensorflow-ii.html) and from [Sherjil Ozair](https://github.com/sherjilozair/char-rnn-tensorflow) on GitHub. \n",
    "\n",
    "## General architecture using \"Long short term memory\" units in the recurrent layers\n",
    "\n",
    "<img src=\"assets/charseq.jpeg\" width=\"500\">"
   ]
  },
  {
   "cell_type": "code",
   "execution_count": 1,
   "metadata": {},
   "outputs": [],
   "source": [
    "%matplotlib inline\n",
    "%config InlineBackend.figure_format = 'retina'"
   ]
  },
  {
   "cell_type": "code",
   "execution_count": 2,
   "metadata": {},
   "outputs": [],
   "source": [
    "import time\n",
    "from collections import namedtuple\n",
    "\n",
    "import numpy as np\n",
    "import tensorflow as tf\n",
    "from nltk.tokenize import word_tokenize\n",
    "import nltk\n",
    "import itertools\n",
    "import matplotlib.pyplot as plt\n",
    "from time import gmtime, strftime ,localtime"
   ]
  },
  {
   "cell_type": "code",
   "execution_count": 3,
   "metadata": {},
   "outputs": [],
   "source": [
    "# Run only the  first time nltk is used to download language\n",
    "#nltk.download()"
   ]
  },
  {
   "cell_type": "markdown",
   "metadata": {},
   "source": [
    "### Define conf variables and hyper parameteters "
   ]
  },
  {
   "cell_type": "code",
   "execution_count": 40,
   "metadata": {
    "collapsed": true
   },
   "outputs": [],
   "source": [
    "mode = \"characters\" #characters or words\n",
    "\n",
    "epochs = 15\n",
    "batch_size = 128       # Sequences per batch\n",
    "num_steps = 75         # Number of sequence steps per batch\n",
    "lstm_size = 768         # Size of hidden layers in LSTMs\n",
    "num_layers = 2          # Number of LSTM layers\n",
    "learning_rate = 0.0005    # Learning rate\n",
    "keep_prob = 1       # Dropout keep probability\n",
    "\n",
    "resume_from_checkpoint = True"
   ]
  },
  {
   "cell_type": "markdown",
   "metadata": {},
   "source": [
    "### Define base text\n",
    "Once trained ,the network can take base text and a sequence size and generate new text using base text as first characters in the sequence. For every element in base text wi will create a list that will store generated text as training goes, to be able to compare results between steps"
   ]
  },
  {
   "cell_type": "code",
   "execution_count": 5,
   "metadata": {
    "collapsed": true
   },
   "outputs": [],
   "source": [
    "text_to_try = [\"In the first place\",\"the night before\",\"horror\",\"creature\",\"night\",\"dream\",\"thing\",\"That night\",\"mountain\",\"Ammi\",\"Cthulhu\",\"raven\",\"bird\",\"nevermore\",\"dead\",\"The bird\"]"
   ]
  },
  {
   "cell_type": "markdown",
   "metadata": {},
   "source": [
    "#### Function that separates text into tokens(for whitespace characters, only new line is implemented, missing tabs and others="
   ]
  },
  {
   "cell_type": "code",
   "execution_count": 6,
   "metadata": {},
   "outputs": [
    {
     "data": {
      "text/plain": [
       "['H',\n",
       " 'e',\n",
       " 'l',\n",
       " 'l',\n",
       " 'o',\n",
       " ',',\n",
       " ' ',\n",
       " 'm',\n",
       " 'y',\n",
       " ' ',\n",
       " 'n',\n",
       " 'a',\n",
       " 'm',\n",
       " 'e',\n",
       " ' ',\n",
       " 'i',\n",
       " 's',\n",
       " ' ',\n",
       " 'L',\n",
       " 'u',\n",
       " 'i',\n",
       " 's',\n",
       " ' ',\n",
       " 'L',\n",
       " 'e',\n",
       " 'a',\n",
       " 'l',\n",
       " '!',\n",
       " '\\n',\n",
       " '\\n',\n",
       " 'F',\n",
       " 'r',\n",
       " 'o',\n",
       " 'm',\n",
       " ' ',\n",
       " 'G',\n",
       " 'u',\n",
       " 'a',\n",
       " 't',\n",
       " 'e',\n",
       " 'm',\n",
       " 'a',\n",
       " 'l',\n",
       " 'a']"
      ]
     },
     "execution_count": 6,
     "metadata": {},
     "output_type": "execute_result"
    }
   ],
   "source": [
    "def tokenize_by_words(text):\n",
    "    text = text.replace(\"\\n\",\" new_line_token \")\n",
    "    tokens = []\n",
    "    splitted =[[word_tokenize(w),' ']for w in text.split()]\n",
    "    splitted = list(itertools.chain(*list(itertools.chain(*splitted))))\n",
    "    \n",
    "    token_list = []\n",
    "    i = 0\n",
    "    while i < len(splitted):\n",
    "        if splitted[i] == \"new_line_token\":\n",
    "            if   token_list[-1]==\" \":\n",
    "                token_list[-1] = splitted[i]\n",
    "            else:\n",
    "                token_list.append(splitted[i])\n",
    "            i+=1\n",
    "        else:\n",
    "            token_list.append(splitted[i])\n",
    "        i+=1\n",
    "    \n",
    "    return token_list\n",
    "\n",
    "def tokenize_by_characters(text):\n",
    "    return list(text)\n",
    "\n",
    "def tokenize_text(text,mode=\"characters\"):\n",
    "    if mode == \"characters\":\n",
    "        return tokenize_by_characters(text)\n",
    "    elif mode == \"words\":\n",
    "        return tokenize_by_words(text)\n",
    "    \n",
    "tokenize_text(\"Hello, my name is Luis Leal!\\n\\nFrom Guatemala\",mode)\n",
    "#tokenize_text(\"Hello, my name is Luis Leal!\\n\\nFrom Guatemala\",\"words\")\n"
   ]
  },
  {
   "cell_type": "markdown",
   "metadata": {},
   "source": [
    "First we'll load the text file and convert it into integers for our network to use. Here I'm creating a couple dictionaries to convert the characters to and from integers. Encoding the characters as integers makes it easier to use as input in the network."
   ]
  },
  {
   "cell_type": "code",
   "execution_count": 7,
   "metadata": {
    "collapsed": true
   },
   "outputs": [],
   "source": [
    "with open('corpus.txt', 'r') as f:\n",
    "    text=f.read()"
   ]
  },
  {
   "cell_type": "code",
   "execution_count": 8,
   "metadata": {
    "collapsed": true
   },
   "outputs": [],
   "source": [
    "vocab = set(tokenize_text(text,mode))\n",
    "vocab_to_int = {c: i for i, c in enumerate(vocab)}\n",
    "int_to_vocab = dict(enumerate(vocab))"
   ]
  },
  {
   "cell_type": "markdown",
   "metadata": {},
   "source": [
    "### Get a little portion of text for validation"
   ]
  },
  {
   "cell_type": "code",
   "execution_count": 9,
   "metadata": {
    "collapsed": true
   },
   "outputs": [],
   "source": [
    "tokenized_text = tokenize_text(text,mode)\n",
    "encoded_dataset = np.array([vocab_to_int[c] for c in tokenized_text if c in vocab_to_int], dtype=np.int32)"
   ]
  },
  {
   "cell_type": "code",
   "execution_count": 10,
   "metadata": {
    "collapsed": true
   },
   "outputs": [],
   "source": [
    "validation_size = batch_size * num_steps #create a single baty\n",
    "validation_start_index = len(encoded_dataset) - validation_size\n",
    "\n",
    "encoded = encoded_dataset[:validation_start_index]\n",
    "encoded_val = encoded_dataset[validation_start_index:]"
   ]
  },
  {
   "cell_type": "code",
   "execution_count": 11,
   "metadata": {},
   "outputs": [
    {
     "name": "stdout",
     "output_type": "stream",
     "text": [
      "r genera of creatures are germinated) -- the spontaneous germination, I say, of five vast hordes of \n"
     ]
    }
   ],
   "source": [
    "def encoded_to_text(encoded):\n",
    "    return \"\".join([int_to_vocab[number] for number in encoded])\n",
    "\n",
    "print(encoded_to_text(encoded_val[0:100]))"
   ]
  },
  {
   "cell_type": "code",
   "execution_count": 12,
   "metadata": {
    "collapsed": true
   },
   "outputs": [],
   "source": [
    "val_text =encoded_to_text(encoded_val)\n",
    "text = encoded_to_text(encoded)"
   ]
  },
  {
   "cell_type": "markdown",
   "metadata": {},
   "source": [
    "Let's check out the first 100 characters of train and validation, make sure everything is peachy.  line of a book ever."
   ]
  },
  {
   "cell_type": "code",
   "execution_count": 13,
   "metadata": {},
   "outputs": [
    {
     "data": {
      "text/plain": [
       "'THE COLOUR OUT OF SPACE\\n\\nWest of Arkham the hills rise wild, and there are valleys with deep woods t'"
      ]
     },
     "execution_count": 13,
     "metadata": {},
     "output_type": "execute_result"
    }
   ],
   "source": [
    "text[:100]"
   ]
  },
  {
   "cell_type": "code",
   "execution_count": 14,
   "metadata": {},
   "outputs": [
    {
     "data": {
      "text/plain": [
       "'r genera of creatures are germinated) -- the spontaneous germination, I say, of five vast hordes of '"
      ]
     },
     "execution_count": 14,
     "metadata": {},
     "output_type": "execute_result"
    }
   ],
   "source": [
    "val_text[:100]"
   ]
  },
  {
   "cell_type": "markdown",
   "metadata": {},
   "source": [
    "And we can see the characters encoded as integersin both train and validation"
   ]
  },
  {
   "cell_type": "code",
   "execution_count": 15,
   "metadata": {},
   "outputs": [
    {
     "data": {
      "text/plain": [
       "array([ 52,  89,  70,  96,  72,  27,  58,  27,  97,  51,  96,  27,  97,\n",
       "        52,  96,  27,  60,  96,  53,  39,  57,  72,  70,  11,  11,  24,\n",
       "        61,  79,  84,  96,  56,   6,  96,  57,  48,  47,   8,  19,  73,\n",
       "        96,  84,   8,  61,  96,   8,  99,  95,  95,  79,  96,  48,  99,\n",
       "        79,  61,  96,   5,  99,  95, 100,  30,  96,  19,  34, 100,  96,\n",
       "        84,   8,  61,  48,  61,  96,  19,  48,  61,  96,  66,  19,  95,\n",
       "        95,  61,  42,  79,  96,   5,  99,  84,   8,  96, 100,  61,  61,\n",
       "        77,  96,   5,  56,  56, 100,  79,  96,  84], dtype=int32)"
      ]
     },
     "execution_count": 15,
     "metadata": {},
     "output_type": "execute_result"
    }
   ],
   "source": [
    "encoded[:100]"
   ]
  },
  {
   "cell_type": "code",
   "execution_count": 16,
   "metadata": {},
   "outputs": [
    {
     "data": {
      "text/plain": [
       "array([ 48,  96,  20,  61,  34,  61,  48,  19,  96,  56,   6,  96,  82,\n",
       "        48,  61,  19,  84,  33,  48,  61,  79,  96,  19,  48,  61,  96,\n",
       "        20,  61,  48,  73,  99,  34,  19,  84,  61, 100,  38,  96,  15,\n",
       "        15,  96,  84,   8,  61,  96,  79,  77,  56,  34,  84,  19,  34,\n",
       "        61,  56,  33,  79,  96,  20,  61,  48,  73,  99,  34,  19,  84,\n",
       "        99,  56,  34,  30,  96,  31,  96,  79,  19,  42,  30,  96,  56,\n",
       "         6,  96,   6,  99,  66,  61,  96,  66,  19,  79,  84,  96,   8,\n",
       "        56,  48, 100,  61,  79,  96,  56,   6,  96], dtype=int32)"
      ]
     },
     "execution_count": 16,
     "metadata": {},
     "output_type": "execute_result"
    }
   ],
   "source": [
    "encoded_val[0:100]"
   ]
  },
  {
   "cell_type": "markdown",
   "metadata": {},
   "source": [
    "Since the network is working with individual english tokens, it's similar to a classification problem in which we are trying to predict the next character from the previous text.  Here's how many 'classes' our network has to pick from."
   ]
  },
  {
   "cell_type": "code",
   "execution_count": 17,
   "metadata": {},
   "outputs": [
    {
     "data": {
      "text/plain": [
       "102"
      ]
     },
     "execution_count": 17,
     "metadata": {},
     "output_type": "execute_result"
    }
   ],
   "source": [
    "len(vocab)"
   ]
  },
  {
   "cell_type": "markdown",
   "metadata": {},
   "source": [
    "## Making training mini-batches\n",
    "\n",
    "Here is where we'll make our mini-batches for training. Remember that we want our batches to be multiple sequences of some desired number of sequence steps. Considering a simple example, our batches would look like this:\n",
    "\n",
    "<img src=\"assets/sequence_batching@1x.png\" width=500px>\n",
    "\n",
    "\n",
    "<br>\n",
    "We have our text encoded as integers as one long array in `encoded`. Let's create a function that will give us an iterator for our batches. I like using [generator functions](https://jeffknupp.com/blog/2013/04/07/improve-your-python-yield-and-generators-explained/) to do this. Then we can pass `encoded` into this function and get our batch generator.\n",
    "\n",
    "The first thing we need to do is discard some of the text so we only have completely full batches. Each batch contains $N \\times M$ characters, where $N$ is the batch size (the number of sequences) and $M$ is the number of steps. Then, to get the number of batches we can make from some array `arr`, you divide the length of `arr` by the batch size. Once you know the number of batches and the batch size, you can get the total number of characters to keep.\n",
    "\n",
    "After that, we need to split `arr` into $N$ sequences. You can do this using `arr.reshape(size)` where `size` is a tuple containing the dimensions sizes of the reshaped array. We know we want $N$ sequences (`n_seqs` below), let's make that the size of the first dimension. For the second dimension, you can use `-1` as a placeholder in the size, it'll fill up the array with the appropriate data for you. After this, you should have an array that is $N \\times (M * K)$ where $K$ is the number of batches.\n",
    "\n",
    "Now that we have this array, we can iterate through it to get our batches. The idea is each batch is a $N \\times M$ window on the array. For each subsequent batch, the window moves over by `n_steps`. We also want to create both the input and target arrays. Remember that the targets are the inputs shifted over one character. You'll usually see the first input character used as the last target character, so something like this:\n",
    "```python\n",
    "y[:, :-1], y[:, -1] = x[:, 1:], x[:, 0]\n",
    "```\n",
    "where `x` is the input batch and `y` is the target batch.\n",
    "\n",
    "The way I like to do this window is use `range` to take steps of size `n_steps` from $0$ to `arr.shape[1]`, the total number of steps in each sequence. That way, the integers you get from `range` always point to the start of a batch, and each window is `n_steps` wide."
   ]
  },
  {
   "cell_type": "code",
   "execution_count": 18,
   "metadata": {
    "collapsed": true
   },
   "outputs": [],
   "source": [
    "def get_batches(arr, n_seqs, n_steps):\n",
    "    '''Create a generator that returns batches of size\n",
    "       n_seqs x n_steps from arr.\n",
    "       \n",
    "       Arguments\n",
    "       ---------\n",
    "       arr: Array you want to make batches from\n",
    "       n_seqs: Batch size, the number of sequences per batch\n",
    "       n_steps: Number of sequence steps per batch\n",
    "    '''\n",
    "    # Get the batch size and number of batches we can make\n",
    "    batch_size = n_seqs * n_steps \n",
    "    n_batches =  len(arr)//batch_size\n",
    "    \n",
    "    # Keep only enough characters to make full batches\n",
    "    arr =  arr[:n_batches*batch_size]\n",
    "    \n",
    "    # Reshape into n_seqs rows\n",
    "    arr = arr.reshape((n_seqs,-1))\n",
    "    \n",
    "    for n in range(0, arr.shape[1], n_steps):\n",
    "        # The features\n",
    "        x = arr[:,n:n+n_steps]\n",
    "        # The targets, shifted by one\n",
    "        y = np.zeros(x.shape)\n",
    "        y[:,:-1],y[:,-1] = x[:,1:] ,x[:,0]\n",
    "        yield x, y"
   ]
  },
  {
   "cell_type": "markdown",
   "metadata": {},
   "source": [
    "Now I'll make my data sets and we can check out what's going on here. Here I'm going to use a batch size of 10 and 50 sequence steps."
   ]
  },
  {
   "cell_type": "code",
   "execution_count": 19,
   "metadata": {
    "collapsed": true
   },
   "outputs": [],
   "source": [
    "batches = get_batches(encoded, 10, 50)\n",
    "x, y = next(batches)"
   ]
  },
  {
   "cell_type": "code",
   "execution_count": 20,
   "metadata": {},
   "outputs": [
    {
     "name": "stdout",
     "output_type": "stream",
     "text": [
      "x\n",
      " [[ 52  89  70  96  72  27  58  27  97  51]\n",
      " [ 96  79  61  84  96  19  77  77  61  19]\n",
      " [ 96  82  19  66  61  48  34  56  33  79]\n",
      " [ 61 100  96  95  56  56  77   8  56  95]\n",
      " [ 84  95  42  96  84  56  96  19  95  95]\n",
      " [ 61  19  48  95  42  96  82  19  95  73]\n",
      " [ 61  79  96   5  61  48  61  96  19  20]\n",
      " [ 34  96  19 100  66  19  34  82  61  30]\n",
      " [ 19  82  61 100  96 100  56   5  34  96]\n",
      " [ 84  19  99  34  40  79  96  64  19  79]]\n",
      "\n",
      "y\n",
      " [[  89.   70.   96.   72.   27.   58.   27.   97.   51.   96.]\n",
      " [  79.   61.   84.   96.   19.   77.   77.   61.   19.   95.]\n",
      " [  82.   19.   66.   61.   48.   34.   56.   33.   79.   96.]\n",
      " [ 100.   96.   95.   56.   56.   77.    8.   56.   95.   61.]\n",
      " [  95.   42.   96.   84.   56.   96.   19.   95.   95.   56.]\n",
      " [  19.   48.   95.   42.   96.   82.   19.   95.   73.   30.]\n",
      " [  79.   96.    5.   61.   48.   61.   96.   19.   20.   19.]\n",
      " [  96.   19.  100.   66.   19.   34.   82.   61.   30.   96.]\n",
      " [  82.   61.  100.   96.  100.   56.    5.   34.   96.   77.]\n",
      " [  19.   99.   34.   40.   79.   96.   64.   19.   79.   61.]]\n"
     ]
    }
   ],
   "source": [
    "print('x\\n', x[:10, :10])\n",
    "print('\\ny\\n', y[:10, :10])"
   ]
  },
  {
   "cell_type": "markdown",
   "metadata": {},
   "source": [
    "## Building the model\n",
    "\n",
    "Below is where you'll build the network. We'll break it up into parts so it's easier to reason about each bit. Then we can connect them up into the whole network.\n",
    "\n",
    "<img src=\"assets/charRNN.png\" width=500px>\n",
    "\n",
    "\n",
    "### Inputs\n",
    "\n",
    "First off we'll create our input placeholders. As usual we need placeholders for the training data and the targets. We'll also create a placeholder for dropout layers called `keep_prob`. This will be a scalar, that is a 0-D tensor. To make a scalar, you create a placeholder without giving it a size."
   ]
  },
  {
   "cell_type": "code",
   "execution_count": 21,
   "metadata": {
    "collapsed": true
   },
   "outputs": [],
   "source": [
    "def build_inputs(batch_size, num_steps):\n",
    "    ''' Define placeholders for inputs, targets, and dropout \n",
    "    \n",
    "        Arguments\n",
    "        ---------\n",
    "        batch_size: Batch size, number of sequences per batch\n",
    "        num_steps: Number of sequence steps in a batch\n",
    "        \n",
    "    '''\n",
    "    # Declare placeholders we'll feed into the graph\n",
    "    inputs = tf.placeholder(tf.int32,[batch_size,num_steps],name=\"inputs\")\n",
    "    targets = tf.placeholder(tf.int32,[batch_size,num_steps],name=\"targets\")\n",
    "    \n",
    "    # Keep probability placeholder for drop out layers\n",
    "    keep_prob = tf.placeholder(tf.float32,name=\"keep_prob\")\n",
    "    \n",
    "    return inputs, targets, keep_prob"
   ]
  },
  {
   "cell_type": "markdown",
   "metadata": {},
   "source": [
    "### LSTM Cell\n",
    "\n",
    "Here we will create the LSTM cell we'll use in the hidden layer. We'll use this cell as a building block for the RNN. So we aren't actually defining the RNN here, just the type of cell we'll use in the hidden layer.\n",
    "\n",
    "We first create a basic LSTM cell with\n",
    "\n",
    "```python\n",
    "lstm = tf.contrib.rnn.BasicLSTMCell(num_units)\n",
    "```\n",
    "\n",
    "where `num_units` is the number of units in the hidden layers in the cell. Then we can add dropout by wrapping it with \n",
    "\n",
    "```python\n",
    "tf.contrib.rnn.DropoutWrapper(lstm, output_keep_prob=keep_prob)\n",
    "```\n",
    "You pass in a cell and it will automatically add dropout to the inputs or outputs. Finally, we can stack up the LSTM cells into layers with [`tf.contrib.rnn.MultiRNNCell`](https://www.tensorflow.org/versions/r1.0/api_docs/python/tf/contrib/rnn/MultiRNNCell). With this, you pass in a list of cells and it will send the output of one cell into the next cell. For example,\n",
    "\n",
    "```python\n",
    "tf.contrib.rnn.MultiRNNCell([cell]*num_layers)\n",
    "```\n",
    "\n",
    "This might look a little weird if you know Python well because this will create a list of the same `cell` object. However, TensorFlow will create different weight matrices for all `cell` objects. Even though this is actually multiple LSTM cells stacked on each other, you can treat the multiple layers as one cell.\n",
    "\n",
    "We also need to create an initial cell state of all zeros. This can be done like so\n",
    "\n",
    "```python\n",
    "initial_state = cell.zero_state(batch_size, tf.float32)\n",
    "```\n"
   ]
  },
  {
   "cell_type": "code",
   "execution_count": 22,
   "metadata": {
    "collapsed": true
   },
   "outputs": [],
   "source": [
    "def build_lstm(lstm_size, num_layers, batch_size, keep_prob):\n",
    "    ''' Build LSTM cell.\n",
    "    \n",
    "        Arguments\n",
    "        ---------\n",
    "        keep_prob: Scalar tensor (tf.placeholder) for the dropout keep probability\n",
    "        lstm_size: Size of the hidden layers in the LSTM cells\n",
    "        num_layers: Number of LSTM layers\n",
    "        batch_size: Batch size\n",
    "\n",
    "    '''\n",
    "    ### Build the LSTM Cell\n",
    "    # Use a basic LSTM cell\n",
    "    # Add dropout to the cell outputs\n",
    "    # Stack up multiple LSTM layers, for deep learning\n",
    "    cell = tf.contrib.rnn.MultiRNNCell([tf.contrib.rnn.DropoutWrapper( tf.contrib.rnn.BasicLSTMCell(lstm_size),output_keep_prob = keep_prob) for _ in range(num_layers)])\n",
    "    initial_state = cell.zero_state(batch_size,tf.float32)\n",
    "    \n",
    "    return cell, initial_state"
   ]
  },
  {
   "cell_type": "markdown",
   "metadata": {},
   "source": [
    "### RNN Output\n",
    "\n",
    "Here we'll create the output layer. We need to connect the output of the RNN cells to a full connected layer with a softmax output. The softmax output gives us a probability distribution we can use to predict the next character, so we want this layer to have size $C$, the number of classes/characters we have in our text.\n",
    "\n",
    "If our input has batch size $N$, number of steps $M$, and the hidden layer has $L$ hidden units, then the output is a 3D tensor with size $N \\times M \\times L$. The output of each LSTM cell has size $L$, we have $M$ of them, one for each sequence step, and we have $N$ sequences. So the total size is $N \\times M \\times L$. \n",
    "\n",
    "We are using the same fully connected layer, the same weights, for each of the outputs. Then, to make things easier, we should reshape the outputs into a 2D tensor with shape $(M * N) \\times L$. That is, one row for each sequence and step, where the values of each row are the output from the LSTM cells. We get the LSTM output as a list, `lstm_output`. First we need to concatenate this whole list into one array with [`tf.concat`](https://www.tensorflow.org/api_docs/python/tf/concat). Then, reshape it (with `tf.reshape`) to size $(M * N) \\times L$.\n",
    "\n",
    "One we have the outputs reshaped, we can do the matrix multiplication with the weights. We need to wrap the weight and bias variables in a variable scope with `tf.variable_scope(scope_name)` because there are weights being created in the LSTM cells. TensorFlow will throw an error if the weights created here have the same names as the weights created in the LSTM cells, which they will be default. To avoid this, we wrap the variables in a variable scope so we can give them unique names.\n"
   ]
  },
  {
   "cell_type": "code",
   "execution_count": 23,
   "metadata": {
    "collapsed": true
   },
   "outputs": [],
   "source": [
    "def build_output(lstm_output, in_size, out_size):\n",
    "    ''' Build a softmax layer, return the softmax output and logits.\n",
    "    \n",
    "        Arguments\n",
    "        ---------\n",
    "        \n",
    "        lstm_output: List of output tensors from the LSTM layer\n",
    "        in_size: Size of the input tensor, for example, size of the LSTM cells\n",
    "        out_size: Size of this softmax layer\n",
    "    \n",
    "    '''\n",
    "\n",
    "    # Reshape output so it's a bunch of rows, one row for each step for each sequence.\n",
    "    # Concatenate lstm_output over axis 1 (the columns)\n",
    "    seq_output = tf.concat(lstm_output,axis=1)\n",
    "    # Reshape seq_output to a 2D tensor with lstm_size columns\n",
    "    x = tf.reshape(seq_output,[-1,in_size])\n",
    "    \n",
    "    # Connect the RNN outputs to a softmax layer\n",
    "    with tf.variable_scope('softmax'):\n",
    "        # Create the weight and bias variables here\n",
    "        softmax_w = tf.Variable(tf.truncated_normal((in_size, out_size),stddev=0.1))\n",
    "        softmax_b = tf.Variable(tf.zeros([out_size]))\n",
    "    \n",
    "    # Since output is a bunch of rows of RNN cell outputs, logits will be a bunch\n",
    "    # of rows of logit outputs, one for each step and sequence\n",
    "    logits =  tf.add(tf.matmul(x,softmax_w),softmax_b) \n",
    "    \n",
    "    # Use softmax to get the probabilities for predicted characters\n",
    "    out = tf.nn.softmax(logits,name =\"out\")\n",
    "    \n",
    "    return out, logits"
   ]
  },
  {
   "cell_type": "markdown",
   "metadata": {},
   "source": [
    "### Training loss\n",
    "\n",
    "Next up is the training loss. We get the logits and targets and calculate the softmax cross-entropy loss. First we need to one-hot encode the targets, we're getting them as encoded characters. Then, reshape the one-hot targets so it's a 2D tensor with size $(M*N) \\times C$ where $C$ is the number of classes/characters we have. Remember that we reshaped the LSTM outputs and ran them through a fully connected layer with $C$ units. So our logits will also have size $(M*N) \\times C$.\n",
    "\n",
    "Then we run the logits and targets through `tf.nn.softmax_cross_entropy_with_logits` and find the mean to get the loss."
   ]
  },
  {
   "cell_type": "code",
   "execution_count": 24,
   "metadata": {
    "collapsed": true
   },
   "outputs": [],
   "source": [
    "def build_loss(logits, targets, lstm_size, num_classes):\n",
    "    ''' Calculate the loss from the logits and the targets.\n",
    "    \n",
    "        Arguments\n",
    "        ---------\n",
    "        logits: Logits from final fully connected layer\n",
    "        targets: Targets for supervised learning\n",
    "        lstm_size: Number of LSTM hidden units\n",
    "        num_classes: Number of classes in targets\n",
    "        \n",
    "    '''\n",
    "    # One-hot encode targets and reshape to match logits, one row per sequence per step\n",
    "    y_one_hot = tf.one_hot(targets,num_classes)\n",
    "    y_reshaped =  tf.reshape(y_one_hot,logits.get_shape())\n",
    "    \n",
    "    # Softmax cross entropy loss\n",
    "    loss = tf.reduce_mean(tf.nn.softmax_cross_entropy_with_logits(logits=logits,labels=y_reshaped))\n",
    "    \n",
    "    return loss"
   ]
  },
  {
   "cell_type": "markdown",
   "metadata": {},
   "source": [
    "### Optimizer\n",
    "\n",
    "Here we build the optimizer. Normal RNNs have have issues gradients exploding and disappearing. LSTMs fix the disappearance problem, but the gradients can still grow without bound. To fix this, we can clip the gradients above some threshold. That is, if a gradient is larger than that threshold, we set it to the threshold. This will ensure the gradients never grow overly large. Then we use an AdamOptimizer for the learning step."
   ]
  },
  {
   "cell_type": "code",
   "execution_count": 25,
   "metadata": {
    "collapsed": true
   },
   "outputs": [],
   "source": [
    "def build_optimizer(loss, learning_rate, grad_clip,global_step):\n",
    "    ''' Build optmizer for training, using gradient clipping.\n",
    "    \n",
    "        Arguments:\n",
    "        loss: Network loss\n",
    "        learning_rate: Learning rate for optimizer\n",
    "        global_step: to control the total number of train steps\n",
    "    \n",
    "    '''\n",
    "    \n",
    "    # Optimizer for training, using gradient clipping to control exploding gradients\n",
    "    tvars = tf.trainable_variables()\n",
    "    grads, _ = tf.clip_by_global_norm(tf.gradients(loss, tvars), grad_clip)\n",
    "    train_op = tf.train.AdamOptimizer(learning_rate)\n",
    "    optimizer = train_op.apply_gradients(zip(grads, tvars),global_step)\n",
    "    \n",
    "    return optimizer"
   ]
  },
  {
   "cell_type": "markdown",
   "metadata": {},
   "source": [
    "### Build the network\n",
    "\n",
    "Now we can put all the pieces together and build a class for the network. To actually run data through the LSTM cells, we will use [`tf.nn.dynamic_rnn`](https://www.tensorflow.org/versions/r1.0/api_docs/python/tf/nn/dynamic_rnn). This function will pass the hidden and cell states across LSTM cells appropriately for us. It returns the outputs for each LSTM cell at each step for each sequence in the mini-batch. It also gives us the final LSTM state. We want to save this state as `final_state` so we can pass it to the first LSTM cell in the the next mini-batch run. For `tf.nn.dynamic_rnn`, we pass in the cell and initial state we get from `build_lstm`, as well as our input sequences. Also, we need to one-hot encode the inputs before going into the RNN. \n"
   ]
  },
  {
   "cell_type": "code",
   "execution_count": 26,
   "metadata": {
    "collapsed": true
   },
   "outputs": [],
   "source": [
    "class CharRNN:\n",
    "    \n",
    "    def __init__(self, num_classes, batch_size=64, num_steps=50, \n",
    "                       lstm_size=128, num_layers=2, learning_rate=0.001, \n",
    "                       grad_clip=5, sampling=False):\n",
    "    \n",
    "        # When we're using this network for sampling later, we'll be passing in\n",
    "        # one character at a time, so providing an option for that\n",
    "        if sampling == True:\n",
    "            batch_size, num_steps = 1, 1\n",
    "        else:\n",
    "            batch_size, num_steps = batch_size, num_steps\n",
    "\n",
    "        tf.reset_default_graph()\n",
    "        \n",
    "        self.global_step_tensor = tf.Variable(0,trainable=False,name = \"global_step\")\n",
    "        # Build the input placeholder tensors\n",
    "        self.inputs, self.targets, self.keep_prob = build_inputs(batch_size,num_steps)\n",
    "        # Build the LSTM cell\n",
    "        cell, self.initial_state = build_lstm(lstm_size,num_layers,batch_size,self.keep_prob)\n",
    "        ### Run the data through the RNN layers\n",
    "        # First, one-hot encode the input tokens\n",
    "        x_one_hot = tf.one_hot(self.inputs,num_classes)\n",
    "        \n",
    "        self.grad_clip  = grad_clip\n",
    "        # Run each sequence step through the RNN with tf.nn.dynamic_rnn \n",
    "        outputs, state = tf.nn.dynamic_rnn(cell,x_one_hot,initial_state=self.initial_state)\n",
    "        self.final_state = state\n",
    "        \n",
    "        # Get softmax predictions and logits\n",
    "        self.prediction, self.logits = build_output(outputs,lstm_size,num_classes)\n",
    "        \n",
    "        # Loss and optimizer (with gradient clipping)\n",
    "        self.loss =  build_loss(self.logits,self.targets,lstm_size,num_classes)\n",
    "        self.optimizer = build_optimizer(self.loss,learning_rate,grad_clip,self.global_step_tensor)"
   ]
  },
  {
   "cell_type": "markdown",
   "metadata": {},
   "source": [
    "## Hyperparameters\n",
    "\n",
    "Here are the hyperparameters for the network.\n",
    "\n",
    "* `batch_size` - Number of sequences running through the network in one pass.\n",
    "* `num_steps` - Number of characters in the sequence the network is trained on. Larger is better typically, the network will learn more long range dependencies. But it takes longer to train. 100 is typically a good number here.\n",
    "* `lstm_size` - The number of units in the hidden layers.\n",
    "* `num_layers` - Number of hidden LSTM layers to use\n",
    "* `learning_rate` - Learning rate for training\n",
    "* `keep_prob` - The dropout keep probability when training. If you're network is overfitting, try decreasing this.\n",
    "\n",
    "Here's some good advice from Andrej Karpathy on training the network:. \n",
    "\n",
    "> ## Tips and Tricks\n",
    "\n",
    ">### Monitoring Validation Loss vs. Training Loss\n",
    ">If you're somewhat new to Machine Learning or Neural Networks it can take a bit of expertise to get good models. The most important quantity to keep track of is the difference between your training loss (printed during training) and the validation loss (printed once in a while when the RNN is run on the validation data (by default every 1000 iterations)). In particular:\n",
    "\n",
    "> - If your training loss is much lower than validation loss then this means the network might be **overfitting**. Solutions to this are to decrease your network size, or to increase dropout. For example you could try dropout of 0.5 and so on.\n",
    "> - If your training/validation loss are about equal then your model is **underfitting**. Increase the size of your model (either number of layers or the raw number of neurons per layer)\n",
    "\n",
    "> ### Approximate number of parameters\n",
    "\n",
    "> The two most important parameters that control the model are `lstm_size` and `num_layers`. I would advise that you always use `num_layers` of either 2/3. The `lstm_size` can be adjusted based on how much data you have. The two important quantities to keep track of here are:\n",
    "\n",
    "> - The number of parameters in your model. This is printed when you start training.\n",
    "> - The size of your dataset. 1MB file is approximately 1 million characters.\n",
    "\n",
    ">These two should be about the same order of magnitude. It's a little tricky to tell. Here are some examples:\n",
    "\n",
    "> - I have a 100MB dataset and I'm using the default parameter settings (which currently print 150K parameters). My data size is significantly larger (100 mil >> 0.15 mil), so I expect to heavily underfit. I am thinking I can comfortably afford to make `lstm_size` larger.\n",
    "> - I have a 10MB dataset and running a 10 million parameter model. I'm slightly nervous and I'm carefully monitoring my validation loss. If it's larger than my training loss then I may want to try to increase dropout a bit and see if that helps the validation loss.\n",
    "\n",
    "> ### Best models strategy\n",
    "\n",
    ">The winning strategy to obtaining very good models (if you have the compute time) is to always err on making the network larger (as large as you're willing to wait for it to compute) and then try different dropout values (between 0,1). Whatever model has the best validation performance (the loss, written in the checkpoint filename, low is good) is the one you should use in the end.\n",
    "\n",
    ">It is very common in deep learning to run many different models with many different hyperparameter settings, and in the end take whatever checkpoint gave the best validation performance.\n",
    "\n",
    ">By the way, the size of your training and validation splits are also parameters. Make sure you have a decent amount of data in your validation set or otherwise the validation performance will be noisy and not very informative."
   ]
  },
  {
   "cell_type": "code",
   "execution_count": 27,
   "metadata": {
    "collapsed": true
   },
   "outputs": [],
   "source": [
    "def get_number_of_parameters():\n",
    "    total_parameters = 0\n",
    "    for variable in tf.trainable_variables():\n",
    "        shape = variable.get_shape()\n",
    "        #print(shape)\n",
    "        #print(len(shape))\n",
    "        variable_parameters = 1\n",
    "        \n",
    "        for dim in shape:\n",
    "            #print(dim)\n",
    "            variable_parameters*=dim.value\n",
    "        #print(variable_parameters)\n",
    "        total_parameters+= variable_parameters\n",
    "    return total_parameters"
   ]
  },
  {
   "cell_type": "code",
   "execution_count": 28,
   "metadata": {
    "collapsed": true
   },
   "outputs": [],
   "source": [
    "def pick_top_n(preds, vocab_size, top_n=5):\n",
    "    p = np.squeeze(preds)\n",
    "    p[np.argsort(p)[:-top_n]] = 0\n",
    "    p = p / np.sum(p)\n",
    "    c = np.random.choice(vocab_size, 1, p=p)[0]\n",
    "    return c"
   ]
  },
  {
   "cell_type": "markdown",
   "metadata": {},
   "source": [
    "## Time for training\n",
    "\n",
    "This is typical training code, passing inputs and targets into the network, then running the optimizer. Here we also get back the final LSTM state for the mini-batch. Then, we pass that state back into the network so the next batch can continue the state from the previous batch. And every so often (set by `save_every_n`) I save a checkpoint.\n",
    "\n",
    "Here I'm saving checkpoints with the format\n",
    "\n",
    "`i{iteration number}_l{# hidden layer units}.ckpt`\n"
   ]
  },
  {
   "cell_type": "code",
   "execution_count": 29,
   "metadata": {
    "collapsed": true
   },
   "outputs": [],
   "source": [
    "losses = {\"train\":[],\"validation\":[]}\n",
    "x_steps = list()"
   ]
  },
  {
   "cell_type": "code",
   "execution_count": 41,
   "metadata": {},
   "outputs": [
    {
     "name": "stdout",
     "output_type": "stream",
     "text": [
      "Training starting at time: 2017-10-16 03:10:36\n",
      "Number of parameters: 7475814 Dataset size: 2563420\n",
      "INFO:tensorflow:Restoring parameters from checkpoints/mcharacters_i4005_l768.ckpt\n",
      "Epoch: 1/15...  Training Step: 4006...  Training loss: 1.1225...  Val loss: 1.6267...  0.3459 sec/batch\n",
      "Epoch: 1/15...  Training Step: 4106...  Training loss: 1.0191...  Val loss: 1.5808...  0.2977 sec/batch\n",
      "Epoch: 1/15...  Training Step: 4206...  Training loss: 1.0002...  Val loss: 1.5812...  0.2819 sec/batch\n",
      "Epoch: 2/15...  Training Step: 4306...  Training loss: 0.9500...  Val loss: 1.6059...  0.2996 sec/batch\n",
      "Epoch: 2/15...  Training Step: 4406...  Training loss: 0.9257...  Val loss: 1.6281...  0.3051 sec/batch\n",
      "Epoch: 2/15...  Training Step: 4506...  Training loss: 0.9340...  Val loss: 1.6455...  0.3031 sec/batch\n",
      "Epoch: 3/15...  Training Step: 4606...  Training loss: 0.9251...  Val loss: 1.6442...  0.3049 sec/batch\n",
      "Epoch: 3/15...  Training Step: 4706...  Training loss: 0.8682...  Val loss: 1.6789...  0.3046 sec/batch\n",
      "Epoch: 3/15...  Training Step: 4806...  Training loss: 0.8838...  Val loss: 1.6925...  0.3028 sec/batch\n",
      "Epoch: 4/15...  Training Step: 4906...  Training loss: 0.8465...  Val loss: 1.7090...  0.3027 sec/batch\n",
      "Epoch: 4/15...  Training Step: 5006...  Training loss: 0.8572...  Val loss: 1.7175...  0.3063 sec/batch\n",
      "Epoch: 5/15...  Training Step: 5106...  Training loss: 0.8357...  Val loss: 1.7424...  0.3049 sec/batch\n",
      "Epoch: 5/15...  Training Step: 5206...  Training loss: 0.8063...  Val loss: 1.7694...  0.3017 sec/batch\n",
      "Epoch: 5/15...  Training Step: 5306...  Training loss: 0.8229...  Val loss: 1.7729...  0.3053 sec/batch\n",
      "Epoch: 6/15...  Training Step: 5406...  Training loss: 0.7853...  Val loss: 1.7800...  0.2915 sec/batch\n",
      "Epoch: 6/15...  Training Step: 5506...  Training loss: 0.7652...  Val loss: 1.8214...  0.2784 sec/batch\n",
      "Epoch: 6/15...  Training Step: 5606...  Training loss: 0.7934...  Val loss: 1.8321...  0.2769 sec/batch\n",
      "Epoch: 7/15...  Training Step: 5706...  Training loss: 0.7717...  Val loss: 1.8498...  0.2758 sec/batch\n",
      "Epoch: 7/15...  Training Step: 5806...  Training loss: 0.7639...  Val loss: 1.8499...  0.2765 sec/batch\n",
      "Epoch: 8/15...  Training Step: 5906...  Training loss: 0.7908...  Val loss: 1.8709...  0.2770 sec/batch\n",
      "Epoch: 8/15...  Training Step: 6006...  Training loss: 0.7733...  Val loss: 1.8774...  0.2771 sec/batch\n",
      "Epoch: 8/15...  Training Step: 6106...  Training loss: 0.7959...  Val loss: 1.8785...  0.2769 sec/batch\n",
      "Epoch: 9/15...  Training Step: 6206...  Training loss: 0.7717...  Val loss: 1.8758...  0.2774 sec/batch\n",
      "Epoch: 9/15...  Training Step: 6306...  Training loss: 0.7631...  Val loss: 1.9273...  0.2766 sec/batch\n",
      "Epoch: 9/15...  Training Step: 6406...  Training loss: 0.7602...  Val loss: 1.8978...  0.2769 sec/batch\n",
      "Epoch: 10/15...  Training Step: 6506...  Training loss: 0.7371...  Val loss: 1.9144...  0.2848 sec/batch\n",
      "Epoch: 10/15...  Training Step: 6606...  Training loss: 0.7422...  Val loss: 1.9250...  0.2760 sec/batch\n",
      "Epoch 10/15 time:74.48389005661011...  finished at 2017-10-16 03:23:37\n",
      "Epoch: 11/15...  Training Step: 6706...  Training loss: 0.7300...  Val loss: 1.9698...  0.2769 sec/batch\n",
      "Epoch: 11/15...  Training Step: 6806...  Training loss: 0.7170...  Val loss: 1.9742...  0.2767 sec/batch\n",
      "Epoch: 11/15...  Training Step: 6906...  Training loss: 0.6884...  Val loss: 1.9740...  0.2772 sec/batch\n",
      "Epoch: 12/15...  Training Step: 7006...  Training loss: 0.6900...  Val loss: 2.0004...  0.2763 sec/batch\n",
      "Epoch: 12/15...  Training Step: 7106...  Training loss: 0.6690...  Val loss: 2.0041...  0.2767 sec/batch\n",
      "Epoch: 12/15...  Training Step: 7206...  Training loss: 0.6729...  Val loss: 2.0366...  0.2766 sec/batch\n",
      "Epoch: 13/15...  Training Step: 7306...  Training loss: 0.6583...  Val loss: 2.0199...  0.2772 sec/batch\n",
      "Epoch: 13/15...  Training Step: 7406...  Training loss: 0.6885...  Val loss: 2.0080...  0.2766 sec/batch\n",
      "Epoch: 14/15...  Training Step: 7506...  Training loss: 0.6472...  Val loss: 2.0590...  0.2766 sec/batch\n",
      "Epoch: 14/15...  Training Step: 7606...  Training loss: 0.6601...  Val loss: 2.0657...  0.2759 sec/batch\n",
      "Epoch: 14/15...  Training Step: 7706...  Training loss: 0.6363...  Val loss: 2.0924...  0.2771 sec/batch\n",
      "Epoch: 15/15...  Training Step: 7806...  Training loss: 0.6451...  Val loss: 2.1102...  0.2770 sec/batch\n",
      "Epoch: 15/15...  Training Step: 7906...  Training loss: 0.6541...  Val loss: 2.1227...  0.2767 sec/batch\n",
      "Epoch: 15/15...  Training Step: 8006...  Training loss: 0.6159...  Val loss: 2.1668...  0.2772 sec/batch\n",
      "Training ending at time: 2017-10-16 03:29:49\n",
      "Trainint total time: 1152.564558506012\n"
     ]
    }
   ],
   "source": [
    "#epochs = 1\n",
    "# Save every N iterations\n",
    "save_every_n = 500\n",
    "print_loss_every_n = 100\n",
    "sample_every = 500\n",
    "print_epoch_time_every = 10\n",
    "\n",
    "with tf.device(\"/gpu:0\"):\n",
    "    model = CharRNN(len(vocab), batch_size=batch_size, num_steps=num_steps,\n",
    "                lstm_size=lstm_size, num_layers=num_layers, \n",
    "                learning_rate=learning_rate)\n",
    "    #print(\"after model\")\n",
    "\n",
    "saver = tf.train.Saver(max_to_keep=5)\n",
    "print(\"Training starting at time:\",strftime(\"%Y-%m-%d %H:%M:%S\", localtime()))\n",
    "train_start_time = time.time()\n",
    "with tf.Session() as sess:\n",
    "    sess.run(tf.global_variables_initializer())\n",
    "    print(\"Number of parameters:\",get_number_of_parameters(),\"Dataset size:\",len(encoded))\n",
    "    #print(\"after initializer\")\n",
    "    if resume_from_checkpoint:\n",
    "        latest_checkpoint = tf.train.latest_checkpoint('checkpoints')\n",
    "        saver.restore(sess, latest_checkpoint)\n",
    "    counter = 0\n",
    "    for e in range(epochs):\n",
    "        # Train network\n",
    "        epoch_start = time.time()\n",
    "        \n",
    "        new_state = sess.run(model.initial_state)\n",
    "        loss = 0\n",
    "        for x, y in get_batches(encoded, batch_size, num_steps):\n",
    "            \n",
    "            \n",
    "            start = time.time()\n",
    "            feed = {model.inputs: x,\n",
    "                    model.targets: y,\n",
    "                    model.keep_prob: keep_prob,\n",
    "                    model.initial_state: new_state}\n",
    "            batch_loss, new_state, _ = sess.run([model.loss, \n",
    "                                                 model.final_state, \n",
    "                                                 model.optimizer], \n",
    "                                                 feed_dict=feed)\n",
    "        \n",
    "            \n",
    "            end = time.time()\n",
    "            if counter%print_loss_every_n == 0:\n",
    "                val_batches = get_batches(encoded_val,int(len(encoded_val)/num_steps),num_steps)\n",
    "                x_val,y_val = next(val_batches)\n",
    "                \n",
    "                val_dict = {model.inputs: x_val,\n",
    "                            model.targets: y_val,\n",
    "                            model.keep_prob: 1,\n",
    "                            model.initial_state: new_state}\n",
    "                \n",
    "                val_loss,prediction = sess.run([model.loss,model.prediction],feed_dict=val_dict)\n",
    "                \n",
    "                losses[\"train\"].append(batch_loss)\n",
    "                losses[\"validation\"].append(val_loss)\n",
    "                \n",
    "                \n",
    "                global_step = tf.train.global_step(sess,model.global_step_tensor)\n",
    "                x_steps.append(global_step)\n",
    "                \n",
    "                print('Epoch: {}/{}... '.format(e+1, epochs),\n",
    "                      'Training Step: {}... '.format(global_step),\n",
    "                      'Training loss: {:.4f}... '.format(batch_loss),\n",
    "                      'Val loss: {:.4f}... '.format(val_loss),\n",
    "                      '{:.4f} sec/batch'.format((end-start)))\n",
    "        \n",
    "            if (counter % save_every_n == 0):\n",
    "                global_step = tf.train.global_step(sess,model.global_step_tensor)\n",
    "                saver.save(sess, \"checkpoints/m{}_i{}_l{}.ckpt\".format(mode,global_step, lstm_size))\n",
    "                \n",
    "            counter += 1\n",
    "            #learning_rate*=0.75\n",
    "            #model.optimizer = build_optimizer(model.loss,learning_rate,model.grad_clip,model.global_step_tensor)\n",
    "        \n",
    "        epoch_end = time.time()\n",
    "        \n",
    "        \n",
    "        if ((e+1) % print_epoch_time_every== 0):\n",
    "            print('Epoch {}/{} time:{}...'.format(e+1,epochs,epoch_end-epoch_start),\n",
    "                 \" finished at\",strftime(\"%Y-%m-%d %H:%M:%S\", localtime()))\n",
    "        \n",
    "            \n",
    "    global_step = tf.train.global_step(sess,model.global_step_tensor)\n",
    "    saver.save(sess, \"checkpoints/m{}_i{}_l{}.ckpt\".format(mode,global_step, lstm_size))\n",
    "    \n",
    "print(\"Training ending at time:\",strftime(\"%Y-%m-%d %H:%M:%S\", localtime()))\n",
    "print(\"Trainint total time:\",time.time()-train_start_time)"
   ]
  },
  {
   "cell_type": "code",
   "execution_count": 42,
   "metadata": {},
   "outputs": [
    {
     "data": {
      "image/png": "[encoded data removed]",
      "text/plain": [
       "<matplotlib.figure.Figure at 0x7fa0a810d208>"
      ]
     },
     "metadata": {
      "image/png": {
       "height": 250,
       "width": 373
      }
     },
     "output_type": "display_data"
    }
   ],
   "source": [
    "plt.plot(x_steps,losses[\"train\"],label=\"Train loss\")\n",
    "plt.plot(x_steps,losses[\"validation\"],label=\"Validation loss\")\n",
    "plt.legend()\n",
    "_ = plt.ylim()"
   ]
  },
  {
   "cell_type": "markdown",
   "metadata": {},
   "source": [
    "#### Saved checkpoints\n",
    "\n",
    "Read up on saving and loading checkpoints here: https://www.tensorflow.org/programmers_guide/variables"
   ]
  },
  {
   "cell_type": "code",
   "execution_count": 43,
   "metadata": {
    "collapsed": true
   },
   "outputs": [],
   "source": [
    "checkpoints = tf.train.get_checkpoint_state('checkpoints')"
   ]
  },
  {
   "cell_type": "markdown",
   "metadata": {},
   "source": [
    "## Sampling final trained model\n",
    "\n",
    "Now that the network is trained, we'll can use it to generate new text. The idea is that we pass in a character, then the network will predict the next character. We can use the new one, to predict the next one. And we keep doing this to generate all new text. I also included some functionality to prime the network with some text by passing in a string and building up a state from that.\n",
    "\n",
    "The network gives us predictions for each character. To reduce noise and make things a little less random, I'm going to only choose a new character from the top N most likely characters.\n",
    "\n"
   ]
  },
  {
   "cell_type": "code",
   "execution_count": 44,
   "metadata": {
    "collapsed": true
   },
   "outputs": [],
   "source": [
    "def sample(checkpoint, n_samples, lstm_size, vocab_size, prime=\"The \",mode=\"characters\"):\n",
    "    print(mode)\n",
    "    samples = tokenize_text(prime,mode)\n",
    "    model = CharRNN(len(vocab), lstm_size=lstm_size, sampling=True)\n",
    "    saver = tf.train.Saver()\n",
    "    with tf.Session() as sess:\n",
    "        saver.restore(sess, checkpoint)\n",
    "        new_state = sess.run(model.initial_state)\n",
    "        for c in tokenize_text(prime,mode):\n",
    "            x = np.zeros((1, 1))\n",
    "            x[0,0] = vocab_to_int[c]\n",
    "            feed = {model.inputs: x,\n",
    "                    model.keep_prob: 1.,\n",
    "                    model.initial_state: new_state}\n",
    "            preds, new_state = sess.run([model.prediction, model.final_state], \n",
    "                                         feed_dict=feed)\n",
    "\n",
    "        c = pick_top_n(preds, len(vocab))\n",
    "        samples.append(int_to_vocab[c])\n",
    "\n",
    "        for i in range(n_samples):\n",
    "            x[0,0] = c\n",
    "            feed = {model.inputs: x,\n",
    "                    model.keep_prob: 1.,\n",
    "                    model.initial_state: new_state}\n",
    "            preds, new_state = sess.run([model.prediction, model.final_state], \n",
    "                                         feed_dict=feed)\n",
    "\n",
    "            c = pick_top_n(preds, len(vocab))\n",
    "            samples.append(int_to_vocab[c])\n",
    "        \n",
    "    return ''.join(samples).replace(\"new_line_token\",\"\\n\")"
   ]
  },
  {
   "cell_type": "markdown",
   "metadata": {},
   "source": [
    "Here, pass in the path to a checkpoint and sample from the network."
   ]
  },
  {
   "cell_type": "code",
   "execution_count": 45,
   "metadata": {},
   "outputs": [
    {
     "data": {
      "text/plain": [
       "'checkpoints/mcharacters_i8010_l768.ckpt'"
      ]
     },
     "execution_count": 45,
     "metadata": {},
     "output_type": "execute_result"
    }
   ],
   "source": [
    "tf.train.latest_checkpoint('checkpoints')"
   ]
  },
  {
   "cell_type": "markdown",
   "metadata": {},
   "source": [
    "## Generate new text from \"base\" text"
   ]
  },
  {
   "cell_type": "code",
   "execution_count": 46,
   "metadata": {},
   "outputs": [
    {
     "name": "stdout",
     "output_type": "stream",
     "text": [
      "characters\n",
      "INFO:tensorflow:Restoring parameters from checkpoints/mcharacters_i8010_l768.ckpt\n",
      "characters\n",
      "INFO:tensorflow:Restoring parameters from checkpoints/mcharacters_i8010_l768.ckpt\n",
      "characters\n",
      "INFO:tensorflow:Restoring parameters from checkpoints/mcharacters_i8010_l768.ckpt\n",
      "characters\n",
      "INFO:tensorflow:Restoring parameters from checkpoints/mcharacters_i8010_l768.ckpt\n",
      "characters\n",
      "INFO:tensorflow:Restoring parameters from checkpoints/mcharacters_i8010_l768.ckpt\n",
      "characters\n",
      "INFO:tensorflow:Restoring parameters from checkpoints/mcharacters_i8010_l768.ckpt\n",
      "characters\n",
      "INFO:tensorflow:Restoring parameters from checkpoints/mcharacters_i8010_l768.ckpt\n",
      "characters\n",
      "INFO:tensorflow:Restoring parameters from checkpoints/mcharacters_i8010_l768.ckpt\n",
      "characters\n",
      "INFO:tensorflow:Restoring parameters from checkpoints/mcharacters_i8010_l768.ckpt\n",
      "characters\n",
      "INFO:tensorflow:Restoring parameters from checkpoints/mcharacters_i8010_l768.ckpt\n",
      "characters\n",
      "INFO:tensorflow:Restoring parameters from checkpoints/mcharacters_i8010_l768.ckpt\n",
      "characters\n",
      "INFO:tensorflow:Restoring parameters from checkpoints/mcharacters_i8010_l768.ckpt\n",
      "characters\n",
      "INFO:tensorflow:Restoring parameters from checkpoints/mcharacters_i8010_l768.ckpt\n",
      "characters\n",
      "INFO:tensorflow:Restoring parameters from checkpoints/mcharacters_i8010_l768.ckpt\n",
      "characters\n",
      "INFO:tensorflow:Restoring parameters from checkpoints/mcharacters_i8010_l768.ckpt\n",
      "characters\n",
      "INFO:tensorflow:Restoring parameters from checkpoints/mcharacters_i8010_l768.ckpt\n"
     ]
    }
   ],
   "source": [
    "\n",
    "checkpoint = tf.train.latest_checkpoint('checkpoints')\n",
    "\n",
    "\n",
    "samples = list()\n",
    "for text in text_to_try:\n",
    "    #print(\"------------------------\",text)\n",
    "    samples.append( sample(checkpoint, 500, lstm_size, len(vocab), prime=text,mode=mode))\n",
    "    #print(samp)\n",
    "    #print(\"------------------------\")"
   ]
  },
  {
   "cell_type": "code",
   "execution_count": 47,
   "metadata": {},
   "outputs": [
    {
     "name": "stdout",
     "output_type": "stream",
     "text": [
      "------------------------ In the first place\n",
      "In the first place, it is probable I had a week of particular below, and a neglect of terror, therve in general confactual horror, and carefully sheer impression under the shoulder days; suffersed, sight,ling, and short monstrous and pink-black peders of vessels; but to accomplinh were groping and horrible drynching almost animal weithers, wite could never have cross a torch betaious bridges being very base to my fingers; th shivering, and\n",
      "threw the whole sort of feeble annaysistance, lowering, and starfish-poinde\n",
      "------------------------\n",
      "------------------------ the night before\n",
      "the night before, or though he was at all ends, there studied by another\n",
      "structure because of the choked than him of his hands upon his breath as\n",
      "debreak, and had apparently been setting along it two or together up secretling among them.\n",
      "     After that no purpose was detertion, and distinct the\n",
      "apparition of chorused roof,\n",
      "and was readily choked me with luminosine points. These\n",
      "predaces of the women and feated shells hung borne out from with a problemation; and had at once endeavoured to reach\n",
      "eater tonferous a\n",
      "------------------------\n",
      "------------------------ horror\n",
      "horror my own height windows above their heads. He had secured, and of the sunset set forth infinithering a projuced wizd and easy candles, and peridd uponably heomed me to set if he\n",
      "must let greatly incredibly for connecting upon the portion of its identic circles and or twice involvet, and seemed to cover up food another approaching about\n",
      "advessard matters which the youth had comparatively run ourreluboubly drowsing browled, and all cultus, be learned, affected by mesorional sensesoms of entry. All s\n",
      "------------------------\n",
      "------------------------ creature\n",
      "creature and reduced covering over all-very bew louthern itself. The belliess and supporting door would be gladedted. Over a countenablish-headed beings can for any studdenner imminent act of outpost,ays of a beilficulated charce of immortabes that oftended to these profounn.s and that a record-robabome of character sprinklings were set in tangibly theoromestic chaos of mockingly had a dorthside lasted several smiles, demanified things that were murderously made our way of a tall, lighting palms that wer\n",
      "------------------------\n",
      "------------------------ night\n",
      "nighte.\n",
      "\n",
      "The night was carefully\n",
      " whisted that the brig nool was being in a glass of brooding our presence in that abyss of intimate and supporting clouds, and saw—that these arms were clearly shut of my coat, commusications in reduces of modern terror, and that the abstracted manual in chasm, this was, as\n",
      "crowned by the flore in the hollowful east of the hall.\n",
      "\n",
      "And now, at if ever one, there came betweer\n",
      "witches three first I desifed, the pride of his hutsent roof. They have a tripletial invecile, co\n",
      "------------------------\n",
      "------------------------ dream\n",
      "dreaments with that curious gatex and gables, for a brief period when indicated those destroying tenests at ninetice whom the storms how floated and holds unberranted three the hills and reclosant tethered titary assemblitwer streets at night, and what way he was agnestablish in a new impression that the main building scrowl would run, and that he knew he pendedry and we sloped away from the trobless and bearing state. One insidious automatory raving brideway audnesses to the centre. There had been a \n",
      "------------------------\n",
      "------------------------ thing\n",
      "things sinisterbable that they could not, and too, that his whole extendive canic, since the least shapeless room toowned and talked on all simi-mouthed abnormality. All that the friends are very poudd, and thet gigantic secret down to large the accursed roof was seen. Their voices had been seized by the shoring ropes, and he did not envely in truth a level of grimpsent mind of solution of those persons to tell, of course and counteary of man, and the accident of the cropped blocks happen and pieces o\n",
      "------------------------\n",
      "------------------------ That night\n",
      "That nightful family will not be much impossible. I may alarmed and\n",
      "startlingly assured me from my perception. Through this chance of an\n",
      "operason was much more in her own house it is mounted in the country a hore, and\n",
      "throst immediately drowning strange outline and serving the raicto\n",
      "     The obtain being the bricking of his grandfathe feeble words in fancy, that I had noticed the shorter countryside beyond and perfect she curiously disjointed, in reading\n",
      "the post, but conjectually more than a few hours af\n",
      "------------------------\n",
      "------------------------ mountain\n",
      "mountainous richmentfrous slaves geological. He could not return to nooly hoverible about how explain, and\n",
      "what actual she must be taken if more horrorful that I scarcely kis horrors of the hogs. Tet these heredoom, and\n",
      "sixteen battery, as if I were to be about to sleep -- dawn--never worm, to attabon, and the albatrossen ago vaulting alone wore of a dead couptivilus. The result was now driven in from the trutching motion, with\n",
      "sounds all the fourther or follywadds, and mere pororoganoo\n",
      "and nervous beint\n",
      "------------------------\n",
      "------------------------ Ammi\n",
      "Ammi Makely, and add along the phantasm of countenance in theheur colons. The muse of the most singular bounds, and in the belt upon a deck which had been a mortal abomination of live-garders. Sloops, took, and research, were represented in my ears. They remained night a measure before my on which I was awaken, and even if it was\n",
      "thus for me that I could not have taken to the precaution of hand. He say\n",
      "alarge horror might be\n",
      "seen low, whilst it is this expectancy was a very fatage on the\n",
      "corroporatio\n",
      "------------------------\n",
      "------------------------ Cthulhu\n",
      "CthulhuKs Mighty was comparative by the great world and musty wales. Toward tswarhs grounds on that mighty moving delicipations which fastened in the unshard never wasmay. That fell afternate found pointed odder dressed the speaker among gassings bying certain which would pleasleng from my original domain, however, above the larboard gand.\n",
      "     The records of the montt, how altogether upon the ground of brambles, tiget, at first, ten feet late, with its fute from a passionance.\n",
      "\n",
      "As we have, my dreams in\n",
      "------------------------\n",
      "------------------------ raven\n",
      "ravening grave and sort, some of which we ensuevered that he had so lurked a difference; though a single who apoced him which we writtently cannot. Afroih there was a huge coffin-was necessary. Th  - this man was rathering to unharried them, and hearding the cornert, a ground planet abysses bet men in dark, upon this sincl of these thressombred times. There is a row of a disphiration and open space about through the\n",
      "bulky, most among other child to that\n",
      "whose terror was at least admitable--and a newly\n",
      "------------------------\n",
      "------------------------ bird\n",
      "bird if the Manuxet. Mysteal is cheered, but I do not would have tarred to us, and began to asserve it any of the proding of his more through which we exceeds a man of strange and sharp febrasts against the shadge, waiting forepays.\n",
      "\n",
      "    Our far too late had been removed, as before, between ten or two farther from\n",
      "throat of its terrift, and did what again he told ever the party as hung, but was always vasting despite the abundane, who formed the towering outstrustical at the associated whining-positi\n",
      "------------------------\n",
      "------------------------ nevermore\n",
      "nevermores,\n",
      "earthonged and gulyshold. The shread of a very singularly dogs above the stars. The nebroar archways of the Grampus was a discoverable places where name of the chamber Gods happened to frequrn to clotch they trgund to form nightmare clouds, while a gentle barking and hard-greatest abnormal times spirifically spites to be compared as a negro, through that of their consciousness and terribled dangerous assemblage of our knives, and of the sented stratumits of groupers because of the ghouls and n\n",
      "------------------------\n",
      "------------------------ dead\n",
      "dead.\n",
      "\n",
      "The adaqtain was unclouded about three feet when each larger at the sides were frankly of servents. Then thus, in a low mad confess of feeling most abandon\n",
      "un aspect, with a stupition that he\n",
      "would have glasses and\n",
      "dreams of hills, and everybody entering into the black, and beginnou doubt the bowily of the\n",
      "ground. On this time two pulleps sounds, which came finally connected his fail; and thatified of all my lumber on that hellish and image and a half-in the\n",
      "frightful distances, and we were fo\n",
      "------------------------\n",
      "------------------------ The bird\n",
      "The birds of the rock; beiled, racked,\n",
      "and allowing in the neighbouring tale, was apparently ruinour entity. He could\n",
      "not resist the folklore of hysterical limeness in accrumable buried in the shadow.\n",
      "\n",
      "    Three wareous waiss, I madetathly accordingly because of my courchary\n",
      "perusiveness of his\n",
      "own, and deathlights, together with a particle of a general or level as the roofices gliberaugery in the night. The condition of Augustus\n",
      "had, I met the gentlemen of gloot agains in sail. In ret times, rattless in\n",
      "------------------------\n"
     ]
    }
   ],
   "source": [
    "for i in range(len(text_to_try)):\n",
    "    text = text_to_try[i]\n",
    "    generated = samples[i]\n",
    "    print(\"------------------------\",text)\n",
    "    print(generated)\n",
    "    print(\"------------------------\")"
   ]
  },
  {
   "cell_type": "code",
   "execution_count": 48,
   "metadata": {},
   "outputs": [
    {
     "data": {
      "text/plain": [
       "model_checkpoint_path: \"checkpoints/mcharacters_i8010_l768.ckpt\"\n",
       "all_model_checkpoint_paths: \"checkpoints/mcharacters_i6506_l768.ckpt\"\n",
       "all_model_checkpoint_paths: \"checkpoints/mcharacters_i7006_l768.ckpt\"\n",
       "all_model_checkpoint_paths: \"checkpoints/mcharacters_i7506_l768.ckpt\"\n",
       "all_model_checkpoint_paths: \"checkpoints/mcharacters_i8006_l768.ckpt\"\n",
       "all_model_checkpoint_paths: \"checkpoints/mcharacters_i8010_l768.ckpt\""
      ]
     },
     "execution_count": 48,
     "metadata": {},
     "output_type": "execute_result"
    }
   ],
   "source": [
    "tf.train.get_checkpoint_state('checkpoints')"
   ]
  },
  {
   "cell_type": "code",
   "execution_count": 49,
   "metadata": {},
   "outputs": [
    {
     "name": "stdout",
     "output_type": "stream",
     "text": [
      "characters\n",
      "INFO:tensorflow:Restoring parameters from checkpoints/mcharacters_i8010_l768.ckpt\n",
      "The old folk have gone away, for that we had now to be at all buried on or twenty-fifth passed the most\n",
      "convenient places in about a third execution. As we could out would be only to picture to imbuls and abnormality. This wild an unusual palpable forecasual remotest, a briggerent indicative glance, where, too, there could be the merciful open the lower longures, when we wereful agoni block in my dangered, barrenin, time-times --incluiovable and priest-wabousness, were not filled ephousingly by means of a scara;\n",
      "but the paws and libera-complex which immediately took up and footfully predentingly in the person who turned the\n",
      "last general cover, with coursed villages of the soul.\n",
      "\n",
      "    Thus at length I scrambled my bolted thin, shou descended forth there is, and this in a sentimentaki,htht,out wait-combands in the chamber --or what we weigh, that this was overposed, in a kind of probably worry, to the abomadest compation of my situation. I recalled any language for some minutes, and I ever for morrifur immoniateless th it instantaneous.\n",
      "\n",
      "    In about an hour, we would get to ind, and that they would claim that this was wondered; and in any respect that I before said to have a conclusion that I can say that I stood around the nail, and I have many\n",
      "pronounces and perhaps, in opium didected upon this purpose? I did so, and then the tentacles of the mountains of burning, all-venturn to that\n",
      "chiefacts -- a mad cas-a noise accursed for his aid, being shudderingly, and his bride rumb, bt the inconspicoous rycrepancy, to without the patches of good fortune in\n",
      "every direction. There was a respiration of papers, we must have\n",
      "been employed or was\n",
      "full to all the affairs had built usefine with through walls and shambling voice, subsidous and\n",
      "bas-ressesses\n",
      "I required an Enizmanoly voice, that the archway arose from Mesorog Coff, therefore, after all to operations oe two of the most sensible or ellierce. Shall I lafting resorred myself for being possession of the abundant moonlig wits by\n",
      "which I festure my eyes shouldered\n",
      "in the end if if the\n",
      "futifishing sublicity as I have that even to obtain I could thisk or minute, about oy, with a view of a great deal of wine.\n",
      "\n",
      "A ward, thick terrace upon the troubled verticaned quietly peaceful horror about those delivered antarctic was shaken in the\n",
      "course of a long lever would be.\n",
      "     I now found that I had so dropsed but one of those others shooting definite, a brata on yard, down their finally did repeat through i suiled hills, while the abroance of his countenanel was a blasphe of balls,lingnessed books, sails, celarrised, windowless in every powers or two acts of infinite\n",
      "stages but from the\n",
      "point of with a vague surface. The chossis help amiss oversiphers, and so fell by the bruse of a melancholy and more monal tough only wound. Alas! the sails and telling of this could have brown a flast after either side of the walls, with\n",
      "singulance in which these very exposed attonis in arranging through these chains and wint-reassanies, whith would have noticed the terror and three hundred and ten feet wide about which I had at first belond it\n",
      "out.'\n",
      "\n",
      "\n",
      "\n",
      "These eathness I have not been above the limits of my horrens, and my meaning in the chose, drifting, at the evening of the nursear and perhaps handled, I soon remarked, who soon resorted to feel that a few feet were fastening. They ate these modes that ten that I could say with their complex ones, by scholars and ports brought so fer strong caverils behind\n",
      "a most detailing cryptical stream of me from my soul old Zecul contaity, thatched their correcting sounds in the rays of perfect silences. It was a very remarkable chaos, but he dares would enter again upon any the portentous momentous cats of puzzlic into which it\n",
      "made him by way of comparatively marvellous of its bolt. A time had always frightening him to them. The said splare, which none of the\n",
      "best of meteor, sank, over it, which were sculptured; but, indeed, I found myself at least to me seemed some\n",
      "rapidly,\n",
      "as if I spoked muchine, and talked one or two in a strong blow were\n",
      "strown with right greenish by my eye--and as I could, together and endresting terror, and had a third far\n",
      "mirecalling what all the familiare itself was straightly frightful, as if the wind water the motions of mountains, my rame, randomed than hopefeering, of which he had been\n",
      "proceeled\n",
      "up as everall across the walls of the crypt\n",
      "and myself. He seemed so limitleed in a kind of speculations, and in spite of a diseased manner, with the most violent extiectness of the prodigious --dutailed, but could not, every moment. In rethests I saw the mercy, of coursen, are flutted more than once frightening in the countenance that we should find the less imoth in dream or mart. I am consoled to my driveral globoly and\n",
      "sestimy became very carriated,ork,\n",
      "Peters on the time of the thirdent sailed to their own fute death. In\n",
      "an Inspecies, thelody nameless eyes I became cruzed forthwith, and arrowaged rim myths belonging to me. That sheng, had caused much of \n"
     ]
    }
   ],
   "source": [
    "generated = sample(checkpoint, 5000, lstm_size, len(vocab), prime=\"The old folk have gone away\",mode=mode)\n",
    "print(generated)"
   ]
  },
  {
   "cell_type": "code",
   "execution_count": 50,
   "metadata": {},
   "outputs": [
    {
     "name": "stdout",
     "output_type": "stream",
     "text": [
      "characters\n",
      "INFO:tensorflow:Restoring parameters from checkpoints/mcharacters_i8010_l768.ckpt\n",
      "The thing that should not be—completed over every thing inconclusivity; but when adopted me, and had never before seen a most silent and eager and inferred. It was no daramatic nehur and superout once a place, and visible beyond the days of the brink, like that they were evidently. I was by known to the table, and studied by every meat his disgroppror ts as that the one perspering houses of the shore. He was now\n",
      "struck upon the head wild, windows of a\n",
      "sinisher\n",
      "ir, and of the solid walls sented the boat, with a back and findished drift loons; and by either passevers of the strong extenations,\n",
      "he po were set off to the\n",
      "southward and weathering genual in\n",
      "spasmodic exists. The condition, with its full and rather discoursed; for surrob my controwness, I struck my own apprehension, the stone was, sailed, and terrible forthwithout\n",
      "attempting anoundwhathe, but to safe together in tseeth to account in\n",
      "this posspical myself so hand, and\n",
      "was blastedied upon me beeod-corredares. Though play at whalve a gimmness of accurse -for he had true and perceivable experience a vhillting of\n",
      "satisfierct --where by centring would be retached from the action of the parallel by any existence. Squitring them, in some measure,I was urger, I could have instructous bring of the more agedies, and\n",
      "at once starking it our words --a was as possible, and we brought awf ragesters of the corner of the\n",
      "stream. The building were fed\n",
      "from the investigation of the\n",
      "court;arks in the whole marked being of a portion of their\n",
      "seams. A sensationsomners was cau in an oaky, opening through a window, getting\n",
      "out, and those who probebly, too, thus at the floor, and apparented it\n",
      "of being vorr in our father, with all my ultin toward myself. We found that time, to having been thun two\n",
      "fainting and terribleally hour, with soupendent and narules to encourage any of these modes undeceded; of a dream, I found that several countryses were so that at the\n",
      "absence of my perspective and phenomenon, after letting more prominent to the most absolute nupboard of which the cords cauliously rgad. But then, though, with the melody of Joseph Curwen's courago.\n",
      "\n",
      "This horror ancient bals are passed through a rope which there were many inclined, the object betwixt to him, were not uncovered\n",
      "before. To my right,mard telling of the countryside me, my first started thing, it is three influences forthwith, hab, in abysobic tones furnime, and very consequently down against its which a thousand child of water,\n",
      "which in the awful moments\n",
      "with grassing instruments, which comparfulently\n",
      "did not\n",
      "believe) our word and preparive metallic and almost monstrous pinkish foresters, and to so, he had never beheld, with any eyes, have grown upon that, although for it at oncessioned particularspre of the terribal objectfe-sunned opensions, but with great care, the crew was clear again and sudden and tendency to the curvey explosing odogr.ese to the north and weisted in the ship, and extending\n",
      "had poisoned that we had begun to find, at other portions of those storm-rooms wite could get at them in every direction two libraries and perfect contact with any distant above and everything which had much above his words. The head of those great masts now thoroughly, only, which patiently from some terrible fast as soon as I have expected to find the\n",
      "reary\n",
      "element of every action which had at\n",
      "first, be rendered in our\n",
      "buist, and very step in the most horrible and\n",
      "problematiel. Willett said haddly as we might thus edd it on\n",
      "for the point of visible fresh itsolation, were not to consolable me to be\n",
      "spiringless. In one of his\n",
      "son, one or two, that one or though no steps were ruddlinguage. There were severally though was strange abstract of this return,\n",
      "and one of our\n",
      "proportion to the handwriting, I must have actuate to me, and I\n",
      "had not the least, and most di fortunate objects of\n",
      "the stark,\n",
      "about whose feverish being made to the farther front of the shorter; and, at this\n",
      "period upon the product of anoialieuc and\n",
      "darkness, with the eagerment of our ordinary until supreclume, throughout the\n",
      "whole object, ine statues about\n",
      "as long as a\n",
      "movement of boat, or myself,\n",
      "along which\n",
      "I thought the bolt of the box.\n",
      "\n",
      "    \"Glazon,\" hearly, thanfash together with this nighte. Tumnic bury, noonfused work--he would allow me in a briot almost evident sound but throwe me a customary at all, but it ise to be sure, from the mate in every respecm to state\n",
      "the\n",
      "seasons. Sleeple on a widdor down, us with a throne--a hard in the confession so terrible for miles and foreigners. The limbs he replaced my friend by the friend, above all, I am impossible to connect any lure a scarioal obstrentimy, with southerm of his solid ranke werewhood. How to go to Throught the florcting with its leagrers of deserteless and infinite stalage of the door, without any respect to my bring his progress toward a temper; aftervaud, I beheld a short white, widow- and impatuents, and I saw that the breadth would hesitation in any immemorial freatiness through a tanging sort that subjected\n"
     ]
    }
   ],
   "source": [
    "generated = sample(checkpoint, 5000, lstm_size, len(vocab), prime=\"The thing that should not be\",mode=mode)\n",
    "print(generated)"
   ]
  },
  {
   "cell_type": "markdown",
   "metadata": {
    "collapsed": true
   },
   "source": []
  }
 ],
 "metadata": {
  "kernelspec": {
   "display_name": "Python 3",
   "language": "python",
   "name": "python3"
  },
  "language_info": {
   "codemirror_mode": {
    "name": "ipython",
    "version": 3
   },
   "file_extension": ".py",
   "mimetype": "text/x-python",
   "name": "python",
   "nbconvert_exporter": "python",
   "pygments_lexer": "ipython3",
   "version": "3.6.3"
  }
 },
 "nbformat": 4,
 "nbformat_minor": 2
}
