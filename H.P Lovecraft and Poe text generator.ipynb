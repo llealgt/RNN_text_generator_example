{
 "cells": [
  {
   "cell_type": "markdown",
   "metadata": {},
   "source": [
    "# Recurrent neural networks for H.P Lovecraft text generation\n",
    "\n",
    "\"The color out of space\" is one of my favorite tales from Lovecraft, i will use it(as well as others as the call of cthulhu) to create a recurrent neural network in tensorflow that learns his style and generates new text in his style\n",
    "\n",
    "This network is based off of Andrej Karpathy's [post on RNNs](http://karpathy.github.io/2015/05/21/rnn-effectiveness/) and [implementation in Torch](https://github.com/karpathy/char-rnn) and an example from \"Deep Learning Nanodegree\" on udacity. Also, some information [here at r2rt](http://r2rt.com/recurrent-neural-networks-in-tensorflow-ii.html) and from [Sherjil Ozair](https://github.com/sherjilozair/char-rnn-tensorflow) on GitHub. \n",
    "\n",
    "## General architecture using \"Long short term memory\" units in the recurrent layers\n",
    "\n",
    "<img src=\"assets/charseq.jpeg\" width=\"500\">"
   ]
  },
  {
   "cell_type": "code",
   "execution_count": 1,
   "metadata": {
    "collapsed": true
   },
   "outputs": [],
   "source": [
    "%matplotlib inline\n",
    "%config InlineBackend.figure_format = 'retina'"
   ]
  },
  {
   "cell_type": "code",
   "execution_count": 2,
   "metadata": {
    "collapsed": true
   },
   "outputs": [],
   "source": [
    "import time\n",
    "from collections import namedtuple\n",
    "\n",
    "import numpy as np\n",
    "import tensorflow as tf\n",
    "from nltk.tokenize import word_tokenize\n",
    "import nltk\n",
    "import itertools\n",
    "import matplotlib.pyplot as plt\n",
    "from time import gmtime, strftime ,localtime"
   ]
  },
  {
   "cell_type": "code",
   "execution_count": 3,
   "metadata": {
    "collapsed": true
   },
   "outputs": [],
   "source": [
    "# Run only the  first time nltk is used to download language\n",
    "#nltk.download()"
   ]
  },
  {
   "cell_type": "markdown",
   "metadata": {},
   "source": [
    "### Define conf variables and hyper parameteters "
   ]
  },
  {
   "cell_type": "code",
   "execution_count": 4,
   "metadata": {
    "collapsed": true
   },
   "outputs": [],
   "source": [
    "mode = \"characters\" #characters or words\n",
    "\n",
    "epochs = 700\n",
    "batch_size = 75         # Sequences per batch\n",
    "num_steps = 250          # Number of sequence steps per batch\n",
    "lstm_size = 512         # Size of hidden layers in LSTMs\n",
    "num_layers = 2          # Number of LSTM layers\n",
    "learning_rate = 0.0001    # Learning rate\n",
    "keep_prob = 0.2         # Dropout keep probability\n",
    "\n",
    "resume_from_checkpoint = False"
   ]
  },
  {
   "cell_type": "markdown",
   "metadata": {},
   "source": [
    "### Define base text\n",
    "Once trained ,the network can take base text and a sequence size and generate new text using base text as first characters in the sequence. For every element in base text wi will create a list that will store generated text as training goes, to be able to compare results between steps"
   ]
  },
  {
   "cell_type": "code",
   "execution_count": 5,
   "metadata": {
    "collapsed": true
   },
   "outputs": [],
   "source": [
    "text_to_try = [\"In the first place\",\"the night before\",\"horror\",\"creature\",\"night\",\"dream\",\"thing\",\"That night\",\"mountain\",\"Ammi\",\"Cthulhu\",\"raven\",\"bird\",\"nevermore\",\"dead\",\"The bird\"]"
   ]
  },
  {
   "cell_type": "markdown",
   "metadata": {},
   "source": [
    "#### Function that separates text into tokens(for whitespace characters, only new line is implemented, missing tabs and others="
   ]
  },
  {
   "cell_type": "code",
   "execution_count": 6,
   "metadata": {},
   "outputs": [
    {
     "data": {
      "text/plain": [
       "['H',\n",
       " 'e',\n",
       " 'l',\n",
       " 'l',\n",
       " 'o',\n",
       " ',',\n",
       " ' ',\n",
       " 'm',\n",
       " 'y',\n",
       " ' ',\n",
       " 'n',\n",
       " 'a',\n",
       " 'm',\n",
       " 'e',\n",
       " ' ',\n",
       " 'i',\n",
       " 's',\n",
       " ' ',\n",
       " 'L',\n",
       " 'u',\n",
       " 'i',\n",
       " 's',\n",
       " ' ',\n",
       " 'L',\n",
       " 'e',\n",
       " 'a',\n",
       " 'l',\n",
       " '!',\n",
       " '\\n',\n",
       " '\\n',\n",
       " 'F',\n",
       " 'r',\n",
       " 'o',\n",
       " 'm',\n",
       " ' ',\n",
       " 'G',\n",
       " 'u',\n",
       " 'a',\n",
       " 't',\n",
       " 'e',\n",
       " 'm',\n",
       " 'a',\n",
       " 'l',\n",
       " 'a']"
      ]
     },
     "execution_count": 6,
     "metadata": {},
     "output_type": "execute_result"
    }
   ],
   "source": [
    "def tokenize_by_words(text):\n",
    "    text = text.replace(\"\\n\",\" new_line_token \")\n",
    "    tokens = []\n",
    "    splitted =[[word_tokenize(w),' ']for w in text.split()]\n",
    "    splitted = list(itertools.chain(*list(itertools.chain(*splitted))))\n",
    "    \n",
    "    token_list = []\n",
    "    i = 0\n",
    "    while i < len(splitted):\n",
    "        if splitted[i] == \"new_line_token\":\n",
    "            if   token_list[-1]==\" \":\n",
    "                token_list[-1] = splitted[i]\n",
    "            else:\n",
    "                token_list.append(splitted[i])\n",
    "            i+=1\n",
    "        else:\n",
    "            token_list.append(splitted[i])\n",
    "        i+=1\n",
    "    \n",
    "    return token_list\n",
    "\n",
    "def tokenize_by_characters(text):\n",
    "    return list(text)\n",
    "\n",
    "def tokenize_text(text,mode=\"characters\"):\n",
    "    if mode == \"characters\":\n",
    "        return tokenize_by_characters(text)\n",
    "    elif mode == \"words\":\n",
    "        return tokenize_by_words(text)\n",
    "    \n",
    "tokenize_text(\"Hello, my name is Luis Leal!\\n\\nFrom Guatemala\",mode)\n",
    "#tokenize_text(\"Hello, my name is Luis Leal!\\n\\nFrom Guatemala\",\"words\")\n"
   ]
  },
  {
   "cell_type": "markdown",
   "metadata": {},
   "source": [
    "First we'll load the text file and convert it into integers for our network to use. Here I'm creating a couple dictionaries to convert the characters to and from integers. Encoding the characters as integers makes it easier to use as input in the network."
   ]
  },
  {
   "cell_type": "code",
   "execution_count": 7,
   "metadata": {
    "collapsed": true
   },
   "outputs": [],
   "source": [
    "with open('colour_out_of_space.txt', 'r') as f:\n",
    "    text=f.read()"
   ]
  },
  {
   "cell_type": "code",
   "execution_count": 8,
   "metadata": {
    "collapsed": true
   },
   "outputs": [],
   "source": [
    "vocab = set(tokenize_text(text,mode))\n",
    "vocab_to_int = {c: i for i, c in enumerate(vocab)}\n",
    "int_to_vocab = dict(enumerate(vocab))"
   ]
  },
  {
   "cell_type": "markdown",
   "metadata": {},
   "source": [
    "### Get a little portion of text for validation"
   ]
  },
  {
   "cell_type": "code",
   "execution_count": 9,
   "metadata": {},
   "outputs": [],
   "source": [
    "validation_size = batch_size * num_steps #create a single baty\n",
    "validation_start_index = len(text) - validation_size\n",
    "\n",
    "val_text = text[validation_start_index:]\n",
    "text = text[:validation_start_index]"
   ]
  },
  {
   "cell_type": "markdown",
   "metadata": {},
   "source": [
    "Let's check out the first 100 characters of train and validation, make sure everything is peachy.  line of a book ever."
   ]
  },
  {
   "cell_type": "code",
   "execution_count": 10,
   "metadata": {},
   "outputs": [
    {
     "data": {
      "text/plain": [
       "'THE COLOUR OUT OF SPACE\\n\\nWest of Arkham the hills rise wild, and there are valleys with deep woods t'"
      ]
     },
     "execution_count": 10,
     "metadata": {},
     "output_type": "execute_result"
    }
   ],
   "source": [
    "text[:100]"
   ]
  },
  {
   "cell_type": "code",
   "execution_count": 11,
   "metadata": {},
   "outputs": [
    {
     "data": {
      "text/plain": [
       "'ve the clouds in the moonlight he never returned. The Other Gods were there, and they did what was e'"
      ]
     },
     "execution_count": 11,
     "metadata": {},
     "output_type": "execute_result"
    }
   ],
   "source": [
    "val_text[:100]"
   ]
  },
  {
   "cell_type": "code",
   "execution_count": 12,
   "metadata": {},
   "outputs": [],
   "source": [
    "encoded = np.array([vocab_to_int[c] for c in tokenize_text(text,mode)], dtype=np.int32)\n",
    "encoded_val = np.array([vocab_to_int[c] for c in tokenize_text(val_text,mode)],dtype=np.int32)"
   ]
  },
  {
   "cell_type": "markdown",
   "metadata": {},
   "source": [
    "And we can see the characters encoded as integersin both train and validation"
   ]
  },
  {
   "cell_type": "code",
   "execution_count": 13,
   "metadata": {},
   "outputs": [
    {
     "data": {
      "text/plain": [
       "array([86, 85,  8, 30, 37,  4, 68,  4, 32, 51, 30,  4, 32, 86, 30,  4, 27,\n",
       "       30, 82, 29, 49, 37,  8, 54, 54, 57,  9, 94, 24, 30,  0, 18, 30, 49,\n",
       "       87, 41, 79, 38, 11, 30, 24, 79,  9, 30, 79, 92, 64, 64, 94, 30, 87,\n",
       "       92, 94,  9, 30, 59, 92, 64, 10, 61, 30, 38, 83, 10, 30, 24, 79,  9,\n",
       "       87,  9, 30, 38, 87,  9, 30, 91, 38, 64, 64,  9, 43, 94, 30, 59, 92,\n",
       "       24, 79, 30, 10,  9,  9,  7, 30, 59,  0,  0, 10, 94, 30, 24], dtype=int32)"
      ]
     },
     "execution_count": 13,
     "metadata": {},
     "output_type": "execute_result"
    }
   ],
   "source": [
    "encoded[:100]"
   ]
  },
  {
   "cell_type": "code",
   "execution_count": 14,
   "metadata": {},
   "outputs": [
    {
     "data": {
      "text/plain": [
       "array([91,  9, 30, 24, 79,  9, 30, 28, 64,  0, 26, 10, 94, 30, 92, 83, 30,\n",
       "       24, 79,  9, 30, 11,  0,  0, 83, 64, 92, 14, 79, 24, 30, 79,  9, 30,\n",
       "       83,  9, 91,  9, 87, 30, 87,  9, 24, 26, 87, 83,  9, 10, 65, 30, 86,\n",
       "       79,  9, 30,  4, 24, 79,  9, 87, 30, 20,  0, 10, 94, 30, 59,  9, 87,\n",
       "        9, 30, 24, 79,  9, 87,  9, 61, 30, 38, 83, 10, 30, 24, 79,  9, 43,\n",
       "       30, 10, 92, 10, 30, 59, 79, 38, 24, 30, 59, 38, 94, 30,  9], dtype=int32)"
      ]
     },
     "execution_count": 14,
     "metadata": {},
     "output_type": "execute_result"
    }
   ],
   "source": [
    "encoded_val[0:100]"
   ]
  },
  {
   "cell_type": "markdown",
   "metadata": {},
   "source": [
    "Since the network is working with individual english tokens, it's similar to a classification problem in which we are trying to predict the next character from the previous text.  Here's how many 'classes' our network has to pick from."
   ]
  },
  {
   "cell_type": "code",
   "execution_count": 15,
   "metadata": {},
   "outputs": [
    {
     "data": {
      "text/plain": [
       "98"
      ]
     },
     "execution_count": 15,
     "metadata": {},
     "output_type": "execute_result"
    }
   ],
   "source": [
    "len(vocab)"
   ]
  },
  {
   "cell_type": "code",
   "execution_count": 16,
   "metadata": {},
   "outputs": [
    {
     "name": "stdout",
     "output_type": "stream",
     "text": [
      "ve the clouds in the moonlight he never returned. The Other Gods were there, and they did what was e\n"
     ]
    }
   ],
   "source": [
    "def encoded_to_text(encoded):\n",
    "    return \"\".join([int_to_vocab[number] for number in encoded])\n",
    "\n",
    "print(encoded_to_text(encoded_val[0:100]))"
   ]
  },
  {
   "cell_type": "markdown",
   "metadata": {},
   "source": [
    "## Making training mini-batches\n",
    "\n",
    "Here is where we'll make our mini-batches for training. Remember that we want our batches to be multiple sequences of some desired number of sequence steps. Considering a simple example, our batches would look like this:\n",
    "\n",
    "<img src=\"assets/sequence_batching@1x.png\" width=500px>\n",
    "\n",
    "\n",
    "<br>\n",
    "We have our text encoded as integers as one long array in `encoded`. Let's create a function that will give us an iterator for our batches. I like using [generator functions](https://jeffknupp.com/blog/2013/04/07/improve-your-python-yield-and-generators-explained/) to do this. Then we can pass `encoded` into this function and get our batch generator.\n",
    "\n",
    "The first thing we need to do is discard some of the text so we only have completely full batches. Each batch contains $N \\times M$ characters, where $N$ is the batch size (the number of sequences) and $M$ is the number of steps. Then, to get the number of batches we can make from some array `arr`, you divide the length of `arr` by the batch size. Once you know the number of batches and the batch size, you can get the total number of characters to keep.\n",
    "\n",
    "After that, we need to split `arr` into $N$ sequences. You can do this using `arr.reshape(size)` where `size` is a tuple containing the dimensions sizes of the reshaped array. We know we want $N$ sequences (`n_seqs` below), let's make that the size of the first dimension. For the second dimension, you can use `-1` as a placeholder in the size, it'll fill up the array with the appropriate data for you. After this, you should have an array that is $N \\times (M * K)$ where $K$ is the number of batches.\n",
    "\n",
    "Now that we have this array, we can iterate through it to get our batches. The idea is each batch is a $N \\times M$ window on the array. For each subsequent batch, the window moves over by `n_steps`. We also want to create both the input and target arrays. Remember that the targets are the inputs shifted over one character. You'll usually see the first input character used as the last target character, so something like this:\n",
    "```python\n",
    "y[:, :-1], y[:, -1] = x[:, 1:], x[:, 0]\n",
    "```\n",
    "where `x` is the input batch and `y` is the target batch.\n",
    "\n",
    "The way I like to do this window is use `range` to take steps of size `n_steps` from $0$ to `arr.shape[1]`, the total number of steps in each sequence. That way, the integers you get from `range` always point to the start of a batch, and each window is `n_steps` wide."
   ]
  },
  {
   "cell_type": "code",
   "execution_count": 17,
   "metadata": {
    "collapsed": true
   },
   "outputs": [],
   "source": [
    "def get_batches(arr, n_seqs, n_steps):\n",
    "    '''Create a generator that returns batches of size\n",
    "       n_seqs x n_steps from arr.\n",
    "       \n",
    "       Arguments\n",
    "       ---------\n",
    "       arr: Array you want to make batches from\n",
    "       n_seqs: Batch size, the number of sequences per batch\n",
    "       n_steps: Number of sequence steps per batch\n",
    "    '''\n",
    "    # Get the batch size and number of batches we can make\n",
    "    batch_size = n_seqs * n_steps \n",
    "    n_batches =  len(arr)//batch_size\n",
    "    \n",
    "    # Keep only enough characters to make full batches\n",
    "    arr =  arr[:n_batches*batch_size]\n",
    "    \n",
    "    # Reshape into n_seqs rows\n",
    "    arr = arr.reshape((n_seqs,-1))\n",
    "    \n",
    "    for n in range(0, arr.shape[1], n_steps):\n",
    "        # The features\n",
    "        x = arr[:,n:n+n_steps]\n",
    "        # The targets, shifted by one\n",
    "        y = np.zeros(x.shape)\n",
    "        y[:,:-1],y[:,-1] = x[:,1:] ,x[:,0]\n",
    "        yield x, y"
   ]
  },
  {
   "cell_type": "markdown",
   "metadata": {},
   "source": [
    "Now I'll make my data sets and we can check out what's going on here. Here I'm going to use a batch size of 10 and 50 sequence steps."
   ]
  },
  {
   "cell_type": "code",
   "execution_count": 18,
   "metadata": {
    "collapsed": true
   },
   "outputs": [],
   "source": [
    "batches = get_batches(encoded, 10, 50)\n",
    "x, y = next(batches)"
   ]
  },
  {
   "cell_type": "code",
   "execution_count": 19,
   "metadata": {},
   "outputs": [
    {
     "name": "stdout",
     "output_type": "stream",
     "text": [
      "x\n",
      " [[86 85  8 30 37  4 68  4 32 51]\n",
      " [30 94 24 38 87 24 30 80  9 18]\n",
      " [24  0 87 30 28  0 26 64 10 30]\n",
      " [30 94 24  9  9 64 61 30 38 83]\n",
      " [30 18 92 18 24 92  9 24 79 30]\n",
      " [24 92 83 28 24 64 43 30 80 43]\n",
      " [10  9 38 91  0 26 87 30 24  0]\n",
      " [54 94  9  9 92 83 14 30 11  9]\n",
      " [24 79  9 30 83  9 92 14 79 80]\n",
      " [26 11 38 83 94 30 94 28 87  9]]\n",
      "\n",
      "y\n",
      " [[ 85.   8.  30.  37.   4.  68.   4.  32.  51.  30.]\n",
      " [ 94.  24.  38.  87.  24.  30.  80.   9.  18.   0.]\n",
      " [  0.  87.  30.  28.   0.  26.  64.  10.  30.  83.]\n",
      " [ 94.  24.   9.   9.  64.  61.  30.  38.  83.  10.]\n",
      " [ 18.  92.  18.  24.  92.   9.  24.  79.  30.   7.]\n",
      " [ 92.  83.  28.  24.  64.  43.  30.  80.  43.  30.]\n",
      " [  9.  38.  91.   0.  26.  87.  30.  24.   0.  30.]\n",
      " [ 94.   9.   9.  92.  83.  14.  30.  11.   9.  30.]\n",
      " [ 79.   9.  30.  83.   9.  92.  14.  79.  80.   0.]\n",
      " [ 11.  38.  83.  94.  30.  94.  28.  87.   9.  38.]]\n"
     ]
    }
   ],
   "source": [
    "print('x\\n', x[:10, :10])\n",
    "print('\\ny\\n', y[:10, :10])"
   ]
  },
  {
   "cell_type": "markdown",
   "metadata": {},
   "source": [
    "## Building the model\n",
    "\n",
    "Below is where you'll build the network. We'll break it up into parts so it's easier to reason about each bit. Then we can connect them up into the whole network.\n",
    "\n",
    "<img src=\"assets/charRNN.png\" width=500px>\n",
    "\n",
    "\n",
    "### Inputs\n",
    "\n",
    "First off we'll create our input placeholders. As usual we need placeholders for the training data and the targets. We'll also create a placeholder for dropout layers called `keep_prob`. This will be a scalar, that is a 0-D tensor. To make a scalar, you create a placeholder without giving it a size."
   ]
  },
  {
   "cell_type": "code",
   "execution_count": 20,
   "metadata": {
    "collapsed": true
   },
   "outputs": [],
   "source": [
    "def build_inputs(batch_size, num_steps):\n",
    "    ''' Define placeholders for inputs, targets, and dropout \n",
    "    \n",
    "        Arguments\n",
    "        ---------\n",
    "        batch_size: Batch size, number of sequences per batch\n",
    "        num_steps: Number of sequence steps in a batch\n",
    "        \n",
    "    '''\n",
    "    # Declare placeholders we'll feed into the graph\n",
    "    inputs = tf.placeholder(tf.int32,[batch_size,num_steps],name=\"inputs\")\n",
    "    targets = tf.placeholder(tf.int32,[batch_size,num_steps],name=\"targets\")\n",
    "    \n",
    "    # Keep probability placeholder for drop out layers\n",
    "    keep_prob = tf.placeholder(tf.float32,name=\"keep_prob\")\n",
    "    \n",
    "    return inputs, targets, keep_prob"
   ]
  },
  {
   "cell_type": "markdown",
   "metadata": {},
   "source": [
    "### LSTM Cell\n",
    "\n",
    "Here we will create the LSTM cell we'll use in the hidden layer. We'll use this cell as a building block for the RNN. So we aren't actually defining the RNN here, just the type of cell we'll use in the hidden layer.\n",
    "\n",
    "We first create a basic LSTM cell with\n",
    "\n",
    "```python\n",
    "lstm = tf.contrib.rnn.BasicLSTMCell(num_units)\n",
    "```\n",
    "\n",
    "where `num_units` is the number of units in the hidden layers in the cell. Then we can add dropout by wrapping it with \n",
    "\n",
    "```python\n",
    "tf.contrib.rnn.DropoutWrapper(lstm, output_keep_prob=keep_prob)\n",
    "```\n",
    "You pass in a cell and it will automatically add dropout to the inputs or outputs. Finally, we can stack up the LSTM cells into layers with [`tf.contrib.rnn.MultiRNNCell`](https://www.tensorflow.org/versions/r1.0/api_docs/python/tf/contrib/rnn/MultiRNNCell). With this, you pass in a list of cells and it will send the output of one cell into the next cell. For example,\n",
    "\n",
    "```python\n",
    "tf.contrib.rnn.MultiRNNCell([cell]*num_layers)\n",
    "```\n",
    "\n",
    "This might look a little weird if you know Python well because this will create a list of the same `cell` object. However, TensorFlow will create different weight matrices for all `cell` objects. Even though this is actually multiple LSTM cells stacked on each other, you can treat the multiple layers as one cell.\n",
    "\n",
    "We also need to create an initial cell state of all zeros. This can be done like so\n",
    "\n",
    "```python\n",
    "initial_state = cell.zero_state(batch_size, tf.float32)\n",
    "```\n"
   ]
  },
  {
   "cell_type": "code",
   "execution_count": 21,
   "metadata": {
    "collapsed": true
   },
   "outputs": [],
   "source": [
    "def build_lstm(lstm_size, num_layers, batch_size, keep_prob):\n",
    "    ''' Build LSTM cell.\n",
    "    \n",
    "        Arguments\n",
    "        ---------\n",
    "        keep_prob: Scalar tensor (tf.placeholder) for the dropout keep probability\n",
    "        lstm_size: Size of the hidden layers in the LSTM cells\n",
    "        num_layers: Number of LSTM layers\n",
    "        batch_size: Batch size\n",
    "\n",
    "    '''\n",
    "    ### Build the LSTM Cell\n",
    "    # Use a basic LSTM cell\n",
    "    # Add dropout to the cell outputs\n",
    "    # Stack up multiple LSTM layers, for deep learning\n",
    "    cell = tf.contrib.rnn.MultiRNNCell([tf.contrib.rnn.DropoutWrapper( tf.contrib.rnn.BasicLSTMCell(lstm_size),output_keep_prob = keep_prob) for _ in range(num_layers)])\n",
    "    initial_state = cell.zero_state(batch_size,tf.float32)\n",
    "    \n",
    "    return cell, initial_state"
   ]
  },
  {
   "cell_type": "markdown",
   "metadata": {},
   "source": [
    "### RNN Output\n",
    "\n",
    "Here we'll create the output layer. We need to connect the output of the RNN cells to a full connected layer with a softmax output. The softmax output gives us a probability distribution we can use to predict the next character, so we want this layer to have size $C$, the number of classes/characters we have in our text.\n",
    "\n",
    "If our input has batch size $N$, number of steps $M$, and the hidden layer has $L$ hidden units, then the output is a 3D tensor with size $N \\times M \\times L$. The output of each LSTM cell has size $L$, we have $M$ of them, one for each sequence step, and we have $N$ sequences. So the total size is $N \\times M \\times L$. \n",
    "\n",
    "We are using the same fully connected layer, the same weights, for each of the outputs. Then, to make things easier, we should reshape the outputs into a 2D tensor with shape $(M * N) \\times L$. That is, one row for each sequence and step, where the values of each row are the output from the LSTM cells. We get the LSTM output as a list, `lstm_output`. First we need to concatenate this whole list into one array with [`tf.concat`](https://www.tensorflow.org/api_docs/python/tf/concat). Then, reshape it (with `tf.reshape`) to size $(M * N) \\times L$.\n",
    "\n",
    "One we have the outputs reshaped, we can do the matrix multiplication with the weights. We need to wrap the weight and bias variables in a variable scope with `tf.variable_scope(scope_name)` because there are weights being created in the LSTM cells. TensorFlow will throw an error if the weights created here have the same names as the weights created in the LSTM cells, which they will be default. To avoid this, we wrap the variables in a variable scope so we can give them unique names.\n"
   ]
  },
  {
   "cell_type": "code",
   "execution_count": 22,
   "metadata": {
    "collapsed": true
   },
   "outputs": [],
   "source": [
    "def build_output(lstm_output, in_size, out_size):\n",
    "    ''' Build a softmax layer, return the softmax output and logits.\n",
    "    \n",
    "        Arguments\n",
    "        ---------\n",
    "        \n",
    "        lstm_output: List of output tensors from the LSTM layer\n",
    "        in_size: Size of the input tensor, for example, size of the LSTM cells\n",
    "        out_size: Size of this softmax layer\n",
    "    \n",
    "    '''\n",
    "\n",
    "    # Reshape output so it's a bunch of rows, one row for each step for each sequence.\n",
    "    # Concatenate lstm_output over axis 1 (the columns)\n",
    "    seq_output = tf.concat(lstm_output,axis=1)\n",
    "    # Reshape seq_output to a 2D tensor with lstm_size columns\n",
    "    x = tf.reshape(seq_output,[-1,in_size])\n",
    "    \n",
    "    # Connect the RNN outputs to a softmax layer\n",
    "    with tf.variable_scope('softmax'):\n",
    "        # Create the weight and bias variables here\n",
    "        softmax_w = tf.Variable(tf.truncated_normal((in_size, out_size),stddev=0.1))\n",
    "        softmax_b = tf.Variable(tf.zeros([out_size]))\n",
    "    \n",
    "    # Since output is a bunch of rows of RNN cell outputs, logits will be a bunch\n",
    "    # of rows of logit outputs, one for each step and sequence\n",
    "    logits =  tf.add(tf.matmul(x,softmax_w),softmax_b) \n",
    "    \n",
    "    # Use softmax to get the probabilities for predicted characters\n",
    "    out = tf.nn.softmax(logits,name =\"out\")\n",
    "    \n",
    "    return out, logits"
   ]
  },
  {
   "cell_type": "markdown",
   "metadata": {},
   "source": [
    "### Training loss\n",
    "\n",
    "Next up is the training loss. We get the logits and targets and calculate the softmax cross-entropy loss. First we need to one-hot encode the targets, we're getting them as encoded characters. Then, reshape the one-hot targets so it's a 2D tensor with size $(M*N) \\times C$ where $C$ is the number of classes/characters we have. Remember that we reshaped the LSTM outputs and ran them through a fully connected layer with $C$ units. So our logits will also have size $(M*N) \\times C$.\n",
    "\n",
    "Then we run the logits and targets through `tf.nn.softmax_cross_entropy_with_logits` and find the mean to get the loss."
   ]
  },
  {
   "cell_type": "code",
   "execution_count": 23,
   "metadata": {
    "collapsed": true
   },
   "outputs": [],
   "source": [
    "def build_loss(logits, targets, lstm_size, num_classes):\n",
    "    ''' Calculate the loss from the logits and the targets.\n",
    "    \n",
    "        Arguments\n",
    "        ---------\n",
    "        logits: Logits from final fully connected layer\n",
    "        targets: Targets for supervised learning\n",
    "        lstm_size: Number of LSTM hidden units\n",
    "        num_classes: Number of classes in targets\n",
    "        \n",
    "    '''\n",
    "    # One-hot encode targets and reshape to match logits, one row per sequence per step\n",
    "    y_one_hot = tf.one_hot(targets,num_classes)\n",
    "    y_reshaped =  tf.reshape(y_one_hot,logits.get_shape())\n",
    "    \n",
    "    # Softmax cross entropy loss\n",
    "    loss = tf.reduce_mean(tf.nn.softmax_cross_entropy_with_logits(logits=logits,labels=y_reshaped))\n",
    "    \n",
    "    return loss"
   ]
  },
  {
   "cell_type": "markdown",
   "metadata": {},
   "source": [
    "### Optimizer\n",
    "\n",
    "Here we build the optimizer. Normal RNNs have have issues gradients exploding and disappearing. LSTMs fix the disappearance problem, but the gradients can still grow without bound. To fix this, we can clip the gradients above some threshold. That is, if a gradient is larger than that threshold, we set it to the threshold. This will ensure the gradients never grow overly large. Then we use an AdamOptimizer for the learning step."
   ]
  },
  {
   "cell_type": "code",
   "execution_count": 24,
   "metadata": {
    "collapsed": true
   },
   "outputs": [],
   "source": [
    "def build_optimizer(loss, learning_rate, grad_clip,global_step):\n",
    "    ''' Build optmizer for training, using gradient clipping.\n",
    "    \n",
    "        Arguments:\n",
    "        loss: Network loss\n",
    "        learning_rate: Learning rate for optimizer\n",
    "        global_step: to control the total number of train steps\n",
    "    \n",
    "    '''\n",
    "    \n",
    "    # Optimizer for training, using gradient clipping to control exploding gradients\n",
    "    tvars = tf.trainable_variables()\n",
    "    grads, _ = tf.clip_by_global_norm(tf.gradients(loss, tvars), grad_clip)\n",
    "    train_op = tf.train.AdamOptimizer(learning_rate)\n",
    "    optimizer = train_op.apply_gradients(zip(grads, tvars),global_step)\n",
    "    \n",
    "    return optimizer"
   ]
  },
  {
   "cell_type": "markdown",
   "metadata": {},
   "source": [
    "### Build the network\n",
    "\n",
    "Now we can put all the pieces together and build a class for the network. To actually run data through the LSTM cells, we will use [`tf.nn.dynamic_rnn`](https://www.tensorflow.org/versions/r1.0/api_docs/python/tf/nn/dynamic_rnn). This function will pass the hidden and cell states across LSTM cells appropriately for us. It returns the outputs for each LSTM cell at each step for each sequence in the mini-batch. It also gives us the final LSTM state. We want to save this state as `final_state` so we can pass it to the first LSTM cell in the the next mini-batch run. For `tf.nn.dynamic_rnn`, we pass in the cell and initial state we get from `build_lstm`, as well as our input sequences. Also, we need to one-hot encode the inputs before going into the RNN. \n"
   ]
  },
  {
   "cell_type": "code",
   "execution_count": 25,
   "metadata": {
    "collapsed": true
   },
   "outputs": [],
   "source": [
    "class CharRNN:\n",
    "    \n",
    "    def __init__(self, num_classes, batch_size=64, num_steps=50, \n",
    "                       lstm_size=128, num_layers=2, learning_rate=0.001, \n",
    "                       grad_clip=5, sampling=False):\n",
    "    \n",
    "        # When we're using this network for sampling later, we'll be passing in\n",
    "        # one character at a time, so providing an option for that\n",
    "        if sampling == True:\n",
    "            batch_size, num_steps = 1, 1\n",
    "        else:\n",
    "            batch_size, num_steps = batch_size, num_steps\n",
    "\n",
    "        tf.reset_default_graph()\n",
    "        \n",
    "        self.global_step_tensor = tf.Variable(0,trainable=False,name = \"global_step\")\n",
    "        # Build the input placeholder tensors\n",
    "        self.inputs, self.targets, self.keep_prob = build_inputs(batch_size,num_steps)\n",
    "        # Build the LSTM cell\n",
    "        cell, self.initial_state = build_lstm(lstm_size,num_layers,batch_size,self.keep_prob)\n",
    "        ### Run the data through the RNN layers\n",
    "        # First, one-hot encode the input tokens\n",
    "        x_one_hot = tf.one_hot(self.inputs,num_classes)\n",
    "        \n",
    "        # Run each sequence step through the RNN with tf.nn.dynamic_rnn \n",
    "        outputs, state = tf.nn.dynamic_rnn(cell,x_one_hot,initial_state=self.initial_state)\n",
    "        self.final_state = state\n",
    "        \n",
    "        # Get softmax predictions and logits\n",
    "        self.prediction, self.logits = build_output(outputs,lstm_size,num_classes)\n",
    "        \n",
    "        # Loss and optimizer (with gradient clipping)\n",
    "        self.loss =  build_loss(self.logits,self.targets,lstm_size,num_classes)\n",
    "        self.optimizer = build_optimizer(self.loss,learning_rate,grad_clip,self.global_step_tensor)"
   ]
  },
  {
   "cell_type": "markdown",
   "metadata": {},
   "source": [
    "## Hyperparameters\n",
    "\n",
    "Here are the hyperparameters for the network.\n",
    "\n",
    "* `batch_size` - Number of sequences running through the network in one pass.\n",
    "* `num_steps` - Number of characters in the sequence the network is trained on. Larger is better typically, the network will learn more long range dependencies. But it takes longer to train. 100 is typically a good number here.\n",
    "* `lstm_size` - The number of units in the hidden layers.\n",
    "* `num_layers` - Number of hidden LSTM layers to use\n",
    "* `learning_rate` - Learning rate for training\n",
    "* `keep_prob` - The dropout keep probability when training. If you're network is overfitting, try decreasing this.\n",
    "\n",
    "Here's some good advice from Andrej Karpathy on training the network:. \n",
    "\n",
    "> ## Tips and Tricks\n",
    "\n",
    ">### Monitoring Validation Loss vs. Training Loss\n",
    ">If you're somewhat new to Machine Learning or Neural Networks it can take a bit of expertise to get good models. The most important quantity to keep track of is the difference between your training loss (printed during training) and the validation loss (printed once in a while when the RNN is run on the validation data (by default every 1000 iterations)). In particular:\n",
    "\n",
    "> - If your training loss is much lower than validation loss then this means the network might be **overfitting**. Solutions to this are to decrease your network size, or to increase dropout. For example you could try dropout of 0.5 and so on.\n",
    "> - If your training/validation loss are about equal then your model is **underfitting**. Increase the size of your model (either number of layers or the raw number of neurons per layer)\n",
    "\n",
    "> ### Approximate number of parameters\n",
    "\n",
    "> The two most important parameters that control the model are `lstm_size` and `num_layers`. I would advise that you always use `num_layers` of either 2/3. The `lstm_size` can be adjusted based on how much data you have. The two important quantities to keep track of here are:\n",
    "\n",
    "> - The number of parameters in your model. This is printed when you start training.\n",
    "> - The size of your dataset. 1MB file is approximately 1 million characters.\n",
    "\n",
    ">These two should be about the same order of magnitude. It's a little tricky to tell. Here are some examples:\n",
    "\n",
    "> - I have a 100MB dataset and I'm using the default parameter settings (which currently print 150K parameters). My data size is significantly larger (100 mil >> 0.15 mil), so I expect to heavily underfit. I am thinking I can comfortably afford to make `lstm_size` larger.\n",
    "> - I have a 10MB dataset and running a 10 million parameter model. I'm slightly nervous and I'm carefully monitoring my validation loss. If it's larger than my training loss then I may want to try to increase dropout a bit and see if that helps the validation loss.\n",
    "\n",
    "> ### Best models strategy\n",
    "\n",
    ">The winning strategy to obtaining very good models (if you have the compute time) is to always err on making the network larger (as large as you're willing to wait for it to compute) and then try different dropout values (between 0,1). Whatever model has the best validation performance (the loss, written in the checkpoint filename, low is good) is the one you should use in the end.\n",
    "\n",
    ">It is very common in deep learning to run many different models with many different hyperparameter settings, and in the end take whatever checkpoint gave the best validation performance.\n",
    "\n",
    ">By the way, the size of your training and validation splits are also parameters. Make sure you have a decent amount of data in your validation set or otherwise the validation performance will be noisy and not very informative."
   ]
  },
  {
   "cell_type": "code",
   "execution_count": 26,
   "metadata": {
    "collapsed": true
   },
   "outputs": [],
   "source": [
    "def get_number_of_parameters():\n",
    "    total_parameters = 0\n",
    "    for variable in tf.trainable_variables():\n",
    "        shape = variable.get_shape()\n",
    "        #print(shape)\n",
    "        #print(len(shape))\n",
    "        variable_parameters = 1\n",
    "        \n",
    "        for dim in shape:\n",
    "            #print(dim)\n",
    "            variable_parameters*=dim.value\n",
    "        #print(variable_parameters)\n",
    "        total_parameters+= variable_parameters\n",
    "    return total_parameters"
   ]
  },
  {
   "cell_type": "code",
   "execution_count": 27,
   "metadata": {
    "collapsed": true
   },
   "outputs": [],
   "source": [
    "def pick_top_n(preds, vocab_size, top_n=5):\n",
    "    p = np.squeeze(preds)\n",
    "    p[np.argsort(p)[:-top_n]] = 0\n",
    "    p = p / np.sum(p)\n",
    "    c = np.random.choice(vocab_size, 1, p=p)[0]\n",
    "    return c"
   ]
  },
  {
   "cell_type": "markdown",
   "metadata": {},
   "source": [
    "## Time for training\n",
    "\n",
    "This is typical training code, passing inputs and targets into the network, then running the optimizer. Here we also get back the final LSTM state for the mini-batch. Then, we pass that state back into the network so the next batch can continue the state from the previous batch. And every so often (set by `save_every_n`) I save a checkpoint.\n",
    "\n",
    "Here I'm saving checkpoints with the format\n",
    "\n",
    "`i{iteration number}_l{# hidden layer units}.ckpt`\n"
   ]
  },
  {
   "cell_type": "code",
   "execution_count": null,
   "metadata": {
    "collapsed": true
   },
   "outputs": [],
   "source": [
    "losses = {\"train\":[],\"validation\":[]}\n",
    "x_steps = list()"
   ]
  },
  {
   "cell_type": "code",
   "execution_count": null,
   "metadata": {
    "collapsed": true
   },
   "outputs": [],
   "source": []
  },
  {
   "cell_type": "code",
   "execution_count": null,
   "metadata": {
    "scrolled": true
   },
   "outputs": [
    {
     "name": "stdout",
     "output_type": "stream",
     "text": [
      "Training starting at time: 2017-09-17 14:45:56\n",
      "Number of parameters: 3400802 Dataset size: 1840922\n",
      "Epoch: 1/700...  Training Step: 1...  Training loss: 4.5827...  Val loss: 4.5724...  0.5325 sec/batch\n",
      "WARNING:tensorflow:Error encountered when serializing LAYER_NAME_UIDS.\n",
      "Type is unsupported, or the types of the items don't match field type in CollectionDef.\n",
      "'dict' object has no attribute 'name'\n",
      "Epoch: 2/700...  Training Step: 101...  Training loss: 3.3446...  Val loss: 3.1079...  0.3495 sec/batch\n",
      "Epoch: 3/700...  Training Step: 201...  Training loss: 3.2445...  Val loss: 3.0670...  0.3703 sec/batch\n",
      "Epoch: 4/700...  Training Step: 301...  Training loss: 3.1786...  Val loss: 3.0227...  0.3702 sec/batch\n",
      "Epoch: 5/700...  Training Step: 401...  Training loss: 3.1244...  Val loss: 2.9916...  0.3505 sec/batch\n",
      "Epoch: 6/700...  Training Step: 501...  Training loss: 3.0458...  Val loss: 2.9013...  0.3636 sec/batch\n",
      "WARNING:tensorflow:Error encountered when serializing LAYER_NAME_UIDS.\n",
      "Type is unsupported, or the types of the items don't match field type in CollectionDef.\n",
      "'dict' object has no attribute 'name'\n",
      "Epoch: 7/700...  Training Step: 601...  Training loss: 2.9154...  Val loss: 2.7593...  0.3547 sec/batch\n",
      "Epoch: 8/700...  Training Step: 701...  Training loss: 2.7771...  Val loss: 2.6222...  0.3691 sec/batch\n",
      "Epoch: 9/700...  Training Step: 801...  Training loss: 2.6975...  Val loss: 2.5386...  0.3505 sec/batch\n",
      "Epoch: 10/700...  Training Step: 901...  Training loss: 2.6423...  Val loss: 2.4853...  0.3654 sec/batch\n",
      "Epoch 10/700 time:34.76862931251526...  finished at 2017-09-17 14:51:46\n",
      "Epoch: 11/700...  Training Step: 1001...  Training loss: 2.5836...  Val loss: 2.4445...  0.3854 sec/batch\n",
      "WARNING:tensorflow:Error encountered when serializing LAYER_NAME_UIDS.\n",
      "Type is unsupported, or the types of the items don't match field type in CollectionDef.\n",
      "'dict' object has no attribute 'name'\n",
      "Epoch: 12/700...  Training Step: 1101...  Training loss: 2.5290...  Val loss: 2.4135...  0.3512 sec/batch\n",
      "Epoch: 13/700...  Training Step: 1201...  Training loss: 2.5338...  Val loss: 2.3835...  0.3513 sec/batch\n",
      "Epoch: 14/700...  Training Step: 1301...  Training loss: 2.4758...  Val loss: 2.3536...  0.3517 sec/batch\n",
      "Epoch: 15/700...  Training Step: 1401...  Training loss: 2.4573...  Val loss: 2.3293...  0.3731 sec/batch\n",
      "Epoch: 16/700...  Training Step: 1501...  Training loss: 2.4613...  Val loss: 2.3071...  0.3515 sec/batch\n",
      "WARNING:tensorflow:Error encountered when serializing LAYER_NAME_UIDS.\n",
      "Type is unsupported, or the types of the items don't match field type in CollectionDef.\n",
      "'dict' object has no attribute 'name'\n",
      "Epoch: 17/700...  Training Step: 1601...  Training loss: 2.3992...  Val loss: 2.2852...  0.3513 sec/batch\n",
      "Epoch: 18/700...  Training Step: 1701...  Training loss: 2.4209...  Val loss: 2.2649...  0.3513 sec/batch\n",
      "Epoch: 19/700...  Training Step: 1801...  Training loss: 2.3666...  Val loss: 2.2475...  0.3514 sec/batch\n",
      "Epoch: 20/700...  Training Step: 1901...  Training loss: 2.3507...  Val loss: 2.2324...  0.3510 sec/batch\n",
      "Epoch 20/700 time:34.81660175323486...  finished at 2017-09-17 14:57:36\n",
      "Epoch: 21/700...  Training Step: 2001...  Training loss: 2.3372...  Val loss: 2.2156...  0.3515 sec/batch\n",
      "WARNING:tensorflow:Error encountered when serializing LAYER_NAME_UIDS.\n",
      "Type is unsupported, or the types of the items don't match field type in CollectionDef.\n",
      "'dict' object has no attribute 'name'\n",
      "Epoch: 22/700...  Training Step: 2101...  Training loss: 2.2862...  Val loss: 2.2006...  0.3510 sec/batch\n",
      "Epoch: 23/700...  Training Step: 2201...  Training loss: 2.3151...  Val loss: 2.1856...  0.3516 sec/batch\n",
      "Epoch: 24/700...  Training Step: 2301...  Training loss: 2.3266...  Val loss: 2.1742...  0.3764 sec/batch\n",
      "Epoch: 25/700...  Training Step: 2401...  Training loss: 2.2521...  Val loss: 2.1609...  0.3510 sec/batch\n",
      "Epoch: 26/700...  Training Step: 2501...  Training loss: 2.2564...  Val loss: 2.1494...  0.3509 sec/batch\n",
      "WARNING:tensorflow:Error encountered when serializing LAYER_NAME_UIDS.\n",
      "Type is unsupported, or the types of the items don't match field type in CollectionDef.\n",
      "'dict' object has no attribute 'name'\n",
      "Epoch: 27/700...  Training Step: 2601...  Training loss: 2.2665...  Val loss: 2.1387...  0.3517 sec/batch\n",
      "Epoch: 28/700...  Training Step: 2701...  Training loss: 2.2688...  Val loss: 2.1271...  0.3508 sec/batch\n",
      "Epoch: 29/700...  Training Step: 2801...  Training loss: 2.2253...  Val loss: 2.1172...  0.3512 sec/batch\n",
      "Epoch: 30/700...  Training Step: 2901...  Training loss: 2.2325...  Val loss: 2.1063...  0.3515 sec/batch\n",
      "Epoch 30/700 time:34.684494972229004...  finished at 2017-09-17 15:03:24\n",
      "Epoch: 31/700...  Training Step: 3001...  Training loss: 2.2050...  Val loss: 2.0949...  0.3513 sec/batch\n",
      "WARNING:tensorflow:Error encountered when serializing LAYER_NAME_UIDS.\n",
      "Type is unsupported, or the types of the items don't match field type in CollectionDef.\n",
      "'dict' object has no attribute 'name'\n",
      "Epoch: 32/700...  Training Step: 3101...  Training loss: 2.1931...  Val loss: 2.0842...  0.3525 sec/batch\n",
      "Epoch: 33/700...  Training Step: 3201...  Training loss: 2.1790...  Val loss: 2.0769...  0.3646 sec/batch\n",
      "Epoch: 34/700...  Training Step: 3301...  Training loss: 2.1900...  Val loss: 2.0680...  0.3531 sec/batch\n",
      "Epoch: 35/700...  Training Step: 3401...  Training loss: 2.1370...  Val loss: 2.0570...  0.3703 sec/batch\n",
      "Epoch: 36/700...  Training Step: 3501...  Training loss: 2.1574...  Val loss: 2.0477...  0.3518 sec/batch\n",
      "WARNING:tensorflow:Error encountered when serializing LAYER_NAME_UIDS.\n",
      "Type is unsupported, or the types of the items don't match field type in CollectionDef.\n",
      "'dict' object has no attribute 'name'\n",
      "Epoch: 37/700...  Training Step: 3601...  Training loss: 2.1396...  Val loss: 2.0410...  0.3575 sec/batch\n",
      "Epoch: 38/700...  Training Step: 3701...  Training loss: 2.1835...  Val loss: 2.0358...  0.3513 sec/batch\n",
      "Epoch: 39/700...  Training Step: 3801...  Training loss: 2.1434...  Val loss: 2.0224...  0.3509 sec/batch\n",
      "Epoch: 40/700...  Training Step: 3901...  Training loss: 2.1291...  Val loss: 2.0129...  0.3511 sec/batch\n",
      "Epoch 40/700 time:34.74878454208374...  finished at 2017-09-17 15:09:13\n",
      "Epoch: 41/700...  Training Step: 4001...  Training loss: 2.0994...  Val loss: 2.0062...  0.3512 sec/batch\n",
      "WARNING:tensorflow:Error encountered when serializing LAYER_NAME_UIDS.\n",
      "Type is unsupported, or the types of the items don't match field type in CollectionDef.\n",
      "'dict' object has no attribute 'name'\n",
      "Epoch: 42/700...  Training Step: 4101...  Training loss: 2.0947...  Val loss: 2.0009...  0.3511 sec/batch\n",
      "Epoch: 43/700...  Training Step: 4201...  Training loss: 2.0803...  Val loss: 1.9917...  0.3511 sec/batch\n",
      "Epoch: 44/700...  Training Step: 4301...  Training loss: 2.0897...  Val loss: 1.9848...  0.3516 sec/batch\n",
      "Epoch: 45/700...  Training Step: 4401...  Training loss: 2.0751...  Val loss: 1.9776...  0.3515 sec/batch\n",
      "Epoch: 46/700...  Training Step: 4501...  Training loss: 2.0508...  Val loss: 1.9693...  0.3526 sec/batch\n",
      "WARNING:tensorflow:Error encountered when serializing LAYER_NAME_UIDS.\n",
      "Type is unsupported, or the types of the items don't match field type in CollectionDef.\n",
      "'dict' object has no attribute 'name'\n",
      "Epoch: 47/700...  Training Step: 4601...  Training loss: 2.0604...  Val loss: 1.9608...  0.3515 sec/batch\n",
      "Epoch: 48/700...  Training Step: 4701...  Training loss: 2.0568...  Val loss: 1.9562...  0.3512 sec/batch\n",
      "Epoch: 49/700...  Training Step: 4801...  Training loss: 2.0466...  Val loss: 1.9502...  0.3518 sec/batch\n",
      "Epoch 50/700 time:34.56432247161865...  finished at 2017-09-17 15:15:01\n",
      "Epoch: 51/700...  Training Step: 4901...  Training loss: 2.0683...  Val loss: 1.9434...  0.3515 sec/batch\n",
      "Epoch: 52/700...  Training Step: 5001...  Training loss: 2.0400...  Val loss: 1.9372...  0.3512 sec/batch\n",
      "WARNING:tensorflow:Error encountered when serializing LAYER_NAME_UIDS.\n",
      "Type is unsupported, or the types of the items don't match field type in CollectionDef.\n",
      "'dict' object has no attribute 'name'\n",
      "Epoch: 53/700...  Training Step: 5101...  Training loss: 2.0350...  Val loss: 1.9332...  0.3511 sec/batch\n",
      "Epoch: 54/700...  Training Step: 5201...  Training loss: 2.0184...  Val loss: 1.9290...  0.3516 sec/batch\n"
     ]
    },
    {
     "name": "stdout",
     "output_type": "stream",
     "text": [
      "Epoch: 55/700...  Training Step: 5301...  Training loss: 2.0306...  Val loss: 1.9172...  0.3510 sec/batch\n",
      "Epoch: 56/700...  Training Step: 5401...  Training loss: 2.0080...  Val loss: 1.9147...  0.3660 sec/batch\n",
      "Epoch: 57/700...  Training Step: 5501...  Training loss: 2.0150...  Val loss: 1.9104...  0.3514 sec/batch\n",
      "WARNING:tensorflow:Error encountered when serializing LAYER_NAME_UIDS.\n",
      "Type is unsupported, or the types of the items don't match field type in CollectionDef.\n",
      "'dict' object has no attribute 'name'\n",
      "Epoch: 58/700...  Training Step: 5601...  Training loss: 1.9866...  Val loss: 1.9028...  0.3511 sec/batch\n",
      "Epoch: 59/700...  Training Step: 5701...  Training loss: 1.9848...  Val loss: 1.8977...  0.3510 sec/batch\n",
      "Epoch: 60/700...  Training Step: 5801...  Training loss: 1.9922...  Val loss: 1.8907...  0.3509 sec/batch\n",
      "Epoch 60/700 time:34.677754163742065...  finished at 2017-09-17 15:20:48\n",
      "Epoch: 61/700...  Training Step: 5901...  Training loss: 1.9650...  Val loss: 1.8841...  0.3517 sec/batch\n",
      "Epoch: 62/700...  Training Step: 6001...  Training loss: 1.9700...  Val loss: 1.8814...  0.3513 sec/batch\n",
      "WARNING:tensorflow:Error encountered when serializing LAYER_NAME_UIDS.\n",
      "Type is unsupported, or the types of the items don't match field type in CollectionDef.\n",
      "'dict' object has no attribute 'name'\n",
      "Epoch: 63/700...  Training Step: 6101...  Training loss: 1.9793...  Val loss: 1.8749...  0.3515 sec/batch\n",
      "Epoch: 64/700...  Training Step: 6201...  Training loss: 1.9481...  Val loss: 1.8695...  0.3518 sec/batch\n",
      "Epoch: 65/700...  Training Step: 6301...  Training loss: 1.9585...  Val loss: 1.8642...  0.3587 sec/batch\n",
      "Epoch: 66/700...  Training Step: 6401...  Training loss: 1.9551...  Val loss: 1.8596...  0.3513 sec/batch\n",
      "Epoch: 67/700...  Training Step: 6501...  Training loss: 1.9299...  Val loss: 1.8545...  0.3512 sec/batch\n",
      "WARNING:tensorflow:Error encountered when serializing LAYER_NAME_UIDS.\n",
      "Type is unsupported, or the types of the items don't match field type in CollectionDef.\n",
      "'dict' object has no attribute 'name'\n",
      "Epoch: 68/700...  Training Step: 6601...  Training loss: 1.9682...  Val loss: 1.8490...  0.3509 sec/batch\n",
      "Epoch: 69/700...  Training Step: 6701...  Training loss: 1.9216...  Val loss: 1.8483...  0.3511 sec/batch\n",
      "Epoch: 70/700...  Training Step: 6801...  Training loss: 1.9404...  Val loss: 1.8460...  0.3632 sec/batch\n",
      "Epoch 70/700 time:34.67337203025818...  finished at 2017-09-17 15:26:35\n",
      "Epoch: 71/700...  Training Step: 6901...  Training loss: 1.9266...  Val loss: 1.8382...  0.3514 sec/batch\n",
      "Epoch: 72/700...  Training Step: 7001...  Training loss: 1.8847...  Val loss: 1.8316...  0.3510 sec/batch\n",
      "WARNING:tensorflow:Error encountered when serializing LAYER_NAME_UIDS.\n",
      "Type is unsupported, or the types of the items don't match field type in CollectionDef.\n",
      "'dict' object has no attribute 'name'\n",
      "Epoch: 73/700...  Training Step: 7101...  Training loss: 1.9338...  Val loss: 1.8279...  0.3510 sec/batch\n",
      "Epoch: 74/700...  Training Step: 7201...  Training loss: 1.9556...  Val loss: 1.8265...  0.3510 sec/batch\n",
      "Epoch: 75/700...  Training Step: 7301...  Training loss: 1.8891...  Val loss: 1.8199...  0.3515 sec/batch\n",
      "Epoch: 76/700...  Training Step: 7401...  Training loss: 1.9160...  Val loss: 1.8175...  0.3512 sec/batch\n",
      "Epoch: 77/700...  Training Step: 7501...  Training loss: 1.9090...  Val loss: 1.8135...  0.3511 sec/batch\n",
      "WARNING:tensorflow:Error encountered when serializing LAYER_NAME_UIDS.\n",
      "Type is unsupported, or the types of the items don't match field type in CollectionDef.\n",
      "'dict' object has no attribute 'name'\n",
      "Epoch: 78/700...  Training Step: 7601...  Training loss: 1.9194...  Val loss: 1.8169...  0.3511 sec/batch\n",
      "Epoch: 79/700...  Training Step: 7701...  Training loss: 1.8965...  Val loss: 1.8065...  0.3665 sec/batch\n",
      "Epoch: 80/700...  Training Step: 7801...  Training loss: 1.9046...  Val loss: 1.8033...  0.3511 sec/batch\n",
      "Epoch 80/700 time:34.66946482658386...  finished at 2017-09-17 15:32:22\n",
      "Epoch: 81/700...  Training Step: 7901...  Training loss: 1.8888...  Val loss: 1.7997...  0.3515 sec/batch\n",
      "Epoch: 82/700...  Training Step: 8001...  Training loss: 1.8754...  Val loss: 1.8003...  0.3511 sec/batch\n",
      "WARNING:tensorflow:Error encountered when serializing LAYER_NAME_UIDS.\n",
      "Type is unsupported, or the types of the items don't match field type in CollectionDef.\n",
      "'dict' object has no attribute 'name'\n",
      "Epoch: 83/700...  Training Step: 8101...  Training loss: 1.8839...  Val loss: 1.7944...  0.3512 sec/batch\n",
      "Epoch: 84/700...  Training Step: 8201...  Training loss: 1.8989...  Val loss: 1.7927...  0.3510 sec/batch\n",
      "Epoch: 85/700...  Training Step: 8301...  Training loss: 1.8460...  Val loss: 1.7887...  0.3510 sec/batch\n",
      "Epoch: 86/700...  Training Step: 8401...  Training loss: 1.8766...  Val loss: 1.7857...  0.3513 sec/batch\n",
      "Epoch: 87/700...  Training Step: 8501...  Training loss: 1.8583...  Val loss: 1.7794...  0.3516 sec/batch\n",
      "WARNING:tensorflow:Error encountered when serializing LAYER_NAME_UIDS.\n",
      "Type is unsupported, or the types of the items don't match field type in CollectionDef.\n",
      "'dict' object has no attribute 'name'\n",
      "Epoch: 88/700...  Training Step: 8601...  Training loss: 1.9106...  Val loss: 1.7787...  0.3511 sec/batch\n",
      "Epoch: 89/700...  Training Step: 8701...  Training loss: 1.8611...  Val loss: 1.7728...  0.3512 sec/batch\n",
      "Epoch: 90/700...  Training Step: 8801...  Training loss: 1.8671...  Val loss: 1.7704...  0.3509 sec/batch\n",
      "Epoch 90/700 time:34.70392441749573...  finished at 2017-09-17 15:38:09\n",
      "Epoch: 91/700...  Training Step: 8901...  Training loss: 1.8317...  Val loss: 1.7729...  0.3525 sec/batch\n",
      "Epoch: 92/700...  Training Step: 9001...  Training loss: 1.8548...  Val loss: 1.7636...  0.3511 sec/batch\n",
      "WARNING:tensorflow:Error encountered when serializing LAYER_NAME_UIDS.\n",
      "Type is unsupported, or the types of the items don't match field type in CollectionDef.\n",
      "'dict' object has no attribute 'name'\n",
      "Epoch: 93/700...  Training Step: 9101...  Training loss: 1.8269...  Val loss: 1.7640...  0.3656 sec/batch\n",
      "Epoch: 94/700...  Training Step: 9201...  Training loss: 1.8502...  Val loss: 1.7630...  0.3512 sec/batch\n",
      "Epoch: 95/700...  Training Step: 9301...  Training loss: 1.8280...  Val loss: 1.7596...  0.3525 sec/batch\n",
      "Epoch: 96/700...  Training Step: 9401...  Training loss: 1.8090...  Val loss: 1.7535...  0.3512 sec/batch\n",
      "Epoch: 97/700...  Training Step: 9501...  Training loss: 1.8328...  Val loss: 1.7531...  0.3508 sec/batch\n",
      "WARNING:tensorflow:Error encountered when serializing LAYER_NAME_UIDS.\n",
      "Type is unsupported, or the types of the items don't match field type in CollectionDef.\n",
      "'dict' object has no attribute 'name'\n",
      "Epoch: 98/700...  Training Step: 9601...  Training loss: 1.8250...  Val loss: 1.7499...  0.3511 sec/batch\n",
      "Epoch: 99/700...  Training Step: 9701...  Training loss: 1.8224...  Val loss: 1.7485...  0.3511 sec/batch\n",
      "Epoch 100/700 time:34.55918002128601...  finished at 2017-09-17 15:43:57\n",
      "Epoch: 101/700...  Training Step: 9801...  Training loss: 1.8485...  Val loss: 1.7465...  0.3509 sec/batch\n",
      "Epoch: 102/700...  Training Step: 9901...  Training loss: 1.8108...  Val loss: 1.7424...  0.3511 sec/batch\n",
      "Epoch: 103/700...  Training Step: 10001...  Training loss: 1.8254...  Val loss: 1.7411...  0.3574 sec/batch\n",
      "WARNING:tensorflow:Error encountered when serializing LAYER_NAME_UIDS.\n",
      "Type is unsupported, or the types of the items don't match field type in CollectionDef.\n",
      "'dict' object has no attribute 'name'\n",
      "Epoch: 104/700...  Training Step: 10101...  Training loss: 1.8134...  Val loss: 1.7370...  0.3510 sec/batch\n",
      "Epoch: 105/700...  Training Step: 10201...  Training loss: 1.8359...  Val loss: 1.7329...  0.3514 sec/batch\n",
      "Epoch: 106/700...  Training Step: 10301...  Training loss: 1.8089...  Val loss: 1.7324...  0.3515 sec/batch\n",
      "Epoch: 107/700...  Training Step: 10401...  Training loss: 1.8249...  Val loss: 1.7333...  0.3515 sec/batch\n",
      "Epoch: 108/700...  Training Step: 10501...  Training loss: 1.7909...  Val loss: 1.7295...  0.3626 sec/batch\n",
      "WARNING:tensorflow:Error encountered when serializing LAYER_NAME_UIDS.\n",
      "Type is unsupported, or the types of the items don't match field type in CollectionDef.\n",
      "'dict' object has no attribute 'name'\n",
      "Epoch: 109/700...  Training Step: 10601...  Training loss: 1.7973...  Val loss: 1.7255...  0.3514 sec/batch\n"
     ]
    },
    {
     "name": "stdout",
     "output_type": "stream",
     "text": [
      "Epoch: 110/700...  Training Step: 10701...  Training loss: 1.7927...  Val loss: 1.7229...  0.3514 sec/batch\n",
      "Epoch 110/700 time:34.71160674095154...  finished at 2017-09-17 15:49:44\n",
      "Epoch: 111/700...  Training Step: 10801...  Training loss: 1.7737...  Val loss: 1.7199...  0.3517 sec/batch\n",
      "Epoch: 112/700...  Training Step: 10901...  Training loss: 1.7638...  Val loss: 1.7175...  0.3513 sec/batch\n",
      "Epoch: 113/700...  Training Step: 11001...  Training loss: 1.7885...  Val loss: 1.7141...  0.3515 sec/batch\n",
      "WARNING:tensorflow:Error encountered when serializing LAYER_NAME_UIDS.\n",
      "Type is unsupported, or the types of the items don't match field type in CollectionDef.\n",
      "'dict' object has no attribute 'name'\n",
      "Epoch: 114/700...  Training Step: 11101...  Training loss: 1.7664...  Val loss: 1.7146...  0.3516 sec/batch\n",
      "Epoch: 115/700...  Training Step: 11201...  Training loss: 1.7771...  Val loss: 1.7127...  0.3513 sec/batch\n",
      "Epoch: 116/700...  Training Step: 11301...  Training loss: 1.7912...  Val loss: 1.7088...  0.3513 sec/batch\n",
      "Epoch: 117/700...  Training Step: 11401...  Training loss: 1.7663...  Val loss: 1.7048...  0.3664 sec/batch\n",
      "Epoch: 118/700...  Training Step: 11501...  Training loss: 1.7972...  Val loss: 1.7032...  0.3512 sec/batch\n",
      "WARNING:tensorflow:Error encountered when serializing LAYER_NAME_UIDS.\n",
      "Type is unsupported, or the types of the items don't match field type in CollectionDef.\n",
      "'dict' object has no attribute 'name'\n",
      "Epoch: 119/700...  Training Step: 11601...  Training loss: 1.7537...  Val loss: 1.7050...  0.3515 sec/batch\n",
      "Epoch: 120/700...  Training Step: 11701...  Training loss: 1.7609...  Val loss: 1.7005...  0.3512 sec/batch\n",
      "Epoch 120/700 time:34.67615032196045...  finished at 2017-09-17 15:55:31\n",
      "Epoch: 121/700...  Training Step: 11801...  Training loss: 1.7578...  Val loss: 1.6979...  0.3517 sec/batch\n",
      "Epoch: 122/700...  Training Step: 11901...  Training loss: 1.7248...  Val loss: 1.6949...  0.3514 sec/batch\n",
      "Epoch: 123/700...  Training Step: 12001...  Training loss: 1.7860...  Val loss: 1.6932...  0.3513 sec/batch\n",
      "WARNING:tensorflow:Error encountered when serializing LAYER_NAME_UIDS.\n",
      "Type is unsupported, or the types of the items don't match field type in CollectionDef.\n",
      "'dict' object has no attribute 'name'\n",
      "Epoch: 124/700...  Training Step: 12101...  Training loss: 1.7911...  Val loss: 1.6938...  0.3513 sec/batch\n",
      "Epoch: 125/700...  Training Step: 12201...  Training loss: 1.7228...  Val loss: 1.6936...  0.3509 sec/batch\n",
      "Epoch: 126/700...  Training Step: 12301...  Training loss: 1.7632...  Val loss: 1.6970...  0.3507 sec/batch\n",
      "Epoch: 127/700...  Training Step: 12401...  Training loss: 1.7525...  Val loss: 1.6869...  0.3512 sec/batch\n",
      "Epoch: 128/700...  Training Step: 12501...  Training loss: 1.7676...  Val loss: 1.6858...  0.3512 sec/batch\n",
      "WARNING:tensorflow:Error encountered when serializing LAYER_NAME_UIDS.\n",
      "Type is unsupported, or the types of the items don't match field type in CollectionDef.\n",
      "'dict' object has no attribute 'name'\n",
      "Epoch: 129/700...  Training Step: 12601...  Training loss: 1.7415...  Val loss: 1.6823...  0.3509 sec/batch\n",
      "Epoch: 130/700...  Training Step: 12701...  Training loss: 1.7686...  Val loss: 1.6855...  0.3514 sec/batch\n",
      "Epoch 130/700 time:34.718297719955444...  finished at 2017-09-17 16:01:18\n",
      "Epoch: 131/700...  Training Step: 12801...  Training loss: 1.7482...  Val loss: 1.6786...  0.3665 sec/batch\n",
      "Epoch: 132/700...  Training Step: 12901...  Training loss: 1.7436...  Val loss: 1.6809...  0.3513 sec/batch\n",
      "Epoch: 133/700...  Training Step: 13001...  Training loss: 1.7370...  Val loss: 1.6800...  0.3510 sec/batch\n",
      "WARNING:tensorflow:Error encountered when serializing LAYER_NAME_UIDS.\n",
      "Type is unsupported, or the types of the items don't match field type in CollectionDef.\n",
      "'dict' object has no attribute 'name'\n",
      "Epoch: 134/700...  Training Step: 13101...  Training loss: 1.7680...  Val loss: 1.6765...  0.3513 sec/batch\n",
      "Epoch: 135/700...  Training Step: 13201...  Training loss: 1.7240...  Val loss: 1.6748...  0.3514 sec/batch\n",
      "Epoch: 136/700...  Training Step: 13301...  Training loss: 1.7444...  Val loss: 1.6705...  0.3510 sec/batch\n",
      "Epoch: 137/700...  Training Step: 13401...  Training loss: 1.7257...  Val loss: 1.6679...  0.3512 sec/batch\n",
      "Epoch: 138/700...  Training Step: 13501...  Training loss: 1.7700...  Val loss: 1.6688...  0.3512 sec/batch\n",
      "WARNING:tensorflow:Error encountered when serializing LAYER_NAME_UIDS.\n",
      "Type is unsupported, or the types of the items don't match field type in CollectionDef.\n",
      "'dict' object has no attribute 'name'\n",
      "Epoch: 139/700...  Training Step: 13601...  Training loss: 1.7341...  Val loss: 1.6646...  0.3511 sec/batch\n",
      "Epoch: 140/700...  Training Step: 13701...  Training loss: 1.7477...  Val loss: 1.6647...  0.3650 sec/batch\n",
      "Epoch 140/700 time:34.67739939689636...  finished at 2017-09-17 16:07:05\n",
      "Epoch: 141/700...  Training Step: 13801...  Training loss: 1.7063...  Val loss: 1.6654...  0.3511 sec/batch\n",
      "Epoch: 142/700...  Training Step: 13901...  Training loss: 1.7221...  Val loss: 1.6652...  0.3510 sec/batch\n",
      "Epoch: 143/700...  Training Step: 14001...  Training loss: 1.7104...  Val loss: 1.6618...  0.3516 sec/batch\n",
      "WARNING:tensorflow:Error encountered when serializing LAYER_NAME_UIDS.\n",
      "Type is unsupported, or the types of the items don't match field type in CollectionDef.\n",
      "'dict' object has no attribute 'name'\n",
      "Epoch: 144/700...  Training Step: 14101...  Training loss: 1.7204...  Val loss: 1.6614...  0.3510 sec/batch\n",
      "Epoch: 145/700...  Training Step: 14201...  Training loss: 1.7145...  Val loss: 1.6623...  0.3579 sec/batch\n",
      "Epoch: 146/700...  Training Step: 14301...  Training loss: 1.6921...  Val loss: 1.6572...  0.3512 sec/batch\n",
      "Epoch: 147/700...  Training Step: 14401...  Training loss: 1.7184...  Val loss: 1.6543...  0.3518 sec/batch\n",
      "Epoch: 148/700...  Training Step: 14501...  Training loss: 1.7045...  Val loss: 1.6510...  0.3512 sec/batch\n",
      "WARNING:tensorflow:Error encountered when serializing LAYER_NAME_UIDS.\n",
      "Type is unsupported, or the types of the items don't match field type in CollectionDef.\n",
      "'dict' object has no attribute 'name'\n",
      "Epoch: 149/700...  Training Step: 14601...  Training loss: 1.6988...  Val loss: 1.6535...  0.3514 sec/batch\n",
      "Epoch 150/700 time:34.58412313461304...  finished at 2017-09-17 16:12:53\n",
      "Epoch: 151/700...  Training Step: 14701...  Training loss: 1.7465...  Val loss: 1.6513...  0.3508 sec/batch\n",
      "Epoch: 152/700...  Training Step: 14801...  Training loss: 1.7041...  Val loss: 1.6491...  0.3512 sec/batch\n",
      "Epoch: 153/700...  Training Step: 14901...  Training loss: 1.7193...  Val loss: 1.6506...  0.3511 sec/batch\n",
      "Epoch: 154/700...  Training Step: 15001...  Training loss: 1.7035...  Val loss: 1.6526...  0.3514 sec/batch\n",
      "WARNING:tensorflow:Error encountered when serializing LAYER_NAME_UIDS.\n",
      "Type is unsupported, or the types of the items don't match field type in CollectionDef.\n",
      "'dict' object has no attribute 'name'\n",
      "Epoch: 155/700...  Training Step: 15101...  Training loss: 1.7170...  Val loss: 1.6439...  0.3665 sec/batch\n",
      "Epoch: 156/700...  Training Step: 15201...  Training loss: 1.6946...  Val loss: 1.6438...  0.3511 sec/batch\n",
      "Epoch: 157/700...  Training Step: 15301...  Training loss: 1.7295...  Val loss: 1.6469...  0.3516 sec/batch\n",
      "Epoch: 158/700...  Training Step: 15401...  Training loss: 1.6844...  Val loss: 1.6398...  0.3511 sec/batch\n",
      "Epoch: 159/700...  Training Step: 15501...  Training loss: 1.6981...  Val loss: 1.6386...  0.3510 sec/batch\n",
      "WARNING:tensorflow:Error encountered when serializing LAYER_NAME_UIDS.\n",
      "Type is unsupported, or the types of the items don't match field type in CollectionDef.\n",
      "'dict' object has no attribute 'name'\n",
      "Epoch: 160/700...  Training Step: 15601...  Training loss: 1.6898...  Val loss: 1.6396...  0.3512 sec/batch\n",
      "Epoch 160/700 time:34.68482828140259...  finished at 2017-09-17 16:18:40\n",
      "Epoch: 161/700...  Training Step: 15701...  Training loss: 1.6608...  Val loss: 1.6390...  0.3518 sec/batch\n",
      "Epoch: 162/700...  Training Step: 15801...  Training loss: 1.6655...  Val loss: 1.6351...  0.3513 sec/batch\n",
      "Epoch: 163/700...  Training Step: 15901...  Training loss: 1.6872...  Val loss: 1.6325...  0.3512 sec/batch\n",
      "Epoch: 164/700...  Training Step: 16001...  Training loss: 1.6721...  Val loss: 1.6326...  0.3518 sec/batch\n",
      "WARNING:tensorflow:Error encountered when serializing LAYER_NAME_UIDS.\n",
      "Type is unsupported, or the types of the items don't match field type in CollectionDef.\n",
      "'dict' object has no attribute 'name'\n"
     ]
    },
    {
     "name": "stdout",
     "output_type": "stream",
     "text": [
      "Epoch: 165/700...  Training Step: 16101...  Training loss: 1.6832...  Val loss: 1.6357...  0.3510 sec/batch\n",
      "Epoch: 166/700...  Training Step: 16201...  Training loss: 1.6951...  Val loss: 1.6273...  0.3515 sec/batch\n",
      "Epoch: 167/700...  Training Step: 16301...  Training loss: 1.6746...  Val loss: 1.6285...  0.3515 sec/batch\n",
      "Epoch: 168/700...  Training Step: 16401...  Training loss: 1.7013...  Val loss: 1.6290...  0.3511 sec/batch\n",
      "Epoch: 169/700...  Training Step: 16501...  Training loss: 1.6619...  Val loss: 1.6267...  0.3671 sec/batch\n",
      "WARNING:tensorflow:Error encountered when serializing LAYER_NAME_UIDS.\n",
      "Type is unsupported, or the types of the items don't match field type in CollectionDef.\n",
      "'dict' object has no attribute 'name'\n",
      "Epoch: 170/700...  Training Step: 16601...  Training loss: 1.6680...  Val loss: 1.6310...  0.3528 sec/batch\n",
      "Epoch 170/700 time:34.699280977249146...  finished at 2017-09-17 16:24:27\n",
      "Epoch: 171/700...  Training Step: 16701...  Training loss: 1.6687...  Val loss: 1.6230...  0.3512 sec/batch\n",
      "Epoch: 172/700...  Training Step: 16801...  Training loss: 1.6332...  Val loss: 1.6229...  0.3514 sec/batch\n",
      "Epoch: 173/700...  Training Step: 16901...  Training loss: 1.7053...  Val loss: 1.6176...  0.3514 sec/batch\n",
      "Epoch: 174/700...  Training Step: 17001...  Training loss: 1.7107...  Val loss: 1.6188...  0.3511 sec/batch\n",
      "WARNING:tensorflow:Error encountered when serializing LAYER_NAME_UIDS.\n",
      "Type is unsupported, or the types of the items don't match field type in CollectionDef.\n",
      "'dict' object has no attribute 'name'\n",
      "Epoch: 175/700...  Training Step: 17101...  Training loss: 1.6384...  Val loss: 1.6196...  0.3515 sec/batch\n",
      "Epoch: 176/700...  Training Step: 17201...  Training loss: 1.6680...  Val loss: 1.6233...  0.3510 sec/batch\n",
      "Epoch: 177/700...  Training Step: 17301...  Training loss: 1.6790...  Val loss: 1.6206...  0.3512 sec/batch\n",
      "Epoch: 178/700...  Training Step: 17401...  Training loss: 1.6816...  Val loss: 1.6169...  0.3664 sec/batch\n",
      "Epoch: 179/700...  Training Step: 17501...  Training loss: 1.6528...  Val loss: 1.6156...  0.3518 sec/batch\n",
      "WARNING:tensorflow:Error encountered when serializing LAYER_NAME_UIDS.\n",
      "Type is unsupported, or the types of the items don't match field type in CollectionDef.\n",
      "'dict' object has no attribute 'name'\n",
      "Epoch: 180/700...  Training Step: 17601...  Training loss: 1.6706...  Val loss: 1.6193...  0.3515 sec/batch\n",
      "Epoch 180/700 time:34.67966866493225...  finished at 2017-09-17 16:30:14\n",
      "Epoch: 181/700...  Training Step: 17701...  Training loss: 1.6633...  Val loss: 1.6137...  0.3513 sec/batch\n",
      "Epoch: 182/700...  Training Step: 17801...  Training loss: 1.6587...  Val loss: 1.6125...  0.3517 sec/batch\n",
      "Epoch: 183/700...  Training Step: 17901...  Training loss: 1.6488...  Val loss: 1.6091...  0.3545 sec/batch\n",
      "Epoch: 184/700...  Training Step: 18001...  Training loss: 1.6944...  Val loss: 1.6130...  0.3516 sec/batch\n",
      "WARNING:tensorflow:Error encountered when serializing LAYER_NAME_UIDS.\n",
      "Type is unsupported, or the types of the items don't match field type in CollectionDef.\n",
      "'dict' object has no attribute 'name'\n",
      "Epoch: 185/700...  Training Step: 18101...  Training loss: 1.6412...  Val loss: 1.6122...  0.3511 sec/batch\n",
      "Epoch: 186/700...  Training Step: 18201...  Training loss: 1.6630...  Val loss: 1.6086...  0.3510 sec/batch\n",
      "Epoch: 187/700...  Training Step: 18301...  Training loss: 1.6446...  Val loss: 1.6069...  0.3517 sec/batch\n",
      "Epoch: 188/700...  Training Step: 18401...  Training loss: 1.7007...  Val loss: 1.6081...  0.3513 sec/batch\n",
      "Epoch: 189/700...  Training Step: 18501...  Training loss: 1.6607...  Val loss: 1.6080...  0.3514 sec/batch\n",
      "WARNING:tensorflow:Error encountered when serializing LAYER_NAME_UIDS.\n",
      "Type is unsupported, or the types of the items don't match field type in CollectionDef.\n",
      "'dict' object has no attribute 'name'\n",
      "Epoch: 190/700...  Training Step: 18601...  Training loss: 1.6651...  Val loss: 1.6026...  0.3514 sec/batch\n",
      "Epoch 190/700 time:34.67690563201904...  finished at 2017-09-17 16:36:02\n",
      "Epoch: 191/700...  Training Step: 18701...  Training loss: 1.6285...  Val loss: 1.6066...  0.3511 sec/batch\n",
      "Epoch: 192/700...  Training Step: 18801...  Training loss: 1.6531...  Val loss: 1.6022...  0.3666 sec/batch\n",
      "Epoch: 193/700...  Training Step: 18901...  Training loss: 1.6359...  Val loss: 1.6018...  0.3515 sec/batch\n",
      "Epoch: 194/700...  Training Step: 19001...  Training loss: 1.6408...  Val loss: 1.6057...  0.3511 sec/batch\n",
      "WARNING:tensorflow:Error encountered when serializing LAYER_NAME_UIDS.\n",
      "Type is unsupported, or the types of the items don't match field type in CollectionDef.\n",
      "'dict' object has no attribute 'name'\n",
      "Epoch: 195/700...  Training Step: 19101...  Training loss: 1.6370...  Val loss: 1.6044...  0.3512 sec/batch\n",
      "Epoch: 196/700...  Training Step: 19201...  Training loss: 1.6176...  Val loss: 1.6001...  0.3511 sec/batch\n",
      "Epoch: 197/700...  Training Step: 19301...  Training loss: 1.6428...  Val loss: 1.5982...  0.3511 sec/batch\n",
      "Epoch: 198/700...  Training Step: 19401...  Training loss: 1.6345...  Val loss: 1.5968...  0.3522 sec/batch\n",
      "Epoch: 199/700...  Training Step: 19501...  Training loss: 1.6467...  Val loss: 1.5966...  0.3509 sec/batch\n",
      "WARNING:tensorflow:Error encountered when serializing LAYER_NAME_UIDS.\n",
      "Type is unsupported, or the types of the items don't match field type in CollectionDef.\n",
      "'dict' object has no attribute 'name'\n",
      "Epoch 200/700 time:34.55246663093567...  finished at 2017-09-17 16:41:49\n",
      "Epoch: 201/700...  Training Step: 19601...  Training loss: 1.6663...  Val loss: 1.5985...  0.3515 sec/batch\n",
      "Epoch: 202/700...  Training Step: 19701...  Training loss: 1.6284...  Val loss: 1.5935...  0.3630 sec/batch\n",
      "Epoch: 203/700...  Training Step: 19801...  Training loss: 1.6484...  Val loss: 1.5980...  0.3520 sec/batch\n",
      "Epoch: 204/700...  Training Step: 19901...  Training loss: 1.6432...  Val loss: 1.5975...  0.3514 sec/batch\n",
      "Epoch: 205/700...  Training Step: 20001...  Training loss: 1.6556...  Val loss: 1.5908...  0.3517 sec/batch\n",
      "WARNING:tensorflow:Error encountered when serializing LAYER_NAME_UIDS.\n",
      "Type is unsupported, or the types of the items don't match field type in CollectionDef.\n",
      "'dict' object has no attribute 'name'\n",
      "Epoch: 206/700...  Training Step: 20101...  Training loss: 1.6295...  Val loss: 1.5926...  0.3512 sec/batch\n",
      "Epoch: 207/700...  Training Step: 20201...  Training loss: 1.6609...  Val loss: 1.5926...  0.3577 sec/batch\n",
      "Epoch: 208/700...  Training Step: 20301...  Training loss: 1.6209...  Val loss: 1.5967...  0.3514 sec/batch\n",
      "Epoch: 209/700...  Training Step: 20401...  Training loss: 1.6330...  Val loss: 1.5918...  0.3512 sec/batch\n",
      "Epoch: 210/700...  Training Step: 20501...  Training loss: 1.6247...  Val loss: 1.5890...  0.3511 sec/batch\n",
      "WARNING:tensorflow:Error encountered when serializing LAYER_NAME_UIDS.\n",
      "Type is unsupported, or the types of the items don't match field type in CollectionDef.\n",
      "'dict' object has no attribute 'name'\n",
      "Epoch 210/700 time:34.84970545768738...  finished at 2017-09-17 16:47:36\n",
      "Epoch: 211/700...  Training Step: 20601...  Training loss: 1.6018...  Val loss: 1.5858...  0.3515 sec/batch\n",
      "Epoch: 212/700...  Training Step: 20701...  Training loss: 1.6001...  Val loss: 1.5878...  0.3514 sec/batch\n",
      "Epoch: 213/700...  Training Step: 20801...  Training loss: 1.6252...  Val loss: 1.5857...  0.3525 sec/batch\n",
      "Epoch: 214/700...  Training Step: 20901...  Training loss: 1.6157...  Val loss: 1.5839...  0.3509 sec/batch\n",
      "Epoch: 215/700...  Training Step: 21001...  Training loss: 1.6164...  Val loss: 1.5867...  0.3863 sec/batch\n",
      "WARNING:tensorflow:Error encountered when serializing LAYER_NAME_UIDS.\n",
      "Type is unsupported, or the types of the items don't match field type in CollectionDef.\n",
      "'dict' object has no attribute 'name'\n",
      "Epoch: 216/700...  Training Step: 21101...  Training loss: 1.6282...  Val loss: 1.5869...  0.3517 sec/batch\n",
      "Epoch: 217/700...  Training Step: 21201...  Training loss: 1.6142...  Val loss: 1.5907...  0.3524 sec/batch\n",
      "Epoch: 218/700...  Training Step: 21301...  Training loss: 1.6503...  Val loss: 1.5784...  0.3538 sec/batch\n",
      "Epoch: 219/700...  Training Step: 21401...  Training loss: 1.6058...  Val loss: 1.5803...  0.3673 sec/batch\n",
      "Epoch: 220/700...  Training Step: 21501...  Training loss: 1.6143...  Val loss: 1.5844...  0.3630 sec/batch\n",
      "WARNING:tensorflow:Error encountered when serializing LAYER_NAME_UIDS.\n",
      "Type is unsupported, or the types of the items don't match field type in CollectionDef.\n",
      "'dict' object has no attribute 'name'\n"
     ]
    },
    {
     "name": "stdout",
     "output_type": "stream",
     "text": [
      "Epoch 220/700 time:36.42679166793823...  finished at 2017-09-17 16:53:30\n",
      "Epoch: 221/700...  Training Step: 21601...  Training loss: 1.6198...  Val loss: 1.5812...  0.3658 sec/batch\n",
      "Epoch: 222/700...  Training Step: 21701...  Training loss: 1.5907...  Val loss: 1.5772...  0.3513 sec/batch\n",
      "Epoch: 223/700...  Training Step: 21801...  Training loss: 1.6406...  Val loss: 1.5734...  0.3579 sec/batch\n",
      "Epoch: 224/700...  Training Step: 21901...  Training loss: 1.6464...  Val loss: 1.5797...  0.3515 sec/batch\n",
      "Epoch: 225/700...  Training Step: 22001...  Training loss: 1.5734...  Val loss: 1.5788...  0.3513 sec/batch\n",
      "WARNING:tensorflow:Error encountered when serializing LAYER_NAME_UIDS.\n",
      "Type is unsupported, or the types of the items don't match field type in CollectionDef.\n",
      "'dict' object has no attribute 'name'\n",
      "Epoch: 226/700...  Training Step: 22101...  Training loss: 1.6102...  Val loss: 1.5786...  0.3513 sec/batch\n",
      "Epoch: 227/700...  Training Step: 22201...  Training loss: 1.6251...  Val loss: 1.5792...  0.3513 sec/batch\n",
      "Epoch: 228/700...  Training Step: 22301...  Training loss: 1.6252...  Val loss: 1.5748...  0.3563 sec/batch\n",
      "Epoch: 229/700...  Training Step: 22401...  Training loss: 1.6002...  Val loss: 1.5757...  0.3638 sec/batch\n",
      "Epoch: 230/700...  Training Step: 22501...  Training loss: 1.6141...  Val loss: 1.5775...  0.3577 sec/batch\n",
      "WARNING:tensorflow:Error encountered when serializing LAYER_NAME_UIDS.\n",
      "Type is unsupported, or the types of the items don't match field type in CollectionDef.\n",
      "'dict' object has no attribute 'name'\n",
      "Epoch 230/700 time:35.63997268676758...  finished at 2017-09-17 16:59:22\n",
      "Epoch: 231/700...  Training Step: 22601...  Training loss: 1.6095...  Val loss: 1.5719...  0.3576 sec/batch\n",
      "Epoch: 232/700...  Training Step: 22701...  Training loss: 1.6083...  Val loss: 1.5754...  0.3706 sec/batch\n",
      "Epoch: 233/700...  Training Step: 22801...  Training loss: 1.6062...  Val loss: 1.5735...  0.3512 sec/batch\n",
      "Epoch: 234/700...  Training Step: 22901...  Training loss: 1.6365...  Val loss: 1.5752...  0.3523 sec/batch\n",
      "Epoch: 235/700...  Training Step: 23001...  Training loss: 1.5891...  Val loss: 1.5690...  0.3520 sec/batch\n",
      "WARNING:tensorflow:Error encountered when serializing LAYER_NAME_UIDS.\n",
      "Type is unsupported, or the types of the items don't match field type in CollectionDef.\n",
      "'dict' object has no attribute 'name'\n",
      "Epoch: 236/700...  Training Step: 23101...  Training loss: 1.6190...  Val loss: 1.5750...  0.3811 sec/batch\n",
      "Epoch: 237/700...  Training Step: 23201...  Training loss: 1.5917...  Val loss: 1.5701...  0.3514 sec/batch\n",
      "Epoch: 238/700...  Training Step: 23301...  Training loss: 1.6442...  Val loss: 1.5675...  0.3512 sec/batch\n",
      "Epoch: 239/700...  Training Step: 23401...  Training loss: 1.6181...  Val loss: 1.5674...  0.3544 sec/batch\n",
      "Epoch: 240/700...  Training Step: 23501...  Training loss: 1.6190...  Val loss: 1.5664...  0.3528 sec/batch\n",
      "WARNING:tensorflow:Error encountered when serializing LAYER_NAME_UIDS.\n",
      "Type is unsupported, or the types of the items don't match field type in CollectionDef.\n",
      "'dict' object has no attribute 'name'\n",
      "Epoch 240/700 time:35.120017528533936...  finished at 2017-09-17 17:05:14\n",
      "Epoch: 241/700...  Training Step: 23601...  Training loss: 1.5890...  Val loss: 1.5696...  0.3513 sec/batch\n",
      "Epoch: 242/700...  Training Step: 23701...  Training loss: 1.5985...  Val loss: 1.5679...  0.3509 sec/batch\n",
      "Epoch: 243/700...  Training Step: 23801...  Training loss: 1.5816...  Val loss: 1.5653...  0.3515 sec/batch\n",
      "Epoch: 244/700...  Training Step: 23901...  Training loss: 1.5918...  Val loss: 1.5710...  0.3704 sec/batch\n",
      "Epoch: 245/700...  Training Step: 24001...  Training loss: 1.5955...  Val loss: 1.5684...  0.3516 sec/batch\n",
      "WARNING:tensorflow:Error encountered when serializing LAYER_NAME_UIDS.\n",
      "Type is unsupported, or the types of the items don't match field type in CollectionDef.\n",
      "'dict' object has no attribute 'name'\n",
      "Epoch: 246/700...  Training Step: 24101...  Training loss: 1.5719...  Val loss: 1.5690...  0.3513 sec/batch\n",
      "Epoch: 247/700...  Training Step: 24201...  Training loss: 1.5928...  Val loss: 1.5655...  0.3758 sec/batch\n",
      "Epoch: 248/700...  Training Step: 24301...  Training loss: 1.5859...  Val loss: 1.5622...  0.3511 sec/batch\n",
      "Epoch: 249/700...  Training Step: 24401...  Training loss: 1.5819...  Val loss: 1.5636...  0.3527 sec/batch\n",
      "Epoch 250/700 time:35.43856906890869...  finished at 2017-09-17 17:11:08\n",
      "Epoch: 251/700...  Training Step: 24501...  Training loss: 1.6114...  Val loss: 1.5626...  0.3675 sec/batch\n",
      "WARNING:tensorflow:Error encountered when serializing LAYER_NAME_UIDS.\n",
      "Type is unsupported, or the types of the items don't match field type in CollectionDef.\n",
      "'dict' object has no attribute 'name'\n",
      "Epoch: 252/700...  Training Step: 24601...  Training loss: 1.5893...  Val loss: 1.5660...  0.3721 sec/batch\n",
      "Epoch: 253/700...  Training Step: 24701...  Training loss: 1.5967...  Val loss: 1.5638...  0.3530 sec/batch\n",
      "Epoch: 254/700...  Training Step: 24801...  Training loss: 1.5811...  Val loss: 1.5638...  0.3567 sec/batch\n",
      "Epoch: 255/700...  Training Step: 24901...  Training loss: 1.6105...  Val loss: 1.5630...  0.3513 sec/batch\n",
      "Epoch: 256/700...  Training Step: 25001...  Training loss: 1.5796...  Val loss: 1.5635...  0.3601 sec/batch\n",
      "WARNING:tensorflow:Error encountered when serializing LAYER_NAME_UIDS.\n",
      "Type is unsupported, or the types of the items don't match field type in CollectionDef.\n",
      "'dict' object has no attribute 'name'\n",
      "Epoch: 257/700...  Training Step: 25101...  Training loss: 1.6079...  Val loss: 1.5608...  0.3514 sec/batch\n",
      "Epoch: 258/700...  Training Step: 25201...  Training loss: 1.5757...  Val loss: 1.5604...  0.3573 sec/batch\n",
      "Epoch: 259/700...  Training Step: 25301...  Training loss: 1.5790...  Val loss: 1.5620...  0.3509 sec/batch\n",
      "Epoch: 260/700...  Training Step: 25401...  Training loss: 1.5783...  Val loss: 1.5531...  0.3595 sec/batch\n",
      "Epoch 260/700 time:35.22403311729431...  finished at 2017-09-17 17:16:58\n",
      "Epoch: 261/700...  Training Step: 25501...  Training loss: 1.5613...  Val loss: 1.5527...  0.3535 sec/batch\n",
      "WARNING:tensorflow:Error encountered when serializing LAYER_NAME_UIDS.\n",
      "Type is unsupported, or the types of the items don't match field type in CollectionDef.\n",
      "'dict' object has no attribute 'name'\n",
      "Epoch: 262/700...  Training Step: 25601...  Training loss: 1.5617...  Val loss: 1.5607...  0.3511 sec/batch\n",
      "Epoch: 263/700...  Training Step: 25701...  Training loss: 1.5841...  Val loss: 1.5580...  0.3734 sec/batch\n",
      "Epoch: 264/700...  Training Step: 25801...  Training loss: 1.5646...  Val loss: 1.5549...  0.3543 sec/batch\n",
      "Epoch: 265/700...  Training Step: 25901...  Training loss: 1.5729...  Val loss: 1.5553...  0.3515 sec/batch\n",
      "Epoch: 266/700...  Training Step: 26001...  Training loss: 1.5880...  Val loss: 1.5548...  0.3550 sec/batch\n",
      "WARNING:tensorflow:Error encountered when serializing LAYER_NAME_UIDS.\n",
      "Type is unsupported, or the types of the items don't match field type in CollectionDef.\n",
      "'dict' object has no attribute 'name'\n",
      "Epoch: 267/700...  Training Step: 26101...  Training loss: 1.5667...  Val loss: 1.5527...  0.3536 sec/batch\n",
      "Epoch: 268/700...  Training Step: 26201...  Training loss: 1.5972...  Val loss: 1.5481...  0.3526 sec/batch\n",
      "Epoch: 269/700...  Training Step: 26301...  Training loss: 1.5633...  Val loss: 1.5539...  0.3622 sec/batch\n",
      "Epoch: 270/700...  Training Step: 26401...  Training loss: 1.5680...  Val loss: 1.5548...  0.3510 sec/batch\n",
      "Epoch 270/700 time:35.08008670806885...  finished at 2017-09-17 17:22:50\n",
      "Epoch: 271/700...  Training Step: 26501...  Training loss: 1.5654...  Val loss: 1.5581...  0.3513 sec/batch\n",
      "WARNING:tensorflow:Error encountered when serializing LAYER_NAME_UIDS.\n",
      "Type is unsupported, or the types of the items don't match field type in CollectionDef.\n",
      "'dict' object has no attribute 'name'\n",
      "Epoch: 272/700...  Training Step: 26601...  Training loss: 1.5452...  Val loss: 1.5526...  0.3723 sec/batch\n",
      "Epoch: 273/700...  Training Step: 26701...  Training loss: 1.6026...  Val loss: 1.5456...  0.3524 sec/batch\n",
      "Epoch: 274/700...  Training Step: 26801...  Training loss: 1.6072...  Val loss: 1.5503...  0.3513 sec/batch\n",
      "Epoch: 275/700...  Training Step: 26901...  Training loss: 1.5402...  Val loss: 1.5501...  0.3520 sec/batch\n"
     ]
    },
    {
     "name": "stdout",
     "output_type": "stream",
     "text": [
      "Epoch: 276/700...  Training Step: 27001...  Training loss: 1.5634...  Val loss: 1.5533...  0.3580 sec/batch\n",
      "WARNING:tensorflow:Error encountered when serializing LAYER_NAME_UIDS.\n",
      "Type is unsupported, or the types of the items don't match field type in CollectionDef.\n",
      "'dict' object has no attribute 'name'\n",
      "Epoch: 277/700...  Training Step: 27101...  Training loss: 1.5763...  Val loss: 1.5562...  0.3528 sec/batch\n",
      "Epoch: 278/700...  Training Step: 27201...  Training loss: 1.5826...  Val loss: 1.5532...  0.3550 sec/batch\n",
      "Epoch: 279/700...  Training Step: 27301...  Training loss: 1.5595...  Val loss: 1.5502...  0.3512 sec/batch\n",
      "Epoch: 280/700...  Training Step: 27401...  Training loss: 1.5735...  Val loss: 1.5524...  0.3513 sec/batch\n",
      "Epoch 280/700 time:34.71275305747986...  finished at 2017-09-17 17:28:40\n",
      "Epoch: 281/700...  Training Step: 27501...  Training loss: 1.5652...  Val loss: 1.5462...  0.3515 sec/batch\n",
      "WARNING:tensorflow:Error encountered when serializing LAYER_NAME_UIDS.\n",
      "Type is unsupported, or the types of the items don't match field type in CollectionDef.\n",
      "'dict' object has no attribute 'name'\n",
      "Epoch: 282/700...  Training Step: 27601...  Training loss: 1.5723...  Val loss: 1.5502...  0.3513 sec/batch\n",
      "Epoch: 283/700...  Training Step: 27701...  Training loss: 1.5648...  Val loss: 1.5459...  0.3512 sec/batch\n",
      "Epoch: 284/700...  Training Step: 27801...  Training loss: 1.5965...  Val loss: 1.5458...  0.3586 sec/batch\n",
      "Epoch: 285/700...  Training Step: 27901...  Training loss: 1.5507...  Val loss: 1.5403...  0.3522 sec/batch\n",
      "Epoch: 286/700...  Training Step: 28001...  Training loss: 1.5823...  Val loss: 1.5455...  0.3539 sec/batch\n",
      "WARNING:tensorflow:Error encountered when serializing LAYER_NAME_UIDS.\n",
      "Type is unsupported, or the types of the items don't match field type in CollectionDef.\n",
      "'dict' object has no attribute 'name'\n",
      "Epoch: 287/700...  Training Step: 28101...  Training loss: 1.5580...  Val loss: 1.5465...  0.3513 sec/batch\n",
      "Epoch: 288/700...  Training Step: 28201...  Training loss: 1.6169...  Val loss: 1.5461...  0.3514 sec/batch\n",
      "Epoch: 289/700...  Training Step: 28301...  Training loss: 1.5777...  Val loss: 1.5440...  0.3515 sec/batch\n",
      "Epoch: 290/700...  Training Step: 28401...  Training loss: 1.5829...  Val loss: 1.5406...  0.3541 sec/batch\n",
      "Epoch 290/700 time:35.04598259925842...  finished at 2017-09-17 17:34:29\n",
      "Epoch: 291/700...  Training Step: 28501...  Training loss: 1.5445...  Val loss: 1.5486...  0.3512 sec/batch\n",
      "WARNING:tensorflow:Error encountered when serializing LAYER_NAME_UIDS.\n",
      "Type is unsupported, or the types of the items don't match field type in CollectionDef.\n",
      "'dict' object has no attribute 'name'\n",
      "Epoch: 292/700...  Training Step: 28601...  Training loss: 1.5623...  Val loss: 1.5479...  0.3527 sec/batch\n",
      "Epoch: 293/700...  Training Step: 28701...  Training loss: 1.5382...  Val loss: 1.5432...  0.3621 sec/batch\n",
      "Epoch: 294/700...  Training Step: 28801...  Training loss: 1.5706...  Val loss: 1.5437...  0.3533 sec/batch\n",
      "Epoch: 295/700...  Training Step: 28901...  Training loss: 1.5540...  Val loss: 1.5405...  0.3519 sec/batch\n",
      "Epoch: 296/700...  Training Step: 29001...  Training loss: 1.5332...  Val loss: 1.5410...  0.3681 sec/batch\n",
      "WARNING:tensorflow:Error encountered when serializing LAYER_NAME_UIDS.\n",
      "Type is unsupported, or the types of the items don't match field type in CollectionDef.\n",
      "'dict' object has no attribute 'name'\n",
      "Epoch: 297/700...  Training Step: 29101...  Training loss: 1.5555...  Val loss: 1.5435...  0.3620 sec/batch\n",
      "Epoch: 298/700...  Training Step: 29201...  Training loss: 1.5576...  Val loss: 1.5402...  0.3511 sec/batch\n",
      "Epoch: 299/700...  Training Step: 29301...  Training loss: 1.5467...  Val loss: 1.5392...  0.3718 sec/batch\n",
      "Epoch 300/700 time:35.825031757354736...  finished at 2017-09-17 17:40:20\n",
      "Epoch: 301/700...  Training Step: 29401...  Training loss: 1.5821...  Val loss: 1.5401...  0.3753 sec/batch\n",
      "Epoch: 302/700...  Training Step: 29501...  Training loss: 1.5538...  Val loss: 1.5400...  0.3515 sec/batch\n",
      "WARNING:tensorflow:Error encountered when serializing LAYER_NAME_UIDS.\n",
      "Type is unsupported, or the types of the items don't match field type in CollectionDef.\n",
      "'dict' object has no attribute 'name'\n",
      "Epoch: 303/700...  Training Step: 29601...  Training loss: 1.5622...  Val loss: 1.5439...  0.3551 sec/batch\n",
      "Epoch: 304/700...  Training Step: 29701...  Training loss: 1.5472...  Val loss: 1.5469...  0.3561 sec/batch\n",
      "Epoch: 305/700...  Training Step: 29801...  Training loss: 1.5752...  Val loss: 1.5366...  0.3535 sec/batch\n",
      "Epoch: 306/700...  Training Step: 29901...  Training loss: 1.5378...  Val loss: 1.5396...  0.3783 sec/batch\n",
      "Epoch: 307/700...  Training Step: 30001...  Training loss: 1.5739...  Val loss: 1.5385...  0.3542 sec/batch\n",
      "WARNING:tensorflow:Error encountered when serializing LAYER_NAME_UIDS.\n",
      "Type is unsupported, or the types of the items don't match field type in CollectionDef.\n",
      "'dict' object has no attribute 'name'\n",
      "Epoch: 308/700...  Training Step: 30101...  Training loss: 1.5432...  Val loss: 1.5401...  0.3522 sec/batch\n",
      "Epoch: 309/700...  Training Step: 30201...  Training loss: 1.5529...  Val loss: 1.5414...  0.3560 sec/batch\n",
      "Epoch: 310/700...  Training Step: 30301...  Training loss: 1.5455...  Val loss: 1.5372...  0.3520 sec/batch\n",
      "Epoch 310/700 time:34.65889096260071...  finished at 2017-09-17 17:46:11\n",
      "Epoch: 311/700...  Training Step: 30401...  Training loss: 1.5279...  Val loss: 1.5323...  0.3522 sec/batch\n",
      "Epoch: 312/700...  Training Step: 30501...  Training loss: 1.5312...  Val loss: 1.5333...  0.3513 sec/batch\n",
      "WARNING:tensorflow:Error encountered when serializing LAYER_NAME_UIDS.\n",
      "Type is unsupported, or the types of the items don't match field type in CollectionDef.\n",
      "'dict' object has no attribute 'name'\n",
      "Epoch: 313/700...  Training Step: 30601...  Training loss: 1.5450...  Val loss: 1.5345...  0.3512 sec/batch\n",
      "Epoch: 314/700...  Training Step: 30701...  Training loss: 1.5322...  Val loss: 1.5357...  0.3513 sec/batch\n",
      "Epoch: 315/700...  Training Step: 30801...  Training loss: 1.5409...  Val loss: 1.5354...  0.3511 sec/batch\n",
      "Epoch: 316/700...  Training Step: 30901...  Training loss: 1.5481...  Val loss: 1.5362...  0.3525 sec/batch\n",
      "Epoch: 317/700...  Training Step: 31001...  Training loss: 1.5348...  Val loss: 1.5385...  0.3531 sec/batch\n",
      "WARNING:tensorflow:Error encountered when serializing LAYER_NAME_UIDS.\n",
      "Type is unsupported, or the types of the items don't match field type in CollectionDef.\n",
      "'dict' object has no attribute 'name'\n",
      "Epoch: 318/700...  Training Step: 31101...  Training loss: 1.5616...  Val loss: 1.5282...  0.3521 sec/batch\n",
      "Epoch: 319/700...  Training Step: 31201...  Training loss: 1.5231...  Val loss: 1.5277...  0.3513 sec/batch\n",
      "Epoch: 320/700...  Training Step: 31301...  Training loss: 1.5387...  Val loss: 1.5338...  0.3537 sec/batch\n",
      "Epoch 320/700 time:35.542418241500854...  finished at 2017-09-17 17:52:01\n",
      "Epoch: 321/700...  Training Step: 31401...  Training loss: 1.5374...  Val loss: 1.5332...  0.3708 sec/batch\n",
      "Epoch: 322/700...  Training Step: 31501...  Training loss: 1.5168...  Val loss: 1.5362...  0.3527 sec/batch\n",
      "WARNING:tensorflow:Error encountered when serializing LAYER_NAME_UIDS.\n",
      "Type is unsupported, or the types of the items don't match field type in CollectionDef.\n",
      "'dict' object has no attribute 'name'\n",
      "Epoch: 323/700...  Training Step: 31601...  Training loss: 1.5653...  Val loss: 1.5317...  0.3708 sec/batch\n",
      "Epoch: 324/700...  Training Step: 31701...  Training loss: 1.5772...  Val loss: 1.5331...  0.3511 sec/batch\n"
     ]
    }
   ],
   "source": [
    "#epochs = 1\n",
    "# Save every N iterations\n",
    "save_every_n = 500\n",
    "print_loss_every_n = 100\n",
    "sample_every = 500\n",
    "print_epoch_time_every = 10\n",
    "\n",
    "with tf.device(\"/gpu:0\"):\n",
    "    model = CharRNN(len(vocab), batch_size=batch_size, num_steps=num_steps,\n",
    "                lstm_size=lstm_size, num_layers=num_layers, \n",
    "                learning_rate=learning_rate)\n",
    "    #print(\"after model\")\n",
    "\n",
    "saver = tf.train.Saver(max_to_keep=5)\n",
    "print(\"Training starting at time:\",strftime(\"%Y-%m-%d %H:%M:%S\", localtime()))\n",
    "train_start_time = time.time()\n",
    "with tf.Session() as sess:\n",
    "    sess.run(tf.global_variables_initializer())\n",
    "    print(\"Number of parameters:\",get_number_of_parameters(),\"Dataset size:\",len(encoded))\n",
    "    #print(\"after initializer\")\n",
    "    if resume_from_checkpoint:\n",
    "        latest_checkpoint = tf.train.latest_checkpoint('checkpoints')\n",
    "        saver.restore(sess, latest_checkpoint)\n",
    "    counter = 0\n",
    "    for e in range(epochs):\n",
    "        # Train network\n",
    "        epoch_start = time.time()\n",
    "        \n",
    "        new_state = sess.run(model.initial_state)\n",
    "        loss = 0\n",
    "        for x, y in get_batches(encoded, batch_size, num_steps):\n",
    "            \n",
    "            \n",
    "            start = time.time()\n",
    "            feed = {model.inputs: x,\n",
    "                    model.targets: y,\n",
    "                    model.keep_prob: keep_prob,\n",
    "                    model.initial_state: new_state}\n",
    "            batch_loss, new_state, _ = sess.run([model.loss, \n",
    "                                                 model.final_state, \n",
    "                                                 model.optimizer], \n",
    "                                                 feed_dict=feed)\n",
    "        \n",
    "            \n",
    "            end = time.time()\n",
    "            if counter%print_loss_every_n == 0:\n",
    "                val_batches = get_batches(encoded_val,int(len(encoded_val)/num_steps),num_steps)\n",
    "                x_val,y_val = next(val_batches)\n",
    "                \n",
    "                val_dict = {model.inputs: x_val,\n",
    "                            model.targets: y_val,\n",
    "                            model.keep_prob: 1,\n",
    "                            model.initial_state: new_state}\n",
    "                \n",
    "                val_loss,prediction = sess.run([model.loss,model.prediction],feed_dict=val_dict)\n",
    "                \n",
    "                losses[\"train\"].append(batch_loss)\n",
    "                losses[\"validation\"].append(val_loss)\n",
    "                \n",
    "                \n",
    "                global_step = tf.train.global_step(sess,model.global_step_tensor)\n",
    "                x_steps.append(global_step)\n",
    "                \n",
    "                print('Epoch: {}/{}... '.format(e+1, epochs),\n",
    "                      'Training Step: {}... '.format(global_step),\n",
    "                      'Training loss: {:.4f}... '.format(batch_loss),\n",
    "                      'Val loss: {:.4f}... '.format(val_loss),\n",
    "                      '{:.4f} sec/batch'.format((end-start)))\n",
    "        \n",
    "            if (counter % save_every_n == 0):\n",
    "                global_step = tf.train.global_step(sess,model.global_step_tensor)\n",
    "                saver.save(sess, \"checkpoints/m{}_i{}_l{}.ckpt\".format(mode,global_step, lstm_size))\n",
    "                \n",
    "            counter += 1\n",
    "        \n",
    "        epoch_end = time.time()\n",
    "        \n",
    "        \n",
    "        if ((e+1) % print_epoch_time_every== 0):\n",
    "            print('Epoch {}/{} time:{}...'.format(e+1,epochs,epoch_end-epoch_start),\n",
    "                 \" finished at\",strftime(\"%Y-%m-%d %H:%M:%S\", localtime()))\n",
    "        \n",
    "            \n",
    "    global_step = tf.train.global_step(sess,model.global_step_tensor)\n",
    "    saver.save(sess, \"checkpoints/m{}_i{}_l{}.ckpt\".format(mode,global_step, lstm_size))\n",
    "    \n",
    "print(\"Training ending at time:\",strftime(\"%Y-%m-%d %H:%M:%S\", localtime()))\n",
    "print(\"Trainint total time:\",train_start_time-time.time())"
   ]
  },
  {
   "cell_type": "code",
   "execution_count": null,
   "metadata": {},
   "outputs": [],
   "source": [
    "plt.plot(x_steps,losses[\"train\"],label=\"Train loss\")\n",
    "plt.plot(x_steps,losses[\"validation\"],label=\"Validation loss\")\n",
    "plt.legend()\n",
    "_ = plt.ylim()"
   ]
  },
  {
   "cell_type": "markdown",
   "metadata": {},
   "source": [
    "#### Saved checkpoints\n",
    "\n",
    "Read up on saving and loading checkpoints here: https://www.tensorflow.org/programmers_guide/variables"
   ]
  },
  {
   "cell_type": "code",
   "execution_count": null,
   "metadata": {
    "collapsed": true
   },
   "outputs": [],
   "source": [
    "checkpoints = tf.train.get_checkpoint_state('checkpoints')"
   ]
  },
  {
   "cell_type": "markdown",
   "metadata": {},
   "source": [
    "## Sampling final trained model\n",
    "\n",
    "Now that the network is trained, we'll can use it to generate new text. The idea is that we pass in a character, then the network will predict the next character. We can use the new one, to predict the next one. And we keep doing this to generate all new text. I also included some functionality to prime the network with some text by passing in a string and building up a state from that.\n",
    "\n",
    "The network gives us predictions for each character. To reduce noise and make things a little less random, I'm going to only choose a new character from the top N most likely characters.\n",
    "\n"
   ]
  },
  {
   "cell_type": "code",
   "execution_count": null,
   "metadata": {
    "collapsed": true
   },
   "outputs": [],
   "source": [
    "def sample(checkpoint, n_samples, lstm_size, vocab_size, prime=\"The \",mode=\"characters\"):\n",
    "    print(mode)\n",
    "    samples = tokenize_text(prime,mode)\n",
    "    model = CharRNN(len(vocab), lstm_size=lstm_size, sampling=True)\n",
    "    saver = tf.train.Saver()\n",
    "    with tf.Session() as sess:\n",
    "        saver.restore(sess, checkpoint)\n",
    "        new_state = sess.run(model.initial_state)\n",
    "        for c in tokenize_text(prime,mode):\n",
    "            x = np.zeros((1, 1))\n",
    "            x[0,0] = vocab_to_int[c]\n",
    "            feed = {model.inputs: x,\n",
    "                    model.keep_prob: 1.,\n",
    "                    model.initial_state: new_state}\n",
    "            preds, new_state = sess.run([model.prediction, model.final_state], \n",
    "                                         feed_dict=feed)\n",
    "\n",
    "        c = pick_top_n(preds, len(vocab))\n",
    "        samples.append(int_to_vocab[c])\n",
    "\n",
    "        for i in range(n_samples):\n",
    "            x[0,0] = c\n",
    "            feed = {model.inputs: x,\n",
    "                    model.keep_prob: 1.,\n",
    "                    model.initial_state: new_state}\n",
    "            preds, new_state = sess.run([model.prediction, model.final_state], \n",
    "                                         feed_dict=feed)\n",
    "\n",
    "            c = pick_top_n(preds, len(vocab))\n",
    "            samples.append(int_to_vocab[c])\n",
    "        \n",
    "    return ''.join(samples).replace(\"new_line_token\",\"\\n\")"
   ]
  },
  {
   "cell_type": "markdown",
   "metadata": {},
   "source": [
    "Here, pass in the path to a checkpoint and sample from the network."
   ]
  },
  {
   "cell_type": "code",
   "execution_count": null,
   "metadata": {},
   "outputs": [],
   "source": [
    "tf.train.latest_checkpoint('checkpoints')"
   ]
  },
  {
   "cell_type": "markdown",
   "metadata": {},
   "source": [
    "## Generate new text from \"base\" text"
   ]
  },
  {
   "cell_type": "code",
   "execution_count": null,
   "metadata": {},
   "outputs": [],
   "source": [
    "\n",
    "checkpoint = tf.train.latest_checkpoint('checkpoints')\n",
    "\n",
    "\n",
    "samples = list()\n",
    "for text in text_to_try:\n",
    "    #print(\"------------------------\",text)\n",
    "    samples.append( sample(checkpoint, 500, lstm_size, len(vocab), prime=text,mode=mode))\n",
    "    #print(samp)\n",
    "    #print(\"------------------------\")"
   ]
  },
  {
   "cell_type": "code",
   "execution_count": null,
   "metadata": {},
   "outputs": [],
   "source": [
    "for i in range(len(text_to_try)):\n",
    "    text = text_to_try[i]\n",
    "    generated = samples[i]\n",
    "    print(\"------------------------\",text)\n",
    "    print(generated)\n",
    "    print(\"------------------------\")"
   ]
  },
  {
   "cell_type": "code",
   "execution_count": null,
   "metadata": {},
   "outputs": [],
   "source": [
    "tf.train.get_checkpoint_state('checkpoints')"
   ]
  },
  {
   "cell_type": "code",
   "execution_count": null,
   "metadata": {
    "collapsed": true
   },
   "outputs": [],
   "source": []
  }
 ],
 "metadata": {
  "kernelspec": {
   "display_name": "Python 3",
   "language": "python",
   "name": "python3"
  },
  "language_info": {
   "codemirror_mode": {
    "name": "ipython",
    "version": 3
   },
   "file_extension": ".py",
   "mimetype": "text/x-python",
   "name": "python",
   "nbconvert_exporter": "python",
   "pygments_lexer": "ipython3",
   "version": "3.6.1"
  }
 },
 "nbformat": 4,
 "nbformat_minor": 2
}
