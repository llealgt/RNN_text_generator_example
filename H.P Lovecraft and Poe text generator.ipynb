{
 "cells": [
  {
   "cell_type": "markdown",
   "metadata": {},
   "source": [
    "# Recurrent neural networks for H.P Lovecraft text generation\n",
    "\n",
    "\"The color out of space\" is one of my favorite tales from Lovecraft, i will use it(as well as others as the call of cthulhu) to create a recurrent neural network in tensorflow that learns his style and generates new text in his style\n",
    "\n",
    "This network is based off of Andrej Karpathy's [post on RNNs](http://karpathy.github.io/2015/05/21/rnn-effectiveness/) and [implementation in Torch](https://github.com/karpathy/char-rnn) and an example from \"Deep Learning Nanodegree\" on udacity. Also, some information [here at r2rt](http://r2rt.com/recurrent-neural-networks-in-tensorflow-ii.html) and from [Sherjil Ozair](https://github.com/sherjilozair/char-rnn-tensorflow) on GitHub. \n",
    "\n",
    "## General architecture using \"Long short term memory\" units in the recurrent layers\n",
    "\n",
    "<img src=\"assets/charseq.jpeg\" width=\"500\">"
   ]
  },
  {
   "cell_type": "code",
   "execution_count": 1,
   "metadata": {
    "collapsed": true
   },
   "outputs": [],
   "source": [
    "%matplotlib inline\n",
    "%config InlineBackend.figure_format = 'retina'"
   ]
  },
  {
   "cell_type": "code",
   "execution_count": 2,
   "metadata": {
    "collapsed": true
   },
   "outputs": [],
   "source": [
    "import time\n",
    "from collections import namedtuple\n",
    "\n",
    "import numpy as np\n",
    "import tensorflow as tf\n",
    "from nltk.tokenize import word_tokenize\n",
    "import nltk\n",
    "import itertools\n",
    "import matplotlib.pyplot as plt\n",
    "from time import gmtime, strftime ,localtime"
   ]
  },
  {
   "cell_type": "code",
   "execution_count": 3,
   "metadata": {
    "collapsed": true
   },
   "outputs": [],
   "source": [
    "# Run only the  first time nltk is used to download language\n",
    "#nltk.download()"
   ]
  },
  {
   "cell_type": "markdown",
   "metadata": {},
   "source": [
    "### Define conf variables and hyper parameteters "
   ]
  },
  {
   "cell_type": "code",
   "execution_count": 4,
   "metadata": {
    "collapsed": true
   },
   "outputs": [],
   "source": [
    "mode = \"characters\" #characters or words\n",
    "\n",
    "epochs = 350\n",
    "batch_size = 75         # Sequences per batch\n",
    "num_steps = 250          # Number of sequence steps per batch\n",
    "lstm_size = 512         # Size of hidden layers in LSTMs\n",
    "num_layers = 2          # Number of LSTM layers\n",
    "learning_rate = 0.0001    # Learning rate\n",
    "keep_prob = 0.5         # Dropout keep probability\n",
    "\n",
    "resume_from_checkpoint = False"
   ]
  },
  {
   "cell_type": "markdown",
   "metadata": {},
   "source": [
    "### Define base text\n",
    "Once trained ,the network can take base text and a sequence size and generate new text using base text as first characters in the sequence. For every element in base text wi will create a list that will store generated text as training goes, to be able to compare results between steps"
   ]
  },
  {
   "cell_type": "code",
   "execution_count": 5,
   "metadata": {
    "collapsed": true
   },
   "outputs": [],
   "source": [
    "text_to_try = [\"In the first place\",\"the night before\",\"horror\",\"creature\",\"night\",\"dream\",\"thing\",\"That night\",\"mountain\",\"Ammi\",\"Cthulhu\",\"raven\",\"bird\",\"nevermore\",\"dead\",\"The bird\"]"
   ]
  },
  {
   "cell_type": "markdown",
   "metadata": {},
   "source": [
    "#### Function that separates text into tokens(for whitespace characters, only new line is implemented, missing tabs and others="
   ]
  },
  {
   "cell_type": "code",
   "execution_count": 6,
   "metadata": {},
   "outputs": [
    {
     "data": {
      "text/plain": [
       "['H',\n",
       " 'e',\n",
       " 'l',\n",
       " 'l',\n",
       " 'o',\n",
       " ',',\n",
       " ' ',\n",
       " 'm',\n",
       " 'y',\n",
       " ' ',\n",
       " 'n',\n",
       " 'a',\n",
       " 'm',\n",
       " 'e',\n",
       " ' ',\n",
       " 'i',\n",
       " 's',\n",
       " ' ',\n",
       " 'L',\n",
       " 'u',\n",
       " 'i',\n",
       " 's',\n",
       " ' ',\n",
       " 'L',\n",
       " 'e',\n",
       " 'a',\n",
       " 'l',\n",
       " '!',\n",
       " '\\n',\n",
       " '\\n',\n",
       " 'F',\n",
       " 'r',\n",
       " 'o',\n",
       " 'm',\n",
       " ' ',\n",
       " 'G',\n",
       " 'u',\n",
       " 'a',\n",
       " 't',\n",
       " 'e',\n",
       " 'm',\n",
       " 'a',\n",
       " 'l',\n",
       " 'a']"
      ]
     },
     "execution_count": 6,
     "metadata": {},
     "output_type": "execute_result"
    }
   ],
   "source": [
    "def tokenize_by_words(text):\n",
    "    text = text.replace(\"\\n\",\" new_line_token \")\n",
    "    tokens = []\n",
    "    splitted =[[word_tokenize(w),' ']for w in text.split()]\n",
    "    splitted = list(itertools.chain(*list(itertools.chain(*splitted))))\n",
    "    \n",
    "    token_list = []\n",
    "    i = 0\n",
    "    while i < len(splitted):\n",
    "        if splitted[i] == \"new_line_token\":\n",
    "            if   token_list[-1]==\" \":\n",
    "                token_list[-1] = splitted[i]\n",
    "            else:\n",
    "                token_list.append(splitted[i])\n",
    "            i+=1\n",
    "        else:\n",
    "            token_list.append(splitted[i])\n",
    "        i+=1\n",
    "    \n",
    "    return token_list\n",
    "\n",
    "def tokenize_by_characters(text):\n",
    "    return list(text)\n",
    "\n",
    "def tokenize_text(text,mode=\"characters\"):\n",
    "    if mode == \"characters\":\n",
    "        return tokenize_by_characters(text)\n",
    "    elif mode == \"words\":\n",
    "        return tokenize_by_words(text)\n",
    "    \n",
    "tokenize_text(\"Hello, my name is Luis Leal!\\n\\nFrom Guatemala\",mode)\n",
    "#tokenize_text(\"Hello, my name is Luis Leal!\\n\\nFrom Guatemala\",\"words\")\n"
   ]
  },
  {
   "cell_type": "markdown",
   "metadata": {},
   "source": [
    "First we'll load the text file and convert it into integers for our network to use. Here I'm creating a couple dictionaries to convert the characters to and from integers. Encoding the characters as integers makes it easier to use as input in the network."
   ]
  },
  {
   "cell_type": "code",
   "execution_count": 7,
   "metadata": {
    "collapsed": true
   },
   "outputs": [],
   "source": [
    "with open('corpus.txt', 'r') as f:\n",
    "    text=f.read()"
   ]
  },
  {
   "cell_type": "code",
   "execution_count": 8,
   "metadata": {
    "collapsed": true
   },
   "outputs": [],
   "source": [
    "vocab = set(tokenize_text(text,mode))\n",
    "vocab_to_int = {c: i for i, c in enumerate(vocab)}\n",
    "int_to_vocab = dict(enumerate(vocab))"
   ]
  },
  {
   "cell_type": "markdown",
   "metadata": {},
   "source": [
    "### Get a little portion of text for validation"
   ]
  },
  {
   "cell_type": "code",
   "execution_count": 9,
   "metadata": {
    "collapsed": true
   },
   "outputs": [],
   "source": [
    "validation_size = batch_size * num_steps #create a single baty\n",
    "validation_start_index = len(text) - validation_size\n",
    "\n",
    "val_text = text[validation_start_index:]\n",
    "text = text[:validation_start_index]"
   ]
  },
  {
   "cell_type": "markdown",
   "metadata": {},
   "source": [
    "Let's check out the first 100 characters of train and validation, make sure everything is peachy.  line of a book ever."
   ]
  },
  {
   "cell_type": "code",
   "execution_count": 10,
   "metadata": {},
   "outputs": [
    {
     "data": {
      "text/plain": [
       "'THE COLOUR OUT OF SPACE\\n\\nWest of Arkham the hills rise wild, and there are valleys with deep woods t'"
      ]
     },
     "execution_count": 10,
     "metadata": {},
     "output_type": "execute_result"
    }
   ],
   "source": [
    "text[:100]"
   ]
  },
  {
   "cell_type": "code",
   "execution_count": 11,
   "metadata": {},
   "outputs": [
    {
     "data": {
      "text/plain": [
       "'en all was arranged, he might have been said to be dressed. Mr. Gliddon, therefore, gave him his arm'"
      ]
     },
     "execution_count": 11,
     "metadata": {},
     "output_type": "execute_result"
    }
   ],
   "source": [
    "val_text[:100]"
   ]
  },
  {
   "cell_type": "code",
   "execution_count": 12,
   "metadata": {
    "collapsed": true
   },
   "outputs": [],
   "source": [
    "encoded = np.array([vocab_to_int[c] for c in tokenize_text(text,mode)], dtype=np.int32)\n",
    "encoded_val = np.array([vocab_to_int[c] for c in tokenize_text(val_text,mode)],dtype=np.int32)"
   ]
  },
  {
   "cell_type": "markdown",
   "metadata": {},
   "source": [
    "And we can see the characters encoded as integersin both train and validation"
   ]
  },
  {
   "cell_type": "code",
   "execution_count": 13,
   "metadata": {},
   "outputs": [
    {
     "data": {
      "text/plain": [
       "array([ 37,  11,  78,  54,  31,  64,   3,  64,  32,  71,  54,  64,  32,\n",
       "        37,  54,  64,  90,  54,  75,  94,  69,  31,  78,  63,  63, 100,\n",
       "        55,  16,  33,  54,  76,  97,  54,  69,  26,  18,  35,  67,  68,\n",
       "        54,  33,  35,  55,  54,  35,  27,  12,  12,  16,  54,  26,  27,\n",
       "        16,  55,  54,  17,  27,  12,  72,  19,  54,  67,  66,  72,  54,\n",
       "        33,  35,  55,  26,  55,  54,  67,  26,  55,  54,   8,  67,  12,\n",
       "        12,  55,  51,  16,  54,  17,  27,  33,  35,  54,  72,  55,  55,\n",
       "        36,  54,  17,  76,  76,  72,  16,  54,  33], dtype=int32)"
      ]
     },
     "execution_count": 13,
     "metadata": {},
     "output_type": "execute_result"
    }
   ],
   "source": [
    "encoded[:100]"
   ]
  },
  {
   "cell_type": "code",
   "execution_count": 14,
   "metadata": {},
   "outputs": [
    {
     "data": {
      "text/plain": [
       "array([55, 66, 54, 67, 12, 12, 54, 17, 67, 16, 54, 67, 26, 26, 67, 66, 10,\n",
       "       55, 72, 19, 54, 35, 55, 54, 68, 27, 10, 35, 33, 54, 35, 67,  8, 55,\n",
       "       54, 44, 55, 55, 66, 54, 16, 67, 27, 72, 54, 33, 76, 54, 44, 55, 54,\n",
       "       72, 26, 55, 16, 16, 55, 72, 14, 54, 87, 26, 14, 54, 25, 12, 27, 72,\n",
       "       72, 76, 66, 19, 54, 33, 35, 55, 26, 55, 97, 76, 26, 55, 19, 54, 10,\n",
       "       67,  8, 55, 54, 35, 27, 68, 54, 35, 27, 16, 54, 67, 26, 68], dtype=int32)"
      ]
     },
     "execution_count": 14,
     "metadata": {},
     "output_type": "execute_result"
    }
   ],
   "source": [
    "encoded_val[0:100]"
   ]
  },
  {
   "cell_type": "markdown",
   "metadata": {},
   "source": [
    "Since the network is working with individual english tokens, it's similar to a classification problem in which we are trying to predict the next character from the previous text.  Here's how many 'classes' our network has to pick from."
   ]
  },
  {
   "cell_type": "code",
   "execution_count": 15,
   "metadata": {},
   "outputs": [
    {
     "data": {
      "text/plain": [
       "102"
      ]
     },
     "execution_count": 15,
     "metadata": {},
     "output_type": "execute_result"
    }
   ],
   "source": [
    "len(vocab)"
   ]
  },
  {
   "cell_type": "code",
   "execution_count": 16,
   "metadata": {},
   "outputs": [
    {
     "name": "stdout",
     "output_type": "stream",
     "text": [
      "en all was arranged, he might have been said to be dressed. Mr. Gliddon, therefore, gave him his arm\n"
     ]
    }
   ],
   "source": [
    "def encoded_to_text(encoded):\n",
    "    return \"\".join([int_to_vocab[number] for number in encoded])\n",
    "\n",
    "print(encoded_to_text(encoded_val[0:100]))"
   ]
  },
  {
   "cell_type": "markdown",
   "metadata": {},
   "source": [
    "## Making training mini-batches\n",
    "\n",
    "Here is where we'll make our mini-batches for training. Remember that we want our batches to be multiple sequences of some desired number of sequence steps. Considering a simple example, our batches would look like this:\n",
    "\n",
    "<img src=\"assets/sequence_batching@1x.png\" width=500px>\n",
    "\n",
    "\n",
    "<br>\n",
    "We have our text encoded as integers as one long array in `encoded`. Let's create a function that will give us an iterator for our batches. I like using [generator functions](https://jeffknupp.com/blog/2013/04/07/improve-your-python-yield-and-generators-explained/) to do this. Then we can pass `encoded` into this function and get our batch generator.\n",
    "\n",
    "The first thing we need to do is discard some of the text so we only have completely full batches. Each batch contains $N \\times M$ characters, where $N$ is the batch size (the number of sequences) and $M$ is the number of steps. Then, to get the number of batches we can make from some array `arr`, you divide the length of `arr` by the batch size. Once you know the number of batches and the batch size, you can get the total number of characters to keep.\n",
    "\n",
    "After that, we need to split `arr` into $N$ sequences. You can do this using `arr.reshape(size)` where `size` is a tuple containing the dimensions sizes of the reshaped array. We know we want $N$ sequences (`n_seqs` below), let's make that the size of the first dimension. For the second dimension, you can use `-1` as a placeholder in the size, it'll fill up the array with the appropriate data for you. After this, you should have an array that is $N \\times (M * K)$ where $K$ is the number of batches.\n",
    "\n",
    "Now that we have this array, we can iterate through it to get our batches. The idea is each batch is a $N \\times M$ window on the array. For each subsequent batch, the window moves over by `n_steps`. We also want to create both the input and target arrays. Remember that the targets are the inputs shifted over one character. You'll usually see the first input character used as the last target character, so something like this:\n",
    "```python\n",
    "y[:, :-1], y[:, -1] = x[:, 1:], x[:, 0]\n",
    "```\n",
    "where `x` is the input batch and `y` is the target batch.\n",
    "\n",
    "The way I like to do this window is use `range` to take steps of size `n_steps` from $0$ to `arr.shape[1]`, the total number of steps in each sequence. That way, the integers you get from `range` always point to the start of a batch, and each window is `n_steps` wide."
   ]
  },
  {
   "cell_type": "code",
   "execution_count": 17,
   "metadata": {
    "collapsed": true
   },
   "outputs": [],
   "source": [
    "def get_batches(arr, n_seqs, n_steps):\n",
    "    '''Create a generator that returns batches of size\n",
    "       n_seqs x n_steps from arr.\n",
    "       \n",
    "       Arguments\n",
    "       ---------\n",
    "       arr: Array you want to make batches from\n",
    "       n_seqs: Batch size, the number of sequences per batch\n",
    "       n_steps: Number of sequence steps per batch\n",
    "    '''\n",
    "    # Get the batch size and number of batches we can make\n",
    "    batch_size = n_seqs * n_steps \n",
    "    n_batches =  len(arr)//batch_size\n",
    "    \n",
    "    # Keep only enough characters to make full batches\n",
    "    arr =  arr[:n_batches*batch_size]\n",
    "    \n",
    "    # Reshape into n_seqs rows\n",
    "    arr = arr.reshape((n_seqs,-1))\n",
    "    \n",
    "    for n in range(0, arr.shape[1], n_steps):\n",
    "        # The features\n",
    "        x = arr[:,n:n+n_steps]\n",
    "        # The targets, shifted by one\n",
    "        y = np.zeros(x.shape)\n",
    "        y[:,:-1],y[:,-1] = x[:,1:] ,x[:,0]\n",
    "        yield x, y"
   ]
  },
  {
   "cell_type": "markdown",
   "metadata": {},
   "source": [
    "Now I'll make my data sets and we can check out what's going on here. Here I'm going to use a batch size of 10 and 50 sequence steps."
   ]
  },
  {
   "cell_type": "code",
   "execution_count": 18,
   "metadata": {
    "collapsed": true
   },
   "outputs": [],
   "source": [
    "batches = get_batches(encoded, 10, 50)\n",
    "x, y = next(batches)"
   ]
  },
  {
   "cell_type": "code",
   "execution_count": 19,
   "metadata": {},
   "outputs": [
    {
     "name": "stdout",
     "output_type": "stream",
     "text": [
      "x\n",
      " [[37 11 78 54 31 64  3 64 32 71]\n",
      " [27 66 54 68 55 72 27 67 55  8]\n",
      " [76 72 58 54  3 70 72 19 54 75]\n",
      " [97 54 67 54 33 27 68 55 54 67]\n",
      " [55 54 72 27 16 33 67 66 49 55]\n",
      " [66 54 12 67 33 27 33 70 72 55]\n",
      " [35 26 55 67 33 54 76 97 54 16]\n",
      " [55 54 17 67 16 54 27 66 54 33]\n",
      " [55 33 16 54 76 97 54 35 27 10]\n",
      " [54 33 35 55 54 33 55 12 55 16]]\n",
      "\n",
      "y\n",
      " [[ 11.  78.  54.  31.  64.   3.  64.  32.  71.  54.]\n",
      " [ 66.  54.  68.  55.  72.  27.  67.  55.   8.  67.]\n",
      " [ 72.  58.  54.   3.  70.  72.  19.  54.  75.  27.]\n",
      " [ 54.  67.  54.  33.  27.  68.  55.  54.  67.  66.]\n",
      " [ 54.  72.  27.  16.  33.  67.  66.  49.  55.  19.]\n",
      " [ 54.  12.  67.  33.  27.  33.  70.  72.  55.  54.]\n",
      " [ 26.  55.  67.  33.  54.  76.  97.  54.  16.  76.]\n",
      " [ 54.  17.  67.  16.  54.  27.  66.  54.  33.  35.]\n",
      " [ 33.  16.  54.  76.  97.  54.  35.  27.  10.  35.]\n",
      " [ 33.  35.  55.  54.  33.  55.  12.  55.  16.  49.]]\n"
     ]
    }
   ],
   "source": [
    "print('x\\n', x[:10, :10])\n",
    "print('\\ny\\n', y[:10, :10])"
   ]
  },
  {
   "cell_type": "markdown",
   "metadata": {},
   "source": [
    "## Building the model\n",
    "\n",
    "Below is where you'll build the network. We'll break it up into parts so it's easier to reason about each bit. Then we can connect them up into the whole network.\n",
    "\n",
    "<img src=\"assets/charRNN.png\" width=500px>\n",
    "\n",
    "\n",
    "### Inputs\n",
    "\n",
    "First off we'll create our input placeholders. As usual we need placeholders for the training data and the targets. We'll also create a placeholder for dropout layers called `keep_prob`. This will be a scalar, that is a 0-D tensor. To make a scalar, you create a placeholder without giving it a size."
   ]
  },
  {
   "cell_type": "code",
   "execution_count": 20,
   "metadata": {
    "collapsed": true
   },
   "outputs": [],
   "source": [
    "def build_inputs(batch_size, num_steps):\n",
    "    ''' Define placeholders for inputs, targets, and dropout \n",
    "    \n",
    "        Arguments\n",
    "        ---------\n",
    "        batch_size: Batch size, number of sequences per batch\n",
    "        num_steps: Number of sequence steps in a batch\n",
    "        \n",
    "    '''\n",
    "    # Declare placeholders we'll feed into the graph\n",
    "    inputs = tf.placeholder(tf.int32,[batch_size,num_steps],name=\"inputs\")\n",
    "    targets = tf.placeholder(tf.int32,[batch_size,num_steps],name=\"targets\")\n",
    "    \n",
    "    # Keep probability placeholder for drop out layers\n",
    "    keep_prob = tf.placeholder(tf.float32,name=\"keep_prob\")\n",
    "    \n",
    "    return inputs, targets, keep_prob"
   ]
  },
  {
   "cell_type": "markdown",
   "metadata": {},
   "source": [
    "### LSTM Cell\n",
    "\n",
    "Here we will create the LSTM cell we'll use in the hidden layer. We'll use this cell as a building block for the RNN. So we aren't actually defining the RNN here, just the type of cell we'll use in the hidden layer.\n",
    "\n",
    "We first create a basic LSTM cell with\n",
    "\n",
    "```python\n",
    "lstm = tf.contrib.rnn.BasicLSTMCell(num_units)\n",
    "```\n",
    "\n",
    "where `num_units` is the number of units in the hidden layers in the cell. Then we can add dropout by wrapping it with \n",
    "\n",
    "```python\n",
    "tf.contrib.rnn.DropoutWrapper(lstm, output_keep_prob=keep_prob)\n",
    "```\n",
    "You pass in a cell and it will automatically add dropout to the inputs or outputs. Finally, we can stack up the LSTM cells into layers with [`tf.contrib.rnn.MultiRNNCell`](https://www.tensorflow.org/versions/r1.0/api_docs/python/tf/contrib/rnn/MultiRNNCell). With this, you pass in a list of cells and it will send the output of one cell into the next cell. For example,\n",
    "\n",
    "```python\n",
    "tf.contrib.rnn.MultiRNNCell([cell]*num_layers)\n",
    "```\n",
    "\n",
    "This might look a little weird if you know Python well because this will create a list of the same `cell` object. However, TensorFlow will create different weight matrices for all `cell` objects. Even though this is actually multiple LSTM cells stacked on each other, you can treat the multiple layers as one cell.\n",
    "\n",
    "We also need to create an initial cell state of all zeros. This can be done like so\n",
    "\n",
    "```python\n",
    "initial_state = cell.zero_state(batch_size, tf.float32)\n",
    "```\n"
   ]
  },
  {
   "cell_type": "code",
   "execution_count": 21,
   "metadata": {
    "collapsed": true
   },
   "outputs": [],
   "source": [
    "def build_lstm(lstm_size, num_layers, batch_size, keep_prob):\n",
    "    ''' Build LSTM cell.\n",
    "    \n",
    "        Arguments\n",
    "        ---------\n",
    "        keep_prob: Scalar tensor (tf.placeholder) for the dropout keep probability\n",
    "        lstm_size: Size of the hidden layers in the LSTM cells\n",
    "        num_layers: Number of LSTM layers\n",
    "        batch_size: Batch size\n",
    "\n",
    "    '''\n",
    "    ### Build the LSTM Cell\n",
    "    # Use a basic LSTM cell\n",
    "    # Add dropout to the cell outputs\n",
    "    # Stack up multiple LSTM layers, for deep learning\n",
    "    cell = tf.contrib.rnn.MultiRNNCell([tf.contrib.rnn.DropoutWrapper( tf.contrib.rnn.BasicLSTMCell(lstm_size),output_keep_prob = keep_prob) for _ in range(num_layers)])\n",
    "    initial_state = cell.zero_state(batch_size,tf.float32)\n",
    "    \n",
    "    return cell, initial_state"
   ]
  },
  {
   "cell_type": "markdown",
   "metadata": {},
   "source": [
    "### RNN Output\n",
    "\n",
    "Here we'll create the output layer. We need to connect the output of the RNN cells to a full connected layer with a softmax output. The softmax output gives us a probability distribution we can use to predict the next character, so we want this layer to have size $C$, the number of classes/characters we have in our text.\n",
    "\n",
    "If our input has batch size $N$, number of steps $M$, and the hidden layer has $L$ hidden units, then the output is a 3D tensor with size $N \\times M \\times L$. The output of each LSTM cell has size $L$, we have $M$ of them, one for each sequence step, and we have $N$ sequences. So the total size is $N \\times M \\times L$. \n",
    "\n",
    "We are using the same fully connected layer, the same weights, for each of the outputs. Then, to make things easier, we should reshape the outputs into a 2D tensor with shape $(M * N) \\times L$. That is, one row for each sequence and step, where the values of each row are the output from the LSTM cells. We get the LSTM output as a list, `lstm_output`. First we need to concatenate this whole list into one array with [`tf.concat`](https://www.tensorflow.org/api_docs/python/tf/concat). Then, reshape it (with `tf.reshape`) to size $(M * N) \\times L$.\n",
    "\n",
    "One we have the outputs reshaped, we can do the matrix multiplication with the weights. We need to wrap the weight and bias variables in a variable scope with `tf.variable_scope(scope_name)` because there are weights being created in the LSTM cells. TensorFlow will throw an error if the weights created here have the same names as the weights created in the LSTM cells, which they will be default. To avoid this, we wrap the variables in a variable scope so we can give them unique names.\n"
   ]
  },
  {
   "cell_type": "code",
   "execution_count": 22,
   "metadata": {
    "collapsed": true
   },
   "outputs": [],
   "source": [
    "def build_output(lstm_output, in_size, out_size):\n",
    "    ''' Build a softmax layer, return the softmax output and logits.\n",
    "    \n",
    "        Arguments\n",
    "        ---------\n",
    "        \n",
    "        lstm_output: List of output tensors from the LSTM layer\n",
    "        in_size: Size of the input tensor, for example, size of the LSTM cells\n",
    "        out_size: Size of this softmax layer\n",
    "    \n",
    "    '''\n",
    "\n",
    "    # Reshape output so it's a bunch of rows, one row for each step for each sequence.\n",
    "    # Concatenate lstm_output over axis 1 (the columns)\n",
    "    seq_output = tf.concat(lstm_output,axis=1)\n",
    "    # Reshape seq_output to a 2D tensor with lstm_size columns\n",
    "    x = tf.reshape(seq_output,[-1,in_size])\n",
    "    \n",
    "    # Connect the RNN outputs to a softmax layer\n",
    "    with tf.variable_scope('softmax'):\n",
    "        # Create the weight and bias variables here\n",
    "        softmax_w = tf.Variable(tf.truncated_normal((in_size, out_size),stddev=0.1))\n",
    "        softmax_b = tf.Variable(tf.zeros([out_size]))\n",
    "    \n",
    "    # Since output is a bunch of rows of RNN cell outputs, logits will be a bunch\n",
    "    # of rows of logit outputs, one for each step and sequence\n",
    "    logits =  tf.add(tf.matmul(x,softmax_w),softmax_b) \n",
    "    \n",
    "    # Use softmax to get the probabilities for predicted characters\n",
    "    out = tf.nn.softmax(logits,name =\"out\")\n",
    "    \n",
    "    return out, logits"
   ]
  },
  {
   "cell_type": "markdown",
   "metadata": {},
   "source": [
    "### Training loss\n",
    "\n",
    "Next up is the training loss. We get the logits and targets and calculate the softmax cross-entropy loss. First we need to one-hot encode the targets, we're getting them as encoded characters. Then, reshape the one-hot targets so it's a 2D tensor with size $(M*N) \\times C$ where $C$ is the number of classes/characters we have. Remember that we reshaped the LSTM outputs and ran them through a fully connected layer with $C$ units. So our logits will also have size $(M*N) \\times C$.\n",
    "\n",
    "Then we run the logits and targets through `tf.nn.softmax_cross_entropy_with_logits` and find the mean to get the loss."
   ]
  },
  {
   "cell_type": "code",
   "execution_count": 23,
   "metadata": {
    "collapsed": true
   },
   "outputs": [],
   "source": [
    "def build_loss(logits, targets, lstm_size, num_classes):\n",
    "    ''' Calculate the loss from the logits and the targets.\n",
    "    \n",
    "        Arguments\n",
    "        ---------\n",
    "        logits: Logits from final fully connected layer\n",
    "        targets: Targets for supervised learning\n",
    "        lstm_size: Number of LSTM hidden units\n",
    "        num_classes: Number of classes in targets\n",
    "        \n",
    "    '''\n",
    "    # One-hot encode targets and reshape to match logits, one row per sequence per step\n",
    "    y_one_hot = tf.one_hot(targets,num_classes)\n",
    "    y_reshaped =  tf.reshape(y_one_hot,logits.get_shape())\n",
    "    \n",
    "    # Softmax cross entropy loss\n",
    "    loss = tf.reduce_mean(tf.nn.softmax_cross_entropy_with_logits(logits=logits,labels=y_reshaped))\n",
    "    \n",
    "    return loss"
   ]
  },
  {
   "cell_type": "markdown",
   "metadata": {},
   "source": [
    "### Optimizer\n",
    "\n",
    "Here we build the optimizer. Normal RNNs have have issues gradients exploding and disappearing. LSTMs fix the disappearance problem, but the gradients can still grow without bound. To fix this, we can clip the gradients above some threshold. That is, if a gradient is larger than that threshold, we set it to the threshold. This will ensure the gradients never grow overly large. Then we use an AdamOptimizer for the learning step."
   ]
  },
  {
   "cell_type": "code",
   "execution_count": 24,
   "metadata": {
    "collapsed": true
   },
   "outputs": [],
   "source": [
    "def build_optimizer(loss, learning_rate, grad_clip,global_step):\n",
    "    ''' Build optmizer for training, using gradient clipping.\n",
    "    \n",
    "        Arguments:\n",
    "        loss: Network loss\n",
    "        learning_rate: Learning rate for optimizer\n",
    "        global_step: to control the total number of train steps\n",
    "    \n",
    "    '''\n",
    "    \n",
    "    # Optimizer for training, using gradient clipping to control exploding gradients\n",
    "    tvars = tf.trainable_variables()\n",
    "    grads, _ = tf.clip_by_global_norm(tf.gradients(loss, tvars), grad_clip)\n",
    "    train_op = tf.train.AdamOptimizer(learning_rate)\n",
    "    optimizer = train_op.apply_gradients(zip(grads, tvars),global_step)\n",
    "    \n",
    "    return optimizer"
   ]
  },
  {
   "cell_type": "markdown",
   "metadata": {},
   "source": [
    "### Build the network\n",
    "\n",
    "Now we can put all the pieces together and build a class for the network. To actually run data through the LSTM cells, we will use [`tf.nn.dynamic_rnn`](https://www.tensorflow.org/versions/r1.0/api_docs/python/tf/nn/dynamic_rnn). This function will pass the hidden and cell states across LSTM cells appropriately for us. It returns the outputs for each LSTM cell at each step for each sequence in the mini-batch. It also gives us the final LSTM state. We want to save this state as `final_state` so we can pass it to the first LSTM cell in the the next mini-batch run. For `tf.nn.dynamic_rnn`, we pass in the cell and initial state we get from `build_lstm`, as well as our input sequences. Also, we need to one-hot encode the inputs before going into the RNN. \n"
   ]
  },
  {
   "cell_type": "code",
   "execution_count": 25,
   "metadata": {
    "collapsed": true
   },
   "outputs": [],
   "source": [
    "class CharRNN:\n",
    "    \n",
    "    def __init__(self, num_classes, batch_size=64, num_steps=50, \n",
    "                       lstm_size=128, num_layers=2, learning_rate=0.001, \n",
    "                       grad_clip=5, sampling=False):\n",
    "    \n",
    "        # When we're using this network for sampling later, we'll be passing in\n",
    "        # one character at a time, so providing an option for that\n",
    "        if sampling == True:\n",
    "            batch_size, num_steps = 1, 1\n",
    "        else:\n",
    "            batch_size, num_steps = batch_size, num_steps\n",
    "\n",
    "        tf.reset_default_graph()\n",
    "        \n",
    "        self.global_step_tensor = tf.Variable(0,trainable=False,name = \"global_step\")\n",
    "        # Build the input placeholder tensors\n",
    "        self.inputs, self.targets, self.keep_prob = build_inputs(batch_size,num_steps)\n",
    "        # Build the LSTM cell\n",
    "        cell, self.initial_state = build_lstm(lstm_size,num_layers,batch_size,self.keep_prob)\n",
    "        ### Run the data through the RNN layers\n",
    "        # First, one-hot encode the input tokens\n",
    "        x_one_hot = tf.one_hot(self.inputs,num_classes)\n",
    "        \n",
    "        # Run each sequence step through the RNN with tf.nn.dynamic_rnn \n",
    "        outputs, state = tf.nn.dynamic_rnn(cell,x_one_hot,initial_state=self.initial_state)\n",
    "        self.final_state = state\n",
    "        \n",
    "        # Get softmax predictions and logits\n",
    "        self.prediction, self.logits = build_output(outputs,lstm_size,num_classes)\n",
    "        \n",
    "        # Loss and optimizer (with gradient clipping)\n",
    "        self.loss =  build_loss(self.logits,self.targets,lstm_size,num_classes)\n",
    "        self.optimizer = build_optimizer(self.loss,learning_rate,grad_clip,self.global_step_tensor)"
   ]
  },
  {
   "cell_type": "markdown",
   "metadata": {},
   "source": [
    "## Hyperparameters\n",
    "\n",
    "Here are the hyperparameters for the network.\n",
    "\n",
    "* `batch_size` - Number of sequences running through the network in one pass.\n",
    "* `num_steps` - Number of characters in the sequence the network is trained on. Larger is better typically, the network will learn more long range dependencies. But it takes longer to train. 100 is typically a good number here.\n",
    "* `lstm_size` - The number of units in the hidden layers.\n",
    "* `num_layers` - Number of hidden LSTM layers to use\n",
    "* `learning_rate` - Learning rate for training\n",
    "* `keep_prob` - The dropout keep probability when training. If you're network is overfitting, try decreasing this.\n",
    "\n",
    "Here's some good advice from Andrej Karpathy on training the network:. \n",
    "\n",
    "> ## Tips and Tricks\n",
    "\n",
    ">### Monitoring Validation Loss vs. Training Loss\n",
    ">If you're somewhat new to Machine Learning or Neural Networks it can take a bit of expertise to get good models. The most important quantity to keep track of is the difference between your training loss (printed during training) and the validation loss (printed once in a while when the RNN is run on the validation data (by default every 1000 iterations)). In particular:\n",
    "\n",
    "> - If your training loss is much lower than validation loss then this means the network might be **overfitting**. Solutions to this are to decrease your network size, or to increase dropout. For example you could try dropout of 0.5 and so on.\n",
    "> - If your training/validation loss are about equal then your model is **underfitting**. Increase the size of your model (either number of layers or the raw number of neurons per layer)\n",
    "\n",
    "> ### Approximate number of parameters\n",
    "\n",
    "> The two most important parameters that control the model are `lstm_size` and `num_layers`. I would advise that you always use `num_layers` of either 2/3. The `lstm_size` can be adjusted based on how much data you have. The two important quantities to keep track of here are:\n",
    "\n",
    "> - The number of parameters in your model. This is printed when you start training.\n",
    "> - The size of your dataset. 1MB file is approximately 1 million characters.\n",
    "\n",
    ">These two should be about the same order of magnitude. It's a little tricky to tell. Here are some examples:\n",
    "\n",
    "> - I have a 100MB dataset and I'm using the default parameter settings (which currently print 150K parameters). My data size is significantly larger (100 mil >> 0.15 mil), so I expect to heavily underfit. I am thinking I can comfortably afford to make `lstm_size` larger.\n",
    "> - I have a 10MB dataset and running a 10 million parameter model. I'm slightly nervous and I'm carefully monitoring my validation loss. If it's larger than my training loss then I may want to try to increase dropout a bit and see if that helps the validation loss.\n",
    "\n",
    "> ### Best models strategy\n",
    "\n",
    ">The winning strategy to obtaining very good models (if you have the compute time) is to always err on making the network larger (as large as you're willing to wait for it to compute) and then try different dropout values (between 0,1). Whatever model has the best validation performance (the loss, written in the checkpoint filename, low is good) is the one you should use in the end.\n",
    "\n",
    ">It is very common in deep learning to run many different models with many different hyperparameter settings, and in the end take whatever checkpoint gave the best validation performance.\n",
    "\n",
    ">By the way, the size of your training and validation splits are also parameters. Make sure you have a decent amount of data in your validation set or otherwise the validation performance will be noisy and not very informative."
   ]
  },
  {
   "cell_type": "code",
   "execution_count": 26,
   "metadata": {
    "collapsed": true
   },
   "outputs": [],
   "source": [
    "def get_number_of_parameters():\n",
    "    total_parameters = 0\n",
    "    for variable in tf.trainable_variables():\n",
    "        shape = variable.get_shape()\n",
    "        #print(shape)\n",
    "        #print(len(shape))\n",
    "        variable_parameters = 1\n",
    "        \n",
    "        for dim in shape:\n",
    "            #print(dim)\n",
    "            variable_parameters*=dim.value\n",
    "        #print(variable_parameters)\n",
    "        total_parameters+= variable_parameters\n",
    "    return total_parameters"
   ]
  },
  {
   "cell_type": "code",
   "execution_count": 27,
   "metadata": {
    "collapsed": true
   },
   "outputs": [],
   "source": [
    "def pick_top_n(preds, vocab_size, top_n=5):\n",
    "    p = np.squeeze(preds)\n",
    "    p[np.argsort(p)[:-top_n]] = 0\n",
    "    p = p / np.sum(p)\n",
    "    c = np.random.choice(vocab_size, 1, p=p)[0]\n",
    "    return c"
   ]
  },
  {
   "cell_type": "markdown",
   "metadata": {},
   "source": [
    "## Time for training\n",
    "\n",
    "This is typical training code, passing inputs and targets into the network, then running the optimizer. Here we also get back the final LSTM state for the mini-batch. Then, we pass that state back into the network so the next batch can continue the state from the previous batch. And every so often (set by `save_every_n`) I save a checkpoint.\n",
    "\n",
    "Here I'm saving checkpoints with the format\n",
    "\n",
    "`i{iteration number}_l{# hidden layer units}.ckpt`\n"
   ]
  },
  {
   "cell_type": "code",
   "execution_count": 28,
   "metadata": {
    "collapsed": true
   },
   "outputs": [],
   "source": [
    "losses = {\"train\":[],\"validation\":[]}\n",
    "x_steps = list()"
   ]
  },
  {
   "cell_type": "code",
   "execution_count": null,
   "metadata": {
    "collapsed": true
   },
   "outputs": [],
   "source": []
  },
  {
   "cell_type": "code",
   "execution_count": 29,
   "metadata": {},
   "outputs": [
    {
     "name": "stdout",
     "output_type": "stream",
     "text": [
      "Training starting at time: 2017-09-17 23:38:56\n",
      "Number of parameters: 3411046 Dataset size: 2554270\n",
      "Epoch: 1/350...  Training Step: 1...  Training loss: 4.6277...  Val loss: 4.6187...  0.5269 sec/batch\n",
      "WARNING:tensorflow:Error encountered when serializing LAYER_NAME_UIDS.\n",
      "Type is unsupported, or the types of the items don't match field type in CollectionDef.\n",
      "'dict' object has no attribute 'name'\n",
      "Epoch: 1/350...  Training Step: 101...  Training loss: 3.1555...  Val loss: 3.1106...  0.3489 sec/batch\n",
      "Epoch: 2/350...  Training Step: 201...  Training loss: 3.1182...  Val loss: 3.0874...  0.3587 sec/batch\n",
      "Epoch: 3/350...  Training Step: 301...  Training loss: 3.0673...  Val loss: 3.0500...  0.3523 sec/batch\n",
      "Epoch: 3/350...  Training Step: 401...  Training loss: 2.9637...  Val loss: 2.9370...  0.3508 sec/batch\n",
      "Epoch: 4/350...  Training Step: 501...  Training loss: 2.8274...  Val loss: 2.7624...  0.3507 sec/batch\n",
      "WARNING:tensorflow:Error encountered when serializing LAYER_NAME_UIDS.\n",
      "Type is unsupported, or the types of the items don't match field type in CollectionDef.\n",
      "'dict' object has no attribute 'name'\n",
      "Epoch: 5/350...  Training Step: 601...  Training loss: 2.6770...  Val loss: 2.5989...  0.3761 sec/batch\n",
      "Epoch: 6/350...  Training Step: 701...  Training loss: 2.5563...  Val loss: 2.5176...  0.3625 sec/batch\n",
      "Epoch: 6/350...  Training Step: 801...  Training loss: 2.5076...  Val loss: 2.4648...  0.3653 sec/batch\n",
      "Epoch: 7/350...  Training Step: 901...  Training loss: 2.4578...  Val loss: 2.4237...  0.3514 sec/batch\n",
      "Epoch: 8/350...  Training Step: 1001...  Training loss: 2.4232...  Val loss: 2.3838...  0.3530 sec/batch\n",
      "WARNING:tensorflow:Error encountered when serializing LAYER_NAME_UIDS.\n",
      "Type is unsupported, or the types of the items don't match field type in CollectionDef.\n",
      "'dict' object has no attribute 'name'\n",
      "Epoch: 9/350...  Training Step: 1101...  Training loss: 2.3837...  Val loss: 2.3497...  0.3528 sec/batch\n",
      "Epoch: 9/350...  Training Step: 1201...  Training loss: 2.3498...  Val loss: 2.3274...  0.3525 sec/batch\n",
      "Epoch: 10/350...  Training Step: 1301...  Training loss: 2.3131...  Val loss: 2.3014...  0.3517 sec/batch\n",
      "Epoch 10/350 time:48.15821695327759...  finished at 2017-09-17 23:47:03\n",
      "Epoch: 11/350...  Training Step: 1401...  Training loss: 2.3199...  Val loss: 2.2725...  0.3535 sec/batch\n",
      "Epoch: 12/350...  Training Step: 1501...  Training loss: 2.2867...  Val loss: 2.2487...  0.3521 sec/batch\n",
      "WARNING:tensorflow:Error encountered when serializing LAYER_NAME_UIDS.\n",
      "Type is unsupported, or the types of the items don't match field type in CollectionDef.\n",
      "'dict' object has no attribute 'name'\n",
      "Epoch: 12/350...  Training Step: 1601...  Training loss: 2.2522...  Val loss: 2.2303...  0.3738 sec/batch\n",
      "Epoch: 13/350...  Training Step: 1701...  Training loss: 2.2638...  Val loss: 2.2066...  0.3537 sec/batch\n",
      "Epoch: 14/350...  Training Step: 1801...  Training loss: 2.2225...  Val loss: 2.1859...  0.3516 sec/batch\n",
      "Epoch: 14/350...  Training Step: 1901...  Training loss: 2.2209...  Val loss: 2.1654...  0.3522 sec/batch\n",
      "Epoch: 15/350...  Training Step: 2001...  Training loss: 2.1605...  Val loss: 2.1484...  0.3539 sec/batch\n",
      "WARNING:tensorflow:Error encountered when serializing LAYER_NAME_UIDS.\n",
      "Type is unsupported, or the types of the items don't match field type in CollectionDef.\n",
      "'dict' object has no attribute 'name'\n",
      "Epoch: 16/350...  Training Step: 2101...  Training loss: 2.1708...  Val loss: 2.1277...  0.3554 sec/batch\n",
      "Epoch: 17/350...  Training Step: 2201...  Training loss: 2.1232...  Val loss: 2.1093...  0.3577 sec/batch\n",
      "Epoch: 17/350...  Training Step: 2301...  Training loss: 2.1345...  Val loss: 2.0920...  0.3518 sec/batch\n",
      "Epoch: 18/350...  Training Step: 2401...  Training loss: 2.1024...  Val loss: 2.0770...  0.3569 sec/batch\n",
      "Epoch: 19/350...  Training Step: 2501...  Training loss: 2.0722...  Val loss: 2.0592...  0.3514 sec/batch\n",
      "WARNING:tensorflow:Error encountered when serializing LAYER_NAME_UIDS.\n",
      "Type is unsupported, or the types of the items don't match field type in CollectionDef.\n",
      "'dict' object has no attribute 'name'\n",
      "Epoch: 20/350...  Training Step: 2601...  Training loss: 2.0633...  Val loss: 2.0438...  0.3547 sec/batch\n",
      "Epoch: 20/350...  Training Step: 2701...  Training loss: 2.0580...  Val loss: 2.0287...  0.3531 sec/batch\n",
      "Epoch 20/350 time:48.394155979156494...  finished at 2017-09-17 23:55:07\n",
      "Epoch: 21/350...  Training Step: 2801...  Training loss: 2.0703...  Val loss: 2.0139...  0.3598 sec/batch\n",
      "Epoch: 22/350...  Training Step: 2901...  Training loss: 2.0436...  Val loss: 1.9992...  0.3558 sec/batch\n",
      "Epoch: 23/350...  Training Step: 3001...  Training loss: 2.0179...  Val loss: 1.9822...  0.3518 sec/batch\n",
      "WARNING:tensorflow:Error encountered when serializing LAYER_NAME_UIDS.\n",
      "Type is unsupported, or the types of the items don't match field type in CollectionDef.\n",
      "'dict' object has no attribute 'name'\n",
      "Epoch: 23/350...  Training Step: 3101...  Training loss: 1.9869...  Val loss: 1.9721...  0.3523 sec/batch\n",
      "Epoch: 24/350...  Training Step: 3201...  Training loss: 2.0093...  Val loss: 1.9581...  0.3534 sec/batch\n",
      "Epoch: 25/350...  Training Step: 3301...  Training loss: 1.9781...  Val loss: 1.9463...  0.3529 sec/batch\n",
      "Epoch: 26/350...  Training Step: 3401...  Training loss: 2.0264...  Val loss: 1.9337...  0.3516 sec/batch\n",
      "Epoch: 26/350...  Training Step: 3501...  Training loss: 1.9506...  Val loss: 1.9235...  0.3734 sec/batch\n",
      "WARNING:tensorflow:Error encountered when serializing LAYER_NAME_UIDS.\n",
      "Type is unsupported, or the types of the items don't match field type in CollectionDef.\n",
      "'dict' object has no attribute 'name'\n",
      "Epoch: 27/350...  Training Step: 3601...  Training loss: 1.9485...  Val loss: 1.9090...  0.3531 sec/batch\n",
      "Epoch: 28/350...  Training Step: 3701...  Training loss: 1.9202...  Val loss: 1.8938...  0.3516 sec/batch\n",
      "Epoch: 28/350...  Training Step: 3801...  Training loss: 1.9236...  Val loss: 1.8882...  0.3530 sec/batch\n",
      "Epoch: 29/350...  Training Step: 3901...  Training loss: 1.8946...  Val loss: 1.8780...  0.3900 sec/batch\n",
      "Epoch: 30/350...  Training Step: 4001...  Training loss: 1.8953...  Val loss: 1.8640...  0.3559 sec/batch\n",
      "WARNING:tensorflow:Error encountered when serializing LAYER_NAME_UIDS.\n",
      "Type is unsupported, or the types of the items don't match field type in CollectionDef.\n",
      "'dict' object has no attribute 'name'\n",
      "Epoch 30/350 time:48.72601342201233...  finished at 2017-09-18 00:03:12\n",
      "Epoch: 31/350...  Training Step: 4101...  Training loss: 1.8733...  Val loss: 1.8537...  0.3529 sec/batch\n",
      "Epoch: 31/350...  Training Step: 4201...  Training loss: 1.8781...  Val loss: 1.8474...  0.3526 sec/batch\n",
      "Epoch: 32/350...  Training Step: 4301...  Training loss: 1.8844...  Val loss: 1.8364...  0.3533 sec/batch\n",
      "Epoch: 33/350...  Training Step: 4401...  Training loss: 1.8560...  Val loss: 1.8220...  0.3515 sec/batch\n",
      "Epoch: 34/350...  Training Step: 4501...  Training loss: 1.8473...  Val loss: 1.8163...  0.3521 sec/batch\n",
      "WARNING:tensorflow:Error encountered when serializing LAYER_NAME_UIDS.\n",
      "Type is unsupported, or the types of the items don't match field type in CollectionDef.\n",
      "'dict' object has no attribute 'name'\n",
      "Epoch: 34/350...  Training Step: 4601...  Training loss: 1.8266...  Val loss: 1.8088...  0.3516 sec/batch\n",
      "Epoch: 35/350...  Training Step: 4701...  Training loss: 1.8260...  Val loss: 1.7970...  0.3671 sec/batch\n",
      "Epoch: 36/350...  Training Step: 4801...  Training loss: 1.8241...  Val loss: 1.7888...  0.3526 sec/batch\n",
      "Epoch: 37/350...  Training Step: 4901...  Training loss: 1.7994...  Val loss: 1.7758...  0.3519 sec/batch\n",
      "Epoch: 37/350...  Training Step: 5001...  Training loss: 1.7868...  Val loss: 1.7712...  0.3658 sec/batch\n",
      "WARNING:tensorflow:Error encountered when serializing LAYER_NAME_UIDS.\n",
      "Type is unsupported, or the types of the items don't match field type in CollectionDef.\n",
      "'dict' object has no attribute 'name'\n",
      "Epoch: 38/350...  Training Step: 5101...  Training loss: 1.8228...  Val loss: 1.7629...  0.3514 sec/batch\n",
      "Epoch: 39/350...  Training Step: 5201...  Training loss: 1.7954...  Val loss: 1.7566...  0.3551 sec/batch\n",
      "Epoch: 39/350...  Training Step: 5301...  Training loss: 1.8067...  Val loss: 1.7473...  0.3518 sec/batch\n",
      "Epoch: 40/350...  Training Step: 5401...  Training loss: 1.7608...  Val loss: 1.7421...  0.3525 sec/batch\n"
     ]
    },
    {
     "name": "stdout",
     "output_type": "stream",
     "text": [
      "Epoch 40/350 time:47.98710083961487...  finished at 2017-09-18 00:11:16\n",
      "Epoch: 41/350...  Training Step: 5501...  Training loss: 1.7618...  Val loss: 1.7328...  0.3520 sec/batch\n",
      "WARNING:tensorflow:Error encountered when serializing LAYER_NAME_UIDS.\n",
      "Type is unsupported, or the types of the items don't match field type in CollectionDef.\n",
      "'dict' object has no attribute 'name'\n",
      "Epoch: 42/350...  Training Step: 5601...  Training loss: 1.7452...  Val loss: 1.7245...  0.3698 sec/batch\n",
      "Epoch: 42/350...  Training Step: 5701...  Training loss: 1.7715...  Val loss: 1.7169...  0.3516 sec/batch\n",
      "Epoch: 43/350...  Training Step: 5801...  Training loss: 1.7460...  Val loss: 1.7162...  0.3520 sec/batch\n",
      "Epoch: 44/350...  Training Step: 5901...  Training loss: 1.7167...  Val loss: 1.7012...  0.3704 sec/batch\n",
      "Epoch: 45/350...  Training Step: 6001...  Training loss: 1.7101...  Val loss: 1.6969...  0.3525 sec/batch\n",
      "WARNING:tensorflow:Error encountered when serializing LAYER_NAME_UIDS.\n",
      "Type is unsupported, or the types of the items don't match field type in CollectionDef.\n",
      "'dict' object has no attribute 'name'\n",
      "Epoch: 45/350...  Training Step: 6101...  Training loss: 1.7259...  Val loss: 1.6927...  0.3520 sec/batch\n",
      "Epoch: 46/350...  Training Step: 6201...  Training loss: 1.7420...  Val loss: 1.6858...  0.3531 sec/batch\n",
      "Epoch: 47/350...  Training Step: 6301...  Training loss: 1.7372...  Val loss: 1.6794...  0.3515 sec/batch\n",
      "Epoch: 48/350...  Training Step: 6401...  Training loss: 1.7137...  Val loss: 1.6716...  0.3528 sec/batch\n",
      "Epoch: 48/350...  Training Step: 6501...  Training loss: 1.6802...  Val loss: 1.6671...  0.3515 sec/batch\n",
      "WARNING:tensorflow:Error encountered when serializing LAYER_NAME_UIDS.\n",
      "Type is unsupported, or the types of the items don't match field type in CollectionDef.\n",
      "'dict' object has no attribute 'name'\n",
      "Epoch: 49/350...  Training Step: 6601...  Training loss: 1.7094...  Val loss: 1.6602...  0.3526 sec/batch\n",
      "Epoch: 50/350...  Training Step: 6701...  Training loss: 1.6966...  Val loss: 1.6546...  0.3530 sec/batch\n",
      "Epoch 50/350 time:48.30533146858215...  finished at 2017-09-18 00:19:20\n",
      "Epoch: 51/350...  Training Step: 6801...  Training loss: 1.7337...  Val loss: 1.6503...  0.3514 sec/batch\n",
      "Epoch: 51/350...  Training Step: 6901...  Training loss: 1.6877...  Val loss: 1.6510...  0.3527 sec/batch\n",
      "Epoch: 52/350...  Training Step: 7001...  Training loss: 1.6758...  Val loss: 1.6423...  0.3514 sec/batch\n",
      "WARNING:tensorflow:Error encountered when serializing LAYER_NAME_UIDS.\n",
      "Type is unsupported, or the types of the items don't match field type in CollectionDef.\n",
      "'dict' object has no attribute 'name'\n",
      "Epoch: 53/350...  Training Step: 7101...  Training loss: 1.6497...  Val loss: 1.6338...  0.3518 sec/batch\n",
      "Epoch: 53/350...  Training Step: 7201...  Training loss: 1.6768...  Val loss: 1.6302...  0.3512 sec/batch\n",
      "Epoch: 54/350...  Training Step: 7301...  Training loss: 1.6427...  Val loss: 1.6261...  0.3516 sec/batch\n",
      "Epoch: 55/350...  Training Step: 7401...  Training loss: 1.6483...  Val loss: 1.6174...  0.3515 sec/batch\n",
      "Epoch: 56/350...  Training Step: 7501...  Training loss: 1.6398...  Val loss: 1.6166...  0.3521 sec/batch\n",
      "WARNING:tensorflow:Error encountered when serializing LAYER_NAME_UIDS.\n",
      "Type is unsupported, or the types of the items don't match field type in CollectionDef.\n",
      "'dict' object has no attribute 'name'\n",
      "Epoch: 56/350...  Training Step: 7601...  Training loss: 1.6426...  Val loss: 1.6116...  0.3530 sec/batch\n",
      "Epoch: 57/350...  Training Step: 7701...  Training loss: 1.6603...  Val loss: 1.6091...  0.3522 sec/batch\n",
      "Epoch: 58/350...  Training Step: 7801...  Training loss: 1.6357...  Val loss: 1.5988...  0.3515 sec/batch\n",
      "Epoch: 59/350...  Training Step: 7901...  Training loss: 1.6252...  Val loss: 1.5963...  0.3525 sec/batch\n",
      "Epoch: 59/350...  Training Step: 8001...  Training loss: 1.6162...  Val loss: 1.5939...  0.3515 sec/batch\n",
      "WARNING:tensorflow:Error encountered when serializing LAYER_NAME_UIDS.\n",
      "Type is unsupported, or the types of the items don't match field type in CollectionDef.\n",
      "'dict' object has no attribute 'name'\n",
      "Epoch: 60/350...  Training Step: 8101...  Training loss: 1.6186...  Val loss: 1.5916...  0.3520 sec/batch\n",
      "Epoch 60/350 time:48.03118968009949...  finished at 2017-09-18 00:27:22\n",
      "Epoch: 61/350...  Training Step: 8201...  Training loss: 1.6316...  Val loss: 1.5857...  0.3533 sec/batch\n",
      "Epoch: 62/350...  Training Step: 8301...  Training loss: 1.5946...  Val loss: 1.5778...  0.3526 sec/batch\n",
      "Epoch: 62/350...  Training Step: 8401...  Training loss: 1.5873...  Val loss: 1.5794...  0.3516 sec/batch\n",
      "Epoch: 63/350...  Training Step: 8501...  Training loss: 1.6308...  Val loss: 1.5780...  0.3521 sec/batch\n",
      "WARNING:tensorflow:Error encountered when serializing LAYER_NAME_UIDS.\n",
      "Type is unsupported, or the types of the items don't match field type in CollectionDef.\n",
      "'dict' object has no attribute 'name'\n",
      "Epoch: 64/350...  Training Step: 8601...  Training loss: 1.6021...  Val loss: 1.5785...  0.3520 sec/batch\n",
      "Epoch: 64/350...  Training Step: 8701...  Training loss: 1.6133...  Val loss: 1.5660...  0.3527 sec/batch\n",
      "Epoch: 65/350...  Training Step: 8801...  Training loss: 1.5794...  Val loss: 1.5660...  0.3558 sec/batch\n",
      "Epoch: 66/350...  Training Step: 8901...  Training loss: 1.5968...  Val loss: 1.5685...  0.3524 sec/batch\n",
      "Epoch: 67/350...  Training Step: 9001...  Training loss: 1.5741...  Val loss: 1.5580...  0.3517 sec/batch\n",
      "WARNING:tensorflow:Error encountered when serializing LAYER_NAME_UIDS.\n",
      "Type is unsupported, or the types of the items don't match field type in CollectionDef.\n",
      "'dict' object has no attribute 'name'\n",
      "Epoch: 67/350...  Training Step: 9101...  Training loss: 1.6050...  Val loss: 1.5575...  0.3519 sec/batch\n",
      "Epoch: 68/350...  Training Step: 9201...  Training loss: 1.5758...  Val loss: 1.5541...  0.3519 sec/batch\n",
      "Epoch: 69/350...  Training Step: 9301...  Training loss: 1.5571...  Val loss: 1.5515...  0.3522 sec/batch\n",
      "Epoch: 70/350...  Training Step: 9401...  Training loss: 1.5477...  Val loss: 1.5479...  0.3519 sec/batch\n",
      "Epoch: 70/350...  Training Step: 9501...  Training loss: 1.5699...  Val loss: 1.5440...  0.3662 sec/batch\n",
      "WARNING:tensorflow:Error encountered when serializing LAYER_NAME_UIDS.\n",
      "Type is unsupported, or the types of the items don't match field type in CollectionDef.\n",
      "'dict' object has no attribute 'name'\n",
      "Epoch 70/350 time:49.64822506904602...  finished at 2017-09-18 00:35:26\n",
      "Epoch: 71/350...  Training Step: 9601...  Training loss: 1.5865...  Val loss: 1.5427...  0.3655 sec/batch\n",
      "Epoch: 72/350...  Training Step: 9701...  Training loss: 1.5799...  Val loss: 1.5384...  0.3648 sec/batch\n",
      "Epoch: 73/350...  Training Step: 9801...  Training loss: 1.5769...  Val loss: 1.5369...  0.3531 sec/batch\n",
      "Epoch: 73/350...  Training Step: 9901...  Training loss: 1.5417...  Val loss: 1.5403...  0.3518 sec/batch\n",
      "Epoch: 74/350...  Training Step: 10001...  Training loss: 1.5712...  Val loss: 1.5300...  0.3526 sec/batch\n",
      "WARNING:tensorflow:Error encountered when serializing LAYER_NAME_UIDS.\n",
      "Type is unsupported, or the types of the items don't match field type in CollectionDef.\n",
      "'dict' object has no attribute 'name'\n",
      "Epoch: 75/350...  Training Step: 10101...  Training loss: 1.5528...  Val loss: 1.5284...  0.3651 sec/batch\n",
      "Epoch: 76/350...  Training Step: 10201...  Training loss: 1.5987...  Val loss: 1.5268...  0.3523 sec/batch\n",
      "Epoch: 76/350...  Training Step: 10301...  Training loss: 1.5529...  Val loss: 1.5264...  0.3522 sec/batch\n",
      "Epoch: 77/350...  Training Step: 10401...  Training loss: 1.5465...  Val loss: 1.5247...  0.3517 sec/batch\n",
      "Epoch: 78/350...  Training Step: 10501...  Training loss: 1.5235...  Val loss: 1.5204...  0.3521 sec/batch\n",
      "WARNING:tensorflow:Error encountered when serializing LAYER_NAME_UIDS.\n",
      "Type is unsupported, or the types of the items don't match field type in CollectionDef.\n",
      "'dict' object has no attribute 'name'\n",
      "Epoch: 78/350...  Training Step: 10601...  Training loss: 1.5490...  Val loss: 1.5150...  0.3520 sec/batch\n",
      "Epoch: 79/350...  Training Step: 10701...  Training loss: 1.5255...  Val loss: 1.5136...  0.3563 sec/batch\n",
      "Epoch: 80/350...  Training Step: 10801...  Training loss: 1.5221...  Val loss: 1.5125...  0.3603 sec/batch\n",
      "Epoch 80/350 time:48.58170437812805...  finished at 2017-09-18 00:43:36\n"
     ]
    },
    {
     "name": "stdout",
     "output_type": "stream",
     "text": [
      "Epoch: 81/350...  Training Step: 10901...  Training loss: 1.5249...  Val loss: 1.5118...  0.3662 sec/batch\n",
      "Epoch: 81/350...  Training Step: 11001...  Training loss: 1.5214...  Val loss: 1.5068...  0.3527 sec/batch\n",
      "WARNING:tensorflow:Error encountered when serializing LAYER_NAME_UIDS.\n",
      "Type is unsupported, or the types of the items don't match field type in CollectionDef.\n",
      "'dict' object has no attribute 'name'\n",
      "Epoch: 82/350...  Training Step: 11101...  Training loss: 1.5429...  Val loss: 1.5022...  0.3682 sec/batch\n",
      "Epoch: 83/350...  Training Step: 11201...  Training loss: 1.5189...  Val loss: 1.4982...  0.3648 sec/batch\n",
      "Epoch: 84/350...  Training Step: 11301...  Training loss: 1.5130...  Val loss: 1.5010...  0.3606 sec/batch\n",
      "Epoch: 84/350...  Training Step: 11401...  Training loss: 1.5022...  Val loss: 1.4975...  0.3612 sec/batch\n",
      "Epoch: 85/350...  Training Step: 11501...  Training loss: 1.5149...  Val loss: 1.4968...  0.3520 sec/batch\n",
      "WARNING:tensorflow:Error encountered when serializing LAYER_NAME_UIDS.\n",
      "Type is unsupported, or the types of the items don't match field type in CollectionDef.\n",
      "'dict' object has no attribute 'name'\n",
      "Epoch: 86/350...  Training Step: 11601...  Training loss: 1.5203...  Val loss: 1.4954...  0.3563 sec/batch\n",
      "Epoch: 87/350...  Training Step: 11701...  Training loss: 1.4869...  Val loss: 1.4841...  0.3546 sec/batch\n",
      "Epoch: 87/350...  Training Step: 11801...  Training loss: 1.4719...  Val loss: 1.4917...  0.3550 sec/batch\n",
      "Epoch: 88/350...  Training Step: 11901...  Training loss: 1.5194...  Val loss: 1.4901...  0.3753 sec/batch\n",
      "Epoch: 89/350...  Training Step: 12001...  Training loss: 1.5008...  Val loss: 1.4855...  0.5019 sec/batch\n",
      "WARNING:tensorflow:Error encountered when serializing LAYER_NAME_UIDS.\n",
      "Type is unsupported, or the types of the items don't match field type in CollectionDef.\n",
      "'dict' object has no attribute 'name'\n",
      "Epoch: 89/350...  Training Step: 12101...  Training loss: 1.5119...  Val loss: 1.4861...  0.3629 sec/batch\n",
      "Epoch: 90/350...  Training Step: 12201...  Training loss: 1.4762...  Val loss: 1.4837...  0.3647 sec/batch\n",
      "Epoch 90/350 time:50.27707028388977...  finished at 2017-09-18 00:51:54\n",
      "Epoch: 91/350...  Training Step: 12301...  Training loss: 1.4947...  Val loss: 1.4854...  0.3663 sec/batch\n",
      "Epoch: 92/350...  Training Step: 12401...  Training loss: 1.4855...  Val loss: 1.4833...  0.3683 sec/batch\n",
      "Epoch: 92/350...  Training Step: 12501...  Training loss: 1.5059...  Val loss: 1.4774...  0.3648 sec/batch\n",
      "WARNING:tensorflow:Error encountered when serializing LAYER_NAME_UIDS.\n",
      "Type is unsupported, or the types of the items don't match field type in CollectionDef.\n",
      "'dict' object has no attribute 'name'\n",
      "Epoch: 93/350...  Training Step: 12601...  Training loss: 1.4799...  Val loss: 1.4843...  0.3722 sec/batch\n",
      "Epoch: 94/350...  Training Step: 12701...  Training loss: 1.4586...  Val loss: 1.4766...  0.3537 sec/batch\n",
      "Epoch: 95/350...  Training Step: 12801...  Training loss: 1.4586...  Val loss: 1.4752...  0.3529 sec/batch\n",
      "Epoch: 95/350...  Training Step: 12901...  Training loss: 1.4722...  Val loss: 1.4736...  0.3540 sec/batch\n",
      "Epoch: 96/350...  Training Step: 13001...  Training loss: 1.4906...  Val loss: 1.4727...  0.3659 sec/batch\n",
      "WARNING:tensorflow:Error encountered when serializing LAYER_NAME_UIDS.\n",
      "Type is unsupported, or the types of the items don't match field type in CollectionDef.\n",
      "'dict' object has no attribute 'name'\n",
      "Epoch: 97/350...  Training Step: 13101...  Training loss: 1.5012...  Val loss: 1.4738...  0.3519 sec/batch\n",
      "Epoch: 98/350...  Training Step: 13201...  Training loss: 1.4861...  Val loss: 1.4671...  0.3575 sec/batch\n",
      "Epoch: 98/350...  Training Step: 13301...  Training loss: 1.4535...  Val loss: 1.4691...  0.3524 sec/batch\n",
      "Epoch: 99/350...  Training Step: 13401...  Training loss: 1.4856...  Val loss: 1.4665...  0.3556 sec/batch\n",
      "Epoch: 100/350...  Training Step: 13501...  Training loss: 1.4709...  Val loss: 1.4622...  0.3517 sec/batch\n",
      "WARNING:tensorflow:Error encountered when serializing LAYER_NAME_UIDS.\n",
      "Type is unsupported, or the types of the items don't match field type in CollectionDef.\n",
      "'dict' object has no attribute 'name'\n",
      "Epoch 100/350 time:48.35516095161438...  finished at 2017-09-18 01:00:03\n",
      "Epoch: 101/350...  Training Step: 13601...  Training loss: 1.5185...  Val loss: 1.4624...  0.3830 sec/batch\n",
      "Epoch: 101/350...  Training Step: 13701...  Training loss: 1.4719...  Val loss: 1.4638...  0.3537 sec/batch\n",
      "Epoch: 102/350...  Training Step: 13801...  Training loss: 1.4627...  Val loss: 1.4689...  0.3730 sec/batch\n",
      "Epoch: 103/350...  Training Step: 13901...  Training loss: 1.4403...  Val loss: 1.4607...  0.3529 sec/batch\n",
      "Epoch: 103/350...  Training Step: 14001...  Training loss: 1.4797...  Val loss: 1.4621...  0.3551 sec/batch\n",
      "WARNING:tensorflow:Error encountered when serializing LAYER_NAME_UIDS.\n",
      "Type is unsupported, or the types of the items don't match field type in CollectionDef.\n",
      "'dict' object has no attribute 'name'\n",
      "Epoch: 104/350...  Training Step: 14101...  Training loss: 1.4468...  Val loss: 1.4606...  0.3528 sec/batch\n",
      "Epoch: 105/350...  Training Step: 14201...  Training loss: 1.4484...  Val loss: 1.4611...  0.3536 sec/batch\n",
      "Epoch: 106/350...  Training Step: 14301...  Training loss: 1.4478...  Val loss: 1.4545...  0.3522 sec/batch\n",
      "Epoch: 106/350...  Training Step: 14401...  Training loss: 1.4473...  Val loss: 1.4544...  0.3550 sec/batch\n",
      "Epoch: 107/350...  Training Step: 14501...  Training loss: 1.4619...  Val loss: 1.4507...  0.3532 sec/batch\n",
      "WARNING:tensorflow:Error encountered when serializing LAYER_NAME_UIDS.\n",
      "Type is unsupported, or the types of the items don't match field type in CollectionDef.\n",
      "'dict' object has no attribute 'name'\n",
      "Epoch: 108/350...  Training Step: 14601...  Training loss: 1.4473...  Val loss: 1.4449...  0.3539 sec/batch\n",
      "Epoch: 109/350...  Training Step: 14701...  Training loss: 1.4455...  Val loss: 1.4510...  0.3533 sec/batch\n",
      "Epoch: 109/350...  Training Step: 14801...  Training loss: 1.4327...  Val loss: 1.4467...  0.3520 sec/batch\n",
      "Epoch: 110/350...  Training Step: 14901...  Training loss: 1.4465...  Val loss: 1.4455...  0.3660 sec/batch\n",
      "Epoch 110/350 time:49.74325203895569...  finished at 2017-09-18 01:08:16\n",
      "Epoch: 111/350...  Training Step: 15001...  Training loss: 1.4498...  Val loss: 1.4474...  0.3714 sec/batch\n",
      "WARNING:tensorflow:Error encountered when serializing LAYER_NAME_UIDS.\n",
      "Type is unsupported, or the types of the items don't match field type in CollectionDef.\n",
      "'dict' object has no attribute 'name'\n",
      "Epoch: 112/350...  Training Step: 15101...  Training loss: 1.4324...  Val loss: 1.4419...  0.3751 sec/batch\n",
      "Epoch: 112/350...  Training Step: 15201...  Training loss: 1.4099...  Val loss: 1.4444...  0.3528 sec/batch\n",
      "Epoch: 113/350...  Training Step: 15301...  Training loss: 1.4595...  Val loss: 1.4458...  0.3716 sec/batch\n",
      "Epoch: 114/350...  Training Step: 15401...  Training loss: 1.4225...  Val loss: 1.4463...  0.3537 sec/batch\n",
      "Epoch: 114/350...  Training Step: 15501...  Training loss: 1.4496...  Val loss: 1.4428...  0.3612 sec/batch\n",
      "WARNING:tensorflow:Error encountered when serializing LAYER_NAME_UIDS.\n",
      "Type is unsupported, or the types of the items don't match field type in CollectionDef.\n",
      "'dict' object has no attribute 'name'\n",
      "Epoch: 115/350...  Training Step: 15601...  Training loss: 1.4214...  Val loss: 1.4391...  0.3540 sec/batch\n",
      "Epoch: 116/350...  Training Step: 15701...  Training loss: 1.4384...  Val loss: 1.4458...  0.3688 sec/batch\n",
      "Epoch: 117/350...  Training Step: 15801...  Training loss: 1.4125...  Val loss: 1.4357...  0.3564 sec/batch\n",
      "Epoch: 117/350...  Training Step: 15901...  Training loss: 1.4397...  Val loss: 1.4352...  0.3531 sec/batch\n",
      "Epoch: 118/350...  Training Step: 16001...  Training loss: 1.4235...  Val loss: 1.4380...  0.3521 sec/batch\n",
      "WARNING:tensorflow:Error encountered when serializing LAYER_NAME_UIDS.\n",
      "Type is unsupported, or the types of the items don't match field type in CollectionDef.\n",
      "'dict' object has no attribute 'name'\n",
      "Epoch: 119/350...  Training Step: 16101...  Training loss: 1.3980...  Val loss: 1.4374...  0.3538 sec/batch\n",
      "Epoch: 120/350...  Training Step: 16201...  Training loss: 1.4032...  Val loss: 1.4366...  0.3525 sec/batch\n",
      "Epoch: 120/350...  Training Step: 16301...  Training loss: 1.4236...  Val loss: 1.4337...  0.3519 sec/batch\n"
     ]
    },
    {
     "name": "stdout",
     "output_type": "stream",
     "text": [
      "Epoch 120/350 time:48.28437399864197...  finished at 2017-09-18 01:16:26\n",
      "Epoch: 121/350...  Training Step: 16401...  Training loss: 1.4353...  Val loss: 1.4321...  0.3519 sec/batch\n",
      "Epoch: 122/350...  Training Step: 16501...  Training loss: 1.4369...  Val loss: 1.4440...  0.3535 sec/batch\n",
      "WARNING:tensorflow:Error encountered when serializing LAYER_NAME_UIDS.\n",
      "Type is unsupported, or the types of the items don't match field type in CollectionDef.\n",
      "'dict' object has no attribute 'name'\n",
      "Epoch: 123/350...  Training Step: 16601...  Training loss: 1.4318...  Val loss: 1.4272...  0.3532 sec/batch\n",
      "Epoch: 123/350...  Training Step: 16701...  Training loss: 1.3924...  Val loss: 1.4336...  0.3536 sec/batch\n",
      "Epoch: 124/350...  Training Step: 16801...  Training loss: 1.4350...  Val loss: 1.4329...  0.3544 sec/batch\n",
      "Epoch: 125/350...  Training Step: 16901...  Training loss: 1.4166...  Val loss: 1.4263...  0.3516 sec/batch\n",
      "Epoch: 126/350...  Training Step: 17001...  Training loss: 1.4694...  Val loss: 1.4306...  0.3530 sec/batch\n",
      "WARNING:tensorflow:Error encountered when serializing LAYER_NAME_UIDS.\n",
      "Type is unsupported, or the types of the items don't match field type in CollectionDef.\n",
      "'dict' object has no attribute 'name'\n",
      "Epoch: 126/350...  Training Step: 17101...  Training loss: 1.4226...  Val loss: 1.4319...  0.3718 sec/batch\n",
      "Epoch: 127/350...  Training Step: 17201...  Training loss: 1.4138...  Val loss: 1.4286...  0.3514 sec/batch\n",
      "Epoch: 128/350...  Training Step: 17301...  Training loss: 1.3884...  Val loss: 1.4304...  0.3562 sec/batch\n",
      "Epoch: 128/350...  Training Step: 17401...  Training loss: 1.4283...  Val loss: 1.4287...  0.3610 sec/batch\n",
      "Epoch: 129/350...  Training Step: 17501...  Training loss: 1.3950...  Val loss: 1.4289...  0.3538 sec/batch\n",
      "WARNING:tensorflow:Error encountered when serializing LAYER_NAME_UIDS.\n",
      "Type is unsupported, or the types of the items don't match field type in CollectionDef.\n",
      "'dict' object has no attribute 'name'\n",
      "Epoch: 130/350...  Training Step: 17601...  Training loss: 1.4009...  Val loss: 1.4274...  0.3540 sec/batch\n",
      "Epoch 130/350 time:48.281957387924194...  finished at 2017-09-18 01:24:32\n",
      "Epoch: 131/350...  Training Step: 17701...  Training loss: 1.4027...  Val loss: 1.4253...  0.3553 sec/batch\n",
      "Epoch: 131/350...  Training Step: 17801...  Training loss: 1.4063...  Val loss: 1.4236...  0.3516 sec/batch\n",
      "Epoch: 132/350...  Training Step: 17901...  Training loss: 1.4129...  Val loss: 1.4245...  0.3533 sec/batch\n",
      "Epoch: 133/350...  Training Step: 18001...  Training loss: 1.3966...  Val loss: 1.4220...  0.3518 sec/batch\n",
      "WARNING:tensorflow:Error encountered when serializing LAYER_NAME_UIDS.\n",
      "Type is unsupported, or the types of the items don't match field type in CollectionDef.\n",
      "'dict' object has no attribute 'name'\n",
      "Epoch: 134/350...  Training Step: 18101...  Training loss: 1.4034...  Val loss: 1.4203...  0.3539 sec/batch\n",
      "Epoch: 134/350...  Training Step: 18201...  Training loss: 1.3915...  Val loss: 1.4186...  0.3520 sec/batch\n",
      "Epoch: 135/350...  Training Step: 18301...  Training loss: 1.4060...  Val loss: 1.4161...  0.3538 sec/batch\n",
      "Epoch: 136/350...  Training Step: 18401...  Training loss: 1.4062...  Val loss: 1.4220...  0.3523 sec/batch\n",
      "Epoch: 137/350...  Training Step: 18501...  Training loss: 1.3823...  Val loss: 1.4142...  0.3523 sec/batch\n",
      "WARNING:tensorflow:Error encountered when serializing LAYER_NAME_UIDS.\n",
      "Type is unsupported, or the types of the items don't match field type in CollectionDef.\n",
      "'dict' object has no attribute 'name'\n",
      "Epoch: 137/350...  Training Step: 18601...  Training loss: 1.3722...  Val loss: 1.4176...  0.3538 sec/batch\n",
      "Epoch: 138/350...  Training Step: 18701...  Training loss: 1.4161...  Val loss: 1.4162...  0.3544 sec/batch\n",
      "Epoch: 139/350...  Training Step: 18801...  Training loss: 1.3827...  Val loss: 1.4202...  0.3526 sec/batch\n",
      "Epoch: 139/350...  Training Step: 18901...  Training loss: 1.4049...  Val loss: 1.4138...  0.3535 sec/batch\n",
      "Epoch: 140/350...  Training Step: 19001...  Training loss: 1.3796...  Val loss: 1.4166...  0.3591 sec/batch\n",
      "WARNING:tensorflow:Error encountered when serializing LAYER_NAME_UIDS.\n",
      "Type is unsupported, or the types of the items don't match field type in CollectionDef.\n",
      "'dict' object has no attribute 'name'\n",
      "Epoch 140/350 time:48.452454805374146...  finished at 2017-09-18 01:32:35\n",
      "Epoch: 141/350...  Training Step: 19101...  Training loss: 1.4045...  Val loss: 1.4235...  0.3660 sec/batch\n",
      "Epoch: 142/350...  Training Step: 19201...  Training loss: 1.3702...  Val loss: 1.4119...  0.3526 sec/batch\n",
      "Epoch: 142/350...  Training Step: 19301...  Training loss: 1.3972...  Val loss: 1.4127...  0.3527 sec/batch\n",
      "Epoch: 143/350...  Training Step: 19401...  Training loss: 1.3753...  Val loss: 1.4145...  0.3734 sec/batch\n",
      "Epoch: 144/350...  Training Step: 19501...  Training loss: 1.3696...  Val loss: 1.4111...  0.3543 sec/batch\n",
      "WARNING:tensorflow:Error encountered when serializing LAYER_NAME_UIDS.\n",
      "Type is unsupported, or the types of the items don't match field type in CollectionDef.\n",
      "'dict' object has no attribute 'name'\n",
      "Epoch: 145/350...  Training Step: 19601...  Training loss: 1.3584...  Val loss: 1.4111...  0.3845 sec/batch\n",
      "Epoch: 145/350...  Training Step: 19701...  Training loss: 1.3859...  Val loss: 1.4118...  0.3535 sec/batch\n",
      "Epoch: 146/350...  Training Step: 19801...  Training loss: 1.3982...  Val loss: 1.4107...  0.3521 sec/batch\n",
      "Epoch: 147/350...  Training Step: 19901...  Training loss: 1.4002...  Val loss: 1.4132...  0.3745 sec/batch\n",
      "Epoch: 148/350...  Training Step: 20001...  Training loss: 1.4005...  Val loss: 1.4063...  0.3528 sec/batch\n",
      "WARNING:tensorflow:Error encountered when serializing LAYER_NAME_UIDS.\n",
      "Type is unsupported, or the types of the items don't match field type in CollectionDef.\n",
      "'dict' object has no attribute 'name'\n",
      "Epoch: 148/350...  Training Step: 20101...  Training loss: 1.3656...  Val loss: 1.4090...  0.3533 sec/batch\n",
      "Epoch: 149/350...  Training Step: 20201...  Training loss: 1.3941...  Val loss: 1.4091...  0.3531 sec/batch\n",
      "Epoch: 150/350...  Training Step: 20301...  Training loss: 1.3813...  Val loss: 1.4073...  0.3644 sec/batch\n",
      "Epoch 150/350 time:48.64908170700073...  finished at 2017-09-18 01:40:45\n",
      "Epoch: 151/350...  Training Step: 20401...  Training loss: 1.4283...  Val loss: 1.4032...  0.3743 sec/batch\n"
     ]
    },
    {
     "ename": "KeyboardInterrupt",
     "evalue": "",
     "output_type": "error",
     "traceback": [
      "\u001b[0;31m---------------------------------------------------------------------------\u001b[0m",
      "\u001b[0;31mKeyboardInterrupt\u001b[0m                         Traceback (most recent call last)",
      "\u001b[0;32m<ipython-input-29-03356a999d13>\u001b[0m in \u001b[0;36m<module>\u001b[0;34m()\u001b[0m\n\u001b[1;32m     40\u001b[0m                                                  \u001b[0mmodel\u001b[0m\u001b[0;34m.\u001b[0m\u001b[0mfinal_state\u001b[0m\u001b[0;34m,\u001b[0m\u001b[0;34m\u001b[0m\u001b[0m\n\u001b[1;32m     41\u001b[0m                                                  model.optimizer], \n\u001b[0;32m---> 42\u001b[0;31m                                                  feed_dict=feed)\n\u001b[0m\u001b[1;32m     43\u001b[0m \u001b[0;34m\u001b[0m\u001b[0m\n\u001b[1;32m     44\u001b[0m \u001b[0;34m\u001b[0m\u001b[0m\n",
      "\u001b[0;32m/home/luis/anaconda2/envs/dlnd_gpu/lib/python3.6/site-packages/tensorflow/python/client/session.py\u001b[0m in \u001b[0;36mrun\u001b[0;34m(self, fetches, feed_dict, options, run_metadata)\u001b[0m\n\u001b[1;32m    787\u001b[0m     \u001b[0;32mtry\u001b[0m\u001b[0;34m:\u001b[0m\u001b[0;34m\u001b[0m\u001b[0m\n\u001b[1;32m    788\u001b[0m       result = self._run(None, fetches, feed_dict, options_ptr,\n\u001b[0;32m--> 789\u001b[0;31m                          run_metadata_ptr)\n\u001b[0m\u001b[1;32m    790\u001b[0m       \u001b[0;32mif\u001b[0m \u001b[0mrun_metadata\u001b[0m\u001b[0;34m:\u001b[0m\u001b[0;34m\u001b[0m\u001b[0m\n\u001b[1;32m    791\u001b[0m         \u001b[0mproto_data\u001b[0m \u001b[0;34m=\u001b[0m \u001b[0mtf_session\u001b[0m\u001b[0;34m.\u001b[0m\u001b[0mTF_GetBuffer\u001b[0m\u001b[0;34m(\u001b[0m\u001b[0mrun_metadata_ptr\u001b[0m\u001b[0;34m)\u001b[0m\u001b[0;34m\u001b[0m\u001b[0m\n",
      "\u001b[0;32m/home/luis/anaconda2/envs/dlnd_gpu/lib/python3.6/site-packages/tensorflow/python/client/session.py\u001b[0m in \u001b[0;36m_run\u001b[0;34m(self, handle, fetches, feed_dict, options, run_metadata)\u001b[0m\n\u001b[1;32m    995\u001b[0m     \u001b[0;32mif\u001b[0m \u001b[0mfinal_fetches\u001b[0m \u001b[0;32mor\u001b[0m \u001b[0mfinal_targets\u001b[0m\u001b[0;34m:\u001b[0m\u001b[0;34m\u001b[0m\u001b[0m\n\u001b[1;32m    996\u001b[0m       results = self._do_run(handle, final_targets, final_fetches,\n\u001b[0;32m--> 997\u001b[0;31m                              feed_dict_string, options, run_metadata)\n\u001b[0m\u001b[1;32m    998\u001b[0m     \u001b[0;32melse\u001b[0m\u001b[0;34m:\u001b[0m\u001b[0;34m\u001b[0m\u001b[0m\n\u001b[1;32m    999\u001b[0m       \u001b[0mresults\u001b[0m \u001b[0;34m=\u001b[0m \u001b[0;34m[\u001b[0m\u001b[0;34m]\u001b[0m\u001b[0;34m\u001b[0m\u001b[0m\n",
      "\u001b[0;32m/home/luis/anaconda2/envs/dlnd_gpu/lib/python3.6/site-packages/tensorflow/python/client/session.py\u001b[0m in \u001b[0;36m_do_run\u001b[0;34m(self, handle, target_list, fetch_list, feed_dict, options, run_metadata)\u001b[0m\n\u001b[1;32m   1130\u001b[0m     \u001b[0;32mif\u001b[0m \u001b[0mhandle\u001b[0m \u001b[0;32mis\u001b[0m \u001b[0;32mNone\u001b[0m\u001b[0;34m:\u001b[0m\u001b[0;34m\u001b[0m\u001b[0m\n\u001b[1;32m   1131\u001b[0m       return self._do_call(_run_fn, self._session, feed_dict, fetch_list,\n\u001b[0;32m-> 1132\u001b[0;31m                            target_list, options, run_metadata)\n\u001b[0m\u001b[1;32m   1133\u001b[0m     \u001b[0;32melse\u001b[0m\u001b[0;34m:\u001b[0m\u001b[0;34m\u001b[0m\u001b[0m\n\u001b[1;32m   1134\u001b[0m       return self._do_call(_prun_fn, self._session, handle, feed_dict,\n",
      "\u001b[0;32m/home/luis/anaconda2/envs/dlnd_gpu/lib/python3.6/site-packages/tensorflow/python/client/session.py\u001b[0m in \u001b[0;36m_do_call\u001b[0;34m(self, fn, *args)\u001b[0m\n\u001b[1;32m   1137\u001b[0m   \u001b[0;32mdef\u001b[0m \u001b[0m_do_call\u001b[0m\u001b[0;34m(\u001b[0m\u001b[0mself\u001b[0m\u001b[0;34m,\u001b[0m \u001b[0mfn\u001b[0m\u001b[0;34m,\u001b[0m \u001b[0;34m*\u001b[0m\u001b[0margs\u001b[0m\u001b[0;34m)\u001b[0m\u001b[0;34m:\u001b[0m\u001b[0;34m\u001b[0m\u001b[0m\n\u001b[1;32m   1138\u001b[0m     \u001b[0;32mtry\u001b[0m\u001b[0;34m:\u001b[0m\u001b[0;34m\u001b[0m\u001b[0m\n\u001b[0;32m-> 1139\u001b[0;31m       \u001b[0;32mreturn\u001b[0m \u001b[0mfn\u001b[0m\u001b[0;34m(\u001b[0m\u001b[0;34m*\u001b[0m\u001b[0margs\u001b[0m\u001b[0;34m)\u001b[0m\u001b[0;34m\u001b[0m\u001b[0m\n\u001b[0m\u001b[1;32m   1140\u001b[0m     \u001b[0;32mexcept\u001b[0m \u001b[0merrors\u001b[0m\u001b[0;34m.\u001b[0m\u001b[0mOpError\u001b[0m \u001b[0;32mas\u001b[0m \u001b[0me\u001b[0m\u001b[0;34m:\u001b[0m\u001b[0;34m\u001b[0m\u001b[0m\n\u001b[1;32m   1141\u001b[0m       \u001b[0mmessage\u001b[0m \u001b[0;34m=\u001b[0m \u001b[0mcompat\u001b[0m\u001b[0;34m.\u001b[0m\u001b[0mas_text\u001b[0m\u001b[0;34m(\u001b[0m\u001b[0me\u001b[0m\u001b[0;34m.\u001b[0m\u001b[0mmessage\u001b[0m\u001b[0;34m)\u001b[0m\u001b[0;34m\u001b[0m\u001b[0m\n",
      "\u001b[0;32m/home/luis/anaconda2/envs/dlnd_gpu/lib/python3.6/site-packages/tensorflow/python/client/session.py\u001b[0m in \u001b[0;36m_run_fn\u001b[0;34m(session, feed_dict, fetch_list, target_list, options, run_metadata)\u001b[0m\n\u001b[1;32m   1119\u001b[0m         return tf_session.TF_Run(session, options,\n\u001b[1;32m   1120\u001b[0m                                  \u001b[0mfeed_dict\u001b[0m\u001b[0;34m,\u001b[0m \u001b[0mfetch_list\u001b[0m\u001b[0;34m,\u001b[0m \u001b[0mtarget_list\u001b[0m\u001b[0;34m,\u001b[0m\u001b[0;34m\u001b[0m\u001b[0m\n\u001b[0;32m-> 1121\u001b[0;31m                                  status, run_metadata)\n\u001b[0m\u001b[1;32m   1122\u001b[0m \u001b[0;34m\u001b[0m\u001b[0m\n\u001b[1;32m   1123\u001b[0m     \u001b[0;32mdef\u001b[0m \u001b[0m_prun_fn\u001b[0m\u001b[0;34m(\u001b[0m\u001b[0msession\u001b[0m\u001b[0;34m,\u001b[0m \u001b[0mhandle\u001b[0m\u001b[0;34m,\u001b[0m \u001b[0mfeed_dict\u001b[0m\u001b[0;34m,\u001b[0m \u001b[0mfetch_list\u001b[0m\u001b[0;34m)\u001b[0m\u001b[0;34m:\u001b[0m\u001b[0;34m\u001b[0m\u001b[0m\n",
      "\u001b[0;31mKeyboardInterrupt\u001b[0m: "
     ]
    }
   ],
   "source": [
    "#epochs = 1\n",
    "# Save every N iterations\n",
    "save_every_n = 500\n",
    "print_loss_every_n = 100\n",
    "sample_every = 500\n",
    "print_epoch_time_every = 10\n",
    "\n",
    "with tf.device(\"/gpu:0\"):\n",
    "    model = CharRNN(len(vocab), batch_size=batch_size, num_steps=num_steps,\n",
    "                lstm_size=lstm_size, num_layers=num_layers, \n",
    "                learning_rate=learning_rate)\n",
    "    #print(\"after model\")\n",
    "\n",
    "saver = tf.train.Saver(max_to_keep=5)\n",
    "print(\"Training starting at time:\",strftime(\"%Y-%m-%d %H:%M:%S\", localtime()))\n",
    "train_start_time = time.time()\n",
    "with tf.Session() as sess:\n",
    "    sess.run(tf.global_variables_initializer())\n",
    "    print(\"Number of parameters:\",get_number_of_parameters(),\"Dataset size:\",len(encoded))\n",
    "    #print(\"after initializer\")\n",
    "    if resume_from_checkpoint:\n",
    "        latest_checkpoint = tf.train.latest_checkpoint('checkpoints')\n",
    "        saver.restore(sess, latest_checkpoint)\n",
    "    counter = 0\n",
    "    for e in range(epochs):\n",
    "        # Train network\n",
    "        epoch_start = time.time()\n",
    "        \n",
    "        new_state = sess.run(model.initial_state)\n",
    "        loss = 0\n",
    "        for x, y in get_batches(encoded, batch_size, num_steps):\n",
    "            \n",
    "            \n",
    "            start = time.time()\n",
    "            feed = {model.inputs: x,\n",
    "                    model.targets: y,\n",
    "                    model.keep_prob: keep_prob,\n",
    "                    model.initial_state: new_state}\n",
    "            batch_loss, new_state, _ = sess.run([model.loss, \n",
    "                                                 model.final_state, \n",
    "                                                 model.optimizer], \n",
    "                                                 feed_dict=feed)\n",
    "        \n",
    "            \n",
    "            end = time.time()\n",
    "            if counter%print_loss_every_n == 0:\n",
    "                val_batches = get_batches(encoded_val,int(len(encoded_val)/num_steps),num_steps)\n",
    "                x_val,y_val = next(val_batches)\n",
    "                \n",
    "                val_dict = {model.inputs: x_val,\n",
    "                            model.targets: y_val,\n",
    "                            model.keep_prob: 1,\n",
    "                            model.initial_state: new_state}\n",
    "                \n",
    "                val_loss,prediction = sess.run([model.loss,model.prediction],feed_dict=val_dict)\n",
    "                \n",
    "                losses[\"train\"].append(batch_loss)\n",
    "                losses[\"validation\"].append(val_loss)\n",
    "                \n",
    "                \n",
    "                global_step = tf.train.global_step(sess,model.global_step_tensor)\n",
    "                x_steps.append(global_step)\n",
    "                \n",
    "                print('Epoch: {}/{}... '.format(e+1, epochs),\n",
    "                      'Training Step: {}... '.format(global_step),\n",
    "                      'Training loss: {:.4f}... '.format(batch_loss),\n",
    "                      'Val loss: {:.4f}... '.format(val_loss),\n",
    "                      '{:.4f} sec/batch'.format((end-start)))\n",
    "        \n",
    "            if (counter % save_every_n == 0):\n",
    "                global_step = tf.train.global_step(sess,model.global_step_tensor)\n",
    "                saver.save(sess, \"checkpoints/m{}_i{}_l{}.ckpt\".format(mode,global_step, lstm_size))\n",
    "                \n",
    "            counter += 1\n",
    "        \n",
    "        epoch_end = time.time()\n",
    "        \n",
    "        \n",
    "        if ((e+1) % print_epoch_time_every== 0):\n",
    "            print('Epoch {}/{} time:{}...'.format(e+1,epochs,epoch_end-epoch_start),\n",
    "                 \" finished at\",strftime(\"%Y-%m-%d %H:%M:%S\", localtime()))\n",
    "        \n",
    "            \n",
    "    global_step = tf.train.global_step(sess,model.global_step_tensor)\n",
    "    saver.save(sess, \"checkpoints/m{}_i{}_l{}.ckpt\".format(mode,global_step, lstm_size))\n",
    "    \n",
    "print(\"Training ending at time:\",strftime(\"%Y-%m-%d %H:%M:%S\", localtime()))\n",
    "print(\"Trainint total time:\",train_start_time-time.time())"
   ]
  },
  {
   "cell_type": "code",
   "execution_count": 30,
   "metadata": {},
   "outputs": [
    {
     "data": {
      "image/png": "[encoded data removed]",
      "text/plain": [
       "<matplotlib.figure.Figure at 0x7fbba5e6acf8>"
      ]
     },
     "metadata": {
      "image/png": {
       "height": 250,
       "width": 373
      }
     },
     "output_type": "display_data"
    }
   ],
   "source": [
    "plt.plot(x_steps,losses[\"train\"],label=\"Train loss\")\n",
    "plt.plot(x_steps,losses[\"validation\"],label=\"Validation loss\")\n",
    "plt.legend()\n",
    "_ = plt.ylim()"
   ]
  },
  {
   "cell_type": "markdown",
   "metadata": {},
   "source": [
    "#### Saved checkpoints\n",
    "\n",
    "Read up on saving and loading checkpoints here: https://www.tensorflow.org/programmers_guide/variables"
   ]
  },
  {
   "cell_type": "code",
   "execution_count": 31,
   "metadata": {
    "collapsed": true
   },
   "outputs": [],
   "source": [
    "checkpoints = tf.train.get_checkpoint_state('checkpoints')"
   ]
  },
  {
   "cell_type": "markdown",
   "metadata": {},
   "source": [
    "## Sampling final trained model\n",
    "\n",
    "Now that the network is trained, we'll can use it to generate new text. The idea is that we pass in a character, then the network will predict the next character. We can use the new one, to predict the next one. And we keep doing this to generate all new text. I also included some functionality to prime the network with some text by passing in a string and building up a state from that.\n",
    "\n",
    "The network gives us predictions for each character. To reduce noise and make things a little less random, I'm going to only choose a new character from the top N most likely characters.\n",
    "\n"
   ]
  },
  {
   "cell_type": "code",
   "execution_count": 32,
   "metadata": {
    "collapsed": true
   },
   "outputs": [],
   "source": [
    "def sample(checkpoint, n_samples, lstm_size, vocab_size, prime=\"The \",mode=\"characters\"):\n",
    "    print(mode)\n",
    "    samples = tokenize_text(prime,mode)\n",
    "    model = CharRNN(len(vocab), lstm_size=lstm_size, sampling=True)\n",
    "    saver = tf.train.Saver()\n",
    "    with tf.Session() as sess:\n",
    "        saver.restore(sess, checkpoint)\n",
    "        new_state = sess.run(model.initial_state)\n",
    "        for c in tokenize_text(prime,mode):\n",
    "            x = np.zeros((1, 1))\n",
    "            x[0,0] = vocab_to_int[c]\n",
    "            feed = {model.inputs: x,\n",
    "                    model.keep_prob: 1.,\n",
    "                    model.initial_state: new_state}\n",
    "            preds, new_state = sess.run([model.prediction, model.final_state], \n",
    "                                         feed_dict=feed)\n",
    "\n",
    "        c = pick_top_n(preds, len(vocab))\n",
    "        samples.append(int_to_vocab[c])\n",
    "\n",
    "        for i in range(n_samples):\n",
    "            x[0,0] = c\n",
    "            feed = {model.inputs: x,\n",
    "                    model.keep_prob: 1.,\n",
    "                    model.initial_state: new_state}\n",
    "            preds, new_state = sess.run([model.prediction, model.final_state], \n",
    "                                         feed_dict=feed)\n",
    "\n",
    "            c = pick_top_n(preds, len(vocab))\n",
    "            samples.append(int_to_vocab[c])\n",
    "        \n",
    "    return ''.join(samples).replace(\"new_line_token\",\"\\n\")"
   ]
  },
  {
   "cell_type": "markdown",
   "metadata": {},
   "source": [
    "Here, pass in the path to a checkpoint and sample from the network."
   ]
  },
  {
   "cell_type": "code",
   "execution_count": 33,
   "metadata": {},
   "outputs": [
    {
     "data": {
      "text/plain": [
       "'checkpoints/mcharacters_i20001_l512.ckpt'"
      ]
     },
     "execution_count": 33,
     "metadata": {},
     "output_type": "execute_result"
    }
   ],
   "source": [
    "tf.train.latest_checkpoint('checkpoints')"
   ]
  },
  {
   "cell_type": "markdown",
   "metadata": {},
   "source": [
    "## Generate new text from \"base\" text"
   ]
  },
  {
   "cell_type": "code",
   "execution_count": 34,
   "metadata": {},
   "outputs": [
    {
     "name": "stdout",
     "output_type": "stream",
     "text": [
      "characters\n",
      "INFO:tensorflow:Restoring parameters from checkpoints/mcharacters_i20001_l512.ckpt\n",
      "characters\n",
      "INFO:tensorflow:Restoring parameters from checkpoints/mcharacters_i20001_l512.ckpt\n",
      "characters\n",
      "INFO:tensorflow:Restoring parameters from checkpoints/mcharacters_i20001_l512.ckpt\n",
      "characters\n",
      "INFO:tensorflow:Restoring parameters from checkpoints/mcharacters_i20001_l512.ckpt\n",
      "characters\n",
      "INFO:tensorflow:Restoring parameters from checkpoints/mcharacters_i20001_l512.ckpt\n",
      "characters\n",
      "INFO:tensorflow:Restoring parameters from checkpoints/mcharacters_i20001_l512.ckpt\n",
      "characters\n",
      "INFO:tensorflow:Restoring parameters from checkpoints/mcharacters_i20001_l512.ckpt\n",
      "characters\n",
      "INFO:tensorflow:Restoring parameters from checkpoints/mcharacters_i20001_l512.ckpt\n",
      "characters\n",
      "INFO:tensorflow:Restoring parameters from checkpoints/mcharacters_i20001_l512.ckpt\n",
      "characters\n",
      "INFO:tensorflow:Restoring parameters from checkpoints/mcharacters_i20001_l512.ckpt\n",
      "characters\n",
      "INFO:tensorflow:Restoring parameters from checkpoints/mcharacters_i20001_l512.ckpt\n",
      "characters\n",
      "INFO:tensorflow:Restoring parameters from checkpoints/mcharacters_i20001_l512.ckpt\n",
      "characters\n",
      "INFO:tensorflow:Restoring parameters from checkpoints/mcharacters_i20001_l512.ckpt\n",
      "characters\n",
      "INFO:tensorflow:Restoring parameters from checkpoints/mcharacters_i20001_l512.ckpt\n",
      "characters\n",
      "INFO:tensorflow:Restoring parameters from checkpoints/mcharacters_i20001_l512.ckpt\n",
      "characters\n",
      "INFO:tensorflow:Restoring parameters from checkpoints/mcharacters_i20001_l512.ckpt\n"
     ]
    }
   ],
   "source": [
    "\n",
    "checkpoint = tf.train.latest_checkpoint('checkpoints')\n",
    "\n",
    "\n",
    "samples = list()\n",
    "for text in text_to_try:\n",
    "    #print(\"------------------------\",text)\n",
    "    samples.append( sample(checkpoint, 500, lstm_size, len(vocab), prime=text,mode=mode))\n",
    "    #print(samp)\n",
    "    #print(\"------------------------\")"
   ]
  },
  {
   "cell_type": "code",
   "execution_count": 35,
   "metadata": {},
   "outputs": [
    {
     "name": "stdout",
     "output_type": "stream",
     "text": [
      "------------------------ In the first place\n",
      "In the first place and what he seemed to stand at least it was in such a few made him. It was now for the face of this spot and discovered their search or stalling without high, but there was no dark sensitive charms to heaving the mark, and who was steppled, and as the second of the strange still are no sometimes have been convensed. It is stilling as it was that they seeming in all their statures. We had seen that a man as if the came as it seemed to have been taken and stenched and but tentifled by his cortidic\n",
      "------------------------\n",
      "------------------------ the night before\n",
      "the night before the stores of a mischoroun to a most anticiptern., the crowd of the crew he saw that he had been door at onca, when I could not be sere of the case. His weakenen she was a muncherous to me three is such a feelings and all as in the pressure of the did,, and who had not being not a mad bust an instant of the professors and those of some planes that has abued to detich the farmher to and tried to the carven. At length a second, while I causited this most thing that the more of my fears was only ov\n",
      "------------------------\n",
      "------------------------ horror\n",
      "horror and an one south in which which was a present towers into the musical telescope, and that it is not the solim associate and many of the dreams of the day-resolved steps, with the pale of the simparitions of the seven or out of the deep of my can walk a forming sharow or station to the composed to be days. What I could not hear his comprehension whose place. Which I saw that the surerys of the wind was those which have been sail to take in this change. The shidily drangers who has born and a sing\n",
      "------------------------\n",
      "------------------------ creature\n",
      "creature of a sere to the foot of the depinate of his short on my cease of matice, when he would not his porcipatation of the stars and she must have aspect to be on the stream of those, and was such a from which is a man and was the position of the come as all shoutes, we had been a stench thinks, and in the sun out of that of the surface.\n",
      "\n",
      "This was the moment, however, that the party thought our carefully climbing with a pole of traculis of the foothalls of the step with his material in the fragtents—o\n",
      "------------------------\n",
      "------------------------ night\n",
      "nightly dark and things while as I had true the countryside and the corner short stones of state in a single signal for at an exact and man within. The southern and the wile state was stated by his confidence. There is no more than their manner; and he would not pence to more than the first and the shadow and seemed found at little, for the street of the such sidness was of all my one of that pale. It was the simple of the pell word, but anttracied the cheak of the story. It was nor all the strange mi\n",
      "------------------------\n",
      "------------------------ dream\n",
      "dream, he was now to below a shore of the conversation. The side of the windowless shore have nothing was to the state of some direction to a sign of ancient absolute more tearless above the morning and the prints of a figure and state, and we came to the find of the masters of the surposp, and though that the cate was no munder.\n",
      "     The south toward the terrible, and the severence of the crowding well and suncent of his cast of certain pleasure in a forestation. As walls of all. The mutes of the mat\n",
      "------------------------\n",
      "------------------------ thing\n",
      "thing at the thing in the feeble and till, and the chair of the clamber of his procerding was shot that it was to do the battering. And its decaling was so tale of conversation as terrer in the permindness of my poor and all at ansiet in an ancombolished carroums, but he would clear to the chiefs. It said the stark or men worlded, and I should steed a single of an enormed south, wenefully from the sight of a survivan or able any part of some offered and transcendence. The fate was no miles, and. The d\n",
      "------------------------\n",
      "------------------------ That night\n",
      "That night was the seen. Till a strong, some of the see was subrised and then the sunset attacks and survey in his day the body. It was about that the sund windows of their comparion with the sen or the compantic case of the stars, which had no longer to then without some stantard space and when the treasern hugh carvings was not and before, and wished to told of the place, and was cangul their character along when a shelt of the searching and thirse would be seen time. Watering that they ask had courd som\n",
      "------------------------\n",
      "------------------------ mountain\n",
      "mountain-some of the colony of the stones, which had no master at all the fine attempt to tower a more time than the crumbling shewing of the persons. The way at once, with his carties of a memitity. We howned, were there were nearly strong and suct and a second some could see the shore to the feet, and had so mentioned in the subsearable summos it and a from the color of his fire. Her all the shallow position were correct without had to her all the bark of this mountains of accidental presence of men,, \n",
      "------------------------\n",
      "------------------------ Ammi\n",
      "Ammilar which chomes of the musk and the method-of the cates of the planes. I sand that the true time was a state, but had sawen a seriously sucries of the most seetingly cold through the success. This sound were sole alther in the more than all when he had come a strong and previous south and the marvilanest stone whose properse held, the ships of all things was over the place. The man saw the corminaro at the sunce and a positive produgious more than to see them in the morbid stone. They was the mo\n",
      "------------------------\n",
      "------------------------ Cthulhu\n",
      "Cthulhu of the meathre took and the company of the mad of the mad and at the sterchous of this prisal sone, and was new so more and found the sides of monstrous and sunden stupins, as I started a concouctions of material things of mean and sea was the companions and draggings when the days and song that were shantikes, but they would seem to to see the station world and toward the cold, and told the crack on the more startly to see when I had been the carven confernion at the compary and a matter of thi\n",
      "------------------------\n",
      "------------------------ raven\n",
      "raven and all to a ston and more such as it was the shart sound and considered as he had not been the mast at all, and that they heard athoned the place, when he had also told things as they seemed.\n",
      "     They and my concealed times wat all toward a secret of consciousness that had see in the first secret carven seeming.\n",
      "     And then I can a cold and this strong tenrest strange shink to the carven and true fire at the thought in a points were not an offectude at length and tendungly off into such ante\n",
      "------------------------\n",
      "------------------------ bird\n",
      "birdingly; first, and that horror which was at last on a monnance, who and time we who will not be the formal, as I saw that a simple case, the man and surmented trum to a seatchon of me of there.\n",
      "\n",
      "    As to the water a came of the marminal of that most precered torch and straight of a call, as were shipping in this singe with many surpriding.\n",
      "\n",
      "The present of the cattle, his present time to see with the change to a misto man of the state whose cloud was trounlously, with the proceeding continuous ofe\n",
      "------------------------\n",
      "------------------------ nevermore\n",
      "nevermore which I had naturally seen the beatter of maride. He was stending and subficed to a care as if into the state, was noticed and their point of some degree of some manner. He had not been told him in tell it, I had not stretched about the figuse, became so that which they heard a catagort for the survasions which seemed to breeze her some sounds of case which had acated by some merical clear of that state. In the mind the crimpled months of those common comprimity holling the mat on the southward \n",
      "------------------------\n",
      "------------------------ dead\n",
      "dead of such a profound confusion as the concloser told the most silence, we was thought at the possible chain of tratic at my passage. And a strange singular assumed hand hand an although secriticent as their feet windows as it would be nearly asserted. I caught the thing to say, and I had seen its formed a position into the carven sensitions, and a pair of things was about to be an evilly change and anturning of seemed through the most child about the watchers, and the southerls of the place—whose \n",
      "------------------------\n",
      "------------------------ The bird\n",
      "The birds on the surface that were all at this precidence in this part of the crowning whenther at the terror itself in a mind, whone and somewow of the shore and terrible creep in such the chirds in the childs of my companions of human criabols. The shadow of the whisper and the process thirgees with hin the sunde of the countersand. The silence of the warmen, and a mind of more than some struck and three country, and would be a sidely disand and canion, the contents, which he said to the most such case\n",
      "------------------------\n"
     ]
    }
   ],
   "source": [
    "for i in range(len(text_to_try)):\n",
    "    text = text_to_try[i]\n",
    "    generated = samples[i]\n",
    "    print(\"------------------------\",text)\n",
    "    print(generated)\n",
    "    print(\"------------------------\")"
   ]
  },
  {
   "cell_type": "code",
   "execution_count": 36,
   "metadata": {},
   "outputs": [
    {
     "data": {
      "text/plain": [
       "model_checkpoint_path: \"checkpoints/mcharacters_i20001_l512.ckpt\"\n",
       "all_model_checkpoint_paths: \"checkpoints/mcharacters_i18001_l512.ckpt\"\n",
       "all_model_checkpoint_paths: \"checkpoints/mcharacters_i18501_l512.ckpt\"\n",
       "all_model_checkpoint_paths: \"checkpoints/mcharacters_i19001_l512.ckpt\"\n",
       "all_model_checkpoint_paths: \"checkpoints/mcharacters_i19501_l512.ckpt\"\n",
       "all_model_checkpoint_paths: \"checkpoints/mcharacters_i20001_l512.ckpt\""
      ]
     },
     "execution_count": 36,
     "metadata": {},
     "output_type": "execute_result"
    }
   ],
   "source": [
    "tf.train.get_checkpoint_state('checkpoints')"
   ]
  },
  {
   "cell_type": "code",
   "execution_count": null,
   "metadata": {
    "collapsed": true
   },
   "outputs": [],
   "source": []
  }
 ],
 "metadata": {
  "kernelspec": {
   "display_name": "Python 3",
   "language": "python",
   "name": "python3"
  },
  "language_info": {
   "codemirror_mode": {
    "name": "ipython",
    "version": 3
   },
   "file_extension": ".py",
   "mimetype": "text/x-python",
   "name": "python",
   "nbconvert_exporter": "python",
   "pygments_lexer": "ipython3",
   "version": "3.6.1"
  }
 },
 "nbformat": 4,
 "nbformat_minor": 2
}
