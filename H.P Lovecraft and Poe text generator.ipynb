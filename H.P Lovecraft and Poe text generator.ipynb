{
 "cells": [
  {
   "cell_type": "markdown",
   "metadata": {},
   "source": [
    "# Recurrent neural networks for H.P Lovecraft text generation\n",
    "\n",
    "\"The color out of space\" is one of my favorite tales from Lovecraft, i will use it(as well as others as the call of cthulhu) to create a recurrent neural network in tensorflow that learns his style and generates new text in his style\n",
    "\n",
    "This network is based off of Andrej Karpathy's [post on RNNs](http://karpathy.github.io/2015/05/21/rnn-effectiveness/) and [implementation in Torch](https://github.com/karpathy/char-rnn) and an example from \"Deep Learning Nanodegree\" on udacity. Also, some information [here at r2rt](http://r2rt.com/recurrent-neural-networks-in-tensorflow-ii.html) and from [Sherjil Ozair](https://github.com/sherjilozair/char-rnn-tensorflow) on GitHub. \n",
    "\n",
    "## General architecture using \"Long short term memory\" units in the recurrent layers\n",
    "\n",
    "<img src=\"assets/charseq.jpeg\" width=\"500\">"
   ]
  },
  {
   "cell_type": "code",
   "execution_count": 1,
   "metadata": {
    "collapsed": true
   },
   "outputs": [],
   "source": [
    "%matplotlib inline\n",
    "%config InlineBackend.figure_format = 'retina'"
   ]
  },
  {
   "cell_type": "code",
   "execution_count": 2,
   "metadata": {
    "collapsed": true
   },
   "outputs": [],
   "source": [
    "import time\n",
    "from collections import namedtuple\n",
    "\n",
    "import numpy as np\n",
    "import tensorflow as tf\n",
    "from nltk.tokenize import word_tokenize\n",
    "import nltk\n",
    "import itertools\n",
    "import matplotlib.pyplot as plt\n",
    "from time import gmtime, strftime ,localtime"
   ]
  },
  {
   "cell_type": "code",
   "execution_count": 3,
   "metadata": {
    "collapsed": true
   },
   "outputs": [],
   "source": [
    "# Run only the  first time nltk is used to download language\n",
    "#nltk.download()"
   ]
  },
  {
   "cell_type": "markdown",
   "metadata": {},
   "source": [
    "### Define conf variables and hyper parameteters "
   ]
  },
  {
   "cell_type": "code",
   "execution_count": 53,
   "metadata": {
    "collapsed": true
   },
   "outputs": [],
   "source": [
    "mode = \"characters\" #characters or words\n",
    "\n",
    "epochs = 15\n",
    "batch_size = 128       # Sequences per batch\n",
    "num_steps = 75         # Number of sequence steps per batch\n",
    "lstm_size = 1000         # Size of hidden layers in LSTMs\n",
    "num_layers = 2          # Number of LSTM layers\n",
    "learning_rate = 0.00005    # Learning rate\n",
    "keep_prob = 1       # Dropout keep probability\n",
    "\n",
    "resume_from_checkpoint = True"
   ]
  },
  {
   "cell_type": "markdown",
   "metadata": {},
   "source": [
    "### Define base text\n",
    "Once trained ,the network can take base text and a sequence size and generate new text using base text as first characters in the sequence. For every element in base text wi will create a list that will store generated text as training goes, to be able to compare results between steps"
   ]
  },
  {
   "cell_type": "code",
   "execution_count": 5,
   "metadata": {
    "collapsed": true
   },
   "outputs": [],
   "source": [
    "text_to_try = [\"In the first place\",\"the night before\",\"horror\",\"creature\",\"night\",\"dream\",\"thing\",\"That night\",\"mountain\",\"Ammi\",\"Cthulhu\",\"raven\",\"bird\",\"nevermore\",\"dead\",\"The bird\"]"
   ]
  },
  {
   "cell_type": "markdown",
   "metadata": {},
   "source": [
    "#### Function that separates text into tokens(for whitespace characters, only new line is implemented, missing tabs and others="
   ]
  },
  {
   "cell_type": "code",
   "execution_count": 6,
   "metadata": {},
   "outputs": [
    {
     "data": {
      "text/plain": [
       "['H',\n",
       " 'e',\n",
       " 'l',\n",
       " 'l',\n",
       " 'o',\n",
       " ',',\n",
       " ' ',\n",
       " 'm',\n",
       " 'y',\n",
       " ' ',\n",
       " 'n',\n",
       " 'a',\n",
       " 'm',\n",
       " 'e',\n",
       " ' ',\n",
       " 'i',\n",
       " 's',\n",
       " ' ',\n",
       " 'L',\n",
       " 'u',\n",
       " 'i',\n",
       " 's',\n",
       " ' ',\n",
       " 'L',\n",
       " 'e',\n",
       " 'a',\n",
       " 'l',\n",
       " '!',\n",
       " '\\n',\n",
       " '\\n',\n",
       " 'F',\n",
       " 'r',\n",
       " 'o',\n",
       " 'm',\n",
       " ' ',\n",
       " 'G',\n",
       " 'u',\n",
       " 'a',\n",
       " 't',\n",
       " 'e',\n",
       " 'm',\n",
       " 'a',\n",
       " 'l',\n",
       " 'a']"
      ]
     },
     "execution_count": 6,
     "metadata": {},
     "output_type": "execute_result"
    }
   ],
   "source": [
    "def tokenize_by_words(text):\n",
    "    text = text.replace(\"\\n\",\" new_line_token \")\n",
    "    tokens = []\n",
    "    splitted =[[word_tokenize(w),' ']for w in text.split()]\n",
    "    splitted = list(itertools.chain(*list(itertools.chain(*splitted))))\n",
    "    \n",
    "    token_list = []\n",
    "    i = 0\n",
    "    while i < len(splitted):\n",
    "        if splitted[i] == \"new_line_token\":\n",
    "            if   token_list[-1]==\" \":\n",
    "                token_list[-1] = splitted[i]\n",
    "            else:\n",
    "                token_list.append(splitted[i])\n",
    "            i+=1\n",
    "        else:\n",
    "            token_list.append(splitted[i])\n",
    "        i+=1\n",
    "    \n",
    "    return token_list\n",
    "\n",
    "def tokenize_by_characters(text):\n",
    "    return list(text)\n",
    "\n",
    "def tokenize_text(text,mode=\"characters\"):\n",
    "    if mode == \"characters\":\n",
    "        return tokenize_by_characters(text)\n",
    "    elif mode == \"words\":\n",
    "        return tokenize_by_words(text)\n",
    "    \n",
    "tokenize_text(\"Hello, my name is Luis Leal!\\n\\nFrom Guatemala\",mode)\n",
    "#tokenize_text(\"Hello, my name is Luis Leal!\\n\\nFrom Guatemala\",\"words\")\n"
   ]
  },
  {
   "cell_type": "markdown",
   "metadata": {},
   "source": [
    "First we'll load the text file and convert it into integers for our network to use. Here I'm creating a couple dictionaries to convert the characters to and from integers. Encoding the characters as integers makes it easier to use as input in the network."
   ]
  },
  {
   "cell_type": "code",
   "execution_count": 7,
   "metadata": {
    "collapsed": true
   },
   "outputs": [],
   "source": [
    "with open('corpus.txt', 'r') as f:\n",
    "    text=f.read()"
   ]
  },
  {
   "cell_type": "code",
   "execution_count": 8,
   "metadata": {
    "collapsed": true
   },
   "outputs": [],
   "source": [
    "vocab = set(tokenize_text(text,mode))\n",
    "vocab_to_int = {c: i for i, c in enumerate(vocab)}\n",
    "int_to_vocab = dict(enumerate(vocab))"
   ]
  },
  {
   "cell_type": "markdown",
   "metadata": {},
   "source": [
    "### Get a little portion of text for validation"
   ]
  },
  {
   "cell_type": "code",
   "execution_count": 9,
   "metadata": {
    "collapsed": true
   },
   "outputs": [],
   "source": [
    "tokenized_text = tokenize_text(text,mode)\n",
    "encoded_dataset = np.array([vocab_to_int[c] for c in tokenized_text if c in vocab_to_int], dtype=np.int32)"
   ]
  },
  {
   "cell_type": "code",
   "execution_count": 10,
   "metadata": {
    "collapsed": true
   },
   "outputs": [],
   "source": [
    "validation_size = batch_size * num_steps #create a single baty\n",
    "validation_start_index = len(encoded_dataset) - validation_size\n",
    "\n",
    "encoded = encoded_dataset[:validation_start_index]\n",
    "encoded_val = encoded_dataset[validation_start_index:]"
   ]
  },
  {
   "cell_type": "code",
   "execution_count": 11,
   "metadata": {},
   "outputs": [
    {
     "name": "stdout",
     "output_type": "stream",
     "text": [
      "r genera of creatures are germinated) -- the spontaneous germination, I say, of five vast hordes of \n"
     ]
    }
   ],
   "source": [
    "def encoded_to_text(encoded):\n",
    "    return \"\".join([int_to_vocab[number] for number in encoded])\n",
    "\n",
    "print(encoded_to_text(encoded_val[0:100]))"
   ]
  },
  {
   "cell_type": "code",
   "execution_count": 12,
   "metadata": {
    "collapsed": true
   },
   "outputs": [],
   "source": [
    "val_text =encoded_to_text(encoded_val)\n",
    "text = encoded_to_text(encoded)"
   ]
  },
  {
   "cell_type": "markdown",
   "metadata": {},
   "source": [
    "Let's check out the first 100 characters of train and validation, make sure everything is peachy.  line of a book ever."
   ]
  },
  {
   "cell_type": "code",
   "execution_count": 13,
   "metadata": {},
   "outputs": [
    {
     "data": {
      "text/plain": [
       "'THE COLOUR OUT OF SPACE\\n\\nWest of Arkham the hills rise wild, and there are valleys with deep woods t'"
      ]
     },
     "execution_count": 13,
     "metadata": {},
     "output_type": "execute_result"
    }
   ],
   "source": [
    "text[:100]"
   ]
  },
  {
   "cell_type": "code",
   "execution_count": 14,
   "metadata": {},
   "outputs": [
    {
     "data": {
      "text/plain": [
       "'r genera of creatures are germinated) -- the spontaneous germination, I say, of five vast hordes of '"
      ]
     },
     "execution_count": 14,
     "metadata": {},
     "output_type": "execute_result"
    }
   ],
   "source": [
    "val_text[:100]"
   ]
  },
  {
   "cell_type": "markdown",
   "metadata": {},
   "source": [
    "And we can see the characters encoded as integersin both train and validation"
   ]
  },
  {
   "cell_type": "code",
   "execution_count": 15,
   "metadata": {},
   "outputs": [
    {
     "data": {
      "text/plain": [
       "array([ 10,  78,  85,  58,  99,  92,   5,  92,  23,  25,  58,  92,  23,\n",
       "        10,  58,  92,  19,  58,   8,  84,   0,  99,  85,  79,  79,  86,\n",
       "        17,  68,  50,  58,  41,  90,  58,   0,  93,  42,  31,  74, 100,\n",
       "        58,  50,  31,  17,  58,  31,  95,  20,  20,  68,  58,  93,  95,\n",
       "        68,  17,  58,  34,  95,  20,  43,  96,  58,  74,   1,  43,  58,\n",
       "        50,  31,  17,  93,  17,  58,  74,  93,  17,  58,  16,  74,  20,\n",
       "        20,  17,  26,  68,  58,  34,  95,  50,  31,  58,  43,  17,  17,\n",
       "        53,  58,  34,  41,  41,  43,  68,  58,  50], dtype=int32)"
      ]
     },
     "execution_count": 15,
     "metadata": {},
     "output_type": "execute_result"
    }
   ],
   "source": [
    "encoded[:100]"
   ]
  },
  {
   "cell_type": "code",
   "execution_count": 16,
   "metadata": {},
   "outputs": [
    {
     "data": {
      "text/plain": [
       "array([ 93,  58,  77,  17,   1,  17,  93,  74,  58,  41,  90,  58,  87,\n",
       "        93,  17,  74,  50,  48,  93,  17,  68,  58,  74,  93,  17,  58,\n",
       "        77,  17,  93, 100,  95,   1,  74,  50,  17,  43,  94,  58,  12,\n",
       "        12,  58,  50,  31,  17,  58,  68,  53,  41,   1,  50,  74,   1,\n",
       "        17,  41,  48,  68,  58,  77,  17,  93, 100,  95,   1,  74,  50,\n",
       "        95,  41,   1,  96,  58,  55,  58,  68,  74,  26,  96,  58,  41,\n",
       "        90,  58,  90,  95,  16,  17,  58,  16,  74,  68,  50,  58,  31,\n",
       "        41,  93,  43,  17,  68,  58,  41,  90,  58], dtype=int32)"
      ]
     },
     "execution_count": 16,
     "metadata": {},
     "output_type": "execute_result"
    }
   ],
   "source": [
    "encoded_val[0:100]"
   ]
  },
  {
   "cell_type": "markdown",
   "metadata": {},
   "source": [
    "Since the network is working with individual english tokens, it's similar to a classification problem in which we are trying to predict the next character from the previous text.  Here's how many 'classes' our network has to pick from."
   ]
  },
  {
   "cell_type": "code",
   "execution_count": 17,
   "metadata": {},
   "outputs": [
    {
     "data": {
      "text/plain": [
       "102"
      ]
     },
     "execution_count": 17,
     "metadata": {},
     "output_type": "execute_result"
    }
   ],
   "source": [
    "len(vocab)"
   ]
  },
  {
   "cell_type": "markdown",
   "metadata": {},
   "source": [
    "## Making training mini-batches\n",
    "\n",
    "Here is where we'll make our mini-batches for training. Remember that we want our batches to be multiple sequences of some desired number of sequence steps. Considering a simple example, our batches would look like this:\n",
    "\n",
    "<img src=\"assets/sequence_batching@1x.png\" width=500px>\n",
    "\n",
    "\n",
    "<br>\n",
    "We have our text encoded as integers as one long array in `encoded`. Let's create a function that will give us an iterator for our batches. I like using [generator functions](https://jeffknupp.com/blog/2013/04/07/improve-your-python-yield-and-generators-explained/) to do this. Then we can pass `encoded` into this function and get our batch generator.\n",
    "\n",
    "The first thing we need to do is discard some of the text so we only have completely full batches. Each batch contains $N \\times M$ characters, where $N$ is the batch size (the number of sequences) and $M$ is the number of steps. Then, to get the number of batches we can make from some array `arr`, you divide the length of `arr` by the batch size. Once you know the number of batches and the batch size, you can get the total number of characters to keep.\n",
    "\n",
    "After that, we need to split `arr` into $N$ sequences. You can do this using `arr.reshape(size)` where `size` is a tuple containing the dimensions sizes of the reshaped array. We know we want $N$ sequences (`n_seqs` below), let's make that the size of the first dimension. For the second dimension, you can use `-1` as a placeholder in the size, it'll fill up the array with the appropriate data for you. After this, you should have an array that is $N \\times (M * K)$ where $K$ is the number of batches.\n",
    "\n",
    "Now that we have this array, we can iterate through it to get our batches. The idea is each batch is a $N \\times M$ window on the array. For each subsequent batch, the window moves over by `n_steps`. We also want to create both the input and target arrays. Remember that the targets are the inputs shifted over one character. You'll usually see the first input character used as the last target character, so something like this:\n",
    "```python\n",
    "y[:, :-1], y[:, -1] = x[:, 1:], x[:, 0]\n",
    "```\n",
    "where `x` is the input batch and `y` is the target batch.\n",
    "\n",
    "The way I like to do this window is use `range` to take steps of size `n_steps` from $0$ to `arr.shape[1]`, the total number of steps in each sequence. That way, the integers you get from `range` always point to the start of a batch, and each window is `n_steps` wide."
   ]
  },
  {
   "cell_type": "code",
   "execution_count": 18,
   "metadata": {
    "collapsed": true
   },
   "outputs": [],
   "source": [
    "def get_batches(arr, n_seqs, n_steps):\n",
    "    '''Create a generator that returns batches of size\n",
    "       n_seqs x n_steps from arr.\n",
    "       \n",
    "       Arguments\n",
    "       ---------\n",
    "       arr: Array you want to make batches from\n",
    "       n_seqs: Batch size, the number of sequences per batch\n",
    "       n_steps: Number of sequence steps per batch\n",
    "    '''\n",
    "    # Get the batch size and number of batches we can make\n",
    "    batch_size = n_seqs * n_steps \n",
    "    n_batches =  len(arr)//batch_size\n",
    "    \n",
    "    # Keep only enough characters to make full batches\n",
    "    arr =  arr[:n_batches*batch_size]\n",
    "    \n",
    "    # Reshape into n_seqs rows\n",
    "    arr = arr.reshape((n_seqs,-1))\n",
    "    \n",
    "    for n in range(0, arr.shape[1], n_steps):\n",
    "        # The features\n",
    "        x = arr[:,n:n+n_steps]\n",
    "        # The targets, shifted by one\n",
    "        y = np.zeros(x.shape)\n",
    "        y[:,:-1],y[:,-1] = x[:,1:] ,x[:,0]\n",
    "        yield x, y"
   ]
  },
  {
   "cell_type": "markdown",
   "metadata": {},
   "source": [
    "Now I'll make my data sets and we can check out what's going on here. Here I'm going to use a batch size of 10 and 50 sequence steps."
   ]
  },
  {
   "cell_type": "code",
   "execution_count": 19,
   "metadata": {
    "collapsed": true
   },
   "outputs": [],
   "source": [
    "batches = get_batches(encoded, 10, 50)\n",
    "x, y = next(batches)"
   ]
  },
  {
   "cell_type": "code",
   "execution_count": 20,
   "metadata": {},
   "outputs": [
    {
     "name": "stdout",
     "output_type": "stream",
     "text": [
      "x\n",
      " [[ 10  78  85  58  99  92   5  92  23  25]\n",
      " [ 58  68  17  50  58  74  53  53  17  74]\n",
      " [ 58  87  74  16  17  93   1  41  48  68]\n",
      " [ 17  43  58  20  41  41  53  31  41  20]\n",
      " [ 50  20  26  58  50  41  58  74  20  20]\n",
      " [ 17  74  93  20  26  58  87  74  20 100]\n",
      " [ 17  68  58  34  17  93  17  58  74  77]\n",
      " [  1  58  74  43  16  74   1  87  17  96]\n",
      " [ 74  87  17  43  58  43  41  34   1  58]\n",
      " [ 50  74  95   1  62  68  58  13  74  68]]\n",
      "\n",
      "y\n",
      " [[  78.   85.   58.   99.   92.    5.   92.   23.   25.   58.]\n",
      " [  68.   17.   50.   58.   74.   53.   53.   17.   74.   20.]\n",
      " [  87.   74.   16.   17.   93.    1.   41.   48.   68.   58.]\n",
      " [  43.   58.   20.   41.   41.   53.   31.   41.   20.   17.]\n",
      " [  20.   26.   58.   50.   41.   58.   74.   20.   20.   41.]\n",
      " [  74.   93.   20.   26.   58.   87.   74.   20.  100.   96.]\n",
      " [  68.   58.   34.   17.   93.   17.   58.   74.   77.   74.]\n",
      " [  58.   74.   43.   16.   74.    1.   87.   17.   96.   58.]\n",
      " [  87.   17.   43.   58.   43.   41.   34.    1.   58.   53.]\n",
      " [  74.   95.    1.   62.   68.   58.   13.   74.   68.   17.]]\n"
     ]
    }
   ],
   "source": [
    "print('x\\n', x[:10, :10])\n",
    "print('\\ny\\n', y[:10, :10])"
   ]
  },
  {
   "cell_type": "markdown",
   "metadata": {},
   "source": [
    "## Building the model\n",
    "\n",
    "Below is where you'll build the network. We'll break it up into parts so it's easier to reason about each bit. Then we can connect them up into the whole network.\n",
    "\n",
    "<img src=\"assets/charRNN.png\" width=500px>\n",
    "\n",
    "\n",
    "### Inputs\n",
    "\n",
    "First off we'll create our input placeholders. As usual we need placeholders for the training data and the targets. We'll also create a placeholder for dropout layers called `keep_prob`. This will be a scalar, that is a 0-D tensor. To make a scalar, you create a placeholder without giving it a size."
   ]
  },
  {
   "cell_type": "code",
   "execution_count": 21,
   "metadata": {
    "collapsed": true
   },
   "outputs": [],
   "source": [
    "def build_inputs(batch_size, num_steps):\n",
    "    ''' Define placeholders for inputs, targets, and dropout \n",
    "    \n",
    "        Arguments\n",
    "        ---------\n",
    "        batch_size: Batch size, number of sequences per batch\n",
    "        num_steps: Number of sequence steps in a batch\n",
    "        \n",
    "    '''\n",
    "    # Declare placeholders we'll feed into the graph\n",
    "    inputs = tf.placeholder(tf.int32,[batch_size,num_steps],name=\"inputs\")\n",
    "    targets = tf.placeholder(tf.int32,[batch_size,num_steps],name=\"targets\")\n",
    "    \n",
    "    # Keep probability placeholder for drop out layers\n",
    "    keep_prob = tf.placeholder(tf.float32,name=\"keep_prob\")\n",
    "    \n",
    "    return inputs, targets, keep_prob"
   ]
  },
  {
   "cell_type": "markdown",
   "metadata": {},
   "source": [
    "### LSTM Cell\n",
    "\n",
    "Here we will create the LSTM cell we'll use in the hidden layer. We'll use this cell as a building block for the RNN. So we aren't actually defining the RNN here, just the type of cell we'll use in the hidden layer.\n",
    "\n",
    "We first create a basic LSTM cell with\n",
    "\n",
    "```python\n",
    "lstm = tf.contrib.rnn.BasicLSTMCell(num_units)\n",
    "```\n",
    "\n",
    "where `num_units` is the number of units in the hidden layers in the cell. Then we can add dropout by wrapping it with \n",
    "\n",
    "```python\n",
    "tf.contrib.rnn.DropoutWrapper(lstm, output_keep_prob=keep_prob)\n",
    "```\n",
    "You pass in a cell and it will automatically add dropout to the inputs or outputs. Finally, we can stack up the LSTM cells into layers with [`tf.contrib.rnn.MultiRNNCell`](https://www.tensorflow.org/versions/r1.0/api_docs/python/tf/contrib/rnn/MultiRNNCell). With this, you pass in a list of cells and it will send the output of one cell into the next cell. For example,\n",
    "\n",
    "```python\n",
    "tf.contrib.rnn.MultiRNNCell([cell]*num_layers)\n",
    "```\n",
    "\n",
    "This might look a little weird if you know Python well because this will create a list of the same `cell` object. However, TensorFlow will create different weight matrices for all `cell` objects. Even though this is actually multiple LSTM cells stacked on each other, you can treat the multiple layers as one cell.\n",
    "\n",
    "We also need to create an initial cell state of all zeros. This can be done like so\n",
    "\n",
    "```python\n",
    "initial_state = cell.zero_state(batch_size, tf.float32)\n",
    "```\n"
   ]
  },
  {
   "cell_type": "code",
   "execution_count": 22,
   "metadata": {
    "collapsed": true
   },
   "outputs": [],
   "source": [
    "def build_lstm(lstm_size, num_layers, batch_size, keep_prob):\n",
    "    ''' Build LSTM cell.\n",
    "    \n",
    "        Arguments\n",
    "        ---------\n",
    "        keep_prob: Scalar tensor (tf.placeholder) for the dropout keep probability\n",
    "        lstm_size: Size of the hidden layers in the LSTM cells\n",
    "        num_layers: Number of LSTM layers\n",
    "        batch_size: Batch size\n",
    "\n",
    "    '''\n",
    "    ### Build the LSTM Cell\n",
    "    # Use a basic LSTM cell\n",
    "    # Add dropout to the cell outputs\n",
    "    # Stack up multiple LSTM layers, for deep learning\n",
    "    cell = tf.contrib.rnn.MultiRNNCell([tf.contrib.rnn.DropoutWrapper( tf.contrib.rnn.BasicLSTMCell(lstm_size),output_keep_prob = keep_prob) for _ in range(num_layers)])\n",
    "    initial_state = cell.zero_state(batch_size,tf.float32)\n",
    "    \n",
    "    return cell, initial_state"
   ]
  },
  {
   "cell_type": "markdown",
   "metadata": {},
   "source": [
    "### RNN Output\n",
    "\n",
    "Here we'll create the output layer. We need to connect the output of the RNN cells to a full connected layer with a softmax output. The softmax output gives us a probability distribution we can use to predict the next character, so we want this layer to have size $C$, the number of classes/characters we have in our text.\n",
    "\n",
    "If our input has batch size $N$, number of steps $M$, and the hidden layer has $L$ hidden units, then the output is a 3D tensor with size $N \\times M \\times L$. The output of each LSTM cell has size $L$, we have $M$ of them, one for each sequence step, and we have $N$ sequences. So the total size is $N \\times M \\times L$. \n",
    "\n",
    "We are using the same fully connected layer, the same weights, for each of the outputs. Then, to make things easier, we should reshape the outputs into a 2D tensor with shape $(M * N) \\times L$. That is, one row for each sequence and step, where the values of each row are the output from the LSTM cells. We get the LSTM output as a list, `lstm_output`. First we need to concatenate this whole list into one array with [`tf.concat`](https://www.tensorflow.org/api_docs/python/tf/concat). Then, reshape it (with `tf.reshape`) to size $(M * N) \\times L$.\n",
    "\n",
    "One we have the outputs reshaped, we can do the matrix multiplication with the weights. We need to wrap the weight and bias variables in a variable scope with `tf.variable_scope(scope_name)` because there are weights being created in the LSTM cells. TensorFlow will throw an error if the weights created here have the same names as the weights created in the LSTM cells, which they will be default. To avoid this, we wrap the variables in a variable scope so we can give them unique names.\n"
   ]
  },
  {
   "cell_type": "code",
   "execution_count": 23,
   "metadata": {
    "collapsed": true
   },
   "outputs": [],
   "source": [
    "def build_output(lstm_output, in_size, out_size):\n",
    "    ''' Build a softmax layer, return the softmax output and logits.\n",
    "    \n",
    "        Arguments\n",
    "        ---------\n",
    "        \n",
    "        lstm_output: List of output tensors from the LSTM layer\n",
    "        in_size: Size of the input tensor, for example, size of the LSTM cells\n",
    "        out_size: Size of this softmax layer\n",
    "    \n",
    "    '''\n",
    "\n",
    "    # Reshape output so it's a bunch of rows, one row for each step for each sequence.\n",
    "    # Concatenate lstm_output over axis 1 (the columns)\n",
    "    seq_output = tf.concat(lstm_output,axis=1)\n",
    "    # Reshape seq_output to a 2D tensor with lstm_size columns\n",
    "    x = tf.reshape(seq_output,[-1,in_size])\n",
    "    \n",
    "    # Connect the RNN outputs to a softmax layer\n",
    "    with tf.variable_scope('softmax'):\n",
    "        # Create the weight and bias variables here\n",
    "        softmax_w = tf.Variable(tf.truncated_normal((in_size, out_size),stddev=0.1))\n",
    "        softmax_b = tf.Variable(tf.zeros([out_size]))\n",
    "    \n",
    "    # Since output is a bunch of rows of RNN cell outputs, logits will be a bunch\n",
    "    # of rows of logit outputs, one for each step and sequence\n",
    "    logits =  tf.add(tf.matmul(x,softmax_w),softmax_b) \n",
    "    \n",
    "    # Use softmax to get the probabilities for predicted characters\n",
    "    out = tf.nn.softmax(logits,name =\"out\")\n",
    "    \n",
    "    return out, logits"
   ]
  },
  {
   "cell_type": "markdown",
   "metadata": {},
   "source": [
    "### Training loss\n",
    "\n",
    "Next up is the training loss. We get the logits and targets and calculate the softmax cross-entropy loss. First we need to one-hot encode the targets, we're getting them as encoded characters. Then, reshape the one-hot targets so it's a 2D tensor with size $(M*N) \\times C$ where $C$ is the number of classes/characters we have. Remember that we reshaped the LSTM outputs and ran them through a fully connected layer with $C$ units. So our logits will also have size $(M*N) \\times C$.\n",
    "\n",
    "Then we run the logits and targets through `tf.nn.softmax_cross_entropy_with_logits` and find the mean to get the loss."
   ]
  },
  {
   "cell_type": "code",
   "execution_count": 24,
   "metadata": {
    "collapsed": true
   },
   "outputs": [],
   "source": [
    "def build_loss(logits, targets, lstm_size, num_classes):\n",
    "    ''' Calculate the loss from the logits and the targets.\n",
    "    \n",
    "        Arguments\n",
    "        ---------\n",
    "        logits: Logits from final fully connected layer\n",
    "        targets: Targets for supervised learning\n",
    "        lstm_size: Number of LSTM hidden units\n",
    "        num_classes: Number of classes in targets\n",
    "        \n",
    "    '''\n",
    "    # One-hot encode targets and reshape to match logits, one row per sequence per step\n",
    "    y_one_hot = tf.one_hot(targets,num_classes)\n",
    "    y_reshaped =  tf.reshape(y_one_hot,logits.get_shape())\n",
    "    \n",
    "    # Softmax cross entropy loss\n",
    "    loss = tf.reduce_mean(tf.nn.softmax_cross_entropy_with_logits(logits=logits,labels=y_reshaped))\n",
    "    \n",
    "    return loss"
   ]
  },
  {
   "cell_type": "markdown",
   "metadata": {},
   "source": [
    "### Optimizer\n",
    "\n",
    "Here we build the optimizer. Normal RNNs have have issues gradients exploding and disappearing. LSTMs fix the disappearance problem, but the gradients can still grow without bound. To fix this, we can clip the gradients above some threshold. That is, if a gradient is larger than that threshold, we set it to the threshold. This will ensure the gradients never grow overly large. Then we use an AdamOptimizer for the learning step."
   ]
  },
  {
   "cell_type": "code",
   "execution_count": 25,
   "metadata": {
    "collapsed": true
   },
   "outputs": [],
   "source": [
    "def build_optimizer(loss, learning_rate, grad_clip,global_step):\n",
    "    ''' Build optmizer for training, using gradient clipping.\n",
    "    \n",
    "        Arguments:\n",
    "        loss: Network loss\n",
    "        learning_rate: Learning rate for optimizer\n",
    "        global_step: to control the total number of train steps\n",
    "    \n",
    "    '''\n",
    "    \n",
    "    # Optimizer for training, using gradient clipping to control exploding gradients\n",
    "    tvars = tf.trainable_variables()\n",
    "    grads, _ = tf.clip_by_global_norm(tf.gradients(loss, tvars), grad_clip)\n",
    "    train_op = tf.train.AdamOptimizer(learning_rate)\n",
    "    optimizer = train_op.apply_gradients(zip(grads, tvars),global_step)\n",
    "    \n",
    "    return optimizer"
   ]
  },
  {
   "cell_type": "markdown",
   "metadata": {},
   "source": [
    "### Build the network\n",
    "\n",
    "Now we can put all the pieces together and build a class for the network. To actually run data through the LSTM cells, we will use [`tf.nn.dynamic_rnn`](https://www.tensorflow.org/versions/r1.0/api_docs/python/tf/nn/dynamic_rnn). This function will pass the hidden and cell states across LSTM cells appropriately for us. It returns the outputs for each LSTM cell at each step for each sequence in the mini-batch. It also gives us the final LSTM state. We want to save this state as `final_state` so we can pass it to the first LSTM cell in the the next mini-batch run. For `tf.nn.dynamic_rnn`, we pass in the cell and initial state we get from `build_lstm`, as well as our input sequences. Also, we need to one-hot encode the inputs before going into the RNN. \n"
   ]
  },
  {
   "cell_type": "code",
   "execution_count": 26,
   "metadata": {
    "collapsed": true
   },
   "outputs": [],
   "source": [
    "class CharRNN:\n",
    "    \n",
    "    def __init__(self, num_classes, batch_size=64, num_steps=50, \n",
    "                       lstm_size=128, num_layers=2, learning_rate=0.001, \n",
    "                       grad_clip=5, sampling=False):\n",
    "    \n",
    "        # When we're using this network for sampling later, we'll be passing in\n",
    "        # one character at a time, so providing an option for that\n",
    "        if sampling == True:\n",
    "            batch_size, num_steps = 1, 1\n",
    "        else:\n",
    "            batch_size, num_steps = batch_size, num_steps\n",
    "\n",
    "        tf.reset_default_graph()\n",
    "        \n",
    "        self.global_step_tensor = tf.Variable(0,trainable=False,name = \"global_step\")\n",
    "        # Build the input placeholder tensors\n",
    "        self.inputs, self.targets, self.keep_prob = build_inputs(batch_size,num_steps)\n",
    "        # Build the LSTM cell\n",
    "        cell, self.initial_state = build_lstm(lstm_size,num_layers,batch_size,self.keep_prob)\n",
    "        ### Run the data through the RNN layers\n",
    "        # First, one-hot encode the input tokens\n",
    "        x_one_hot = tf.one_hot(self.inputs,num_classes)\n",
    "        \n",
    "        self.grad_clip  = grad_clip\n",
    "        # Run each sequence step through the RNN with tf.nn.dynamic_rnn \n",
    "        outputs, state = tf.nn.dynamic_rnn(cell,x_one_hot,initial_state=self.initial_state)\n",
    "        self.final_state = state\n",
    "        \n",
    "        # Get softmax predictions and logits\n",
    "        self.prediction, self.logits = build_output(outputs,lstm_size,num_classes)\n",
    "        \n",
    "        # Loss and optimizer (with gradient clipping)\n",
    "        self.loss =  build_loss(self.logits,self.targets,lstm_size,num_classes)\n",
    "        self.optimizer = build_optimizer(self.loss,learning_rate,grad_clip,self.global_step_tensor)"
   ]
  },
  {
   "cell_type": "markdown",
   "metadata": {},
   "source": [
    "## Hyperparameters\n",
    "\n",
    "Here are the hyperparameters for the network.\n",
    "\n",
    "* `batch_size` - Number of sequences running through the network in one pass.\n",
    "* `num_steps` - Number of characters in the sequence the network is trained on. Larger is better typically, the network will learn more long range dependencies. But it takes longer to train. 100 is typically a good number here.\n",
    "* `lstm_size` - The number of units in the hidden layers.\n",
    "* `num_layers` - Number of hidden LSTM layers to use\n",
    "* `learning_rate` - Learning rate for training\n",
    "* `keep_prob` - The dropout keep probability when training. If you're network is overfitting, try decreasing this.\n",
    "\n",
    "Here's some good advice from Andrej Karpathy on training the network:. \n",
    "\n",
    "> ## Tips and Tricks\n",
    "\n",
    ">### Monitoring Validation Loss vs. Training Loss\n",
    ">If you're somewhat new to Machine Learning or Neural Networks it can take a bit of expertise to get good models. The most important quantity to keep track of is the difference between your training loss (printed during training) and the validation loss (printed once in a while when the RNN is run on the validation data (by default every 1000 iterations)). In particular:\n",
    "\n",
    "> - If your training loss is much lower than validation loss then this means the network might be **overfitting**. Solutions to this are to decrease your network size, or to increase dropout. For example you could try dropout of 0.5 and so on.\n",
    "> - If your training/validation loss are about equal then your model is **underfitting**. Increase the size of your model (either number of layers or the raw number of neurons per layer)\n",
    "\n",
    "> ### Approximate number of parameters\n",
    "\n",
    "> The two most important parameters that control the model are `lstm_size` and `num_layers`. I would advise that you always use `num_layers` of either 2/3. The `lstm_size` can be adjusted based on how much data you have. The two important quantities to keep track of here are:\n",
    "\n",
    "> - The number of parameters in your model. This is printed when you start training.\n",
    "> - The size of your dataset. 1MB file is approximately 1 million characters.\n",
    "\n",
    ">These two should be about the same order of magnitude. It's a little tricky to tell. Here are some examples:\n",
    "\n",
    "> - I have a 100MB dataset and I'm using the default parameter settings (which currently print 150K parameters). My data size is significantly larger (100 mil >> 0.15 mil), so I expect to heavily underfit. I am thinking I can comfortably afford to make `lstm_size` larger.\n",
    "> - I have a 10MB dataset and running a 10 million parameter model. I'm slightly nervous and I'm carefully monitoring my validation loss. If it's larger than my training loss then I may want to try to increase dropout a bit and see if that helps the validation loss.\n",
    "\n",
    "> ### Best models strategy\n",
    "\n",
    ">The winning strategy to obtaining very good models (if you have the compute time) is to always err on making the network larger (as large as you're willing to wait for it to compute) and then try different dropout values (between 0,1). Whatever model has the best validation performance (the loss, written in the checkpoint filename, low is good) is the one you should use in the end.\n",
    "\n",
    ">It is very common in deep learning to run many different models with many different hyperparameter settings, and in the end take whatever checkpoint gave the best validation performance.\n",
    "\n",
    ">By the way, the size of your training and validation splits are also parameters. Make sure you have a decent amount of data in your validation set or otherwise the validation performance will be noisy and not very informative."
   ]
  },
  {
   "cell_type": "code",
   "execution_count": 27,
   "metadata": {
    "collapsed": true
   },
   "outputs": [],
   "source": [
    "def get_number_of_parameters():\n",
    "    total_parameters = 0\n",
    "    for variable in tf.trainable_variables():\n",
    "        shape = variable.get_shape()\n",
    "        #print(shape)\n",
    "        #print(len(shape))\n",
    "        variable_parameters = 1\n",
    "        \n",
    "        for dim in shape:\n",
    "            #print(dim)\n",
    "            variable_parameters*=dim.value\n",
    "        #print(variable_parameters)\n",
    "        total_parameters+= variable_parameters\n",
    "    return total_parameters"
   ]
  },
  {
   "cell_type": "code",
   "execution_count": 28,
   "metadata": {
    "collapsed": true
   },
   "outputs": [],
   "source": [
    "def pick_top_n(preds, vocab_size, top_n=5):\n",
    "    p = np.squeeze(preds)\n",
    "    p[np.argsort(p)[:-top_n]] = 0\n",
    "    p = p / np.sum(p)\n",
    "    c = np.random.choice(vocab_size, 1, p=p)[0]\n",
    "    return c"
   ]
  },
  {
   "cell_type": "markdown",
   "metadata": {},
   "source": [
    "## Time for training\n",
    "\n",
    "This is typical training code, passing inputs and targets into the network, then running the optimizer. Here we also get back the final LSTM state for the mini-batch. Then, we pass that state back into the network so the next batch can continue the state from the previous batch. And every so often (set by `save_every_n`) I save a checkpoint.\n",
    "\n",
    "Here I'm saving checkpoints with the format\n",
    "\n",
    "`i{iteration number}_l{# hidden layer units}.ckpt`\n"
   ]
  },
  {
   "cell_type": "code",
   "execution_count": 29,
   "metadata": {
    "collapsed": true
   },
   "outputs": [],
   "source": [
    "losses = {\"train\":[],\"validation\":[]}\n",
    "x_steps = list()"
   ]
  },
  {
   "cell_type": "code",
   "execution_count": 54,
   "metadata": {},
   "outputs": [
    {
     "name": "stdout",
     "output_type": "stream",
     "text": [
      "Training starting at time: 2017-10-24 00:33:27\n",
      "Number of parameters: 12518102 Dataset size: 2563420\n",
      "INFO:tensorflow:Restoring parameters from checkpoints/mcharacters_i9011_l1000.ckpt\n",
      "Epoch: 1/15...  Training Step: 9012...  Training loss: 0.7582...  Val loss: 1.8409...  0.5012 sec/batch\n",
      "Epoch: 1/15...  Training Step: 9112...  Training loss: 0.6767...  Val loss: 1.8332...  0.4074 sec/batch\n",
      "Epoch: 1/15...  Training Step: 9212...  Training loss: 0.7186...  Val loss: 1.8383...  0.4077 sec/batch\n",
      "Epoch: 2/15...  Training Step: 9312...  Training loss: 0.6958...  Val loss: 1.8373...  0.4112 sec/batch\n",
      "Epoch: 2/15...  Training Step: 9412...  Training loss: 0.6980...  Val loss: 1.8191...  0.4080 sec/batch\n",
      "Epoch: 2/15...  Training Step: 9512...  Training loss: 0.6854...  Val loss: 1.8284...  0.4080 sec/batch\n",
      "Epoch: 3/15...  Training Step: 9612...  Training loss: 0.6866...  Val loss: 1.8211...  0.4105 sec/batch\n",
      "Epoch: 3/15...  Training Step: 9712...  Training loss: 0.6556...  Val loss: 1.8389...  0.4087 sec/batch\n",
      "Epoch: 3/15...  Training Step: 9812...  Training loss: 0.6863...  Val loss: 1.8538...  0.4193 sec/batch\n",
      "Epoch: 4/15...  Training Step: 9912...  Training loss: 0.6700...  Val loss: 1.8479...  0.4089 sec/batch\n",
      "Epoch: 4/15...  Training Step: 10012...  Training loss: 0.7146...  Val loss: 1.8397...  0.4288 sec/batch\n",
      "Epoch: 5/15...  Training Step: 10112...  Training loss: 0.6856...  Val loss: 1.8477...  0.4079 sec/batch\n",
      "Epoch: 5/15...  Training Step: 10212...  Training loss: 0.6618...  Val loss: 1.8665...  0.4107 sec/batch\n",
      "Epoch: 5/15...  Training Step: 10312...  Training loss: 0.6729...  Val loss: 1.8440...  0.4176 sec/batch\n",
      "Epoch: 6/15...  Training Step: 10412...  Training loss: 0.6703...  Val loss: 1.8309...  0.4088 sec/batch\n",
      "Epoch: 6/15...  Training Step: 10512...  Training loss: 0.6442...  Val loss: 1.8448...  0.4297 sec/batch\n",
      "Epoch: 6/15...  Training Step: 10612...  Training loss: 0.6718...  Val loss: 1.8495...  0.4107 sec/batch\n",
      "Epoch: 7/15...  Training Step: 10712...  Training loss: 0.6453...  Val loss: 1.8687...  0.4201 sec/batch\n",
      "Epoch: 7/15...  Training Step: 10812...  Training loss: 0.6476...  Val loss: 1.8500...  0.4077 sec/batch\n",
      "Epoch: 8/15...  Training Step: 10912...  Training loss: 0.6620...  Val loss: 1.8554...  0.4199 sec/batch\n",
      "Epoch: 8/15...  Training Step: 11012...  Training loss: 0.6544...  Val loss: 1.8604...  0.4076 sec/batch\n",
      "Epoch: 8/15...  Training Step: 11112...  Training loss: 0.6602...  Val loss: 1.8734...  0.4314 sec/batch\n",
      "Epoch: 9/15...  Training Step: 11212...  Training loss: 0.6613...  Val loss: 1.8506...  0.4166 sec/batch\n",
      "Epoch: 9/15...  Training Step: 11312...  Training loss: 0.6197...  Val loss: 1.8677...  0.4330 sec/batch\n",
      "Epoch: 9/15...  Training Step: 11412...  Training loss: 0.6367...  Val loss: 1.8741...  0.4430 sec/batch\n",
      "Epoch: 10/15...  Training Step: 11512...  Training loss: 0.6285...  Val loss: 1.8673...  0.4071 sec/batch\n",
      "Epoch: 10/15...  Training Step: 11612...  Training loss: 0.6655...  Val loss: 1.8874...  0.4399 sec/batch\n",
      "Epoch 10/15 time:111.7581877708435...  finished at 2017-10-24 00:51:58\n",
      "Epoch: 11/15...  Training Step: 11712...  Training loss: 0.6530...  Val loss: 1.8824...  0.4078 sec/batch\n",
      "Epoch: 11/15...  Training Step: 11812...  Training loss: 0.6443...  Val loss: 1.9084...  0.4077 sec/batch\n",
      "Epoch: 11/15...  Training Step: 11912...  Training loss: 0.6393...  Val loss: 1.8666...  0.4070 sec/batch\n",
      "Epoch: 12/15...  Training Step: 12012...  Training loss: 0.6570...  Val loss: 1.8847...  0.4078 sec/batch\n",
      "Epoch: 12/15...  Training Step: 12112...  Training loss: 0.6167...  Val loss: 1.8868...  0.4078 sec/batch\n",
      "Epoch: 12/15...  Training Step: 12212...  Training loss: 0.6242...  Val loss: 1.9011...  0.4081 sec/batch\n",
      "Epoch: 13/15...  Training Step: 12312...  Training loss: 0.6276...  Val loss: 1.8699...  0.4077 sec/batch\n",
      "Epoch: 13/15...  Training Step: 12412...  Training loss: 0.6421...  Val loss: 1.8714...  0.4078 sec/batch\n",
      "Epoch: 14/15...  Training Step: 12512...  Training loss: 0.6288...  Val loss: 1.8862...  0.4083 sec/batch\n",
      "Epoch: 14/15...  Training Step: 12612...  Training loss: 0.6357...  Val loss: 1.8929...  0.4075 sec/batch\n",
      "Epoch: 14/15...  Training Step: 12712...  Training loss: 0.6286...  Val loss: 1.8967...  0.4076 sec/batch\n",
      "Epoch: 15/15...  Training Step: 12812...  Training loss: 0.6422...  Val loss: 1.8821...  0.4078 sec/batch\n",
      "Epoch: 15/15...  Training Step: 12912...  Training loss: 0.6222...  Val loss: 1.8955...  0.4078 sec/batch\n",
      "Epoch: 15/15...  Training Step: 13012...  Training loss: 0.6245...  Val loss: 1.9172...  0.4078 sec/batch\n",
      "Training ending at time: 2017-10-24 01:01:07\n",
      "Trainint total time: 1659.9381732940674\n"
     ]
    }
   ],
   "source": [
    "#epochs = 1\n",
    "# Save every N iterations\n",
    "save_every_n = 500\n",
    "print_loss_every_n = 100\n",
    "sample_every = 500\n",
    "print_epoch_time_every = 10\n",
    "\n",
    "with tf.device(\"/gpu:0\"):\n",
    "    model = CharRNN(len(vocab), batch_size=batch_size, num_steps=num_steps,\n",
    "                lstm_size=lstm_size, num_layers=num_layers, \n",
    "                learning_rate=learning_rate)\n",
    "    #print(\"after model\")\n",
    "\n",
    "saver = tf.train.Saver(max_to_keep=5)\n",
    "print(\"Training starting at time:\",strftime(\"%Y-%m-%d %H:%M:%S\", localtime()))\n",
    "train_start_time = time.time()\n",
    "with tf.Session() as sess:\n",
    "    sess.run(tf.global_variables_initializer())\n",
    "    print(\"Number of parameters:\",get_number_of_parameters(),\"Dataset size:\",len(encoded))\n",
    "    #print(\"after initializer\")\n",
    "    if resume_from_checkpoint:\n",
    "        latest_checkpoint = tf.train.latest_checkpoint('checkpoints')\n",
    "        saver.restore(sess, latest_checkpoint)\n",
    "    counter = 0\n",
    "    for e in range(epochs):\n",
    "        # Train network\n",
    "        epoch_start = time.time()\n",
    "        \n",
    "        new_state = sess.run(model.initial_state)\n",
    "        loss = 0\n",
    "        for x, y in get_batches(encoded, batch_size, num_steps):\n",
    "            \n",
    "            \n",
    "            start = time.time()\n",
    "            feed = {model.inputs: x,\n",
    "                    model.targets: y,\n",
    "                    model.keep_prob: keep_prob,\n",
    "                    model.initial_state: new_state}\n",
    "            batch_loss, new_state, _ = sess.run([model.loss, \n",
    "                                                 model.final_state, \n",
    "                                                 model.optimizer], \n",
    "                                                 feed_dict=feed)\n",
    "        \n",
    "            \n",
    "            end = time.time()\n",
    "            if counter%print_loss_every_n == 0:\n",
    "                val_batches = get_batches(encoded_val,int(len(encoded_val)/num_steps),num_steps)\n",
    "                x_val,y_val = next(val_batches)\n",
    "                \n",
    "                val_dict = {model.inputs: x_val,\n",
    "                            model.targets: y_val,\n",
    "                            model.keep_prob: 1,\n",
    "                            model.initial_state: new_state}\n",
    "                \n",
    "                val_loss,prediction = sess.run([model.loss,model.prediction],feed_dict=val_dict)\n",
    "                \n",
    "                losses[\"train\"].append(batch_loss)\n",
    "                losses[\"validation\"].append(val_loss)\n",
    "                \n",
    "                \n",
    "                global_step = tf.train.global_step(sess,model.global_step_tensor)\n",
    "                x_steps.append(global_step)\n",
    "                \n",
    "                print('Epoch: {}/{}... '.format(e+1, epochs),\n",
    "                      'Training Step: {}... '.format(global_step),\n",
    "                      'Training loss: {:.4f}... '.format(batch_loss),\n",
    "                      'Val loss: {:.4f}... '.format(val_loss),\n",
    "                      '{:.4f} sec/batch'.format((end-start)))\n",
    "        \n",
    "            if (counter % save_every_n == 0):\n",
    "                global_step = tf.train.global_step(sess,model.global_step_tensor)\n",
    "                saver.save(sess, \"checkpoints/m{}_i{}_l{}.ckpt\".format(mode,global_step, lstm_size))\n",
    "                \n",
    "            counter += 1\n",
    "            #learning_rate*=0.75\n",
    "            #model.optimizer = build_optimizer(model.loss,learning_rate,model.grad_clip,model.global_step_tensor)\n",
    "        \n",
    "        epoch_end = time.time()\n",
    "        \n",
    "        \n",
    "        if ((e+1) % print_epoch_time_every== 0):\n",
    "            print('Epoch {}/{} time:{}...'.format(e+1,epochs,epoch_end-epoch_start),\n",
    "                 \" finished at\",strftime(\"%Y-%m-%d %H:%M:%S\", localtime()))\n",
    "        \n",
    "            \n",
    "    global_step = tf.train.global_step(sess,model.global_step_tensor)\n",
    "    saver.save(sess, \"checkpoints/m{}_i{}_l{}.ckpt\".format(mode,global_step, lstm_size))\n",
    "    \n",
    "print(\"Training ending at time:\",strftime(\"%Y-%m-%d %H:%M:%S\", localtime()))\n",
    "print(\"Trainint total time:\",time.time()-train_start_time)"
   ]
  },
  {
   "cell_type": "code",
   "execution_count": 55,
   "metadata": {},
   "outputs": [
    {
     "data": {
      "image/png": "[encoded data removed]",
      "text/plain": [
       "<matplotlib.figure.Figure at 0x7f0524fc1c50>"
      ]
     },
     "metadata": {
      "image/png": {
       "height": 250,
       "width": 373
      }
     },
     "output_type": "display_data"
    }
   ],
   "source": [
    "plt.plot(x_steps,losses[\"train\"],label=\"Train loss\")\n",
    "plt.plot(x_steps,losses[\"validation\"],label=\"Validation loss\")\n",
    "plt.legend()\n",
    "_ = plt.ylim()"
   ]
  },
  {
   "cell_type": "markdown",
   "metadata": {},
   "source": [
    "#### Saved checkpoints\n",
    "\n",
    "Read up on saving and loading checkpoints here: https://www.tensorflow.org/programmers_guide/variables"
   ]
  },
  {
   "cell_type": "code",
   "execution_count": 56,
   "metadata": {
    "collapsed": true
   },
   "outputs": [],
   "source": [
    "checkpoints = tf.train.get_checkpoint_state('checkpoints')"
   ]
  },
  {
   "cell_type": "markdown",
   "metadata": {},
   "source": [
    "## Sampling final trained model\n",
    "\n",
    "Now that the network is trained, we'll can use it to generate new text. The idea is that we pass in a character, then the network will predict the next character. We can use the new one, to predict the next one. And we keep doing this to generate all new text. I also included some functionality to prime the network with some text by passing in a string and building up a state from that.\n",
    "\n",
    "The network gives us predictions for each character. To reduce noise and make things a little less random, I'm going to only choose a new character from the top N most likely characters.\n",
    "\n"
   ]
  },
  {
   "cell_type": "code",
   "execution_count": 57,
   "metadata": {
    "collapsed": true
   },
   "outputs": [],
   "source": [
    "def sample(checkpoint, n_samples, lstm_size, vocab_size, prime=\"The \",mode=\"characters\"):\n",
    "    print(mode)\n",
    "    samples = tokenize_text(prime,mode)\n",
    "    model = CharRNN(len(vocab), lstm_size=lstm_size, sampling=True)\n",
    "    saver = tf.train.Saver()\n",
    "    with tf.Session() as sess:\n",
    "        saver.restore(sess, checkpoint)\n",
    "        new_state = sess.run(model.initial_state)\n",
    "        for c in tokenize_text(prime,mode):\n",
    "            x = np.zeros((1, 1))\n",
    "            x[0,0] = vocab_to_int[c]\n",
    "            feed = {model.inputs: x,\n",
    "                    model.keep_prob: 1.,\n",
    "                    model.initial_state: new_state}\n",
    "            preds, new_state = sess.run([model.prediction, model.final_state], \n",
    "                                         feed_dict=feed)\n",
    "\n",
    "        c = pick_top_n(preds, len(vocab))\n",
    "        samples.append(int_to_vocab[c])\n",
    "\n",
    "        for i in range(n_samples):\n",
    "            x[0,0] = c\n",
    "            feed = {model.inputs: x,\n",
    "                    model.keep_prob: 1.,\n",
    "                    model.initial_state: new_state}\n",
    "            preds, new_state = sess.run([model.prediction, model.final_state], \n",
    "                                         feed_dict=feed)\n",
    "\n",
    "            c = pick_top_n(preds, len(vocab))\n",
    "            samples.append(int_to_vocab[c])\n",
    "        \n",
    "    return ''.join(samples).replace(\"new_line_token\",\"\\n\")"
   ]
  },
  {
   "cell_type": "markdown",
   "metadata": {},
   "source": [
    "Here, pass in the path to a checkpoint and sample from the network."
   ]
  },
  {
   "cell_type": "code",
   "execution_count": 58,
   "metadata": {},
   "outputs": [
    {
     "data": {
      "text/plain": [
       "'checkpoints/mcharacters_i13016_l1000.ckpt'"
      ]
     },
     "execution_count": 58,
     "metadata": {},
     "output_type": "execute_result"
    }
   ],
   "source": [
    "tf.train.latest_checkpoint('checkpoints')"
   ]
  },
  {
   "cell_type": "markdown",
   "metadata": {},
   "source": [
    "## Generate new text from \"base\" text"
   ]
  },
  {
   "cell_type": "code",
   "execution_count": 59,
   "metadata": {},
   "outputs": [
    {
     "name": "stdout",
     "output_type": "stream",
     "text": [
      "characters\n",
      "INFO:tensorflow:Restoring parameters from checkpoints/mcharacters_i13016_l1000.ckpt\n",
      "characters\n",
      "INFO:tensorflow:Restoring parameters from checkpoints/mcharacters_i13016_l1000.ckpt\n",
      "characters\n",
      "INFO:tensorflow:Restoring parameters from checkpoints/mcharacters_i13016_l1000.ckpt\n",
      "characters\n",
      "INFO:tensorflow:Restoring parameters from checkpoints/mcharacters_i13016_l1000.ckpt\n",
      "characters\n",
      "INFO:tensorflow:Restoring parameters from checkpoints/mcharacters_i13016_l1000.ckpt\n",
      "characters\n",
      "INFO:tensorflow:Restoring parameters from checkpoints/mcharacters_i13016_l1000.ckpt\n",
      "characters\n",
      "INFO:tensorflow:Restoring parameters from checkpoints/mcharacters_i13016_l1000.ckpt\n",
      "characters\n",
      "INFO:tensorflow:Restoring parameters from checkpoints/mcharacters_i13016_l1000.ckpt\n",
      "characters\n",
      "INFO:tensorflow:Restoring parameters from checkpoints/mcharacters_i13016_l1000.ckpt\n",
      "characters\n",
      "INFO:tensorflow:Restoring parameters from checkpoints/mcharacters_i13016_l1000.ckpt\n",
      "characters\n",
      "INFO:tensorflow:Restoring parameters from checkpoints/mcharacters_i13016_l1000.ckpt\n",
      "characters\n",
      "INFO:tensorflow:Restoring parameters from checkpoints/mcharacters_i13016_l1000.ckpt\n",
      "characters\n",
      "INFO:tensorflow:Restoring parameters from checkpoints/mcharacters_i13016_l1000.ckpt\n",
      "characters\n",
      "INFO:tensorflow:Restoring parameters from checkpoints/mcharacters_i13016_l1000.ckpt\n",
      "characters\n",
      "INFO:tensorflow:Restoring parameters from checkpoints/mcharacters_i13016_l1000.ckpt\n",
      "characters\n",
      "INFO:tensorflow:Restoring parameters from checkpoints/mcharacters_i13016_l1000.ckpt\n"
     ]
    }
   ],
   "source": [
    "\n",
    "checkpoint = tf.train.latest_checkpoint('checkpoints')\n",
    "\n",
    "\n",
    "samples = list()\n",
    "for text in text_to_try:\n",
    "    #print(\"------------------------\",text)\n",
    "    samples.append( sample(checkpoint, 500, lstm_size, len(vocab), prime=text,mode=mode))\n",
    "    #print(samp)\n",
    "    #print(\"------------------------\")"
   ]
  },
  {
   "cell_type": "code",
   "execution_count": 60,
   "metadata": {},
   "outputs": [
    {
     "name": "stdout",
     "output_type": "stream",
     "text": [
      "------------------------ In the first place\n",
      "In the first place, the scattered nails had been merely fated by the several ords, with the since the entire meanl, whose motie stage and white and glistening from the water, alarmed, and glorious, sluggish designs witud itself in the most delight and the convenience whose clustered horuding an iron-beam-earned antique. In another moment, however, I wish to explain in any solitary and vivid countryments with the complete propries) of the bed, our sensations are embalming silent and are virtually such as this. His \n",
      "------------------------\n",
      "------------------------ the night before\n",
      "the night before anything hopelessly in the context in his philosophical Society of the Gardner plian, or ate a close of strange and silence and startling electric torch. It is not for the purpose of relief.\n",
      "\n",
      "In the meantime what might be stated as much as possible. His parentaying for downwatd tonds hiosed, and frolendously carven froth and blank and bleak,hard and scraping as the wheezing glance above the level of the steep river-up town that sprang to line in up the darter intrivical fear and leading upward a\n",
      "------------------------\n",
      "------------------------ horror\n",
      "horror and the mere different houses which he found in the manner at the stone flight of my dreams. I saw the leap in the direction there was not any previous matters of shouting. Her entering the half-chaynes of the doctor, drinking about only one extreme ritual, and she became acquainted for my bed, but the more closely on the roofs and scattered treasures, and the rocks of that cryptical stone covencilities of costume; although there were curious and scattering had been, too, was also so steep and u\n",
      "------------------------\n",
      "------------------------ creature\n",
      "creatures. We started up of certain points, and the sailors are\n",
      "openly ignorantable and sentiened to their own.\n",
      "\n",
      " no man ha related to exerted these, weeping along the wide spiral of fortyrow in analysis. The benefit of her eyes were far from ten or twenty deep water.\"\n",
      "\n",
      "    Finally,\n",
      "the mere electrodolic fifth steer fr poor no poor dreamy one,\n",
      "                       CHAPTER XXV\n",
      "\n",
      "    We cgird t  sdeeth too well to make theer admire that we might not be seen to be standing out at least by the pre-Cambrial \n",
      "------------------------\n",
      "------------------------ night\n",
      "night eaching in this monstrous dancer. I pushed in up the bushes and proved to be a secret as here.\n",
      "\n",
      "At last, in the end I had active a hope of the cripple, and drained out offer eighte or heavy graves. Sleepless, hideous, and stately safety turned toward the rear of the worse, and a fellow-deduction that he would be found to excite them oftener. This with her pater made themselves than that which I had anticipated with any further presence of mental doubts, while this playfulne settlement inscriptis\n",
      "------------------------\n",
      "------------------------ dream\n",
      "dreams of hearts somewhat alarm. I cannot precisely come barren or at the pass over the heads of the chief medical men, and that\n",
      "this table, I read the latter, a few days before, and was a very cheerful and examine and uneasy coincidence. Streams of penguin deposited the\n",
      "formulae and the many conceivable conditions; but hopping he had previously disconcerled his patience from them, and, indeed, it was only in asserted mathematies. The muskets having been suddenly fat, that the corpse was employed bene\n",
      "------------------------\n",
      "------------------------ thing\n",
      "thing many angles now. They would hold out things with the dark and town. The door being contrive to catch his feet with paracut, and a route before looking at the character of the curious recess.\n",
      "\n",
      "In other ends they would recover my statements, and to tell the taverns of death, who have ever beheld the sleek carts and trivial in incalcation. The profusion of my face and others were bent under simultaneous extent which had been crowded with frantic books, and the shriek of dreams hitherto being off su\n",
      "------------------------\n",
      "------------------------ That night\n",
      "That night After, reared, and I shall never hear the world or more sorrow--was made of the strange creatures of Nature, balconied in almhore stampering modes of common vertebrate by a memory on his shities, and so far as surely made peculiar abbio for a moment of the house and frightful cold waves that were neithead. He had told the transportation of emerging top to stop the shell of old towness. The bodies was a prodigious lurch.\n",
      "     Of his parents, as we drew up and raise that graduall oil in the monoli\n",
      "------------------------\n",
      "------------------------ mountain\n",
      "mountain- locking them to his parentage in the househeads of the gardens ofe above my mind. It was not all to send you to him in his house at all. I am going to much imagine to com, and both hereabouts. I was glad of it. I shall never he which I had followed a bodily explicit frolic of the boxed-link firm to the shocking bands flew. It is no man down, andihiss beyond either of those things, and there burstdd to aid us in a singular\n",
      "culiverity, told them somewhat in the same. We\n",
      "went much of tremendously \n",
      "------------------------\n",
      "------------------------ Ammi\n",
      "Ammi\n",
      "’emand Statine may Salte Can what makes Sleipury t’ne nud haow to gi old about Ianw and ark the reflectiin o’ haor. An’ they want too fac time aout of the wheel they seen. In a kind of for sartain Island.enner! I really knew it’s anything help that human shape hau’ this whole tous—to check the tendenne in his language of space-ton song, and saw it always the same the same testive detours. There are things whom no botton to be appreciable and archaic, althed feebly aliqveding that the strangeness\n",
      "------------------------\n",
      "------------------------ Cthulhu\n",
      "Cthulhu --dared nether at any eight feet of the strangeness of the patriarch at the school with the sound. It was the living, built in its water-level, and said that the spot her abandonment was a halt of stars from the door, and was a stupenvour interval they sought, to diffuse them as she do which I had suffered for despite his door, and now there flashed one save despite the close of the flesh attention. The silent case was a greatory white and unnatural sentiment --water? I then possessed me—that th\n",
      "------------------------\n",
      "------------------------ raven\n",
      "raven was a home. Trembecrening his wife dogs along that ancient ruin of summer provocative but most age in the surface of the channel of the steps.\n",
      "\n",
      "V.\n",
      "\n",
      "     To throw these two as they appeared to be the storm. By the coach will amiss, really facing alien form or ot certain objects; and it was truly,                           CHAPTER XXII\n",
      "\n",
      "    July 15, 1938, there is a treasure; but his gracefathing at this description had been to entertain, designed, too, that I could not help shouting, for its shad\n",
      "------------------------\n",
      "------------------------ bird\n",
      "birdaer hesitated court, but the mutiny handle was a low and down the bay, and stared bound away from the background?\n",
      "\n",
      "                       CHAPTER V\n",
      "\n",
      "    I had forget himself the colossal face and despair, he bore them from the atmosphere of the place, where the password glens were all since the laboratory at a time. Then something swore in a cloak of some kind of safe-brater precipice, and all the whole observation of summer, he said, of their mountains, and they were both on the stairs. Then cam\n",
      "------------------------\n",
      "------------------------ nevermore\n",
      "nevermore pools from the stars; but to the little difficulty would have brought us to allow for these arms- a feeble cryptogramy who ladded us with the manner of the\n",
      "most hideous tract, while the senior Ward may have been still there. I was now entirely determited, as well as the manner of many minutes, as set him\n",
      "up the conversation was not merely through in the most grouped towers at certain to altogether unseen by the water. In this point this time we were brought at a place as short, and all their own\n",
      "------------------------\n",
      "------------------------ dead\n",
      "dead and longitude though for hold on to approach\n",
      "them, but the period had been taken to anythequate taken these twenty-eights, to distinctly spare nowed and fierce six images; twenty-seventh he had touched. They were too much as possible, and the other, if who had been\n",
      "making the stern, with\n",
      "staring\n",
      "htahed with customs and conducted breakwaters in the approximation. The particulars of the mate recalls up in this discovery which I had anticipated.\n",
      "\n",
      "    When they feel that I mean mind even using the h\n",
      "------------------------\n",
      "------------------------ The bird\n",
      "The birds an' as ye repeate of the shore despite yourrow. I am unpleasanted, and the crags and darkestered sections about the dark, since the speaker had been tolerably deserted.\n",
      "     All sardoring aboman his final grandmother was wandering to see if any ordinary outpouting fields and massive little meanings wherein they were. Something instead as the farm was the mountain-brinking farmhouse spreading through tight front on my backs on the outset. No answer memory went trim-Darkness atop unknown Kadath i\n",
      "------------------------\n"
     ]
    }
   ],
   "source": [
    "for i in range(len(text_to_try)):\n",
    "    text = text_to_try[i]\n",
    "    generated = samples[i]\n",
    "    print(\"------------------------\",text)\n",
    "    print(generated)\n",
    "    print(\"------------------------\")"
   ]
  },
  {
   "cell_type": "code",
   "execution_count": 61,
   "metadata": {},
   "outputs": [
    {
     "data": {
      "text/plain": [
       "model_checkpoint_path: \"checkpoints/mcharacters_i13016_l1000.ckpt\"\n",
       "all_model_checkpoint_paths: \"checkpoints/mcharacters_i11512_l1000.ckpt\"\n",
       "all_model_checkpoint_paths: \"checkpoints/mcharacters_i12012_l1000.ckpt\"\n",
       "all_model_checkpoint_paths: \"checkpoints/mcharacters_i12512_l1000.ckpt\"\n",
       "all_model_checkpoint_paths: \"checkpoints/mcharacters_i13012_l1000.ckpt\"\n",
       "all_model_checkpoint_paths: \"checkpoints/mcharacters_i13016_l1000.ckpt\""
      ]
     },
     "execution_count": 61,
     "metadata": {},
     "output_type": "execute_result"
    }
   ],
   "source": [
    "tf.train.get_checkpoint_state('checkpoints')"
   ]
  },
  {
   "cell_type": "code",
   "execution_count": 62,
   "metadata": {},
   "outputs": [
    {
     "name": "stdout",
     "output_type": "stream",
     "text": [
      "characters\n",
      "INFO:tensorflow:Restoring parameters from checkpoints/mcharacters_i13016_l1000.ckpt\n",
      "The old folk have gone away, when he is set of menth and clearing their chances of ground with the remnants of the beings) were strange and dry left and the crew by the general antarctic continent. Through the captain, however, a drowsy parage which has been, and there streamed at the time of his search. The shade of her, a simple building of hands and powers of cosmic examiner carefully with the blood of the persistent antiquity. He was now so well able to expect, unfortunately, however, it was now obsegubulous. In the second, how fall and more\n",
      "\n",
      "strictly arrested my\n",
      "attention. It might have been attributed altogether in the largest who thought he could not heed to the easy taste of it. I now proceeded in at length. He had brought him to\n",
      "enter, but these details were immediately opinious, and allowing itself with his hand, indeed, in the most subliman, and the many manifesters and touching stairs for this savage wood,\n",
      "as it was so much drawn delicately when the figure had been. In a few feet, throwing me the lights of only indications. I could not see the engineering of the spectacle from my mind. At first I suppose the secret of the countenance was convinced. I stooped, at last, and permitthen relapsed it. I should I have been long thanta of another perceiving, but with hope to ask himself upon it appendaxionally. I shall see, how much omanification until we could have thrown a tomb. The bulkheads held many much more clairs),\n",
      "with the musseryrowen of her\n",
      "feeling of the savages,\n",
      "angerful absolute precautions of then\n",
      "all iscurable assumptions, on the flowering subterranean shaft, which, in the form of a stately-descent, although of an unstealth, and where it was extensive, and one spectral pieces, indeed, of a\n",
      "single lamp, with which he heard falling upon my brain on the oppressive expedition, and to what had ever been inciened at this morning, and it would not\n",
      "have to run the common extremity\n",
      "of my possibility to the\n",
      "fate. I dreaded and were not so much, but at le Sope and apparently even to meet\n",
      "them as two o'clock I informed me as they might be aware of any more than\n",
      "the cabins. It was then so little wind.\n",
      "\n",
      "    That is not to be plain to any other thoroughfate, and, but with this idea or fellows beyond us snouts; and so food\n",
      "the secret\n",
      "of the constellation which had escaied; and it was this soon afterward must have come on. Both now and then he also, the most weapons of markings, and to the forecastle,\n",
      "which the readers are\n",
      "still in the same comfus, or a step, the mate had escaped, and where they were frightfully\n",
      "covered by the same peace and disturbing manner. It\n",
      "identies all the mate, then, where a legtish ground was an opening for strangers of unknown places, and through the savages\n",
      "                        CHAPTER XXIV\n",
      "\n",
      "    I have seen shin, about midnight on the side of the shore\n",
      "dogs which, as is\n",
      "very\n",
      "light as possible, being at a\n",
      "gor opportunity\n",
      "a condition of its exercise resolution to opposition in person, but\n",
      "our canoe was the same, when they are below it, and they would have\n",
      "succeeded in sanity over the brig in which a tone of terror would\n",
      "be a proper mattress in the chasm. At sea,\n",
      "when we\n",
      "possing this nece in me, utterly, he\n",
      "kept of a tangible doorway.\n",
      "\n",
      "    All that afternoon I could\n",
      "not help thinking the latitude still unmistakable Stone in his car to mind that if I found, upon our rate, at least with their semblance that was not more than five hundred feet about for some hor\n",
      "to\n",
      "accomsynes our merely suspicion with any idea.\n",
      "     In the meantime the first letter is increased. The\n",
      "shore of the meant was\n",
      "another. In this\n",
      "father myster, many times we consisted of forcing\n",
      "the force of the savages, whose meaning, hurahing this pleasant account of a spectral artificial, at the\n",
      "top of his body or specion. In this now found they were so lately aided in the dark and over the topic of a species in one of the houses, and on the darkness\n",
      "there was\n",
      "following him out with ancient tand, when reassuring to the probable impression for some disordering words,\n",
      "                            CHAPTER XI\n",
      "\n",
      "    As I approached the shot, and felt a public spot he had at first any addressing general cupboard to me between dimention. The greater profound of space thraw the best planes were carved from his side-landing fire, but had found them only one accomplishment. However a well whom the schooner had remembered, and even as a series of ten mind fretched up at the close of one’s goatiant, indeed, we saw that the ghoul being scarcely seen there. We had once known my wife. The change in the dirt afterward sides begstered to him, and he crossed the stout city of unknown places and the cavern surfaces, and of which may be men, and without the existence of any sort of despite the sea and the wharves and the spheres of a surprise of ancient friend, and the one was the one par hor house but left! Abyss, the same hideous alienaa in cases, but though why they did not know.\n",
      "She seem to have like a thunder, and was sawe to listen to the tall plain study that \n"
     ]
    }
   ],
   "source": [
    "generated = sample(checkpoint, 5000, lstm_size, len(vocab), prime=\"The old folk have gone away\",mode=mode)\n",
    "print(generated)"
   ]
  },
  {
   "cell_type": "code",
   "execution_count": 63,
   "metadata": {},
   "outputs": [
    {
     "name": "stdout",
     "output_type": "stream",
     "text": [
      "characters\n",
      "INFO:tensorflow:Restoring parameters from checkpoints/mcharacters_i13016_l1000.ckpt\n",
      "The thing that should not be offered. It had let faith it was to be in the bandage. They have been a little relief, and that the most single membranent could have done was too much extensive.\n",
      "\n",
      "\"The first there was no attempt to convince this word, with a gentland, attempted by the strange windows but not taking its frequent paradoxical character. When the more efforted itself were, in all his own day but little obstinaction.\n",
      "\n",
      "    Thatnes approxised before he came out beyond the spectacle that I had not seen the picture in the days of my friend. I did not send her with my faintness that she was excellent; but the nature of the chief chinfric was sure that I should mutter such sensations -- for the batter no little to the full meating which had other vague fishing implications in regard to the windows. It was only after my wife, in a highly personal force and below it. The floor being likely that he could no longer dislike. For my part, I had not long bound; and this, the shoulder was now two inconveniety, through my electric torch from the absence of aspect as the silver passage at the spectral secle of thoughtful curiosity, and its coloured hand, human race, swamp-features once in the masquerade, and assuredly a largely brushed and stared by the commencement of all that has no person entertained the work of the water. I looke consphing in the atmosphere of the diary, as many and suggestions of such a thing monotonous.\n",
      "\n",
      "   \"Behind to detail?\" \n",
      "\n",
      "\"What! --under these fur!\" I said i, the extraordinary cases of the britws at my ingress together. They are glumps of it with which the charaded identity of the mental strathing. It was now surprisingly silent, that I might say, which was told through for a long tone or descend in the street, would need a second incoming danger which could be of leavied. Indeed, it seems to see him understand, and which would have discovered the suffocating field like it, which thus all was an enormous boalning for which a yell of artist. The scattered ropes, however, it was thiod,ness, and of whick, ingeniac, and above all the character of the sterner and blue bed. Hop-Frog were found onthing eagerly are with great captusion. A strongly appetite still retained it how it! I perceive that we could no longer conclusingly, for the first time agree commones, in a wildest endural with her friend before, and was at a loss what to do. When these events has readjusted. He is all thinks of method; but it could not tell. In half an houd this idea of a damp earth in the species of gold, and was now so easily wising from the scene of the passage would peer into these directions. And yet it was nothing less than the raven, which had been departed out of the morning, and that, until, at one moment, the light and trivial lumber, were made to imagine any of us at all in the sava a thing -- with the eagerness of the party. Amon three days the school had danced wither long, but no more, as to be surery threatened word, with great peculiar vertexs.\n",
      "\n",
      "   \"Tell me -- you voll th its horrible case, I resemble one in dead Sab ntill on one dead Sir, which way did he bee a match for my perversiny in the method of this matter. Yet with a minute a degree of still ruinous effect.\n",
      "\n",
      "   \"The speaking of the strong little view of the age, which has done the threshold last flashing out when a late in the shudders to secure a statio.\n",
      "\n",
      "It gave no excessive secsotors in his death -- not also, to interlot place to all that was suffered until I should have remembered.h\n",
      "\n",
      "\"But,\" I replied, \"what extensive results which you will not command?\" \n",
      "\n",
      "Here again an isy and trivorities of the eyelids of the college lady, and the fires of our presence is scaley with the shadows of their own delvings, no doubt a no living scal- he assumed a very sitting mere outward worth that she was absolutely steadi for some eight feet wide, and all at once to the doom itself. He again completely few of the skies whose exact counter, and of which a single incales the papers, these scurries and days afteoward notes of the seven tunted snee he had beened so much, as the first seats of that sinister confused copying, the pale movement of the patr and surroundings of mystery, whosey the print of horrible beamants and drove his carelessness were more than the white banks of surface. Throughout the thought of them there was a perspanial conditrated match. The peculiar size of an enormously howling crawl and small carriage will be readily stronger than tent-croaked and bleaking the sky again centre for him, and he and the leap ellipsoid secting of the sound had found them; and the colors he desiges to strike a great brick soon permitted to have a masquerade, and at once still wrote everything as a combat of south. Heahed thy his part, as I lusted matter that his things have ever escaped. It had a dignal building wore off a curtle distractic chyiondly solid wind of the recent desolate shining winiad places. But at length I convinens me at all elst, too are, sufficiently stilltd to get \n"
     ]
    }
   ],
   "source": [
    "generated = sample(checkpoint, 5000, lstm_size, len(vocab), prime=\"The thing that should not be\",mode=mode)\n",
    "print(generated)"
   ]
  },
  {
   "cell_type": "markdown",
   "metadata": {
    "collapsed": true
   },
   "source": []
  }
 ],
 "metadata": {
  "kernelspec": {
   "display_name": "Python 3",
   "language": "python",
   "name": "python3"
  },
  "language_info": {
   "codemirror_mode": {
    "name": "ipython",
    "version": 3
   },
   "file_extension": ".py",
   "mimetype": "text/x-python",
   "name": "python",
   "nbconvert_exporter": "python",
   "pygments_lexer": "ipython3",
   "version": "3.6.3"
  }
 },
 "nbformat": 4,
 "nbformat_minor": 2
}
