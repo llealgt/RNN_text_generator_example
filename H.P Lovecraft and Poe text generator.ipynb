{
 "cells": [
  {
   "cell_type": "markdown",
   "metadata": {},
   "source": [
    "# Recurrent neural networks for H.P Lovecraft text generation\n",
    "\n",
    "\"The color out of space\" is one of my favorite tales from Lovecraft, i will use it(as well as others as the call of cthulhu) to create a recurrent neural network in tensorflow that learns his style and generates new text in his style\n",
    "\n",
    "This network is based off of Andrej Karpathy's [post on RNNs](http://karpathy.github.io/2015/05/21/rnn-effectiveness/) and [implementation in Torch](https://github.com/karpathy/char-rnn) and an example from \"Deep Learning Nanodegree\" on udacity. Also, some information [here at r2rt](http://r2rt.com/recurrent-neural-networks-in-tensorflow-ii.html) and from [Sherjil Ozair](https://github.com/sherjilozair/char-rnn-tensorflow) on GitHub. \n",
    "\n",
    "## General architecture using \"Long short term memory\" units in the recurrent layers\n",
    "\n",
    "<img src=\"assets/charseq.jpeg\" width=\"500\">"
   ]
  },
  {
   "cell_type": "code",
   "execution_count": 1,
   "metadata": {
    "collapsed": true
   },
   "outputs": [],
   "source": [
    "%matplotlib inline\n",
    "%config InlineBackend.figure_format = 'retina'"
   ]
  },
  {
   "cell_type": "code",
   "execution_count": 2,
   "metadata": {
    "collapsed": true
   },
   "outputs": [],
   "source": [
    "import time\n",
    "from collections import namedtuple\n",
    "\n",
    "import numpy as np\n",
    "import tensorflow as tf\n",
    "from nltk.tokenize import word_tokenize\n",
    "import nltk\n",
    "import itertools\n",
    "import matplotlib.pyplot as plt"
   ]
  },
  {
   "cell_type": "code",
   "execution_count": 3,
   "metadata": {
    "collapsed": true
   },
   "outputs": [],
   "source": [
    "# Run only the  first time nltk is used to download language\n",
    "#nltk.download()"
   ]
  },
  {
   "cell_type": "markdown",
   "metadata": {},
   "source": [
    "### Define conf variables and hyper parameteters "
   ]
  },
  {
   "cell_type": "code",
   "execution_count": 4,
   "metadata": {
    "collapsed": true
   },
   "outputs": [],
   "source": [
    "mode = \"characters\" #characters or words\n",
    "\n",
    "epochs = 500\n",
    "batch_size = 100         # Sequences per batch\n",
    "num_steps = 200          # Number of sequence steps per batch\n",
    "lstm_size = 512         # Size of hidden layers in LSTMs\n",
    "num_layers = 2          # Number of LSTM layers\n",
    "learning_rate = 0.0001    # Learning rate\n",
    "keep_prob = 0.5         # Dropout keep probability"
   ]
  },
  {
   "cell_type": "markdown",
   "metadata": {},
   "source": [
    "### Define base text\n",
    "Once trained ,the network can take base text and a sequence size and generate new text using base text as first characters in the sequence. For every element in base text wi will create a list that will store generated text as training goes, to be able to compare results between steps"
   ]
  },
  {
   "cell_type": "code",
   "execution_count": 5,
   "metadata": {
    "collapsed": true
   },
   "outputs": [],
   "source": [
    "text_to_try = [\"In the first place\",\"the night before\",\"horror\",\"creature\",\"night\",\"dream\",\"thing\",\"That night\",\"mountain\",\"Ammi\",\"Cthulhu\",\"raven\",\"bird\",\"nevermore\",\"dead\",\"The bird\"]"
   ]
  },
  {
   "cell_type": "markdown",
   "metadata": {},
   "source": [
    "#### Function that separates text into tokens(for whitespace characters, only new line is implemented, missing tabs and others="
   ]
  },
  {
   "cell_type": "code",
   "execution_count": 6,
   "metadata": {},
   "outputs": [
    {
     "data": {
      "text/plain": [
       "['H',\n",
       " 'e',\n",
       " 'l',\n",
       " 'l',\n",
       " 'o',\n",
       " ',',\n",
       " ' ',\n",
       " 'm',\n",
       " 'y',\n",
       " ' ',\n",
       " 'n',\n",
       " 'a',\n",
       " 'm',\n",
       " 'e',\n",
       " ' ',\n",
       " 'i',\n",
       " 's',\n",
       " ' ',\n",
       " 'L',\n",
       " 'u',\n",
       " 'i',\n",
       " 's',\n",
       " ' ',\n",
       " 'L',\n",
       " 'e',\n",
       " 'a',\n",
       " 'l',\n",
       " '!',\n",
       " '\\n',\n",
       " '\\n',\n",
       " 'F',\n",
       " 'r',\n",
       " 'o',\n",
       " 'm',\n",
       " ' ',\n",
       " 'G',\n",
       " 'u',\n",
       " 'a',\n",
       " 't',\n",
       " 'e',\n",
       " 'm',\n",
       " 'a',\n",
       " 'l',\n",
       " 'a']"
      ]
     },
     "execution_count": 6,
     "metadata": {},
     "output_type": "execute_result"
    }
   ],
   "source": [
    "def tokenize_by_words(text):\n",
    "    text = text.replace(\"\\n\",\" new_line_token \")\n",
    "    tokens = []\n",
    "    splitted =[[word_tokenize(w),' ']for w in text.split()]\n",
    "    splitted = list(itertools.chain(*list(itertools.chain(*splitted))))\n",
    "    \n",
    "    token_list = []\n",
    "    i = 0\n",
    "    while i < len(splitted):\n",
    "        if splitted[i] == \"new_line_token\":\n",
    "            if   token_list[-1]==\" \":\n",
    "                token_list[-1] = splitted[i]\n",
    "            else:\n",
    "                token_list.append(splitted[i])\n",
    "            i+=1\n",
    "        else:\n",
    "            token_list.append(splitted[i])\n",
    "        i+=1\n",
    "    \n",
    "    return token_list\n",
    "\n",
    "def tokenize_by_characters(text):\n",
    "    return list(text)\n",
    "\n",
    "def tokenize_text(text,mode=\"characters\"):\n",
    "    if mode == \"characters\":\n",
    "        return tokenize_by_characters(text)\n",
    "    elif mode == \"words\":\n",
    "        return tokenize_by_words(text)\n",
    "    \n",
    "tokenize_text(\"Hello, my name is Luis Leal!\\n\\nFrom Guatemala\",mode)\n",
    "#tokenize_text(\"Hello, my name is Luis Leal!\\n\\nFrom Guatemala\",\"words\")\n"
   ]
  },
  {
   "cell_type": "markdown",
   "metadata": {},
   "source": [
    "First we'll load the text file and convert it into integers for our network to use. Here I'm creating a couple dictionaries to convert the characters to and from integers. Encoding the characters as integers makes it easier to use as input in the network."
   ]
  },
  {
   "cell_type": "code",
   "execution_count": 7,
   "metadata": {
    "collapsed": true
   },
   "outputs": [],
   "source": [
    "with open('colour_out_of_space.txt', 'r') as f:\n",
    "    text=f.read()"
   ]
  },
  {
   "cell_type": "code",
   "execution_count": 8,
   "metadata": {
    "collapsed": true
   },
   "outputs": [],
   "source": [
    "vocab = set(tokenize_text(text,mode))\n",
    "vocab_to_int = {c: i for i, c in enumerate(vocab)}\n",
    "int_to_vocab = dict(enumerate(vocab))"
   ]
  },
  {
   "cell_type": "markdown",
   "metadata": {},
   "source": [
    "### Get a little portion of text for validation"
   ]
  },
  {
   "cell_type": "code",
   "execution_count": 9,
   "metadata": {},
   "outputs": [],
   "source": [
    "validation_size = batch_size * num_steps #create a single baty\n",
    "validation_start_index = len(text) - validation_size\n",
    "\n",
    "val_text = text[validation_start_index:]\n",
    "text = text[:validation_start_index]"
   ]
  },
  {
   "cell_type": "markdown",
   "metadata": {},
   "source": [
    "Let's check out the first 100 characters of train and validation, make sure everything is peachy.  line of a book ever."
   ]
  },
  {
   "cell_type": "code",
   "execution_count": 10,
   "metadata": {},
   "outputs": [
    {
     "data": {
      "text/plain": [
       "'THE COLOUR OUT OF SPACE\\n\\nWest of Arkham the hills rise wild, and there are valleys with deep woods t'"
      ]
     },
     "execution_count": 10,
     "metadata": {},
     "output_type": "execute_result"
    }
   ],
   "source": [
    "text[:100]"
   ]
  },
  {
   "cell_type": "code",
   "execution_count": 11,
   "metadata": {},
   "outputs": [
    {
     "data": {
      "text/plain": [
       "'me its food,\\n      And the seraphs sob at vermin fangs \\n      In human gore imbued. \\n\\n      Out --ou'"
      ]
     },
     "execution_count": 11,
     "metadata": {},
     "output_type": "execute_result"
    }
   ],
   "source": [
    "val_text[:100]"
   ]
  },
  {
   "cell_type": "code",
   "execution_count": 12,
   "metadata": {
    "collapsed": true
   },
   "outputs": [],
   "source": [
    "encoded = np.array([vocab_to_int[c] for c in tokenize_text(text,mode)], dtype=np.int32)\n",
    "encoded_val = np.array([vocab_to_int[c] for c in tokenize_text(val_text,mode)],dtype=np.int32)"
   ]
  },
  {
   "cell_type": "markdown",
   "metadata": {},
   "source": [
    "And we can see the characters encoded as integersin both train and validation"
   ]
  },
  {
   "cell_type": "code",
   "execution_count": 13,
   "metadata": {},
   "outputs": [
    {
     "data": {
      "text/plain": [
       "array([36, 69, 58, 25, 19, 17,  8, 17, 15, 10, 25, 17, 15, 36, 25, 17, 60,\n",
       "       25, 32, 62, 37, 19, 58, 51, 51, 57, 29, 38, 71, 25, 43, 78, 25, 37,\n",
       "       39,  9, 30, 11,  3, 25, 71, 30, 29, 25, 30, 80, 31, 31, 38, 25, 39,\n",
       "       80, 38, 29, 25, 68, 80, 31, 70, 33, 25, 11, 76, 70, 25, 71, 30, 29,\n",
       "       39, 29, 25, 11, 39, 29, 25, 53, 11, 31, 31, 29, 72, 38, 25, 68, 80,\n",
       "       71, 30, 25, 70, 29, 29, 54, 25, 68, 43, 43, 70, 38, 25, 71], dtype=int32)"
      ]
     },
     "execution_count": 13,
     "metadata": {},
     "output_type": "execute_result"
    }
   ],
   "source": [
    "encoded[:100]"
   ]
  },
  {
   "cell_type": "code",
   "execution_count": 14,
   "metadata": {},
   "outputs": [
    {
     "data": {
      "text/plain": [
       "array([ 3, 29, 25, 80, 71, 38, 25, 78, 43, 43, 70, 33, 51, 25, 25, 25, 25,\n",
       "       25, 25, 37, 76, 70, 25, 71, 30, 29, 25, 38, 29, 39, 11, 54, 30, 38,\n",
       "       25, 38, 43, 14, 25, 11, 71, 25, 53, 29, 39,  3, 80, 76, 25, 78, 11,\n",
       "       76, 65, 38, 25, 51, 25, 25, 25, 25, 25, 25, 44, 76, 25, 30, 23,  3,\n",
       "       11, 76, 25, 65, 43, 39, 29, 25, 80,  3, 14, 23, 29, 70, 55, 25, 51,\n",
       "       51, 25, 25, 25, 25, 25, 25, 17, 23, 71, 25,  4,  4, 43, 23], dtype=int32)"
      ]
     },
     "execution_count": 14,
     "metadata": {},
     "output_type": "execute_result"
    }
   ],
   "source": [
    "encoded_val[0:100]"
   ]
  },
  {
   "cell_type": "markdown",
   "metadata": {},
   "source": [
    "Since the network is working with individual english tokens, it's similar to a classification problem in which we are trying to predict the next character from the previous text.  Here's how many 'classes' our network has to pick from."
   ]
  },
  {
   "cell_type": "code",
   "execution_count": 15,
   "metadata": {},
   "outputs": [
    {
     "data": {
      "text/plain": [
       "83"
      ]
     },
     "execution_count": 15,
     "metadata": {},
     "output_type": "execute_result"
    }
   ],
   "source": [
    "len(vocab)"
   ]
  },
  {
   "cell_type": "code",
   "execution_count": 16,
   "metadata": {},
   "outputs": [
    {
     "name": "stdout",
     "output_type": "stream",
     "text": [
      "me its food,\n",
      "      And the seraphs sob at vermin fangs \n",
      "      In human gore imbued. \n",
      "\n",
      "      Out --ou\n"
     ]
    }
   ],
   "source": [
    "def encoded_to_text(encoded):\n",
    "    return \"\".join([int_to_vocab[number] for number in encoded])\n",
    "\n",
    "print(encoded_to_text(encoded_val[0:100]))"
   ]
  },
  {
   "cell_type": "markdown",
   "metadata": {},
   "source": [
    "## Making training mini-batches\n",
    "\n",
    "Here is where we'll make our mini-batches for training. Remember that we want our batches to be multiple sequences of some desired number of sequence steps. Considering a simple example, our batches would look like this:\n",
    "\n",
    "<img src=\"assets/sequence_batching@1x.png\" width=500px>\n",
    "\n",
    "\n",
    "<br>\n",
    "We have our text encoded as integers as one long array in `encoded`. Let's create a function that will give us an iterator for our batches. I like using [generator functions](https://jeffknupp.com/blog/2013/04/07/improve-your-python-yield-and-generators-explained/) to do this. Then we can pass `encoded` into this function and get our batch generator.\n",
    "\n",
    "The first thing we need to do is discard some of the text so we only have completely full batches. Each batch contains $N \\times M$ characters, where $N$ is the batch size (the number of sequences) and $M$ is the number of steps. Then, to get the number of batches we can make from some array `arr`, you divide the length of `arr` by the batch size. Once you know the number of batches and the batch size, you can get the total number of characters to keep.\n",
    "\n",
    "After that, we need to split `arr` into $N$ sequences. You can do this using `arr.reshape(size)` where `size` is a tuple containing the dimensions sizes of the reshaped array. We know we want $N$ sequences (`n_seqs` below), let's make that the size of the first dimension. For the second dimension, you can use `-1` as a placeholder in the size, it'll fill up the array with the appropriate data for you. After this, you should have an array that is $N \\times (M * K)$ where $K$ is the number of batches.\n",
    "\n",
    "Now that we have this array, we can iterate through it to get our batches. The idea is each batch is a $N \\times M$ window on the array. For each subsequent batch, the window moves over by `n_steps`. We also want to create both the input and target arrays. Remember that the targets are the inputs shifted over one character. You'll usually see the first input character used as the last target character, so something like this:\n",
    "```python\n",
    "y[:, :-1], y[:, -1] = x[:, 1:], x[:, 0]\n",
    "```\n",
    "where `x` is the input batch and `y` is the target batch.\n",
    "\n",
    "The way I like to do this window is use `range` to take steps of size `n_steps` from $0$ to `arr.shape[1]`, the total number of steps in each sequence. That way, the integers you get from `range` always point to the start of a batch, and each window is `n_steps` wide."
   ]
  },
  {
   "cell_type": "code",
   "execution_count": 17,
   "metadata": {
    "collapsed": true
   },
   "outputs": [],
   "source": [
    "def get_batches(arr, n_seqs, n_steps):\n",
    "    '''Create a generator that returns batches of size\n",
    "       n_seqs x n_steps from arr.\n",
    "       \n",
    "       Arguments\n",
    "       ---------\n",
    "       arr: Array you want to make batches from\n",
    "       n_seqs: Batch size, the number of sequences per batch\n",
    "       n_steps: Number of sequence steps per batch\n",
    "    '''\n",
    "    # Get the batch size and number of batches we can make\n",
    "    batch_size = n_seqs * n_steps \n",
    "    n_batches =  len(arr)//batch_size\n",
    "    \n",
    "    # Keep only enough characters to make full batches\n",
    "    arr =  arr[:n_batches*batch_size]\n",
    "    \n",
    "    # Reshape into n_seqs rows\n",
    "    arr = arr.reshape((n_seqs,-1))\n",
    "    \n",
    "    for n in range(0, arr.shape[1], n_steps):\n",
    "        # The features\n",
    "        x = arr[:,n:n+n_steps]\n",
    "        # The targets, shifted by one\n",
    "        y = np.zeros(x.shape)\n",
    "        y[:,:-1],y[:,-1] = x[:,1:] ,x[:,0]\n",
    "        yield x, y"
   ]
  },
  {
   "cell_type": "markdown",
   "metadata": {},
   "source": [
    "Now I'll make my data sets and we can check out what's going on here. Here I'm going to use a batch size of 10 and 50 sequence steps."
   ]
  },
  {
   "cell_type": "code",
   "execution_count": 18,
   "metadata": {
    "collapsed": true
   },
   "outputs": [],
   "source": [
    "batches = get_batches(encoded, 10, 50)\n",
    "x, y = next(batches)"
   ]
  },
  {
   "cell_type": "code",
   "execution_count": 19,
   "metadata": {},
   "outputs": [
    {
     "name": "stdout",
     "output_type": "stream",
     "text": [
      "x\n",
      " [[36 69 58 25 19 17  8 17 15 10]\n",
      " [25 30 29 39 29 55 55 55 43 76]\n",
      " [76 70 29 29 70 55 25 36 30 29]\n",
      " [71 25 70 11 72 14 39 29 11  9]\n",
      " [11 71 25 80 76 25 71 30 29 25]\n",
      " [65 23 11 39 70 80 76 65 25 43]\n",
      " [25 70 80 76 76 29 39 55 25 36]\n",
      " [30 29 70 33 25 71 30 29 25 14]\n",
      " [40 29 49 25 11 25 78 80 76 29]\n",
      " [25 29 38 54 29 40 80 11 31 33]]\n",
      "\n",
      "y\n",
      " [[ 69.  58.  25.  19.  17.   8.  17.  15.  10.  25.]\n",
      " [ 30.  29.  39.  29.  55.  55.  55.  43.  76.  29.]\n",
      " [ 70.  29.  29.  70.  55.  25.  36.  30.  29.  39.]\n",
      " [ 25.  70.  11.  72.  14.  39.  29.  11.   9.  55.]\n",
      " [ 71.  25.  80.  76.  25.  71.  30.  29.  25.  29.]\n",
      " [ 23.  11.  39.  70.  80.  76.  65.  25.  43.  78.]\n",
      " [ 70.  80.  76.  76.  29.  39.  55.  25.  36.  30.]\n",
      " [ 29.  70.  33.  25.  71.  30.  29.  25.  14.  29.]\n",
      " [ 29.  49.  25.  11.  25.  78.  80.  76.  29.  25.]\n",
      " [ 29.  38.  54.  29.  40.  80.  11.  31.  33.  25.]]\n"
     ]
    }
   ],
   "source": [
    "print('x\\n', x[:10, :10])\n",
    "print('\\ny\\n', y[:10, :10])"
   ]
  },
  {
   "cell_type": "markdown",
   "metadata": {},
   "source": [
    "## Building the model\n",
    "\n",
    "Below is where you'll build the network. We'll break it up into parts so it's easier to reason about each bit. Then we can connect them up into the whole network.\n",
    "\n",
    "<img src=\"assets/charRNN.png\" width=500px>\n",
    "\n",
    "\n",
    "### Inputs\n",
    "\n",
    "First off we'll create our input placeholders. As usual we need placeholders for the training data and the targets. We'll also create a placeholder for dropout layers called `keep_prob`. This will be a scalar, that is a 0-D tensor. To make a scalar, you create a placeholder without giving it a size."
   ]
  },
  {
   "cell_type": "code",
   "execution_count": 20,
   "metadata": {
    "collapsed": true
   },
   "outputs": [],
   "source": [
    "def build_inputs(batch_size, num_steps):\n",
    "    ''' Define placeholders for inputs, targets, and dropout \n",
    "    \n",
    "        Arguments\n",
    "        ---------\n",
    "        batch_size: Batch size, number of sequences per batch\n",
    "        num_steps: Number of sequence steps in a batch\n",
    "        \n",
    "    '''\n",
    "    # Declare placeholders we'll feed into the graph\n",
    "    inputs = tf.placeholder(tf.int32,[batch_size,num_steps],name=\"inputs\")\n",
    "    targets = tf.placeholder(tf.int32,[batch_size,num_steps],name=\"targets\")\n",
    "    \n",
    "    # Keep probability placeholder for drop out layers\n",
    "    keep_prob = tf.placeholder(tf.float32,name=\"keep_prob\")\n",
    "    \n",
    "    return inputs, targets, keep_prob"
   ]
  },
  {
   "cell_type": "markdown",
   "metadata": {},
   "source": [
    "### LSTM Cell\n",
    "\n",
    "Here we will create the LSTM cell we'll use in the hidden layer. We'll use this cell as a building block for the RNN. So we aren't actually defining the RNN here, just the type of cell we'll use in the hidden layer.\n",
    "\n",
    "We first create a basic LSTM cell with\n",
    "\n",
    "```python\n",
    "lstm = tf.contrib.rnn.BasicLSTMCell(num_units)\n",
    "```\n",
    "\n",
    "where `num_units` is the number of units in the hidden layers in the cell. Then we can add dropout by wrapping it with \n",
    "\n",
    "```python\n",
    "tf.contrib.rnn.DropoutWrapper(lstm, output_keep_prob=keep_prob)\n",
    "```\n",
    "You pass in a cell and it will automatically add dropout to the inputs or outputs. Finally, we can stack up the LSTM cells into layers with [`tf.contrib.rnn.MultiRNNCell`](https://www.tensorflow.org/versions/r1.0/api_docs/python/tf/contrib/rnn/MultiRNNCell). With this, you pass in a list of cells and it will send the output of one cell into the next cell. For example,\n",
    "\n",
    "```python\n",
    "tf.contrib.rnn.MultiRNNCell([cell]*num_layers)\n",
    "```\n",
    "\n",
    "This might look a little weird if you know Python well because this will create a list of the same `cell` object. However, TensorFlow will create different weight matrices for all `cell` objects. Even though this is actually multiple LSTM cells stacked on each other, you can treat the multiple layers as one cell.\n",
    "\n",
    "We also need to create an initial cell state of all zeros. This can be done like so\n",
    "\n",
    "```python\n",
    "initial_state = cell.zero_state(batch_size, tf.float32)\n",
    "```\n"
   ]
  },
  {
   "cell_type": "code",
   "execution_count": 21,
   "metadata": {
    "collapsed": true
   },
   "outputs": [],
   "source": [
    "def build_lstm(lstm_size, num_layers, batch_size, keep_prob):\n",
    "    ''' Build LSTM cell.\n",
    "    \n",
    "        Arguments\n",
    "        ---------\n",
    "        keep_prob: Scalar tensor (tf.placeholder) for the dropout keep probability\n",
    "        lstm_size: Size of the hidden layers in the LSTM cells\n",
    "        num_layers: Number of LSTM layers\n",
    "        batch_size: Batch size\n",
    "\n",
    "    '''\n",
    "    ### Build the LSTM Cell\n",
    "    # Use a basic LSTM cell\n",
    "    # Add dropout to the cell outputs\n",
    "    # Stack up multiple LSTM layers, for deep learning\n",
    "    cell = tf.contrib.rnn.MultiRNNCell([tf.contrib.rnn.DropoutWrapper( tf.contrib.rnn.BasicLSTMCell(lstm_size),output_keep_prob = keep_prob) for _ in range(num_layers)])\n",
    "    initial_state = cell.zero_state(batch_size,tf.float32)\n",
    "    \n",
    "    return cell, initial_state"
   ]
  },
  {
   "cell_type": "markdown",
   "metadata": {},
   "source": [
    "### RNN Output\n",
    "\n",
    "Here we'll create the output layer. We need to connect the output of the RNN cells to a full connected layer with a softmax output. The softmax output gives us a probability distribution we can use to predict the next character, so we want this layer to have size $C$, the number of classes/characters we have in our text.\n",
    "\n",
    "If our input has batch size $N$, number of steps $M$, and the hidden layer has $L$ hidden units, then the output is a 3D tensor with size $N \\times M \\times L$. The output of each LSTM cell has size $L$, we have $M$ of them, one for each sequence step, and we have $N$ sequences. So the total size is $N \\times M \\times L$. \n",
    "\n",
    "We are using the same fully connected layer, the same weights, for each of the outputs. Then, to make things easier, we should reshape the outputs into a 2D tensor with shape $(M * N) \\times L$. That is, one row for each sequence and step, where the values of each row are the output from the LSTM cells. We get the LSTM output as a list, `lstm_output`. First we need to concatenate this whole list into one array with [`tf.concat`](https://www.tensorflow.org/api_docs/python/tf/concat). Then, reshape it (with `tf.reshape`) to size $(M * N) \\times L$.\n",
    "\n",
    "One we have the outputs reshaped, we can do the matrix multiplication with the weights. We need to wrap the weight and bias variables in a variable scope with `tf.variable_scope(scope_name)` because there are weights being created in the LSTM cells. TensorFlow will throw an error if the weights created here have the same names as the weights created in the LSTM cells, which they will be default. To avoid this, we wrap the variables in a variable scope so we can give them unique names.\n"
   ]
  },
  {
   "cell_type": "code",
   "execution_count": 22,
   "metadata": {
    "collapsed": true
   },
   "outputs": [],
   "source": [
    "def build_output(lstm_output, in_size, out_size):\n",
    "    ''' Build a softmax layer, return the softmax output and logits.\n",
    "    \n",
    "        Arguments\n",
    "        ---------\n",
    "        \n",
    "        lstm_output: List of output tensors from the LSTM layer\n",
    "        in_size: Size of the input tensor, for example, size of the LSTM cells\n",
    "        out_size: Size of this softmax layer\n",
    "    \n",
    "    '''\n",
    "\n",
    "    # Reshape output so it's a bunch of rows, one row for each step for each sequence.\n",
    "    # Concatenate lstm_output over axis 1 (the columns)\n",
    "    seq_output = tf.concat(lstm_output,axis=1)\n",
    "    # Reshape seq_output to a 2D tensor with lstm_size columns\n",
    "    x = tf.reshape(seq_output,[-1,in_size])\n",
    "    \n",
    "    # Connect the RNN outputs to a softmax layer\n",
    "    with tf.variable_scope('softmax'):\n",
    "        # Create the weight and bias variables here\n",
    "        softmax_w = tf.Variable(tf.truncated_normal((in_size, out_size),stddev=0.1))\n",
    "        softmax_b = tf.Variable(tf.zeros([out_size]))\n",
    "    \n",
    "    # Since output is a bunch of rows of RNN cell outputs, logits will be a bunch\n",
    "    # of rows of logit outputs, one for each step and sequence\n",
    "    logits =  tf.add(tf.matmul(x,softmax_w),softmax_b) \n",
    "    \n",
    "    # Use softmax to get the probabilities for predicted characters\n",
    "    out = tf.nn.softmax(logits,name =\"out\")\n",
    "    \n",
    "    return out, logits"
   ]
  },
  {
   "cell_type": "markdown",
   "metadata": {},
   "source": [
    "### Training loss\n",
    "\n",
    "Next up is the training loss. We get the logits and targets and calculate the softmax cross-entropy loss. First we need to one-hot encode the targets, we're getting them as encoded characters. Then, reshape the one-hot targets so it's a 2D tensor with size $(M*N) \\times C$ where $C$ is the number of classes/characters we have. Remember that we reshaped the LSTM outputs and ran them through a fully connected layer with $C$ units. So our logits will also have size $(M*N) \\times C$.\n",
    "\n",
    "Then we run the logits and targets through `tf.nn.softmax_cross_entropy_with_logits` and find the mean to get the loss."
   ]
  },
  {
   "cell_type": "code",
   "execution_count": 23,
   "metadata": {
    "collapsed": true
   },
   "outputs": [],
   "source": [
    "def build_loss(logits, targets, lstm_size, num_classes):\n",
    "    ''' Calculate the loss from the logits and the targets.\n",
    "    \n",
    "        Arguments\n",
    "        ---------\n",
    "        logits: Logits from final fully connected layer\n",
    "        targets: Targets for supervised learning\n",
    "        lstm_size: Number of LSTM hidden units\n",
    "        num_classes: Number of classes in targets\n",
    "        \n",
    "    '''\n",
    "    # One-hot encode targets and reshape to match logits, one row per sequence per step\n",
    "    y_one_hot = tf.one_hot(targets,num_classes)\n",
    "    y_reshaped =  tf.reshape(y_one_hot,logits.get_shape())\n",
    "    \n",
    "    # Softmax cross entropy loss\n",
    "    loss = tf.reduce_mean(tf.nn.softmax_cross_entropy_with_logits(logits=logits,labels=y_reshaped))\n",
    "    \n",
    "    return loss"
   ]
  },
  {
   "cell_type": "markdown",
   "metadata": {},
   "source": [
    "### Optimizer\n",
    "\n",
    "Here we build the optimizer. Normal RNNs have have issues gradients exploding and disappearing. LSTMs fix the disappearance problem, but the gradients can still grow without bound. To fix this, we can clip the gradients above some threshold. That is, if a gradient is larger than that threshold, we set it to the threshold. This will ensure the gradients never grow overly large. Then we use an AdamOptimizer for the learning step."
   ]
  },
  {
   "cell_type": "code",
   "execution_count": 24,
   "metadata": {
    "collapsed": true
   },
   "outputs": [],
   "source": [
    "def build_optimizer(loss, learning_rate, grad_clip,global_step):\n",
    "    ''' Build optmizer for training, using gradient clipping.\n",
    "    \n",
    "        Arguments:\n",
    "        loss: Network loss\n",
    "        learning_rate: Learning rate for optimizer\n",
    "        global_step: to control the total number of train steps\n",
    "    \n",
    "    '''\n",
    "    \n",
    "    # Optimizer for training, using gradient clipping to control exploding gradients\n",
    "    tvars = tf.trainable_variables()\n",
    "    grads, _ = tf.clip_by_global_norm(tf.gradients(loss, tvars), grad_clip)\n",
    "    train_op = tf.train.AdamOptimizer(learning_rate)\n",
    "    optimizer = train_op.apply_gradients(zip(grads, tvars),global_step)\n",
    "    \n",
    "    return optimizer"
   ]
  },
  {
   "cell_type": "markdown",
   "metadata": {},
   "source": [
    "### Build the network\n",
    "\n",
    "Now we can put all the pieces together and build a class for the network. To actually run data through the LSTM cells, we will use [`tf.nn.dynamic_rnn`](https://www.tensorflow.org/versions/r1.0/api_docs/python/tf/nn/dynamic_rnn). This function will pass the hidden and cell states across LSTM cells appropriately for us. It returns the outputs for each LSTM cell at each step for each sequence in the mini-batch. It also gives us the final LSTM state. We want to save this state as `final_state` so we can pass it to the first LSTM cell in the the next mini-batch run. For `tf.nn.dynamic_rnn`, we pass in the cell and initial state we get from `build_lstm`, as well as our input sequences. Also, we need to one-hot encode the inputs before going into the RNN. \n"
   ]
  },
  {
   "cell_type": "code",
   "execution_count": 25,
   "metadata": {
    "collapsed": true
   },
   "outputs": [],
   "source": [
    "class CharRNN:\n",
    "    \n",
    "    def __init__(self, num_classes, batch_size=64, num_steps=50, \n",
    "                       lstm_size=128, num_layers=2, learning_rate=0.001, \n",
    "                       grad_clip=5, sampling=False):\n",
    "    \n",
    "        # When we're using this network for sampling later, we'll be passing in\n",
    "        # one character at a time, so providing an option for that\n",
    "        if sampling == True:\n",
    "            batch_size, num_steps = 1, 1\n",
    "        else:\n",
    "            batch_size, num_steps = batch_size, num_steps\n",
    "\n",
    "        tf.reset_default_graph()\n",
    "        \n",
    "        self.global_step_tensor = tf.Variable(0,trainable=False,name = \"global_step\")\n",
    "        # Build the input placeholder tensors\n",
    "        self.inputs, self.targets, self.keep_prob = build_inputs(batch_size,num_steps)\n",
    "        # Build the LSTM cell\n",
    "        cell, self.initial_state = build_lstm(lstm_size,num_layers,batch_size,self.keep_prob)\n",
    "        ### Run the data through the RNN layers\n",
    "        # First, one-hot encode the input tokens\n",
    "        x_one_hot = tf.one_hot(self.inputs,num_classes)\n",
    "        \n",
    "        # Run each sequence step through the RNN with tf.nn.dynamic_rnn \n",
    "        outputs, state = tf.nn.dynamic_rnn(cell,x_one_hot,initial_state=self.initial_state)\n",
    "        self.final_state = state\n",
    "        \n",
    "        # Get softmax predictions and logits\n",
    "        self.prediction, self.logits = build_output(outputs,lstm_size,num_classes)\n",
    "        \n",
    "        # Loss and optimizer (with gradient clipping)\n",
    "        self.loss =  build_loss(self.logits,self.targets,lstm_size,num_classes)\n",
    "        self.optimizer = build_optimizer(self.loss,learning_rate,grad_clip,self.global_step_tensor)"
   ]
  },
  {
   "cell_type": "markdown",
   "metadata": {},
   "source": [
    "## Hyperparameters\n",
    "\n",
    "Here are the hyperparameters for the network.\n",
    "\n",
    "* `batch_size` - Number of sequences running through the network in one pass.\n",
    "* `num_steps` - Number of characters in the sequence the network is trained on. Larger is better typically, the network will learn more long range dependencies. But it takes longer to train. 100 is typically a good number here.\n",
    "* `lstm_size` - The number of units in the hidden layers.\n",
    "* `num_layers` - Number of hidden LSTM layers to use\n",
    "* `learning_rate` - Learning rate for training\n",
    "* `keep_prob` - The dropout keep probability when training. If you're network is overfitting, try decreasing this.\n",
    "\n",
    "Here's some good advice from Andrej Karpathy on training the network:. \n",
    "\n",
    "> ## Tips and Tricks\n",
    "\n",
    ">### Monitoring Validation Loss vs. Training Loss\n",
    ">If you're somewhat new to Machine Learning or Neural Networks it can take a bit of expertise to get good models. The most important quantity to keep track of is the difference between your training loss (printed during training) and the validation loss (printed once in a while when the RNN is run on the validation data (by default every 1000 iterations)). In particular:\n",
    "\n",
    "> - If your training loss is much lower than validation loss then this means the network might be **overfitting**. Solutions to this are to decrease your network size, or to increase dropout. For example you could try dropout of 0.5 and so on.\n",
    "> - If your training/validation loss are about equal then your model is **underfitting**. Increase the size of your model (either number of layers or the raw number of neurons per layer)\n",
    "\n",
    "> ### Approximate number of parameters\n",
    "\n",
    "> The two most important parameters that control the model are `lstm_size` and `num_layers`. I would advise that you always use `num_layers` of either 2/3. The `lstm_size` can be adjusted based on how much data you have. The two important quantities to keep track of here are:\n",
    "\n",
    "> - The number of parameters in your model. This is printed when you start training.\n",
    "> - The size of your dataset. 1MB file is approximately 1 million characters.\n",
    "\n",
    ">These two should be about the same order of magnitude. It's a little tricky to tell. Here are some examples:\n",
    "\n",
    "> - I have a 100MB dataset and I'm using the default parameter settings (which currently print 150K parameters). My data size is significantly larger (100 mil >> 0.15 mil), so I expect to heavily underfit. I am thinking I can comfortably afford to make `lstm_size` larger.\n",
    "> - I have a 10MB dataset and running a 10 million parameter model. I'm slightly nervous and I'm carefully monitoring my validation loss. If it's larger than my training loss then I may want to try to increase dropout a bit and see if that helps the validation loss.\n",
    "\n",
    "> ### Best models strategy\n",
    "\n",
    ">The winning strategy to obtaining very good models (if you have the compute time) is to always err on making the network larger (as large as you're willing to wait for it to compute) and then try different dropout values (between 0,1). Whatever model has the best validation performance (the loss, written in the checkpoint filename, low is good) is the one you should use in the end.\n",
    "\n",
    ">It is very common in deep learning to run many different models with many different hyperparameter settings, and in the end take whatever checkpoint gave the best validation performance.\n",
    "\n",
    ">By the way, the size of your training and validation splits are also parameters. Make sure you have a decent amount of data in your validation set or otherwise the validation performance will be noisy and not very informative."
   ]
  },
  {
   "cell_type": "code",
   "execution_count": 26,
   "metadata": {
    "collapsed": true
   },
   "outputs": [],
   "source": [
    "def get_number_of_parameters():\n",
    "    total_parameters = 0\n",
    "    for variable in tf.trainable_variables():\n",
    "        shape = variable.get_shape()\n",
    "        #print(shape)\n",
    "        #print(len(shape))\n",
    "        variable_parameters = 1\n",
    "        \n",
    "        for dim in shape:\n",
    "            #print(dim)\n",
    "            variable_parameters*=dim.value\n",
    "        #print(variable_parameters)\n",
    "        total_parameters+= variable_parameters\n",
    "    return total_parameters"
   ]
  },
  {
   "cell_type": "code",
   "execution_count": 27,
   "metadata": {
    "collapsed": true
   },
   "outputs": [],
   "source": [
    "def pick_top_n(preds, vocab_size, top_n=5):\n",
    "    p = np.squeeze(preds)\n",
    "    p[np.argsort(p)[:-top_n]] = 0\n",
    "    p = p / np.sum(p)\n",
    "    c = np.random.choice(vocab_size, 1, p=p)[0]\n",
    "    return c"
   ]
  },
  {
   "cell_type": "markdown",
   "metadata": {},
   "source": [
    "## Time for training\n",
    "\n",
    "This is typical training code, passing inputs and targets into the network, then running the optimizer. Here we also get back the final LSTM state for the mini-batch. Then, we pass that state back into the network so the next batch can continue the state from the previous batch. And every so often (set by `save_every_n`) I save a checkpoint.\n",
    "\n",
    "Here I'm saving checkpoints with the format\n",
    "\n",
    "`i{iteration number}_l{# hidden layer units}.ckpt`\n"
   ]
  },
  {
   "cell_type": "code",
   "execution_count": 28,
   "metadata": {
    "collapsed": true
   },
   "outputs": [],
   "source": [
    "losses = {\"train\":[],\"validation\":[]}"
   ]
  },
  {
   "cell_type": "code",
   "execution_count": 29,
   "metadata": {
    "collapsed": true
   },
   "outputs": [],
   "source": [
    "resume_from_checkpoint = False"
   ]
  },
  {
   "cell_type": "code",
   "execution_count": 30,
   "metadata": {
    "scrolled": true
   },
   "outputs": [
    {
     "name": "stdout",
     "output_type": "stream",
     "text": [
      "Number of parameters: 3362387 Dataset size: 513910\n",
      "Epoch: 1/500...  Training Step: 1...  Training loss: 4.4231...  Val loss: 4.4139...  0.5103 sec/batch\n",
      "WARNING:tensorflow:Error encountered when serializing LAYER_NAME_UIDS.\n",
      "Type is unsupported, or the types of the items don't match field type in CollectionDef.\n",
      "'dict' object has no attribute 'name'\n",
      "Epoch: 5/500...  Training Step: 101...  Training loss: 3.2342...  Val loss: 3.0372...  0.3102 sec/batch\n",
      "Epoch: 9/500...  Training Step: 201...  Training loss: 3.1770...  Val loss: 3.0125...  0.3117 sec/batch\n",
      "Epoch: 13/500...  Training Step: 301...  Training loss: 3.1171...  Val loss: 2.9687...  0.3064 sec/batch\n",
      "Epoch: 17/500...  Training Step: 401...  Training loss: 2.9990...  Val loss: 2.8217...  0.3153 sec/batch\n",
      "Epoch: 21/500...  Training Step: 501...  Training loss: 2.8433...  Val loss: 2.6590...  0.3071 sec/batch\n",
      "WARNING:tensorflow:Error encountered when serializing LAYER_NAME_UIDS.\n",
      "Type is unsupported, or the types of the items don't match field type in CollectionDef.\n",
      "'dict' object has no attribute 'name'\n",
      "Epoch: 25/500...  Training Step: 601...  Training loss: 2.7039...  Val loss: 2.5097...  0.3063 sec/batch\n",
      "Epoch: 29/500...  Training Step: 701...  Training loss: 2.6163...  Val loss: 2.4321...  0.3090 sec/batch\n",
      "Epoch: 33/500...  Training Step: 801...  Training loss: 2.5572...  Val loss: 2.3839...  0.3064 sec/batch\n",
      "Epoch: 37/500...  Training Step: 901...  Training loss: 2.5120...  Val loss: 2.3465...  0.3074 sec/batch\n",
      "Epoch: 41/500...  Training Step: 1001...  Training loss: 2.4724...  Val loss: 2.3150...  0.3220 sec/batch\n",
      "WARNING:tensorflow:Error encountered when serializing LAYER_NAME_UIDS.\n",
      "Type is unsupported, or the types of the items don't match field type in CollectionDef.\n",
      "'dict' object has no attribute 'name'\n",
      "Epoch: 45/500...  Training Step: 1101...  Training loss: 2.4438...  Val loss: 2.2871...  0.3074 sec/batch\n",
      "Epoch: 49/500...  Training Step: 1201...  Training loss: 2.4107...  Val loss: 2.2623...  0.3190 sec/batch\n",
      "Epoch: 53/500...  Training Step: 1301...  Training loss: 2.3797...  Val loss: 2.2374...  0.3073 sec/batch\n",
      "Epoch: 57/500...  Training Step: 1401...  Training loss: 2.3519...  Val loss: 2.2150...  0.3190 sec/batch\n",
      "Epoch: 61/500...  Training Step: 1501...  Training loss: 2.3291...  Val loss: 2.1933...  0.3137 sec/batch\n",
      "WARNING:tensorflow:Error encountered when serializing LAYER_NAME_UIDS.\n",
      "Type is unsupported, or the types of the items don't match field type in CollectionDef.\n",
      "'dict' object has no attribute 'name'\n",
      "Epoch: 65/500...  Training Step: 1601...  Training loss: 2.3043...  Val loss: 2.1709...  0.3079 sec/batch\n",
      "Epoch: 69/500...  Training Step: 1701...  Training loss: 2.2834...  Val loss: 2.1521...  0.3225 sec/batch\n",
      "Epoch: 73/500...  Training Step: 1801...  Training loss: 2.2557...  Val loss: 2.1312...  0.3180 sec/batch\n",
      "Epoch: 77/500...  Training Step: 1901...  Training loss: 2.2279...  Val loss: 2.1124...  0.3252 sec/batch\n",
      "Epoch: 81/500...  Training Step: 2001...  Training loss: 2.2138...  Val loss: 2.0934...  0.3079 sec/batch\n",
      "WARNING:tensorflow:Error encountered when serializing LAYER_NAME_UIDS.\n",
      "Type is unsupported, or the types of the items don't match field type in CollectionDef.\n",
      "'dict' object has no attribute 'name'\n",
      "Epoch: 85/500...  Training Step: 2101...  Training loss: 2.1874...  Val loss: 2.0751...  0.3101 sec/batch\n",
      "Epoch: 89/500...  Training Step: 2201...  Training loss: 2.1676...  Val loss: 2.0586...  0.3072 sec/batch\n",
      "Epoch: 93/500...  Training Step: 2301...  Training loss: 2.1524...  Val loss: 2.0420...  0.3072 sec/batch\n",
      "Epoch: 97/500...  Training Step: 2401...  Training loss: 2.1320...  Val loss: 2.0270...  0.3084 sec/batch\n",
      "Epoch: 101/500...  Training Step: 2501...  Training loss: 2.1124...  Val loss: 2.0117...  0.3083 sec/batch\n",
      "WARNING:tensorflow:Error encountered when serializing LAYER_NAME_UIDS.\n",
      "Type is unsupported, or the types of the items don't match field type in CollectionDef.\n",
      "'dict' object has no attribute 'name'\n",
      "Epoch: 105/500...  Training Step: 2601...  Training loss: 2.0863...  Val loss: 1.9964...  0.3152 sec/batch\n",
      "Epoch: 109/500...  Training Step: 2701...  Training loss: 2.0754...  Val loss: 1.9832...  0.3072 sec/batch\n",
      "Epoch: 113/500...  Training Step: 2801...  Training loss: 2.0555...  Val loss: 1.9707...  0.3073 sec/batch\n",
      "Epoch: 117/500...  Training Step: 2901...  Training loss: 2.0418...  Val loss: 1.9593...  0.3074 sec/batch\n",
      "Epoch: 121/500...  Training Step: 3001...  Training loss: 2.0272...  Val loss: 1.9468...  0.3072 sec/batch\n",
      "WARNING:tensorflow:Error encountered when serializing LAYER_NAME_UIDS.\n",
      "Type is unsupported, or the types of the items don't match field type in CollectionDef.\n",
      "'dict' object has no attribute 'name'\n",
      "Epoch: 125/500...  Training Step: 3101...  Training loss: 2.0048...  Val loss: 1.9353...  0.3073 sec/batch\n",
      "Epoch: 129/500...  Training Step: 3201...  Training loss: 1.9936...  Val loss: 1.9228...  0.3072 sec/batch\n",
      "Epoch: 133/500...  Training Step: 3301...  Training loss: 1.9815...  Val loss: 1.9137...  0.3108 sec/batch\n",
      "Epoch: 137/500...  Training Step: 3401...  Training loss: 1.9643...  Val loss: 1.9028...  0.3113 sec/batch\n",
      "Epoch: 141/500...  Training Step: 3501...  Training loss: 1.9533...  Val loss: 1.8905...  0.3127 sec/batch\n",
      "WARNING:tensorflow:Error encountered when serializing LAYER_NAME_UIDS.\n",
      "Type is unsupported, or the types of the items don't match field type in CollectionDef.\n",
      "'dict' object has no attribute 'name'\n",
      "Epoch: 145/500...  Training Step: 3601...  Training loss: 1.9346...  Val loss: 1.8815...  0.3285 sec/batch\n",
      "Epoch: 149/500...  Training Step: 3701...  Training loss: 1.9292...  Val loss: 1.8736...  0.3317 sec/batch\n",
      "Epoch: 153/500...  Training Step: 3801...  Training loss: 1.9141...  Val loss: 1.8642...  0.3240 sec/batch\n",
      "Epoch: 157/500...  Training Step: 3901...  Training loss: 1.9011...  Val loss: 1.8537...  0.3143 sec/batch\n",
      "Epoch: 161/500...  Training Step: 4001...  Training loss: 1.8916...  Val loss: 1.8458...  0.3080 sec/batch\n",
      "WARNING:tensorflow:Error encountered when serializing LAYER_NAME_UIDS.\n",
      "Type is unsupported, or the types of the items don't match field type in CollectionDef.\n",
      "'dict' object has no attribute 'name'\n",
      "Epoch: 165/500...  Training Step: 4101...  Training loss: 1.8756...  Val loss: 1.8381...  0.3194 sec/batch\n",
      "Epoch: 169/500...  Training Step: 4201...  Training loss: 1.8608...  Val loss: 1.8294...  0.3072 sec/batch\n",
      "Epoch: 173/500...  Training Step: 4301...  Training loss: 1.8532...  Val loss: 1.8212...  0.3191 sec/batch\n",
      "Epoch: 177/500...  Training Step: 4401...  Training loss: 1.8392...  Val loss: 1.8132...  0.3244 sec/batch\n",
      "Epoch: 181/500...  Training Step: 4501...  Training loss: 1.8289...  Val loss: 1.8081...  0.3093 sec/batch\n",
      "WARNING:tensorflow:Error encountered when serializing LAYER_NAME_UIDS.\n",
      "Type is unsupported, or the types of the items don't match field type in CollectionDef.\n",
      "'dict' object has no attribute 'name'\n",
      "Epoch: 185/500...  Training Step: 4601...  Training loss: 1.8164...  Val loss: 1.8000...  0.3106 sec/batch\n",
      "Epoch: 189/500...  Training Step: 4701...  Training loss: 1.8100...  Val loss: 1.7939...  0.3090 sec/batch\n",
      "Epoch: 193/500...  Training Step: 4801...  Training loss: 1.7913...  Val loss: 1.7885...  0.3079 sec/batch\n",
      "Epoch: 197/500...  Training Step: 4901...  Training loss: 1.7922...  Val loss: 1.7827...  0.3195 sec/batch\n",
      "Epoch: 201/500...  Training Step: 5001...  Training loss: 1.7785...  Val loss: 1.7773...  0.3217 sec/batch\n",
      "WARNING:tensorflow:Error encountered when serializing LAYER_NAME_UIDS.\n",
      "Type is unsupported, or the types of the items don't match field type in CollectionDef.\n",
      "'dict' object has no attribute 'name'\n",
      "Epoch: 205/500...  Training Step: 5101...  Training loss: 1.7696...  Val loss: 1.7725...  0.3257 sec/batch\n",
      "Epoch: 209/500...  Training Step: 5201...  Training loss: 1.7637...  Val loss: 1.7661...  0.3266 sec/batch\n",
      "Epoch: 213/500...  Training Step: 5301...  Training loss: 1.7434...  Val loss: 1.7611...  0.3110 sec/batch\n",
      "Epoch: 217/500...  Training Step: 5401...  Training loss: 1.7402...  Val loss: 1.7566...  0.3077 sec/batch\n",
      "Epoch: 221/500...  Training Step: 5501...  Training loss: 1.7350...  Val loss: 1.7518...  0.3075 sec/batch\n",
      "WARNING:tensorflow:Error encountered when serializing LAYER_NAME_UIDS.\n",
      "Type is unsupported, or the types of the items don't match field type in CollectionDef.\n",
      "'dict' object has no attribute 'name'\n"
     ]
    },
    {
     "name": "stdout",
     "output_type": "stream",
     "text": [
      "Epoch: 225/500...  Training Step: 5601...  Training loss: 1.7245...  Val loss: 1.7462...  0.3073 sec/batch\n",
      "Epoch: 229/500...  Training Step: 5701...  Training loss: 1.7158...  Val loss: 1.7451...  0.3073 sec/batch\n",
      "Epoch: 233/500...  Training Step: 5801...  Training loss: 1.7108...  Val loss: 1.7416...  0.3071 sec/batch\n",
      "Epoch: 237/500...  Training Step: 5901...  Training loss: 1.6982...  Val loss: 1.7356...  0.3073 sec/batch\n",
      "Epoch: 241/500...  Training Step: 6001...  Training loss: 1.6973...  Val loss: 1.7321...  0.3073 sec/batch\n",
      "WARNING:tensorflow:Error encountered when serializing LAYER_NAME_UIDS.\n",
      "Type is unsupported, or the types of the items don't match field type in CollectionDef.\n",
      "'dict' object has no attribute 'name'\n",
      "Epoch: 245/500...  Training Step: 6101...  Training loss: 1.6810...  Val loss: 1.7287...  0.3070 sec/batch\n",
      "Epoch: 249/500...  Training Step: 6201...  Training loss: 1.6744...  Val loss: 1.7238...  0.3074 sec/batch\n",
      "Epoch: 253/500...  Training Step: 6301...  Training loss: 1.6723...  Val loss: 1.7233...  0.3074 sec/batch\n",
      "Epoch: 257/500...  Training Step: 6401...  Training loss: 1.6722...  Val loss: 1.7184...  0.3135 sec/batch\n",
      "Epoch: 261/500...  Training Step: 6501...  Training loss: 1.6604...  Val loss: 1.7152...  0.3070 sec/batch\n",
      "WARNING:tensorflow:Error encountered when serializing LAYER_NAME_UIDS.\n",
      "Type is unsupported, or the types of the items don't match field type in CollectionDef.\n",
      "'dict' object has no attribute 'name'\n",
      "Epoch: 265/500...  Training Step: 6601...  Training loss: 1.6474...  Val loss: 1.7147...  0.3071 sec/batch\n",
      "Epoch: 269/500...  Training Step: 6701...  Training loss: 1.6435...  Val loss: 1.7108...  0.3076 sec/batch\n",
      "Epoch: 273/500...  Training Step: 6801...  Training loss: 1.6362...  Val loss: 1.7095...  0.3071 sec/batch\n",
      "Epoch: 277/500...  Training Step: 6901...  Training loss: 1.6272...  Val loss: 1.7066...  0.3073 sec/batch\n",
      "Epoch: 281/500...  Training Step: 7001...  Training loss: 1.6171...  Val loss: 1.7074...  0.3070 sec/batch\n",
      "WARNING:tensorflow:Error encountered when serializing LAYER_NAME_UIDS.\n",
      "Type is unsupported, or the types of the items don't match field type in CollectionDef.\n",
      "'dict' object has no attribute 'name'\n",
      "Epoch: 285/500...  Training Step: 7101...  Training loss: 1.6136...  Val loss: 1.7080...  0.3072 sec/batch\n",
      "Epoch: 289/500...  Training Step: 7201...  Training loss: 1.6112...  Val loss: 1.7045...  0.3069 sec/batch\n",
      "Epoch: 293/500...  Training Step: 7301...  Training loss: 1.6040...  Val loss: 1.7020...  0.3070 sec/batch\n",
      "Epoch: 297/500...  Training Step: 7401...  Training loss: 1.6006...  Val loss: 1.7075...  0.3070 sec/batch\n",
      "Epoch: 301/500...  Training Step: 7501...  Training loss: 1.5841...  Val loss: 1.7004...  0.3073 sec/batch\n",
      "WARNING:tensorflow:Error encountered when serializing LAYER_NAME_UIDS.\n",
      "Type is unsupported, or the types of the items don't match field type in CollectionDef.\n",
      "'dict' object has no attribute 'name'\n",
      "Epoch: 305/500...  Training Step: 7601...  Training loss: 1.5865...  Val loss: 1.7076...  0.3070 sec/batch\n",
      "Epoch: 309/500...  Training Step: 7701...  Training loss: 1.5825...  Val loss: 1.7036...  0.3074 sec/batch\n",
      "Epoch: 313/500...  Training Step: 7801...  Training loss: 1.5784...  Val loss: 1.6995...  0.3074 sec/batch\n",
      "Epoch: 317/500...  Training Step: 7901...  Training loss: 1.5610...  Val loss: 1.7053...  0.3070 sec/batch\n",
      "Epoch: 321/500...  Training Step: 8001...  Training loss: 1.5590...  Val loss: 1.6979...  0.3074 sec/batch\n",
      "WARNING:tensorflow:Error encountered when serializing LAYER_NAME_UIDS.\n",
      "Type is unsupported, or the types of the items don't match field type in CollectionDef.\n",
      "'dict' object has no attribute 'name'\n",
      "Epoch: 325/500...  Training Step: 8101...  Training loss: 1.5533...  Val loss: 1.6947...  0.3077 sec/batch\n",
      "Epoch: 329/500...  Training Step: 8201...  Training loss: 1.5515...  Val loss: 1.6958...  0.3072 sec/batch\n",
      "Epoch: 333/500...  Training Step: 8301...  Training loss: 1.5435...  Val loss: 1.6976...  0.3071 sec/batch\n",
      "Epoch: 337/500...  Training Step: 8401...  Training loss: 1.5403...  Val loss: 1.6945...  0.3073 sec/batch\n",
      "Epoch: 341/500...  Training Step: 8501...  Training loss: 1.5274...  Val loss: 1.6967...  0.3072 sec/batch\n",
      "WARNING:tensorflow:Error encountered when serializing LAYER_NAME_UIDS.\n",
      "Type is unsupported, or the types of the items don't match field type in CollectionDef.\n",
      "'dict' object has no attribute 'name'\n",
      "Epoch: 345/500...  Training Step: 8601...  Training loss: 1.5359...  Val loss: 1.6971...  0.3070 sec/batch\n",
      "Epoch: 349/500...  Training Step: 8701...  Training loss: 1.5278...  Val loss: 1.6963...  0.3069 sec/batch\n",
      "Epoch: 353/500...  Training Step: 8801...  Training loss: 1.5096...  Val loss: 1.6967...  0.3072 sec/batch\n",
      "Epoch: 357/500...  Training Step: 8901...  Training loss: 1.5125...  Val loss: 1.6944...  0.3071 sec/batch\n",
      "Epoch: 361/500...  Training Step: 9001...  Training loss: 1.5062...  Val loss: 1.6970...  0.3069 sec/batch\n",
      "WARNING:tensorflow:Error encountered when serializing LAYER_NAME_UIDS.\n",
      "Type is unsupported, or the types of the items don't match field type in CollectionDef.\n",
      "'dict' object has no attribute 'name'\n",
      "Epoch: 365/500...  Training Step: 9101...  Training loss: 1.5027...  Val loss: 1.6966...  0.3071 sec/batch\n",
      "Epoch: 369/500...  Training Step: 9201...  Training loss: 1.4961...  Val loss: 1.6962...  0.3069 sec/batch\n",
      "Epoch: 373/500...  Training Step: 9301...  Training loss: 1.4931...  Val loss: 1.6989...  0.3072 sec/batch\n",
      "Epoch: 377/500...  Training Step: 9401...  Training loss: 1.4857...  Val loss: 1.6968...  0.3070 sec/batch\n",
      "Epoch: 381/500...  Training Step: 9501...  Training loss: 1.4947...  Val loss: 1.6998...  0.3076 sec/batch\n",
      "WARNING:tensorflow:Error encountered when serializing LAYER_NAME_UIDS.\n",
      "Type is unsupported, or the types of the items don't match field type in CollectionDef.\n",
      "'dict' object has no attribute 'name'\n",
      "Epoch: 385/500...  Training Step: 9601...  Training loss: 1.4789...  Val loss: 1.7006...  0.3074 sec/batch\n",
      "Epoch: 389/500...  Training Step: 9701...  Training loss: 1.4731...  Val loss: 1.7006...  0.3075 sec/batch\n",
      "Epoch: 393/500...  Training Step: 9801...  Training loss: 1.4713...  Val loss: 1.7093...  0.3073 sec/batch\n",
      "Epoch: 397/500...  Training Step: 9901...  Training loss: 1.4661...  Val loss: 1.7065...  0.3071 sec/batch\n",
      "Epoch: 401/500...  Training Step: 10001...  Training loss: 1.4497...  Val loss: 1.7121...  0.3073 sec/batch\n",
      "WARNING:tensorflow:Error encountered when serializing LAYER_NAME_UIDS.\n",
      "Type is unsupported, or the types of the items don't match field type in CollectionDef.\n",
      "'dict' object has no attribute 'name'\n",
      "Epoch: 405/500...  Training Step: 10101...  Training loss: 1.4559...  Val loss: 1.7099...  0.3069 sec/batch\n",
      "Epoch: 409/500...  Training Step: 10201...  Training loss: 1.4557...  Val loss: 1.7112...  0.3072 sec/batch\n",
      "Epoch: 413/500...  Training Step: 10301...  Training loss: 1.4545...  Val loss: 1.7120...  0.3072 sec/batch\n",
      "Epoch: 417/500...  Training Step: 10401...  Training loss: 1.4367...  Val loss: 1.7099...  0.3072 sec/batch\n",
      "Epoch: 421/500...  Training Step: 10501...  Training loss: 1.4405...  Val loss: 1.7162...  0.3076 sec/batch\n",
      "WARNING:tensorflow:Error encountered when serializing LAYER_NAME_UIDS.\n",
      "Type is unsupported, or the types of the items don't match field type in CollectionDef.\n",
      "'dict' object has no attribute 'name'\n",
      "Epoch: 425/500...  Training Step: 10601...  Training loss: 1.4325...  Val loss: 1.7167...  0.3072 sec/batch\n",
      "Epoch: 429/500...  Training Step: 10701...  Training loss: 1.4251...  Val loss: 1.7214...  0.3071 sec/batch\n",
      "Epoch: 433/500...  Training Step: 10801...  Training loss: 1.4218...  Val loss: 1.7261...  0.3069 sec/batch\n",
      "Epoch: 437/500...  Training Step: 10901...  Training loss: 1.4139...  Val loss: 1.7223...  0.3072 sec/batch\n",
      "Epoch: 441/500...  Training Step: 11001...  Training loss: 1.4173...  Val loss: 1.7246...  0.3072 sec/batch\n",
      "WARNING:tensorflow:Error encountered when serializing LAYER_NAME_UIDS.\n",
      "Type is unsupported, or the types of the items don't match field type in CollectionDef.\n",
      "'dict' object has no attribute 'name'\n",
      "Epoch: 445/500...  Training Step: 11101...  Training loss: 1.4132...  Val loss: 1.7328...  0.3069 sec/batch\n",
      "Epoch: 449/500...  Training Step: 11201...  Training loss: 1.4113...  Val loss: 1.7338...  0.3070 sec/batch\n"
     ]
    },
    {
     "name": "stdout",
     "output_type": "stream",
     "text": [
      "Epoch: 453/500...  Training Step: 11301...  Training loss: 1.4074...  Val loss: 1.7302...  0.3070 sec/batch\n",
      "Epoch: 457/500...  Training Step: 11401...  Training loss: 1.3998...  Val loss: 1.7331...  0.3072 sec/batch\n",
      "Epoch: 461/500...  Training Step: 11501...  Training loss: 1.3978...  Val loss: 1.7239...  0.3069 sec/batch\n",
      "WARNING:tensorflow:Error encountered when serializing LAYER_NAME_UIDS.\n",
      "Type is unsupported, or the types of the items don't match field type in CollectionDef.\n",
      "'dict' object has no attribute 'name'\n",
      "Epoch: 465/500...  Training Step: 11601...  Training loss: 1.3922...  Val loss: 1.7367...  0.3069 sec/batch\n",
      "Epoch: 469/500...  Training Step: 11701...  Training loss: 1.3899...  Val loss: 1.7321...  0.3075 sec/batch\n",
      "Epoch: 473/500...  Training Step: 11801...  Training loss: 1.3871...  Val loss: 1.7414...  0.3083 sec/batch\n",
      "Epoch: 477/500...  Training Step: 11901...  Training loss: 1.3769...  Val loss: 1.7409...  0.3072 sec/batch\n",
      "Epoch: 481/500...  Training Step: 12001...  Training loss: 1.3719...  Val loss: 1.7441...  0.3077 sec/batch\n",
      "WARNING:tensorflow:Error encountered when serializing LAYER_NAME_UIDS.\n",
      "Type is unsupported, or the types of the items don't match field type in CollectionDef.\n",
      "'dict' object has no attribute 'name'\n",
      "Epoch: 485/500...  Training Step: 12101...  Training loss: 1.3694...  Val loss: 1.7438...  0.3076 sec/batch\n",
      "Epoch: 489/500...  Training Step: 12201...  Training loss: 1.3659...  Val loss: 1.7526...  0.3073 sec/batch\n",
      "Epoch: 493/500...  Training Step: 12301...  Training loss: 1.3653...  Val loss: 1.7653...  0.3080 sec/batch\n",
      "Epoch: 497/500...  Training Step: 12401...  Training loss: 1.3611...  Val loss: 1.7653...  0.3071 sec/batch\n",
      "WARNING:tensorflow:Error encountered when serializing LAYER_NAME_UIDS.\n",
      "Type is unsupported, or the types of the items don't match field type in CollectionDef.\n",
      "'dict' object has no attribute 'name'\n"
     ]
    }
   ],
   "source": [
    "#epochs = 1\n",
    "# Save every N iterations\n",
    "save_every_n = 500\n",
    "print_loss_every_n = 100\n",
    "sample_every = 500\n",
    "with tf.device(\"/gpu:0\"):\n",
    "    model = CharRNN(len(vocab), batch_size=batch_size, num_steps=num_steps,\n",
    "                lstm_size=lstm_size, num_layers=num_layers, \n",
    "                learning_rate=learning_rate)\n",
    "    #print(\"after model\")\n",
    "\n",
    "saver = tf.train.Saver(max_to_keep=5)\n",
    "#print(\"after saver\")\n",
    "with tf.Session() as sess:\n",
    "    sess.run(tf.global_variables_initializer())\n",
    "    print(\"Number of parameters:\",get_number_of_parameters(),\"Dataset size:\",len(encoded))\n",
    "    #print(\"after initializer\")\n",
    "    if resume_from_checkpoint:\n",
    "        latest_checkpoint = tf.train.latest_checkpoint('checkpoints')\n",
    "        saver.restore(sess, latest_checkpoint)\n",
    "    counter = 0\n",
    "    for e in range(epochs):\n",
    "        # Train network\n",
    "        \n",
    "        new_state = sess.run(model.initial_state)\n",
    "        loss = 0\n",
    "        for x, y in get_batches(encoded, batch_size, num_steps):\n",
    "            \n",
    "            \n",
    "            start = time.time()\n",
    "            feed = {model.inputs: x,\n",
    "                    model.targets: y,\n",
    "                    model.keep_prob: keep_prob,\n",
    "                    model.initial_state: new_state}\n",
    "            batch_loss, new_state, _ = sess.run([model.loss, \n",
    "                                                 model.final_state, \n",
    "                                                 model.optimizer], \n",
    "                                                 feed_dict=feed)\n",
    "        \n",
    "            \n",
    "            end = time.time()\n",
    "            if counter%print_loss_every_n == 0:\n",
    "                val_batches = get_batches(encoded_val,int(len(encoded_val)/num_steps),num_steps)\n",
    "                x_val,y_val = next(val_batches)\n",
    "                \n",
    "                val_dict = {model.inputs: x_val,\n",
    "                            model.targets: y_val,\n",
    "                            model.keep_prob: 1,\n",
    "                            model.initial_state: new_state}\n",
    "                \n",
    "                val_loss,prediction = sess.run([model.loss,model.prediction],feed_dict=val_dict)\n",
    "                \n",
    "                losses[\"train\"].append(batch_loss)\n",
    "                losses[\"validation\"].append(val_loss)\n",
    "                \n",
    "                \n",
    "                global_step = tf.train.global_step(sess,model.global_step_tensor)\n",
    "                print('Epoch: {}/{}... '.format(e+1, epochs),\n",
    "                      'Training Step: {}... '.format(global_step),\n",
    "                      'Training loss: {:.4f}... '.format(batch_loss),\n",
    "                      'Val loss: {:.4f}... '.format(val_loss),\n",
    "                      '{:.4f} sec/batch'.format((end-start)))\n",
    "        \n",
    "            if (counter % save_every_n == 0):\n",
    "                global_step = tf.train.global_step(sess,model.global_step_tensor)\n",
    "                saver.save(sess, \"checkpoints/m{}_i{}_l{}.ckpt\".format(mode,global_step, lstm_size))\n",
    "                \n",
    "            counter += 1\n",
    "            \n",
    "    global_step = tf.train.global_step(sess,model.global_step_tensor)\n",
    "    saver.save(sess, \"checkpoints/m{}_i{}_l{}.ckpt\".format(mode,global_step, lstm_size))"
   ]
  },
  {
   "cell_type": "code",
   "execution_count": 31,
   "metadata": {},
   "outputs": [
    {
     "data": {
      "image/png": "[encoded data removed]",
      "text/plain": [
       "<matplotlib.figure.Figure at 0x7fea1acca0b8>"
      ]
     },
     "metadata": {
      "image/png": {
       "height": 250,
       "width": 373
      }
     },
     "output_type": "display_data"
    }
   ],
   "source": [
    "plt.plot(losses[\"train\"],label=\"Train loss\")\n",
    "plt.plot(losses[\"validation\"],label=\"Validation loss\")\n",
    "plt.legend()\n",
    "_ = plt.ylim()"
   ]
  },
  {
   "cell_type": "markdown",
   "metadata": {},
   "source": [
    "#### Saved checkpoints\n",
    "\n",
    "Read up on saving and loading checkpoints here: https://www.tensorflow.org/programmers_guide/variables"
   ]
  },
  {
   "cell_type": "code",
   "execution_count": 32,
   "metadata": {
    "collapsed": true
   },
   "outputs": [],
   "source": [
    "checkpoints = tf.train.get_checkpoint_state('checkpoints')"
   ]
  },
  {
   "cell_type": "markdown",
   "metadata": {},
   "source": [
    "## Sampling final trained model\n",
    "\n",
    "Now that the network is trained, we'll can use it to generate new text. The idea is that we pass in a character, then the network will predict the next character. We can use the new one, to predict the next one. And we keep doing this to generate all new text. I also included some functionality to prime the network with some text by passing in a string and building up a state from that.\n",
    "\n",
    "The network gives us predictions for each character. To reduce noise and make things a little less random, I'm going to only choose a new character from the top N most likely characters.\n",
    "\n"
   ]
  },
  {
   "cell_type": "code",
   "execution_count": 33,
   "metadata": {
    "collapsed": true
   },
   "outputs": [],
   "source": [
    "def sample(checkpoint, n_samples, lstm_size, vocab_size, prime=\"The \",mode=\"characters\"):\n",
    "    print(mode)\n",
    "    samples = tokenize_text(prime,mode)\n",
    "    model = CharRNN(len(vocab), lstm_size=lstm_size, sampling=True)\n",
    "    saver = tf.train.Saver()\n",
    "    with tf.Session() as sess:\n",
    "        saver.restore(sess, checkpoint)\n",
    "        new_state = sess.run(model.initial_state)\n",
    "        for c in tokenize_text(prime,mode):\n",
    "            x = np.zeros((1, 1))\n",
    "            x[0,0] = vocab_to_int[c]\n",
    "            feed = {model.inputs: x,\n",
    "                    model.keep_prob: 1.,\n",
    "                    model.initial_state: new_state}\n",
    "            preds, new_state = sess.run([model.prediction, model.final_state], \n",
    "                                         feed_dict=feed)\n",
    "\n",
    "        c = pick_top_n(preds, len(vocab))\n",
    "        samples.append(int_to_vocab[c])\n",
    "\n",
    "        for i in range(n_samples):\n",
    "            x[0,0] = c\n",
    "            feed = {model.inputs: x,\n",
    "                    model.keep_prob: 1.,\n",
    "                    model.initial_state: new_state}\n",
    "            preds, new_state = sess.run([model.prediction, model.final_state], \n",
    "                                         feed_dict=feed)\n",
    "\n",
    "            c = pick_top_n(preds, len(vocab))\n",
    "            samples.append(int_to_vocab[c])\n",
    "        \n",
    "    return ''.join(samples).replace(\"new_line_token\",\"\\n\")"
   ]
  },
  {
   "cell_type": "markdown",
   "metadata": {},
   "source": [
    "Here, pass in the path to a checkpoint and sample from the network."
   ]
  },
  {
   "cell_type": "code",
   "execution_count": 34,
   "metadata": {},
   "outputs": [
    {
     "data": {
      "text/plain": [
       "'checkpoints/mcharacters_i12500_l512.ckpt'"
      ]
     },
     "execution_count": 34,
     "metadata": {},
     "output_type": "execute_result"
    }
   ],
   "source": [
    "tf.train.latest_checkpoint('checkpoints')"
   ]
  },
  {
   "cell_type": "markdown",
   "metadata": {},
   "source": [
    "## Generate new text from \"base\" text"
   ]
  },
  {
   "cell_type": "code",
   "execution_count": 35,
   "metadata": {},
   "outputs": [
    {
     "name": "stdout",
     "output_type": "stream",
     "text": [
      "characters\n",
      "INFO:tensorflow:Restoring parameters from checkpoints/mcharacters_i12500_l512.ckpt\n",
      "characters\n",
      "INFO:tensorflow:Restoring parameters from checkpoints/mcharacters_i12500_l512.ckpt\n",
      "characters\n",
      "INFO:tensorflow:Restoring parameters from checkpoints/mcharacters_i12500_l512.ckpt\n",
      "characters\n",
      "INFO:tensorflow:Restoring parameters from checkpoints/mcharacters_i12500_l512.ckpt\n",
      "characters\n",
      "INFO:tensorflow:Restoring parameters from checkpoints/mcharacters_i12500_l512.ckpt\n",
      "characters\n",
      "INFO:tensorflow:Restoring parameters from checkpoints/mcharacters_i12500_l512.ckpt\n",
      "characters\n",
      "INFO:tensorflow:Restoring parameters from checkpoints/mcharacters_i12500_l512.ckpt\n",
      "characters\n",
      "INFO:tensorflow:Restoring parameters from checkpoints/mcharacters_i12500_l512.ckpt\n",
      "characters\n",
      "INFO:tensorflow:Restoring parameters from checkpoints/mcharacters_i12500_l512.ckpt\n",
      "characters\n",
      "INFO:tensorflow:Restoring parameters from checkpoints/mcharacters_i12500_l512.ckpt\n",
      "characters\n",
      "INFO:tensorflow:Restoring parameters from checkpoints/mcharacters_i12500_l512.ckpt\n",
      "characters\n",
      "INFO:tensorflow:Restoring parameters from checkpoints/mcharacters_i12500_l512.ckpt\n",
      "characters\n",
      "INFO:tensorflow:Restoring parameters from checkpoints/mcharacters_i12500_l512.ckpt\n",
      "characters\n",
      "INFO:tensorflow:Restoring parameters from checkpoints/mcharacters_i12500_l512.ckpt\n",
      "characters\n",
      "INFO:tensorflow:Restoring parameters from checkpoints/mcharacters_i12500_l512.ckpt\n",
      "characters\n",
      "INFO:tensorflow:Restoring parameters from checkpoints/mcharacters_i12500_l512.ckpt\n"
     ]
    }
   ],
   "source": [
    "\n",
    "checkpoint = tf.train.latest_checkpoint('checkpoints')\n",
    "\n",
    "\n",
    "samples = list()\n",
    "for text in text_to_try:\n",
    "    #print(\"------------------------\",text)\n",
    "    samples.append( sample(checkpoint, 500, lstm_size, len(vocab), prime=text,mode=mode))\n",
    "    #print(samp)\n",
    "    #print(\"------------------------\")"
   ]
  },
  {
   "cell_type": "code",
   "execution_count": 36,
   "metadata": {},
   "outputs": [
    {
     "name": "stdout",
     "output_type": "stream",
     "text": [
      "------------------------ In the first place\n",
      "In the first place at the procoust at the statemest of the conservious country and the points to the sectent, in a linklight of huse of the part will andowed too servent shorely because the seascapient points to the surmested and orecitable papers which he said, as when the precalic offerent wan scent arraded a memerbor belaed, indeed to their docas in the cuty and a far of a man who had talked any caped a fach of such orce. Ward that they day at he would appear to shill any tine. There was no lotering and manoas \n",
      "------------------------\n",
      "------------------------ the night before\n",
      "the night before a possible signiouc than the feet of the sound way and such a finul rundates. The lumbles of the stuck as he day, and his men have been andies of that chiln over. The father's read and the faint shadow he cangidet word how an istonity of the subserance of his present to the tame that the solination of the still relared strance helestakes and droppes. The didention was a serious and of any death of the shall beared of his stars of died castuce and ascapenal from shadows to the sen of a godes and \n",
      "------------------------\n",
      "------------------------ horror\n",
      "horror and time when he said that he had been and to those through the consestenar of his search in the latter for sanion or colmeration of the most raid as a starsing or this barnal of the cheme, and a conversation of them inseeved only a porsible stars of a single street with, and the distance of his hore and his stalled readons, and a muse consciremons to see she would, and was the light of a croud of diffurent surves. That conscrotting seemed to be down to be to the spocuatity. In the strength of a\n",
      "------------------------\n",
      "------------------------ creature\n",
      "creatures of the paticels stolee and themenous, and and that she dightly ristened it the fitice which has some dirituse sounds in the signes; taken though on the beathed of the crimst, whenched it would hiver and store below hit atait, and whose. Merwit was tried of the face when his horror with the study of the presence weresen. Thene he saw the tambled strange of a sungiving farely old strange shinness and strungers and discovered.\n",
      "\n",
      "And any poin of this perhoss in a presisatt of those procearing he con\n",
      "------------------------\n",
      "------------------------ night\n",
      "night was a father were about. He took the statement of his ferther demolistsern. Cuttorys, on the present, as he sad, which the doctor was last common of the toom. He while the former would batining things when he stupped on the books that who have then to thought the madness of he han caseless than the book. The clumber brought a second of a period as of the blacked his frighted out the plase. They was the front soma dockon and stared became chought as they will be near.\n",
      "\n",
      "There was the processic let\n",
      "------------------------\n",
      "------------------------ dream\n",
      "dream and town from the surder craid on him and held an actious mitula of the feer and the sensitor of at laboratory, and is was abriddelily and an increasing three of his head through the strecken from the wolls wind tremised the sornaring shore of his strought or characher.\n",
      "\n",
      "In all was thought the man say any heard and this hust have clase the sale than to speak on the blasted as hour. At the engro had been sought of the docaper, and and the deal mustering was strickly dutterfling in the shalow. The\n",
      "------------------------\n",
      "------------------------ thing\n",
      "thing him and to the wall of the following seemed almest abour was to sometices into a surveid of the surconsion one mere message.\n",
      "\n",
      "   TAnguen and the definitely astin to be the forture fluse. Those muntal sould be some sight from a farmal subject or all townse were could not be seen.\n",
      "\n",
      "In in the one thing below that any deal of the cape, and the decation to be any that he had been and something works. There to see he were too an interved by sichilly to the sunder; and was no simital only a fewerise of\n",
      "------------------------\n",
      "------------------------ That night\n",
      "That night. It was it was over, the shinerally contined to retect and fearing this through his of something shink of my faniases. Ind come of yourg Whill I has now and was that the personilith had been serrigled and feared.\n",
      "\n",
      "    It was now dereguted than no morntt, at inse and half to shis as a shill bast from the langs and seemed to be, before with a lust certain risidous ard as of statement in a ling shilon of secies of spitute and cult whose monthe of the conscitions was abla somative on his dead. Then \n",
      "------------------------\n",
      "------------------------ mountain\n",
      "mountained by a strange doors though the blacked had and the benaled to stars. His monstrous could not bull in the bank of the shall which he would have farther and through the cult for the point in 1760 a madiom. There were noticule of the formilar and anstrict in care of monorress and disented and fillsming wind. Willett's peach and moss crambers when every prosent only a seent and some montar stanticled by a centure, but when I think of any canticter, rumil in the charce of him, indeed ho seemed to be\n",
      "------------------------\n",
      "------------------------ Ammi\n",
      "Ammin house in the soul burning of the shares the final street. The lights who had lott in the word which storked when an ancient plases and from the soltest and tapking to a shervel servent chilled a perhismonal memanistion as indecived. Willett had hearly repouts in this carrage, was starding that the servant and half a sealing and culting and subjict and realismanss of account of the dark and sud to so saw which he certainly a care of the search with the pate it. It was not that tention he and the\n",
      "------------------------\n",
      "------------------------ Cthulhu\n",
      "Cthulhus a senier any closs of his heartheun sides of states it was subjects in that trembling of the frightful works, and sted in shelves and searched of horring and shore before a morth and a tail of some of the cale-with he courtred and almost storinally sperced on the showles at a later well. I men to think they ceuld to something his fanish of the precess veraining of the boy such a commin acconded ones with his fine. It mode no longer a cares, and an out of the spore of the cloars on the mutter an\n",
      "------------------------\n",
      "------------------------ raven\n",
      "raven, he could tell it it with anl that any search and subseched colonisy was atulled than the sudden country tooking when the spich of the must and burst and shiping of the case. The spring was of too above this matter what is not the mes to the draving stine suck as they was not as interested in the sould. He had never had been their spart from the place and the pate tite the failly, and only before deypheding which had come in the stan began out that the desertionso was componted. There than the s\n",
      "------------------------\n",
      "------------------------ bird\n",
      "bird and chose that something was a frammer of somewhat shal begon and a calling part. The latter denied told them that the seas of dear strange withers that a single mansich of a file and the fursule dissive more.\n",
      "\n",
      "It was not that that the anceent pasian would be clearly this: In who had asplayed they could not farm them. To have hin to his formulae, while in their courte and convectain which his monstrous surfolese and tames and mostis impostible that he had lived believed to the stars of the corme\n",
      "------------------------\n",
      "------------------------ nevermore\n",
      "nevermore which strunged with the came for a condection which houses of surere sucs sen on the bearded strange of a perency and sore things in his stone. He stalked the shade of a secret parers of horror and door and almost a seeming of the face of heary and a sunioterer roce which his change who had came it as to strack and shalles and mombles and maninalinges, said at any point and centurish in a fate of the torrust. The surves, were slampenes, and almost mustly bright in the burging stone of the black \n",
      "------------------------\n",
      "------------------------ dead\n",
      "dead world at the failed by some stants and placus were consiniabed and reading. It was of the stard tore a fach that his farmer perceptible of the half--a benoath of Joseph Curwen's formal whose pastice after the Charles as the search before, and it was not an abort of the strungere secret which seemed to came that his first remated, and had breened him for the pase of a man which collectide of the creetic and to the only tigation. This war a bene to reply told and handwrith, and the seath of the pa\n",
      "------------------------\n",
      "------------------------ The bird\n",
      "The bird was at look in the recious whole of the capes. The search were closely and conservatt in tinter poliem contimult and the distant bottom. There was a consisioning a part, of the space and standing while hand of anishaty of his horror on the chied. And his formitianed slipper it teresboled the pathers which they doon a disturbancical strange didrog hust beceed in the bones, shepoching on a man and strange caspituse and repores and confinerced hell. Here and the discase had been seen in the siden o\n",
      "------------------------\n"
     ]
    }
   ],
   "source": [
    "for i in range(len(text_to_try)):\n",
    "    text = text_to_try[i]\n",
    "    generated = samples[i]\n",
    "    print(\"------------------------\",text)\n",
    "    print(generated)\n",
    "    print(\"------------------------\")"
   ]
  }
 ],
 "metadata": {
  "kernelspec": {
   "display_name": "Python 3",
   "language": "python",
   "name": "python3"
  },
  "language_info": {
   "codemirror_mode": {
    "name": "ipython",
    "version": 3
   },
   "file_extension": ".py",
   "mimetype": "text/x-python",
   "name": "python",
   "nbconvert_exporter": "python",
   "pygments_lexer": "ipython3",
   "version": "3.6.1"
  }
 },
 "nbformat": 4,
 "nbformat_minor": 2
}
