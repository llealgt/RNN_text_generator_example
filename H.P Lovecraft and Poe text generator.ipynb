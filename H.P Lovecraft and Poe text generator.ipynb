{
 "cells": [
  {
   "cell_type": "markdown",
   "metadata": {},
   "source": [
    "# Recurrent neural networks for H.P Lovecraft text generation\n",
    "\n",
    "\"The color out of space\" is one of my favorite tales from Lovecraft, i will use it(as well as others as the call of cthulhu) to create a recurrent neural network in tensorflow that learns his style and generates new text in his style\n",
    "\n",
    "This network is based off of Andrej Karpathy's [post on RNNs](http://karpathy.github.io/2015/05/21/rnn-effectiveness/) and [implementation in Torch](https://github.com/karpathy/char-rnn) and an example from \"Deep Learning Nanodegree\" on udacity. Also, some information [here at r2rt](http://r2rt.com/recurrent-neural-networks-in-tensorflow-ii.html) and from [Sherjil Ozair](https://github.com/sherjilozair/char-rnn-tensorflow) on GitHub. \n",
    "\n",
    "## General architecture using \"Long short term memory\" units in the recurrent layers\n",
    "\n",
    "<img src=\"assets/charseq.jpeg\" width=\"500\">"
   ]
  },
  {
   "cell_type": "code",
   "execution_count": 1,
   "metadata": {
    "collapsed": true
   },
   "outputs": [],
   "source": [
    "%matplotlib inline\n",
    "%config InlineBackend.figure_format = 'retina'"
   ]
  },
  {
   "cell_type": "code",
   "execution_count": 2,
   "metadata": {
    "collapsed": true
   },
   "outputs": [],
   "source": [
    "import time\n",
    "from collections import namedtuple\n",
    "\n",
    "import numpy as np\n",
    "import tensorflow as tf\n",
    "from nltk.tokenize import word_tokenize\n",
    "import nltk\n",
    "import itertools\n",
    "import matplotlib.pyplot as plt"
   ]
  },
  {
   "cell_type": "code",
   "execution_count": 3,
   "metadata": {
    "collapsed": true
   },
   "outputs": [],
   "source": [
    "# Run only the  first time nltk is used to download language\n",
    "#nltk.download()"
   ]
  },
  {
   "cell_type": "markdown",
   "metadata": {},
   "source": [
    "### Define conf variables and hyper parameteters "
   ]
  },
  {
   "cell_type": "code",
   "execution_count": 4,
   "metadata": {
    "collapsed": true
   },
   "outputs": [],
   "source": [
    "mode = \"characters\" #characters or words\n",
    "\n",
    "epochs = 600\n",
    "batch_size = 100         # Sequences per batch\n",
    "num_steps = 200          # Number of sequence steps per batch\n",
    "lstm_size = 512         # Size of hidden layers in LSTMs\n",
    "num_layers = 2          # Number of LSTM layers\n",
    "learning_rate = 0.0001    # Learning rate\n",
    "keep_prob = 0.2         # Dropout keep probability"
   ]
  },
  {
   "cell_type": "markdown",
   "metadata": {},
   "source": [
    "### Define base text\n",
    "Once trained ,the network can take base text and a sequence size and generate new text using base text as first characters in the sequence. For every element in base text wi will create a list that will store generated text as training goes, to be able to compare results between steps"
   ]
  },
  {
   "cell_type": "code",
   "execution_count": 5,
   "metadata": {
    "collapsed": true
   },
   "outputs": [],
   "source": [
    "text_to_try = [\"In the first place\",\"the night before\",\"horror\",\"creature\",\"night\",\"dream\",\"thing\",\"That night\",\"mountain\",\"Ammi\",\"Cthulhu\",\"raven\",\"bird\",\"nevermore\",\"dead\",\"The bird\"]"
   ]
  },
  {
   "cell_type": "markdown",
   "metadata": {},
   "source": [
    "#### Function that separates text into tokens(for whitespace characters, only new line is implemented, missing tabs and others="
   ]
  },
  {
   "cell_type": "code",
   "execution_count": 6,
   "metadata": {},
   "outputs": [
    {
     "data": {
      "text/plain": [
       "['H',\n",
       " 'e',\n",
       " 'l',\n",
       " 'l',\n",
       " 'o',\n",
       " ',',\n",
       " ' ',\n",
       " 'm',\n",
       " 'y',\n",
       " ' ',\n",
       " 'n',\n",
       " 'a',\n",
       " 'm',\n",
       " 'e',\n",
       " ' ',\n",
       " 'i',\n",
       " 's',\n",
       " ' ',\n",
       " 'L',\n",
       " 'u',\n",
       " 'i',\n",
       " 's',\n",
       " ' ',\n",
       " 'L',\n",
       " 'e',\n",
       " 'a',\n",
       " 'l',\n",
       " '!',\n",
       " '\\n',\n",
       " '\\n',\n",
       " 'F',\n",
       " 'r',\n",
       " 'o',\n",
       " 'm',\n",
       " ' ',\n",
       " 'G',\n",
       " 'u',\n",
       " 'a',\n",
       " 't',\n",
       " 'e',\n",
       " 'm',\n",
       " 'a',\n",
       " 'l',\n",
       " 'a']"
      ]
     },
     "execution_count": 6,
     "metadata": {},
     "output_type": "execute_result"
    }
   ],
   "source": [
    "def tokenize_by_words(text):\n",
    "    text = text.replace(\"\\n\",\" new_line_token \")\n",
    "    tokens = []\n",
    "    splitted =[[word_tokenize(w),' ']for w in text.split()]\n",
    "    splitted = list(itertools.chain(*list(itertools.chain(*splitted))))\n",
    "    \n",
    "    token_list = []\n",
    "    i = 0\n",
    "    while i < len(splitted):\n",
    "        if splitted[i] == \"new_line_token\":\n",
    "            if   token_list[-1]==\" \":\n",
    "                token_list[-1] = splitted[i]\n",
    "            else:\n",
    "                token_list.append(splitted[i])\n",
    "            i+=1\n",
    "        else:\n",
    "            token_list.append(splitted[i])\n",
    "        i+=1\n",
    "    \n",
    "    return token_list\n",
    "\n",
    "def tokenize_by_characters(text):\n",
    "    return list(text)\n",
    "\n",
    "def tokenize_text(text,mode=\"characters\"):\n",
    "    if mode == \"characters\":\n",
    "        return tokenize_by_characters(text)\n",
    "    elif mode == \"words\":\n",
    "        return tokenize_by_words(text)\n",
    "    \n",
    "tokenize_text(\"Hello, my name is Luis Leal!\\n\\nFrom Guatemala\",mode)\n",
    "#tokenize_text(\"Hello, my name is Luis Leal!\\n\\nFrom Guatemala\",\"words\")\n"
   ]
  },
  {
   "cell_type": "markdown",
   "metadata": {},
   "source": [
    "First we'll load the text file and convert it into integers for our network to use. Here I'm creating a couple dictionaries to convert the characters to and from integers. Encoding the characters as integers makes it easier to use as input in the network."
   ]
  },
  {
   "cell_type": "code",
   "execution_count": 7,
   "metadata": {
    "collapsed": true
   },
   "outputs": [],
   "source": [
    "with open('colour_out_of_space.txt', 'r') as f:\n",
    "    text=f.read()"
   ]
  },
  {
   "cell_type": "code",
   "execution_count": 8,
   "metadata": {
    "collapsed": true
   },
   "outputs": [],
   "source": [
    "vocab = set(tokenize_text(text,mode))\n",
    "vocab_to_int = {c: i for i, c in enumerate(vocab)}\n",
    "int_to_vocab = dict(enumerate(vocab))"
   ]
  },
  {
   "cell_type": "markdown",
   "metadata": {},
   "source": [
    "### Get a little portion of text for validation"
   ]
  },
  {
   "cell_type": "code",
   "execution_count": 9,
   "metadata": {},
   "outputs": [],
   "source": [
    "validation_size = batch_size * num_steps #create a single baty\n",
    "validation_start_index = len(text) - validation_size\n",
    "\n",
    "val_text = text[validation_start_index:]\n",
    "text = text[:validation_start_index]"
   ]
  },
  {
   "cell_type": "markdown",
   "metadata": {},
   "source": [
    "Let's check out the first 100 characters of train and validation, make sure everything is peachy.  line of a book ever."
   ]
  },
  {
   "cell_type": "code",
   "execution_count": 10,
   "metadata": {},
   "outputs": [
    {
     "data": {
      "text/plain": [
       "'THE COLOUR OUT OF SPACE\\n\\nWest of Arkham the hills rise wild, and there are valleys with deep woods t'"
      ]
     },
     "execution_count": 10,
     "metadata": {},
     "output_type": "execute_result"
    }
   ],
   "source": [
    "text[:100]"
   ]
  },
  {
   "cell_type": "code",
   "execution_count": 11,
   "metadata": {},
   "outputs": [
    {
     "data": {
      "text/plain": [
       "'ss; and it cost us a genuine pang to leave this probably crippled Old One—perhaps a lone survivor—to'"
      ]
     },
     "execution_count": 11,
     "metadata": {},
     "output_type": "execute_result"
    }
   ],
   "source": [
    "val_text[:100]"
   ]
  },
  {
   "cell_type": "code",
   "execution_count": 12,
   "metadata": {
    "collapsed": true
   },
   "outputs": [],
   "source": [
    "encoded = np.array([vocab_to_int[c] for c in tokenize_text(text,mode)], dtype=np.int32)\n",
    "encoded_val = np.array([vocab_to_int[c] for c in tokenize_text(val_text,mode)],dtype=np.int32)"
   ]
  },
  {
   "cell_type": "markdown",
   "metadata": {},
   "source": [
    "And we can see the characters encoded as integersin both train and validation"
   ]
  },
  {
   "cell_type": "code",
   "execution_count": 13,
   "metadata": {},
   "outputs": [
    {
     "data": {
      "text/plain": [
       "array([ 6, 87, 44, 28, 58, 74, 77, 74,  9, 24, 28, 74,  9,  6, 28, 74, 35,\n",
       "       28, 42, 16, 13, 58, 44, 15, 15, 71, 22, 66, 88, 28, 82, 37, 28, 13,\n",
       "       14, 48, 39,  2,  5, 28, 88, 39, 22, 28, 39, 36, 80, 80, 66, 28, 14,\n",
       "       36, 66, 22, 28,  4, 36, 80, 41, 18, 28,  2, 32, 41, 28, 88, 39, 22,\n",
       "       14, 22, 28,  2, 14, 22, 28, 12,  2, 80, 80, 22,  8, 66, 28,  4, 36,\n",
       "       88, 39, 28, 41, 22, 22, 81, 28,  4, 82, 82, 41, 66, 28, 88], dtype=int32)"
      ]
     },
     "execution_count": 13,
     "metadata": {},
     "output_type": "execute_result"
    }
   ],
   "source": [
    "encoded[:100]"
   ]
  },
  {
   "cell_type": "code",
   "execution_count": 14,
   "metadata": {},
   "outputs": [
    {
     "data": {
      "text/plain": [
       "array([66, 66, 84, 28,  2, 32, 41, 28, 36, 88, 28, 83, 82, 66, 88, 28, 47,\n",
       "       66, 28,  2, 28, 26, 22, 32, 47, 36, 32, 22, 28, 81,  2, 32, 26, 28,\n",
       "       88, 82, 28, 80, 22,  2, 12, 22, 28, 88, 39, 36, 66, 28, 81, 14, 82,\n",
       "       69,  2, 69, 80,  8, 28, 83, 14, 36, 81, 81, 80, 22, 41, 28, 74, 80,\n",
       "       41, 28, 74, 32, 22, 68, 81, 22, 14, 39,  2, 81, 66, 28,  2, 28, 80,\n",
       "       82, 32, 22, 28, 66, 47, 14, 12, 36, 12, 82, 14, 68, 88, 82], dtype=int32)"
      ]
     },
     "execution_count": 14,
     "metadata": {},
     "output_type": "execute_result"
    }
   ],
   "source": [
    "encoded_val[0:100]"
   ]
  },
  {
   "cell_type": "markdown",
   "metadata": {},
   "source": [
    "Since the network is working with individual english tokens, it's similar to a classification problem in which we are trying to predict the next character from the previous text.  Here's how many 'classes' our network has to pick from."
   ]
  },
  {
   "cell_type": "code",
   "execution_count": 15,
   "metadata": {},
   "outputs": [
    {
     "data": {
      "text/plain": [
       "89"
      ]
     },
     "execution_count": 15,
     "metadata": {},
     "output_type": "execute_result"
    }
   ],
   "source": [
    "len(vocab)"
   ]
  },
  {
   "cell_type": "code",
   "execution_count": 16,
   "metadata": {},
   "outputs": [
    {
     "name": "stdout",
     "output_type": "stream",
     "text": [
      "ss; and it cost us a genuine pang to leave this probably crippled Old One—perhaps a lone survivor—to\n"
     ]
    }
   ],
   "source": [
    "def encoded_to_text(encoded):\n",
    "    return \"\".join([int_to_vocab[number] for number in encoded])\n",
    "\n",
    "print(encoded_to_text(encoded_val[0:100]))"
   ]
  },
  {
   "cell_type": "markdown",
   "metadata": {},
   "source": [
    "## Making training mini-batches\n",
    "\n",
    "Here is where we'll make our mini-batches for training. Remember that we want our batches to be multiple sequences of some desired number of sequence steps. Considering a simple example, our batches would look like this:\n",
    "\n",
    "<img src=\"assets/sequence_batching@1x.png\" width=500px>\n",
    "\n",
    "\n",
    "<br>\n",
    "We have our text encoded as integers as one long array in `encoded`. Let's create a function that will give us an iterator for our batches. I like using [generator functions](https://jeffknupp.com/blog/2013/04/07/improve-your-python-yield-and-generators-explained/) to do this. Then we can pass `encoded` into this function and get our batch generator.\n",
    "\n",
    "The first thing we need to do is discard some of the text so we only have completely full batches. Each batch contains $N \\times M$ characters, where $N$ is the batch size (the number of sequences) and $M$ is the number of steps. Then, to get the number of batches we can make from some array `arr`, you divide the length of `arr` by the batch size. Once you know the number of batches and the batch size, you can get the total number of characters to keep.\n",
    "\n",
    "After that, we need to split `arr` into $N$ sequences. You can do this using `arr.reshape(size)` where `size` is a tuple containing the dimensions sizes of the reshaped array. We know we want $N$ sequences (`n_seqs` below), let's make that the size of the first dimension. For the second dimension, you can use `-1` as a placeholder in the size, it'll fill up the array with the appropriate data for you. After this, you should have an array that is $N \\times (M * K)$ where $K$ is the number of batches.\n",
    "\n",
    "Now that we have this array, we can iterate through it to get our batches. The idea is each batch is a $N \\times M$ window on the array. For each subsequent batch, the window moves over by `n_steps`. We also want to create both the input and target arrays. Remember that the targets are the inputs shifted over one character. You'll usually see the first input character used as the last target character, so something like this:\n",
    "```python\n",
    "y[:, :-1], y[:, -1] = x[:, 1:], x[:, 0]\n",
    "```\n",
    "where `x` is the input batch and `y` is the target batch.\n",
    "\n",
    "The way I like to do this window is use `range` to take steps of size `n_steps` from $0$ to `arr.shape[1]`, the total number of steps in each sequence. That way, the integers you get from `range` always point to the start of a batch, and each window is `n_steps` wide."
   ]
  },
  {
   "cell_type": "code",
   "execution_count": 17,
   "metadata": {
    "collapsed": true
   },
   "outputs": [],
   "source": [
    "def get_batches(arr, n_seqs, n_steps):\n",
    "    '''Create a generator that returns batches of size\n",
    "       n_seqs x n_steps from arr.\n",
    "       \n",
    "       Arguments\n",
    "       ---------\n",
    "       arr: Array you want to make batches from\n",
    "       n_seqs: Batch size, the number of sequences per batch\n",
    "       n_steps: Number of sequence steps per batch\n",
    "    '''\n",
    "    # Get the batch size and number of batches we can make\n",
    "    batch_size = n_seqs * n_steps \n",
    "    n_batches =  len(arr)//batch_size\n",
    "    \n",
    "    # Keep only enough characters to make full batches\n",
    "    arr =  arr[:n_batches*batch_size]\n",
    "    \n",
    "    # Reshape into n_seqs rows\n",
    "    arr = arr.reshape((n_seqs,-1))\n",
    "    \n",
    "    for n in range(0, arr.shape[1], n_steps):\n",
    "        # The features\n",
    "        x = arr[:,n:n+n_steps]\n",
    "        # The targets, shifted by one\n",
    "        y = np.zeros(x.shape)\n",
    "        y[:,:-1],y[:,-1] = x[:,1:] ,x[:,0]\n",
    "        yield x, y"
   ]
  },
  {
   "cell_type": "markdown",
   "metadata": {},
   "source": [
    "Now I'll make my data sets and we can check out what's going on here. Here I'm going to use a batch size of 10 and 50 sequence steps."
   ]
  },
  {
   "cell_type": "code",
   "execution_count": 18,
   "metadata": {
    "collapsed": true
   },
   "outputs": [],
   "source": [
    "batches = get_batches(encoded, 10, 50)\n",
    "x, y = next(batches)"
   ]
  },
  {
   "cell_type": "code",
   "execution_count": 19,
   "metadata": {},
   "outputs": [
    {
     "name": "stdout",
     "output_type": "stream",
     "text": [
      "x\n",
      " [[ 6 87 44 28 58 74 77 74  9 24]\n",
      " [22 41 45 28 87 22 28 66  2 88]\n",
      " [32 18 28 36 32 41 22 22 41 18]\n",
      " [28 35 22 32 32 22 14 66 28 88]\n",
      " [88 28 66 22 32 66  2 88 36 82]\n",
      " [22 28 47 66 22 41 28 69  8 28]\n",
      " [82 14 32 22 45 28 53 22 28 61]\n",
      " [80 80 28  2 28 41 22 32 66 22]\n",
      " [14 82 88 22 66 63 47 22 28 22]\n",
      " [47 66 88 82  5 66 28  2 32 41]]\n",
      "\n",
      "y\n",
      " [[ 87.  44.  28.  58.  74.  77.  74.   9.  24.  28.]\n",
      " [ 41.  45.  28.  87.  22.  28.  66.   2.  88.  28.]\n",
      " [ 18.  28.  36.  32.  41.  22.  22.  41.  18.  28.]\n",
      " [ 35.  22.  32.  32.  22.  14.  66.  28.  88.  39.]\n",
      " [ 28.  66.  22.  32.  66.   2.  88.  36.  82.  32.]\n",
      " [ 28.  47.  66.  22.  41.  28.  69.   8.  28.  42.]\n",
      " [ 14.  32.  22.  45.  28.  53.  22.  28.  61.  47.]\n",
      " [ 80.  28.   2.  28.  41.  22.  32.  66.  22.  28.]\n",
      " [ 82.  88.  22.  66.  63.  47.  22.  28.  22.  60.]\n",
      " [ 66.  88.  82.   5.  66.  28.   2.  32.  41.  28.]]\n"
     ]
    }
   ],
   "source": [
    "print('x\\n', x[:10, :10])\n",
    "print('\\ny\\n', y[:10, :10])"
   ]
  },
  {
   "cell_type": "markdown",
   "metadata": {},
   "source": [
    "## Building the model\n",
    "\n",
    "Below is where you'll build the network. We'll break it up into parts so it's easier to reason about each bit. Then we can connect them up into the whole network.\n",
    "\n",
    "<img src=\"assets/charRNN.png\" width=500px>\n",
    "\n",
    "\n",
    "### Inputs\n",
    "\n",
    "First off we'll create our input placeholders. As usual we need placeholders for the training data and the targets. We'll also create a placeholder for dropout layers called `keep_prob`. This will be a scalar, that is a 0-D tensor. To make a scalar, you create a placeholder without giving it a size."
   ]
  },
  {
   "cell_type": "code",
   "execution_count": 20,
   "metadata": {
    "collapsed": true
   },
   "outputs": [],
   "source": [
    "def build_inputs(batch_size, num_steps):\n",
    "    ''' Define placeholders for inputs, targets, and dropout \n",
    "    \n",
    "        Arguments\n",
    "        ---------\n",
    "        batch_size: Batch size, number of sequences per batch\n",
    "        num_steps: Number of sequence steps in a batch\n",
    "        \n",
    "    '''\n",
    "    # Declare placeholders we'll feed into the graph\n",
    "    inputs = tf.placeholder(tf.int32,[batch_size,num_steps],name=\"inputs\")\n",
    "    targets = tf.placeholder(tf.int32,[batch_size,num_steps],name=\"targets\")\n",
    "    \n",
    "    # Keep probability placeholder for drop out layers\n",
    "    keep_prob = tf.placeholder(tf.float32,name=\"keep_prob\")\n",
    "    \n",
    "    return inputs, targets, keep_prob"
   ]
  },
  {
   "cell_type": "markdown",
   "metadata": {},
   "source": [
    "### LSTM Cell\n",
    "\n",
    "Here we will create the LSTM cell we'll use in the hidden layer. We'll use this cell as a building block for the RNN. So we aren't actually defining the RNN here, just the type of cell we'll use in the hidden layer.\n",
    "\n",
    "We first create a basic LSTM cell with\n",
    "\n",
    "```python\n",
    "lstm = tf.contrib.rnn.BasicLSTMCell(num_units)\n",
    "```\n",
    "\n",
    "where `num_units` is the number of units in the hidden layers in the cell. Then we can add dropout by wrapping it with \n",
    "\n",
    "```python\n",
    "tf.contrib.rnn.DropoutWrapper(lstm, output_keep_prob=keep_prob)\n",
    "```\n",
    "You pass in a cell and it will automatically add dropout to the inputs or outputs. Finally, we can stack up the LSTM cells into layers with [`tf.contrib.rnn.MultiRNNCell`](https://www.tensorflow.org/versions/r1.0/api_docs/python/tf/contrib/rnn/MultiRNNCell). With this, you pass in a list of cells and it will send the output of one cell into the next cell. For example,\n",
    "\n",
    "```python\n",
    "tf.contrib.rnn.MultiRNNCell([cell]*num_layers)\n",
    "```\n",
    "\n",
    "This might look a little weird if you know Python well because this will create a list of the same `cell` object. However, TensorFlow will create different weight matrices for all `cell` objects. Even though this is actually multiple LSTM cells stacked on each other, you can treat the multiple layers as one cell.\n",
    "\n",
    "We also need to create an initial cell state of all zeros. This can be done like so\n",
    "\n",
    "```python\n",
    "initial_state = cell.zero_state(batch_size, tf.float32)\n",
    "```\n"
   ]
  },
  {
   "cell_type": "code",
   "execution_count": 21,
   "metadata": {
    "collapsed": true
   },
   "outputs": [],
   "source": [
    "def build_lstm(lstm_size, num_layers, batch_size, keep_prob):\n",
    "    ''' Build LSTM cell.\n",
    "    \n",
    "        Arguments\n",
    "        ---------\n",
    "        keep_prob: Scalar tensor (tf.placeholder) for the dropout keep probability\n",
    "        lstm_size: Size of the hidden layers in the LSTM cells\n",
    "        num_layers: Number of LSTM layers\n",
    "        batch_size: Batch size\n",
    "\n",
    "    '''\n",
    "    ### Build the LSTM Cell\n",
    "    # Use a basic LSTM cell\n",
    "    # Add dropout to the cell outputs\n",
    "    # Stack up multiple LSTM layers, for deep learning\n",
    "    cell = tf.contrib.rnn.MultiRNNCell([tf.contrib.rnn.DropoutWrapper( tf.contrib.rnn.BasicLSTMCell(lstm_size),output_keep_prob = keep_prob) for _ in range(num_layers)])\n",
    "    initial_state = cell.zero_state(batch_size,tf.float32)\n",
    "    \n",
    "    return cell, initial_state"
   ]
  },
  {
   "cell_type": "markdown",
   "metadata": {},
   "source": [
    "### RNN Output\n",
    "\n",
    "Here we'll create the output layer. We need to connect the output of the RNN cells to a full connected layer with a softmax output. The softmax output gives us a probability distribution we can use to predict the next character, so we want this layer to have size $C$, the number of classes/characters we have in our text.\n",
    "\n",
    "If our input has batch size $N$, number of steps $M$, and the hidden layer has $L$ hidden units, then the output is a 3D tensor with size $N \\times M \\times L$. The output of each LSTM cell has size $L$, we have $M$ of them, one for each sequence step, and we have $N$ sequences. So the total size is $N \\times M \\times L$. \n",
    "\n",
    "We are using the same fully connected layer, the same weights, for each of the outputs. Then, to make things easier, we should reshape the outputs into a 2D tensor with shape $(M * N) \\times L$. That is, one row for each sequence and step, where the values of each row are the output from the LSTM cells. We get the LSTM output as a list, `lstm_output`. First we need to concatenate this whole list into one array with [`tf.concat`](https://www.tensorflow.org/api_docs/python/tf/concat). Then, reshape it (with `tf.reshape`) to size $(M * N) \\times L$.\n",
    "\n",
    "One we have the outputs reshaped, we can do the matrix multiplication with the weights. We need to wrap the weight and bias variables in a variable scope with `tf.variable_scope(scope_name)` because there are weights being created in the LSTM cells. TensorFlow will throw an error if the weights created here have the same names as the weights created in the LSTM cells, which they will be default. To avoid this, we wrap the variables in a variable scope so we can give them unique names.\n"
   ]
  },
  {
   "cell_type": "code",
   "execution_count": 22,
   "metadata": {
    "collapsed": true
   },
   "outputs": [],
   "source": [
    "def build_output(lstm_output, in_size, out_size):\n",
    "    ''' Build a softmax layer, return the softmax output and logits.\n",
    "    \n",
    "        Arguments\n",
    "        ---------\n",
    "        \n",
    "        lstm_output: List of output tensors from the LSTM layer\n",
    "        in_size: Size of the input tensor, for example, size of the LSTM cells\n",
    "        out_size: Size of this softmax layer\n",
    "    \n",
    "    '''\n",
    "\n",
    "    # Reshape output so it's a bunch of rows, one row for each step for each sequence.\n",
    "    # Concatenate lstm_output over axis 1 (the columns)\n",
    "    seq_output = tf.concat(lstm_output,axis=1)\n",
    "    # Reshape seq_output to a 2D tensor with lstm_size columns\n",
    "    x = tf.reshape(seq_output,[-1,in_size])\n",
    "    \n",
    "    # Connect the RNN outputs to a softmax layer\n",
    "    with tf.variable_scope('softmax'):\n",
    "        # Create the weight and bias variables here\n",
    "        softmax_w = tf.Variable(tf.truncated_normal((in_size, out_size),stddev=0.1))\n",
    "        softmax_b = tf.Variable(tf.zeros([out_size]))\n",
    "    \n",
    "    # Since output is a bunch of rows of RNN cell outputs, logits will be a bunch\n",
    "    # of rows of logit outputs, one for each step and sequence\n",
    "    logits =  tf.add(tf.matmul(x,softmax_w),softmax_b) \n",
    "    \n",
    "    # Use softmax to get the probabilities for predicted characters\n",
    "    out = tf.nn.softmax(logits,name =\"out\")\n",
    "    \n",
    "    return out, logits"
   ]
  },
  {
   "cell_type": "markdown",
   "metadata": {},
   "source": [
    "### Training loss\n",
    "\n",
    "Next up is the training loss. We get the logits and targets and calculate the softmax cross-entropy loss. First we need to one-hot encode the targets, we're getting them as encoded characters. Then, reshape the one-hot targets so it's a 2D tensor with size $(M*N) \\times C$ where $C$ is the number of classes/characters we have. Remember that we reshaped the LSTM outputs and ran them through a fully connected layer with $C$ units. So our logits will also have size $(M*N) \\times C$.\n",
    "\n",
    "Then we run the logits and targets through `tf.nn.softmax_cross_entropy_with_logits` and find the mean to get the loss."
   ]
  },
  {
   "cell_type": "code",
   "execution_count": 23,
   "metadata": {
    "collapsed": true
   },
   "outputs": [],
   "source": [
    "def build_loss(logits, targets, lstm_size, num_classes):\n",
    "    ''' Calculate the loss from the logits and the targets.\n",
    "    \n",
    "        Arguments\n",
    "        ---------\n",
    "        logits: Logits from final fully connected layer\n",
    "        targets: Targets for supervised learning\n",
    "        lstm_size: Number of LSTM hidden units\n",
    "        num_classes: Number of classes in targets\n",
    "        \n",
    "    '''\n",
    "    # One-hot encode targets and reshape to match logits, one row per sequence per step\n",
    "    y_one_hot = tf.one_hot(targets,num_classes)\n",
    "    y_reshaped =  tf.reshape(y_one_hot,logits.get_shape())\n",
    "    \n",
    "    # Softmax cross entropy loss\n",
    "    loss = tf.reduce_mean(tf.nn.softmax_cross_entropy_with_logits(logits=logits,labels=y_reshaped))\n",
    "    \n",
    "    return loss"
   ]
  },
  {
   "cell_type": "markdown",
   "metadata": {},
   "source": [
    "### Optimizer\n",
    "\n",
    "Here we build the optimizer. Normal RNNs have have issues gradients exploding and disappearing. LSTMs fix the disappearance problem, but the gradients can still grow without bound. To fix this, we can clip the gradients above some threshold. That is, if a gradient is larger than that threshold, we set it to the threshold. This will ensure the gradients never grow overly large. Then we use an AdamOptimizer for the learning step."
   ]
  },
  {
   "cell_type": "code",
   "execution_count": 24,
   "metadata": {
    "collapsed": true
   },
   "outputs": [],
   "source": [
    "def build_optimizer(loss, learning_rate, grad_clip,global_step):\n",
    "    ''' Build optmizer for training, using gradient clipping.\n",
    "    \n",
    "        Arguments:\n",
    "        loss: Network loss\n",
    "        learning_rate: Learning rate for optimizer\n",
    "        global_step: to control the total number of train steps\n",
    "    \n",
    "    '''\n",
    "    \n",
    "    # Optimizer for training, using gradient clipping to control exploding gradients\n",
    "    tvars = tf.trainable_variables()\n",
    "    grads, _ = tf.clip_by_global_norm(tf.gradients(loss, tvars), grad_clip)\n",
    "    train_op = tf.train.AdamOptimizer(learning_rate)\n",
    "    optimizer = train_op.apply_gradients(zip(grads, tvars),global_step)\n",
    "    \n",
    "    return optimizer"
   ]
  },
  {
   "cell_type": "markdown",
   "metadata": {},
   "source": [
    "### Build the network\n",
    "\n",
    "Now we can put all the pieces together and build a class for the network. To actually run data through the LSTM cells, we will use [`tf.nn.dynamic_rnn`](https://www.tensorflow.org/versions/r1.0/api_docs/python/tf/nn/dynamic_rnn). This function will pass the hidden and cell states across LSTM cells appropriately for us. It returns the outputs for each LSTM cell at each step for each sequence in the mini-batch. It also gives us the final LSTM state. We want to save this state as `final_state` so we can pass it to the first LSTM cell in the the next mini-batch run. For `tf.nn.dynamic_rnn`, we pass in the cell and initial state we get from `build_lstm`, as well as our input sequences. Also, we need to one-hot encode the inputs before going into the RNN. \n"
   ]
  },
  {
   "cell_type": "code",
   "execution_count": 25,
   "metadata": {
    "collapsed": true
   },
   "outputs": [],
   "source": [
    "class CharRNN:\n",
    "    \n",
    "    def __init__(self, num_classes, batch_size=64, num_steps=50, \n",
    "                       lstm_size=128, num_layers=2, learning_rate=0.001, \n",
    "                       grad_clip=5, sampling=False):\n",
    "    \n",
    "        # When we're using this network for sampling later, we'll be passing in\n",
    "        # one character at a time, so providing an option for that\n",
    "        if sampling == True:\n",
    "            batch_size, num_steps = 1, 1\n",
    "        else:\n",
    "            batch_size, num_steps = batch_size, num_steps\n",
    "\n",
    "        tf.reset_default_graph()\n",
    "        \n",
    "        self.global_step_tensor = tf.Variable(0,trainable=False,name = \"global_step\")\n",
    "        # Build the input placeholder tensors\n",
    "        self.inputs, self.targets, self.keep_prob = build_inputs(batch_size,num_steps)\n",
    "        # Build the LSTM cell\n",
    "        cell, self.initial_state = build_lstm(lstm_size,num_layers,batch_size,self.keep_prob)\n",
    "        ### Run the data through the RNN layers\n",
    "        # First, one-hot encode the input tokens\n",
    "        x_one_hot = tf.one_hot(self.inputs,num_classes)\n",
    "        \n",
    "        # Run each sequence step through the RNN with tf.nn.dynamic_rnn \n",
    "        outputs, state = tf.nn.dynamic_rnn(cell,x_one_hot,initial_state=self.initial_state)\n",
    "        self.final_state = state\n",
    "        \n",
    "        # Get softmax predictions and logits\n",
    "        self.prediction, self.logits = build_output(outputs,lstm_size,num_classes)\n",
    "        \n",
    "        # Loss and optimizer (with gradient clipping)\n",
    "        self.loss =  build_loss(self.logits,self.targets,lstm_size,num_classes)\n",
    "        self.optimizer = build_optimizer(self.loss,learning_rate,grad_clip,self.global_step_tensor)"
   ]
  },
  {
   "cell_type": "markdown",
   "metadata": {},
   "source": [
    "## Hyperparameters\n",
    "\n",
    "Here are the hyperparameters for the network.\n",
    "\n",
    "* `batch_size` - Number of sequences running through the network in one pass.\n",
    "* `num_steps` - Number of characters in the sequence the network is trained on. Larger is better typically, the network will learn more long range dependencies. But it takes longer to train. 100 is typically a good number here.\n",
    "* `lstm_size` - The number of units in the hidden layers.\n",
    "* `num_layers` - Number of hidden LSTM layers to use\n",
    "* `learning_rate` - Learning rate for training\n",
    "* `keep_prob` - The dropout keep probability when training. If you're network is overfitting, try decreasing this.\n",
    "\n",
    "Here's some good advice from Andrej Karpathy on training the network:. \n",
    "\n",
    "> ## Tips and Tricks\n",
    "\n",
    ">### Monitoring Validation Loss vs. Training Loss\n",
    ">If you're somewhat new to Machine Learning or Neural Networks it can take a bit of expertise to get good models. The most important quantity to keep track of is the difference between your training loss (printed during training) and the validation loss (printed once in a while when the RNN is run on the validation data (by default every 1000 iterations)). In particular:\n",
    "\n",
    "> - If your training loss is much lower than validation loss then this means the network might be **overfitting**. Solutions to this are to decrease your network size, or to increase dropout. For example you could try dropout of 0.5 and so on.\n",
    "> - If your training/validation loss are about equal then your model is **underfitting**. Increase the size of your model (either number of layers or the raw number of neurons per layer)\n",
    "\n",
    "> ### Approximate number of parameters\n",
    "\n",
    "> The two most important parameters that control the model are `lstm_size` and `num_layers`. I would advise that you always use `num_layers` of either 2/3. The `lstm_size` can be adjusted based on how much data you have. The two important quantities to keep track of here are:\n",
    "\n",
    "> - The number of parameters in your model. This is printed when you start training.\n",
    "> - The size of your dataset. 1MB file is approximately 1 million characters.\n",
    "\n",
    ">These two should be about the same order of magnitude. It's a little tricky to tell. Here are some examples:\n",
    "\n",
    "> - I have a 100MB dataset and I'm using the default parameter settings (which currently print 150K parameters). My data size is significantly larger (100 mil >> 0.15 mil), so I expect to heavily underfit. I am thinking I can comfortably afford to make `lstm_size` larger.\n",
    "> - I have a 10MB dataset and running a 10 million parameter model. I'm slightly nervous and I'm carefully monitoring my validation loss. If it's larger than my training loss then I may want to try to increase dropout a bit and see if that helps the validation loss.\n",
    "\n",
    "> ### Best models strategy\n",
    "\n",
    ">The winning strategy to obtaining very good models (if you have the compute time) is to always err on making the network larger (as large as you're willing to wait for it to compute) and then try different dropout values (between 0,1). Whatever model has the best validation performance (the loss, written in the checkpoint filename, low is good) is the one you should use in the end.\n",
    "\n",
    ">It is very common in deep learning to run many different models with many different hyperparameter settings, and in the end take whatever checkpoint gave the best validation performance.\n",
    "\n",
    ">By the way, the size of your training and validation splits are also parameters. Make sure you have a decent amount of data in your validation set or otherwise the validation performance will be noisy and not very informative."
   ]
  },
  {
   "cell_type": "code",
   "execution_count": 26,
   "metadata": {
    "collapsed": true
   },
   "outputs": [],
   "source": [
    "def get_number_of_parameters():\n",
    "    total_parameters = 0\n",
    "    for variable in tf.trainable_variables():\n",
    "        shape = variable.get_shape()\n",
    "        #print(shape)\n",
    "        #print(len(shape))\n",
    "        variable_parameters = 1\n",
    "        \n",
    "        for dim in shape:\n",
    "            #print(dim)\n",
    "            variable_parameters*=dim.value\n",
    "        #print(variable_parameters)\n",
    "        total_parameters+= variable_parameters\n",
    "    return total_parameters"
   ]
  },
  {
   "cell_type": "code",
   "execution_count": 27,
   "metadata": {
    "collapsed": true
   },
   "outputs": [],
   "source": [
    "def pick_top_n(preds, vocab_size, top_n=5):\n",
    "    p = np.squeeze(preds)\n",
    "    p[np.argsort(p)[:-top_n]] = 0\n",
    "    p = p / np.sum(p)\n",
    "    c = np.random.choice(vocab_size, 1, p=p)[0]\n",
    "    return c"
   ]
  },
  {
   "cell_type": "markdown",
   "metadata": {},
   "source": [
    "## Time for training\n",
    "\n",
    "This is typical training code, passing inputs and targets into the network, then running the optimizer. Here we also get back the final LSTM state for the mini-batch. Then, we pass that state back into the network so the next batch can continue the state from the previous batch. And every so often (set by `save_every_n`) I save a checkpoint.\n",
    "\n",
    "Here I'm saving checkpoints with the format\n",
    "\n",
    "`i{iteration number}_l{# hidden layer units}.ckpt`\n"
   ]
  },
  {
   "cell_type": "code",
   "execution_count": 28,
   "metadata": {
    "collapsed": true
   },
   "outputs": [],
   "source": [
    "losses = {\"train\":[],\"validation\":[]}\n",
    "x_steps = list()"
   ]
  },
  {
   "cell_type": "code",
   "execution_count": 29,
   "metadata": {
    "collapsed": true
   },
   "outputs": [],
   "source": [
    "resume_from_checkpoint = False"
   ]
  },
  {
   "cell_type": "code",
   "execution_count": 30,
   "metadata": {
    "scrolled": true
   },
   "outputs": [
    {
     "name": "stdout",
     "output_type": "stream",
     "text": [
      "Number of parameters: 3377753 Dataset size: 803599\n",
      "Epoch: 1/600...  Training Step: 1...  Training loss: 4.4877...  Val loss: 4.4770...  0.4837 sec/batch\n",
      "WARNING:tensorflow:Error encountered when serializing LAYER_NAME_UIDS.\n",
      "Type is unsupported, or the types of the items don't match field type in CollectionDef.\n",
      "'dict' object has no attribute 'name'\n",
      "Epoch: 3/600...  Training Step: 101...  Training loss: 3.3211...  Val loss: 3.1118...  0.3096 sec/batch\n",
      "Epoch: 6/600...  Training Step: 201...  Training loss: 3.2852...  Val loss: 3.0570...  0.3227 sec/batch\n",
      "Epoch: 8/600...  Training Step: 301...  Training loss: 3.1710...  Val loss: 3.0305...  0.3059 sec/batch\n",
      "Epoch: 11/600...  Training Step: 401...  Training loss: 3.1584...  Val loss: 2.9946...  0.3074 sec/batch\n",
      "Epoch: 13/600...  Training Step: 501...  Training loss: 3.0286...  Val loss: 2.9142...  0.3136 sec/batch\n",
      "WARNING:tensorflow:Error encountered when serializing LAYER_NAME_UIDS.\n",
      "Type is unsupported, or the types of the items don't match field type in CollectionDef.\n",
      "'dict' object has no attribute 'name'\n",
      "Epoch: 16/600...  Training Step: 601...  Training loss: 2.9477...  Val loss: 2.7657...  0.3149 sec/batch\n",
      "Epoch: 18/600...  Training Step: 701...  Training loss: 2.7834...  Val loss: 2.6405...  0.3090 sec/batch\n",
      "Epoch: 21/600...  Training Step: 801...  Training loss: 2.7295...  Val loss: 2.5494...  0.3084 sec/batch\n",
      "Epoch: 23/600...  Training Step: 901...  Training loss: 2.6477...  Val loss: 2.5046...  0.3088 sec/batch\n",
      "Epoch: 26/600...  Training Step: 1001...  Training loss: 2.6282...  Val loss: 2.4654...  0.3087 sec/batch\n",
      "WARNING:tensorflow:Error encountered when serializing LAYER_NAME_UIDS.\n",
      "Type is unsupported, or the types of the items don't match field type in CollectionDef.\n",
      "'dict' object has no attribute 'name'\n",
      "Epoch: 28/600...  Training Step: 1101...  Training loss: 2.5665...  Val loss: 2.4324...  0.3120 sec/batch\n",
      "Epoch: 31/600...  Training Step: 1201...  Training loss: 2.5535...  Val loss: 2.4022...  0.3083 sec/batch\n",
      "Epoch: 33/600...  Training Step: 1301...  Training loss: 2.5052...  Val loss: 2.3756...  0.3155 sec/batch\n",
      "Epoch: 36/600...  Training Step: 1401...  Training loss: 2.4948...  Val loss: 2.3513...  0.3109 sec/batch\n",
      "Epoch: 38/600...  Training Step: 1501...  Training loss: 2.4539...  Val loss: 2.3267...  0.3095 sec/batch\n",
      "WARNING:tensorflow:Error encountered when serializing LAYER_NAME_UIDS.\n",
      "Type is unsupported, or the types of the items don't match field type in CollectionDef.\n",
      "'dict' object has no attribute 'name'\n",
      "Epoch: 41/600...  Training Step: 1601...  Training loss: 2.4498...  Val loss: 2.3062...  0.3083 sec/batch\n",
      "Epoch: 43/600...  Training Step: 1701...  Training loss: 2.4112...  Val loss: 2.2858...  0.3088 sec/batch\n",
      "Epoch: 46/600...  Training Step: 1801...  Training loss: 2.4099...  Val loss: 2.2686...  0.3085 sec/batch\n",
      "Epoch: 48/600...  Training Step: 1901...  Training loss: 2.3734...  Val loss: 2.2490...  0.3087 sec/batch\n",
      "Epoch: 51/600...  Training Step: 2001...  Training loss: 2.3694...  Val loss: 2.2339...  0.3090 sec/batch\n",
      "WARNING:tensorflow:Error encountered when serializing LAYER_NAME_UIDS.\n",
      "Type is unsupported, or the types of the items don't match field type in CollectionDef.\n",
      "'dict' object has no attribute 'name'\n",
      "Epoch: 53/600...  Training Step: 2101...  Training loss: 2.3378...  Val loss: 2.2170...  0.3145 sec/batch\n",
      "Epoch: 56/600...  Training Step: 2201...  Training loss: 2.3365...  Val loss: 2.2025...  0.3093 sec/batch\n",
      "Epoch: 58/600...  Training Step: 2301...  Training loss: 2.3067...  Val loss: 2.1872...  0.3083 sec/batch\n",
      "Epoch: 61/600...  Training Step: 2401...  Training loss: 2.3022...  Val loss: 2.1763...  0.3411 sec/batch\n",
      "Epoch: 63/600...  Training Step: 2501...  Training loss: 2.2838...  Val loss: 2.1599...  0.3220 sec/batch\n",
      "WARNING:tensorflow:Error encountered when serializing LAYER_NAME_UIDS.\n",
      "Type is unsupported, or the types of the items don't match field type in CollectionDef.\n",
      "'dict' object has no attribute 'name'\n",
      "Epoch: 66/600...  Training Step: 2601...  Training loss: 2.2722...  Val loss: 2.1471...  0.3098 sec/batch\n",
      "Epoch: 68/600...  Training Step: 2701...  Training loss: 2.2590...  Val loss: 2.1339...  0.3096 sec/batch\n",
      "Epoch: 71/600...  Training Step: 2801...  Training loss: 2.2566...  Val loss: 2.1229...  0.3095 sec/batch\n",
      "Epoch: 73/600...  Training Step: 2901...  Training loss: 2.2379...  Val loss: 2.1107...  0.3088 sec/batch\n",
      "Epoch: 76/600...  Training Step: 3001...  Training loss: 2.2257...  Val loss: 2.0994...  0.3083 sec/batch\n",
      "WARNING:tensorflow:Error encountered when serializing LAYER_NAME_UIDS.\n",
      "Type is unsupported, or the types of the items don't match field type in CollectionDef.\n",
      "'dict' object has no attribute 'name'\n",
      "Epoch: 78/600...  Training Step: 3101...  Training loss: 2.2114...  Val loss: 2.0877...  0.3298 sec/batch\n",
      "Epoch: 81/600...  Training Step: 3201...  Training loss: 2.1983...  Val loss: 2.0782...  0.3287 sec/batch\n",
      "Epoch: 83/600...  Training Step: 3301...  Training loss: 2.1876...  Val loss: 2.0667...  0.3085 sec/batch\n",
      "Epoch: 86/600...  Training Step: 3401...  Training loss: 2.1794...  Val loss: 2.0571...  0.3175 sec/batch\n",
      "Epoch: 88/600...  Training Step: 3501...  Training loss: 2.1632...  Val loss: 2.0465...  0.3179 sec/batch\n",
      "WARNING:tensorflow:Error encountered when serializing LAYER_NAME_UIDS.\n",
      "Type is unsupported, or the types of the items don't match field type in CollectionDef.\n",
      "'dict' object has no attribute 'name'\n",
      "Epoch: 91/600...  Training Step: 3601...  Training loss: 2.1616...  Val loss: 2.0373...  0.3119 sec/batch\n",
      "Epoch: 93/600...  Training Step: 3701...  Training loss: 2.1596...  Val loss: 2.0270...  0.3087 sec/batch\n",
      "Epoch: 96/600...  Training Step: 3801...  Training loss: 2.1462...  Val loss: 2.0198...  0.3097 sec/batch\n",
      "Epoch: 98/600...  Training Step: 3901...  Training loss: 2.1392...  Val loss: 2.0087...  0.3189 sec/batch\n",
      "Epoch: 101/600...  Training Step: 4001...  Training loss: 2.1288...  Val loss: 2.0018...  0.3340 sec/batch\n",
      "WARNING:tensorflow:Error encountered when serializing LAYER_NAME_UIDS.\n",
      "Type is unsupported, or the types of the items don't match field type in CollectionDef.\n",
      "'dict' object has no attribute 'name'\n",
      "Epoch: 103/600...  Training Step: 4101...  Training loss: 2.1159...  Val loss: 1.9928...  0.3160 sec/batch\n",
      "Epoch: 106/600...  Training Step: 4201...  Training loss: 2.1051...  Val loss: 1.9831...  0.3090 sec/batch\n",
      "Epoch: 108/600...  Training Step: 4301...  Training loss: 2.1024...  Val loss: 1.9749...  0.3099 sec/batch\n",
      "Epoch: 111/600...  Training Step: 4401...  Training loss: 2.0962...  Val loss: 1.9665...  0.3202 sec/batch\n",
      "Epoch: 113/600...  Training Step: 4501...  Training loss: 2.0866...  Val loss: 1.9587...  0.3214 sec/batch\n",
      "WARNING:tensorflow:Error encountered when serializing LAYER_NAME_UIDS.\n",
      "Type is unsupported, or the types of the items don't match field type in CollectionDef.\n",
      "'dict' object has no attribute 'name'\n",
      "Epoch: 116/600...  Training Step: 4601...  Training loss: 2.0792...  Val loss: 1.9512...  0.3211 sec/batch\n",
      "Epoch: 118/600...  Training Step: 4701...  Training loss: 2.0715...  Val loss: 1.9440...  0.3090 sec/batch\n",
      "Epoch: 121/600...  Training Step: 4801...  Training loss: 2.0686...  Val loss: 1.9367...  0.3166 sec/batch\n",
      "Epoch: 123/600...  Training Step: 4901...  Training loss: 2.0632...  Val loss: 1.9285...  0.3105 sec/batch\n",
      "Epoch: 126/600...  Training Step: 5001...  Training loss: 2.0521...  Val loss: 1.9226...  0.3099 sec/batch\n",
      "WARNING:tensorflow:Error encountered when serializing LAYER_NAME_UIDS.\n",
      "Type is unsupported, or the types of the items don't match field type in CollectionDef.\n",
      "'dict' object has no attribute 'name'\n",
      "Epoch: 128/600...  Training Step: 5101...  Training loss: 2.0442...  Val loss: 1.9152...  0.3097 sec/batch\n",
      "Epoch: 131/600...  Training Step: 5201...  Training loss: 2.0440...  Val loss: 1.9088...  0.3199 sec/batch\n",
      "Epoch: 133/600...  Training Step: 5301...  Training loss: 2.0275...  Val loss: 1.9011...  0.3084 sec/batch\n",
      "Epoch: 136/600...  Training Step: 5401...  Training loss: 2.0201...  Val loss: 1.8954...  0.3087 sec/batch\n",
      "Epoch: 138/600...  Training Step: 5501...  Training loss: 2.0167...  Val loss: 1.8882...  0.3100 sec/batch\n",
      "WARNING:tensorflow:Error encountered when serializing LAYER_NAME_UIDS.\n",
      "Type is unsupported, or the types of the items don't match field type in CollectionDef.\n",
      "'dict' object has no attribute 'name'\n"
     ]
    },
    {
     "name": "stdout",
     "output_type": "stream",
     "text": [
      "Epoch: 141/600...  Training Step: 5601...  Training loss: 2.0065...  Val loss: 1.8830...  0.3150 sec/batch\n",
      "Epoch: 143/600...  Training Step: 5701...  Training loss: 2.0098...  Val loss: 1.8767...  0.3106 sec/batch\n",
      "Epoch: 146/600...  Training Step: 5801...  Training loss: 2.0022...  Val loss: 1.8703...  0.3086 sec/batch\n",
      "Epoch: 148/600...  Training Step: 5901...  Training loss: 2.0055...  Val loss: 1.8642...  0.3087 sec/batch\n",
      "Epoch: 151/600...  Training Step: 6001...  Training loss: 1.9863...  Val loss: 1.8594...  0.3202 sec/batch\n",
      "WARNING:tensorflow:Error encountered when serializing LAYER_NAME_UIDS.\n",
      "Type is unsupported, or the types of the items don't match field type in CollectionDef.\n",
      "'dict' object has no attribute 'name'\n",
      "Epoch: 153/600...  Training Step: 6101...  Training loss: 1.9908...  Val loss: 1.8528...  0.3201 sec/batch\n",
      "Epoch: 156/600...  Training Step: 6201...  Training loss: 1.9745...  Val loss: 1.8482...  0.3374 sec/batch\n",
      "Epoch: 158/600...  Training Step: 6301...  Training loss: 1.9669...  Val loss: 1.8419...  0.3177 sec/batch\n",
      "Epoch: 161/600...  Training Step: 6401...  Training loss: 1.9736...  Val loss: 1.8375...  0.3267 sec/batch\n",
      "Epoch: 163/600...  Training Step: 6501...  Training loss: 1.9520...  Val loss: 1.8318...  0.3083 sec/batch\n",
      "WARNING:tensorflow:Error encountered when serializing LAYER_NAME_UIDS.\n",
      "Type is unsupported, or the types of the items don't match field type in CollectionDef.\n",
      "'dict' object has no attribute 'name'\n",
      "Epoch: 166/600...  Training Step: 6601...  Training loss: 1.9510...  Val loss: 1.8285...  0.3108 sec/batch\n",
      "Epoch: 168/600...  Training Step: 6701...  Training loss: 1.9528...  Val loss: 1.8213...  0.3092 sec/batch\n",
      "Epoch: 171/600...  Training Step: 6801...  Training loss: 1.9432...  Val loss: 1.8203...  0.3139 sec/batch\n",
      "Epoch: 173/600...  Training Step: 6901...  Training loss: 1.9371...  Val loss: 1.8118...  0.3085 sec/batch\n",
      "Epoch: 176/600...  Training Step: 7001...  Training loss: 1.9326...  Val loss: 1.8104...  0.3087 sec/batch\n",
      "WARNING:tensorflow:Error encountered when serializing LAYER_NAME_UIDS.\n",
      "Type is unsupported, or the types of the items don't match field type in CollectionDef.\n",
      "'dict' object has no attribute 'name'\n",
      "Epoch: 178/600...  Training Step: 7101...  Training loss: 1.9342...  Val loss: 1.8021...  0.3357 sec/batch\n",
      "Epoch: 181/600...  Training Step: 7201...  Training loss: 1.9245...  Val loss: 1.7974...  0.3099 sec/batch\n",
      "Epoch: 183/600...  Training Step: 7301...  Training loss: 1.9264...  Val loss: 1.7931...  0.3136 sec/batch\n",
      "Epoch: 186/600...  Training Step: 7401...  Training loss: 1.9042...  Val loss: 1.7889...  0.3184 sec/batch\n",
      "Epoch: 188/600...  Training Step: 7501...  Training loss: 1.9134...  Val loss: 1.7835...  0.3166 sec/batch\n",
      "WARNING:tensorflow:Error encountered when serializing LAYER_NAME_UIDS.\n",
      "Type is unsupported, or the types of the items don't match field type in CollectionDef.\n",
      "'dict' object has no attribute 'name'\n",
      "Epoch: 191/600...  Training Step: 7601...  Training loss: 1.9033...  Val loss: 1.7809...  0.3097 sec/batch\n",
      "Epoch: 193/600...  Training Step: 7701...  Training loss: 1.9099...  Val loss: 1.7744...  0.3117 sec/batch\n",
      "Epoch: 196/600...  Training Step: 7801...  Training loss: 1.9009...  Val loss: 1.7716...  0.3139 sec/batch\n",
      "Epoch: 198/600...  Training Step: 7901...  Training loss: 1.8999...  Val loss: 1.7662...  0.3264 sec/batch\n",
      "Epoch: 201/600...  Training Step: 8001...  Training loss: 1.8887...  Val loss: 1.7637...  0.3137 sec/batch\n",
      "WARNING:tensorflow:Error encountered when serializing LAYER_NAME_UIDS.\n",
      "Type is unsupported, or the types of the items don't match field type in CollectionDef.\n",
      "'dict' object has no attribute 'name'\n",
      "Epoch: 203/600...  Training Step: 8101...  Training loss: 1.8920...  Val loss: 1.7580...  0.3089 sec/batch\n",
      "Epoch: 206/600...  Training Step: 8201...  Training loss: 1.8823...  Val loss: 1.7566...  0.3100 sec/batch\n",
      "Epoch: 208/600...  Training Step: 8301...  Training loss: 1.8753...  Val loss: 1.7505...  0.3092 sec/batch\n",
      "Epoch: 211/600...  Training Step: 8401...  Training loss: 1.8549...  Val loss: 1.7480...  0.3096 sec/batch\n",
      "Epoch: 213/600...  Training Step: 8501...  Training loss: 1.8688...  Val loss: 1.7430...  0.3087 sec/batch\n",
      "WARNING:tensorflow:Error encountered when serializing LAYER_NAME_UIDS.\n",
      "Type is unsupported, or the types of the items don't match field type in CollectionDef.\n",
      "'dict' object has no attribute 'name'\n",
      "Epoch: 216/600...  Training Step: 8601...  Training loss: 1.8537...  Val loss: 1.7412...  0.3180 sec/batch\n",
      "Epoch: 218/600...  Training Step: 8701...  Training loss: 1.8599...  Val loss: 1.7363...  0.3107 sec/batch\n",
      "Epoch: 221/600...  Training Step: 8801...  Training loss: 1.8578...  Val loss: 1.7329...  0.3130 sec/batch\n",
      "Epoch: 223/600...  Training Step: 8901...  Training loss: 1.8561...  Val loss: 1.7274...  0.3128 sec/batch\n",
      "Epoch: 226/600...  Training Step: 9001...  Training loss: 1.8424...  Val loss: 1.7264...  0.3297 sec/batch\n",
      "WARNING:tensorflow:Error encountered when serializing LAYER_NAME_UIDS.\n",
      "Type is unsupported, or the types of the items don't match field type in CollectionDef.\n",
      "'dict' object has no attribute 'name'\n",
      "Epoch: 228/600...  Training Step: 9101...  Training loss: 1.8534...  Val loss: 1.7203...  0.3116 sec/batch\n",
      "Epoch: 231/600...  Training Step: 9201...  Training loss: 1.8363...  Val loss: 1.7188...  0.3088 sec/batch\n",
      "Epoch: 233/600...  Training Step: 9301...  Training loss: 1.8460...  Val loss: 1.7132...  0.3092 sec/batch\n",
      "Epoch: 236/600...  Training Step: 9401...  Training loss: 1.8361...  Val loss: 1.7144...  0.3150 sec/batch\n",
      "Epoch: 238/600...  Training Step: 9501...  Training loss: 1.8324...  Val loss: 1.7074...  0.3156 sec/batch\n",
      "WARNING:tensorflow:Error encountered when serializing LAYER_NAME_UIDS.\n",
      "Type is unsupported, or the types of the items don't match field type in CollectionDef.\n",
      "'dict' object has no attribute 'name'\n",
      "Epoch: 241/600...  Training Step: 9601...  Training loss: 1.8219...  Val loss: 1.7070...  0.3091 sec/batch\n",
      "Epoch: 243/600...  Training Step: 9701...  Training loss: 1.8289...  Val loss: 1.7026...  0.3122 sec/batch\n",
      "Epoch: 246/600...  Training Step: 9801...  Training loss: 1.8162...  Val loss: 1.6987...  0.3219 sec/batch\n",
      "Epoch: 248/600...  Training Step: 9901...  Training loss: 1.8197...  Val loss: 1.6940...  0.3090 sec/batch\n",
      "Epoch: 251/600...  Training Step: 10001...  Training loss: 1.8059...  Val loss: 1.6958...  0.3093 sec/batch\n",
      "WARNING:tensorflow:Error encountered when serializing LAYER_NAME_UIDS.\n",
      "Type is unsupported, or the types of the items don't match field type in CollectionDef.\n",
      "'dict' object has no attribute 'name'\n",
      "Epoch: 253/600...  Training Step: 10101...  Training loss: 1.8138...  Val loss: 1.6891...  0.3086 sec/batch\n",
      "Epoch: 256/600...  Training Step: 10201...  Training loss: 1.8030...  Val loss: 1.6887...  0.3094 sec/batch\n",
      "Epoch: 258/600...  Training Step: 10301...  Training loss: 1.8038...  Val loss: 1.6839...  0.3082 sec/batch\n",
      "Epoch: 261/600...  Training Step: 10401...  Training loss: 1.8005...  Val loss: 1.6835...  0.3133 sec/batch\n",
      "Epoch: 263/600...  Training Step: 10501...  Training loss: 1.8060...  Val loss: 1.6780...  0.3361 sec/batch\n",
      "WARNING:tensorflow:Error encountered when serializing LAYER_NAME_UIDS.\n",
      "Type is unsupported, or the types of the items don't match field type in CollectionDef.\n",
      "'dict' object has no attribute 'name'\n",
      "Epoch: 266/600...  Training Step: 10601...  Training loss: 1.7880...  Val loss: 1.6771...  0.3167 sec/batch\n",
      "Epoch: 268/600...  Training Step: 10701...  Training loss: 1.8012...  Val loss: 1.6730...  0.3103 sec/batch\n",
      "Epoch: 271/600...  Training Step: 10801...  Training loss: 1.7866...  Val loss: 1.6740...  0.3123 sec/batch\n",
      "Epoch: 273/600...  Training Step: 10901...  Training loss: 1.7990...  Val loss: 1.6667...  0.3085 sec/batch\n",
      "Epoch: 276/600...  Training Step: 11001...  Training loss: 1.7818...  Val loss: 1.6698...  0.3086 sec/batch\n",
      "WARNING:tensorflow:Error encountered when serializing LAYER_NAME_UIDS.\n",
      "Type is unsupported, or the types of the items don't match field type in CollectionDef.\n",
      "'dict' object has no attribute 'name'\n",
      "Epoch: 278/600...  Training Step: 11101...  Training loss: 1.7857...  Val loss: 1.6632...  0.3084 sec/batch\n",
      "Epoch: 281/600...  Training Step: 11201...  Training loss: 1.7798...  Val loss: 1.6617...  0.3090 sec/batch\n"
     ]
    },
    {
     "name": "stdout",
     "output_type": "stream",
     "text": [
      "Epoch: 283/600...  Training Step: 11301...  Training loss: 1.7788...  Val loss: 1.6571...  0.3117 sec/batch\n",
      "Epoch: 286/600...  Training Step: 11401...  Training loss: 1.7719...  Val loss: 1.6583...  0.3085 sec/batch\n",
      "Epoch: 288/600...  Training Step: 11501...  Training loss: 1.7775...  Val loss: 1.6549...  0.3085 sec/batch\n",
      "WARNING:tensorflow:Error encountered when serializing LAYER_NAME_UIDS.\n",
      "Type is unsupported, or the types of the items don't match field type in CollectionDef.\n",
      "'dict' object has no attribute 'name'\n",
      "Epoch: 291/600...  Training Step: 11601...  Training loss: 1.7608...  Val loss: 1.6536...  0.3364 sec/batch\n",
      "Epoch: 293/600...  Training Step: 11701...  Training loss: 1.7663...  Val loss: 1.6504...  0.3086 sec/batch\n",
      "Epoch: 296/600...  Training Step: 11801...  Training loss: 1.7606...  Val loss: 1.6492...  0.3103 sec/batch\n",
      "Epoch: 298/600...  Training Step: 11901...  Training loss: 1.7682...  Val loss: 1.6445...  0.3088 sec/batch\n",
      "Epoch: 301/600...  Training Step: 12001...  Training loss: 1.7456...  Val loss: 1.6441...  0.3085 sec/batch\n",
      "WARNING:tensorflow:Error encountered when serializing LAYER_NAME_UIDS.\n",
      "Type is unsupported, or the types of the items don't match field type in CollectionDef.\n",
      "'dict' object has no attribute 'name'\n",
      "Epoch: 303/600...  Training Step: 12101...  Training loss: 1.7533...  Val loss: 1.6417...  0.3090 sec/batch\n",
      "Epoch: 306/600...  Training Step: 12201...  Training loss: 1.7480...  Val loss: 1.6399...  0.3086 sec/batch\n",
      "Epoch: 308/600...  Training Step: 12301...  Training loss: 1.7528...  Val loss: 1.6364...  0.3089 sec/batch\n",
      "Epoch: 311/600...  Training Step: 12401...  Training loss: 1.7421...  Val loss: 1.6363...  0.3089 sec/batch\n",
      "Epoch: 313/600...  Training Step: 12501...  Training loss: 1.7479...  Val loss: 1.6346...  0.3096 sec/batch\n",
      "WARNING:tensorflow:Error encountered when serializing LAYER_NAME_UIDS.\n",
      "Type is unsupported, or the types of the items don't match field type in CollectionDef.\n",
      "'dict' object has no attribute 'name'\n",
      "Epoch: 316/600...  Training Step: 12601...  Training loss: 1.7402...  Val loss: 1.6320...  0.3102 sec/batch\n",
      "Epoch: 318/600...  Training Step: 12701...  Training loss: 1.7482...  Val loss: 1.6290...  0.3096 sec/batch\n",
      "Epoch: 321/600...  Training Step: 12801...  Training loss: 1.7358...  Val loss: 1.6276...  0.3094 sec/batch\n",
      "Epoch: 323/600...  Training Step: 12901...  Training loss: 1.7439...  Val loss: 1.6256...  0.3130 sec/batch\n",
      "Epoch: 326/600...  Training Step: 13001...  Training loss: 1.7234...  Val loss: 1.6240...  0.3100 sec/batch\n",
      "WARNING:tensorflow:Error encountered when serializing LAYER_NAME_UIDS.\n",
      "Type is unsupported, or the types of the items don't match field type in CollectionDef.\n",
      "'dict' object has no attribute 'name'\n",
      "Epoch: 328/600...  Training Step: 13101...  Training loss: 1.7379...  Val loss: 1.6223...  0.3135 sec/batch\n",
      "Epoch: 331/600...  Training Step: 13201...  Training loss: 1.7222...  Val loss: 1.6216...  0.3208 sec/batch\n",
      "Epoch: 333/600...  Training Step: 13301...  Training loss: 1.7357...  Val loss: 1.6201...  0.3223 sec/batch\n",
      "Epoch: 336/600...  Training Step: 13401...  Training loss: 1.7288...  Val loss: 1.6185...  0.3203 sec/batch\n",
      "Epoch: 338/600...  Training Step: 13501...  Training loss: 1.7318...  Val loss: 1.6161...  0.3086 sec/batch\n",
      "WARNING:tensorflow:Error encountered when serializing LAYER_NAME_UIDS.\n",
      "Type is unsupported, or the types of the items don't match field type in CollectionDef.\n",
      "'dict' object has no attribute 'name'\n",
      "Epoch: 341/600...  Training Step: 13601...  Training loss: 1.7057...  Val loss: 1.6145...  0.3140 sec/batch\n",
      "Epoch: 343/600...  Training Step: 13701...  Training loss: 1.7262...  Val loss: 1.6124...  0.3107 sec/batch\n",
      "Epoch: 346/600...  Training Step: 13801...  Training loss: 1.7151...  Val loss: 1.6110...  0.3244 sec/batch\n",
      "Epoch: 348/600...  Training Step: 13901...  Training loss: 1.7234...  Val loss: 1.6088...  0.3215 sec/batch\n",
      "Epoch: 351/600...  Training Step: 14001...  Training loss: 1.7013...  Val loss: 1.6081...  0.3221 sec/batch\n",
      "WARNING:tensorflow:Error encountered when serializing LAYER_NAME_UIDS.\n",
      "Type is unsupported, or the types of the items don't match field type in CollectionDef.\n",
      "'dict' object has no attribute 'name'\n",
      "Epoch: 353/600...  Training Step: 14101...  Training loss: 1.7152...  Val loss: 1.6066...  0.3221 sec/batch\n",
      "Epoch: 356/600...  Training Step: 14201...  Training loss: 1.6946...  Val loss: 1.6058...  0.3216 sec/batch\n",
      "Epoch: 358/600...  Training Step: 14301...  Training loss: 1.7117...  Val loss: 1.6038...  0.3086 sec/batch\n",
      "Epoch: 361/600...  Training Step: 14401...  Training loss: 1.6994...  Val loss: 1.6018...  0.3115 sec/batch\n",
      "Epoch: 363/600...  Training Step: 14501...  Training loss: 1.7087...  Val loss: 1.6012...  0.3135 sec/batch\n",
      "WARNING:tensorflow:Error encountered when serializing LAYER_NAME_UIDS.\n",
      "Type is unsupported, or the types of the items don't match field type in CollectionDef.\n",
      "'dict' object has no attribute 'name'\n",
      "Epoch: 366/600...  Training Step: 14601...  Training loss: 1.6909...  Val loss: 1.5980...  0.3103 sec/batch\n",
      "Epoch: 368/600...  Training Step: 14701...  Training loss: 1.7046...  Val loss: 1.5985...  0.3101 sec/batch\n",
      "Epoch: 371/600...  Training Step: 14801...  Training loss: 1.6895...  Val loss: 1.5964...  0.3095 sec/batch\n",
      "Epoch: 373/600...  Training Step: 14901...  Training loss: 1.7044...  Val loss: 1.5962...  0.3220 sec/batch\n",
      "Epoch: 376/600...  Training Step: 15001...  Training loss: 1.6877...  Val loss: 1.5943...  0.3224 sec/batch\n",
      "WARNING:tensorflow:Error encountered when serializing LAYER_NAME_UIDS.\n",
      "Type is unsupported, or the types of the items don't match field type in CollectionDef.\n",
      "'dict' object has no attribute 'name'\n",
      "Epoch: 378/600...  Training Step: 15101...  Training loss: 1.6881...  Val loss: 1.5919...  0.3222 sec/batch\n",
      "Epoch: 381/600...  Training Step: 15201...  Training loss: 1.6842...  Val loss: 1.5907...  0.3095 sec/batch\n",
      "Epoch: 383/600...  Training Step: 15301...  Training loss: 1.6858...  Val loss: 1.5895...  0.3132 sec/batch\n",
      "Epoch: 386/600...  Training Step: 15401...  Training loss: 1.6837...  Val loss: 1.5893...  0.3230 sec/batch\n",
      "Epoch: 388/600...  Training Step: 15501...  Training loss: 1.6793...  Val loss: 1.5886...  0.3215 sec/batch\n",
      "WARNING:tensorflow:Error encountered when serializing LAYER_NAME_UIDS.\n",
      "Type is unsupported, or the types of the items don't match field type in CollectionDef.\n",
      "'dict' object has no attribute 'name'\n",
      "Epoch: 391/600...  Training Step: 15601...  Training loss: 1.6771...  Val loss: 1.5867...  0.3233 sec/batch\n",
      "Epoch: 393/600...  Training Step: 15701...  Training loss: 1.6830...  Val loss: 1.5864...  0.3087 sec/batch\n",
      "Epoch: 396/600...  Training Step: 15801...  Training loss: 1.6664...  Val loss: 1.5860...  0.3163 sec/batch\n",
      "Epoch: 398/600...  Training Step: 15901...  Training loss: 1.6824...  Val loss: 1.5813...  0.3120 sec/batch\n",
      "Epoch: 401/600...  Training Step: 16001...  Training loss: 1.6736...  Val loss: 1.5831...  0.3106 sec/batch\n",
      "WARNING:tensorflow:Error encountered when serializing LAYER_NAME_UIDS.\n",
      "Type is unsupported, or the types of the items don't match field type in CollectionDef.\n",
      "'dict' object has no attribute 'name'\n",
      "Epoch: 403/600...  Training Step: 16101...  Training loss: 1.6826...  Val loss: 1.5809...  0.3162 sec/batch\n",
      "Epoch: 406/600...  Training Step: 16201...  Training loss: 1.6697...  Val loss: 1.5803...  0.3221 sec/batch\n",
      "Epoch: 408/600...  Training Step: 16301...  Training loss: 1.6712...  Val loss: 1.5781...  0.3085 sec/batch\n",
      "Epoch: 411/600...  Training Step: 16401...  Training loss: 1.6685...  Val loss: 1.5794...  0.3086 sec/batch\n",
      "Epoch: 413/600...  Training Step: 16501...  Training loss: 1.6701...  Val loss: 1.5766...  0.3113 sec/batch\n",
      "WARNING:tensorflow:Error encountered when serializing LAYER_NAME_UIDS.\n",
      "Type is unsupported, or the types of the items don't match field type in CollectionDef.\n",
      "'dict' object has no attribute 'name'\n",
      "Epoch: 416/600...  Training Step: 16601...  Training loss: 1.6556...  Val loss: 1.5766...  0.3101 sec/batch\n",
      "Epoch: 418/600...  Training Step: 16701...  Training loss: 1.6666...  Val loss: 1.5745...  0.3100 sec/batch\n",
      "Epoch: 421/600...  Training Step: 16801...  Training loss: 1.6541...  Val loss: 1.5744...  0.3219 sec/batch\n"
     ]
    },
    {
     "name": "stdout",
     "output_type": "stream",
     "text": [
      "Epoch: 423/600...  Training Step: 16901...  Training loss: 1.6550...  Val loss: 1.5722...  0.3108 sec/batch\n",
      "Epoch: 426/600...  Training Step: 17001...  Training loss: 1.6522...  Val loss: 1.5717...  0.3091 sec/batch\n",
      "WARNING:tensorflow:Error encountered when serializing LAYER_NAME_UIDS.\n",
      "Type is unsupported, or the types of the items don't match field type in CollectionDef.\n",
      "'dict' object has no attribute 'name'\n",
      "Epoch: 428/600...  Training Step: 17101...  Training loss: 1.6654...  Val loss: 1.5711...  0.3100 sec/batch\n",
      "Epoch: 431/600...  Training Step: 17201...  Training loss: 1.6418...  Val loss: 1.5700...  0.3095 sec/batch\n",
      "Epoch: 433/600...  Training Step: 17301...  Training loss: 1.6555...  Val loss: 1.5687...  0.3086 sec/batch\n",
      "Epoch: 436/600...  Training Step: 17401...  Training loss: 1.6437...  Val loss: 1.5683...  0.3088 sec/batch\n",
      "Epoch: 438/600...  Training Step: 17501...  Training loss: 1.6590...  Val loss: 1.5676...  0.3313 sec/batch\n",
      "WARNING:tensorflow:Error encountered when serializing LAYER_NAME_UIDS.\n",
      "Type is unsupported, or the types of the items don't match field type in CollectionDef.\n",
      "'dict' object has no attribute 'name'\n",
      "Epoch: 441/600...  Training Step: 17601...  Training loss: 1.6435...  Val loss: 1.5664...  0.3093 sec/batch\n",
      "Epoch: 443/600...  Training Step: 17701...  Training loss: 1.6503...  Val loss: 1.5648...  0.3189 sec/batch\n",
      "Epoch: 446/600...  Training Step: 17801...  Training loss: 1.6397...  Val loss: 1.5653...  0.3085 sec/batch\n",
      "Epoch: 448/600...  Training Step: 17901...  Training loss: 1.6414...  Val loss: 1.5627...  0.3084 sec/batch\n",
      "Epoch: 451/600...  Training Step: 18001...  Training loss: 1.6214...  Val loss: 1.5627...  0.3091 sec/batch\n",
      "WARNING:tensorflow:Error encountered when serializing LAYER_NAME_UIDS.\n",
      "Type is unsupported, or the types of the items don't match field type in CollectionDef.\n",
      "'dict' object has no attribute 'name'\n",
      "Epoch: 453/600...  Training Step: 18101...  Training loss: 1.6417...  Val loss: 1.5612...  0.3199 sec/batch\n",
      "Epoch: 456/600...  Training Step: 18201...  Training loss: 1.6329...  Val loss: 1.5616...  0.3086 sec/batch\n",
      "Epoch: 458/600...  Training Step: 18301...  Training loss: 1.6431...  Val loss: 1.5597...  0.3088 sec/batch\n",
      "Epoch: 461/600...  Training Step: 18401...  Training loss: 1.6285...  Val loss: 1.5601...  0.3088 sec/batch\n",
      "Epoch: 463/600...  Training Step: 18501...  Training loss: 1.6459...  Val loss: 1.5584...  0.3259 sec/batch\n",
      "WARNING:tensorflow:Error encountered when serializing LAYER_NAME_UIDS.\n",
      "Type is unsupported, or the types of the items don't match field type in CollectionDef.\n",
      "'dict' object has no attribute 'name'\n",
      "Epoch: 466/600...  Training Step: 18601...  Training loss: 1.6260...  Val loss: 1.5599...  0.3158 sec/batch\n",
      "Epoch: 468/600...  Training Step: 18701...  Training loss: 1.6379...  Val loss: 1.5575...  0.3088 sec/batch\n",
      "Epoch: 471/600...  Training Step: 18801...  Training loss: 1.6222...  Val loss: 1.5555...  0.3086 sec/batch\n",
      "Epoch: 473/600...  Training Step: 18901...  Training loss: 1.6360...  Val loss: 1.5540...  0.3085 sec/batch\n",
      "Epoch: 476/600...  Training Step: 19001...  Training loss: 1.6147...  Val loss: 1.5560...  0.3088 sec/batch\n",
      "WARNING:tensorflow:Error encountered when serializing LAYER_NAME_UIDS.\n",
      "Type is unsupported, or the types of the items don't match field type in CollectionDef.\n",
      "'dict' object has no attribute 'name'\n",
      "Epoch: 478/600...  Training Step: 19101...  Training loss: 1.6199...  Val loss: 1.5542...  0.3090 sec/batch\n",
      "Epoch: 481/600...  Training Step: 19201...  Training loss: 1.6166...  Val loss: 1.5551...  0.3287 sec/batch\n",
      "Epoch: 483/600...  Training Step: 19301...  Training loss: 1.6344...  Val loss: 1.5511...  0.3236 sec/batch\n",
      "Epoch: 486/600...  Training Step: 19401...  Training loss: 1.6089...  Val loss: 1.5522...  0.3214 sec/batch\n",
      "Epoch: 488/600...  Training Step: 19501...  Training loss: 1.6356...  Val loss: 1.5507...  0.3218 sec/batch\n",
      "WARNING:tensorflow:Error encountered when serializing LAYER_NAME_UIDS.\n",
      "Type is unsupported, or the types of the items don't match field type in CollectionDef.\n",
      "'dict' object has no attribute 'name'\n",
      "Epoch: 491/600...  Training Step: 19601...  Training loss: 1.6131...  Val loss: 1.5505...  0.3216 sec/batch\n",
      "Epoch: 493/600...  Training Step: 19701...  Training loss: 1.6229...  Val loss: 1.5486...  0.3220 sec/batch\n",
      "Epoch: 496/600...  Training Step: 19801...  Training loss: 1.6107...  Val loss: 1.5503...  0.3216 sec/batch\n",
      "Epoch: 498/600...  Training Step: 19901...  Training loss: 1.6233...  Val loss: 1.5498...  0.3222 sec/batch\n",
      "Epoch: 501/600...  Training Step: 20001...  Training loss: 1.6063...  Val loss: 1.5486...  0.3217 sec/batch\n",
      "WARNING:tensorflow:Error encountered when serializing LAYER_NAME_UIDS.\n",
      "Type is unsupported, or the types of the items don't match field type in CollectionDef.\n",
      "'dict' object has no attribute 'name'\n",
      "Epoch: 503/600...  Training Step: 20101...  Training loss: 1.6175...  Val loss: 1.5464...  0.3212 sec/batch\n",
      "Epoch: 506/600...  Training Step: 20201...  Training loss: 1.6005...  Val loss: 1.5465...  0.3281 sec/batch\n",
      "Epoch: 508/600...  Training Step: 20301...  Training loss: 1.6206...  Val loss: 1.5470...  0.3191 sec/batch\n",
      "Epoch: 511/600...  Training Step: 20401...  Training loss: 1.6020...  Val loss: 1.5461...  0.3086 sec/batch\n",
      "Epoch: 513/600...  Training Step: 20501...  Training loss: 1.6082...  Val loss: 1.5448...  0.3103 sec/batch\n",
      "WARNING:tensorflow:Error encountered when serializing LAYER_NAME_UIDS.\n",
      "Type is unsupported, or the types of the items don't match field type in CollectionDef.\n",
      "'dict' object has no attribute 'name'\n",
      "Epoch: 516/600...  Training Step: 20601...  Training loss: 1.5970...  Val loss: 1.5463...  0.3345 sec/batch\n",
      "Epoch: 518/600...  Training Step: 20701...  Training loss: 1.6092...  Val loss: 1.5481...  0.3157 sec/batch\n",
      "Epoch: 521/600...  Training Step: 20801...  Training loss: 1.6004...  Val loss: 1.5438...  0.3088 sec/batch\n",
      "Epoch: 523/600...  Training Step: 20901...  Training loss: 1.6040...  Val loss: 1.5440...  0.3096 sec/batch\n",
      "Epoch: 526/600...  Training Step: 21001...  Training loss: 1.5940...  Val loss: 1.5446...  0.3092 sec/batch\n",
      "WARNING:tensorflow:Error encountered when serializing LAYER_NAME_UIDS.\n",
      "Type is unsupported, or the types of the items don't match field type in CollectionDef.\n",
      "'dict' object has no attribute 'name'\n",
      "Epoch: 528/600...  Training Step: 21101...  Training loss: 1.6102...  Val loss: 1.5441...  0.3143 sec/batch\n",
      "Epoch: 531/600...  Training Step: 21201...  Training loss: 1.5937...  Val loss: 1.5433...  0.3105 sec/batch\n",
      "Epoch: 533/600...  Training Step: 21301...  Training loss: 1.6132...  Val loss: 1.5410...  0.3315 sec/batch\n",
      "Epoch: 536/600...  Training Step: 21401...  Training loss: 1.5935...  Val loss: 1.5419...  0.3085 sec/batch\n",
      "Epoch: 538/600...  Training Step: 21501...  Training loss: 1.6002...  Val loss: 1.5412...  0.3095 sec/batch\n",
      "WARNING:tensorflow:Error encountered when serializing LAYER_NAME_UIDS.\n",
      "Type is unsupported, or the types of the items don't match field type in CollectionDef.\n",
      "'dict' object has no attribute 'name'\n",
      "Epoch: 541/600...  Training Step: 21601...  Training loss: 1.5860...  Val loss: 1.5400...  0.3226 sec/batch\n",
      "Epoch: 543/600...  Training Step: 21701...  Training loss: 1.5981...  Val loss: 1.5391...  0.3512 sec/batch\n",
      "Epoch: 546/600...  Training Step: 21801...  Training loss: 1.5859...  Val loss: 1.5405...  0.3301 sec/batch\n",
      "Epoch: 548/600...  Training Step: 21901...  Training loss: 1.5983...  Val loss: 1.5399...  0.3384 sec/batch\n",
      "Epoch: 551/600...  Training Step: 22001...  Training loss: 1.5771...  Val loss: 1.5391...  0.3309 sec/batch\n",
      "WARNING:tensorflow:Error encountered when serializing LAYER_NAME_UIDS.\n",
      "Type is unsupported, or the types of the items don't match field type in CollectionDef.\n",
      "'dict' object has no attribute 'name'\n",
      "Epoch: 553/600...  Training Step: 22101...  Training loss: 1.5930...  Val loss: 1.5396...  0.3358 sec/batch\n",
      "Epoch: 556/600...  Training Step: 22201...  Training loss: 1.5757...  Val loss: 1.5389...  0.3196 sec/batch\n",
      "Epoch: 558/600...  Training Step: 22301...  Training loss: 1.5925...  Val loss: 1.5392...  0.3148 sec/batch\n",
      "Epoch: 561/600...  Training Step: 22401...  Training loss: 1.5783...  Val loss: 1.5377...  0.3100 sec/batch\n"
     ]
    },
    {
     "name": "stdout",
     "output_type": "stream",
     "text": [
      "Epoch: 563/600...  Training Step: 22501...  Training loss: 1.5877...  Val loss: 1.5382...  0.3161 sec/batch\n",
      "WARNING:tensorflow:Error encountered when serializing LAYER_NAME_UIDS.\n",
      "Type is unsupported, or the types of the items don't match field type in CollectionDef.\n",
      "'dict' object has no attribute 'name'\n",
      "Epoch: 566/600...  Training Step: 22601...  Training loss: 1.5737...  Val loss: 1.5389...  0.3122 sec/batch\n",
      "Epoch: 568/600...  Training Step: 22701...  Training loss: 1.5937...  Val loss: 1.5364...  0.3372 sec/batch\n",
      "Epoch: 571/600...  Training Step: 22801...  Training loss: 1.5681...  Val loss: 1.5372...  0.3089 sec/batch\n",
      "Epoch: 573/600...  Training Step: 22901...  Training loss: 1.5827...  Val loss: 1.5382...  0.3089 sec/batch\n",
      "Epoch: 576/600...  Training Step: 23001...  Training loss: 1.5678...  Val loss: 1.5373...  0.3105 sec/batch\n",
      "WARNING:tensorflow:Error encountered when serializing LAYER_NAME_UIDS.\n",
      "Type is unsupported, or the types of the items don't match field type in CollectionDef.\n",
      "'dict' object has no attribute 'name'\n",
      "Epoch: 578/600...  Training Step: 23101...  Training loss: 1.5795...  Val loss: 1.5367...  0.3090 sec/batch\n",
      "Epoch: 581/600...  Training Step: 23201...  Training loss: 1.5667...  Val loss: 1.5346...  0.3320 sec/batch\n",
      "Epoch: 583/600...  Training Step: 23301...  Training loss: 1.5805...  Val loss: 1.5321...  0.3255 sec/batch\n",
      "Epoch: 586/600...  Training Step: 23401...  Training loss: 1.5650...  Val loss: 1.5356...  0.3089 sec/batch\n",
      "Epoch: 588/600...  Training Step: 23501...  Training loss: 1.5760...  Val loss: 1.5348...  0.3164 sec/batch\n",
      "WARNING:tensorflow:Error encountered when serializing LAYER_NAME_UIDS.\n",
      "Type is unsupported, or the types of the items don't match field type in CollectionDef.\n",
      "'dict' object has no attribute 'name'\n",
      "Epoch: 591/600...  Training Step: 23601...  Training loss: 1.5686...  Val loss: 1.5342...  0.3098 sec/batch\n",
      "Epoch: 593/600...  Training Step: 23701...  Training loss: 1.5790...  Val loss: 1.5343...  0.3101 sec/batch\n",
      "Epoch: 596/600...  Training Step: 23801...  Training loss: 1.5578...  Val loss: 1.5338...  0.3085 sec/batch\n",
      "Epoch: 598/600...  Training Step: 23901...  Training loss: 1.5653...  Val loss: 1.5323...  0.3087 sec/batch\n",
      "WARNING:tensorflow:Error encountered when serializing LAYER_NAME_UIDS.\n",
      "Type is unsupported, or the types of the items don't match field type in CollectionDef.\n",
      "'dict' object has no attribute 'name'\n"
     ]
    }
   ],
   "source": [
    "#epochs = 1\n",
    "# Save every N iterations\n",
    "save_every_n = 500\n",
    "print_loss_every_n = 100\n",
    "sample_every = 500\n",
    "with tf.device(\"/gpu:0\"):\n",
    "    model = CharRNN(len(vocab), batch_size=batch_size, num_steps=num_steps,\n",
    "                lstm_size=lstm_size, num_layers=num_layers, \n",
    "                learning_rate=learning_rate)\n",
    "    #print(\"after model\")\n",
    "\n",
    "saver = tf.train.Saver(max_to_keep=5)\n",
    "#print(\"after saver\")\n",
    "with tf.Session() as sess:\n",
    "    sess.run(tf.global_variables_initializer())\n",
    "    print(\"Number of parameters:\",get_number_of_parameters(),\"Dataset size:\",len(encoded))\n",
    "    #print(\"after initializer\")\n",
    "    if resume_from_checkpoint:\n",
    "        latest_checkpoint = tf.train.latest_checkpoint('checkpoints')\n",
    "        saver.restore(sess, latest_checkpoint)\n",
    "    counter = 0\n",
    "    for e in range(epochs):\n",
    "        # Train network\n",
    "        \n",
    "        new_state = sess.run(model.initial_state)\n",
    "        loss = 0\n",
    "        for x, y in get_batches(encoded, batch_size, num_steps):\n",
    "            \n",
    "            \n",
    "            start = time.time()\n",
    "            feed = {model.inputs: x,\n",
    "                    model.targets: y,\n",
    "                    model.keep_prob: keep_prob,\n",
    "                    model.initial_state: new_state}\n",
    "            batch_loss, new_state, _ = sess.run([model.loss, \n",
    "                                                 model.final_state, \n",
    "                                                 model.optimizer], \n",
    "                                                 feed_dict=feed)\n",
    "        \n",
    "            \n",
    "            end = time.time()\n",
    "            if counter%print_loss_every_n == 0:\n",
    "                val_batches = get_batches(encoded_val,int(len(encoded_val)/num_steps),num_steps)\n",
    "                x_val,y_val = next(val_batches)\n",
    "                \n",
    "                val_dict = {model.inputs: x_val,\n",
    "                            model.targets: y_val,\n",
    "                            model.keep_prob: 1,\n",
    "                            model.initial_state: new_state}\n",
    "                \n",
    "                val_loss,prediction = sess.run([model.loss,model.prediction],feed_dict=val_dict)\n",
    "                \n",
    "                losses[\"train\"].append(batch_loss)\n",
    "                losses[\"validation\"].append(val_loss)\n",
    "                \n",
    "                \n",
    "                global_step = tf.train.global_step(sess,model.global_step_tensor)\n",
    "                x_steps.append(global_step)\n",
    "                \n",
    "                print('Epoch: {}/{}... '.format(e+1, epochs),\n",
    "                      'Training Step: {}... '.format(global_step),\n",
    "                      'Training loss: {:.4f}... '.format(batch_loss),\n",
    "                      'Val loss: {:.4f}... '.format(val_loss),\n",
    "                      '{:.4f} sec/batch'.format((end-start)))\n",
    "        \n",
    "            if (counter % save_every_n == 0):\n",
    "                global_step = tf.train.global_step(sess,model.global_step_tensor)\n",
    "                saver.save(sess, \"checkpoints/m{}_i{}_l{}.ckpt\".format(mode,global_step, lstm_size))\n",
    "                \n",
    "            counter += 1\n",
    "            \n",
    "    global_step = tf.train.global_step(sess,model.global_step_tensor)\n",
    "    saver.save(sess, \"checkpoints/m{}_i{}_l{}.ckpt\".format(mode,global_step, lstm_size))"
   ]
  },
  {
   "cell_type": "code",
   "execution_count": 31,
   "metadata": {},
   "outputs": [
    {
     "data": {
      "image/png": "[encoded data removed]",
      "text/plain": [
       "<matplotlib.figure.Figure at 0x7f60f4e86898>"
      ]
     },
     "metadata": {
      "image/png": {
       "height": 250,
       "width": 386
      }
     },
     "output_type": "display_data"
    }
   ],
   "source": [
    "plt.plot(x_steps,losses[\"train\"],label=\"Train loss\")\n",
    "plt.plot(x_steps,losses[\"validation\"],label=\"Validation loss\")\n",
    "plt.legend()\n",
    "_ = plt.ylim()"
   ]
  },
  {
   "cell_type": "markdown",
   "metadata": {},
   "source": [
    "#### Saved checkpoints\n",
    "\n",
    "Read up on saving and loading checkpoints here: https://www.tensorflow.org/programmers_guide/variables"
   ]
  },
  {
   "cell_type": "code",
   "execution_count": 32,
   "metadata": {
    "collapsed": true
   },
   "outputs": [],
   "source": [
    "checkpoints = tf.train.get_checkpoint_state('checkpoints')"
   ]
  },
  {
   "cell_type": "markdown",
   "metadata": {},
   "source": [
    "## Sampling final trained model\n",
    "\n",
    "Now that the network is trained, we'll can use it to generate new text. The idea is that we pass in a character, then the network will predict the next character. We can use the new one, to predict the next one. And we keep doing this to generate all new text. I also included some functionality to prime the network with some text by passing in a string and building up a state from that.\n",
    "\n",
    "The network gives us predictions for each character. To reduce noise and make things a little less random, I'm going to only choose a new character from the top N most likely characters.\n",
    "\n"
   ]
  },
  {
   "cell_type": "code",
   "execution_count": 33,
   "metadata": {
    "collapsed": true
   },
   "outputs": [],
   "source": [
    "def sample(checkpoint, n_samples, lstm_size, vocab_size, prime=\"The \",mode=\"characters\"):\n",
    "    print(mode)\n",
    "    samples = tokenize_text(prime,mode)\n",
    "    model = CharRNN(len(vocab), lstm_size=lstm_size, sampling=True)\n",
    "    saver = tf.train.Saver()\n",
    "    with tf.Session() as sess:\n",
    "        saver.restore(sess, checkpoint)\n",
    "        new_state = sess.run(model.initial_state)\n",
    "        for c in tokenize_text(prime,mode):\n",
    "            x = np.zeros((1, 1))\n",
    "            x[0,0] = vocab_to_int[c]\n",
    "            feed = {model.inputs: x,\n",
    "                    model.keep_prob: 1.,\n",
    "                    model.initial_state: new_state}\n",
    "            preds, new_state = sess.run([model.prediction, model.final_state], \n",
    "                                         feed_dict=feed)\n",
    "\n",
    "        c = pick_top_n(preds, len(vocab))\n",
    "        samples.append(int_to_vocab[c])\n",
    "\n",
    "        for i in range(n_samples):\n",
    "            x[0,0] = c\n",
    "            feed = {model.inputs: x,\n",
    "                    model.keep_prob: 1.,\n",
    "                    model.initial_state: new_state}\n",
    "            preds, new_state = sess.run([model.prediction, model.final_state], \n",
    "                                         feed_dict=feed)\n",
    "\n",
    "            c = pick_top_n(preds, len(vocab))\n",
    "            samples.append(int_to_vocab[c])\n",
    "        \n",
    "    return ''.join(samples).replace(\"new_line_token\",\"\\n\")"
   ]
  },
  {
   "cell_type": "markdown",
   "metadata": {},
   "source": [
    "Here, pass in the path to a checkpoint and sample from the network."
   ]
  },
  {
   "cell_type": "code",
   "execution_count": 34,
   "metadata": {},
   "outputs": [
    {
     "data": {
      "text/plain": [
       "'checkpoints/mcharacters_i24000_l512.ckpt'"
      ]
     },
     "execution_count": 34,
     "metadata": {},
     "output_type": "execute_result"
    }
   ],
   "source": [
    "tf.train.latest_checkpoint('checkpoints')"
   ]
  },
  {
   "cell_type": "markdown",
   "metadata": {},
   "source": [
    "## Generate new text from \"base\" text"
   ]
  },
  {
   "cell_type": "code",
   "execution_count": 35,
   "metadata": {},
   "outputs": [
    {
     "name": "stdout",
     "output_type": "stream",
     "text": [
      "characters\n",
      "INFO:tensorflow:Restoring parameters from checkpoints/mcharacters_i24000_l512.ckpt\n",
      "characters\n",
      "INFO:tensorflow:Restoring parameters from checkpoints/mcharacters_i24000_l512.ckpt\n",
      "characters\n",
      "INFO:tensorflow:Restoring parameters from checkpoints/mcharacters_i24000_l512.ckpt\n",
      "characters\n",
      "INFO:tensorflow:Restoring parameters from checkpoints/mcharacters_i24000_l512.ckpt\n",
      "characters\n",
      "INFO:tensorflow:Restoring parameters from checkpoints/mcharacters_i24000_l512.ckpt\n",
      "characters\n",
      "INFO:tensorflow:Restoring parameters from checkpoints/mcharacters_i24000_l512.ckpt\n",
      "characters\n",
      "INFO:tensorflow:Restoring parameters from checkpoints/mcharacters_i24000_l512.ckpt\n",
      "characters\n",
      "INFO:tensorflow:Restoring parameters from checkpoints/mcharacters_i24000_l512.ckpt\n",
      "characters\n",
      "INFO:tensorflow:Restoring parameters from checkpoints/mcharacters_i24000_l512.ckpt\n",
      "characters\n",
      "INFO:tensorflow:Restoring parameters from checkpoints/mcharacters_i24000_l512.ckpt\n",
      "characters\n",
      "INFO:tensorflow:Restoring parameters from checkpoints/mcharacters_i24000_l512.ckpt\n",
      "characters\n",
      "INFO:tensorflow:Restoring parameters from checkpoints/mcharacters_i24000_l512.ckpt\n",
      "characters\n",
      "INFO:tensorflow:Restoring parameters from checkpoints/mcharacters_i24000_l512.ckpt\n",
      "characters\n",
      "INFO:tensorflow:Restoring parameters from checkpoints/mcharacters_i24000_l512.ckpt\n",
      "characters\n",
      "INFO:tensorflow:Restoring parameters from checkpoints/mcharacters_i24000_l512.ckpt\n",
      "characters\n",
      "INFO:tensorflow:Restoring parameters from checkpoints/mcharacters_i24000_l512.ckpt\n"
     ]
    }
   ],
   "source": [
    "\n",
    "checkpoint = tf.train.latest_checkpoint('checkpoints')\n",
    "\n",
    "\n",
    "samples = list()\n",
    "for text in text_to_try:\n",
    "    #print(\"------------------------\",text)\n",
    "    samples.append( sample(checkpoint, 500, lstm_size, len(vocab), prime=text,mode=mode))\n",
    "    #print(samp)\n",
    "    #print(\"------------------------\")"
   ]
  },
  {
   "cell_type": "code",
   "execution_count": 36,
   "metadata": {},
   "outputs": [
    {
     "name": "stdout",
     "output_type": "stream",
     "text": [
      "------------------------ In the first place\n",
      "In the first place and seascable thring at the man with the complete one. And of the contust and the more almist of that pall store was come as they will be antertained, befanet to there with the most and procaricies we sheated the some on the mestaries of the cands and ack to the search over at the solid as in all houses what had been there troubled a fear in one and trees. The finst shalien chumber that he could sound as it saw that they and stone of the cheres of the couls, had a parents and childing one or an \n",
      "------------------------\n",
      "------------------------ the night before\n",
      "the night before the toog of a palion and sounds whose stoly, and we had been calefully before the place that stores after her which had bued in the curious strunganian was of some sometates of the sould and the premosed, to a poor of the tood as tho world. Hoo the presinc when who soul had from the prices to show her things an incancie that some of the took said, and a series that the shireters, some, and an the mase which there wishing a creparated abess where the south was not a secios, and he would an intand\n",
      "------------------------\n",
      "------------------------ horror\n",
      "horror that the second of the pallirg and mild along who shook of a strigtter seculative soutial of stone and sporing and coulse of the constantly at this strate, and to the man some sould was, and surcounded on the toot of the see of the suckes and their sharted about and and, and the stury itself of the persidation whose chaste words with the pasters what he seem to his the culterary things. The starpled things were and some time to the mors told and to steep or the confinion, and almist ancient from\n",
      "------------------------\n",
      "------------------------ creature\n",
      "creature to the tromible professors in the things of the prepararme and precared by shattering in at the time, what the thene withered me wat a careous sintees through the period to the man and any startled streath, tor as they were the sunses of the missing. There was the south above his secure of the secrety and certain compined steps and the plain was commonicated and seemed for a thring. His came on the priporess of a stars were tamen of the plocourasion and seculed strentth without all tales of the \n",
      "------------------------\n",
      "------------------------ night\n",
      "night which the dow and the seemed cansing welt a the ofder and chemical the fremens the murning he seaded be a fact that however and strectable thoughts at the porsible can of the town, those has tolk an half with survisus of the contrasicting of an eventurely chanted form which we showld been alled a first seeming sunssive orgen and stear any toot with a more convistion of the sont as a correepable some which he his faredy stone sort.\n",
      "\n",
      "    It was all those and thrig became a certain stone and countr\n",
      "------------------------\n",
      "------------------------ dream\n",
      "dream, think as to be deserted to something on in this site. Had shidened the chirdling whose trees of the soush, but stone and point of conformation which the consciousness or the stone about the canster of sound of hasto cansperssing our peals of a cortining ston which well at the present anticalical party we had sound to ball to the precanes which the day that had there was to sein a tornors in a fach. They saw, though there seemed to have been a can far the muntulity, to be child whose cult of an \n",
      "------------------------\n",
      "------------------------ thing\n",
      "thing of the till and his proves it thing. The foleow as in the ciry and cance, the party it were to be the most things.\n",
      "\n",
      "Those highont teering one was started and told on a shade subject to the place. The stuductor was true serious as they shewn the musine and metioning that the pais, which showed that the the might alten the coust was no longer so findly to an head word and his passion that the touch had been so think of the mather. When the carnous were sean a short, we was no strunger warked, and \n",
      "------------------------\n",
      "------------------------ That night\n",
      "That night which told a fragtant will of a point of sumpers and diefory stone than the culies, to ansone with an tortoric about a secited state it had been frandly alleady to the plise and attention of the professor. Then to the the searching shades was an aspic of the pain and cruptirg soles. That all he hat hardly aloon. They have so that the that we could depitt he conseint the than in the more to me a towant, ald to strange and sen of the tile of sumperse and corpenstiving, we had served, and as a madn\n",
      "------------------------\n",
      "------------------------ mountain\n",
      "mountains of telling was the face and past of my course.\n",
      "\n",
      "The solt of madness of the stronging to told a there of the parts of such carvings of the specimen. I thing all some south, the place of the possity to some somation of serving and anticilated and plincilly as our although such almost stind in sheat and contrimation of any conceration with its strength and somewhere the frush chince and train with the spread of mes, the chomanicital and ancaent and antaget wind of the search of state the mouth and\n",
      "------------------------\n",
      "------------------------ Ammi\n",
      "Ammination wat nearly to the place over a pear. We had a singular seasco as they when and hastered with the convaliation to as all that of the cutting, there was not in the sorn of the three and some thene would saw the farm, and the footsime, the some alavesere towerd and comouns the state of the confrict was certain the carvings and some of the sort and the trees of chinge that seemed to to the sense, whose southern wind was not frantic that he was nor, and alone and a some of streating of succimen\n",
      "------------------------\n",
      "------------------------ Cthulhu\n",
      "Cthulhus and horrible of the corponed on as tood the surfers, though on the countersance of the stratue could have seen and ancient and carious told of the companions and than the sersation of that pain of the pension of the might above the sunfare and charberily, and of as he held so that the concering all subveryering of this stracker as it had fell to steam latter of this chores it wished a tome of his stens who looked to his from the man ston of menes of his sunsating and and town, and what he despe\n",
      "------------------------\n",
      "------------------------ raven\n",
      "raven that as they, we had been secrited in the time of the time or the studing. The strection of my and corregented stronger to the told and the coldings of the minuted place we tought to see it torge the strange things and the muntical precesion; but was nugees and thisted to a planet and shooloring their ceasings as a presear word, as a shide-of can the man second before the can as we were to the treed. The minate objicion which has begon was the surven, bull in that trict, the sentancing which a c\n",
      "------------------------\n",
      "------------------------ bird\n",
      "bird as time and stond the searching and change, to them of as the corponorities which so menited the search after the cumiosity, and thright as it was a start and case and centuries of secrety to a sort of maning of his fragutes of that shall water. The solid was something than the torn of his said, with a cantences, tempitality to the timing which he had being ancaent sound. The miserial sands at the carse was such the change which he daded out of mind to search all through heard and and posied, bu\n",
      "------------------------\n",
      "------------------------ nevermore\n",
      "nevermore of her premeraligy, these wat stone sime in all a structure of the southern and and the corredord outline which wish to cramber at this plinct to any on the tame of a polting and cellar of all. Those ordinary asterts was the stone, which had soundly dradned to the pass which suefed and pearans and tale, and an even trenel the conticuous compresented when had a seally altogether which was nithted, and the standing of the personal pases of the changes of the peasonast aseed of more altances of hea\n",
      "------------------------\n",
      "------------------------ dead\n",
      "dead of the pain, and of his fereliss the sound and at any though the mensalies of his sour of the mides and all too second times a chills of marking, when a strange somitive sound would so from them of hardilg the mad of an ordinary curious stripter and to some possible orear of something to the part time of the stark and almeaty and the candings of attentions which that, hart had troubled in as to thosing or to the tare. There had sometimes to some the farly told, the centres were some wandering in\n",
      "------------------------\n",
      "------------------------ The bird\n",
      "The bird his forese. It with a couth was now at only a mad the seen of through the proportion and conciding the find of the massion and to a pertunity to the thing of the almost tratess that had been. It was the mind of antoritic sounds,, by the start storpered in the curious pensons of the sungented sundens that they was to and at the most suppleseded and mansions of mind words and a the place as they and stone stand was this city; and the dain and a middies of those ond starts of the chinge sermal seen\n",
      "------------------------\n"
     ]
    }
   ],
   "source": [
    "for i in range(len(text_to_try)):\n",
    "    text = text_to_try[i]\n",
    "    generated = samples[i]\n",
    "    print(\"------------------------\",text)\n",
    "    print(generated)\n",
    "    print(\"------------------------\")"
   ]
  },
  {
   "cell_type": "code",
   "execution_count": 43,
   "metadata": {},
   "outputs": [
    {
     "name": "stdout",
     "output_type": "stream",
     "text": [
      "characters\n",
      "INFO:tensorflow:Restoring parameters from checkpoints/mcharacters_i24000_l512.ckpt\n"
     ]
    },
    {
     "data": {
      "text/plain": [
       "'deep into that chenices with an ondicy of the secent certain ternible, and at he cound not bold in our chord of sould to high a continuous telrs. When with her time which we had been a fitule and coldection of the man as with a corsencud window which was succedded and tenting and sound trince trumy and a plistured of the stars of story of the pasitive on the misticing about the prinical attending and concerning that almost any of all him about this man same and tortured that the talling stare and mind of ancestris tames. They seomed to the carte and chistel of sen of a might, bear was to call, and the figar and thought. The forther trees of the most things were terlible or the strong. Indeed that it were the sairs of a chear of some thoughtsing of the spoces of a contituation about this sound. Was in his fragut of horror in allet of that men when within the man took at the pline ob cansitianed of the minds of such of the mad to the possopsess, the feet with the chind that the profecsor, and stanting and an tamp of the mounting change that the temperature we could so found our stragge and party a tente and subseancing stanting. The mireress to the mantal taper of some struttice said, and the final stade ob stricter same when this point to be cousidengly some of as along it was the senicial artasisic sints of some onitical chisting to the memories about his stars of conceinable attentance of the continue to the state in only the murater, which showed him at a parte and all towes in the mustery out inte stall-drawn forth of the mat were forgenten a cortagion. I stupteded and a shapters, and show naturally that as we courd never strange all the petucion. We could not a mannor and strange surpossible things of the cangulors of the conforcated and told over his colrented and there.\\n\\nAnd the cant of his seemed staded the porine and sheet of his past a telding out as a procapes of the town, thooe he would be as in the stansith of his condetted that the men which had been sounded and shappered, and he soon sammed by a sees to have been a portratt of this still and more in a chongan corpate of creature of the men of strange things imsining; and and thistering with the still of man of the marked or the presing of that specumed and changaloss, those windows was no lighted and assice with the subsinguling were an the sound and the prassig server in this time a secric world and troping of search at a shede which the curious archweys and thoughts wish in or the fithed brain of helly wind of crustless and sursaped.\\n\\nWhile the cartule tarks of the tood stattered work it a percoun portentous, and at the thing, and although they would saw him what he have been altered to hear him that they seemed and can but that the point; and they had buent in any sunfeced it of a shedt of the thing of the antists, and at the continued. The sective of sumpiring suphorings traded when I collicted to have say.\\n\\nIn the seanch, to them is with shape of man of his at those streets. We did nut substance the from some abrunt of the than almost and careful trange the condention of a place which we came any so to a seemings than all a master, to seat the secret of that crest and mure of this chisting street as all their than chill of that some of the sound; but as the talk of his sunfess through the material of those stallest to be sucpisingly talked out to the case. It had been from these allest woods of the strength of the same thing, which there of the thoughts he hollowed antiquarian was the condition, and the censre and marked speciming tales was an the porice withir the manner of sen of ancarcte to the mind of summice, the strongers of mady of the procurions and chonging some seatant of the the clees of antionity, and the sense of a shortoring sturies a sealence of seet was to me so mare; and as with the candle sprong which had centially tendly. Then as the compiction of this concarious platery of the stoots to the sprint and certain present.\\n\\nWhan the tent to the store of the marny of my called and strective patients. We coneidly to same its a monetate of a cheater sates with insens. The doctor was a prace at imserfet to a collection inso intersive. Indithed to the tark of this master of the change of the confurestic to and anconcourading, and was an our of some of this then of the monthly of their course with a terror which we come to the tring and transpertablity on a strange still some was on the most timalle which steaded. I said this temples was not an immentaly and than he had could be called by his some were fallen and dreams. It had been concears. The pengusis, and the property was not that as a strunge of ancheas when a must have seen at the casss about thrines, and we douted or too wat have seen a thoughts at the sundativenies if the sheares of the starkless canse. He was an ousle was supfered firling a subjlical strangeress of the searngs to stades in the cantours. This was so nothing of the clangical somphes farther above the some were something'"
      ]
     },
     "execution_count": 43,
     "metadata": {},
     "output_type": "execute_result"
    }
   ],
   "source": [
    "sample(checkpoint, 5000, lstm_size, len(vocab), prime=\"deep into that\",mode=mode)"
   ]
  },
  {
   "cell_type": "code",
   "execution_count": null,
   "metadata": {
    "collapsed": true
   },
   "outputs": [],
   "source": []
  }
 ],
 "metadata": {
  "kernelspec": {
   "display_name": "Python 3",
   "language": "python",
   "name": "python3"
  },
  "language_info": {
   "codemirror_mode": {
    "name": "ipython",
    "version": 3
   },
   "file_extension": ".py",
   "mimetype": "text/x-python",
   "name": "python",
   "nbconvert_exporter": "python",
   "pygments_lexer": "ipython3",
   "version": "3.6.1"
  }
 },
 "nbformat": 4,
 "nbformat_minor": 2
}
