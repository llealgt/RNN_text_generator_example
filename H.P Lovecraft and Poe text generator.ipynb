{
 "cells": [
  {
   "cell_type": "markdown",
   "metadata": {},
   "source": [
    "# Recurrent neural networks for H.P Lovecraft text generation\n",
    "\n",
    "\"The color out of space\" is one of my favorite tales from Lovecraft, i will use it(as well as others as the call of cthulhu) to create a recurrent neural network in tensorflow that learns his style and generates new text in his style\n",
    "\n",
    "This network is based off of Andrej Karpathy's [post on RNNs](http://karpathy.github.io/2015/05/21/rnn-effectiveness/) and [implementation in Torch](https://github.com/karpathy/char-rnn) and an example from \"Deep Learning Nanodegree\" on udacity. Also, some information [here at r2rt](http://r2rt.com/recurrent-neural-networks-in-tensorflow-ii.html) and from [Sherjil Ozair](https://github.com/sherjilozair/char-rnn-tensorflow) on GitHub. \n",
    "\n",
    "## General architecture using \"Long short term memory\" units in the recurrent layers\n",
    "\n",
    "<img src=\"assets/charseq.jpeg\" width=\"500\">"
   ]
  },
  {
   "cell_type": "code",
   "execution_count": 1,
   "metadata": {
    "collapsed": true
   },
   "outputs": [],
   "source": [
    "%matplotlib inline\n",
    "%config InlineBackend.figure_format = 'retina'"
   ]
  },
  {
   "cell_type": "code",
   "execution_count": 2,
   "metadata": {
    "collapsed": true
   },
   "outputs": [],
   "source": [
    "import time\n",
    "from collections import namedtuple\n",
    "\n",
    "import numpy as np\n",
    "import tensorflow as tf\n",
    "from nltk.tokenize import word_tokenize\n",
    "import nltk\n",
    "import itertools\n",
    "import matplotlib.pyplot as plt"
   ]
  },
  {
   "cell_type": "code",
   "execution_count": 3,
   "metadata": {
    "collapsed": true
   },
   "outputs": [],
   "source": [
    "# Run only the  first time nltk is used to download language\n",
    "#nltk.download()"
   ]
  },
  {
   "cell_type": "markdown",
   "metadata": {},
   "source": [
    "### Define conf variables and hyper parameteters "
   ]
  },
  {
   "cell_type": "code",
   "execution_count": 4,
   "metadata": {
    "collapsed": true
   },
   "outputs": [],
   "source": [
    "mode = \"characters\" #characters or words\n",
    "\n",
    "epochs = 600\n",
    "batch_size = 100         # Sequences per batch\n",
    "num_steps = 200          # Number of sequence steps per batch\n",
    "lstm_size = 512         # Size of hidden layers in LSTMs\n",
    "num_layers = 2          # Number of LSTM layers\n",
    "learning_rate = 0.0001    # Learning rate\n",
    "keep_prob = 0.2         # Dropout keep probability"
   ]
  },
  {
   "cell_type": "markdown",
   "metadata": {},
   "source": [
    "### Define base text\n",
    "Once trained ,the network can take base text and a sequence size and generate new text using base text as first characters in the sequence. For every element in base text wi will create a list that will store generated text as training goes, to be able to compare results between steps"
   ]
  },
  {
   "cell_type": "code",
   "execution_count": 5,
   "metadata": {
    "collapsed": true
   },
   "outputs": [],
   "source": [
    "text_to_try = [\"In the first place\",\"the night before\",\"horror\",\"creature\",\"night\",\"dream\",\"thing\",\"That night\",\"mountain\",\"Ammi\",\"Cthulhu\",\"raven\",\"bird\",\"nevermore\",\"dead\",\"The bird\"]"
   ]
  },
  {
   "cell_type": "markdown",
   "metadata": {},
   "source": [
    "#### Function that separates text into tokens(for whitespace characters, only new line is implemented, missing tabs and others="
   ]
  },
  {
   "cell_type": "code",
   "execution_count": 6,
   "metadata": {},
   "outputs": [
    {
     "data": {
      "text/plain": [
       "['H',\n",
       " 'e',\n",
       " 'l',\n",
       " 'l',\n",
       " 'o',\n",
       " ',',\n",
       " ' ',\n",
       " 'm',\n",
       " 'y',\n",
       " ' ',\n",
       " 'n',\n",
       " 'a',\n",
       " 'm',\n",
       " 'e',\n",
       " ' ',\n",
       " 'i',\n",
       " 's',\n",
       " ' ',\n",
       " 'L',\n",
       " 'u',\n",
       " 'i',\n",
       " 's',\n",
       " ' ',\n",
       " 'L',\n",
       " 'e',\n",
       " 'a',\n",
       " 'l',\n",
       " '!',\n",
       " '\\n',\n",
       " '\\n',\n",
       " 'F',\n",
       " 'r',\n",
       " 'o',\n",
       " 'm',\n",
       " ' ',\n",
       " 'G',\n",
       " 'u',\n",
       " 'a',\n",
       " 't',\n",
       " 'e',\n",
       " 'm',\n",
       " 'a',\n",
       " 'l',\n",
       " 'a']"
      ]
     },
     "execution_count": 6,
     "metadata": {},
     "output_type": "execute_result"
    }
   ],
   "source": [
    "def tokenize_by_words(text):\n",
    "    text = text.replace(\"\\n\",\" new_line_token \")\n",
    "    tokens = []\n",
    "    splitted =[[word_tokenize(w),' ']for w in text.split()]\n",
    "    splitted = list(itertools.chain(*list(itertools.chain(*splitted))))\n",
    "    \n",
    "    token_list = []\n",
    "    i = 0\n",
    "    while i < len(splitted):\n",
    "        if splitted[i] == \"new_line_token\":\n",
    "            if   token_list[-1]==\" \":\n",
    "                token_list[-1] = splitted[i]\n",
    "            else:\n",
    "                token_list.append(splitted[i])\n",
    "            i+=1\n",
    "        else:\n",
    "            token_list.append(splitted[i])\n",
    "        i+=1\n",
    "    \n",
    "    return token_list\n",
    "\n",
    "def tokenize_by_characters(text):\n",
    "    return list(text)\n",
    "\n",
    "def tokenize_text(text,mode=\"characters\"):\n",
    "    if mode == \"characters\":\n",
    "        return tokenize_by_characters(text)\n",
    "    elif mode == \"words\":\n",
    "        return tokenize_by_words(text)\n",
    "    \n",
    "tokenize_text(\"Hello, my name is Luis Leal!\\n\\nFrom Guatemala\",mode)\n",
    "#tokenize_text(\"Hello, my name is Luis Leal!\\n\\nFrom Guatemala\",\"words\")\n"
   ]
  },
  {
   "cell_type": "markdown",
   "metadata": {},
   "source": [
    "First we'll load the text file and convert it into integers for our network to use. Here I'm creating a couple dictionaries to convert the characters to and from integers. Encoding the characters as integers makes it easier to use as input in the network."
   ]
  },
  {
   "cell_type": "code",
   "execution_count": 7,
   "metadata": {
    "collapsed": true
   },
   "outputs": [],
   "source": [
    "with open('colour_out_of_space.txt', 'r') as f:\n",
    "    text=f.read()"
   ]
  },
  {
   "cell_type": "code",
   "execution_count": 8,
   "metadata": {
    "collapsed": true
   },
   "outputs": [],
   "source": [
    "vocab = set(tokenize_text(text,mode))\n",
    "vocab_to_int = {c: i for i, c in enumerate(vocab)}\n",
    "int_to_vocab = dict(enumerate(vocab))"
   ]
  },
  {
   "cell_type": "markdown",
   "metadata": {},
   "source": [
    "### Get a little portion of text for validation"
   ]
  },
  {
   "cell_type": "code",
   "execution_count": 9,
   "metadata": {},
   "outputs": [],
   "source": [
    "validation_size = batch_size * num_steps #create a single baty\n",
    "validation_start_index = len(text) - validation_size\n",
    "\n",
    "val_text = text[validation_start_index:]\n",
    "text = text[:validation_start_index]"
   ]
  },
  {
   "cell_type": "markdown",
   "metadata": {},
   "source": [
    "Let's check out the first 100 characters of train and validation, make sure everything is peachy.  line of a book ever."
   ]
  },
  {
   "cell_type": "code",
   "execution_count": 10,
   "metadata": {},
   "outputs": [
    {
     "data": {
      "text/plain": [
       "'THE COLOUR OUT OF SPACE\\n\\nWest of Arkham the hills rise wild, and there are valleys with deep woods t'"
      ]
     },
     "execution_count": 10,
     "metadata": {},
     "output_type": "execute_result"
    }
   ],
   "source": [
    "text[:100]"
   ]
  },
  {
   "cell_type": "code",
   "execution_count": 11,
   "metadata": {},
   "outputs": [
    {
     "data": {
      "text/plain": [
       "'tiality for domestic pets, she lost no opportunity of procuring those of the most agreeable kind. We'"
      ]
     },
     "execution_count": 11,
     "metadata": {},
     "output_type": "execute_result"
    }
   ],
   "source": [
    "val_text[:100]"
   ]
  },
  {
   "cell_type": "code",
   "execution_count": 12,
   "metadata": {
    "collapsed": true
   },
   "outputs": [],
   "source": [
    "encoded = np.array([vocab_to_int[c] for c in tokenize_text(text,mode)], dtype=np.int32)\n",
    "encoded_val = np.array([vocab_to_int[c] for c in tokenize_text(val_text,mode)],dtype=np.int32)"
   ]
  },
  {
   "cell_type": "markdown",
   "metadata": {},
   "source": [
    "And we can see the characters encoded as integersin both train and validation"
   ]
  },
  {
   "cell_type": "code",
   "execution_count": 13,
   "metadata": {},
   "outputs": [
    {
     "data": {
      "text/plain": [
       "array([40, 17, 64, 15, 75, 59, 31, 59, 11,  6, 15, 59, 11, 40, 15, 59, 69,\n",
       "       15, 21, 71, 53, 75, 64, 43, 43, 19, 30, 12, 55, 15, 26,  1, 15, 53,\n",
       "       38, 44, 20, 80, 28, 15, 55, 20, 30, 15, 20,  8, 35, 35, 12, 15, 38,\n",
       "        8, 12, 30, 15, 50,  8, 35, 70, 18, 15, 80, 48, 70, 15, 55, 20, 30,\n",
       "       38, 30, 15, 80, 38, 30, 15, 13, 80, 35, 35, 30, 65, 12, 15, 50,  8,\n",
       "       55, 20, 15, 70, 30, 30, 49, 15, 50, 26, 26, 70, 12, 15, 55], dtype=int32)"
      ]
     },
     "execution_count": 13,
     "metadata": {},
     "output_type": "execute_result"
    }
   ],
   "source": [
    "encoded[:100]"
   ]
  },
  {
   "cell_type": "code",
   "execution_count": 14,
   "metadata": {},
   "outputs": [
    {
     "data": {
      "text/plain": [
       "array([55,  8, 80, 35,  8, 55, 65, 15,  1, 26, 38, 15, 70, 26, 28, 30, 12,\n",
       "       55,  8, 29, 15, 49, 30, 55, 12, 18, 15, 12, 20, 30, 15, 35, 26, 12,\n",
       "       55, 15, 48, 26, 15, 26, 49, 49, 26, 38, 55, 34, 48,  8, 55, 65, 15,\n",
       "       26,  1, 15, 49, 38, 26, 29, 34, 38,  8, 48, 47, 15, 55, 20, 26, 12,\n",
       "       30, 15, 26,  1, 15, 55, 20, 30, 15, 28, 26, 12, 55, 15, 80, 47, 38,\n",
       "       30, 30, 80, 82, 35, 30, 15, 44,  8, 48, 70, 41, 15, 19, 30], dtype=int32)"
      ]
     },
     "execution_count": 14,
     "metadata": {},
     "output_type": "execute_result"
    }
   ],
   "source": [
    "encoded_val[0:100]"
   ]
  },
  {
   "cell_type": "markdown",
   "metadata": {},
   "source": [
    "Since the network is working with individual english tokens, it's similar to a classification problem in which we are trying to predict the next character from the previous text.  Here's how many 'classes' our network has to pick from."
   ]
  },
  {
   "cell_type": "code",
   "execution_count": 15,
   "metadata": {},
   "outputs": [
    {
     "data": {
      "text/plain": [
       "83"
      ]
     },
     "execution_count": 15,
     "metadata": {},
     "output_type": "execute_result"
    }
   ],
   "source": [
    "len(vocab)"
   ]
  },
  {
   "cell_type": "code",
   "execution_count": 16,
   "metadata": {},
   "outputs": [
    {
     "name": "stdout",
     "output_type": "stream",
     "text": [
      "tiality for domestic pets, she lost no opportunity of procuring those of the most agreeable kind. We\n"
     ]
    }
   ],
   "source": [
    "def encoded_to_text(encoded):\n",
    "    return \"\".join([int_to_vocab[number] for number in encoded])\n",
    "\n",
    "print(encoded_to_text(encoded_val[0:100]))"
   ]
  },
  {
   "cell_type": "markdown",
   "metadata": {},
   "source": [
    "## Making training mini-batches\n",
    "\n",
    "Here is where we'll make our mini-batches for training. Remember that we want our batches to be multiple sequences of some desired number of sequence steps. Considering a simple example, our batches would look like this:\n",
    "\n",
    "<img src=\"assets/sequence_batching@1x.png\" width=500px>\n",
    "\n",
    "\n",
    "<br>\n",
    "We have our text encoded as integers as one long array in `encoded`. Let's create a function that will give us an iterator for our batches. I like using [generator functions](https://jeffknupp.com/blog/2013/04/07/improve-your-python-yield-and-generators-explained/) to do this. Then we can pass `encoded` into this function and get our batch generator.\n",
    "\n",
    "The first thing we need to do is discard some of the text so we only have completely full batches. Each batch contains $N \\times M$ characters, where $N$ is the batch size (the number of sequences) and $M$ is the number of steps. Then, to get the number of batches we can make from some array `arr`, you divide the length of `arr` by the batch size. Once you know the number of batches and the batch size, you can get the total number of characters to keep.\n",
    "\n",
    "After that, we need to split `arr` into $N$ sequences. You can do this using `arr.reshape(size)` where `size` is a tuple containing the dimensions sizes of the reshaped array. We know we want $N$ sequences (`n_seqs` below), let's make that the size of the first dimension. For the second dimension, you can use `-1` as a placeholder in the size, it'll fill up the array with the appropriate data for you. After this, you should have an array that is $N \\times (M * K)$ where $K$ is the number of batches.\n",
    "\n",
    "Now that we have this array, we can iterate through it to get our batches. The idea is each batch is a $N \\times M$ window on the array. For each subsequent batch, the window moves over by `n_steps`. We also want to create both the input and target arrays. Remember that the targets are the inputs shifted over one character. You'll usually see the first input character used as the last target character, so something like this:\n",
    "```python\n",
    "y[:, :-1], y[:, -1] = x[:, 1:], x[:, 0]\n",
    "```\n",
    "where `x` is the input batch and `y` is the target batch.\n",
    "\n",
    "The way I like to do this window is use `range` to take steps of size `n_steps` from $0$ to `arr.shape[1]`, the total number of steps in each sequence. That way, the integers you get from `range` always point to the start of a batch, and each window is `n_steps` wide."
   ]
  },
  {
   "cell_type": "code",
   "execution_count": 17,
   "metadata": {
    "collapsed": true
   },
   "outputs": [],
   "source": [
    "def get_batches(arr, n_seqs, n_steps):\n",
    "    '''Create a generator that returns batches of size\n",
    "       n_seqs x n_steps from arr.\n",
    "       \n",
    "       Arguments\n",
    "       ---------\n",
    "       arr: Array you want to make batches from\n",
    "       n_seqs: Batch size, the number of sequences per batch\n",
    "       n_steps: Number of sequence steps per batch\n",
    "    '''\n",
    "    # Get the batch size and number of batches we can make\n",
    "    batch_size = n_seqs * n_steps \n",
    "    n_batches =  len(arr)//batch_size\n",
    "    \n",
    "    # Keep only enough characters to make full batches\n",
    "    arr =  arr[:n_batches*batch_size]\n",
    "    \n",
    "    # Reshape into n_seqs rows\n",
    "    arr = arr.reshape((n_seqs,-1))\n",
    "    \n",
    "    for n in range(0, arr.shape[1], n_steps):\n",
    "        # The features\n",
    "        x = arr[:,n:n+n_steps]\n",
    "        # The targets, shifted by one\n",
    "        y = np.zeros(x.shape)\n",
    "        y[:,:-1],y[:,-1] = x[:,1:] ,x[:,0]\n",
    "        yield x, y"
   ]
  },
  {
   "cell_type": "markdown",
   "metadata": {},
   "source": [
    "Now I'll make my data sets and we can check out what's going on here. Here I'm going to use a batch size of 10 and 50 sequence steps."
   ]
  },
  {
   "cell_type": "code",
   "execution_count": 18,
   "metadata": {
    "collapsed": true
   },
   "outputs": [],
   "source": [
    "batches = get_batches(encoded, 10, 50)\n",
    "x, y = next(batches)"
   ]
  },
  {
   "cell_type": "code",
   "execution_count": 19,
   "metadata": {},
   "outputs": [
    {
     "name": "stdout",
     "output_type": "stream",
     "text": [
      "x\n",
      " [[40 17 64 15 75 59 31 59 11  6]\n",
      " [15 55 26 15 55 20 30 15  1 38]\n",
      " [80 70 15 20 30 80 38 70 15 26]\n",
      " [26 47  8 29 80 35 35 65 18 15]\n",
      " [ 1 15 74 23 79  4 15  8 48 15]\n",
      " [26 15 20  8 12 15 12 26 48 18]\n",
      " [15 48 80 28 30 15 80 12 15 67]\n",
      " [15 75 20 80 38 35 30 12 15 19]\n",
      " [20 55 15 70 26 50 48 15 80 15]\n",
      " [80 65 12 18 15 30 13 30 48 15]]\n",
      "\n",
      "y\n",
      " [[ 17.  64.  15.  75.  59.  31.  59.  11.   6.  15.]\n",
      " [ 55.  26.  15.  55.  20.  30.  15.   1.  38.  26.]\n",
      " [ 70.  15.  20.  30.  80.  38.  70.  15.  26.   1.]\n",
      " [ 47.   8.  29.  80.  35.  35.  65.  18.  15.  55.]\n",
      " [ 15.  74.  23.  79.   4.  15.   8.  48.  15.  17.]\n",
      " [ 15.  20.   8.  12.  15.  12.  26.  48.  18.  15.]\n",
      " [ 48.  80.  28.  30.  15.  80.  12.  15.  67.  38.]\n",
      " [ 75.  20.  80.  38.  35.  30.  12.  15.  19.  80.]\n",
      " [ 55.  15.  70.  26.  50.  48.  15.  80.  15.   1.]\n",
      " [ 65.  12.  18.  15.  30.  13.  30.  48.  15.  30.]]\n"
     ]
    }
   ],
   "source": [
    "print('x\\n', x[:10, :10])\n",
    "print('\\ny\\n', y[:10, :10])"
   ]
  },
  {
   "cell_type": "markdown",
   "metadata": {},
   "source": [
    "## Building the model\n",
    "\n",
    "Below is where you'll build the network. We'll break it up into parts so it's easier to reason about each bit. Then we can connect them up into the whole network.\n",
    "\n",
    "<img src=\"assets/charRNN.png\" width=500px>\n",
    "\n",
    "\n",
    "### Inputs\n",
    "\n",
    "First off we'll create our input placeholders. As usual we need placeholders for the training data and the targets. We'll also create a placeholder for dropout layers called `keep_prob`. This will be a scalar, that is a 0-D tensor. To make a scalar, you create a placeholder without giving it a size."
   ]
  },
  {
   "cell_type": "code",
   "execution_count": 20,
   "metadata": {
    "collapsed": true
   },
   "outputs": [],
   "source": [
    "def build_inputs(batch_size, num_steps):\n",
    "    ''' Define placeholders for inputs, targets, and dropout \n",
    "    \n",
    "        Arguments\n",
    "        ---------\n",
    "        batch_size: Batch size, number of sequences per batch\n",
    "        num_steps: Number of sequence steps in a batch\n",
    "        \n",
    "    '''\n",
    "    # Declare placeholders we'll feed into the graph\n",
    "    inputs = tf.placeholder(tf.int32,[batch_size,num_steps],name=\"inputs\")\n",
    "    targets = tf.placeholder(tf.int32,[batch_size,num_steps],name=\"targets\")\n",
    "    \n",
    "    # Keep probability placeholder for drop out layers\n",
    "    keep_prob = tf.placeholder(tf.float32,name=\"keep_prob\")\n",
    "    \n",
    "    return inputs, targets, keep_prob"
   ]
  },
  {
   "cell_type": "markdown",
   "metadata": {},
   "source": [
    "### LSTM Cell\n",
    "\n",
    "Here we will create the LSTM cell we'll use in the hidden layer. We'll use this cell as a building block for the RNN. So we aren't actually defining the RNN here, just the type of cell we'll use in the hidden layer.\n",
    "\n",
    "We first create a basic LSTM cell with\n",
    "\n",
    "```python\n",
    "lstm = tf.contrib.rnn.BasicLSTMCell(num_units)\n",
    "```\n",
    "\n",
    "where `num_units` is the number of units in the hidden layers in the cell. Then we can add dropout by wrapping it with \n",
    "\n",
    "```python\n",
    "tf.contrib.rnn.DropoutWrapper(lstm, output_keep_prob=keep_prob)\n",
    "```\n",
    "You pass in a cell and it will automatically add dropout to the inputs or outputs. Finally, we can stack up the LSTM cells into layers with [`tf.contrib.rnn.MultiRNNCell`](https://www.tensorflow.org/versions/r1.0/api_docs/python/tf/contrib/rnn/MultiRNNCell). With this, you pass in a list of cells and it will send the output of one cell into the next cell. For example,\n",
    "\n",
    "```python\n",
    "tf.contrib.rnn.MultiRNNCell([cell]*num_layers)\n",
    "```\n",
    "\n",
    "This might look a little weird if you know Python well because this will create a list of the same `cell` object. However, TensorFlow will create different weight matrices for all `cell` objects. Even though this is actually multiple LSTM cells stacked on each other, you can treat the multiple layers as one cell.\n",
    "\n",
    "We also need to create an initial cell state of all zeros. This can be done like so\n",
    "\n",
    "```python\n",
    "initial_state = cell.zero_state(batch_size, tf.float32)\n",
    "```\n"
   ]
  },
  {
   "cell_type": "code",
   "execution_count": 21,
   "metadata": {
    "collapsed": true
   },
   "outputs": [],
   "source": [
    "def build_lstm(lstm_size, num_layers, batch_size, keep_prob):\n",
    "    ''' Build LSTM cell.\n",
    "    \n",
    "        Arguments\n",
    "        ---------\n",
    "        keep_prob: Scalar tensor (tf.placeholder) for the dropout keep probability\n",
    "        lstm_size: Size of the hidden layers in the LSTM cells\n",
    "        num_layers: Number of LSTM layers\n",
    "        batch_size: Batch size\n",
    "\n",
    "    '''\n",
    "    ### Build the LSTM Cell\n",
    "    # Use a basic LSTM cell\n",
    "    # Add dropout to the cell outputs\n",
    "    # Stack up multiple LSTM layers, for deep learning\n",
    "    cell = tf.contrib.rnn.MultiRNNCell([tf.contrib.rnn.DropoutWrapper( tf.contrib.rnn.BasicLSTMCell(lstm_size),output_keep_prob = keep_prob) for _ in range(num_layers)])\n",
    "    initial_state = cell.zero_state(batch_size,tf.float32)\n",
    "    \n",
    "    return cell, initial_state"
   ]
  },
  {
   "cell_type": "markdown",
   "metadata": {},
   "source": [
    "### RNN Output\n",
    "\n",
    "Here we'll create the output layer. We need to connect the output of the RNN cells to a full connected layer with a softmax output. The softmax output gives us a probability distribution we can use to predict the next character, so we want this layer to have size $C$, the number of classes/characters we have in our text.\n",
    "\n",
    "If our input has batch size $N$, number of steps $M$, and the hidden layer has $L$ hidden units, then the output is a 3D tensor with size $N \\times M \\times L$. The output of each LSTM cell has size $L$, we have $M$ of them, one for each sequence step, and we have $N$ sequences. So the total size is $N \\times M \\times L$. \n",
    "\n",
    "We are using the same fully connected layer, the same weights, for each of the outputs. Then, to make things easier, we should reshape the outputs into a 2D tensor with shape $(M * N) \\times L$. That is, one row for each sequence and step, where the values of each row are the output from the LSTM cells. We get the LSTM output as a list, `lstm_output`. First we need to concatenate this whole list into one array with [`tf.concat`](https://www.tensorflow.org/api_docs/python/tf/concat). Then, reshape it (with `tf.reshape`) to size $(M * N) \\times L$.\n",
    "\n",
    "One we have the outputs reshaped, we can do the matrix multiplication with the weights. We need to wrap the weight and bias variables in a variable scope with `tf.variable_scope(scope_name)` because there are weights being created in the LSTM cells. TensorFlow will throw an error if the weights created here have the same names as the weights created in the LSTM cells, which they will be default. To avoid this, we wrap the variables in a variable scope so we can give them unique names.\n"
   ]
  },
  {
   "cell_type": "code",
   "execution_count": 22,
   "metadata": {
    "collapsed": true
   },
   "outputs": [],
   "source": [
    "def build_output(lstm_output, in_size, out_size):\n",
    "    ''' Build a softmax layer, return the softmax output and logits.\n",
    "    \n",
    "        Arguments\n",
    "        ---------\n",
    "        \n",
    "        lstm_output: List of output tensors from the LSTM layer\n",
    "        in_size: Size of the input tensor, for example, size of the LSTM cells\n",
    "        out_size: Size of this softmax layer\n",
    "    \n",
    "    '''\n",
    "\n",
    "    # Reshape output so it's a bunch of rows, one row for each step for each sequence.\n",
    "    # Concatenate lstm_output over axis 1 (the columns)\n",
    "    seq_output = tf.concat(lstm_output,axis=1)\n",
    "    # Reshape seq_output to a 2D tensor with lstm_size columns\n",
    "    x = tf.reshape(seq_output,[-1,in_size])\n",
    "    \n",
    "    # Connect the RNN outputs to a softmax layer\n",
    "    with tf.variable_scope('softmax'):\n",
    "        # Create the weight and bias variables here\n",
    "        softmax_w = tf.Variable(tf.truncated_normal((in_size, out_size),stddev=0.1))\n",
    "        softmax_b = tf.Variable(tf.zeros([out_size]))\n",
    "    \n",
    "    # Since output is a bunch of rows of RNN cell outputs, logits will be a bunch\n",
    "    # of rows of logit outputs, one for each step and sequence\n",
    "    logits =  tf.add(tf.matmul(x,softmax_w),softmax_b) \n",
    "    \n",
    "    # Use softmax to get the probabilities for predicted characters\n",
    "    out = tf.nn.softmax(logits,name =\"out\")\n",
    "    \n",
    "    return out, logits"
   ]
  },
  {
   "cell_type": "markdown",
   "metadata": {},
   "source": [
    "### Training loss\n",
    "\n",
    "Next up is the training loss. We get the logits and targets and calculate the softmax cross-entropy loss. First we need to one-hot encode the targets, we're getting them as encoded characters. Then, reshape the one-hot targets so it's a 2D tensor with size $(M*N) \\times C$ where $C$ is the number of classes/characters we have. Remember that we reshaped the LSTM outputs and ran them through a fully connected layer with $C$ units. So our logits will also have size $(M*N) \\times C$.\n",
    "\n",
    "Then we run the logits and targets through `tf.nn.softmax_cross_entropy_with_logits` and find the mean to get the loss."
   ]
  },
  {
   "cell_type": "code",
   "execution_count": 23,
   "metadata": {
    "collapsed": true
   },
   "outputs": [],
   "source": [
    "def build_loss(logits, targets, lstm_size, num_classes):\n",
    "    ''' Calculate the loss from the logits and the targets.\n",
    "    \n",
    "        Arguments\n",
    "        ---------\n",
    "        logits: Logits from final fully connected layer\n",
    "        targets: Targets for supervised learning\n",
    "        lstm_size: Number of LSTM hidden units\n",
    "        num_classes: Number of classes in targets\n",
    "        \n",
    "    '''\n",
    "    # One-hot encode targets and reshape to match logits, one row per sequence per step\n",
    "    y_one_hot = tf.one_hot(targets,num_classes)\n",
    "    y_reshaped =  tf.reshape(y_one_hot,logits.get_shape())\n",
    "    \n",
    "    # Softmax cross entropy loss\n",
    "    loss = tf.reduce_mean(tf.nn.softmax_cross_entropy_with_logits(logits=logits,labels=y_reshaped))\n",
    "    \n",
    "    return loss"
   ]
  },
  {
   "cell_type": "markdown",
   "metadata": {},
   "source": [
    "### Optimizer\n",
    "\n",
    "Here we build the optimizer. Normal RNNs have have issues gradients exploding and disappearing. LSTMs fix the disappearance problem, but the gradients can still grow without bound. To fix this, we can clip the gradients above some threshold. That is, if a gradient is larger than that threshold, we set it to the threshold. This will ensure the gradients never grow overly large. Then we use an AdamOptimizer for the learning step."
   ]
  },
  {
   "cell_type": "code",
   "execution_count": 24,
   "metadata": {
    "collapsed": true
   },
   "outputs": [],
   "source": [
    "def build_optimizer(loss, learning_rate, grad_clip,global_step):\n",
    "    ''' Build optmizer for training, using gradient clipping.\n",
    "    \n",
    "        Arguments:\n",
    "        loss: Network loss\n",
    "        learning_rate: Learning rate for optimizer\n",
    "        global_step: to control the total number of train steps\n",
    "    \n",
    "    '''\n",
    "    \n",
    "    # Optimizer for training, using gradient clipping to control exploding gradients\n",
    "    tvars = tf.trainable_variables()\n",
    "    grads, _ = tf.clip_by_global_norm(tf.gradients(loss, tvars), grad_clip)\n",
    "    train_op = tf.train.AdamOptimizer(learning_rate)\n",
    "    optimizer = train_op.apply_gradients(zip(grads, tvars),global_step)\n",
    "    \n",
    "    return optimizer"
   ]
  },
  {
   "cell_type": "markdown",
   "metadata": {},
   "source": [
    "### Build the network\n",
    "\n",
    "Now we can put all the pieces together and build a class for the network. To actually run data through the LSTM cells, we will use [`tf.nn.dynamic_rnn`](https://www.tensorflow.org/versions/r1.0/api_docs/python/tf/nn/dynamic_rnn). This function will pass the hidden and cell states across LSTM cells appropriately for us. It returns the outputs for each LSTM cell at each step for each sequence in the mini-batch. It also gives us the final LSTM state. We want to save this state as `final_state` so we can pass it to the first LSTM cell in the the next mini-batch run. For `tf.nn.dynamic_rnn`, we pass in the cell and initial state we get from `build_lstm`, as well as our input sequences. Also, we need to one-hot encode the inputs before going into the RNN. \n"
   ]
  },
  {
   "cell_type": "code",
   "execution_count": 25,
   "metadata": {
    "collapsed": true
   },
   "outputs": [],
   "source": [
    "class CharRNN:\n",
    "    \n",
    "    def __init__(self, num_classes, batch_size=64, num_steps=50, \n",
    "                       lstm_size=128, num_layers=2, learning_rate=0.001, \n",
    "                       grad_clip=5, sampling=False):\n",
    "    \n",
    "        # When we're using this network for sampling later, we'll be passing in\n",
    "        # one character at a time, so providing an option for that\n",
    "        if sampling == True:\n",
    "            batch_size, num_steps = 1, 1\n",
    "        else:\n",
    "            batch_size, num_steps = batch_size, num_steps\n",
    "\n",
    "        tf.reset_default_graph()\n",
    "        \n",
    "        self.global_step_tensor = tf.Variable(0,trainable=False,name = \"global_step\")\n",
    "        # Build the input placeholder tensors\n",
    "        self.inputs, self.targets, self.keep_prob = build_inputs(batch_size,num_steps)\n",
    "        # Build the LSTM cell\n",
    "        cell, self.initial_state = build_lstm(lstm_size,num_layers,batch_size,self.keep_prob)\n",
    "        ### Run the data through the RNN layers\n",
    "        # First, one-hot encode the input tokens\n",
    "        x_one_hot = tf.one_hot(self.inputs,num_classes)\n",
    "        \n",
    "        # Run each sequence step through the RNN with tf.nn.dynamic_rnn \n",
    "        outputs, state = tf.nn.dynamic_rnn(cell,x_one_hot,initial_state=self.initial_state)\n",
    "        self.final_state = state\n",
    "        \n",
    "        # Get softmax predictions and logits\n",
    "        self.prediction, self.logits = build_output(outputs,lstm_size,num_classes)\n",
    "        \n",
    "        # Loss and optimizer (with gradient clipping)\n",
    "        self.loss =  build_loss(self.logits,self.targets,lstm_size,num_classes)\n",
    "        self.optimizer = build_optimizer(self.loss,learning_rate,grad_clip,self.global_step_tensor)"
   ]
  },
  {
   "cell_type": "markdown",
   "metadata": {},
   "source": [
    "## Hyperparameters\n",
    "\n",
    "Here are the hyperparameters for the network.\n",
    "\n",
    "* `batch_size` - Number of sequences running through the network in one pass.\n",
    "* `num_steps` - Number of characters in the sequence the network is trained on. Larger is better typically, the network will learn more long range dependencies. But it takes longer to train. 100 is typically a good number here.\n",
    "* `lstm_size` - The number of units in the hidden layers.\n",
    "* `num_layers` - Number of hidden LSTM layers to use\n",
    "* `learning_rate` - Learning rate for training\n",
    "* `keep_prob` - The dropout keep probability when training. If you're network is overfitting, try decreasing this.\n",
    "\n",
    "Here's some good advice from Andrej Karpathy on training the network:. \n",
    "\n",
    "> ## Tips and Tricks\n",
    "\n",
    ">### Monitoring Validation Loss vs. Training Loss\n",
    ">If you're somewhat new to Machine Learning or Neural Networks it can take a bit of expertise to get good models. The most important quantity to keep track of is the difference between your training loss (printed during training) and the validation loss (printed once in a while when the RNN is run on the validation data (by default every 1000 iterations)). In particular:\n",
    "\n",
    "> - If your training loss is much lower than validation loss then this means the network might be **overfitting**. Solutions to this are to decrease your network size, or to increase dropout. For example you could try dropout of 0.5 and so on.\n",
    "> - If your training/validation loss are about equal then your model is **underfitting**. Increase the size of your model (either number of layers or the raw number of neurons per layer)\n",
    "\n",
    "> ### Approximate number of parameters\n",
    "\n",
    "> The two most important parameters that control the model are `lstm_size` and `num_layers`. I would advise that you always use `num_layers` of either 2/3. The `lstm_size` can be adjusted based on how much data you have. The two important quantities to keep track of here are:\n",
    "\n",
    "> - The number of parameters in your model. This is printed when you start training.\n",
    "> - The size of your dataset. 1MB file is approximately 1 million characters.\n",
    "\n",
    ">These two should be about the same order of magnitude. It's a little tricky to tell. Here are some examples:\n",
    "\n",
    "> - I have a 100MB dataset and I'm using the default parameter settings (which currently print 150K parameters). My data size is significantly larger (100 mil >> 0.15 mil), so I expect to heavily underfit. I am thinking I can comfortably afford to make `lstm_size` larger.\n",
    "> - I have a 10MB dataset and running a 10 million parameter model. I'm slightly nervous and I'm carefully monitoring my validation loss. If it's larger than my training loss then I may want to try to increase dropout a bit and see if that helps the validation loss.\n",
    "\n",
    "> ### Best models strategy\n",
    "\n",
    ">The winning strategy to obtaining very good models (if you have the compute time) is to always err on making the network larger (as large as you're willing to wait for it to compute) and then try different dropout values (between 0,1). Whatever model has the best validation performance (the loss, written in the checkpoint filename, low is good) is the one you should use in the end.\n",
    "\n",
    ">It is very common in deep learning to run many different models with many different hyperparameter settings, and in the end take whatever checkpoint gave the best validation performance.\n",
    "\n",
    ">By the way, the size of your training and validation splits are also parameters. Make sure you have a decent amount of data in your validation set or otherwise the validation performance will be noisy and not very informative."
   ]
  },
  {
   "cell_type": "code",
   "execution_count": 26,
   "metadata": {
    "collapsed": true
   },
   "outputs": [],
   "source": [
    "def get_number_of_parameters():\n",
    "    total_parameters = 0\n",
    "    for variable in tf.trainable_variables():\n",
    "        shape = variable.get_shape()\n",
    "        #print(shape)\n",
    "        #print(len(shape))\n",
    "        variable_parameters = 1\n",
    "        \n",
    "        for dim in shape:\n",
    "            #print(dim)\n",
    "            variable_parameters*=dim.value\n",
    "        #print(variable_parameters)\n",
    "        total_parameters+= variable_parameters\n",
    "    return total_parameters"
   ]
  },
  {
   "cell_type": "code",
   "execution_count": 27,
   "metadata": {
    "collapsed": true
   },
   "outputs": [],
   "source": [
    "def pick_top_n(preds, vocab_size, top_n=5):\n",
    "    p = np.squeeze(preds)\n",
    "    p[np.argsort(p)[:-top_n]] = 0\n",
    "    p = p / np.sum(p)\n",
    "    c = np.random.choice(vocab_size, 1, p=p)[0]\n",
    "    return c"
   ]
  },
  {
   "cell_type": "markdown",
   "metadata": {},
   "source": [
    "## Time for training\n",
    "\n",
    "This is typical training code, passing inputs and targets into the network, then running the optimizer. Here we also get back the final LSTM state for the mini-batch. Then, we pass that state back into the network so the next batch can continue the state from the previous batch. And every so often (set by `save_every_n`) I save a checkpoint.\n",
    "\n",
    "Here I'm saving checkpoints with the format\n",
    "\n",
    "`i{iteration number}_l{# hidden layer units}.ckpt`\n"
   ]
  },
  {
   "cell_type": "code",
   "execution_count": 28,
   "metadata": {
    "collapsed": true
   },
   "outputs": [],
   "source": [
    "losses = {\"train\":[],\"validation\":[]}\n",
    "x_steps = list()"
   ]
  },
  {
   "cell_type": "code",
   "execution_count": 29,
   "metadata": {
    "collapsed": true
   },
   "outputs": [],
   "source": [
    "resume_from_checkpoint = False"
   ]
  },
  {
   "cell_type": "code",
   "execution_count": 30,
   "metadata": {
    "scrolled": true
   },
   "outputs": [
    {
     "name": "stdout",
     "output_type": "stream",
     "text": [
      "Number of parameters: 3362387 Dataset size: 556521\n",
      "Epoch: 1/600...  Training Step: 1...  Training loss: 4.4227...  Val loss: 4.4113...  0.4902 sec/batch\n",
      "WARNING:tensorflow:Error encountered when serializing LAYER_NAME_UIDS.\n",
      "Type is unsupported, or the types of the items don't match field type in CollectionDef.\n",
      "'dict' object has no attribute 'name'\n",
      "Epoch: 4/600...  Training Step: 101...  Training loss: 3.3071...  Val loss: 3.1023...  0.3117 sec/batch\n",
      "Epoch: 8/600...  Training Step: 201...  Training loss: 3.2067...  Val loss: 3.0592...  0.3217 sec/batch\n",
      "Epoch: 12/600...  Training Step: 301...  Training loss: 3.1421...  Val loss: 3.0311...  0.3200 sec/batch\n",
      "Epoch: 15/600...  Training Step: 401...  Training loss: 3.0913...  Val loss: 2.9945...  0.3220 sec/batch\n",
      "Epoch: 19/600...  Training Step: 501...  Training loss: 3.0259...  Val loss: 2.9169...  0.3208 sec/batch\n",
      "WARNING:tensorflow:Error encountered when serializing LAYER_NAME_UIDS.\n",
      "Type is unsupported, or the types of the items don't match field type in CollectionDef.\n",
      "'dict' object has no attribute 'name'\n",
      "Epoch: 23/600...  Training Step: 601...  Training loss: 2.9146...  Val loss: 2.7944...  0.3217 sec/batch\n",
      "Epoch: 26/600...  Training Step: 701...  Training loss: 2.7881...  Val loss: 2.6576...  0.3184 sec/batch\n",
      "Epoch: 30/600...  Training Step: 801...  Training loss: 2.6883...  Val loss: 2.5502...  0.3188 sec/batch\n",
      "Epoch: 34/600...  Training Step: 901...  Training loss: 2.6171...  Val loss: 2.4878...  0.3290 sec/batch\n",
      "Epoch: 38/600...  Training Step: 1001...  Training loss: 2.5904...  Val loss: 2.4454...  0.3232 sec/batch\n",
      "WARNING:tensorflow:Error encountered when serializing LAYER_NAME_UIDS.\n",
      "Type is unsupported, or the types of the items don't match field type in CollectionDef.\n",
      "'dict' object has no attribute 'name'\n",
      "Epoch: 41/600...  Training Step: 1101...  Training loss: 2.5331...  Val loss: 2.4111...  0.3077 sec/batch\n",
      "Epoch: 45/600...  Training Step: 1201...  Training loss: 2.4852...  Val loss: 2.3844...  0.3073 sec/batch\n",
      "Epoch: 49/600...  Training Step: 1301...  Training loss: 2.4720...  Val loss: 2.3540...  0.3092 sec/batch\n",
      "Epoch: 52/600...  Training Step: 1401...  Training loss: 2.4512...  Val loss: 2.3267...  0.3186 sec/batch\n",
      "Epoch: 56/600...  Training Step: 1501...  Training loss: 2.4350...  Val loss: 2.3034...  0.3077 sec/batch\n",
      "WARNING:tensorflow:Error encountered when serializing LAYER_NAME_UIDS.\n",
      "Type is unsupported, or the types of the items don't match field type in CollectionDef.\n",
      "'dict' object has no attribute 'name'\n",
      "Epoch: 60/600...  Training Step: 1601...  Training loss: 2.4041...  Val loss: 2.2825...  0.3077 sec/batch\n",
      "Epoch: 63/600...  Training Step: 1701...  Training loss: 2.3971...  Val loss: 2.2596...  0.3077 sec/batch\n",
      "Epoch: 67/600...  Training Step: 1801...  Training loss: 2.3718...  Val loss: 2.2401...  0.3074 sec/batch\n",
      "Epoch: 71/600...  Training Step: 1901...  Training loss: 2.3307...  Val loss: 2.2202...  0.3078 sec/batch\n",
      "Epoch: 75/600...  Training Step: 2001...  Training loss: 2.2955...  Val loss: 2.2016...  0.3076 sec/batch\n",
      "WARNING:tensorflow:Error encountered when serializing LAYER_NAME_UIDS.\n",
      "Type is unsupported, or the types of the items don't match field type in CollectionDef.\n",
      "'dict' object has no attribute 'name'\n",
      "Epoch: 78/600...  Training Step: 2101...  Training loss: 2.2986...  Val loss: 2.1835...  0.3076 sec/batch\n",
      "Epoch: 82/600...  Training Step: 2201...  Training loss: 2.2872...  Val loss: 2.1659...  0.3076 sec/batch\n",
      "Epoch: 86/600...  Training Step: 2301...  Training loss: 2.2847...  Val loss: 2.1494...  0.3179 sec/batch\n",
      "Epoch: 89/600...  Training Step: 2401...  Training loss: 2.2725...  Val loss: 2.1346...  0.3091 sec/batch\n",
      "Epoch: 93/600...  Training Step: 2501...  Training loss: 2.2755...  Val loss: 2.1230...  0.3077 sec/batch\n",
      "WARNING:tensorflow:Error encountered when serializing LAYER_NAME_UIDS.\n",
      "Type is unsupported, or the types of the items don't match field type in CollectionDef.\n",
      "'dict' object has no attribute 'name'\n",
      "Epoch: 97/600...  Training Step: 2601...  Training loss: 2.2212...  Val loss: 2.1085...  0.3075 sec/batch\n",
      "Epoch: 101/600...  Training Step: 2701...  Training loss: 2.2514...  Val loss: 2.0930...  0.3086 sec/batch\n",
      "Epoch: 104/600...  Training Step: 2801...  Training loss: 2.2342...  Val loss: 2.0833...  0.3088 sec/batch\n",
      "Epoch: 108/600...  Training Step: 2901...  Training loss: 2.2083...  Val loss: 2.0689...  0.3187 sec/batch\n",
      "Epoch: 112/600...  Training Step: 3001...  Training loss: 2.1955...  Val loss: 2.0546...  0.3163 sec/batch\n",
      "WARNING:tensorflow:Error encountered when serializing LAYER_NAME_UIDS.\n",
      "Type is unsupported, or the types of the items don't match field type in CollectionDef.\n",
      "'dict' object has no attribute 'name'\n",
      "Epoch: 115/600...  Training Step: 3101...  Training loss: 2.1622...  Val loss: 2.0463...  0.3320 sec/batch\n",
      "Epoch: 119/600...  Training Step: 3201...  Training loss: 2.1723...  Val loss: 2.0319...  0.3292 sec/batch\n",
      "Epoch: 123/600...  Training Step: 3301...  Training loss: 2.1421...  Val loss: 2.0233...  0.3218 sec/batch\n",
      "Epoch: 126/600...  Training Step: 3401...  Training loss: 2.1533...  Val loss: 2.0114...  0.3168 sec/batch\n",
      "Epoch: 130/600...  Training Step: 3501...  Training loss: 2.1536...  Val loss: 2.0014...  0.3168 sec/batch\n",
      "WARNING:tensorflow:Error encountered when serializing LAYER_NAME_UIDS.\n",
      "Type is unsupported, or the types of the items don't match field type in CollectionDef.\n",
      "'dict' object has no attribute 'name'\n",
      "Epoch: 134/600...  Training Step: 3601...  Training loss: 2.0991...  Val loss: 1.9938...  0.3247 sec/batch\n",
      "Epoch: 138/600...  Training Step: 3701...  Training loss: 2.1188...  Val loss: 1.9846...  0.3166 sec/batch\n",
      "Epoch: 141/600...  Training Step: 3801...  Training loss: 2.0885...  Val loss: 1.9735...  0.3077 sec/batch\n",
      "Epoch: 145/600...  Training Step: 3901...  Training loss: 2.0803...  Val loss: 1.9631...  0.3085 sec/batch\n",
      "Epoch: 149/600...  Training Step: 4001...  Training loss: 2.0712...  Val loss: 1.9558...  0.3198 sec/batch\n",
      "WARNING:tensorflow:Error encountered when serializing LAYER_NAME_UIDS.\n",
      "Type is unsupported, or the types of the items don't match field type in CollectionDef.\n",
      "'dict' object has no attribute 'name'\n",
      "Epoch: 152/600...  Training Step: 4101...  Training loss: 2.0852...  Val loss: 1.9462...  0.3135 sec/batch\n",
      "Epoch: 156/600...  Training Step: 4201...  Training loss: 2.0781...  Val loss: 1.9354...  0.3125 sec/batch\n",
      "Epoch: 160/600...  Training Step: 4301...  Training loss: 2.0477...  Val loss: 1.9295...  0.3091 sec/batch\n",
      "Epoch: 163/600...  Training Step: 4401...  Training loss: 2.0670...  Val loss: 1.9210...  0.3121 sec/batch\n",
      "Epoch: 167/600...  Training Step: 4501...  Training loss: 2.0535...  Val loss: 1.9137...  0.3090 sec/batch\n",
      "WARNING:tensorflow:Error encountered when serializing LAYER_NAME_UIDS.\n",
      "Type is unsupported, or the types of the items don't match field type in CollectionDef.\n",
      "'dict' object has no attribute 'name'\n",
      "Epoch: 171/600...  Training Step: 4601...  Training loss: 2.0209...  Val loss: 1.9078...  0.3257 sec/batch\n",
      "Epoch: 175/600...  Training Step: 4701...  Training loss: 1.9986...  Val loss: 1.9000...  0.3096 sec/batch\n",
      "Epoch: 178/600...  Training Step: 4801...  Training loss: 2.0114...  Val loss: 1.8915...  0.3091 sec/batch\n",
      "Epoch: 182/600...  Training Step: 4901...  Training loss: 2.0092...  Val loss: 1.8862...  0.3231 sec/batch\n",
      "Epoch: 186/600...  Training Step: 5001...  Training loss: 2.0183...  Val loss: 1.8786...  0.3140 sec/batch\n",
      "WARNING:tensorflow:Error encountered when serializing LAYER_NAME_UIDS.\n",
      "Type is unsupported, or the types of the items don't match field type in CollectionDef.\n",
      "'dict' object has no attribute 'name'\n",
      "Epoch: 189/600...  Training Step: 5101...  Training loss: 2.0029...  Val loss: 1.8726...  0.3263 sec/batch\n",
      "Epoch: 193/600...  Training Step: 5201...  Training loss: 2.0223...  Val loss: 1.8665...  0.3072 sec/batch\n",
      "Epoch: 197/600...  Training Step: 5301...  Training loss: 1.9802...  Val loss: 1.8610...  0.3190 sec/batch\n",
      "Epoch: 201/600...  Training Step: 5401...  Training loss: 2.0012...  Val loss: 1.8513...  0.3195 sec/batch\n",
      "Epoch: 204/600...  Training Step: 5501...  Training loss: 2.0006...  Val loss: 1.8521...  0.3078 sec/batch\n",
      "WARNING:tensorflow:Error encountered when serializing LAYER_NAME_UIDS.\n",
      "Type is unsupported, or the types of the items don't match field type in CollectionDef.\n",
      "'dict' object has no attribute 'name'\n"
     ]
    },
    {
     "name": "stdout",
     "output_type": "stream",
     "text": [
      "Epoch: 208/600...  Training Step: 5601...  Training loss: 1.9783...  Val loss: 1.8400...  0.3208 sec/batch\n",
      "Epoch: 212/600...  Training Step: 5701...  Training loss: 1.9756...  Val loss: 1.8342...  0.3096 sec/batch\n",
      "Epoch: 215/600...  Training Step: 5801...  Training loss: 1.9483...  Val loss: 1.8301...  0.3075 sec/batch\n",
      "Epoch: 219/600...  Training Step: 5901...  Training loss: 1.9531...  Val loss: 1.8236...  0.3077 sec/batch\n",
      "Epoch: 223/600...  Training Step: 6001...  Training loss: 1.9302...  Val loss: 1.8193...  0.3090 sec/batch\n",
      "WARNING:tensorflow:Error encountered when serializing LAYER_NAME_UIDS.\n",
      "Type is unsupported, or the types of the items don't match field type in CollectionDef.\n",
      "'dict' object has no attribute 'name'\n",
      "Epoch: 226/600...  Training Step: 6101...  Training loss: 1.9484...  Val loss: 1.8117...  0.3082 sec/batch\n",
      "Epoch: 230/600...  Training Step: 6201...  Training loss: 1.9541...  Val loss: 1.8107...  0.3095 sec/batch\n",
      "Epoch: 234/600...  Training Step: 6301...  Training loss: 1.9030...  Val loss: 1.8038...  0.3103 sec/batch\n",
      "Epoch: 238/600...  Training Step: 6401...  Training loss: 1.9213...  Val loss: 1.8055...  0.3317 sec/batch\n",
      "Epoch: 241/600...  Training Step: 6501...  Training loss: 1.8924...  Val loss: 1.7963...  0.3077 sec/batch\n",
      "WARNING:tensorflow:Error encountered when serializing LAYER_NAME_UIDS.\n",
      "Type is unsupported, or the types of the items don't match field type in CollectionDef.\n",
      "'dict' object has no attribute 'name'\n",
      "Epoch: 245/600...  Training Step: 6601...  Training loss: 1.8999...  Val loss: 1.7892...  0.3074 sec/batch\n",
      "Epoch: 249/600...  Training Step: 6701...  Training loss: 1.8927...  Val loss: 1.7886...  0.3152 sec/batch\n",
      "Epoch: 252/600...  Training Step: 6801...  Training loss: 1.9002...  Val loss: 1.7802...  0.3078 sec/batch\n",
      "Epoch: 256/600...  Training Step: 6901...  Training loss: 1.9135...  Val loss: 1.7758...  0.3077 sec/batch\n",
      "Epoch: 260/600...  Training Step: 7001...  Training loss: 1.8804...  Val loss: 1.7725...  0.3126 sec/batch\n",
      "WARNING:tensorflow:Error encountered when serializing LAYER_NAME_UIDS.\n",
      "Type is unsupported, or the types of the items don't match field type in CollectionDef.\n",
      "'dict' object has no attribute 'name'\n",
      "Epoch: 263/600...  Training Step: 7101...  Training loss: 1.8831...  Val loss: 1.7704...  0.3087 sec/batch\n",
      "Epoch: 267/600...  Training Step: 7201...  Training loss: 1.8926...  Val loss: 1.7665...  0.3100 sec/batch\n",
      "Epoch: 271/600...  Training Step: 7301...  Training loss: 1.8669...  Val loss: 1.7642...  0.3139 sec/batch\n",
      "Epoch: 275/600...  Training Step: 7401...  Training loss: 1.8523...  Val loss: 1.7591...  0.3075 sec/batch\n",
      "Epoch: 278/600...  Training Step: 7501...  Training loss: 1.8530...  Val loss: 1.7543...  0.3075 sec/batch\n",
      "WARNING:tensorflow:Error encountered when serializing LAYER_NAME_UIDS.\n",
      "Type is unsupported, or the types of the items don't match field type in CollectionDef.\n",
      "'dict' object has no attribute 'name'\n",
      "Epoch: 282/600...  Training Step: 7601...  Training loss: 1.8514...  Val loss: 1.7515...  0.3081 sec/batch\n",
      "Epoch: 286/600...  Training Step: 7701...  Training loss: 1.8641...  Val loss: 1.7484...  0.3078 sec/batch\n",
      "Epoch: 289/600...  Training Step: 7801...  Training loss: 1.8471...  Val loss: 1.7470...  0.3077 sec/batch\n",
      "Epoch: 293/600...  Training Step: 7901...  Training loss: 1.8794...  Val loss: 1.7444...  0.3110 sec/batch\n",
      "Epoch: 297/600...  Training Step: 8001...  Training loss: 1.8311...  Val loss: 1.7391...  0.3075 sec/batch\n",
      "WARNING:tensorflow:Error encountered when serializing LAYER_NAME_UIDS.\n",
      "Type is unsupported, or the types of the items don't match field type in CollectionDef.\n",
      "'dict' object has no attribute 'name'\n",
      "Epoch: 301/600...  Training Step: 8101...  Training loss: 1.8603...  Val loss: 1.7360...  0.3109 sec/batch\n",
      "Epoch: 304/600...  Training Step: 8201...  Training loss: 1.8614...  Val loss: 1.7339...  0.3081 sec/batch\n",
      "Epoch: 308/600...  Training Step: 8301...  Training loss: 1.8397...  Val loss: 1.7263...  0.3102 sec/batch\n",
      "Epoch: 312/600...  Training Step: 8401...  Training loss: 1.8428...  Val loss: 1.7241...  0.3077 sec/batch\n",
      "Epoch: 315/600...  Training Step: 8501...  Training loss: 1.8162...  Val loss: 1.7232...  0.3078 sec/batch\n",
      "WARNING:tensorflow:Error encountered when serializing LAYER_NAME_UIDS.\n",
      "Type is unsupported, or the types of the items don't match field type in CollectionDef.\n",
      "'dict' object has no attribute 'name'\n",
      "Epoch: 319/600...  Training Step: 8601...  Training loss: 1.8225...  Val loss: 1.7189...  0.3075 sec/batch\n",
      "Epoch: 323/600...  Training Step: 8701...  Training loss: 1.8049...  Val loss: 1.7179...  0.3077 sec/batch\n",
      "Epoch: 326/600...  Training Step: 8801...  Training loss: 1.8211...  Val loss: 1.7148...  0.3076 sec/batch\n",
      "Epoch: 330/600...  Training Step: 8901...  Training loss: 1.8297...  Val loss: 1.7110...  0.3085 sec/batch\n",
      "Epoch: 334/600...  Training Step: 9001...  Training loss: 1.7755...  Val loss: 1.7107...  0.3076 sec/batch\n",
      "WARNING:tensorflow:Error encountered when serializing LAYER_NAME_UIDS.\n",
      "Type is unsupported, or the types of the items don't match field type in CollectionDef.\n",
      "'dict' object has no attribute 'name'\n",
      "Epoch: 338/600...  Training Step: 9101...  Training loss: 1.8059...  Val loss: 1.7112...  0.3076 sec/batch\n",
      "Epoch: 341/600...  Training Step: 9201...  Training loss: 1.7666...  Val loss: 1.7094...  0.3076 sec/batch\n",
      "Epoch: 345/600...  Training Step: 9301...  Training loss: 1.7793...  Val loss: 1.6999...  0.3077 sec/batch\n",
      "Epoch: 349/600...  Training Step: 9401...  Training loss: 1.7822...  Val loss: 1.7035...  0.3075 sec/batch\n",
      "Epoch: 352/600...  Training Step: 9501...  Training loss: 1.7953...  Val loss: 1.6985...  0.3076 sec/batch\n",
      "WARNING:tensorflow:Error encountered when serializing LAYER_NAME_UIDS.\n",
      "Type is unsupported, or the types of the items don't match field type in CollectionDef.\n",
      "'dict' object has no attribute 'name'\n",
      "Epoch: 356/600...  Training Step: 9601...  Training loss: 1.7941...  Val loss: 1.6941...  0.3076 sec/batch\n",
      "Epoch: 360/600...  Training Step: 9701...  Training loss: 1.7790...  Val loss: 1.6948...  0.3079 sec/batch\n",
      "Epoch: 363/600...  Training Step: 9801...  Training loss: 1.7773...  Val loss: 1.6947...  0.3083 sec/batch\n",
      "Epoch: 367/600...  Training Step: 9901...  Training loss: 1.7810...  Val loss: 1.6911...  0.3078 sec/batch\n",
      "Epoch: 371/600...  Training Step: 10001...  Training loss: 1.7549...  Val loss: 1.6907...  0.3078 sec/batch\n",
      "WARNING:tensorflow:Error encountered when serializing LAYER_NAME_UIDS.\n",
      "Type is unsupported, or the types of the items don't match field type in CollectionDef.\n",
      "'dict' object has no attribute 'name'\n",
      "Epoch: 375/600...  Training Step: 10101...  Training loss: 1.7443...  Val loss: 1.6868...  0.3075 sec/batch\n",
      "Epoch: 378/600...  Training Step: 10201...  Training loss: 1.7430...  Val loss: 1.6817...  0.3077 sec/batch\n",
      "Epoch: 382/600...  Training Step: 10301...  Training loss: 1.7482...  Val loss: 1.6834...  0.3076 sec/batch\n",
      "Epoch: 386/600...  Training Step: 10401...  Training loss: 1.7596...  Val loss: 1.6824...  0.3077 sec/batch\n",
      "Epoch: 389/600...  Training Step: 10501...  Training loss: 1.7480...  Val loss: 1.6795...  0.3074 sec/batch\n",
      "WARNING:tensorflow:Error encountered when serializing LAYER_NAME_UIDS.\n",
      "Type is unsupported, or the types of the items don't match field type in CollectionDef.\n",
      "'dict' object has no attribute 'name'\n",
      "Epoch: 393/600...  Training Step: 10601...  Training loss: 1.7802...  Val loss: 1.6766...  0.3077 sec/batch\n",
      "Epoch: 397/600...  Training Step: 10701...  Training loss: 1.7374...  Val loss: 1.6767...  0.3074 sec/batch\n",
      "Epoch: 401/600...  Training Step: 10801...  Training loss: 1.7531...  Val loss: 1.6719...  0.3078 sec/batch\n",
      "Epoch: 404/600...  Training Step: 10901...  Training loss: 1.7684...  Val loss: 1.6728...  0.3080 sec/batch\n",
      "Epoch: 408/600...  Training Step: 11001...  Training loss: 1.7444...  Val loss: 1.6701...  0.3086 sec/batch\n",
      "WARNING:tensorflow:Error encountered when serializing LAYER_NAME_UIDS.\n",
      "Type is unsupported, or the types of the items don't match field type in CollectionDef.\n",
      "'dict' object has no attribute 'name'\n",
      "Epoch: 412/600...  Training Step: 11101...  Training loss: 1.7537...  Val loss: 1.6744...  0.3077 sec/batch\n",
      "Epoch: 415/600...  Training Step: 11201...  Training loss: 1.7174...  Val loss: 1.6692...  0.3074 sec/batch\n"
     ]
    },
    {
     "name": "stdout",
     "output_type": "stream",
     "text": [
      "Epoch: 419/600...  Training Step: 11301...  Training loss: 1.7364...  Val loss: 1.6678...  0.3077 sec/batch\n",
      "Epoch: 423/600...  Training Step: 11401...  Training loss: 1.7171...  Val loss: 1.6626...  0.3075 sec/batch\n",
      "Epoch: 426/600...  Training Step: 11501...  Training loss: 1.7361...  Val loss: 1.6644...  0.3076 sec/batch\n",
      "WARNING:tensorflow:Error encountered when serializing LAYER_NAME_UIDS.\n",
      "Type is unsupported, or the types of the items don't match field type in CollectionDef.\n",
      "'dict' object has no attribute 'name'\n",
      "Epoch: 430/600...  Training Step: 11601...  Training loss: 1.7429...  Val loss: 1.6669...  0.3079 sec/batch\n",
      "Epoch: 434/600...  Training Step: 11701...  Training loss: 1.6944...  Val loss: 1.6624...  0.3080 sec/batch\n",
      "Epoch: 438/600...  Training Step: 11801...  Training loss: 1.7125...  Val loss: 1.6655...  0.3081 sec/batch\n",
      "Epoch: 441/600...  Training Step: 11901...  Training loss: 1.6832...  Val loss: 1.6651...  0.3073 sec/batch\n",
      "Epoch: 445/600...  Training Step: 12001...  Training loss: 1.7014...  Val loss: 1.6560...  0.3078 sec/batch\n",
      "WARNING:tensorflow:Error encountered when serializing LAYER_NAME_UIDS.\n",
      "Type is unsupported, or the types of the items don't match field type in CollectionDef.\n",
      "'dict' object has no attribute 'name'\n",
      "Epoch: 449/600...  Training Step: 12101...  Training loss: 1.6977...  Val loss: 1.6574...  0.3075 sec/batch\n",
      "Epoch: 452/600...  Training Step: 12201...  Training loss: 1.7167...  Val loss: 1.6559...  0.3077 sec/batch\n",
      "Epoch: 456/600...  Training Step: 12301...  Training loss: 1.7125...  Val loss: 1.6569...  0.3076 sec/batch\n",
      "Epoch: 460/600...  Training Step: 12401...  Training loss: 1.7011...  Val loss: 1.6510...  0.3076 sec/batch\n",
      "Epoch: 463/600...  Training Step: 12501...  Training loss: 1.7030...  Val loss: 1.6536...  0.3074 sec/batch\n",
      "WARNING:tensorflow:Error encountered when serializing LAYER_NAME_UIDS.\n",
      "Type is unsupported, or the types of the items don't match field type in CollectionDef.\n",
      "'dict' object has no attribute 'name'\n",
      "Epoch: 467/600...  Training Step: 12601...  Training loss: 1.7090...  Val loss: 1.6489...  0.3078 sec/batch\n",
      "Epoch: 471/600...  Training Step: 12701...  Training loss: 1.6807...  Val loss: 1.6530...  0.3080 sec/batch\n",
      "Epoch: 475/600...  Training Step: 12801...  Training loss: 1.6716...  Val loss: 1.6501...  0.3077 sec/batch\n",
      "Epoch: 478/600...  Training Step: 12901...  Training loss: 1.6654...  Val loss: 1.6473...  0.3077 sec/batch\n",
      "Epoch: 482/600...  Training Step: 13001...  Training loss: 1.6772...  Val loss: 1.6479...  0.3076 sec/batch\n",
      "WARNING:tensorflow:Error encountered when serializing LAYER_NAME_UIDS.\n",
      "Type is unsupported, or the types of the items don't match field type in CollectionDef.\n",
      "'dict' object has no attribute 'name'\n",
      "Epoch: 486/600...  Training Step: 13101...  Training loss: 1.6866...  Val loss: 1.6491...  0.3076 sec/batch\n",
      "Epoch: 489/600...  Training Step: 13201...  Training loss: 1.6882...  Val loss: 1.6469...  0.3074 sec/batch\n",
      "Epoch: 493/600...  Training Step: 13301...  Training loss: 1.7121...  Val loss: 1.6551...  0.3075 sec/batch\n",
      "Epoch: 497/600...  Training Step: 13401...  Training loss: 1.6638...  Val loss: 1.6474...  0.3076 sec/batch\n",
      "Epoch: 501/600...  Training Step: 13501...  Training loss: 1.6820...  Val loss: 1.6431...  0.3074 sec/batch\n",
      "WARNING:tensorflow:Error encountered when serializing LAYER_NAME_UIDS.\n",
      "Type is unsupported, or the types of the items don't match field type in CollectionDef.\n",
      "'dict' object has no attribute 'name'\n",
      "Epoch: 504/600...  Training Step: 13601...  Training loss: 1.6970...  Val loss: 1.6486...  0.3075 sec/batch\n",
      "Epoch: 508/600...  Training Step: 13701...  Training loss: 1.6748...  Val loss: 1.6445...  0.3073 sec/batch\n",
      "Epoch: 512/600...  Training Step: 13801...  Training loss: 1.6813...  Val loss: 1.6450...  0.3079 sec/batch\n",
      "Epoch: 515/600...  Training Step: 13901...  Training loss: 1.6551...  Val loss: 1.6469...  0.3074 sec/batch\n",
      "Epoch: 519/600...  Training Step: 14001...  Training loss: 1.6588...  Val loss: 1.6389...  0.3077 sec/batch\n",
      "WARNING:tensorflow:Error encountered when serializing LAYER_NAME_UIDS.\n",
      "Type is unsupported, or the types of the items don't match field type in CollectionDef.\n",
      "'dict' object has no attribute 'name'\n",
      "Epoch: 523/600...  Training Step: 14101...  Training loss: 1.6461...  Val loss: 1.6447...  0.3075 sec/batch\n",
      "Epoch: 526/600...  Training Step: 14201...  Training loss: 1.6702...  Val loss: 1.6414...  0.3076 sec/batch\n",
      "Epoch: 530/600...  Training Step: 14301...  Training loss: 1.6740...  Val loss: 1.6448...  0.3078 sec/batch\n",
      "Epoch: 534/600...  Training Step: 14401...  Training loss: 1.6234...  Val loss: 1.6415...  0.3077 sec/batch\n",
      "Epoch: 538/600...  Training Step: 14501...  Training loss: 1.6484...  Val loss: 1.6423...  0.3079 sec/batch\n",
      "WARNING:tensorflow:Error encountered when serializing LAYER_NAME_UIDS.\n",
      "Type is unsupported, or the types of the items don't match field type in CollectionDef.\n",
      "'dict' object has no attribute 'name'\n",
      "Epoch: 541/600...  Training Step: 14601...  Training loss: 1.6200...  Val loss: 1.6452...  0.3076 sec/batch\n",
      "Epoch: 545/600...  Training Step: 14701...  Training loss: 1.6282...  Val loss: 1.6367...  0.3076 sec/batch\n",
      "Epoch: 549/600...  Training Step: 14801...  Training loss: 1.6331...  Val loss: 1.6427...  0.3075 sec/batch\n",
      "Epoch: 552/600...  Training Step: 14901...  Training loss: 1.6449...  Val loss: 1.6395...  0.3079 sec/batch\n",
      "Epoch: 556/600...  Training Step: 15001...  Training loss: 1.6426...  Val loss: 1.6394...  0.3081 sec/batch\n",
      "WARNING:tensorflow:Error encountered when serializing LAYER_NAME_UIDS.\n",
      "Type is unsupported, or the types of the items don't match field type in CollectionDef.\n",
      "'dict' object has no attribute 'name'\n",
      "Epoch: 560/600...  Training Step: 15101...  Training loss: 1.6382...  Val loss: 1.6430...  0.3078 sec/batch\n",
      "Epoch: 563/600...  Training Step: 15201...  Training loss: 1.6462...  Val loss: 1.6354...  0.3076 sec/batch\n",
      "Epoch: 567/600...  Training Step: 15301...  Training loss: 1.6354...  Val loss: 1.6520...  0.3077 sec/batch\n",
      "Epoch: 571/600...  Training Step: 15401...  Training loss: 1.6184...  Val loss: 1.6424...  0.3084 sec/batch\n",
      "Epoch: 575/600...  Training Step: 15501...  Training loss: 1.6204...  Val loss: 1.6357...  0.3083 sec/batch\n",
      "WARNING:tensorflow:Error encountered when serializing LAYER_NAME_UIDS.\n",
      "Type is unsupported, or the types of the items don't match field type in CollectionDef.\n",
      "'dict' object has no attribute 'name'\n",
      "Epoch: 578/600...  Training Step: 15601...  Training loss: 1.6043...  Val loss: 1.6413...  0.3080 sec/batch\n",
      "Epoch: 582/600...  Training Step: 15701...  Training loss: 1.6159...  Val loss: 1.6372...  0.3079 sec/batch\n",
      "Epoch: 586/600...  Training Step: 15801...  Training loss: 1.6227...  Val loss: 1.6485...  0.3077 sec/batch\n",
      "Epoch: 589/600...  Training Step: 15901...  Training loss: 1.6206...  Val loss: 1.6386...  0.3074 sec/batch\n",
      "Epoch: 593/600...  Training Step: 16001...  Training loss: 1.6472...  Val loss: 1.6376...  0.3079 sec/batch\n",
      "WARNING:tensorflow:Error encountered when serializing LAYER_NAME_UIDS.\n",
      "Type is unsupported, or the types of the items don't match field type in CollectionDef.\n",
      "'dict' object has no attribute 'name'\n",
      "Epoch: 597/600...  Training Step: 16101...  Training loss: 1.6162...  Val loss: 1.6452...  0.3075 sec/batch\n",
      "WARNING:tensorflow:Error encountered when serializing LAYER_NAME_UIDS.\n",
      "Type is unsupported, or the types of the items don't match field type in CollectionDef.\n",
      "'dict' object has no attribute 'name'\n"
     ]
    }
   ],
   "source": [
    "#epochs = 1\n",
    "# Save every N iterations\n",
    "save_every_n = 500\n",
    "print_loss_every_n = 100\n",
    "sample_every = 500\n",
    "with tf.device(\"/gpu:0\"):\n",
    "    model = CharRNN(len(vocab), batch_size=batch_size, num_steps=num_steps,\n",
    "                lstm_size=lstm_size, num_layers=num_layers, \n",
    "                learning_rate=learning_rate)\n",
    "    #print(\"after model\")\n",
    "\n",
    "saver = tf.train.Saver(max_to_keep=5)\n",
    "#print(\"after saver\")\n",
    "with tf.Session() as sess:\n",
    "    sess.run(tf.global_variables_initializer())\n",
    "    print(\"Number of parameters:\",get_number_of_parameters(),\"Dataset size:\",len(encoded))\n",
    "    #print(\"after initializer\")\n",
    "    if resume_from_checkpoint:\n",
    "        latest_checkpoint = tf.train.latest_checkpoint('checkpoints')\n",
    "        saver.restore(sess, latest_checkpoint)\n",
    "    counter = 0\n",
    "    for e in range(epochs):\n",
    "        # Train network\n",
    "        \n",
    "        new_state = sess.run(model.initial_state)\n",
    "        loss = 0\n",
    "        for x, y in get_batches(encoded, batch_size, num_steps):\n",
    "            \n",
    "            \n",
    "            start = time.time()\n",
    "            feed = {model.inputs: x,\n",
    "                    model.targets: y,\n",
    "                    model.keep_prob: keep_prob,\n",
    "                    model.initial_state: new_state}\n",
    "            batch_loss, new_state, _ = sess.run([model.loss, \n",
    "                                                 model.final_state, \n",
    "                                                 model.optimizer], \n",
    "                                                 feed_dict=feed)\n",
    "        \n",
    "            \n",
    "            end = time.time()\n",
    "            if counter%print_loss_every_n == 0:\n",
    "                val_batches = get_batches(encoded_val,int(len(encoded_val)/num_steps),num_steps)\n",
    "                x_val,y_val = next(val_batches)\n",
    "                \n",
    "                val_dict = {model.inputs: x_val,\n",
    "                            model.targets: y_val,\n",
    "                            model.keep_prob: 1,\n",
    "                            model.initial_state: new_state}\n",
    "                \n",
    "                val_loss,prediction = sess.run([model.loss,model.prediction],feed_dict=val_dict)\n",
    "                \n",
    "                losses[\"train\"].append(batch_loss)\n",
    "                losses[\"validation\"].append(val_loss)\n",
    "                \n",
    "                \n",
    "                global_step = tf.train.global_step(sess,model.global_step_tensor)\n",
    "                x_steps.append(global_step)\n",
    "                \n",
    "                print('Epoch: {}/{}... '.format(e+1, epochs),\n",
    "                      'Training Step: {}... '.format(global_step),\n",
    "                      'Training loss: {:.4f}... '.format(batch_loss),\n",
    "                      'Val loss: {:.4f}... '.format(val_loss),\n",
    "                      '{:.4f} sec/batch'.format((end-start)))\n",
    "        \n",
    "            if (counter % save_every_n == 0):\n",
    "                global_step = tf.train.global_step(sess,model.global_step_tensor)\n",
    "                saver.save(sess, \"checkpoints/m{}_i{}_l{}.ckpt\".format(mode,global_step, lstm_size))\n",
    "                \n",
    "            counter += 1\n",
    "            \n",
    "    global_step = tf.train.global_step(sess,model.global_step_tensor)\n",
    "    saver.save(sess, \"checkpoints/m{}_i{}_l{}.ckpt\".format(mode,global_step, lstm_size))"
   ]
  },
  {
   "cell_type": "code",
   "execution_count": 31,
   "metadata": {},
   "outputs": [
    {
     "data": {
      "image/png": "[encoded data removed]",
      "text/plain": [
       "<matplotlib.figure.Figure at 0x7f4bcbbc7978>"
      ]
     },
     "metadata": {
      "image/png": {
       "height": 250,
       "width": 373
      }
     },
     "output_type": "display_data"
    }
   ],
   "source": [
    "plt.plot(x_steps,losses[\"train\"],label=\"Train loss\")\n",
    "plt.plot(x_steps,losses[\"validation\"],label=\"Validation loss\")\n",
    "plt.legend()\n",
    "_ = plt.ylim()"
   ]
  },
  {
   "cell_type": "markdown",
   "metadata": {},
   "source": [
    "#### Saved checkpoints\n",
    "\n",
    "Read up on saving and loading checkpoints here: https://www.tensorflow.org/programmers_guide/variables"
   ]
  },
  {
   "cell_type": "code",
   "execution_count": 32,
   "metadata": {
    "collapsed": true
   },
   "outputs": [],
   "source": [
    "checkpoints = tf.train.get_checkpoint_state('checkpoints')"
   ]
  },
  {
   "cell_type": "markdown",
   "metadata": {},
   "source": [
    "## Sampling final trained model\n",
    "\n",
    "Now that the network is trained, we'll can use it to generate new text. The idea is that we pass in a character, then the network will predict the next character. We can use the new one, to predict the next one. And we keep doing this to generate all new text. I also included some functionality to prime the network with some text by passing in a string and building up a state from that.\n",
    "\n",
    "The network gives us predictions for each character. To reduce noise and make things a little less random, I'm going to only choose a new character from the top N most likely characters.\n",
    "\n"
   ]
  },
  {
   "cell_type": "code",
   "execution_count": 33,
   "metadata": {
    "collapsed": true
   },
   "outputs": [],
   "source": [
    "def sample(checkpoint, n_samples, lstm_size, vocab_size, prime=\"The \",mode=\"characters\"):\n",
    "    print(mode)\n",
    "    samples = tokenize_text(prime,mode)\n",
    "    model = CharRNN(len(vocab), lstm_size=lstm_size, sampling=True)\n",
    "    saver = tf.train.Saver()\n",
    "    with tf.Session() as sess:\n",
    "        saver.restore(sess, checkpoint)\n",
    "        new_state = sess.run(model.initial_state)\n",
    "        for c in tokenize_text(prime,mode):\n",
    "            x = np.zeros((1, 1))\n",
    "            x[0,0] = vocab_to_int[c]\n",
    "            feed = {model.inputs: x,\n",
    "                    model.keep_prob: 1.,\n",
    "                    model.initial_state: new_state}\n",
    "            preds, new_state = sess.run([model.prediction, model.final_state], \n",
    "                                         feed_dict=feed)\n",
    "\n",
    "        c = pick_top_n(preds, len(vocab))\n",
    "        samples.append(int_to_vocab[c])\n",
    "\n",
    "        for i in range(n_samples):\n",
    "            x[0,0] = c\n",
    "            feed = {model.inputs: x,\n",
    "                    model.keep_prob: 1.,\n",
    "                    model.initial_state: new_state}\n",
    "            preds, new_state = sess.run([model.prediction, model.final_state], \n",
    "                                         feed_dict=feed)\n",
    "\n",
    "            c = pick_top_n(preds, len(vocab))\n",
    "            samples.append(int_to_vocab[c])\n",
    "        \n",
    "    return ''.join(samples).replace(\"new_line_token\",\"\\n\")"
   ]
  },
  {
   "cell_type": "markdown",
   "metadata": {},
   "source": [
    "Here, pass in the path to a checkpoint and sample from the network."
   ]
  },
  {
   "cell_type": "code",
   "execution_count": 34,
   "metadata": {},
   "outputs": [
    {
     "data": {
      "text/plain": [
       "'checkpoints/mcharacters_i16200_l512.ckpt'"
      ]
     },
     "execution_count": 34,
     "metadata": {},
     "output_type": "execute_result"
    }
   ],
   "source": [
    "tf.train.latest_checkpoint('checkpoints')"
   ]
  },
  {
   "cell_type": "markdown",
   "metadata": {},
   "source": [
    "## Generate new text from \"base\" text"
   ]
  },
  {
   "cell_type": "code",
   "execution_count": 35,
   "metadata": {},
   "outputs": [
    {
     "name": "stdout",
     "output_type": "stream",
     "text": [
      "characters\n",
      "INFO:tensorflow:Restoring parameters from checkpoints/mcharacters_i16200_l512.ckpt\n",
      "characters\n",
      "INFO:tensorflow:Restoring parameters from checkpoints/mcharacters_i16200_l512.ckpt\n",
      "characters\n",
      "INFO:tensorflow:Restoring parameters from checkpoints/mcharacters_i16200_l512.ckpt\n",
      "characters\n",
      "INFO:tensorflow:Restoring parameters from checkpoints/mcharacters_i16200_l512.ckpt\n",
      "characters\n",
      "INFO:tensorflow:Restoring parameters from checkpoints/mcharacters_i16200_l512.ckpt\n",
      "characters\n",
      "INFO:tensorflow:Restoring parameters from checkpoints/mcharacters_i16200_l512.ckpt\n",
      "characters\n",
      "INFO:tensorflow:Restoring parameters from checkpoints/mcharacters_i16200_l512.ckpt\n",
      "characters\n",
      "INFO:tensorflow:Restoring parameters from checkpoints/mcharacters_i16200_l512.ckpt\n",
      "characters\n",
      "INFO:tensorflow:Restoring parameters from checkpoints/mcharacters_i16200_l512.ckpt\n",
      "characters\n",
      "INFO:tensorflow:Restoring parameters from checkpoints/mcharacters_i16200_l512.ckpt\n",
      "characters\n",
      "INFO:tensorflow:Restoring parameters from checkpoints/mcharacters_i16200_l512.ckpt\n",
      "characters\n",
      "INFO:tensorflow:Restoring parameters from checkpoints/mcharacters_i16200_l512.ckpt\n",
      "characters\n",
      "INFO:tensorflow:Restoring parameters from checkpoints/mcharacters_i16200_l512.ckpt\n",
      "characters\n",
      "INFO:tensorflow:Restoring parameters from checkpoints/mcharacters_i16200_l512.ckpt\n",
      "characters\n",
      "INFO:tensorflow:Restoring parameters from checkpoints/mcharacters_i16200_l512.ckpt\n",
      "characters\n",
      "INFO:tensorflow:Restoring parameters from checkpoints/mcharacters_i16200_l512.ckpt\n"
     ]
    }
   ],
   "source": [
    "\n",
    "checkpoint = tf.train.latest_checkpoint('checkpoints')\n",
    "\n",
    "\n",
    "samples = list()\n",
    "for text in text_to_try:\n",
    "    #print(\"------------------------\",text)\n",
    "    samples.append( sample(checkpoint, 500, lstm_size, len(vocab), prime=text,mode=mode))\n",
    "    #print(samp)\n",
    "    #print(\"------------------------\")"
   ]
  },
  {
   "cell_type": "code",
   "execution_count": 36,
   "metadata": {},
   "outputs": [
    {
     "name": "stdout",
     "output_type": "stream",
     "text": [
      "------------------------ In the first place\n",
      "In the first place at the seciters and trees to seem an ancertor wished the stand of his sane. Tale of the secrets this were as the dinging which this toward the crompert had boen had been so string the souts as a fill thene of it at the change, to a some trices would be a part in hus common on the monething and trues, and had been the sering farming of my compine, with as his conseinod there and all his wasted about that shall was a time, his postors of the this palie of more tamen of the crombodicy of a time tha\n",
      "------------------------\n",
      "------------------------ the night before\n",
      "the night before. These was no centain muningule. I was a centary with the presented secrepic of her things were so many sace would seem his proceation which they said the monitic was sate of a colluces of moraling others and sece which astert into this masticy world this his off. It was then that the strong mither the pare which had been the pease will save all a mental solin and ancestar stire that at an alone a caneretion of the man strugkted to as of semmariace of a seeping of tho griving a tripic sone of. T\n",
      "------------------------\n",
      "------------------------ horror\n",
      "horrore.\n",
      "\n",
      "Whaterer the carting of the most and almest allest sticted the formowath tremed transtoriting and attathing a the colour of the mosing talk of as to some sole stone, brack, it sumped to be from the part of the more of the mind.\n",
      "\n",
      "At his condounted the pollenss were a centain on some portucion of the subject of a meronis cremaly and assanters of men of the chusels of the sighe. In a time that some onit and the sandy stall sone stranger suchess of her freghen and corrorinted charge of the parert\n",
      "------------------------\n",
      "------------------------ creature\n",
      "creatured. There was trees and deticien to be the deach and murbling work of the cornocestic ant a concembing believes that the stall wales and his stituees of the cellar sumplarest than a crumth, the farther was toward the stone sound of mournance and tonne that with the mans of mention and, the folmagas was at the correlland to be trees. They told a more coumse the porsent of that caresul crearly same than had been a sollance was a sectel contants on its told out a seared or son the sture of sechity, b\n",
      "------------------------\n",
      "------------------------ night\n",
      "night that a care. Ald that telr this, his ferture was the strengers. They sad his cordectat to the chorations then theredemen so at lest the porsestoo of the surjoscest and a mesting sort overmanter in any toness, and him with the postoranicy on the shades where the mone of any collegied with the postomitar cittle with the stulf was sereated the dighinist of semmen astilated the farm, but had naver been their things the bungelow of the solathic of my charnel than shines and talk that that things of t\n",
      "------------------------\n",
      "------------------------ dream\n",
      "dream wat he sumdousted all seaning in the strange continuous town on the from at his hadd as he his been a carse of the stungs of an the spirite in his, the pruced was sharked and crownors to the manthed, at a stall were of a strunt of the followed talts. It was not in the corpestion. He dedined, and as had been must he could not be any cantitully seemed to be the farm. At the mitht thind which which he sood this had tracks of the forth if on this charbed and this spit that the start with the marigas\n",
      "------------------------\n",
      "------------------------ thing\n",
      "thing,\n",
      "\n",
      "That the few shaded toming which had this single alore the plite of the stone of the secient of tomate and houres a chores. And ther he was a pereor of maniarice was not the coultry and choricent to the strunging and ancenting and trucks which stould be then his from at its than walls were buss to her talk to a convertionity of a transeal object. It trouget to a strange morestation, but their was teenine to as ones of this matucal and change of the part in the mestere.\n",
      "\n",
      "Thene he saw his hishor\n",
      "------------------------\n",
      "------------------------ That night\n",
      "That night with the consert of some came and some thing and the strange serous. There was, but the secilings, and an ascident and certain thimble or shigete with was the sores and the fanmy and said at the pear toon the sounds to the possesser which have to still had tere or some than he sail. And was so manialy and thandy of more and sompthic of the farm in the markelly a terruble coundry. The sace was one with his seening was to the fight in sholt at the porise.,\n",
      "He spore at the stare and any all stiliss\n",
      "------------------------\n",
      "------------------------ mountain\n",
      "mountain, and when he stould be to time and thought alove a cersois thorgell seen of the patelling would be seen to bitt on theer sounds. I seally seemed to be trose that the poited to the sumelity of the chistess of many sunton at it was there was not the matter. When they would had be a formore at the stoun, tare aland,, at it and then sholled, ther along the deemingic and searthing over the mestering seaming of sharow and mesterated of the colonial could before.\n",
      "\n",
      "That as a stepper of the calm of the s\n",
      "------------------------\n",
      "------------------------ Ammi\n",
      "Ammine. I sourd and the strange celling of the same the basked on his consites the creature of the crept and and attance of the patees. The strange crambed and anternt of the paist was a few shirlors which stored the dark, which had speet all simple of his was and certoin, and a searchidg wat had bued of the petsic formed anticulations. Then which he spoke were no mind with a string of the manther, and and crome at his concerrively and astic sont in the strength. In its centor of a mention, but and t\n",
      "------------------------\n",
      "------------------------ Cthulhu\n",
      "Cthulhus, and the plearrr astention which he dad not an only sound the firal and one and the pertors wat importate instranction. The comorers of had been crearable of a strange cranging fillen, and were southing the destroustion and the sore of the pline which he cealed hem to that the perears were betone that this southsing to a price of the murbors of somithel a candition. When they was sone would bo himself in the somathout tases on this convition, have began some of the portoul searon of the profers\n",
      "------------------------\n",
      "------------------------ raven\n",
      "raven wooden and histing, had never bast he seom. It talting a side of the carest will as the colonic lenith, being the distorest of hard and at the most, fould him talks and calterance of hear wat of any alling shook of the folturie and some of in and. In had a fragnest so might be the prastesion of the portious as they considered the changes the fecticiatives which the change of his canter of his crose of the santic and case as a sane tasts and truch as the pally of this circountes in the procured t\n",
      "------------------------\n",
      "------------------------ bird\n",
      "birders and sounds was tinet them in any south in the strentth of the prace it and his sant with the stone will before since at its carelation which the disertions had soon a previous tark on shater on the mouth of mone that the poutting ceared in the most obthicated andest tight which had sathered of the some strange and tares that the pare of stone with the prove in mes seemed sertialed a suncling one on the monthrouter aloug thing. His house with her and seemed that a crange were through the crast\n",
      "------------------------\n",
      "------------------------ nevermore\n",
      "nevermore it would be told of the meanth the begustarcies on the mostory and samp and attencabee on a than the from with a start with its sollod of at its sangeer and and tinde this stict as in this means off, and the contention to the chamber, something and the solic out and thit she seread than him. Toward the morting of the professors and heart one than that tring to see, when I saw the surpents in this pisit to the servertic lest, but was newerably trives of the sounds of the solonor and starst and co\n",
      "------------------------\n",
      "------------------------ dead\n",
      "dead, and at the chaste and to see the decolts of the comprain and that stance of the starchen astencing the men though the stince, he crombed that that sharow was nearly horribly so that the persations of the pessing at the than whisher and talk, what to bost had come of the few and attic pechers of the part to the disturbing almatt thoush, and his case the rambled to most as it was never the serie to steet whach attention with him when I car to see the same aspect of that strong onces works. That w\n",
      "------------------------\n",
      "------------------------ The bird\n",
      "The bird, and he would helt the compo ard the suncourde and the cantice that his frean and cellaric like of the part, or andous on its terrubation of that thought of a santier, and stick and contiture of the compence winhed and a case that hid the filied was nature the search which which stirlly he sad all tempitian at any tark in a mat though his mother a shiller of that work above his father his pilled; though a soles to be the some cimes would see a secroter to the precise intervition of a place of a \n",
      "------------------------\n"
     ]
    }
   ],
   "source": [
    "for i in range(len(text_to_try)):\n",
    "    text = text_to_try[i]\n",
    "    generated = samples[i]\n",
    "    print(\"------------------------\",text)\n",
    "    print(generated)\n",
    "    print(\"------------------------\")"
   ]
  }
 ],
 "metadata": {
  "kernelspec": {
   "display_name": "Python 3",
   "language": "python",
   "name": "python3"
  },
  "language_info": {
   "codemirror_mode": {
    "name": "ipython",
    "version": 3
   },
   "file_extension": ".py",
   "mimetype": "text/x-python",
   "name": "python",
   "nbconvert_exporter": "python",
   "pygments_lexer": "ipython3",
   "version": "3.6.1"
  }
 },
 "nbformat": 4,
 "nbformat_minor": 2
}
