{
 "cells": [
  {
   "cell_type": "markdown",
   "metadata": {},
   "source": [
    "# Recurrent neural networks for H.P Lovecraft text generation\n",
    "\n",
    "\"The color out of space\" is one of my favorite tales from Lovecraft, i will use it(as well as others as the call of cthulhu) to create a recurrent neural network in tensorflow that learns his style and generates new text in his style\n",
    "\n",
    "This network is based off of Andrej Karpathy's [post on RNNs](http://karpathy.github.io/2015/05/21/rnn-effectiveness/) and [implementation in Torch](https://github.com/karpathy/char-rnn) and an example from \"Deep Learning Nanodegree\" on udacity. Also, some information [here at r2rt](http://r2rt.com/recurrent-neural-networks-in-tensorflow-ii.html) and from [Sherjil Ozair](https://github.com/sherjilozair/char-rnn-tensorflow) on GitHub. \n",
    "\n",
    "## General architecture using \"Long short term memory\" units in the recurrent layers\n",
    "\n",
    "<img src=\"assets/charseq.jpeg\" width=\"500\">"
   ]
  },
  {
   "cell_type": "code",
   "execution_count": 1,
   "metadata": {
    "collapsed": true
   },
   "outputs": [],
   "source": [
    "%matplotlib inline\n",
    "%config InlineBackend.figure_format = 'retina'"
   ]
  },
  {
   "cell_type": "code",
   "execution_count": 2,
   "metadata": {
    "collapsed": true
   },
   "outputs": [],
   "source": [
    "import time\n",
    "from collections import namedtuple\n",
    "\n",
    "import numpy as np\n",
    "import tensorflow as tf\n",
    "from nltk.tokenize import word_tokenize\n",
    "import nltk\n",
    "import itertools\n",
    "import matplotlib.pyplot as plt"
   ]
  },
  {
   "cell_type": "code",
   "execution_count": 3,
   "metadata": {
    "collapsed": true
   },
   "outputs": [],
   "source": [
    "# Run only the  first time nltk is used to download language\n",
    "#nltk.download()"
   ]
  },
  {
   "cell_type": "markdown",
   "metadata": {},
   "source": [
    "### Define conf variables and hyper parameteters "
   ]
  },
  {
   "cell_type": "code",
   "execution_count": 4,
   "metadata": {
    "collapsed": true
   },
   "outputs": [],
   "source": [
    "mode = \"characters\" #characters or words\n",
    "\n",
    "epochs = 600\n",
    "batch_size = 100         # Sequences per batch\n",
    "num_steps = 200          # Number of sequence steps per batch\n",
    "lstm_size = 512         # Size of hidden layers in LSTMs\n",
    "num_layers = 2          # Number of LSTM layers\n",
    "learning_rate = 0.0001    # Learning rate\n",
    "keep_prob = 0.2         # Dropout keep probability"
   ]
  },
  {
   "cell_type": "markdown",
   "metadata": {},
   "source": [
    "### Define base text\n",
    "Once trained ,the network can take base text and a sequence size and generate new text using base text as first characters in the sequence. For every element in base text wi will create a list that will store generated text as training goes, to be able to compare results between steps"
   ]
  },
  {
   "cell_type": "code",
   "execution_count": 5,
   "metadata": {
    "collapsed": true
   },
   "outputs": [],
   "source": [
    "text_to_try = [\"In the first place\",\"the night before\",\"horror\",\"creature\",\"night\",\"dream\",\"thing\",\"That night\",\"mountain\",\"Ammi\",\"Cthulhu\",\"raven\",\"bird\",\"nevermore\",\"dead\",\"The bird\"]"
   ]
  },
  {
   "cell_type": "markdown",
   "metadata": {},
   "source": [
    "#### Function that separates text into tokens(for whitespace characters, only new line is implemented, missing tabs and others="
   ]
  },
  {
   "cell_type": "code",
   "execution_count": 6,
   "metadata": {},
   "outputs": [
    {
     "data": {
      "text/plain": [
       "['H',\n",
       " 'e',\n",
       " 'l',\n",
       " 'l',\n",
       " 'o',\n",
       " ',',\n",
       " ' ',\n",
       " 'm',\n",
       " 'y',\n",
       " ' ',\n",
       " 'n',\n",
       " 'a',\n",
       " 'm',\n",
       " 'e',\n",
       " ' ',\n",
       " 'i',\n",
       " 's',\n",
       " ' ',\n",
       " 'L',\n",
       " 'u',\n",
       " 'i',\n",
       " 's',\n",
       " ' ',\n",
       " 'L',\n",
       " 'e',\n",
       " 'a',\n",
       " 'l',\n",
       " '!',\n",
       " '\\n',\n",
       " '\\n',\n",
       " 'F',\n",
       " 'r',\n",
       " 'o',\n",
       " 'm',\n",
       " ' ',\n",
       " 'G',\n",
       " 'u',\n",
       " 'a',\n",
       " 't',\n",
       " 'e',\n",
       " 'm',\n",
       " 'a',\n",
       " 'l',\n",
       " 'a']"
      ]
     },
     "execution_count": 6,
     "metadata": {},
     "output_type": "execute_result"
    }
   ],
   "source": [
    "def tokenize_by_words(text):\n",
    "    text = text.replace(\"\\n\",\" new_line_token \")\n",
    "    tokens = []\n",
    "    splitted =[[word_tokenize(w),' ']for w in text.split()]\n",
    "    splitted = list(itertools.chain(*list(itertools.chain(*splitted))))\n",
    "    \n",
    "    token_list = []\n",
    "    i = 0\n",
    "    while i < len(splitted):\n",
    "        if splitted[i] == \"new_line_token\":\n",
    "            if   token_list[-1]==\" \":\n",
    "                token_list[-1] = splitted[i]\n",
    "            else:\n",
    "                token_list.append(splitted[i])\n",
    "            i+=1\n",
    "        else:\n",
    "            token_list.append(splitted[i])\n",
    "        i+=1\n",
    "    \n",
    "    return token_list\n",
    "\n",
    "def tokenize_by_characters(text):\n",
    "    return list(text)\n",
    "\n",
    "def tokenize_text(text,mode=\"characters\"):\n",
    "    if mode == \"characters\":\n",
    "        return tokenize_by_characters(text)\n",
    "    elif mode == \"words\":\n",
    "        return tokenize_by_words(text)\n",
    "    \n",
    "tokenize_text(\"Hello, my name is Luis Leal!\\n\\nFrom Guatemala\",mode)\n",
    "#tokenize_text(\"Hello, my name is Luis Leal!\\n\\nFrom Guatemala\",\"words\")\n"
   ]
  },
  {
   "cell_type": "markdown",
   "metadata": {},
   "source": [
    "First we'll load the text file and convert it into integers for our network to use. Here I'm creating a couple dictionaries to convert the characters to and from integers. Encoding the characters as integers makes it easier to use as input in the network."
   ]
  },
  {
   "cell_type": "code",
   "execution_count": 7,
   "metadata": {
    "collapsed": true
   },
   "outputs": [],
   "source": [
    "with open('colour_out_of_space.txt', 'r') as f:\n",
    "    text=f.read()"
   ]
  },
  {
   "cell_type": "code",
   "execution_count": 8,
   "metadata": {
    "collapsed": true
   },
   "outputs": [],
   "source": [
    "vocab = set(tokenize_text(text,mode))\n",
    "vocab_to_int = {c: i for i, c in enumerate(vocab)}\n",
    "int_to_vocab = dict(enumerate(vocab))"
   ]
  },
  {
   "cell_type": "markdown",
   "metadata": {},
   "source": [
    "### Get a little portion of text for validation"
   ]
  },
  {
   "cell_type": "code",
   "execution_count": 9,
   "metadata": {},
   "outputs": [],
   "source": [
    "validation_size = batch_size * num_steps #create a single baty\n",
    "validation_start_index = len(text) - validation_size\n",
    "\n",
    "val_text = text[validation_start_index:]\n",
    "text = text[:validation_start_index]"
   ]
  },
  {
   "cell_type": "markdown",
   "metadata": {},
   "source": [
    "Let's check out the first 100 characters of train and validation, make sure everything is peachy.  line of a book ever."
   ]
  },
  {
   "cell_type": "code",
   "execution_count": 10,
   "metadata": {},
   "outputs": [
    {
     "data": {
      "text/plain": [
       "'THE COLOUR OUT OF SPACE\\n\\nWest of Arkham the hills rise wild, and there are valleys with deep woods t'"
      ]
     },
     "execution_count": 10,
     "metadata": {},
     "output_type": "execute_result"
    }
   ],
   "source": [
    "text[:100]"
   ]
  },
  {
   "cell_type": "code",
   "execution_count": 11,
   "metadata": {},
   "outputs": [
    {
     "data": {
      "text/plain": [
       "'  To a discordant melody;\\n   While, like a rapid ghastly river,\\n   Through the pale door,\\n   A hideo'"
      ]
     },
     "execution_count": 11,
     "metadata": {},
     "output_type": "execute_result"
    }
   ],
   "source": [
    "val_text[:100]"
   ]
  },
  {
   "cell_type": "code",
   "execution_count": 12,
   "metadata": {
    "collapsed": true
   },
   "outputs": [],
   "source": [
    "encoded = np.array([vocab_to_int[c] for c in tokenize_text(text,mode)], dtype=np.int32)\n",
    "encoded_val = np.array([vocab_to_int[c] for c in tokenize_text(val_text,mode)],dtype=np.int32)"
   ]
  },
  {
   "cell_type": "markdown",
   "metadata": {},
   "source": [
    "And we can see the characters encoded as integersin both train and validation"
   ]
  },
  {
   "cell_type": "code",
   "execution_count": 13,
   "metadata": {},
   "outputs": [
    {
     "data": {
      "text/plain": [
       "array([55, 75, 50, 42, 60, 17, 77, 17, 16, 40, 42, 17, 16, 55, 42, 17, 41,\n",
       "       42, 74, 18, 31, 60, 50, 87, 87, 10, 84, 61, 36, 42, 32, 63, 42, 31,\n",
       "       46, 27, 43, 56, 37, 42, 36, 43, 84, 42, 43, 13,  2,  2, 61, 42, 46,\n",
       "       13, 61, 84, 42, 48, 13,  2, 21, 24, 42, 56, 64, 21, 42, 36, 43, 84,\n",
       "       46, 84, 42, 56, 46, 84, 42, 11, 56,  2,  2, 84, 57, 61, 42, 48, 13,\n",
       "       36, 43, 42, 21, 84, 84, 71, 42, 48, 32, 32, 21, 61, 42, 36], dtype=int32)"
      ]
     },
     "execution_count": 13,
     "metadata": {},
     "output_type": "execute_result"
    }
   ],
   "source": [
    "encoded[:100]"
   ]
  },
  {
   "cell_type": "code",
   "execution_count": 14,
   "metadata": {},
   "outputs": [
    {
     "data": {
      "text/plain": [
       "array([42, 42, 55, 32, 42, 56, 42, 21, 13, 61,  1, 32, 46, 21, 56, 64, 36,\n",
       "       42, 37, 84,  2, 32, 21, 57, 82, 87, 42, 42, 42, 10, 43, 13,  2, 84,\n",
       "       24, 42,  2, 13, 27, 84, 42, 56, 42, 46, 56, 71, 13, 21, 42, 59, 43,\n",
       "       56, 61, 36,  2, 57, 42, 46, 13, 11, 84, 46, 24, 87, 42, 42, 42, 55,\n",
       "       43, 46, 32, 70, 59, 43, 42, 36, 43, 84, 42, 71, 56,  2, 84, 42, 21,\n",
       "       32, 32, 46, 24, 87, 42, 42, 42, 31, 42, 43, 13, 21, 84, 32], dtype=int32)"
      ]
     },
     "execution_count": 14,
     "metadata": {},
     "output_type": "execute_result"
    }
   ],
   "source": [
    "encoded_val[0:100]"
   ]
  },
  {
   "cell_type": "markdown",
   "metadata": {},
   "source": [
    "Since the network is working with individual english tokens, it's similar to a classification problem in which we are trying to predict the next character from the previous text.  Here's how many 'classes' our network has to pick from."
   ]
  },
  {
   "cell_type": "code",
   "execution_count": 15,
   "metadata": {},
   "outputs": [
    {
     "data": {
      "text/plain": [
       "91"
      ]
     },
     "execution_count": 15,
     "metadata": {},
     "output_type": "execute_result"
    }
   ],
   "source": [
    "len(vocab)"
   ]
  },
  {
   "cell_type": "code",
   "execution_count": 16,
   "metadata": {},
   "outputs": [
    {
     "name": "stdout",
     "output_type": "stream",
     "text": [
      "  To a discordant melody;\n",
      "   While, like a rapid ghastly river,\n",
      "   Through the pale door,\n",
      "   A hideo\n"
     ]
    }
   ],
   "source": [
    "def encoded_to_text(encoded):\n",
    "    return \"\".join([int_to_vocab[number] for number in encoded])\n",
    "\n",
    "print(encoded_to_text(encoded_val[0:100]))"
   ]
  },
  {
   "cell_type": "markdown",
   "metadata": {},
   "source": [
    "## Making training mini-batches\n",
    "\n",
    "Here is where we'll make our mini-batches for training. Remember that we want our batches to be multiple sequences of some desired number of sequence steps. Considering a simple example, our batches would look like this:\n",
    "\n",
    "<img src=\"assets/sequence_batching@1x.png\" width=500px>\n",
    "\n",
    "\n",
    "<br>\n",
    "We have our text encoded as integers as one long array in `encoded`. Let's create a function that will give us an iterator for our batches. I like using [generator functions](https://jeffknupp.com/blog/2013/04/07/improve-your-python-yield-and-generators-explained/) to do this. Then we can pass `encoded` into this function and get our batch generator.\n",
    "\n",
    "The first thing we need to do is discard some of the text so we only have completely full batches. Each batch contains $N \\times M$ characters, where $N$ is the batch size (the number of sequences) and $M$ is the number of steps. Then, to get the number of batches we can make from some array `arr`, you divide the length of `arr` by the batch size. Once you know the number of batches and the batch size, you can get the total number of characters to keep.\n",
    "\n",
    "After that, we need to split `arr` into $N$ sequences. You can do this using `arr.reshape(size)` where `size` is a tuple containing the dimensions sizes of the reshaped array. We know we want $N$ sequences (`n_seqs` below), let's make that the size of the first dimension. For the second dimension, you can use `-1` as a placeholder in the size, it'll fill up the array with the appropriate data for you. After this, you should have an array that is $N \\times (M * K)$ where $K$ is the number of batches.\n",
    "\n",
    "Now that we have this array, we can iterate through it to get our batches. The idea is each batch is a $N \\times M$ window on the array. For each subsequent batch, the window moves over by `n_steps`. We also want to create both the input and target arrays. Remember that the targets are the inputs shifted over one character. You'll usually see the first input character used as the last target character, so something like this:\n",
    "```python\n",
    "y[:, :-1], y[:, -1] = x[:, 1:], x[:, 0]\n",
    "```\n",
    "where `x` is the input batch and `y` is the target batch.\n",
    "\n",
    "The way I like to do this window is use `range` to take steps of size `n_steps` from $0$ to `arr.shape[1]`, the total number of steps in each sequence. That way, the integers you get from `range` always point to the start of a batch, and each window is `n_steps` wide."
   ]
  },
  {
   "cell_type": "code",
   "execution_count": 17,
   "metadata": {
    "collapsed": true
   },
   "outputs": [],
   "source": [
    "def get_batches(arr, n_seqs, n_steps):\n",
    "    '''Create a generator that returns batches of size\n",
    "       n_seqs x n_steps from arr.\n",
    "       \n",
    "       Arguments\n",
    "       ---------\n",
    "       arr: Array you want to make batches from\n",
    "       n_seqs: Batch size, the number of sequences per batch\n",
    "       n_steps: Number of sequence steps per batch\n",
    "    '''\n",
    "    # Get the batch size and number of batches we can make\n",
    "    batch_size = n_seqs * n_steps \n",
    "    n_batches =  len(arr)//batch_size\n",
    "    \n",
    "    # Keep only enough characters to make full batches\n",
    "    arr =  arr[:n_batches*batch_size]\n",
    "    \n",
    "    # Reshape into n_seqs rows\n",
    "    arr = arr.reshape((n_seqs,-1))\n",
    "    \n",
    "    for n in range(0, arr.shape[1], n_steps):\n",
    "        # The features\n",
    "        x = arr[:,n:n+n_steps]\n",
    "        # The targets, shifted by one\n",
    "        y = np.zeros(x.shape)\n",
    "        y[:,:-1],y[:,-1] = x[:,1:] ,x[:,0]\n",
    "        yield x, y"
   ]
  },
  {
   "cell_type": "markdown",
   "metadata": {},
   "source": [
    "Now I'll make my data sets and we can check out what's going on here. Here I'm going to use a batch size of 10 and 50 sequence steps."
   ]
  },
  {
   "cell_type": "code",
   "execution_count": 18,
   "metadata": {
    "collapsed": true
   },
   "outputs": [],
   "source": [
    "batches = get_batches(encoded, 10, 50)\n",
    "x, y = next(batches)"
   ]
  },
  {
   "cell_type": "code",
   "execution_count": 19,
   "metadata": {},
   "outputs": [
    {
     "name": "stdout",
     "output_type": "stream",
     "text": [
      "x\n",
      " [[55 75 50 42 60 17 77 17 16 40]\n",
      " [61 42 32 63 42 36 43 84 42 21]\n",
      " [84 42  2 32 11 84  2 57 42  1]\n",
      " [ 1 43 84 46 42 46 84  1 32 59]\n",
      " [84 42 36 32 42 61 56 57 14 42]\n",
      " [11 13 64 59 42 32 63 42 36 43]\n",
      " [61 61 54 59 46 32 48 64 42  1]\n",
      " [71 71 84 64 21 56 59 84 61 24]\n",
      " [32 81 15 84  1 36 61 53 81 70]\n",
      " [32 82 42 13 63 42 32 64  2 57]]\n",
      "\n",
      "y\n",
      " [[ 75.  50.  42.  60.  17.  77.  17.  16.  40.  42.]\n",
      " [ 42.  32.  63.  42.  36.  43.  84.  42.  21.  32.]\n",
      " [ 42.   2.  32.  11.  84.   2.  57.  42.   1.   2.]\n",
      " [ 43.  84.  46.  42.  46.  84.   1.  32.  59.  64.]\n",
      " [ 42.  36.  32.  42.  61.  56.  57.  14.  42.  50.]\n",
      " [ 13.  64.  59.  42.  32.  63.  42.  36.  43.  84.]\n",
      " [ 61.  54.  59.  46.  32.  48.  64.  42.   1.  56.]\n",
      " [ 71.  84.  64.  21.  56.  59.  84.  61.  24.  42.]\n",
      " [ 81.  15.  84.   1.  36.  61.  53.  81.  70.  36.]\n",
      " [ 82.  42.  13.  63.  42.  32.  64.   2.  57.  42.]]\n"
     ]
    }
   ],
   "source": [
    "print('x\\n', x[:10, :10])\n",
    "print('\\ny\\n', y[:10, :10])"
   ]
  },
  {
   "cell_type": "markdown",
   "metadata": {},
   "source": [
    "## Building the model\n",
    "\n",
    "Below is where you'll build the network. We'll break it up into parts so it's easier to reason about each bit. Then we can connect them up into the whole network.\n",
    "\n",
    "<img src=\"assets/charRNN.png\" width=500px>\n",
    "\n",
    "\n",
    "### Inputs\n",
    "\n",
    "First off we'll create our input placeholders. As usual we need placeholders for the training data and the targets. We'll also create a placeholder for dropout layers called `keep_prob`. This will be a scalar, that is a 0-D tensor. To make a scalar, you create a placeholder without giving it a size."
   ]
  },
  {
   "cell_type": "code",
   "execution_count": 20,
   "metadata": {
    "collapsed": true
   },
   "outputs": [],
   "source": [
    "def build_inputs(batch_size, num_steps):\n",
    "    ''' Define placeholders for inputs, targets, and dropout \n",
    "    \n",
    "        Arguments\n",
    "        ---------\n",
    "        batch_size: Batch size, number of sequences per batch\n",
    "        num_steps: Number of sequence steps in a batch\n",
    "        \n",
    "    '''\n",
    "    # Declare placeholders we'll feed into the graph\n",
    "    inputs = tf.placeholder(tf.int32,[batch_size,num_steps],name=\"inputs\")\n",
    "    targets = tf.placeholder(tf.int32,[batch_size,num_steps],name=\"targets\")\n",
    "    \n",
    "    # Keep probability placeholder for drop out layers\n",
    "    keep_prob = tf.placeholder(tf.float32,name=\"keep_prob\")\n",
    "    \n",
    "    return inputs, targets, keep_prob"
   ]
  },
  {
   "cell_type": "markdown",
   "metadata": {},
   "source": [
    "### LSTM Cell\n",
    "\n",
    "Here we will create the LSTM cell we'll use in the hidden layer. We'll use this cell as a building block for the RNN. So we aren't actually defining the RNN here, just the type of cell we'll use in the hidden layer.\n",
    "\n",
    "We first create a basic LSTM cell with\n",
    "\n",
    "```python\n",
    "lstm = tf.contrib.rnn.BasicLSTMCell(num_units)\n",
    "```\n",
    "\n",
    "where `num_units` is the number of units in the hidden layers in the cell. Then we can add dropout by wrapping it with \n",
    "\n",
    "```python\n",
    "tf.contrib.rnn.DropoutWrapper(lstm, output_keep_prob=keep_prob)\n",
    "```\n",
    "You pass in a cell and it will automatically add dropout to the inputs or outputs. Finally, we can stack up the LSTM cells into layers with [`tf.contrib.rnn.MultiRNNCell`](https://www.tensorflow.org/versions/r1.0/api_docs/python/tf/contrib/rnn/MultiRNNCell). With this, you pass in a list of cells and it will send the output of one cell into the next cell. For example,\n",
    "\n",
    "```python\n",
    "tf.contrib.rnn.MultiRNNCell([cell]*num_layers)\n",
    "```\n",
    "\n",
    "This might look a little weird if you know Python well because this will create a list of the same `cell` object. However, TensorFlow will create different weight matrices for all `cell` objects. Even though this is actually multiple LSTM cells stacked on each other, you can treat the multiple layers as one cell.\n",
    "\n",
    "We also need to create an initial cell state of all zeros. This can be done like so\n",
    "\n",
    "```python\n",
    "initial_state = cell.zero_state(batch_size, tf.float32)\n",
    "```\n"
   ]
  },
  {
   "cell_type": "code",
   "execution_count": 21,
   "metadata": {
    "collapsed": true
   },
   "outputs": [],
   "source": [
    "def build_lstm(lstm_size, num_layers, batch_size, keep_prob):\n",
    "    ''' Build LSTM cell.\n",
    "    \n",
    "        Arguments\n",
    "        ---------\n",
    "        keep_prob: Scalar tensor (tf.placeholder) for the dropout keep probability\n",
    "        lstm_size: Size of the hidden layers in the LSTM cells\n",
    "        num_layers: Number of LSTM layers\n",
    "        batch_size: Batch size\n",
    "\n",
    "    '''\n",
    "    ### Build the LSTM Cell\n",
    "    # Use a basic LSTM cell\n",
    "    # Add dropout to the cell outputs\n",
    "    # Stack up multiple LSTM layers, for deep learning\n",
    "    cell = tf.contrib.rnn.MultiRNNCell([tf.contrib.rnn.DropoutWrapper( tf.contrib.rnn.BasicLSTMCell(lstm_size),output_keep_prob = keep_prob) for _ in range(num_layers)])\n",
    "    initial_state = cell.zero_state(batch_size,tf.float32)\n",
    "    \n",
    "    return cell, initial_state"
   ]
  },
  {
   "cell_type": "markdown",
   "metadata": {},
   "source": [
    "### RNN Output\n",
    "\n",
    "Here we'll create the output layer. We need to connect the output of the RNN cells to a full connected layer with a softmax output. The softmax output gives us a probability distribution we can use to predict the next character, so we want this layer to have size $C$, the number of classes/characters we have in our text.\n",
    "\n",
    "If our input has batch size $N$, number of steps $M$, and the hidden layer has $L$ hidden units, then the output is a 3D tensor with size $N \\times M \\times L$. The output of each LSTM cell has size $L$, we have $M$ of them, one for each sequence step, and we have $N$ sequences. So the total size is $N \\times M \\times L$. \n",
    "\n",
    "We are using the same fully connected layer, the same weights, for each of the outputs. Then, to make things easier, we should reshape the outputs into a 2D tensor with shape $(M * N) \\times L$. That is, one row for each sequence and step, where the values of each row are the output from the LSTM cells. We get the LSTM output as a list, `lstm_output`. First we need to concatenate this whole list into one array with [`tf.concat`](https://www.tensorflow.org/api_docs/python/tf/concat). Then, reshape it (with `tf.reshape`) to size $(M * N) \\times L$.\n",
    "\n",
    "One we have the outputs reshaped, we can do the matrix multiplication with the weights. We need to wrap the weight and bias variables in a variable scope with `tf.variable_scope(scope_name)` because there are weights being created in the LSTM cells. TensorFlow will throw an error if the weights created here have the same names as the weights created in the LSTM cells, which they will be default. To avoid this, we wrap the variables in a variable scope so we can give them unique names.\n"
   ]
  },
  {
   "cell_type": "code",
   "execution_count": 22,
   "metadata": {
    "collapsed": true
   },
   "outputs": [],
   "source": [
    "def build_output(lstm_output, in_size, out_size):\n",
    "    ''' Build a softmax layer, return the softmax output and logits.\n",
    "    \n",
    "        Arguments\n",
    "        ---------\n",
    "        \n",
    "        lstm_output: List of output tensors from the LSTM layer\n",
    "        in_size: Size of the input tensor, for example, size of the LSTM cells\n",
    "        out_size: Size of this softmax layer\n",
    "    \n",
    "    '''\n",
    "\n",
    "    # Reshape output so it's a bunch of rows, one row for each step for each sequence.\n",
    "    # Concatenate lstm_output over axis 1 (the columns)\n",
    "    seq_output = tf.concat(lstm_output,axis=1)\n",
    "    # Reshape seq_output to a 2D tensor with lstm_size columns\n",
    "    x = tf.reshape(seq_output,[-1,in_size])\n",
    "    \n",
    "    # Connect the RNN outputs to a softmax layer\n",
    "    with tf.variable_scope('softmax'):\n",
    "        # Create the weight and bias variables here\n",
    "        softmax_w = tf.Variable(tf.truncated_normal((in_size, out_size),stddev=0.1))\n",
    "        softmax_b = tf.Variable(tf.zeros([out_size]))\n",
    "    \n",
    "    # Since output is a bunch of rows of RNN cell outputs, logits will be a bunch\n",
    "    # of rows of logit outputs, one for each step and sequence\n",
    "    logits =  tf.add(tf.matmul(x,softmax_w),softmax_b) \n",
    "    \n",
    "    # Use softmax to get the probabilities for predicted characters\n",
    "    out = tf.nn.softmax(logits,name =\"out\")\n",
    "    \n",
    "    return out, logits"
   ]
  },
  {
   "cell_type": "markdown",
   "metadata": {},
   "source": [
    "### Training loss\n",
    "\n",
    "Next up is the training loss. We get the logits and targets and calculate the softmax cross-entropy loss. First we need to one-hot encode the targets, we're getting them as encoded characters. Then, reshape the one-hot targets so it's a 2D tensor with size $(M*N) \\times C$ where $C$ is the number of classes/characters we have. Remember that we reshaped the LSTM outputs and ran them through a fully connected layer with $C$ units. So our logits will also have size $(M*N) \\times C$.\n",
    "\n",
    "Then we run the logits and targets through `tf.nn.softmax_cross_entropy_with_logits` and find the mean to get the loss."
   ]
  },
  {
   "cell_type": "code",
   "execution_count": 23,
   "metadata": {
    "collapsed": true
   },
   "outputs": [],
   "source": [
    "def build_loss(logits, targets, lstm_size, num_classes):\n",
    "    ''' Calculate the loss from the logits and the targets.\n",
    "    \n",
    "        Arguments\n",
    "        ---------\n",
    "        logits: Logits from final fully connected layer\n",
    "        targets: Targets for supervised learning\n",
    "        lstm_size: Number of LSTM hidden units\n",
    "        num_classes: Number of classes in targets\n",
    "        \n",
    "    '''\n",
    "    # One-hot encode targets and reshape to match logits, one row per sequence per step\n",
    "    y_one_hot = tf.one_hot(targets,num_classes)\n",
    "    y_reshaped =  tf.reshape(y_one_hot,logits.get_shape())\n",
    "    \n",
    "    # Softmax cross entropy loss\n",
    "    loss = tf.reduce_mean(tf.nn.softmax_cross_entropy_with_logits(logits=logits,labels=y_reshaped))\n",
    "    \n",
    "    return loss"
   ]
  },
  {
   "cell_type": "markdown",
   "metadata": {},
   "source": [
    "### Optimizer\n",
    "\n",
    "Here we build the optimizer. Normal RNNs have have issues gradients exploding and disappearing. LSTMs fix the disappearance problem, but the gradients can still grow without bound. To fix this, we can clip the gradients above some threshold. That is, if a gradient is larger than that threshold, we set it to the threshold. This will ensure the gradients never grow overly large. Then we use an AdamOptimizer for the learning step."
   ]
  },
  {
   "cell_type": "code",
   "execution_count": 24,
   "metadata": {
    "collapsed": true
   },
   "outputs": [],
   "source": [
    "def build_optimizer(loss, learning_rate, grad_clip,global_step):\n",
    "    ''' Build optmizer for training, using gradient clipping.\n",
    "    \n",
    "        Arguments:\n",
    "        loss: Network loss\n",
    "        learning_rate: Learning rate for optimizer\n",
    "        global_step: to control the total number of train steps\n",
    "    \n",
    "    '''\n",
    "    \n",
    "    # Optimizer for training, using gradient clipping to control exploding gradients\n",
    "    tvars = tf.trainable_variables()\n",
    "    grads, _ = tf.clip_by_global_norm(tf.gradients(loss, tvars), grad_clip)\n",
    "    train_op = tf.train.AdamOptimizer(learning_rate)\n",
    "    optimizer = train_op.apply_gradients(zip(grads, tvars),global_step)\n",
    "    \n",
    "    return optimizer"
   ]
  },
  {
   "cell_type": "markdown",
   "metadata": {},
   "source": [
    "### Build the network\n",
    "\n",
    "Now we can put all the pieces together and build a class for the network. To actually run data through the LSTM cells, we will use [`tf.nn.dynamic_rnn`](https://www.tensorflow.org/versions/r1.0/api_docs/python/tf/nn/dynamic_rnn). This function will pass the hidden and cell states across LSTM cells appropriately for us. It returns the outputs for each LSTM cell at each step for each sequence in the mini-batch. It also gives us the final LSTM state. We want to save this state as `final_state` so we can pass it to the first LSTM cell in the the next mini-batch run. For `tf.nn.dynamic_rnn`, we pass in the cell and initial state we get from `build_lstm`, as well as our input sequences. Also, we need to one-hot encode the inputs before going into the RNN. \n"
   ]
  },
  {
   "cell_type": "code",
   "execution_count": 25,
   "metadata": {
    "collapsed": true
   },
   "outputs": [],
   "source": [
    "class CharRNN:\n",
    "    \n",
    "    def __init__(self, num_classes, batch_size=64, num_steps=50, \n",
    "                       lstm_size=128, num_layers=2, learning_rate=0.001, \n",
    "                       grad_clip=5, sampling=False):\n",
    "    \n",
    "        # When we're using this network for sampling later, we'll be passing in\n",
    "        # one character at a time, so providing an option for that\n",
    "        if sampling == True:\n",
    "            batch_size, num_steps = 1, 1\n",
    "        else:\n",
    "            batch_size, num_steps = batch_size, num_steps\n",
    "\n",
    "        tf.reset_default_graph()\n",
    "        \n",
    "        self.global_step_tensor = tf.Variable(0,trainable=False,name = \"global_step\")\n",
    "        # Build the input placeholder tensors\n",
    "        self.inputs, self.targets, self.keep_prob = build_inputs(batch_size,num_steps)\n",
    "        # Build the LSTM cell\n",
    "        cell, self.initial_state = build_lstm(lstm_size,num_layers,batch_size,self.keep_prob)\n",
    "        ### Run the data through the RNN layers\n",
    "        # First, one-hot encode the input tokens\n",
    "        x_one_hot = tf.one_hot(self.inputs,num_classes)\n",
    "        \n",
    "        # Run each sequence step through the RNN with tf.nn.dynamic_rnn \n",
    "        outputs, state = tf.nn.dynamic_rnn(cell,x_one_hot,initial_state=self.initial_state)\n",
    "        self.final_state = state\n",
    "        \n",
    "        # Get softmax predictions and logits\n",
    "        self.prediction, self.logits = build_output(outputs,lstm_size,num_classes)\n",
    "        \n",
    "        # Loss and optimizer (with gradient clipping)\n",
    "        self.loss =  build_loss(self.logits,self.targets,lstm_size,num_classes)\n",
    "        self.optimizer = build_optimizer(self.loss,learning_rate,grad_clip,self.global_step_tensor)"
   ]
  },
  {
   "cell_type": "markdown",
   "metadata": {},
   "source": [
    "## Hyperparameters\n",
    "\n",
    "Here are the hyperparameters for the network.\n",
    "\n",
    "* `batch_size` - Number of sequences running through the network in one pass.\n",
    "* `num_steps` - Number of characters in the sequence the network is trained on. Larger is better typically, the network will learn more long range dependencies. But it takes longer to train. 100 is typically a good number here.\n",
    "* `lstm_size` - The number of units in the hidden layers.\n",
    "* `num_layers` - Number of hidden LSTM layers to use\n",
    "* `learning_rate` - Learning rate for training\n",
    "* `keep_prob` - The dropout keep probability when training. If you're network is overfitting, try decreasing this.\n",
    "\n",
    "Here's some good advice from Andrej Karpathy on training the network:. \n",
    "\n",
    "> ## Tips and Tricks\n",
    "\n",
    ">### Monitoring Validation Loss vs. Training Loss\n",
    ">If you're somewhat new to Machine Learning or Neural Networks it can take a bit of expertise to get good models. The most important quantity to keep track of is the difference between your training loss (printed during training) and the validation loss (printed once in a while when the RNN is run on the validation data (by default every 1000 iterations)). In particular:\n",
    "\n",
    "> - If your training loss is much lower than validation loss then this means the network might be **overfitting**. Solutions to this are to decrease your network size, or to increase dropout. For example you could try dropout of 0.5 and so on.\n",
    "> - If your training/validation loss are about equal then your model is **underfitting**. Increase the size of your model (either number of layers or the raw number of neurons per layer)\n",
    "\n",
    "> ### Approximate number of parameters\n",
    "\n",
    "> The two most important parameters that control the model are `lstm_size` and `num_layers`. I would advise that you always use `num_layers` of either 2/3. The `lstm_size` can be adjusted based on how much data you have. The two important quantities to keep track of here are:\n",
    "\n",
    "> - The number of parameters in your model. This is printed when you start training.\n",
    "> - The size of your dataset. 1MB file is approximately 1 million characters.\n",
    "\n",
    ">These two should be about the same order of magnitude. It's a little tricky to tell. Here are some examples:\n",
    "\n",
    "> - I have a 100MB dataset and I'm using the default parameter settings (which currently print 150K parameters). My data size is significantly larger (100 mil >> 0.15 mil), so I expect to heavily underfit. I am thinking I can comfortably afford to make `lstm_size` larger.\n",
    "> - I have a 10MB dataset and running a 10 million parameter model. I'm slightly nervous and I'm carefully monitoring my validation loss. If it's larger than my training loss then I may want to try to increase dropout a bit and see if that helps the validation loss.\n",
    "\n",
    "> ### Best models strategy\n",
    "\n",
    ">The winning strategy to obtaining very good models (if you have the compute time) is to always err on making the network larger (as large as you're willing to wait for it to compute) and then try different dropout values (between 0,1). Whatever model has the best validation performance (the loss, written in the checkpoint filename, low is good) is the one you should use in the end.\n",
    "\n",
    ">It is very common in deep learning to run many different models with many different hyperparameter settings, and in the end take whatever checkpoint gave the best validation performance.\n",
    "\n",
    ">By the way, the size of your training and validation splits are also parameters. Make sure you have a decent amount of data in your validation set or otherwise the validation performance will be noisy and not very informative."
   ]
  },
  {
   "cell_type": "code",
   "execution_count": 26,
   "metadata": {
    "collapsed": true
   },
   "outputs": [],
   "source": [
    "def get_number_of_parameters():\n",
    "    total_parameters = 0\n",
    "    for variable in tf.trainable_variables():\n",
    "        shape = variable.get_shape()\n",
    "        #print(shape)\n",
    "        #print(len(shape))\n",
    "        variable_parameters = 1\n",
    "        \n",
    "        for dim in shape:\n",
    "            #print(dim)\n",
    "            variable_parameters*=dim.value\n",
    "        #print(variable_parameters)\n",
    "        total_parameters+= variable_parameters\n",
    "    return total_parameters"
   ]
  },
  {
   "cell_type": "code",
   "execution_count": 27,
   "metadata": {
    "collapsed": true
   },
   "outputs": [],
   "source": [
    "def pick_top_n(preds, vocab_size, top_n=5):\n",
    "    p = np.squeeze(preds)\n",
    "    p[np.argsort(p)[:-top_n]] = 0\n",
    "    p = p / np.sum(p)\n",
    "    c = np.random.choice(vocab_size, 1, p=p)[0]\n",
    "    return c"
   ]
  },
  {
   "cell_type": "markdown",
   "metadata": {},
   "source": [
    "## Time for training\n",
    "\n",
    "This is typical training code, passing inputs and targets into the network, then running the optimizer. Here we also get back the final LSTM state for the mini-batch. Then, we pass that state back into the network so the next batch can continue the state from the previous batch. And every so often (set by `save_every_n`) I save a checkpoint.\n",
    "\n",
    "Here I'm saving checkpoints with the format\n",
    "\n",
    "`i{iteration number}_l{# hidden layer units}.ckpt`\n"
   ]
  },
  {
   "cell_type": "code",
   "execution_count": 28,
   "metadata": {
    "collapsed": true
   },
   "outputs": [],
   "source": [
    "losses = {\"train\":[],\"validation\":[]}\n",
    "x_steps = list()"
   ]
  },
  {
   "cell_type": "code",
   "execution_count": 29,
   "metadata": {
    "collapsed": true
   },
   "outputs": [],
   "source": [
    "resume_from_checkpoint = False"
   ]
  },
  {
   "cell_type": "code",
   "execution_count": 30,
   "metadata": {
    "scrolled": true
   },
   "outputs": [
    {
     "name": "stdout",
     "output_type": "stream",
     "text": [
      "Number of parameters: 3382875 Dataset size: 890878\n",
      "Epoch: 1/600...  Training Step: 1...  Training loss: 4.5103...  Val loss: 4.5004...  0.4804 sec/batch\n",
      "WARNING:tensorflow:Error encountered when serializing LAYER_NAME_UIDS.\n",
      "Type is unsupported, or the types of the items don't match field type in CollectionDef.\n",
      "'dict' object has no attribute 'name'\n",
      "Epoch: 3/600...  Training Step: 101...  Training loss: 3.3054...  Val loss: 3.1212...  0.3073 sec/batch\n",
      "Epoch: 5/600...  Training Step: 201...  Training loss: 3.2251...  Val loss: 3.0742...  0.3088 sec/batch\n",
      "Epoch: 7/600...  Training Step: 301...  Training loss: 3.1556...  Val loss: 3.0428...  0.3082 sec/batch\n",
      "Epoch: 10/600...  Training Step: 401...  Training loss: 3.0958...  Val loss: 2.9974...  0.3089 sec/batch\n",
      "Epoch: 12/600...  Training Step: 501...  Training loss: 2.9903...  Val loss: 2.8733...  0.3284 sec/batch\n",
      "WARNING:tensorflow:Error encountered when serializing LAYER_NAME_UIDS.\n",
      "Type is unsupported, or the types of the items don't match field type in CollectionDef.\n",
      "'dict' object has no attribute 'name'\n",
      "Epoch: 14/600...  Training Step: 601...  Training loss: 2.8864...  Val loss: 2.7243...  0.3085 sec/batch\n",
      "Epoch: 16/600...  Training Step: 701...  Training loss: 2.7474...  Val loss: 2.5845...  0.3281 sec/batch\n",
      "Epoch: 19/600...  Training Step: 801...  Training loss: 2.6651...  Val loss: 2.5005...  0.3141 sec/batch\n",
      "Epoch: 21/600...  Training Step: 901...  Training loss: 2.6044...  Val loss: 2.4528...  0.3094 sec/batch\n",
      "Epoch: 23/600...  Training Step: 1001...  Training loss: 2.6026...  Val loss: 2.4094...  0.3187 sec/batch\n",
      "WARNING:tensorflow:Error encountered when serializing LAYER_NAME_UIDS.\n",
      "Type is unsupported, or the types of the items don't match field type in CollectionDef.\n",
      "'dict' object has no attribute 'name'\n",
      "Epoch: 26/600...  Training Step: 1101...  Training loss: 2.5883...  Val loss: 2.3731...  0.3102 sec/batch\n",
      "Epoch: 28/600...  Training Step: 1201...  Training loss: 2.5136...  Val loss: 2.3433...  0.3134 sec/batch\n",
      "Epoch: 30/600...  Training Step: 1301...  Training loss: 2.4979...  Val loss: 2.3157...  0.3107 sec/batch\n",
      "Epoch: 32/600...  Training Step: 1401...  Training loss: 2.4405...  Val loss: 2.2899...  0.3096 sec/batch\n",
      "Epoch: 35/600...  Training Step: 1501...  Training loss: 2.4254...  Val loss: 2.2683...  0.3102 sec/batch\n",
      "WARNING:tensorflow:Error encountered when serializing LAYER_NAME_UIDS.\n",
      "Type is unsupported, or the types of the items don't match field type in CollectionDef.\n",
      "'dict' object has no attribute 'name'\n",
      "Epoch: 37/600...  Training Step: 1601...  Training loss: 2.3998...  Val loss: 2.2450...  0.3307 sec/batch\n",
      "Epoch: 39/600...  Training Step: 1701...  Training loss: 2.4029...  Val loss: 2.2250...  0.3191 sec/batch\n",
      "Epoch: 41/600...  Training Step: 1801...  Training loss: 2.3604...  Val loss: 2.2079...  0.3102 sec/batch\n",
      "Epoch: 44/600...  Training Step: 1901...  Training loss: 2.3326...  Val loss: 2.1882...  0.3141 sec/batch\n",
      "Epoch: 46/600...  Training Step: 2001...  Training loss: 2.3161...  Val loss: 2.1725...  0.3100 sec/batch\n",
      "WARNING:tensorflow:Error encountered when serializing LAYER_NAME_UIDS.\n",
      "Type is unsupported, or the types of the items don't match field type in CollectionDef.\n",
      "'dict' object has no attribute 'name'\n",
      "Epoch: 48/600...  Training Step: 2101...  Training loss: 2.3308...  Val loss: 2.1573...  0.3221 sec/batch\n",
      "Epoch: 51/600...  Training Step: 2201...  Training loss: 2.3225...  Val loss: 2.1429...  0.3347 sec/batch\n",
      "Epoch: 53/600...  Training Step: 2301...  Training loss: 2.2848...  Val loss: 2.1271...  0.3101 sec/batch\n",
      "Epoch: 55/600...  Training Step: 2401...  Training loss: 2.2939...  Val loss: 2.1145...  0.3103 sec/batch\n",
      "Epoch: 57/600...  Training Step: 2501...  Training loss: 2.2476...  Val loss: 2.1002...  0.3095 sec/batch\n",
      "WARNING:tensorflow:Error encountered when serializing LAYER_NAME_UIDS.\n",
      "Type is unsupported, or the types of the items don't match field type in CollectionDef.\n",
      "'dict' object has no attribute 'name'\n",
      "Epoch: 60/600...  Training Step: 2601...  Training loss: 2.2289...  Val loss: 2.0865...  0.3102 sec/batch\n",
      "Epoch: 62/600...  Training Step: 2701...  Training loss: 2.2266...  Val loss: 2.0740...  0.3096 sec/batch\n",
      "Epoch: 64/600...  Training Step: 2801...  Training loss: 2.2432...  Val loss: 2.0638...  0.3103 sec/batch\n",
      "Epoch: 66/600...  Training Step: 2901...  Training loss: 2.2011...  Val loss: 2.0543...  0.3101 sec/batch\n",
      "Epoch: 69/600...  Training Step: 3001...  Training loss: 2.1817...  Val loss: 2.0412...  0.3211 sec/batch\n",
      "WARNING:tensorflow:Error encountered when serializing LAYER_NAME_UIDS.\n",
      "Type is unsupported, or the types of the items don't match field type in CollectionDef.\n",
      "'dict' object has no attribute 'name'\n",
      "Epoch: 71/600...  Training Step: 3101...  Training loss: 2.1741...  Val loss: 2.0301...  0.3092 sec/batch\n",
      "Epoch: 73/600...  Training Step: 3201...  Training loss: 2.1969...  Val loss: 2.0206...  0.3129 sec/batch\n",
      "Epoch: 76/600...  Training Step: 3301...  Training loss: 2.1863...  Val loss: 2.0104...  0.3104 sec/batch\n",
      "Epoch: 78/600...  Training Step: 3401...  Training loss: 2.1476...  Val loss: 1.9997...  0.3120 sec/batch\n",
      "Epoch: 80/600...  Training Step: 3501...  Training loss: 2.1781...  Val loss: 1.9901...  0.3140 sec/batch\n",
      "WARNING:tensorflow:Error encountered when serializing LAYER_NAME_UIDS.\n",
      "Type is unsupported, or the types of the items don't match field type in CollectionDef.\n",
      "'dict' object has no attribute 'name'\n",
      "Epoch: 82/600...  Training Step: 3601...  Training loss: 2.1216...  Val loss: 1.9816...  0.3111 sec/batch\n",
      "Epoch: 85/600...  Training Step: 3701...  Training loss: 2.1200...  Val loss: 1.9710...  0.3107 sec/batch\n",
      "Epoch: 87/600...  Training Step: 3801...  Training loss: 2.1109...  Val loss: 1.9606...  0.3112 sec/batch\n",
      "Epoch: 89/600...  Training Step: 3901...  Training loss: 2.1412...  Val loss: 1.9548...  0.3104 sec/batch\n",
      "Epoch: 91/600...  Training Step: 4001...  Training loss: 2.1011...  Val loss: 1.9464...  0.3105 sec/batch\n",
      "WARNING:tensorflow:Error encountered when serializing LAYER_NAME_UIDS.\n",
      "Type is unsupported, or the types of the items don't match field type in CollectionDef.\n",
      "'dict' object has no attribute 'name'\n",
      "Epoch: 94/600...  Training Step: 4101...  Training loss: 2.0716...  Val loss: 1.9386...  0.3106 sec/batch\n",
      "Epoch: 96/600...  Training Step: 4201...  Training loss: 2.0693...  Val loss: 1.9259...  0.3223 sec/batch\n",
      "Epoch: 98/600...  Training Step: 4301...  Training loss: 2.0987...  Val loss: 1.9223...  0.3238 sec/batch\n",
      "Epoch: 101/600...  Training Step: 4401...  Training loss: 2.0911...  Val loss: 1.9144...  0.3246 sec/batch\n",
      "Epoch: 103/600...  Training Step: 4501...  Training loss: 2.0496...  Val loss: 1.9069...  0.3253 sec/batch\n",
      "WARNING:tensorflow:Error encountered when serializing LAYER_NAME_UIDS.\n",
      "Type is unsupported, or the types of the items don't match field type in CollectionDef.\n",
      "'dict' object has no attribute 'name'\n",
      "Epoch: 105/600...  Training Step: 4601...  Training loss: 2.0771...  Val loss: 1.8990...  0.3145 sec/batch\n",
      "Epoch: 107/600...  Training Step: 4701...  Training loss: 2.0251...  Val loss: 1.8939...  0.3231 sec/batch\n",
      "Epoch: 110/600...  Training Step: 4801...  Training loss: 2.0200...  Val loss: 1.8818...  0.3212 sec/batch\n",
      "Epoch: 112/600...  Training Step: 4901...  Training loss: 2.0150...  Val loss: 1.8768...  0.3230 sec/batch\n",
      "Epoch: 114/600...  Training Step: 5001...  Training loss: 2.0608...  Val loss: 1.8703...  0.3317 sec/batch\n",
      "WARNING:tensorflow:Error encountered when serializing LAYER_NAME_UIDS.\n",
      "Type is unsupported, or the types of the items don't match field type in CollectionDef.\n",
      "'dict' object has no attribute 'name'\n",
      "Epoch: 116/600...  Training Step: 5101...  Training loss: 2.0168...  Val loss: 1.8654...  0.3103 sec/batch\n",
      "Epoch: 119/600...  Training Step: 5201...  Training loss: 1.9963...  Val loss: 1.8578...  0.3144 sec/batch\n",
      "Epoch: 121/600...  Training Step: 5301...  Training loss: 1.9892...  Val loss: 1.8494...  0.3134 sec/batch\n",
      "Epoch: 123/600...  Training Step: 5401...  Training loss: 2.0145...  Val loss: 1.8450...  0.3108 sec/batch\n",
      "Epoch: 126/600...  Training Step: 5501...  Training loss: 2.0102...  Val loss: 1.8401...  0.3240 sec/batch\n",
      "WARNING:tensorflow:Error encountered when serializing LAYER_NAME_UIDS.\n",
      "Type is unsupported, or the types of the items don't match field type in CollectionDef.\n",
      "'dict' object has no attribute 'name'\n"
     ]
    },
    {
     "name": "stdout",
     "output_type": "stream",
     "text": [
      "Epoch: 128/600...  Training Step: 5601...  Training loss: 1.9798...  Val loss: 1.8331...  0.3251 sec/batch\n",
      "Epoch: 130/600...  Training Step: 5701...  Training loss: 2.0105...  Val loss: 1.8281...  0.3254 sec/batch\n",
      "Epoch: 132/600...  Training Step: 5801...  Training loss: 1.9543...  Val loss: 1.8224...  0.3241 sec/batch\n",
      "Epoch: 135/600...  Training Step: 5901...  Training loss: 1.9507...  Val loss: 1.8174...  0.3250 sec/batch\n",
      "Epoch: 137/600...  Training Step: 6001...  Training loss: 1.9520...  Val loss: 1.8108...  0.3241 sec/batch\n",
      "WARNING:tensorflow:Error encountered when serializing LAYER_NAME_UIDS.\n",
      "Type is unsupported, or the types of the items don't match field type in CollectionDef.\n",
      "'dict' object has no attribute 'name'\n",
      "Epoch: 139/600...  Training Step: 6101...  Training loss: 1.9909...  Val loss: 1.8071...  0.3248 sec/batch\n",
      "Epoch: 141/600...  Training Step: 6201...  Training loss: 1.9496...  Val loss: 1.8028...  0.3241 sec/batch\n",
      "Epoch: 144/600...  Training Step: 6301...  Training loss: 1.9344...  Val loss: 1.7968...  0.3247 sec/batch\n",
      "Epoch: 146/600...  Training Step: 6401...  Training loss: 1.9289...  Val loss: 1.7907...  0.3242 sec/batch\n",
      "Epoch: 148/600...  Training Step: 6501...  Training loss: 1.9580...  Val loss: 1.7870...  0.3106 sec/batch\n",
      "WARNING:tensorflow:Error encountered when serializing LAYER_NAME_UIDS.\n",
      "Type is unsupported, or the types of the items don't match field type in CollectionDef.\n",
      "'dict' object has no attribute 'name'\n",
      "Epoch: 151/600...  Training Step: 6601...  Training loss: 1.9501...  Val loss: 1.7813...  0.3236 sec/batch\n",
      "Epoch: 153/600...  Training Step: 6701...  Training loss: 1.9107...  Val loss: 1.7782...  0.3256 sec/batch\n",
      "Epoch: 155/600...  Training Step: 6801...  Training loss: 1.9416...  Val loss: 1.7758...  0.3236 sec/batch\n",
      "Epoch: 157/600...  Training Step: 6901...  Training loss: 1.8966...  Val loss: 1.7704...  0.3168 sec/batch\n",
      "Epoch: 160/600...  Training Step: 7001...  Training loss: 1.8925...  Val loss: 1.7642...  0.3114 sec/batch\n",
      "WARNING:tensorflow:Error encountered when serializing LAYER_NAME_UIDS.\n",
      "Type is unsupported, or the types of the items don't match field type in CollectionDef.\n",
      "'dict' object has no attribute 'name'\n",
      "Epoch: 162/600...  Training Step: 7101...  Training loss: 1.8946...  Val loss: 1.7581...  0.3099 sec/batch\n",
      "Epoch: 164/600...  Training Step: 7201...  Training loss: 1.9359...  Val loss: 1.7562...  0.3102 sec/batch\n",
      "Epoch: 166/600...  Training Step: 7301...  Training loss: 1.9037...  Val loss: 1.7532...  0.3104 sec/batch\n",
      "Epoch: 169/600...  Training Step: 7401...  Training loss: 1.8842...  Val loss: 1.7480...  0.3101 sec/batch\n",
      "Epoch: 171/600...  Training Step: 7501...  Training loss: 1.8807...  Val loss: 1.7413...  0.3102 sec/batch\n",
      "WARNING:tensorflow:Error encountered when serializing LAYER_NAME_UIDS.\n",
      "Type is unsupported, or the types of the items don't match field type in CollectionDef.\n",
      "'dict' object has no attribute 'name'\n",
      "Epoch: 173/600...  Training Step: 7601...  Training loss: 1.9038...  Val loss: 1.7399...  0.3104 sec/batch\n",
      "Epoch: 176/600...  Training Step: 7701...  Training loss: 1.9002...  Val loss: 1.7363...  0.3093 sec/batch\n",
      "Epoch: 178/600...  Training Step: 7801...  Training loss: 1.8669...  Val loss: 1.7328...  0.3104 sec/batch\n",
      "Epoch: 180/600...  Training Step: 7901...  Training loss: 1.8917...  Val loss: 1.7302...  0.3109 sec/batch\n",
      "Epoch: 182/600...  Training Step: 8001...  Training loss: 1.8484...  Val loss: 1.7290...  0.3099 sec/batch\n",
      "WARNING:tensorflow:Error encountered when serializing LAYER_NAME_UIDS.\n",
      "Type is unsupported, or the types of the items don't match field type in CollectionDef.\n",
      "'dict' object has no attribute 'name'\n",
      "Epoch: 185/600...  Training Step: 8101...  Training loss: 1.8509...  Val loss: 1.7220...  0.3103 sec/batch\n",
      "Epoch: 187/600...  Training Step: 8201...  Training loss: 1.8547...  Val loss: 1.7181...  0.3112 sec/batch\n",
      "Epoch: 189/600...  Training Step: 8301...  Training loss: 1.8903...  Val loss: 1.7161...  0.3105 sec/batch\n",
      "Epoch: 191/600...  Training Step: 8401...  Training loss: 1.8648...  Val loss: 1.7138...  0.3095 sec/batch\n",
      "Epoch: 194/600...  Training Step: 8501...  Training loss: 1.8368...  Val loss: 1.7093...  0.3232 sec/batch\n",
      "WARNING:tensorflow:Error encountered when serializing LAYER_NAME_UIDS.\n",
      "Type is unsupported, or the types of the items don't match field type in CollectionDef.\n",
      "'dict' object has no attribute 'name'\n",
      "Epoch: 196/600...  Training Step: 8601...  Training loss: 1.8418...  Val loss: 1.7071...  0.3238 sec/batch\n",
      "Epoch: 198/600...  Training Step: 8701...  Training loss: 1.8557...  Val loss: 1.7044...  0.3228 sec/batch\n",
      "Epoch: 201/600...  Training Step: 8801...  Training loss: 1.8570...  Val loss: 1.6995...  0.3226 sec/batch\n",
      "Epoch: 203/600...  Training Step: 8901...  Training loss: 1.8290...  Val loss: 1.6974...  0.3247 sec/batch\n",
      "Epoch: 205/600...  Training Step: 9001...  Training loss: 1.8577...  Val loss: 1.6947...  0.3217 sec/batch\n",
      "WARNING:tensorflow:Error encountered when serializing LAYER_NAME_UIDS.\n",
      "Type is unsupported, or the types of the items don't match field type in CollectionDef.\n",
      "'dict' object has no attribute 'name'\n",
      "Epoch: 207/600...  Training Step: 9101...  Training loss: 1.8058...  Val loss: 1.6931...  0.3274 sec/batch\n",
      "Epoch: 210/600...  Training Step: 9201...  Training loss: 1.8093...  Val loss: 1.6892...  0.3226 sec/batch\n",
      "Epoch: 212/600...  Training Step: 9301...  Training loss: 1.8121...  Val loss: 1.6847...  0.3350 sec/batch\n",
      "Epoch: 214/600...  Training Step: 9401...  Training loss: 1.8493...  Val loss: 1.6844...  0.3230 sec/batch\n",
      "Epoch: 216/600...  Training Step: 9501...  Training loss: 1.8264...  Val loss: 1.6828...  0.3106 sec/batch\n",
      "WARNING:tensorflow:Error encountered when serializing LAYER_NAME_UIDS.\n",
      "Type is unsupported, or the types of the items don't match field type in CollectionDef.\n",
      "'dict' object has no attribute 'name'\n",
      "Epoch: 219/600...  Training Step: 9601...  Training loss: 1.8031...  Val loss: 1.6795...  0.3367 sec/batch\n",
      "Epoch: 221/600...  Training Step: 9701...  Training loss: 1.7987...  Val loss: 1.6748...  0.3124 sec/batch\n",
      "Epoch: 223/600...  Training Step: 9801...  Training loss: 1.8171...  Val loss: 1.6727...  0.3115 sec/batch\n",
      "Epoch: 226/600...  Training Step: 9901...  Training loss: 1.8193...  Val loss: 1.6680...  0.3093 sec/batch\n",
      "Epoch: 228/600...  Training Step: 10001...  Training loss: 1.7805...  Val loss: 1.6682...  0.3156 sec/batch\n",
      "WARNING:tensorflow:Error encountered when serializing LAYER_NAME_UIDS.\n",
      "Type is unsupported, or the types of the items don't match field type in CollectionDef.\n",
      "'dict' object has no attribute 'name'\n",
      "Epoch: 230/600...  Training Step: 10101...  Training loss: 1.8142...  Val loss: 1.6641...  0.3169 sec/batch\n",
      "Epoch: 232/600...  Training Step: 10201...  Training loss: 1.7650...  Val loss: 1.6637...  0.3193 sec/batch\n",
      "Epoch: 235/600...  Training Step: 10301...  Training loss: 1.7818...  Val loss: 1.6602...  0.3213 sec/batch\n",
      "Epoch: 237/600...  Training Step: 10401...  Training loss: 1.7677...  Val loss: 1.6580...  0.3121 sec/batch\n",
      "Epoch: 239/600...  Training Step: 10501...  Training loss: 1.8203...  Val loss: 1.6574...  0.3180 sec/batch\n",
      "WARNING:tensorflow:Error encountered when serializing LAYER_NAME_UIDS.\n",
      "Type is unsupported, or the types of the items don't match field type in CollectionDef.\n",
      "'dict' object has no attribute 'name'\n",
      "Epoch: 241/600...  Training Step: 10601...  Training loss: 1.7875...  Val loss: 1.6545...  0.3221 sec/batch\n",
      "Epoch: 244/600...  Training Step: 10701...  Training loss: 1.7699...  Val loss: 1.6538...  0.3234 sec/batch\n",
      "Epoch: 246/600...  Training Step: 10801...  Training loss: 1.7584...  Val loss: 1.6488...  0.3159 sec/batch\n",
      "Epoch: 248/600...  Training Step: 10901...  Training loss: 1.7932...  Val loss: 1.6504...  0.3093 sec/batch\n",
      "Epoch: 251/600...  Training Step: 11001...  Training loss: 1.7844...  Val loss: 1.6441...  0.3235 sec/batch\n",
      "WARNING:tensorflow:Error encountered when serializing LAYER_NAME_UIDS.\n",
      "Type is unsupported, or the types of the items don't match field type in CollectionDef.\n",
      "'dict' object has no attribute 'name'\n",
      "Epoch: 253/600...  Training Step: 11101...  Training loss: 1.7530...  Val loss: 1.6427...  0.3332 sec/batch\n",
      "Epoch: 255/600...  Training Step: 11201...  Training loss: 1.7889...  Val loss: 1.6399...  0.3317 sec/batch\n"
     ]
    },
    {
     "name": "stdout",
     "output_type": "stream",
     "text": [
      "Epoch: 257/600...  Training Step: 11301...  Training loss: 1.7325...  Val loss: 1.6389...  0.3217 sec/batch\n",
      "Epoch: 260/600...  Training Step: 11401...  Training loss: 1.7455...  Val loss: 1.6364...  0.3249 sec/batch\n",
      "Epoch: 262/600...  Training Step: 11501...  Training loss: 1.7394...  Val loss: 1.6356...  0.3296 sec/batch\n",
      "WARNING:tensorflow:Error encountered when serializing LAYER_NAME_UIDS.\n",
      "Type is unsupported, or the types of the items don't match field type in CollectionDef.\n",
      "'dict' object has no attribute 'name'\n",
      "Epoch: 264/600...  Training Step: 11601...  Training loss: 1.7793...  Val loss: 1.6371...  0.3289 sec/batch\n",
      "Epoch: 266/600...  Training Step: 11701...  Training loss: 1.7541...  Val loss: 1.6348...  0.3100 sec/batch\n",
      "Epoch: 269/600...  Training Step: 11801...  Training loss: 1.7418...  Val loss: 1.6326...  0.3094 sec/batch\n",
      "Epoch: 271/600...  Training Step: 11901...  Training loss: 1.7333...  Val loss: 1.6280...  0.3227 sec/batch\n",
      "Epoch: 273/600...  Training Step: 12001...  Training loss: 1.7548...  Val loss: 1.6252...  0.3136 sec/batch\n",
      "WARNING:tensorflow:Error encountered when serializing LAYER_NAME_UIDS.\n",
      "Type is unsupported, or the types of the items don't match field type in CollectionDef.\n",
      "'dict' object has no attribute 'name'\n",
      "Epoch: 276/600...  Training Step: 12101...  Training loss: 1.7600...  Val loss: 1.6235...  0.3094 sec/batch\n",
      "Epoch: 278/600...  Training Step: 12201...  Training loss: 1.7244...  Val loss: 1.6239...  0.3099 sec/batch\n",
      "Epoch: 280/600...  Training Step: 12301...  Training loss: 1.7662...  Val loss: 1.6225...  0.3132 sec/batch\n",
      "Epoch: 282/600...  Training Step: 12401...  Training loss: 1.7063...  Val loss: 1.6187...  0.3099 sec/batch\n",
      "Epoch: 285/600...  Training Step: 12501...  Training loss: 1.7164...  Val loss: 1.6172...  0.3110 sec/batch\n",
      "WARNING:tensorflow:Error encountered when serializing LAYER_NAME_UIDS.\n",
      "Type is unsupported, or the types of the items don't match field type in CollectionDef.\n",
      "'dict' object has no attribute 'name'\n",
      "Epoch: 287/600...  Training Step: 12601...  Training loss: 1.7145...  Val loss: 1.6163...  0.3146 sec/batch\n",
      "Epoch: 289/600...  Training Step: 12701...  Training loss: 1.7609...  Val loss: 1.6170...  0.3166 sec/batch\n",
      "Epoch: 291/600...  Training Step: 12801...  Training loss: 1.7344...  Val loss: 1.6163...  0.3102 sec/batch\n",
      "Epoch: 294/600...  Training Step: 12901...  Training loss: 1.7208...  Val loss: 1.6148...  0.3107 sec/batch\n",
      "Epoch: 296/600...  Training Step: 13001...  Training loss: 1.7116...  Val loss: 1.6101...  0.3097 sec/batch\n",
      "WARNING:tensorflow:Error encountered when serializing LAYER_NAME_UIDS.\n",
      "Type is unsupported, or the types of the items don't match field type in CollectionDef.\n",
      "'dict' object has no attribute 'name'\n",
      "Epoch: 298/600...  Training Step: 13101...  Training loss: 1.7279...  Val loss: 1.6095...  0.3108 sec/batch\n",
      "Epoch: 301/600...  Training Step: 13201...  Training loss: 1.7333...  Val loss: 1.6068...  0.3104 sec/batch\n",
      "Epoch: 303/600...  Training Step: 13301...  Training loss: 1.6986...  Val loss: 1.6068...  0.3106 sec/batch\n",
      "Epoch: 305/600...  Training Step: 13401...  Training loss: 1.7365...  Val loss: 1.6058...  0.3114 sec/batch\n",
      "Epoch: 307/600...  Training Step: 13501...  Training loss: 1.6868...  Val loss: 1.6022...  0.3105 sec/batch\n",
      "WARNING:tensorflow:Error encountered when serializing LAYER_NAME_UIDS.\n",
      "Type is unsupported, or the types of the items don't match field type in CollectionDef.\n",
      "'dict' object has no attribute 'name'\n",
      "Epoch: 310/600...  Training Step: 13601...  Training loss: 1.6869...  Val loss: 1.6017...  0.3117 sec/batch\n",
      "Epoch: 312/600...  Training Step: 13701...  Training loss: 1.6950...  Val loss: 1.6001...  0.3101 sec/batch\n",
      "Epoch: 314/600...  Training Step: 13801...  Training loss: 1.7395...  Val loss: 1.6027...  0.3102 sec/batch\n",
      "Epoch: 316/600...  Training Step: 13901...  Training loss: 1.7001...  Val loss: 1.6011...  0.3106 sec/batch\n",
      "Epoch: 319/600...  Training Step: 14001...  Training loss: 1.7020...  Val loss: 1.6006...  0.3217 sec/batch\n",
      "WARNING:tensorflow:Error encountered when serializing LAYER_NAME_UIDS.\n",
      "Type is unsupported, or the types of the items don't match field type in CollectionDef.\n",
      "'dict' object has no attribute 'name'\n",
      "Epoch: 321/600...  Training Step: 14101...  Training loss: 1.6775...  Val loss: 1.5947...  0.3106 sec/batch\n",
      "Epoch: 323/600...  Training Step: 14201...  Training loss: 1.7141...  Val loss: 1.5949...  0.3096 sec/batch\n",
      "Epoch: 326/600...  Training Step: 14301...  Training loss: 1.7098...  Val loss: 1.5931...  0.3110 sec/batch\n",
      "Epoch: 328/600...  Training Step: 14401...  Training loss: 1.6756...  Val loss: 1.5927...  0.3306 sec/batch\n",
      "Epoch: 330/600...  Training Step: 14501...  Training loss: 1.7112...  Val loss: 1.5920...  0.3171 sec/batch\n",
      "WARNING:tensorflow:Error encountered when serializing LAYER_NAME_UIDS.\n",
      "Type is unsupported, or the types of the items don't match field type in CollectionDef.\n",
      "'dict' object has no attribute 'name'\n",
      "Epoch: 332/600...  Training Step: 14601...  Training loss: 1.6625...  Val loss: 1.5899...  0.3111 sec/batch\n",
      "Epoch: 335/600...  Training Step: 14701...  Training loss: 1.6771...  Val loss: 1.5882...  0.3249 sec/batch\n",
      "Epoch: 337/600...  Training Step: 14801...  Training loss: 1.6696...  Val loss: 1.5866...  0.3247 sec/batch\n",
      "Epoch: 339/600...  Training Step: 14901...  Training loss: 1.7065...  Val loss: 1.5886...  0.3239 sec/batch\n",
      "Epoch: 341/600...  Training Step: 15001...  Training loss: 1.6855...  Val loss: 1.5838...  0.3239 sec/batch\n",
      "WARNING:tensorflow:Error encountered when serializing LAYER_NAME_UIDS.\n",
      "Type is unsupported, or the types of the items don't match field type in CollectionDef.\n",
      "'dict' object has no attribute 'name'\n",
      "Epoch: 344/600...  Training Step: 15101...  Training loss: 1.6741...  Val loss: 1.5883...  0.3280 sec/batch\n",
      "Epoch: 346/600...  Training Step: 15201...  Training loss: 1.6597...  Val loss: 1.5842...  0.3259 sec/batch\n",
      "Epoch: 348/600...  Training Step: 15301...  Training loss: 1.6902...  Val loss: 1.5835...  0.3157 sec/batch\n",
      "Epoch: 351/600...  Training Step: 15401...  Training loss: 1.6894...  Val loss: 1.5807...  0.3284 sec/batch\n",
      "Epoch: 353/600...  Training Step: 15501...  Training loss: 1.6531...  Val loss: 1.5804...  0.3175 sec/batch\n",
      "WARNING:tensorflow:Error encountered when serializing LAYER_NAME_UIDS.\n",
      "Type is unsupported, or the types of the items don't match field type in CollectionDef.\n",
      "'dict' object has no attribute 'name'\n",
      "Epoch: 355/600...  Training Step: 15601...  Training loss: 1.6991...  Val loss: 1.5788...  0.3368 sec/batch\n",
      "Epoch: 357/600...  Training Step: 15701...  Training loss: 1.6361...  Val loss: 1.5777...  0.3125 sec/batch\n",
      "Epoch: 360/600...  Training Step: 15801...  Training loss: 1.6541...  Val loss: 1.5752...  0.3141 sec/batch\n",
      "Epoch: 362/600...  Training Step: 15901...  Training loss: 1.6441...  Val loss: 1.5751...  0.3145 sec/batch\n",
      "Epoch: 364/600...  Training Step: 16001...  Training loss: 1.6907...  Val loss: 1.5782...  0.3093 sec/batch\n",
      "WARNING:tensorflow:Error encountered when serializing LAYER_NAME_UIDS.\n",
      "Type is unsupported, or the types of the items don't match field type in CollectionDef.\n",
      "'dict' object has no attribute 'name'\n",
      "Epoch: 366/600...  Training Step: 16101...  Training loss: 1.6667...  Val loss: 1.5755...  0.3148 sec/batch\n",
      "Epoch: 369/600...  Training Step: 16201...  Training loss: 1.6564...  Val loss: 1.5759...  0.3133 sec/batch\n",
      "Epoch: 371/600...  Training Step: 16301...  Training loss: 1.6451...  Val loss: 1.5703...  0.3421 sec/batch\n",
      "Epoch: 373/600...  Training Step: 16401...  Training loss: 1.6675...  Val loss: 1.5717...  0.3324 sec/batch\n",
      "Epoch: 376/600...  Training Step: 16501...  Training loss: 1.6693...  Val loss: 1.5690...  0.3273 sec/batch\n",
      "WARNING:tensorflow:Error encountered when serializing LAYER_NAME_UIDS.\n",
      "Type is unsupported, or the types of the items don't match field type in CollectionDef.\n",
      "'dict' object has no attribute 'name'\n",
      "Epoch: 378/600...  Training Step: 16601...  Training loss: 1.6332...  Val loss: 1.5715...  0.3237 sec/batch\n",
      "Epoch: 380/600...  Training Step: 16701...  Training loss: 1.6661...  Val loss: 1.5711...  0.3227 sec/batch\n",
      "Epoch: 382/600...  Training Step: 16801...  Training loss: 1.6176...  Val loss: 1.5682...  0.3284 sec/batch\n"
     ]
    },
    {
     "name": "stdout",
     "output_type": "stream",
     "text": [
      "Epoch: 385/600...  Training Step: 16901...  Training loss: 1.6351...  Val loss: 1.5671...  0.3163 sec/batch\n",
      "Epoch: 387/600...  Training Step: 17001...  Training loss: 1.6409...  Val loss: 1.5637...  0.3306 sec/batch\n",
      "WARNING:tensorflow:Error encountered when serializing LAYER_NAME_UIDS.\n",
      "Type is unsupported, or the types of the items don't match field type in CollectionDef.\n",
      "'dict' object has no attribute 'name'\n",
      "Epoch: 389/600...  Training Step: 17101...  Training loss: 1.6745...  Val loss: 1.5678...  0.3201 sec/batch\n",
      "Epoch: 391/600...  Training Step: 17201...  Training loss: 1.6444...  Val loss: 1.5666...  0.3191 sec/batch\n",
      "Epoch: 394/600...  Training Step: 17301...  Training loss: 1.6402...  Val loss: 1.5687...  0.3205 sec/batch\n",
      "Epoch: 396/600...  Training Step: 17401...  Training loss: 1.6244...  Val loss: 1.5633...  0.3284 sec/batch\n",
      "Epoch: 398/600...  Training Step: 17501...  Training loss: 1.6463...  Val loss: 1.5623...  0.3344 sec/batch\n",
      "WARNING:tensorflow:Error encountered when serializing LAYER_NAME_UIDS.\n",
      "Type is unsupported, or the types of the items don't match field type in CollectionDef.\n",
      "'dict' object has no attribute 'name'\n",
      "Epoch: 401/600...  Training Step: 17601...  Training loss: 1.6579...  Val loss: 1.5600...  0.3274 sec/batch\n",
      "Epoch: 403/600...  Training Step: 17701...  Training loss: 1.6155...  Val loss: 1.5641...  0.3220 sec/batch\n",
      "Epoch: 405/600...  Training Step: 17801...  Training loss: 1.6507...  Val loss: 1.5638...  0.3097 sec/batch\n",
      "Epoch: 407/600...  Training Step: 17901...  Training loss: 1.6052...  Val loss: 1.5601...  0.3296 sec/batch\n",
      "Epoch: 410/600...  Training Step: 18001...  Training loss: 1.6156...  Val loss: 1.5622...  0.3228 sec/batch\n",
      "WARNING:tensorflow:Error encountered when serializing LAYER_NAME_UIDS.\n",
      "Type is unsupported, or the types of the items don't match field type in CollectionDef.\n",
      "'dict' object has no attribute 'name'\n",
      "Epoch: 412/600...  Training Step: 18101...  Training loss: 1.6134...  Val loss: 1.5571...  0.3208 sec/batch\n",
      "Epoch: 414/600...  Training Step: 18201...  Training loss: 1.6539...  Val loss: 1.5595...  0.3207 sec/batch\n",
      "Epoch: 416/600...  Training Step: 18301...  Training loss: 1.6387...  Val loss: 1.5564...  0.3216 sec/batch\n",
      "Epoch: 419/600...  Training Step: 18401...  Training loss: 1.6323...  Val loss: 1.5594...  0.3097 sec/batch\n",
      "Epoch: 421/600...  Training Step: 18501...  Training loss: 1.6115...  Val loss: 1.5552...  0.3210 sec/batch\n",
      "WARNING:tensorflow:Error encountered when serializing LAYER_NAME_UIDS.\n",
      "Type is unsupported, or the types of the items don't match field type in CollectionDef.\n",
      "'dict' object has no attribute 'name'\n",
      "Epoch: 423/600...  Training Step: 18601...  Training loss: 1.6373...  Val loss: 1.5566...  0.3240 sec/batch\n",
      "Epoch: 426/600...  Training Step: 18701...  Training loss: 1.6427...  Val loss: 1.5548...  0.3204 sec/batch\n",
      "Epoch: 428/600...  Training Step: 18801...  Training loss: 1.6060...  Val loss: 1.5599...  0.3190 sec/batch\n",
      "Epoch: 430/600...  Training Step: 18901...  Training loss: 1.6360...  Val loss: 1.5599...  0.3427 sec/batch\n",
      "Epoch: 432/600...  Training Step: 19001...  Training loss: 1.5968...  Val loss: 1.5529...  0.3178 sec/batch\n",
      "WARNING:tensorflow:Error encountered when serializing LAYER_NAME_UIDS.\n",
      "Type is unsupported, or the types of the items don't match field type in CollectionDef.\n",
      "'dict' object has no attribute 'name'\n",
      "Epoch: 435/600...  Training Step: 19101...  Training loss: 1.6038...  Val loss: 1.5535...  0.3104 sec/batch\n",
      "Epoch: 437/600...  Training Step: 19201...  Training loss: 1.5943...  Val loss: 1.5521...  0.3216 sec/batch\n",
      "Epoch: 439/600...  Training Step: 19301...  Training loss: 1.6410...  Val loss: 1.5534...  0.3097 sec/batch\n",
      "Epoch: 441/600...  Training Step: 19401...  Training loss: 1.6165...  Val loss: 1.5501...  0.3212 sec/batch\n",
      "Epoch: 444/600...  Training Step: 19501...  Training loss: 1.6114...  Val loss: 1.5548...  0.3229 sec/batch\n",
      "WARNING:tensorflow:Error encountered when serializing LAYER_NAME_UIDS.\n",
      "Type is unsupported, or the types of the items don't match field type in CollectionDef.\n",
      "'dict' object has no attribute 'name'\n",
      "Epoch: 446/600...  Training Step: 19601...  Training loss: 1.5925...  Val loss: 1.5510...  0.3242 sec/batch\n",
      "Epoch: 448/600...  Training Step: 19701...  Training loss: 1.6204...  Val loss: 1.5531...  0.3219 sec/batch\n",
      "Epoch: 451/600...  Training Step: 19801...  Training loss: 1.6179...  Val loss: 1.5462...  0.3230 sec/batch\n",
      "Epoch: 453/600...  Training Step: 19901...  Training loss: 1.5939...  Val loss: 1.5542...  0.3212 sec/batch\n",
      "Epoch: 455/600...  Training Step: 20001...  Training loss: 1.6197...  Val loss: 1.5533...  0.3223 sec/batch\n",
      "WARNING:tensorflow:Error encountered when serializing LAYER_NAME_UIDS.\n",
      "Type is unsupported, or the types of the items don't match field type in CollectionDef.\n",
      "'dict' object has no attribute 'name'\n",
      "Epoch: 457/600...  Training Step: 20101...  Training loss: 1.5771...  Val loss: 1.5482...  0.3237 sec/batch\n",
      "Epoch: 460/600...  Training Step: 20201...  Training loss: 1.5907...  Val loss: 1.5455...  0.3228 sec/batch\n",
      "Epoch: 462/600...  Training Step: 20301...  Training loss: 1.5804...  Val loss: 1.5456...  0.3228 sec/batch\n",
      "Epoch: 464/600...  Training Step: 20401...  Training loss: 1.6230...  Val loss: 1.5519...  0.3229 sec/batch\n",
      "Epoch: 466/600...  Training Step: 20501...  Training loss: 1.6051...  Val loss: 1.5460...  0.3220 sec/batch\n",
      "WARNING:tensorflow:Error encountered when serializing LAYER_NAME_UIDS.\n",
      "Type is unsupported, or the types of the items don't match field type in CollectionDef.\n",
      "'dict' object has no attribute 'name'\n",
      "Epoch: 469/600...  Training Step: 20601...  Training loss: 1.5947...  Val loss: 1.5486...  0.3229 sec/batch\n",
      "Epoch: 471/600...  Training Step: 20701...  Training loss: 1.5798...  Val loss: 1.5464...  0.3232 sec/batch\n",
      "Epoch: 473/600...  Training Step: 20801...  Training loss: 1.5985...  Val loss: 1.5490...  0.3232 sec/batch\n",
      "Epoch: 476/600...  Training Step: 20901...  Training loss: 1.6011...  Val loss: 1.5413...  0.3224 sec/batch\n",
      "Epoch: 478/600...  Training Step: 21001...  Training loss: 1.5676...  Val loss: 1.5520...  0.3214 sec/batch\n",
      "WARNING:tensorflow:Error encountered when serializing LAYER_NAME_UIDS.\n",
      "Type is unsupported, or the types of the items don't match field type in CollectionDef.\n",
      "'dict' object has no attribute 'name'\n",
      "Epoch: 480/600...  Training Step: 21101...  Training loss: 1.6093...  Val loss: 1.5482...  0.3220 sec/batch\n",
      "Epoch: 482/600...  Training Step: 21201...  Training loss: 1.5535...  Val loss: 1.5465...  0.3234 sec/batch\n",
      "Epoch: 485/600...  Training Step: 21301...  Training loss: 1.5725...  Val loss: 1.5421...  0.3231 sec/batch\n",
      "Epoch: 487/600...  Training Step: 21401...  Training loss: 1.5747...  Val loss: 1.5442...  0.3220 sec/batch\n",
      "Epoch: 489/600...  Training Step: 21501...  Training loss: 1.6157...  Val loss: 1.5448...  0.3221 sec/batch\n",
      "WARNING:tensorflow:Error encountered when serializing LAYER_NAME_UIDS.\n",
      "Type is unsupported, or the types of the items don't match field type in CollectionDef.\n",
      "'dict' object has no attribute 'name'\n",
      "Epoch: 491/600...  Training Step: 21601...  Training loss: 1.5917...  Val loss: 1.5428...  0.3249 sec/batch\n",
      "Epoch: 494/600...  Training Step: 21701...  Training loss: 1.5820...  Val loss: 1.5426...  0.3224 sec/batch\n",
      "Epoch: 496/600...  Training Step: 21801...  Training loss: 1.5701...  Val loss: 1.5418...  0.3215 sec/batch\n",
      "Epoch: 498/600...  Training Step: 21901...  Training loss: 1.5995...  Val loss: 1.5482...  0.3265 sec/batch\n",
      "Epoch: 501/600...  Training Step: 22001...  Training loss: 1.6018...  Val loss: 1.5399...  0.3254 sec/batch\n",
      "WARNING:tensorflow:Error encountered when serializing LAYER_NAME_UIDS.\n",
      "Type is unsupported, or the types of the items don't match field type in CollectionDef.\n",
      "'dict' object has no attribute 'name'\n",
      "Epoch: 503/600...  Training Step: 22101...  Training loss: 1.5598...  Val loss: 1.5480...  0.3228 sec/batch\n",
      "Epoch: 505/600...  Training Step: 22201...  Training loss: 1.5940...  Val loss: 1.5409...  0.3240 sec/batch\n",
      "Epoch: 507/600...  Training Step: 22301...  Training loss: 1.5452...  Val loss: 1.5411...  0.3255 sec/batch\n",
      "Epoch: 510/600...  Training Step: 22401...  Training loss: 1.5621...  Val loss: 1.5382...  0.3226 sec/batch\n"
     ]
    },
    {
     "name": "stdout",
     "output_type": "stream",
     "text": [
      "Epoch: 512/600...  Training Step: 22501...  Training loss: 1.5681...  Val loss: 1.5389...  0.3307 sec/batch\n",
      "WARNING:tensorflow:Error encountered when serializing LAYER_NAME_UIDS.\n",
      "Type is unsupported, or the types of the items don't match field type in CollectionDef.\n",
      "'dict' object has no attribute 'name'\n",
      "Epoch: 514/600...  Training Step: 22601...  Training loss: 1.5965...  Val loss: 1.5434...  0.3266 sec/batch\n",
      "Epoch: 516/600...  Training Step: 22701...  Training loss: 1.5740...  Val loss: 1.5380...  0.3221 sec/batch\n",
      "Epoch: 519/600...  Training Step: 22801...  Training loss: 1.5673...  Val loss: 1.5392...  0.3219 sec/batch\n",
      "Epoch: 521/600...  Training Step: 22901...  Training loss: 1.5528...  Val loss: 1.5359...  0.3232 sec/batch\n",
      "Epoch: 523/600...  Training Step: 23001...  Training loss: 1.5804...  Val loss: 1.5432...  0.3240 sec/batch\n",
      "WARNING:tensorflow:Error encountered when serializing LAYER_NAME_UIDS.\n",
      "Type is unsupported, or the types of the items don't match field type in CollectionDef.\n",
      "'dict' object has no attribute 'name'\n",
      "Epoch: 526/600...  Training Step: 23101...  Training loss: 1.5875...  Val loss: 1.5364...  0.3225 sec/batch\n",
      "Epoch: 528/600...  Training Step: 23201...  Training loss: 1.5457...  Val loss: 1.5449...  0.3132 sec/batch\n",
      "Epoch: 530/600...  Training Step: 23301...  Training loss: 1.5767...  Val loss: 1.5412...  0.3108 sec/batch\n",
      "Epoch: 532/600...  Training Step: 23401...  Training loss: 1.5375...  Val loss: 1.5377...  0.3108 sec/batch\n",
      "Epoch: 535/600...  Training Step: 23501...  Training loss: 1.5594...  Val loss: 1.5368...  0.3230 sec/batch\n",
      "WARNING:tensorflow:Error encountered when serializing LAYER_NAME_UIDS.\n",
      "Type is unsupported, or the types of the items don't match field type in CollectionDef.\n",
      "'dict' object has no attribute 'name'\n",
      "Epoch: 537/600...  Training Step: 23601...  Training loss: 1.5501...  Val loss: 1.5383...  0.3110 sec/batch\n",
      "Epoch: 539/600...  Training Step: 23701...  Training loss: 1.5854...  Val loss: 1.5401...  0.3111 sec/batch\n",
      "Epoch: 541/600...  Training Step: 23801...  Training loss: 1.5730...  Val loss: 1.5403...  0.3104 sec/batch\n",
      "Epoch: 544/600...  Training Step: 23901...  Training loss: 1.5586...  Val loss: 1.5394...  0.3104 sec/batch\n",
      "Epoch: 546/600...  Training Step: 24001...  Training loss: 1.5411...  Val loss: 1.5392...  0.3111 sec/batch\n",
      "WARNING:tensorflow:Error encountered when serializing LAYER_NAME_UIDS.\n",
      "Type is unsupported, or the types of the items don't match field type in CollectionDef.\n",
      "'dict' object has no attribute 'name'\n",
      "Epoch: 548/600...  Training Step: 24101...  Training loss: 1.5698...  Val loss: 1.5436...  0.3106 sec/batch\n",
      "Epoch: 551/600...  Training Step: 24201...  Training loss: 1.5776...  Val loss: 1.5325...  0.3123 sec/batch\n",
      "Epoch: 553/600...  Training Step: 24301...  Training loss: 1.5451...  Val loss: 1.5418...  0.3112 sec/batch\n",
      "Epoch: 555/600...  Training Step: 24401...  Training loss: 1.5776...  Val loss: 1.5396...  0.3115 sec/batch\n",
      "Epoch: 557/600...  Training Step: 24501...  Training loss: 1.5353...  Val loss: 1.5386...  0.3151 sec/batch\n",
      "WARNING:tensorflow:Error encountered when serializing LAYER_NAME_UIDS.\n",
      "Type is unsupported, or the types of the items don't match field type in CollectionDef.\n",
      "'dict' object has no attribute 'name'\n",
      "Epoch: 560/600...  Training Step: 24601...  Training loss: 1.5342...  Val loss: 1.5348...  0.3115 sec/batch\n",
      "Epoch: 562/600...  Training Step: 24701...  Training loss: 1.5386...  Val loss: 1.5375...  0.3108 sec/batch\n",
      "Epoch: 564/600...  Training Step: 24801...  Training loss: 1.5658...  Val loss: 1.5393...  0.3104 sec/batch\n",
      "Epoch: 566/600...  Training Step: 24901...  Training loss: 1.5582...  Val loss: 1.5409...  0.3168 sec/batch\n",
      "Epoch: 569/600...  Training Step: 25001...  Training loss: 1.5509...  Val loss: 1.5391...  0.3317 sec/batch\n",
      "WARNING:tensorflow:Error encountered when serializing LAYER_NAME_UIDS.\n",
      "Type is unsupported, or the types of the items don't match field type in CollectionDef.\n",
      "'dict' object has no attribute 'name'\n",
      "Epoch: 571/600...  Training Step: 25101...  Training loss: 1.5352...  Val loss: 1.5373...  0.3112 sec/batch\n",
      "Epoch: 573/600...  Training Step: 25201...  Training loss: 1.5620...  Val loss: 1.5459...  0.3150 sec/batch\n",
      "Epoch: 576/600...  Training Step: 25301...  Training loss: 1.5627...  Val loss: 1.5325...  0.3113 sec/batch\n",
      "Epoch: 578/600...  Training Step: 25401...  Training loss: 1.5307...  Val loss: 1.5454...  0.3103 sec/batch\n",
      "Epoch: 580/600...  Training Step: 25501...  Training loss: 1.5704...  Val loss: 1.5401...  0.3104 sec/batch\n",
      "WARNING:tensorflow:Error encountered when serializing LAYER_NAME_UIDS.\n",
      "Type is unsupported, or the types of the items don't match field type in CollectionDef.\n",
      "'dict' object has no attribute 'name'\n",
      "Epoch: 582/600...  Training Step: 25601...  Training loss: 1.5222...  Val loss: 1.5360...  0.3416 sec/batch\n",
      "Epoch: 585/600...  Training Step: 25701...  Training loss: 1.5290...  Val loss: 1.5341...  0.3245 sec/batch\n",
      "Epoch: 587/600...  Training Step: 25801...  Training loss: 1.5252...  Val loss: 1.5355...  0.3114 sec/batch\n",
      "Epoch: 589/600...  Training Step: 25901...  Training loss: 1.5557...  Val loss: 1.5398...  0.3118 sec/batch\n",
      "Epoch: 591/600...  Training Step: 26001...  Training loss: 1.5518...  Val loss: 1.5391...  0.3146 sec/batch\n",
      "WARNING:tensorflow:Error encountered when serializing LAYER_NAME_UIDS.\n",
      "Type is unsupported, or the types of the items don't match field type in CollectionDef.\n",
      "'dict' object has no attribute 'name'\n",
      "Epoch: 594/600...  Training Step: 26101...  Training loss: 1.5383...  Val loss: 1.5348...  0.3105 sec/batch\n",
      "Epoch: 596/600...  Training Step: 26201...  Training loss: 1.5201...  Val loss: 1.5358...  0.3106 sec/batch\n",
      "Epoch: 598/600...  Training Step: 26301...  Training loss: 1.5504...  Val loss: 1.5403...  0.3173 sec/batch\n",
      "WARNING:tensorflow:Error encountered when serializing LAYER_NAME_UIDS.\n",
      "Type is unsupported, or the types of the items don't match field type in CollectionDef.\n",
      "'dict' object has no attribute 'name'\n"
     ]
    }
   ],
   "source": [
    "#epochs = 1\n",
    "# Save every N iterations\n",
    "save_every_n = 500\n",
    "print_loss_every_n = 100\n",
    "sample_every = 500\n",
    "with tf.device(\"/gpu:0\"):\n",
    "    model = CharRNN(len(vocab), batch_size=batch_size, num_steps=num_steps,\n",
    "                lstm_size=lstm_size, num_layers=num_layers, \n",
    "                learning_rate=learning_rate)\n",
    "    #print(\"after model\")\n",
    "\n",
    "saver = tf.train.Saver(max_to_keep=5)\n",
    "#print(\"after saver\")\n",
    "with tf.Session() as sess:\n",
    "    sess.run(tf.global_variables_initializer())\n",
    "    print(\"Number of parameters:\",get_number_of_parameters(),\"Dataset size:\",len(encoded))\n",
    "    #print(\"after initializer\")\n",
    "    if resume_from_checkpoint:\n",
    "        latest_checkpoint = tf.train.latest_checkpoint('checkpoints')\n",
    "        saver.restore(sess, latest_checkpoint)\n",
    "    counter = 0\n",
    "    for e in range(epochs):\n",
    "        # Train network\n",
    "        \n",
    "        new_state = sess.run(model.initial_state)\n",
    "        loss = 0\n",
    "        for x, y in get_batches(encoded, batch_size, num_steps):\n",
    "            \n",
    "            \n",
    "            start = time.time()\n",
    "            feed = {model.inputs: x,\n",
    "                    model.targets: y,\n",
    "                    model.keep_prob: keep_prob,\n",
    "                    model.initial_state: new_state}\n",
    "            batch_loss, new_state, _ = sess.run([model.loss, \n",
    "                                                 model.final_state, \n",
    "                                                 model.optimizer], \n",
    "                                                 feed_dict=feed)\n",
    "        \n",
    "            \n",
    "            end = time.time()\n",
    "            if counter%print_loss_every_n == 0:\n",
    "                val_batches = get_batches(encoded_val,int(len(encoded_val)/num_steps),num_steps)\n",
    "                x_val,y_val = next(val_batches)\n",
    "                \n",
    "                val_dict = {model.inputs: x_val,\n",
    "                            model.targets: y_val,\n",
    "                            model.keep_prob: 1,\n",
    "                            model.initial_state: new_state}\n",
    "                \n",
    "                val_loss,prediction = sess.run([model.loss,model.prediction],feed_dict=val_dict)\n",
    "                \n",
    "                losses[\"train\"].append(batch_loss)\n",
    "                losses[\"validation\"].append(val_loss)\n",
    "                \n",
    "                \n",
    "                global_step = tf.train.global_step(sess,model.global_step_tensor)\n",
    "                x_steps.append(global_step)\n",
    "                \n",
    "                print('Epoch: {}/{}... '.format(e+1, epochs),\n",
    "                      'Training Step: {}... '.format(global_step),\n",
    "                      'Training loss: {:.4f}... '.format(batch_loss),\n",
    "                      'Val loss: {:.4f}... '.format(val_loss),\n",
    "                      '{:.4f} sec/batch'.format((end-start)))\n",
    "        \n",
    "            if (counter % save_every_n == 0):\n",
    "                global_step = tf.train.global_step(sess,model.global_step_tensor)\n",
    "                saver.save(sess, \"checkpoints/m{}_i{}_l{}.ckpt\".format(mode,global_step, lstm_size))\n",
    "                \n",
    "            counter += 1\n",
    "            \n",
    "    global_step = tf.train.global_step(sess,model.global_step_tensor)\n",
    "    saver.save(sess, \"checkpoints/m{}_i{}_l{}.ckpt\".format(mode,global_step, lstm_size))"
   ]
  },
  {
   "cell_type": "code",
   "execution_count": 31,
   "metadata": {},
   "outputs": [
    {
     "data": {
      "image/png": "[encoded data removed]",
      "text/plain": [
       "<matplotlib.figure.Figure at 0x7f8aef84fc88>"
      ]
     },
     "metadata": {
      "image/png": {
       "height": 250,
       "width": 373
      }
     },
     "output_type": "display_data"
    }
   ],
   "source": [
    "plt.plot(x_steps,losses[\"train\"],label=\"Train loss\")\n",
    "plt.plot(x_steps,losses[\"validation\"],label=\"Validation loss\")\n",
    "plt.legend()\n",
    "_ = plt.ylim()"
   ]
  },
  {
   "cell_type": "markdown",
   "metadata": {},
   "source": [
    "#### Saved checkpoints\n",
    "\n",
    "Read up on saving and loading checkpoints here: https://www.tensorflow.org/programmers_guide/variables"
   ]
  },
  {
   "cell_type": "code",
   "execution_count": 32,
   "metadata": {
    "collapsed": true
   },
   "outputs": [],
   "source": [
    "checkpoints = tf.train.get_checkpoint_state('checkpoints')"
   ]
  },
  {
   "cell_type": "markdown",
   "metadata": {},
   "source": [
    "## Sampling final trained model\n",
    "\n",
    "Now that the network is trained, we'll can use it to generate new text. The idea is that we pass in a character, then the network will predict the next character. We can use the new one, to predict the next one. And we keep doing this to generate all new text. I also included some functionality to prime the network with some text by passing in a string and building up a state from that.\n",
    "\n",
    "The network gives us predictions for each character. To reduce noise and make things a little less random, I'm going to only choose a new character from the top N most likely characters.\n",
    "\n"
   ]
  },
  {
   "cell_type": "code",
   "execution_count": 33,
   "metadata": {
    "collapsed": true
   },
   "outputs": [],
   "source": [
    "def sample(checkpoint, n_samples, lstm_size, vocab_size, prime=\"The \",mode=\"characters\"):\n",
    "    print(mode)\n",
    "    samples = tokenize_text(prime,mode)\n",
    "    model = CharRNN(len(vocab), lstm_size=lstm_size, sampling=True)\n",
    "    saver = tf.train.Saver()\n",
    "    with tf.Session() as sess:\n",
    "        saver.restore(sess, checkpoint)\n",
    "        new_state = sess.run(model.initial_state)\n",
    "        for c in tokenize_text(prime,mode):\n",
    "            x = np.zeros((1, 1))\n",
    "            x[0,0] = vocab_to_int[c]\n",
    "            feed = {model.inputs: x,\n",
    "                    model.keep_prob: 1.,\n",
    "                    model.initial_state: new_state}\n",
    "            preds, new_state = sess.run([model.prediction, model.final_state], \n",
    "                                         feed_dict=feed)\n",
    "\n",
    "        c = pick_top_n(preds, len(vocab))\n",
    "        samples.append(int_to_vocab[c])\n",
    "\n",
    "        for i in range(n_samples):\n",
    "            x[0,0] = c\n",
    "            feed = {model.inputs: x,\n",
    "                    model.keep_prob: 1.,\n",
    "                    model.initial_state: new_state}\n",
    "            preds, new_state = sess.run([model.prediction, model.final_state], \n",
    "                                         feed_dict=feed)\n",
    "\n",
    "            c = pick_top_n(preds, len(vocab))\n",
    "            samples.append(int_to_vocab[c])\n",
    "        \n",
    "    return ''.join(samples).replace(\"new_line_token\",\"\\n\")"
   ]
  },
  {
   "cell_type": "markdown",
   "metadata": {},
   "source": [
    "Here, pass in the path to a checkpoint and sample from the network."
   ]
  },
  {
   "cell_type": "code",
   "execution_count": 34,
   "metadata": {},
   "outputs": [
    {
     "data": {
      "text/plain": [
       "'checkpoints/mcharacters_i26400_l512.ckpt'"
      ]
     },
     "execution_count": 34,
     "metadata": {},
     "output_type": "execute_result"
    }
   ],
   "source": [
    "tf.train.latest_checkpoint('checkpoints')"
   ]
  },
  {
   "cell_type": "markdown",
   "metadata": {},
   "source": [
    "## Generate new text from \"base\" text"
   ]
  },
  {
   "cell_type": "code",
   "execution_count": 35,
   "metadata": {},
   "outputs": [
    {
     "name": "stdout",
     "output_type": "stream",
     "text": [
      "characters\n",
      "INFO:tensorflow:Restoring parameters from checkpoints/mcharacters_i26400_l512.ckpt\n",
      "characters\n",
      "INFO:tensorflow:Restoring parameters from checkpoints/mcharacters_i26400_l512.ckpt\n",
      "characters\n",
      "INFO:tensorflow:Restoring parameters from checkpoints/mcharacters_i26400_l512.ckpt\n",
      "characters\n",
      "INFO:tensorflow:Restoring parameters from checkpoints/mcharacters_i26400_l512.ckpt\n",
      "characters\n",
      "INFO:tensorflow:Restoring parameters from checkpoints/mcharacters_i26400_l512.ckpt\n",
      "characters\n",
      "INFO:tensorflow:Restoring parameters from checkpoints/mcharacters_i26400_l512.ckpt\n",
      "characters\n",
      "INFO:tensorflow:Restoring parameters from checkpoints/mcharacters_i26400_l512.ckpt\n",
      "characters\n",
      "INFO:tensorflow:Restoring parameters from checkpoints/mcharacters_i26400_l512.ckpt\n",
      "characters\n",
      "INFO:tensorflow:Restoring parameters from checkpoints/mcharacters_i26400_l512.ckpt\n",
      "characters\n",
      "INFO:tensorflow:Restoring parameters from checkpoints/mcharacters_i26400_l512.ckpt\n",
      "characters\n",
      "INFO:tensorflow:Restoring parameters from checkpoints/mcharacters_i26400_l512.ckpt\n",
      "characters\n",
      "INFO:tensorflow:Restoring parameters from checkpoints/mcharacters_i26400_l512.ckpt\n",
      "characters\n",
      "INFO:tensorflow:Restoring parameters from checkpoints/mcharacters_i26400_l512.ckpt\n",
      "characters\n",
      "INFO:tensorflow:Restoring parameters from checkpoints/mcharacters_i26400_l512.ckpt\n",
      "characters\n",
      "INFO:tensorflow:Restoring parameters from checkpoints/mcharacters_i26400_l512.ckpt\n",
      "characters\n",
      "INFO:tensorflow:Restoring parameters from checkpoints/mcharacters_i26400_l512.ckpt\n"
     ]
    }
   ],
   "source": [
    "\n",
    "checkpoint = tf.train.latest_checkpoint('checkpoints')\n",
    "\n",
    "\n",
    "samples = list()\n",
    "for text in text_to_try:\n",
    "    #print(\"------------------------\",text)\n",
    "    samples.append( sample(checkpoint, 500, lstm_size, len(vocab), prime=text,mode=mode))\n",
    "    #print(samp)\n",
    "    #print(\"------------------------\")"
   ]
  },
  {
   "cell_type": "code",
   "execution_count": 36,
   "metadata": {},
   "outputs": [
    {
     "name": "stdout",
     "output_type": "stream",
     "text": [
      "------------------------ In the first place\n",
      "In the first place of many and still where the deside a part of the samit of the contens after the carved rememblences; the celles as we crupbled the condition of a more all terrible came in the articulian was alone and trougald, and that all the sense of the present second we could search the conseiveness of the strange spile.\n",
      "\n",
      "The sould of the prisate as a servest and talled as a madness of the tonches so the ancount in the plint of the san the states we had never shewn the conserving the cround and the profound\n",
      "------------------------\n",
      "------------------------ the night before\n",
      "the night before all the pointed sound were not strungled by the poline of an outsade to a colleatul and a singular come to stipled the ceathed to the creamure of seen that he saw the pars which he could be consunted that his month was back in a pertectain so tare that the could have plooned they had been such a terrible dors all time at the carning can father than the mestare of the mountain said a that the more than those shadow torther and town the centre of the saticy as at the sate with the stands of the su\n",
      "------------------------\n",
      "------------------------ horror\n",
      "horrors, indied what with a college was not so strange from any consceirs of midute and strength, but the chimber had felt on a contrals about the mantil sore was the descreption of the sate world. I taken to see the datt and tentation of shranksing the moring the that any the challal panes of the most sore of a pranial and convition with the pencalimaring astencaoc of the chestally crapber. They as he had the taken above the contrant. The trounde of the sont and his candowert was of a certain common. \n",
      "------------------------\n",
      "------------------------ creature\n",
      "creature, betare we were almost searched, and terrible in the seemed to stoul to the sinister and sounds or case and clembling or a secting stone our old reashes on the peace; but it, to have had that strange stiring on this tint was attanked and subplosed it it some ourly to ans the farth inchessing substinctions of an and altogether condition. To see he hud tend in the crange of the munting sungats and mathing state.\n",
      "\n",
      "A secrative and the pasies, however, and an through the accursed colour. He could not\n",
      "------------------------\n",
      "------------------------ night\n",
      "nights at the moutt to the some same angiculo what wintow that as they came the door of many sprarks which had been thought it to be the point. At all the story of the survivals this carelused or sometimes he thereed stinl a sumprys was than so that this sonity had something of the store, but a strange contaments told to ancient stone. We car to bark its candants of singular perfont to that market, the sound, and he was stenc and mind, and when a possible part which the thing, the town of the sanstion\n",
      "------------------------\n",
      "------------------------ dream\n",
      "dream and already then they had never been drapped to shell and take it out an exident a pachitive plictere time and to the strange of the seatheres which was once and seculed that the mantimes would back through a collegion that with the come of a careal trees of had senitaill, to a struggle in the men to the mind the sides of the angied become so troubled by the men of sumpliting ous and anceant on the strong. It was not into the portion, but the south were crumbling, and was nightmare to an impress\n",
      "------------------------\n",
      "------------------------ thing\n",
      "thing and the tort of minding in the convinian time of a pluse, as I had some signify which was about and already find out a town above, bring of manies as tell a stand of all that stelling spatiness somelishic of mestic than any of the must be attacked of the stuties, so their suct stour of the sound and the castings, of her concinted. All the south was thind we was astended to the condets, the peculiar care of the corred band, and at hearing to my stolis shoutd to see of hes beneste secrets with the\n",
      "------------------------\n",
      "------------------------ That night\n",
      "That night, the pensuls which were to deep a torgues of merely dark and convitionally dropes, both orders and a some time in some sucrecity and second, and all the shead of the constious toward his chamber in the suptry and planeass in a pertain the collegs was betome as at that thoughts and must have allosed the strate and shapes to the cross, to a paint or subpleces the stitune store in such solid concealing of the supsesting with him from the calp, and of the talks at the accessate at the plane would be\n",
      "------------------------\n",
      "------------------------ mountain\n",
      "mountain it was the surmate the starchean party. He would have been took to saticy through him the tempity. The sounter cells, who steather the tomate allie was tord, both this trin was suce which seemed subject the poring, the corresoon and short and mulations to see the poller and more such and alled store which, as the propated some wareless cemtion, and the possible course of the dosperar was that the dark chastes there, was a surmin about he disposed to the more than thist to his came. They had a ca\n",
      "------------------------\n",
      "------------------------ Ammi\n",
      "Amming of the same and ancient campling whose the and stoling stitile hudded their seen for stone about an enture from the chartes were nearly alloss to be seenes the profaring things where the munstard stearily, and all the drimbing and a seathened sone of the sound.\n",
      "\n",
      "I surveyed the samity. In the surpess the such securations was naterorially that they have teres the creacher of the ancestor. He saw a prosencion of hard some charting warns alone that the comman had been shelter. This sermitting, his\n",
      "------------------------\n",
      "------------------------ Cthulhu\n",
      "Cthulhus that a finst shight of the couree and the man who hat being at teetic than a commin tremer of the same or a forgatter and pranear on as thought we hidsed the mountains of howeders, and has seen at a father of the concise than the prosprese the trome to the thens of the conceatively, and had been the stanes were said that at the chorice chinging the chearly started. With hasting the secunt wind had come in the calt of the point of moriculat of him for simes about a pasture of the seement that ha\n",
      "------------------------\n",
      "------------------------ raven\n",
      "raven their town at the might, seen this his worked supternes and all shilisited concolution; and then with the painty altorether senminest was a seamon wat subgine to the tenning treed of mind and the sonit feal of the carven cring to the trace of the stalling strangerss to the prise the successes.\n",
      "\n",
      "Wast as the conscuous are, and the talks of his sained seeming word of as the charbed served their prists. We can to bath an ance of the concistering, of the ancolution terrible implications, and the subs\n",
      "------------------------\n",
      "------------------------ bird\n",
      "bird in a part and stalling the creature of healss—itters the ancient surmanshive strange speciass and senson concernable spirit to stark in shating. He decured the penson of the trouble of the attim which seeming serisale of a million and centre of tenting. It had sone work when In the strange methic and stance, we hid not a canto to as of the master who was now shouting to store in his centiricat on mare and pasted till and conceined from my stating some cripe would have felt an intensitity that wh\n",
      "------------------------\n",
      "------------------------ nevermore\n",
      "nevermore shelt the peaks. Was itsing or allous well be so the polorit and a the such in the portible carven plisting arthar, and the structure and any or tention to the persans trees of shill spot the pretanest and time on the party of that cherical passes as ancaled, whose messone shaller crome was shantly in a constinution. In all. I took all the surmis of hurraldial and polorities with a carving camp; but he were off the carven spine, where at the thought and sensitional tell when I startled to him to\n",
      "------------------------\n",
      "------------------------ dead\n",
      "dead of his sane secten too and the seaten stone surmares, the pates and his way in my solly and the point to be sharlled. The corricor was not a more convension to a stars and tensicies of a materoul sourch to the pore or certain antiquitias with the coustenance with the destrayed or the state that the sours of a prantos of him, they could he rupted as the torgues and such a stour seat of the state. It had been descined in and one of the person as an the trood the freghen still sound with the messin\n",
      "------------------------\n",
      "------------------------ The bird\n",
      "The birds and the thore of the altorate colvent to the strong.\n",
      "\n",
      "    And things we could so not that the dimention and shading of the mean of most alive, he could be any talk we was all shall, and a following timalical centary somethen as to the stand, and seemed to be sounded in one into the antarctic professors and shouldered bast at a such than second as they shewed his sheet with the mensal ateans in the accorning through, which there centled the crompents of the sound in that the perhops of the torns\n",
      "------------------------\n"
     ]
    }
   ],
   "source": [
    "for i in range(len(text_to_try)):\n",
    "    text = text_to_try[i]\n",
    "    generated = samples[i]\n",
    "    print(\"------------------------\",text)\n",
    "    print(generated)\n",
    "    print(\"------------------------\")"
   ]
  },
  {
   "cell_type": "code",
   "execution_count": null,
   "metadata": {
    "collapsed": true
   },
   "outputs": [],
   "source": []
  }
 ],
 "metadata": {
  "kernelspec": {
   "display_name": "Python 3",
   "language": "python",
   "name": "python3"
  },
  "language_info": {
   "codemirror_mode": {
    "name": "ipython",
    "version": 3
   },
   "file_extension": ".py",
   "mimetype": "text/x-python",
   "name": "python",
   "nbconvert_exporter": "python",
   "pygments_lexer": "ipython3",
   "version": "3.6.1"
  }
 },
 "nbformat": 4,
 "nbformat_minor": 2
}
