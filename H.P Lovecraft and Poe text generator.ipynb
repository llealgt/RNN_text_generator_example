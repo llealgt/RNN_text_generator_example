{
 "cells": [
  {
   "cell_type": "markdown",
   "metadata": {},
   "source": [
    "# Recurrent neural networks for H.P Lovecraft text generation\n",
    "\n",
    "\"The color out of space\" is one of my favorite tales from Lovecraft, i will use it(as well as others as the call of cthulhu) to create a recurrent neural network in tensorflow that learns his style and generates new text in his style\n",
    "\n",
    "This network is based off of Andrej Karpathy's [post on RNNs](http://karpathy.github.io/2015/05/21/rnn-effectiveness/) and [implementation in Torch](https://github.com/karpathy/char-rnn) and an example from \"Deep Learning Nanodegree\" on udacity. Also, some information [here at r2rt](http://r2rt.com/recurrent-neural-networks-in-tensorflow-ii.html) and from [Sherjil Ozair](https://github.com/sherjilozair/char-rnn-tensorflow) on GitHub. \n",
    "\n",
    "## General architecture using \"Long short term memory\" units in the recurrent layers\n",
    "\n",
    "<img src=\"assets/charseq.jpeg\" width=\"500\">"
   ]
  },
  {
   "cell_type": "code",
   "execution_count": 1,
   "metadata": {
    "collapsed": true
   },
   "outputs": [],
   "source": [
    "%matplotlib inline\n",
    "%config InlineBackend.figure_format = 'retina'"
   ]
  },
  {
   "cell_type": "code",
   "execution_count": 2,
   "metadata": {
    "collapsed": true
   },
   "outputs": [],
   "source": [
    "import time\n",
    "from collections import namedtuple\n",
    "\n",
    "import numpy as np\n",
    "import tensorflow as tf\n",
    "from nltk.tokenize import word_tokenize\n",
    "import nltk\n",
    "import itertools\n",
    "import matplotlib.pyplot as plt"
   ]
  },
  {
   "cell_type": "code",
   "execution_count": 3,
   "metadata": {
    "collapsed": true
   },
   "outputs": [],
   "source": [
    "# Run only the  first time nltk is used to download language\n",
    "#nltk.download()"
   ]
  },
  {
   "cell_type": "markdown",
   "metadata": {},
   "source": [
    "### Define conf variables and hyper parameteters "
   ]
  },
  {
   "cell_type": "code",
   "execution_count": 4,
   "metadata": {
    "collapsed": true
   },
   "outputs": [],
   "source": [
    "mode = \"characters\" #characters or words\n",
    "\n",
    "epochs = 700\n",
    "batch_size = 100         # Sequences per batch\n",
    "num_steps = 250          # Number of sequence steps per batch\n",
    "lstm_size = 768         # Size of hidden layers in LSTMs\n",
    "num_layers = 2          # Number of LSTM layers\n",
    "learning_rate = 0.0001    # Learning rate\n",
    "keep_prob = 0.2         # Dropout keep probability"
   ]
  },
  {
   "cell_type": "markdown",
   "metadata": {},
   "source": [
    "### Define base text\n",
    "Once trained ,the network can take base text and a sequence size and generate new text using base text as first characters in the sequence. For every element in base text wi will create a list that will store generated text as training goes, to be able to compare results between steps"
   ]
  },
  {
   "cell_type": "code",
   "execution_count": 5,
   "metadata": {
    "collapsed": true
   },
   "outputs": [],
   "source": [
    "text_to_try = [\"In the first place\",\"the night before\",\"horror\",\"creature\",\"night\",\"dream\",\"thing\",\"That night\",\"mountain\",\"Ammi\",\"Cthulhu\",\"raven\",\"bird\",\"nevermore\",\"dead\",\"The bird\"]"
   ]
  },
  {
   "cell_type": "markdown",
   "metadata": {},
   "source": [
    "#### Function that separates text into tokens(for whitespace characters, only new line is implemented, missing tabs and others="
   ]
  },
  {
   "cell_type": "code",
   "execution_count": 6,
   "metadata": {},
   "outputs": [
    {
     "data": {
      "text/plain": [
       "['H',\n",
       " 'e',\n",
       " 'l',\n",
       " 'l',\n",
       " 'o',\n",
       " ',',\n",
       " ' ',\n",
       " 'm',\n",
       " 'y',\n",
       " ' ',\n",
       " 'n',\n",
       " 'a',\n",
       " 'm',\n",
       " 'e',\n",
       " ' ',\n",
       " 'i',\n",
       " 's',\n",
       " ' ',\n",
       " 'L',\n",
       " 'u',\n",
       " 'i',\n",
       " 's',\n",
       " ' ',\n",
       " 'L',\n",
       " 'e',\n",
       " 'a',\n",
       " 'l',\n",
       " '!',\n",
       " '\\n',\n",
       " '\\n',\n",
       " 'F',\n",
       " 'r',\n",
       " 'o',\n",
       " 'm',\n",
       " ' ',\n",
       " 'G',\n",
       " 'u',\n",
       " 'a',\n",
       " 't',\n",
       " 'e',\n",
       " 'm',\n",
       " 'a',\n",
       " 'l',\n",
       " 'a']"
      ]
     },
     "execution_count": 6,
     "metadata": {},
     "output_type": "execute_result"
    }
   ],
   "source": [
    "def tokenize_by_words(text):\n",
    "    text = text.replace(\"\\n\",\" new_line_token \")\n",
    "    tokens = []\n",
    "    splitted =[[word_tokenize(w),' ']for w in text.split()]\n",
    "    splitted = list(itertools.chain(*list(itertools.chain(*splitted))))\n",
    "    \n",
    "    token_list = []\n",
    "    i = 0\n",
    "    while i < len(splitted):\n",
    "        if splitted[i] == \"new_line_token\":\n",
    "            if   token_list[-1]==\" \":\n",
    "                token_list[-1] = splitted[i]\n",
    "            else:\n",
    "                token_list.append(splitted[i])\n",
    "            i+=1\n",
    "        else:\n",
    "            token_list.append(splitted[i])\n",
    "        i+=1\n",
    "    \n",
    "    return token_list\n",
    "\n",
    "def tokenize_by_characters(text):\n",
    "    return list(text)\n",
    "\n",
    "def tokenize_text(text,mode=\"characters\"):\n",
    "    if mode == \"characters\":\n",
    "        return tokenize_by_characters(text)\n",
    "    elif mode == \"words\":\n",
    "        return tokenize_by_words(text)\n",
    "    \n",
    "tokenize_text(\"Hello, my name is Luis Leal!\\n\\nFrom Guatemala\",mode)\n",
    "#tokenize_text(\"Hello, my name is Luis Leal!\\n\\nFrom Guatemala\",\"words\")\n"
   ]
  },
  {
   "cell_type": "markdown",
   "metadata": {},
   "source": [
    "First we'll load the text file and convert it into integers for our network to use. Here I'm creating a couple dictionaries to convert the characters to and from integers. Encoding the characters as integers makes it easier to use as input in the network."
   ]
  },
  {
   "cell_type": "code",
   "execution_count": 7,
   "metadata": {
    "collapsed": true
   },
   "outputs": [],
   "source": [
    "with open('colour_out_of_space.txt', 'r') as f:\n",
    "    text=f.read()"
   ]
  },
  {
   "cell_type": "code",
   "execution_count": 8,
   "metadata": {
    "collapsed": true
   },
   "outputs": [],
   "source": [
    "vocab = set(tokenize_text(text,mode))\n",
    "vocab_to_int = {c: i for i, c in enumerate(vocab)}\n",
    "int_to_vocab = dict(enumerate(vocab))"
   ]
  },
  {
   "cell_type": "markdown",
   "metadata": {},
   "source": [
    "### Get a little portion of text for validation"
   ]
  },
  {
   "cell_type": "code",
   "execution_count": 9,
   "metadata": {},
   "outputs": [],
   "source": [
    "validation_size = batch_size * num_steps #create a single baty\n",
    "validation_start_index = len(text) - validation_size\n",
    "\n",
    "val_text = text[validation_start_index:]\n",
    "text = text[:validation_start_index]"
   ]
  },
  {
   "cell_type": "markdown",
   "metadata": {},
   "source": [
    "Let's check out the first 100 characters of train and validation, make sure everything is peachy.  line of a book ever."
   ]
  },
  {
   "cell_type": "code",
   "execution_count": 10,
   "metadata": {},
   "outputs": [
    {
     "data": {
      "text/plain": [
       "'THE COLOUR OUT OF SPACE\\n\\nWest of Arkham the hills rise wild, and there are valleys with deep woods t'"
      ]
     },
     "execution_count": 10,
     "metadata": {},
     "output_type": "execute_result"
    }
   ],
   "source": [
    "text[:100]"
   ]
  },
  {
   "cell_type": "code",
   "execution_count": 11,
   "metadata": {},
   "outputs": [
    {
     "data": {
      "text/plain": [
       "'vine which had proved\\nthe tomb of our friends, and to the southward of the spot where the\\nhill had f'"
      ]
     },
     "execution_count": 11,
     "metadata": {},
     "output_type": "execute_result"
    }
   ],
   "source": [
    "val_text[:100]"
   ]
  },
  {
   "cell_type": "code",
   "execution_count": 12,
   "metadata": {
    "collapsed": true
   },
   "outputs": [],
   "source": [
    "encoded = np.array([vocab_to_int[c] for c in tokenize_text(text,mode)], dtype=np.int32)\n",
    "encoded_val = np.array([vocab_to_int[c] for c in tokenize_text(val_text,mode)],dtype=np.int32)"
   ]
  },
  {
   "cell_type": "markdown",
   "metadata": {},
   "source": [
    "And we can see the characters encoded as integersin both train and validation"
   ]
  },
  {
   "cell_type": "code",
   "execution_count": 13,
   "metadata": {},
   "outputs": [
    {
     "data": {
      "text/plain": [
       "array([83, 56, 14, 54,  9, 58, 71, 58, 34, 73, 54, 58, 34, 83, 54, 58, 77,\n",
       "       54, 46, 27, 23,  9, 14, 61, 61, 52, 19, 89, 38, 54, 91, 47, 54, 23,\n",
       "        3,  2, 20, 68, 32, 54, 38, 20, 19, 54, 20, 85, 86, 86, 89, 54,  3,\n",
       "       85, 89, 19, 54, 90, 85, 86, 35, 43, 54, 68, 72, 35, 54, 38, 20, 19,\n",
       "        3, 19, 54, 68,  3, 19, 54, 74, 68, 86, 86, 19, 80, 89, 54, 90, 85,\n",
       "       38, 20, 54, 35, 19, 19,  1, 54, 90, 91, 91, 35, 89, 54, 38], dtype=int32)"
      ]
     },
     "execution_count": 13,
     "metadata": {},
     "output_type": "execute_result"
    }
   ],
   "source": [
    "encoded[:100]"
   ]
  },
  {
   "cell_type": "code",
   "execution_count": 14,
   "metadata": {},
   "outputs": [
    {
     "data": {
      "text/plain": [
       "array([74, 85, 72, 19, 54, 90, 20, 85, 33, 20, 54, 20, 68, 35, 54,  1,  3,\n",
       "       91, 74, 19, 35, 61, 38, 20, 19, 54, 38, 91, 32, 45, 54, 91, 47, 54,\n",
       "       91, 50,  3, 54, 47,  3, 85, 19, 72, 35, 89, 43, 54, 68, 72, 35, 54,\n",
       "       38, 91, 54, 38, 20, 19, 54, 89, 91, 50, 38, 20, 90, 68,  3, 35, 54,\n",
       "       91, 47, 54, 38, 20, 19, 54, 89,  1, 91, 38, 54, 90, 20, 19,  3, 19,\n",
       "       54, 38, 20, 19, 61, 20, 85, 86, 86, 54, 20, 68, 35, 54, 47], dtype=int32)"
      ]
     },
     "execution_count": 14,
     "metadata": {},
     "output_type": "execute_result"
    }
   ],
   "source": [
    "encoded_val[0:100]"
   ]
  },
  {
   "cell_type": "markdown",
   "metadata": {},
   "source": [
    "Since the network is working with individual english tokens, it's similar to a classification problem in which we are trying to predict the next character from the previous text.  Here's how many 'classes' our network has to pick from."
   ]
  },
  {
   "cell_type": "code",
   "execution_count": 15,
   "metadata": {},
   "outputs": [
    {
     "data": {
      "text/plain": [
       "93"
      ]
     },
     "execution_count": 15,
     "metadata": {},
     "output_type": "execute_result"
    }
   ],
   "source": [
    "len(vocab)"
   ]
  },
  {
   "cell_type": "code",
   "execution_count": 16,
   "metadata": {},
   "outputs": [
    {
     "name": "stdout",
     "output_type": "stream",
     "text": [
      "vine which had proved\n",
      "the tomb of our friends, and to the southward of the spot where the\n",
      "hill had f\n"
     ]
    }
   ],
   "source": [
    "def encoded_to_text(encoded):\n",
    "    return \"\".join([int_to_vocab[number] for number in encoded])\n",
    "\n",
    "print(encoded_to_text(encoded_val[0:100]))"
   ]
  },
  {
   "cell_type": "markdown",
   "metadata": {},
   "source": [
    "## Making training mini-batches\n",
    "\n",
    "Here is where we'll make our mini-batches for training. Remember that we want our batches to be multiple sequences of some desired number of sequence steps. Considering a simple example, our batches would look like this:\n",
    "\n",
    "<img src=\"assets/sequence_batching@1x.png\" width=500px>\n",
    "\n",
    "\n",
    "<br>\n",
    "We have our text encoded as integers as one long array in `encoded`. Let's create a function that will give us an iterator for our batches. I like using [generator functions](https://jeffknupp.com/blog/2013/04/07/improve-your-python-yield-and-generators-explained/) to do this. Then we can pass `encoded` into this function and get our batch generator.\n",
    "\n",
    "The first thing we need to do is discard some of the text so we only have completely full batches. Each batch contains $N \\times M$ characters, where $N$ is the batch size (the number of sequences) and $M$ is the number of steps. Then, to get the number of batches we can make from some array `arr`, you divide the length of `arr` by the batch size. Once you know the number of batches and the batch size, you can get the total number of characters to keep.\n",
    "\n",
    "After that, we need to split `arr` into $N$ sequences. You can do this using `arr.reshape(size)` where `size` is a tuple containing the dimensions sizes of the reshaped array. We know we want $N$ sequences (`n_seqs` below), let's make that the size of the first dimension. For the second dimension, you can use `-1` as a placeholder in the size, it'll fill up the array with the appropriate data for you. After this, you should have an array that is $N \\times (M * K)$ where $K$ is the number of batches.\n",
    "\n",
    "Now that we have this array, we can iterate through it to get our batches. The idea is each batch is a $N \\times M$ window on the array. For each subsequent batch, the window moves over by `n_steps`. We also want to create both the input and target arrays. Remember that the targets are the inputs shifted over one character. You'll usually see the first input character used as the last target character, so something like this:\n",
    "```python\n",
    "y[:, :-1], y[:, -1] = x[:, 1:], x[:, 0]\n",
    "```\n",
    "where `x` is the input batch and `y` is the target batch.\n",
    "\n",
    "The way I like to do this window is use `range` to take steps of size `n_steps` from $0$ to `arr.shape[1]`, the total number of steps in each sequence. That way, the integers you get from `range` always point to the start of a batch, and each window is `n_steps` wide."
   ]
  },
  {
   "cell_type": "code",
   "execution_count": 17,
   "metadata": {
    "collapsed": true
   },
   "outputs": [],
   "source": [
    "def get_batches(arr, n_seqs, n_steps):\n",
    "    '''Create a generator that returns batches of size\n",
    "       n_seqs x n_steps from arr.\n",
    "       \n",
    "       Arguments\n",
    "       ---------\n",
    "       arr: Array you want to make batches from\n",
    "       n_seqs: Batch size, the number of sequences per batch\n",
    "       n_steps: Number of sequence steps per batch\n",
    "    '''\n",
    "    # Get the batch size and number of batches we can make\n",
    "    batch_size = n_seqs * n_steps \n",
    "    n_batches =  len(arr)//batch_size\n",
    "    \n",
    "    # Keep only enough characters to make full batches\n",
    "    arr =  arr[:n_batches*batch_size]\n",
    "    \n",
    "    # Reshape into n_seqs rows\n",
    "    arr = arr.reshape((n_seqs,-1))\n",
    "    \n",
    "    for n in range(0, arr.shape[1], n_steps):\n",
    "        # The features\n",
    "        x = arr[:,n:n+n_steps]\n",
    "        # The targets, shifted by one\n",
    "        y = np.zeros(x.shape)\n",
    "        y[:,:-1],y[:,-1] = x[:,1:] ,x[:,0]\n",
    "        yield x, y"
   ]
  },
  {
   "cell_type": "markdown",
   "metadata": {},
   "source": [
    "Now I'll make my data sets and we can check out what's going on here. Here I'm going to use a batch size of 10 and 50 sequence steps."
   ]
  },
  {
   "cell_type": "code",
   "execution_count": 18,
   "metadata": {
    "collapsed": true
   },
   "outputs": [],
   "source": [
    "batches = get_batches(encoded, 10, 50)\n",
    "x, y = next(batches)"
   ]
  },
  {
   "cell_type": "code",
   "execution_count": 19,
   "metadata": {},
   "outputs": [
    {
     "name": "stdout",
     "output_type": "stream",
     "text": [
      "x\n",
      " [[83 56 14 54  9 58 71 58 34 73]\n",
      " [54  1 19  3 74 19  3 89 85 91]\n",
      " [86 19 54 68 45 91 50 38 54 90]\n",
      " [54 32 68 86 91 35 91  3 91 50]\n",
      " [68 86 86 89 54 90 19 68 86 38]\n",
      " [85 86 86 50 89 85 91 72 54 35]\n",
      " [86 68  3 89 54 20 19  3 19 54]\n",
      " [43 54 85 72 54 38  3 50 38 20]\n",
      " [38 20 19 54 32 68 38 19 54 68]\n",
      " [19 19 72 61 20 68  1  1 85 86]]\n",
      "\n",
      "y\n",
      " [[ 56.  14.  54.   9.  58.  71.  58.  34.  73.  54.]\n",
      " [  1.  19.   3.  74.  19.   3.  89.  85.  91.  72.]\n",
      " [ 19.  54.  68.  45.  91.  50.  38.  54.  90.  20.]\n",
      " [ 32.  68.  86.  91.  35.  91.   3.  91.  50.  89.]\n",
      " [ 86.  86.  89.  54.  90.  19.  68.  86.  38.  20.]\n",
      " [ 86.  86.  50.  89.  85.  91.  72.  54.  35.  85.]\n",
      " [ 68.   3.  89.  54.  20.  19.   3.  19.  54.  68.]\n",
      " [ 54.  85.  72.  54.  38.   3.  50.  38.  20.  43.]\n",
      " [ 20.  19.  54.  32.  68.  38.  19.  54.  68.  72.]\n",
      " [ 19.  72.  61.  20.  68.   1.   1.  85.  86.  80.]]\n"
     ]
    }
   ],
   "source": [
    "print('x\\n', x[:10, :10])\n",
    "print('\\ny\\n', y[:10, :10])"
   ]
  },
  {
   "cell_type": "markdown",
   "metadata": {},
   "source": [
    "## Building the model\n",
    "\n",
    "Below is where you'll build the network. We'll break it up into parts so it's easier to reason about each bit. Then we can connect them up into the whole network.\n",
    "\n",
    "<img src=\"assets/charRNN.png\" width=500px>\n",
    "\n",
    "\n",
    "### Inputs\n",
    "\n",
    "First off we'll create our input placeholders. As usual we need placeholders for the training data and the targets. We'll also create a placeholder for dropout layers called `keep_prob`. This will be a scalar, that is a 0-D tensor. To make a scalar, you create a placeholder without giving it a size."
   ]
  },
  {
   "cell_type": "code",
   "execution_count": 20,
   "metadata": {
    "collapsed": true
   },
   "outputs": [],
   "source": [
    "def build_inputs(batch_size, num_steps):\n",
    "    ''' Define placeholders for inputs, targets, and dropout \n",
    "    \n",
    "        Arguments\n",
    "        ---------\n",
    "        batch_size: Batch size, number of sequences per batch\n",
    "        num_steps: Number of sequence steps in a batch\n",
    "        \n",
    "    '''\n",
    "    # Declare placeholders we'll feed into the graph\n",
    "    inputs = tf.placeholder(tf.int32,[batch_size,num_steps],name=\"inputs\")\n",
    "    targets = tf.placeholder(tf.int32,[batch_size,num_steps],name=\"targets\")\n",
    "    \n",
    "    # Keep probability placeholder for drop out layers\n",
    "    keep_prob = tf.placeholder(tf.float32,name=\"keep_prob\")\n",
    "    \n",
    "    return inputs, targets, keep_prob"
   ]
  },
  {
   "cell_type": "markdown",
   "metadata": {},
   "source": [
    "### LSTM Cell\n",
    "\n",
    "Here we will create the LSTM cell we'll use in the hidden layer. We'll use this cell as a building block for the RNN. So we aren't actually defining the RNN here, just the type of cell we'll use in the hidden layer.\n",
    "\n",
    "We first create a basic LSTM cell with\n",
    "\n",
    "```python\n",
    "lstm = tf.contrib.rnn.BasicLSTMCell(num_units)\n",
    "```\n",
    "\n",
    "where `num_units` is the number of units in the hidden layers in the cell. Then we can add dropout by wrapping it with \n",
    "\n",
    "```python\n",
    "tf.contrib.rnn.DropoutWrapper(lstm, output_keep_prob=keep_prob)\n",
    "```\n",
    "You pass in a cell and it will automatically add dropout to the inputs or outputs. Finally, we can stack up the LSTM cells into layers with [`tf.contrib.rnn.MultiRNNCell`](https://www.tensorflow.org/versions/r1.0/api_docs/python/tf/contrib/rnn/MultiRNNCell). With this, you pass in a list of cells and it will send the output of one cell into the next cell. For example,\n",
    "\n",
    "```python\n",
    "tf.contrib.rnn.MultiRNNCell([cell]*num_layers)\n",
    "```\n",
    "\n",
    "This might look a little weird if you know Python well because this will create a list of the same `cell` object. However, TensorFlow will create different weight matrices for all `cell` objects. Even though this is actually multiple LSTM cells stacked on each other, you can treat the multiple layers as one cell.\n",
    "\n",
    "We also need to create an initial cell state of all zeros. This can be done like so\n",
    "\n",
    "```python\n",
    "initial_state = cell.zero_state(batch_size, tf.float32)\n",
    "```\n"
   ]
  },
  {
   "cell_type": "code",
   "execution_count": 21,
   "metadata": {
    "collapsed": true
   },
   "outputs": [],
   "source": [
    "def build_lstm(lstm_size, num_layers, batch_size, keep_prob):\n",
    "    ''' Build LSTM cell.\n",
    "    \n",
    "        Arguments\n",
    "        ---------\n",
    "        keep_prob: Scalar tensor (tf.placeholder) for the dropout keep probability\n",
    "        lstm_size: Size of the hidden layers in the LSTM cells\n",
    "        num_layers: Number of LSTM layers\n",
    "        batch_size: Batch size\n",
    "\n",
    "    '''\n",
    "    ### Build the LSTM Cell\n",
    "    # Use a basic LSTM cell\n",
    "    # Add dropout to the cell outputs\n",
    "    # Stack up multiple LSTM layers, for deep learning\n",
    "    cell = tf.contrib.rnn.MultiRNNCell([tf.contrib.rnn.DropoutWrapper( tf.contrib.rnn.BasicLSTMCell(lstm_size),output_keep_prob = keep_prob) for _ in range(num_layers)])\n",
    "    initial_state = cell.zero_state(batch_size,tf.float32)\n",
    "    \n",
    "    return cell, initial_state"
   ]
  },
  {
   "cell_type": "markdown",
   "metadata": {},
   "source": [
    "### RNN Output\n",
    "\n",
    "Here we'll create the output layer. We need to connect the output of the RNN cells to a full connected layer with a softmax output. The softmax output gives us a probability distribution we can use to predict the next character, so we want this layer to have size $C$, the number of classes/characters we have in our text.\n",
    "\n",
    "If our input has batch size $N$, number of steps $M$, and the hidden layer has $L$ hidden units, then the output is a 3D tensor with size $N \\times M \\times L$. The output of each LSTM cell has size $L$, we have $M$ of them, one for each sequence step, and we have $N$ sequences. So the total size is $N \\times M \\times L$. \n",
    "\n",
    "We are using the same fully connected layer, the same weights, for each of the outputs. Then, to make things easier, we should reshape the outputs into a 2D tensor with shape $(M * N) \\times L$. That is, one row for each sequence and step, where the values of each row are the output from the LSTM cells. We get the LSTM output as a list, `lstm_output`. First we need to concatenate this whole list into one array with [`tf.concat`](https://www.tensorflow.org/api_docs/python/tf/concat). Then, reshape it (with `tf.reshape`) to size $(M * N) \\times L$.\n",
    "\n",
    "One we have the outputs reshaped, we can do the matrix multiplication with the weights. We need to wrap the weight and bias variables in a variable scope with `tf.variable_scope(scope_name)` because there are weights being created in the LSTM cells. TensorFlow will throw an error if the weights created here have the same names as the weights created in the LSTM cells, which they will be default. To avoid this, we wrap the variables in a variable scope so we can give them unique names.\n"
   ]
  },
  {
   "cell_type": "code",
   "execution_count": 22,
   "metadata": {
    "collapsed": true
   },
   "outputs": [],
   "source": [
    "def build_output(lstm_output, in_size, out_size):\n",
    "    ''' Build a softmax layer, return the softmax output and logits.\n",
    "    \n",
    "        Arguments\n",
    "        ---------\n",
    "        \n",
    "        lstm_output: List of output tensors from the LSTM layer\n",
    "        in_size: Size of the input tensor, for example, size of the LSTM cells\n",
    "        out_size: Size of this softmax layer\n",
    "    \n",
    "    '''\n",
    "\n",
    "    # Reshape output so it's a bunch of rows, one row for each step for each sequence.\n",
    "    # Concatenate lstm_output over axis 1 (the columns)\n",
    "    seq_output = tf.concat(lstm_output,axis=1)\n",
    "    # Reshape seq_output to a 2D tensor with lstm_size columns\n",
    "    x = tf.reshape(seq_output,[-1,in_size])\n",
    "    \n",
    "    # Connect the RNN outputs to a softmax layer\n",
    "    with tf.variable_scope('softmax'):\n",
    "        # Create the weight and bias variables here\n",
    "        softmax_w = tf.Variable(tf.truncated_normal((in_size, out_size),stddev=0.1))\n",
    "        softmax_b = tf.Variable(tf.zeros([out_size]))\n",
    "    \n",
    "    # Since output is a bunch of rows of RNN cell outputs, logits will be a bunch\n",
    "    # of rows of logit outputs, one for each step and sequence\n",
    "    logits =  tf.add(tf.matmul(x,softmax_w),softmax_b) \n",
    "    \n",
    "    # Use softmax to get the probabilities for predicted characters\n",
    "    out = tf.nn.softmax(logits,name =\"out\")\n",
    "    \n",
    "    return out, logits"
   ]
  },
  {
   "cell_type": "markdown",
   "metadata": {},
   "source": [
    "### Training loss\n",
    "\n",
    "Next up is the training loss. We get the logits and targets and calculate the softmax cross-entropy loss. First we need to one-hot encode the targets, we're getting them as encoded characters. Then, reshape the one-hot targets so it's a 2D tensor with size $(M*N) \\times C$ where $C$ is the number of classes/characters we have. Remember that we reshaped the LSTM outputs and ran them through a fully connected layer with $C$ units. So our logits will also have size $(M*N) \\times C$.\n",
    "\n",
    "Then we run the logits and targets through `tf.nn.softmax_cross_entropy_with_logits` and find the mean to get the loss."
   ]
  },
  {
   "cell_type": "code",
   "execution_count": 23,
   "metadata": {
    "collapsed": true
   },
   "outputs": [],
   "source": [
    "def build_loss(logits, targets, lstm_size, num_classes):\n",
    "    ''' Calculate the loss from the logits and the targets.\n",
    "    \n",
    "        Arguments\n",
    "        ---------\n",
    "        logits: Logits from final fully connected layer\n",
    "        targets: Targets for supervised learning\n",
    "        lstm_size: Number of LSTM hidden units\n",
    "        num_classes: Number of classes in targets\n",
    "        \n",
    "    '''\n",
    "    # One-hot encode targets and reshape to match logits, one row per sequence per step\n",
    "    y_one_hot = tf.one_hot(targets,num_classes)\n",
    "    y_reshaped =  tf.reshape(y_one_hot,logits.get_shape())\n",
    "    \n",
    "    # Softmax cross entropy loss\n",
    "    loss = tf.reduce_mean(tf.nn.softmax_cross_entropy_with_logits(logits=logits,labels=y_reshaped))\n",
    "    \n",
    "    return loss"
   ]
  },
  {
   "cell_type": "markdown",
   "metadata": {},
   "source": [
    "### Optimizer\n",
    "\n",
    "Here we build the optimizer. Normal RNNs have have issues gradients exploding and disappearing. LSTMs fix the disappearance problem, but the gradients can still grow without bound. To fix this, we can clip the gradients above some threshold. That is, if a gradient is larger than that threshold, we set it to the threshold. This will ensure the gradients never grow overly large. Then we use an AdamOptimizer for the learning step."
   ]
  },
  {
   "cell_type": "code",
   "execution_count": 24,
   "metadata": {
    "collapsed": true
   },
   "outputs": [],
   "source": [
    "def build_optimizer(loss, learning_rate, grad_clip,global_step):\n",
    "    ''' Build optmizer for training, using gradient clipping.\n",
    "    \n",
    "        Arguments:\n",
    "        loss: Network loss\n",
    "        learning_rate: Learning rate for optimizer\n",
    "        global_step: to control the total number of train steps\n",
    "    \n",
    "    '''\n",
    "    \n",
    "    # Optimizer for training, using gradient clipping to control exploding gradients\n",
    "    tvars = tf.trainable_variables()\n",
    "    grads, _ = tf.clip_by_global_norm(tf.gradients(loss, tvars), grad_clip)\n",
    "    train_op = tf.train.AdamOptimizer(learning_rate)\n",
    "    optimizer = train_op.apply_gradients(zip(grads, tvars),global_step)\n",
    "    \n",
    "    return optimizer"
   ]
  },
  {
   "cell_type": "markdown",
   "metadata": {},
   "source": [
    "### Build the network\n",
    "\n",
    "Now we can put all the pieces together and build a class for the network. To actually run data through the LSTM cells, we will use [`tf.nn.dynamic_rnn`](https://www.tensorflow.org/versions/r1.0/api_docs/python/tf/nn/dynamic_rnn). This function will pass the hidden and cell states across LSTM cells appropriately for us. It returns the outputs for each LSTM cell at each step for each sequence in the mini-batch. It also gives us the final LSTM state. We want to save this state as `final_state` so we can pass it to the first LSTM cell in the the next mini-batch run. For `tf.nn.dynamic_rnn`, we pass in the cell and initial state we get from `build_lstm`, as well as our input sequences. Also, we need to one-hot encode the inputs before going into the RNN. \n"
   ]
  },
  {
   "cell_type": "code",
   "execution_count": 25,
   "metadata": {
    "collapsed": true
   },
   "outputs": [],
   "source": [
    "class CharRNN:\n",
    "    \n",
    "    def __init__(self, num_classes, batch_size=64, num_steps=50, \n",
    "                       lstm_size=128, num_layers=2, learning_rate=0.001, \n",
    "                       grad_clip=5, sampling=False):\n",
    "    \n",
    "        # When we're using this network for sampling later, we'll be passing in\n",
    "        # one character at a time, so providing an option for that\n",
    "        if sampling == True:\n",
    "            batch_size, num_steps = 1, 1\n",
    "        else:\n",
    "            batch_size, num_steps = batch_size, num_steps\n",
    "\n",
    "        tf.reset_default_graph()\n",
    "        \n",
    "        self.global_step_tensor = tf.Variable(0,trainable=False,name = \"global_step\")\n",
    "        # Build the input placeholder tensors\n",
    "        self.inputs, self.targets, self.keep_prob = build_inputs(batch_size,num_steps)\n",
    "        # Build the LSTM cell\n",
    "        cell, self.initial_state = build_lstm(lstm_size,num_layers,batch_size,self.keep_prob)\n",
    "        ### Run the data through the RNN layers\n",
    "        # First, one-hot encode the input tokens\n",
    "        x_one_hot = tf.one_hot(self.inputs,num_classes)\n",
    "        \n",
    "        # Run each sequence step through the RNN with tf.nn.dynamic_rnn \n",
    "        outputs, state = tf.nn.dynamic_rnn(cell,x_one_hot,initial_state=self.initial_state)\n",
    "        self.final_state = state\n",
    "        \n",
    "        # Get softmax predictions and logits\n",
    "        self.prediction, self.logits = build_output(outputs,lstm_size,num_classes)\n",
    "        \n",
    "        # Loss and optimizer (with gradient clipping)\n",
    "        self.loss =  build_loss(self.logits,self.targets,lstm_size,num_classes)\n",
    "        self.optimizer = build_optimizer(self.loss,learning_rate,grad_clip,self.global_step_tensor)"
   ]
  },
  {
   "cell_type": "markdown",
   "metadata": {},
   "source": [
    "## Hyperparameters\n",
    "\n",
    "Here are the hyperparameters for the network.\n",
    "\n",
    "* `batch_size` - Number of sequences running through the network in one pass.\n",
    "* `num_steps` - Number of characters in the sequence the network is trained on. Larger is better typically, the network will learn more long range dependencies. But it takes longer to train. 100 is typically a good number here.\n",
    "* `lstm_size` - The number of units in the hidden layers.\n",
    "* `num_layers` - Number of hidden LSTM layers to use\n",
    "* `learning_rate` - Learning rate for training\n",
    "* `keep_prob` - The dropout keep probability when training. If you're network is overfitting, try decreasing this.\n",
    "\n",
    "Here's some good advice from Andrej Karpathy on training the network:. \n",
    "\n",
    "> ## Tips and Tricks\n",
    "\n",
    ">### Monitoring Validation Loss vs. Training Loss\n",
    ">If you're somewhat new to Machine Learning or Neural Networks it can take a bit of expertise to get good models. The most important quantity to keep track of is the difference between your training loss (printed during training) and the validation loss (printed once in a while when the RNN is run on the validation data (by default every 1000 iterations)). In particular:\n",
    "\n",
    "> - If your training loss is much lower than validation loss then this means the network might be **overfitting**. Solutions to this are to decrease your network size, or to increase dropout. For example you could try dropout of 0.5 and so on.\n",
    "> - If your training/validation loss are about equal then your model is **underfitting**. Increase the size of your model (either number of layers or the raw number of neurons per layer)\n",
    "\n",
    "> ### Approximate number of parameters\n",
    "\n",
    "> The two most important parameters that control the model are `lstm_size` and `num_layers`. I would advise that you always use `num_layers` of either 2/3. The `lstm_size` can be adjusted based on how much data you have. The two important quantities to keep track of here are:\n",
    "\n",
    "> - The number of parameters in your model. This is printed when you start training.\n",
    "> - The size of your dataset. 1MB file is approximately 1 million characters.\n",
    "\n",
    ">These two should be about the same order of magnitude. It's a little tricky to tell. Here are some examples:\n",
    "\n",
    "> - I have a 100MB dataset and I'm using the default parameter settings (which currently print 150K parameters). My data size is significantly larger (100 mil >> 0.15 mil), so I expect to heavily underfit. I am thinking I can comfortably afford to make `lstm_size` larger.\n",
    "> - I have a 10MB dataset and running a 10 million parameter model. I'm slightly nervous and I'm carefully monitoring my validation loss. If it's larger than my training loss then I may want to try to increase dropout a bit and see if that helps the validation loss.\n",
    "\n",
    "> ### Best models strategy\n",
    "\n",
    ">The winning strategy to obtaining very good models (if you have the compute time) is to always err on making the network larger (as large as you're willing to wait for it to compute) and then try different dropout values (between 0,1). Whatever model has the best validation performance (the loss, written in the checkpoint filename, low is good) is the one you should use in the end.\n",
    "\n",
    ">It is very common in deep learning to run many different models with many different hyperparameter settings, and in the end take whatever checkpoint gave the best validation performance.\n",
    "\n",
    ">By the way, the size of your training and validation splits are also parameters. Make sure you have a decent amount of data in your validation set or otherwise the validation performance will be noisy and not very informative."
   ]
  },
  {
   "cell_type": "code",
   "execution_count": 26,
   "metadata": {
    "collapsed": true
   },
   "outputs": [],
   "source": [
    "def get_number_of_parameters():\n",
    "    total_parameters = 0\n",
    "    for variable in tf.trainable_variables():\n",
    "        shape = variable.get_shape()\n",
    "        #print(shape)\n",
    "        #print(len(shape))\n",
    "        variable_parameters = 1\n",
    "        \n",
    "        for dim in shape:\n",
    "            #print(dim)\n",
    "            variable_parameters*=dim.value\n",
    "        #print(variable_parameters)\n",
    "        total_parameters+= variable_parameters\n",
    "    return total_parameters"
   ]
  },
  {
   "cell_type": "code",
   "execution_count": 27,
   "metadata": {
    "collapsed": true
   },
   "outputs": [],
   "source": [
    "def pick_top_n(preds, vocab_size, top_n=5):\n",
    "    p = np.squeeze(preds)\n",
    "    p[np.argsort(p)[:-top_n]] = 0\n",
    "    p = p / np.sum(p)\n",
    "    c = np.random.choice(vocab_size, 1, p=p)[0]\n",
    "    return c"
   ]
  },
  {
   "cell_type": "markdown",
   "metadata": {},
   "source": [
    "## Time for training\n",
    "\n",
    "This is typical training code, passing inputs and targets into the network, then running the optimizer. Here we also get back the final LSTM state for the mini-batch. Then, we pass that state back into the network so the next batch can continue the state from the previous batch. And every so often (set by `save_every_n`) I save a checkpoint.\n",
    "\n",
    "Here I'm saving checkpoints with the format\n",
    "\n",
    "`i{iteration number}_l{# hidden layer units}.ckpt`\n"
   ]
  },
  {
   "cell_type": "code",
   "execution_count": 28,
   "metadata": {
    "collapsed": true
   },
   "outputs": [],
   "source": [
    "losses = {\"train\":[],\"validation\":[]}\n",
    "x_steps = list()"
   ]
  },
  {
   "cell_type": "code",
   "execution_count": 29,
   "metadata": {
    "collapsed": true
   },
   "outputs": [],
   "source": [
    "resume_from_checkpoint = False"
   ]
  },
  {
   "cell_type": "code",
   "execution_count": 30,
   "metadata": {
    "scrolled": true
   },
   "outputs": [
    {
     "name": "stdout",
     "output_type": "stream",
     "text": [
      "Number of parameters: 7441245 Dataset size: 1288941\n",
      "Epoch: 1/700...  Training Step: 1...  Training loss: 4.5366...  Val loss: 4.5184...  1.0609 sec/batch\n",
      "WARNING:tensorflow:Error encountered when serializing LAYER_NAME_UIDS.\n",
      "Type is unsupported, or the types of the items don't match field type in CollectionDef.\n",
      "'dict' object has no attribute 'name'\n",
      "Epoch: 2/700...  Training Step: 101...  Training loss: 3.2520...  Val loss: 3.1015...  0.8232 sec/batch\n",
      "Epoch: 4/700...  Training Step: 201...  Training loss: 3.1647...  Val loss: 3.0566...  0.8245 sec/batch\n",
      "Epoch: 6/700...  Training Step: 301...  Training loss: 3.1024...  Val loss: 3.0078...  0.8405 sec/batch\n",
      "Epoch: 8/700...  Training Step: 401...  Training loss: 2.9707...  Val loss: 2.8626...  0.8401 sec/batch\n",
      "Epoch: 10/700...  Training Step: 501...  Training loss: 2.8031...  Val loss: 2.6706...  0.8372 sec/batch\n",
      "WARNING:tensorflow:Error encountered when serializing LAYER_NAME_UIDS.\n",
      "Type is unsupported, or the types of the items don't match field type in CollectionDef.\n",
      "'dict' object has no attribute 'name'\n",
      "Epoch: 12/700...  Training Step: 601...  Training loss: 2.6797...  Val loss: 2.5224...  0.8348 sec/batch\n",
      "Epoch: 14/700...  Training Step: 701...  Training loss: 2.5813...  Val loss: 2.4468...  0.8281 sec/batch\n",
      "Epoch: 16/700...  Training Step: 801...  Training loss: 2.5371...  Val loss: 2.3929...  0.8286 sec/batch\n",
      "Epoch: 18/700...  Training Step: 901...  Training loss: 2.5092...  Val loss: 2.3490...  0.8284 sec/batch\n",
      "Epoch: 20/700...  Training Step: 1001...  Training loss: 2.4437...  Val loss: 2.3126...  0.8278 sec/batch\n",
      "WARNING:tensorflow:Error encountered when serializing LAYER_NAME_UIDS.\n",
      "Type is unsupported, or the types of the items don't match field type in CollectionDef.\n",
      "'dict' object has no attribute 'name'\n",
      "Epoch: 22/700...  Training Step: 1101...  Training loss: 2.4321...  Val loss: 2.2745...  0.8268 sec/batch\n",
      "Epoch: 24/700...  Training Step: 1201...  Training loss: 2.4123...  Val loss: 2.2416...  0.8279 sec/batch\n",
      "Epoch: 26/700...  Training Step: 1301...  Training loss: 2.3729...  Val loss: 2.2135...  0.8274 sec/batch\n",
      "Epoch: 28/700...  Training Step: 1401...  Training loss: 2.3339...  Val loss: 2.1863...  0.8266 sec/batch\n",
      "Epoch: 30/700...  Training Step: 1501...  Training loss: 2.3113...  Val loss: 2.1606...  0.8278 sec/batch\n",
      "WARNING:tensorflow:Error encountered when serializing LAYER_NAME_UIDS.\n",
      "Type is unsupported, or the types of the items don't match field type in CollectionDef.\n",
      "'dict' object has no attribute 'name'\n",
      "Epoch: 32/700...  Training Step: 1601...  Training loss: 2.2870...  Val loss: 2.1372...  0.8277 sec/batch\n",
      "Epoch: 34/700...  Training Step: 1701...  Training loss: 2.2550...  Val loss: 2.1156...  0.8308 sec/batch\n",
      "Epoch: 36/700...  Training Step: 1801...  Training loss: 2.2468...  Val loss: 2.0961...  0.8314 sec/batch\n",
      "Epoch: 38/700...  Training Step: 1901...  Training loss: 2.2284...  Val loss: 2.0772...  0.8284 sec/batch\n",
      "Epoch: 40/700...  Training Step: 2001...  Training loss: 2.1912...  Val loss: 2.0589...  0.8297 sec/batch\n",
      "WARNING:tensorflow:Error encountered when serializing LAYER_NAME_UIDS.\n",
      "Type is unsupported, or the types of the items don't match field type in CollectionDef.\n",
      "'dict' object has no attribute 'name'\n",
      "Epoch: 42/700...  Training Step: 2101...  Training loss: 2.1931...  Val loss: 2.0407...  0.8297 sec/batch\n",
      "Epoch: 44/700...  Training Step: 2201...  Training loss: 2.1645...  Val loss: 2.0256...  0.8280 sec/batch\n",
      "Epoch: 46/700...  Training Step: 2301...  Training loss: 2.1488...  Val loss: 2.0097...  0.8279 sec/batch\n",
      "Epoch: 48/700...  Training Step: 2401...  Training loss: 2.1353...  Val loss: 1.9937...  0.8266 sec/batch\n",
      "Epoch: 50/700...  Training Step: 2501...  Training loss: 2.1401...  Val loss: 1.9817...  0.8284 sec/batch\n",
      "WARNING:tensorflow:Error encountered when serializing LAYER_NAME_UIDS.\n",
      "Type is unsupported, or the types of the items don't match field type in CollectionDef.\n",
      "'dict' object has no attribute 'name'\n",
      "Epoch: 51/700...  Training Step: 2601...  Training loss: 2.1037...  Val loss: 1.9680...  0.8273 sec/batch\n",
      "Epoch: 53/700...  Training Step: 2701...  Training loss: 2.1073...  Val loss: 1.9506...  0.8281 sec/batch\n",
      "Epoch: 55/700...  Training Step: 2801...  Training loss: 2.0551...  Val loss: 1.9372...  0.8282 sec/batch\n",
      "Epoch: 57/700...  Training Step: 2901...  Training loss: 2.0633...  Val loss: 1.9278...  0.8336 sec/batch\n",
      "Epoch: 59/700...  Training Step: 3001...  Training loss: 2.0872...  Val loss: 1.9162...  0.8281 sec/batch\n",
      "WARNING:tensorflow:Error encountered when serializing LAYER_NAME_UIDS.\n",
      "Type is unsupported, or the types of the items don't match field type in CollectionDef.\n",
      "'dict' object has no attribute 'name'\n",
      "Epoch: 61/700...  Training Step: 3101...  Training loss: 2.0405...  Val loss: 1.9034...  0.8284 sec/batch\n",
      "Epoch: 63/700...  Training Step: 3201...  Training loss: 2.0327...  Val loss: 1.8938...  0.8299 sec/batch\n",
      "Epoch: 65/700...  Training Step: 3301...  Training loss: 2.0198...  Val loss: 1.8784...  0.8308 sec/batch\n",
      "Epoch: 67/700...  Training Step: 3401...  Training loss: 2.0156...  Val loss: 1.8685...  0.8308 sec/batch\n",
      "Epoch: 69/700...  Training Step: 3501...  Training loss: 1.9870...  Val loss: 1.8600...  0.8283 sec/batch\n",
      "WARNING:tensorflow:Error encountered when serializing LAYER_NAME_UIDS.\n",
      "Type is unsupported, or the types of the items don't match field type in CollectionDef.\n",
      "'dict' object has no attribute 'name'\n",
      "Epoch: 71/700...  Training Step: 3601...  Training loss: 1.9845...  Val loss: 1.8490...  0.8305 sec/batch\n",
      "Epoch: 73/700...  Training Step: 3701...  Training loss: 1.9679...  Val loss: 1.8388...  0.8278 sec/batch\n",
      "Epoch: 75/700...  Training Step: 3801...  Training loss: 1.9666...  Val loss: 1.8264...  0.8278 sec/batch\n",
      "Epoch: 77/700...  Training Step: 3901...  Training loss: 1.9622...  Val loss: 1.8177...  0.8271 sec/batch\n",
      "Epoch: 79/700...  Training Step: 4001...  Training loss: 1.9547...  Val loss: 1.8048...  0.8270 sec/batch\n",
      "WARNING:tensorflow:Error encountered when serializing LAYER_NAME_UIDS.\n",
      "Type is unsupported, or the types of the items don't match field type in CollectionDef.\n",
      "'dict' object has no attribute 'name'\n",
      "Epoch: 81/700...  Training Step: 4101...  Training loss: 1.9653...  Val loss: 1.7952...  0.8279 sec/batch\n",
      "Epoch: 83/700...  Training Step: 4201...  Training loss: 1.9236...  Val loss: 1.7876...  0.8296 sec/batch\n",
      "Epoch: 85/700...  Training Step: 4301...  Training loss: 1.9148...  Val loss: 1.7780...  0.8425 sec/batch\n",
      "Epoch: 87/700...  Training Step: 4401...  Training loss: 1.9389...  Val loss: 1.7698...  0.8388 sec/batch\n",
      "Epoch: 89/700...  Training Step: 4501...  Training loss: 1.9223...  Val loss: 1.7588...  0.8391 sec/batch\n",
      "WARNING:tensorflow:Error encountered when serializing LAYER_NAME_UIDS.\n",
      "Type is unsupported, or the types of the items don't match field type in CollectionDef.\n",
      "'dict' object has no attribute 'name'\n",
      "Epoch: 91/700...  Training Step: 4601...  Training loss: 1.8858...  Val loss: 1.7529...  0.8424 sec/batch\n",
      "Epoch: 93/700...  Training Step: 4701...  Training loss: 1.8895...  Val loss: 1.7418...  0.8299 sec/batch\n",
      "Epoch: 95/700...  Training Step: 4801...  Training loss: 1.8596...  Val loss: 1.7351...  0.8288 sec/batch\n",
      "Epoch: 97/700...  Training Step: 4901...  Training loss: 1.8704...  Val loss: 1.7283...  0.8275 sec/batch\n",
      "Epoch: 99/700...  Training Step: 5001...  Training loss: 1.8760...  Val loss: 1.7219...  0.8281 sec/batch\n",
      "WARNING:tensorflow:Error encountered when serializing LAYER_NAME_UIDS.\n",
      "Type is unsupported, or the types of the items don't match field type in CollectionDef.\n",
      "'dict' object has no attribute 'name'\n",
      "Epoch: 101/700...  Training Step: 5101...  Training loss: 1.8741...  Val loss: 1.7097...  0.8304 sec/batch\n",
      "Epoch: 102/700...  Training Step: 5201...  Training loss: 1.8454...  Val loss: 1.7030...  0.8287 sec/batch\n",
      "Epoch: 104/700...  Training Step: 5301...  Training loss: 1.8275...  Val loss: 1.6932...  0.8284 sec/batch\n",
      "Epoch: 106/700...  Training Step: 5401...  Training loss: 1.8263...  Val loss: 1.6895...  0.8277 sec/batch\n",
      "Epoch: 108/700...  Training Step: 5501...  Training loss: 1.8173...  Val loss: 1.6792...  0.8281 sec/batch\n",
      "WARNING:tensorflow:Error encountered when serializing LAYER_NAME_UIDS.\n",
      "Type is unsupported, or the types of the items don't match field type in CollectionDef.\n",
      "'dict' object has no attribute 'name'\n"
     ]
    },
    {
     "name": "stdout",
     "output_type": "stream",
     "text": [
      "Epoch: 110/700...  Training Step: 5601...  Training loss: 1.7974...  Val loss: 1.6741...  0.8277 sec/batch\n",
      "Epoch: 112/700...  Training Step: 5701...  Training loss: 1.8015...  Val loss: 1.6655...  0.8278 sec/batch\n",
      "Epoch: 114/700...  Training Step: 5801...  Training loss: 1.7786...  Val loss: 1.6583...  0.8283 sec/batch\n",
      "Epoch: 116/700...  Training Step: 5901...  Training loss: 1.7968...  Val loss: 1.6513...  0.8301 sec/batch\n",
      "Epoch: 118/700...  Training Step: 6001...  Training loss: 1.7944...  Val loss: 1.6447...  0.8309 sec/batch\n",
      "WARNING:tensorflow:Error encountered when serializing LAYER_NAME_UIDS.\n",
      "Type is unsupported, or the types of the items don't match field type in CollectionDef.\n",
      "'dict' object has no attribute 'name'\n",
      "Epoch: 120/700...  Training Step: 6101...  Training loss: 1.7684...  Val loss: 1.6408...  0.8311 sec/batch\n",
      "Epoch: 122/700...  Training Step: 6201...  Training loss: 1.7758...  Val loss: 1.6296...  0.8304 sec/batch\n",
      "Epoch: 124/700...  Training Step: 6301...  Training loss: 1.7874...  Val loss: 1.6249...  0.8292 sec/batch\n",
      "Epoch: 126/700...  Training Step: 6401...  Training loss: 1.7806...  Val loss: 1.6252...  0.8289 sec/batch\n",
      "Epoch: 128/700...  Training Step: 6501...  Training loss: 1.7476...  Val loss: 1.6120...  0.8314 sec/batch\n",
      "WARNING:tensorflow:Error encountered when serializing LAYER_NAME_UIDS.\n",
      "Type is unsupported, or the types of the items don't match field type in CollectionDef.\n",
      "'dict' object has no attribute 'name'\n",
      "Epoch: 130/700...  Training Step: 6601...  Training loss: 1.7584...  Val loss: 1.6046...  0.8254 sec/batch\n",
      "Epoch: 132/700...  Training Step: 6701...  Training loss: 1.7489...  Val loss: 1.5994...  0.8277 sec/batch\n",
      "Epoch: 134/700...  Training Step: 6801...  Training loss: 1.7309...  Val loss: 1.5929...  0.8273 sec/batch\n",
      "Epoch: 136/700...  Training Step: 6901...  Training loss: 1.7377...  Val loss: 1.5911...  0.8276 sec/batch\n",
      "Epoch: 138/700...  Training Step: 7001...  Training loss: 1.7370...  Val loss: 1.5844...  0.8271 sec/batch\n",
      "WARNING:tensorflow:Error encountered when serializing LAYER_NAME_UIDS.\n",
      "Type is unsupported, or the types of the items don't match field type in CollectionDef.\n",
      "'dict' object has no attribute 'name'\n",
      "Epoch: 140/700...  Training Step: 7101...  Training loss: 1.6933...  Val loss: 1.5804...  0.8284 sec/batch\n",
      "Epoch: 142/700...  Training Step: 7201...  Training loss: 1.7172...  Val loss: 1.5704...  0.8288 sec/batch\n",
      "Epoch: 144/700...  Training Step: 7301...  Training loss: 1.7003...  Val loss: 1.5639...  0.8292 sec/batch\n",
      "Epoch: 146/700...  Training Step: 7401...  Training loss: 1.6911...  Val loss: 1.5592...  0.8303 sec/batch\n",
      "Epoch: 148/700...  Training Step: 7501...  Training loss: 1.6936...  Val loss: 1.5514...  0.8275 sec/batch\n",
      "WARNING:tensorflow:Error encountered when serializing LAYER_NAME_UIDS.\n",
      "Type is unsupported, or the types of the items don't match field type in CollectionDef.\n",
      "'dict' object has no attribute 'name'\n",
      "Epoch: 150/700...  Training Step: 7601...  Training loss: 1.7186...  Val loss: 1.5512...  0.8278 sec/batch\n",
      "Epoch: 151/700...  Training Step: 7701...  Training loss: 1.6696...  Val loss: 1.5385...  0.8274 sec/batch\n",
      "Epoch: 153/700...  Training Step: 7801...  Training loss: 1.6888...  Val loss: 1.5344...  0.8350 sec/batch\n",
      "Epoch: 155/700...  Training Step: 7901...  Training loss: 1.6383...  Val loss: 1.5264...  0.8288 sec/batch\n",
      "Epoch: 157/700...  Training Step: 8001...  Training loss: 1.6548...  Val loss: 1.5311...  0.8270 sec/batch\n",
      "WARNING:tensorflow:Error encountered when serializing LAYER_NAME_UIDS.\n",
      "Type is unsupported, or the types of the items don't match field type in CollectionDef.\n",
      "'dict' object has no attribute 'name'\n",
      "Epoch: 159/700...  Training Step: 8101...  Training loss: 1.6916...  Val loss: 1.5197...  0.8289 sec/batch\n",
      "Epoch: 161/700...  Training Step: 8201...  Training loss: 1.6655...  Val loss: 1.5202...  0.8280 sec/batch\n",
      "Epoch: 163/700...  Training Step: 8301...  Training loss: 1.6326...  Val loss: 1.5119...  0.8292 sec/batch\n",
      "Epoch: 165/700...  Training Step: 8401...  Training loss: 1.6233...  Val loss: 1.5106...  0.8296 sec/batch\n",
      "Epoch: 167/700...  Training Step: 8501...  Training loss: 1.6445...  Val loss: 1.5023...  0.8282 sec/batch\n",
      "WARNING:tensorflow:Error encountered when serializing LAYER_NAME_UIDS.\n",
      "Type is unsupported, or the types of the items don't match field type in CollectionDef.\n",
      "'dict' object has no attribute 'name'\n",
      "Epoch: 169/700...  Training Step: 8601...  Training loss: 1.6256...  Val loss: 1.5010...  0.8295 sec/batch\n",
      "Epoch: 171/700...  Training Step: 8701...  Training loss: 1.6424...  Val loss: 1.5104...  0.8293 sec/batch\n",
      "Epoch: 173/700...  Training Step: 8801...  Training loss: 1.6143...  Val loss: 1.5024...  0.8294 sec/batch\n",
      "Epoch: 175/700...  Training Step: 8901...  Training loss: 1.6041...  Val loss: 1.4937...  0.8415 sec/batch\n",
      "Epoch: 177/700...  Training Step: 9001...  Training loss: 1.6284...  Val loss: 1.4981...  0.8588 sec/batch\n",
      "WARNING:tensorflow:Error encountered when serializing LAYER_NAME_UIDS.\n",
      "Type is unsupported, or the types of the items don't match field type in CollectionDef.\n",
      "'dict' object has no attribute 'name'\n",
      "Epoch: 179/700...  Training Step: 9101...  Training loss: 1.6214...  Val loss: 1.4875...  0.8243 sec/batch\n",
      "Epoch: 181/700...  Training Step: 9201...  Training loss: 1.6318...  Val loss: 1.4957...  0.8263 sec/batch\n",
      "Epoch: 183/700...  Training Step: 9301...  Training loss: 1.6129...  Val loss: 1.4835...  0.8232 sec/batch\n",
      "Epoch: 185/700...  Training Step: 9401...  Training loss: 1.5924...  Val loss: 1.4773...  0.8516 sec/batch\n",
      "Epoch: 187/700...  Training Step: 9501...  Training loss: 1.6232...  Val loss: 1.4809...  0.8224 sec/batch\n",
      "WARNING:tensorflow:Error encountered when serializing LAYER_NAME_UIDS.\n",
      "Type is unsupported, or the types of the items don't match field type in CollectionDef.\n",
      "'dict' object has no attribute 'name'\n",
      "Epoch: 189/700...  Training Step: 9601...  Training loss: 1.6175...  Val loss: 1.4715...  0.8213 sec/batch\n",
      "Epoch: 191/700...  Training Step: 9701...  Training loss: 1.5746...  Val loss: 1.4798...  0.8219 sec/batch\n",
      "Epoch: 193/700...  Training Step: 9801...  Training loss: 1.5877...  Val loss: 1.4714...  0.8210 sec/batch\n",
      "Epoch: 195/700...  Training Step: 9901...  Training loss: 1.5649...  Val loss: 1.4685...  0.8220 sec/batch\n",
      "Epoch: 197/700...  Training Step: 10001...  Training loss: 1.5848...  Val loss: 1.4722...  0.8221 sec/batch\n",
      "WARNING:tensorflow:Error encountered when serializing LAYER_NAME_UIDS.\n",
      "Type is unsupported, or the types of the items don't match field type in CollectionDef.\n",
      "'dict' object has no attribute 'name'\n",
      "Epoch: 199/700...  Training Step: 10101...  Training loss: 1.5918...  Val loss: 1.4717...  0.8219 sec/batch\n",
      "Epoch: 201/700...  Training Step: 10201...  Training loss: 1.6099...  Val loss: 1.4610...  0.8252 sec/batch\n",
      "Epoch: 202/700...  Training Step: 10301...  Training loss: 1.5852...  Val loss: 1.4655...  0.8233 sec/batch\n",
      "Epoch: 204/700...  Training Step: 10401...  Training loss: 1.5629...  Val loss: 1.4603...  0.8250 sec/batch\n",
      "Epoch: 206/700...  Training Step: 10501...  Training loss: 1.5473...  Val loss: 1.4572...  0.8231 sec/batch\n",
      "WARNING:tensorflow:Error encountered when serializing LAYER_NAME_UIDS.\n",
      "Type is unsupported, or the types of the items don't match field type in CollectionDef.\n",
      "'dict' object has no attribute 'name'\n",
      "Epoch: 208/700...  Training Step: 10601...  Training loss: 1.5626...  Val loss: 1.4536...  0.9052 sec/batch\n",
      "Epoch: 210/700...  Training Step: 10701...  Training loss: 1.5518...  Val loss: 1.4494...  0.8235 sec/batch\n",
      "Epoch: 212/700...  Training Step: 10801...  Training loss: 1.5405...  Val loss: 1.4474...  0.8263 sec/batch\n",
      "Epoch: 214/700...  Training Step: 10901...  Training loss: 1.5407...  Val loss: 1.4489...  0.8265 sec/batch\n",
      "Epoch: 216/700...  Training Step: 11001...  Training loss: 1.5524...  Val loss: 1.4506...  0.8244 sec/batch\n",
      "WARNING:tensorflow:Error encountered when serializing LAYER_NAME_UIDS.\n",
      "Type is unsupported, or the types of the items don't match field type in CollectionDef.\n",
      "'dict' object has no attribute 'name'\n",
      "Epoch: 218/700...  Training Step: 11101...  Training loss: 1.5542...  Val loss: 1.4466...  0.8230 sec/batch\n",
      "Epoch: 220/700...  Training Step: 11201...  Training loss: 1.5426...  Val loss: 1.4472...  0.8248 sec/batch\n"
     ]
    },
    {
     "name": "stdout",
     "output_type": "stream",
     "text": [
      "Epoch: 222/700...  Training Step: 11301...  Training loss: 1.5416...  Val loss: 1.4384...  0.8233 sec/batch\n",
      "Epoch: 224/700...  Training Step: 11401...  Training loss: 1.5657...  Val loss: 1.4516...  0.8351 sec/batch\n",
      "Epoch: 226/700...  Training Step: 11501...  Training loss: 1.5521...  Val loss: 1.4391...  0.8226 sec/batch\n",
      "WARNING:tensorflow:Error encountered when serializing LAYER_NAME_UIDS.\n",
      "Type is unsupported, or the types of the items don't match field type in CollectionDef.\n",
      "'dict' object has no attribute 'name'\n",
      "Epoch: 228/700...  Training Step: 11601...  Training loss: 1.5300...  Val loss: 1.4417...  0.8219 sec/batch\n",
      "Epoch: 230/700...  Training Step: 11701...  Training loss: 1.5365...  Val loss: 1.4364...  0.8346 sec/batch\n",
      "Epoch: 232/700...  Training Step: 11801...  Training loss: 1.5409...  Val loss: 1.4316...  0.8246 sec/batch\n",
      "Epoch: 234/700...  Training Step: 11901...  Training loss: 1.5149...  Val loss: 1.4293...  0.8330 sec/batch\n",
      "Epoch: 236/700...  Training Step: 12001...  Training loss: 1.5286...  Val loss: 1.4333...  0.8258 sec/batch\n",
      "WARNING:tensorflow:Error encountered when serializing LAYER_NAME_UIDS.\n",
      "Type is unsupported, or the types of the items don't match field type in CollectionDef.\n",
      "'dict' object has no attribute 'name'\n",
      "Epoch: 238/700...  Training Step: 12101...  Training loss: 1.5376...  Val loss: 1.4292...  0.8268 sec/batch\n",
      "Epoch: 240/700...  Training Step: 12201...  Training loss: 1.4982...  Val loss: 1.4321...  0.8232 sec/batch\n",
      "Epoch: 242/700...  Training Step: 12301...  Training loss: 1.5194...  Val loss: 1.4310...  0.8251 sec/batch\n",
      "Epoch: 244/700...  Training Step: 12401...  Training loss: 1.5079...  Val loss: 1.4267...  0.8243 sec/batch\n",
      "Epoch: 246/700...  Training Step: 12501...  Training loss: 1.5154...  Val loss: 1.4325...  0.8246 sec/batch\n",
      "WARNING:tensorflow:Error encountered when serializing LAYER_NAME_UIDS.\n",
      "Type is unsupported, or the types of the items don't match field type in CollectionDef.\n",
      "'dict' object has no attribute 'name'\n",
      "Epoch: 248/700...  Training Step: 12601...  Training loss: 1.5208...  Val loss: 1.4237...  0.8242 sec/batch\n",
      "Epoch: 250/700...  Training Step: 12701...  Training loss: 1.5455...  Val loss: 1.4246...  0.8269 sec/batch\n",
      "Epoch: 251/700...  Training Step: 12801...  Training loss: 1.4909...  Val loss: 1.4226...  0.8233 sec/batch\n",
      "Epoch: 253/700...  Training Step: 12901...  Training loss: 1.5089...  Val loss: 1.4223...  0.8217 sec/batch\n",
      "Epoch: 255/700...  Training Step: 13001...  Training loss: 1.4640...  Val loss: 1.4171...  0.8219 sec/batch\n",
      "WARNING:tensorflow:Error encountered when serializing LAYER_NAME_UIDS.\n",
      "Type is unsupported, or the types of the items don't match field type in CollectionDef.\n",
      "'dict' object has no attribute 'name'\n",
      "Epoch: 257/700...  Training Step: 13101...  Training loss: 1.4844...  Val loss: 1.4172...  0.8224 sec/batch\n",
      "Epoch: 259/700...  Training Step: 13201...  Training loss: 1.5220...  Val loss: 1.4140...  0.8289 sec/batch\n",
      "Epoch: 261/700...  Training Step: 13301...  Training loss: 1.4959...  Val loss: 1.4132...  0.8235 sec/batch\n",
      "Epoch: 263/700...  Training Step: 13401...  Training loss: 1.4795...  Val loss: 1.4102...  0.8226 sec/batch\n",
      "Epoch: 265/700...  Training Step: 13501...  Training loss: 1.4760...  Val loss: 1.4131...  0.8211 sec/batch\n",
      "WARNING:tensorflow:Error encountered when serializing LAYER_NAME_UIDS.\n",
      "Type is unsupported, or the types of the items don't match field type in CollectionDef.\n",
      "'dict' object has no attribute 'name'\n",
      "Epoch: 267/700...  Training Step: 13601...  Training loss: 1.4909...  Val loss: 1.4122...  0.8217 sec/batch\n",
      "Epoch: 269/700...  Training Step: 13701...  Training loss: 1.4758...  Val loss: 1.4139...  0.8214 sec/batch\n",
      "Epoch: 271/700...  Training Step: 13801...  Training loss: 1.5004...  Val loss: 1.4120...  0.8219 sec/batch\n",
      "Epoch: 273/700...  Training Step: 13901...  Training loss: 1.4732...  Val loss: 1.4122...  0.8211 sec/batch\n",
      "Epoch: 275/700...  Training Step: 14001...  Training loss: 1.4500...  Val loss: 1.4126...  0.8221 sec/batch\n",
      "WARNING:tensorflow:Error encountered when serializing LAYER_NAME_UIDS.\n",
      "Type is unsupported, or the types of the items don't match field type in CollectionDef.\n",
      "'dict' object has no attribute 'name'\n",
      "Epoch: 277/700...  Training Step: 14101...  Training loss: 1.4843...  Val loss: 1.4090...  0.8233 sec/batch\n",
      "Epoch: 279/700...  Training Step: 14201...  Training loss: 1.4716...  Val loss: 1.4076...  0.8230 sec/batch\n",
      "Epoch: 281/700...  Training Step: 14301...  Training loss: 1.4981...  Val loss: 1.4092...  0.8213 sec/batch\n",
      "Epoch: 283/700...  Training Step: 14401...  Training loss: 1.4789...  Val loss: 1.4083...  0.8218 sec/batch\n",
      "Epoch: 285/700...  Training Step: 14501...  Training loss: 1.4586...  Val loss: 1.4101...  0.8989 sec/batch\n",
      "WARNING:tensorflow:Error encountered when serializing LAYER_NAME_UIDS.\n",
      "Type is unsupported, or the types of the items don't match field type in CollectionDef.\n",
      "'dict' object has no attribute 'name'\n",
      "Epoch: 287/700...  Training Step: 14601...  Training loss: 1.4858...  Val loss: 1.4052...  0.8615 sec/batch\n",
      "Epoch: 289/700...  Training Step: 14701...  Training loss: 1.4741...  Val loss: 1.4050...  0.8241 sec/batch\n",
      "Epoch: 291/700...  Training Step: 14801...  Training loss: 1.4585...  Val loss: 1.4099...  0.8687 sec/batch\n",
      "Epoch: 293/700...  Training Step: 14901...  Training loss: 1.4601...  Val loss: 1.4025...  0.8247 sec/batch\n",
      "Epoch: 295/700...  Training Step: 15001...  Training loss: 1.4342...  Val loss: 1.4036...  0.8244 sec/batch\n",
      "WARNING:tensorflow:Error encountered when serializing LAYER_NAME_UIDS.\n",
      "Type is unsupported, or the types of the items don't match field type in CollectionDef.\n",
      "'dict' object has no attribute 'name'\n",
      "Epoch: 297/700...  Training Step: 15101...  Training loss: 1.4552...  Val loss: 1.4091...  0.8237 sec/batch\n",
      "Epoch: 299/700...  Training Step: 15201...  Training loss: 1.4589...  Val loss: 1.4121...  0.8257 sec/batch\n",
      "Epoch: 301/700...  Training Step: 15301...  Training loss: 1.4889...  Val loss: 1.3978...  0.8273 sec/batch\n",
      "Epoch: 302/700...  Training Step: 15401...  Training loss: 1.4646...  Val loss: 1.4062...  0.8222 sec/batch\n",
      "Epoch: 304/700...  Training Step: 15501...  Training loss: 1.4490...  Val loss: 1.3991...  0.8221 sec/batch\n",
      "WARNING:tensorflow:Error encountered when serializing LAYER_NAME_UIDS.\n",
      "Type is unsupported, or the types of the items don't match field type in CollectionDef.\n",
      "'dict' object has no attribute 'name'\n",
      "Epoch: 306/700...  Training Step: 15601...  Training loss: 1.4316...  Val loss: 1.3982...  0.8220 sec/batch\n",
      "Epoch: 308/700...  Training Step: 15701...  Training loss: 1.4475...  Val loss: 1.3957...  0.8224 sec/batch\n",
      "Epoch: 310/700...  Training Step: 15801...  Training loss: 1.4305...  Val loss: 1.3951...  0.8217 sec/batch\n",
      "Epoch: 312/700...  Training Step: 15901...  Training loss: 1.4302...  Val loss: 1.3971...  0.8229 sec/batch\n",
      "Epoch: 314/700...  Training Step: 16001...  Training loss: 1.4267...  Val loss: 1.3964...  0.8224 sec/batch\n",
      "WARNING:tensorflow:Error encountered when serializing LAYER_NAME_UIDS.\n",
      "Type is unsupported, or the types of the items don't match field type in CollectionDef.\n",
      "'dict' object has no attribute 'name'\n",
      "Epoch: 316/700...  Training Step: 16101...  Training loss: 1.4404...  Val loss: 1.3954...  0.8233 sec/batch\n",
      "Epoch: 318/700...  Training Step: 16201...  Training loss: 1.4330...  Val loss: 1.3993...  0.8213 sec/batch\n",
      "Epoch: 320/700...  Training Step: 16301...  Training loss: 1.4392...  Val loss: 1.4031...  0.8220 sec/batch\n",
      "Epoch: 322/700...  Training Step: 16401...  Training loss: 1.4398...  Val loss: 1.3975...  0.8225 sec/batch\n",
      "Epoch: 324/700...  Training Step: 16501...  Training loss: 1.4582...  Val loss: 1.3965...  0.8230 sec/batch\n",
      "WARNING:tensorflow:Error encountered when serializing LAYER_NAME_UIDS.\n",
      "Type is unsupported, or the types of the items don't match field type in CollectionDef.\n",
      "'dict' object has no attribute 'name'\n",
      "Epoch: 326/700...  Training Step: 16601...  Training loss: 1.4425...  Val loss: 1.3956...  0.8226 sec/batch\n",
      "Epoch: 328/700...  Training Step: 16701...  Training loss: 1.4240...  Val loss: 1.3942...  0.8219 sec/batch\n",
      "Epoch: 330/700...  Training Step: 16801...  Training loss: 1.4364...  Val loss: 1.4000...  0.8222 sec/batch\n"
     ]
    },
    {
     "name": "stdout",
     "output_type": "stream",
     "text": [
      "Epoch: 332/700...  Training Step: 16901...  Training loss: 1.4316...  Val loss: 1.3948...  0.8220 sec/batch\n",
      "Epoch: 334/700...  Training Step: 17001...  Training loss: 1.4230...  Val loss: 1.3907...  0.8225 sec/batch\n",
      "WARNING:tensorflow:Error encountered when serializing LAYER_NAME_UIDS.\n",
      "Type is unsupported, or the types of the items don't match field type in CollectionDef.\n",
      "'dict' object has no attribute 'name'\n",
      "Epoch: 336/700...  Training Step: 17101...  Training loss: 1.4238...  Val loss: 1.3959...  0.8226 sec/batch\n",
      "Epoch: 338/700...  Training Step: 17201...  Training loss: 1.4323...  Val loss: 1.3980...  0.8214 sec/batch\n",
      "Epoch: 340/700...  Training Step: 17301...  Training loss: 1.4043...  Val loss: 1.3996...  0.8229 sec/batch\n",
      "Epoch: 342/700...  Training Step: 17401...  Training loss: 1.4178...  Val loss: 1.3941...  0.8214 sec/batch\n",
      "Epoch: 344/700...  Training Step: 17501...  Training loss: 1.4077...  Val loss: 1.3978...  0.8225 sec/batch\n",
      "WARNING:tensorflow:Error encountered when serializing LAYER_NAME_UIDS.\n",
      "Type is unsupported, or the types of the items don't match field type in CollectionDef.\n",
      "'dict' object has no attribute 'name'\n",
      "Epoch: 346/700...  Training Step: 17601...  Training loss: 1.4135...  Val loss: 1.4016...  0.8208 sec/batch\n",
      "Epoch: 348/700...  Training Step: 17701...  Training loss: 1.4248...  Val loss: 1.3947...  0.8223 sec/batch\n",
      "Epoch: 350/700...  Training Step: 17801...  Training loss: 1.4470...  Val loss: 1.3919...  0.8235 sec/batch\n",
      "Epoch: 351/700...  Training Step: 17901...  Training loss: 1.4085...  Val loss: 1.3930...  0.8225 sec/batch\n",
      "Epoch: 353/700...  Training Step: 18001...  Training loss: 1.4144...  Val loss: 1.3898...  0.8230 sec/batch\n",
      "WARNING:tensorflow:Error encountered when serializing LAYER_NAME_UIDS.\n",
      "Type is unsupported, or the types of the items don't match field type in CollectionDef.\n",
      "'dict' object has no attribute 'name'\n",
      "Epoch: 355/700...  Training Step: 18101...  Training loss: 1.3864...  Val loss: 1.3927...  0.8224 sec/batch\n",
      "Epoch: 357/700...  Training Step: 18201...  Training loss: 1.3912...  Val loss: 1.3908...  0.8211 sec/batch\n",
      "Epoch: 359/700...  Training Step: 18301...  Training loss: 1.4371...  Val loss: 1.3891...  0.8222 sec/batch\n",
      "Epoch: 361/700...  Training Step: 18401...  Training loss: 1.4117...  Val loss: 1.3908...  0.8219 sec/batch\n",
      "Epoch: 363/700...  Training Step: 18501...  Training loss: 1.3915...  Val loss: 1.3885...  0.8273 sec/batch\n",
      "WARNING:tensorflow:Error encountered when serializing LAYER_NAME_UIDS.\n",
      "Type is unsupported, or the types of the items don't match field type in CollectionDef.\n",
      "'dict' object has no attribute 'name'\n",
      "Epoch: 365/700...  Training Step: 18601...  Training loss: 1.3775...  Val loss: 1.3874...  0.8226 sec/batch\n",
      "Epoch: 367/700...  Training Step: 18701...  Training loss: 1.4001...  Val loss: 1.3953...  0.8223 sec/batch\n",
      "Epoch: 369/700...  Training Step: 18801...  Training loss: 1.3906...  Val loss: 1.3945...  0.8211 sec/batch\n",
      "Epoch: 371/700...  Training Step: 18901...  Training loss: 1.4059...  Val loss: 1.3911...  0.8229 sec/batch\n",
      "Epoch: 373/700...  Training Step: 19001...  Training loss: 1.3818...  Val loss: 1.3918...  0.8254 sec/batch\n",
      "WARNING:tensorflow:Error encountered when serializing LAYER_NAME_UIDS.\n",
      "Type is unsupported, or the types of the items don't match field type in CollectionDef.\n",
      "'dict' object has no attribute 'name'\n",
      "Epoch: 375/700...  Training Step: 19101...  Training loss: 1.3633...  Val loss: 1.3921...  0.8212 sec/batch\n",
      "Epoch: 377/700...  Training Step: 19201...  Training loss: 1.3979...  Val loss: 1.3989...  0.8233 sec/batch\n",
      "Epoch: 379/700...  Training Step: 19301...  Training loss: 1.3904...  Val loss: 1.3889...  0.8216 sec/batch\n",
      "Epoch: 381/700...  Training Step: 19401...  Training loss: 1.4086...  Val loss: 1.3983...  0.8216 sec/batch\n",
      "Epoch: 383/700...  Training Step: 19501...  Training loss: 1.3870...  Val loss: 1.3929...  0.8222 sec/batch\n",
      "WARNING:tensorflow:Error encountered when serializing LAYER_NAME_UIDS.\n",
      "Type is unsupported, or the types of the items don't match field type in CollectionDef.\n",
      "'dict' object has no attribute 'name'\n",
      "Epoch: 385/700...  Training Step: 19601...  Training loss: 1.3662...  Val loss: 1.3918...  0.8216 sec/batch\n",
      "Epoch: 387/700...  Training Step: 19701...  Training loss: 1.4001...  Val loss: 1.3990...  0.8226 sec/batch\n",
      "Epoch: 389/700...  Training Step: 19801...  Training loss: 1.3958...  Val loss: 1.3930...  0.8217 sec/batch\n",
      "Epoch: 391/700...  Training Step: 19901...  Training loss: 1.3680...  Val loss: 1.3975...  0.8225 sec/batch\n",
      "Epoch: 393/700...  Training Step: 20001...  Training loss: 1.3744...  Val loss: 1.3942...  0.8227 sec/batch\n",
      "WARNING:tensorflow:Error encountered when serializing LAYER_NAME_UIDS.\n",
      "Type is unsupported, or the types of the items don't match field type in CollectionDef.\n",
      "'dict' object has no attribute 'name'\n",
      "Epoch: 395/700...  Training Step: 20101...  Training loss: 1.3569...  Val loss: 1.3951...  0.8235 sec/batch\n",
      "Epoch: 397/700...  Training Step: 20201...  Training loss: 1.3731...  Val loss: 1.3993...  0.8218 sec/batch\n",
      "Epoch: 399/700...  Training Step: 20301...  Training loss: 1.3844...  Val loss: 1.4008...  0.8226 sec/batch\n",
      "Epoch: 401/700...  Training Step: 20401...  Training loss: 1.4119...  Val loss: 1.3922...  0.8217 sec/batch\n",
      "Epoch: 402/700...  Training Step: 20501...  Training loss: 1.3910...  Val loss: 1.4025...  0.8211 sec/batch\n",
      "WARNING:tensorflow:Error encountered when serializing LAYER_NAME_UIDS.\n",
      "Type is unsupported, or the types of the items don't match field type in CollectionDef.\n",
      "'dict' object has no attribute 'name'\n",
      "Epoch: 404/700...  Training Step: 20601...  Training loss: 1.3655...  Val loss: 1.3977...  0.8220 sec/batch\n",
      "Epoch: 406/700...  Training Step: 20701...  Training loss: 1.3554...  Val loss: 1.3940...  0.8216 sec/batch\n",
      "Epoch: 408/700...  Training Step: 20801...  Training loss: 1.3708...  Val loss: 1.3900...  0.8227 sec/batch\n",
      "Epoch: 410/700...  Training Step: 20901...  Training loss: 1.3595...  Val loss: 1.3915...  0.8219 sec/batch\n",
      "Epoch: 412/700...  Training Step: 21001...  Training loss: 1.3538...  Val loss: 1.3976...  0.8221 sec/batch\n",
      "WARNING:tensorflow:Error encountered when serializing LAYER_NAME_UIDS.\n",
      "Type is unsupported, or the types of the items don't match field type in CollectionDef.\n",
      "'dict' object has no attribute 'name'\n",
      "Epoch: 414/700...  Training Step: 21101...  Training loss: 1.3524...  Val loss: 1.3955...  0.8223 sec/batch\n",
      "Epoch: 416/700...  Training Step: 21201...  Training loss: 1.3694...  Val loss: 1.3971...  0.8214 sec/batch\n",
      "Epoch: 418/700...  Training Step: 21301...  Training loss: 1.3589...  Val loss: 1.4003...  0.8225 sec/batch\n",
      "Epoch: 420/700...  Training Step: 21401...  Training loss: 1.3692...  Val loss: 1.4029...  0.8214 sec/batch\n",
      "Epoch: 422/700...  Training Step: 21501...  Training loss: 1.3587...  Val loss: 1.3885...  0.8213 sec/batch\n",
      "WARNING:tensorflow:Error encountered when serializing LAYER_NAME_UIDS.\n",
      "Type is unsupported, or the types of the items don't match field type in CollectionDef.\n",
      "'dict' object has no attribute 'name'\n",
      "Epoch: 424/700...  Training Step: 21601...  Training loss: 1.3751...  Val loss: 1.3990...  0.8209 sec/batch\n",
      "Epoch: 426/700...  Training Step: 21701...  Training loss: 1.3749...  Val loss: 1.4111...  0.8223 sec/batch\n",
      "Epoch: 428/700...  Training Step: 21801...  Training loss: 1.3489...  Val loss: 1.4068...  0.8217 sec/batch\n",
      "Epoch: 430/700...  Training Step: 21901...  Training loss: 1.3594...  Val loss: 1.3905...  0.8216 sec/batch\n",
      "Epoch: 432/700...  Training Step: 22001...  Training loss: 1.3527...  Val loss: 1.3904...  0.8221 sec/batch\n",
      "WARNING:tensorflow:Error encountered when serializing LAYER_NAME_UIDS.\n",
      "Type is unsupported, or the types of the items don't match field type in CollectionDef.\n",
      "'dict' object has no attribute 'name'\n",
      "Epoch: 434/700...  Training Step: 22101...  Training loss: 1.3508...  Val loss: 1.3887...  0.8219 sec/batch\n",
      "Epoch: 436/700...  Training Step: 22201...  Training loss: 1.3522...  Val loss: 1.3990...  0.8216 sec/batch\n",
      "Epoch: 438/700...  Training Step: 22301...  Training loss: 1.3609...  Val loss: 1.4043...  0.8225 sec/batch\n",
      "Epoch: 440/700...  Training Step: 22401...  Training loss: 1.3330...  Val loss: 1.4038...  0.8242 sec/batch\n"
     ]
    },
    {
     "name": "stdout",
     "output_type": "stream",
     "text": [
      "Epoch: 442/700...  Training Step: 22501...  Training loss: 1.3442...  Val loss: 1.3994...  0.8235 sec/batch\n",
      "WARNING:tensorflow:Error encountered when serializing LAYER_NAME_UIDS.\n",
      "Type is unsupported, or the types of the items don't match field type in CollectionDef.\n",
      "'dict' object has no attribute 'name'\n",
      "Epoch: 444/700...  Training Step: 22601...  Training loss: 1.3463...  Val loss: 1.4042...  0.8223 sec/batch\n",
      "Epoch: 446/700...  Training Step: 22701...  Training loss: 1.3369...  Val loss: 1.4020...  0.8214 sec/batch\n",
      "Epoch: 448/700...  Training Step: 22801...  Training loss: 1.3569...  Val loss: 1.3957...  0.8231 sec/batch\n",
      "Epoch: 450/700...  Training Step: 22901...  Training loss: 1.3650...  Val loss: 1.4026...  0.8216 sec/batch\n",
      "Epoch: 451/700...  Training Step: 23001...  Training loss: 1.3355...  Val loss: 1.4075...  0.8221 sec/batch\n",
      "WARNING:tensorflow:Error encountered when serializing LAYER_NAME_UIDS.\n",
      "Type is unsupported, or the types of the items don't match field type in CollectionDef.\n",
      "'dict' object has no attribute 'name'\n",
      "Epoch: 453/700...  Training Step: 23101...  Training loss: 1.3499...  Val loss: 1.4020...  0.8212 sec/batch\n",
      "Epoch: 455/700...  Training Step: 23201...  Training loss: 1.3243...  Val loss: 1.4031...  0.8227 sec/batch\n",
      "Epoch: 457/700...  Training Step: 23301...  Training loss: 1.3291...  Val loss: 1.3986...  0.8219 sec/batch\n",
      "Epoch: 459/700...  Training Step: 23401...  Training loss: 1.3559...  Val loss: 1.3970...  0.8225 sec/batch\n",
      "Epoch: 461/700...  Training Step: 23501...  Training loss: 1.3422...  Val loss: 1.4001...  0.8221 sec/batch\n",
      "WARNING:tensorflow:Error encountered when serializing LAYER_NAME_UIDS.\n",
      "Type is unsupported, or the types of the items don't match field type in CollectionDef.\n",
      "'dict' object has no attribute 'name'\n",
      "Epoch: 463/700...  Training Step: 23601...  Training loss: 1.3275...  Val loss: 1.3986...  0.8222 sec/batch\n",
      "Epoch: 465/700...  Training Step: 23701...  Training loss: 1.3119...  Val loss: 1.4024...  0.8224 sec/batch\n",
      "Epoch: 467/700...  Training Step: 23801...  Training loss: 1.3305...  Val loss: 1.4081...  0.8234 sec/batch\n",
      "Epoch: 469/700...  Training Step: 23901...  Training loss: 1.3303...  Val loss: 1.4047...  0.8215 sec/batch\n",
      "Epoch: 471/700...  Training Step: 24001...  Training loss: 1.3321...  Val loss: 1.4067...  0.8226 sec/batch\n",
      "WARNING:tensorflow:Error encountered when serializing LAYER_NAME_UIDS.\n",
      "Type is unsupported, or the types of the items don't match field type in CollectionDef.\n",
      "'dict' object has no attribute 'name'\n",
      "Epoch: 473/700...  Training Step: 24101...  Training loss: 1.3279...  Val loss: 1.4102...  0.8215 sec/batch\n",
      "Epoch: 475/700...  Training Step: 24201...  Training loss: 1.3068...  Val loss: 1.4137...  0.8226 sec/batch\n",
      "Epoch: 477/700...  Training Step: 24301...  Training loss: 1.3327...  Val loss: 1.4142...  0.8209 sec/batch\n",
      "Epoch: 479/700...  Training Step: 24401...  Training loss: 1.3246...  Val loss: 1.4044...  0.8229 sec/batch\n",
      "Epoch: 481/700...  Training Step: 24501...  Training loss: 1.3479...  Val loss: 1.4107...  0.8231 sec/batch\n",
      "WARNING:tensorflow:Error encountered when serializing LAYER_NAME_UIDS.\n",
      "Type is unsupported, or the types of the items don't match field type in CollectionDef.\n",
      "'dict' object has no attribute 'name'\n",
      "Epoch: 483/700...  Training Step: 24601...  Training loss: 1.3284...  Val loss: 1.4086...  0.8226 sec/batch\n",
      "Epoch: 485/700...  Training Step: 24701...  Training loss: 1.3093...  Val loss: 1.4111...  0.8227 sec/batch\n",
      "Epoch: 487/700...  Training Step: 24801...  Training loss: 1.3329...  Val loss: 1.4145...  0.8228 sec/batch\n",
      "Epoch: 489/700...  Training Step: 24901...  Training loss: 1.3389...  Val loss: 1.4116...  0.8218 sec/batch\n",
      "Epoch: 491/700...  Training Step: 25001...  Training loss: 1.3120...  Val loss: 1.4199...  0.8219 sec/batch\n",
      "WARNING:tensorflow:Error encountered when serializing LAYER_NAME_UIDS.\n",
      "Type is unsupported, or the types of the items don't match field type in CollectionDef.\n",
      "'dict' object has no attribute 'name'\n",
      "Epoch: 493/700...  Training Step: 25101...  Training loss: 1.3175...  Val loss: 1.4131...  0.8217 sec/batch\n",
      "Epoch: 495/700...  Training Step: 25201...  Training loss: 1.2938...  Val loss: 1.4030...  0.8218 sec/batch\n",
      "Epoch: 497/700...  Training Step: 25301...  Training loss: 1.3100...  Val loss: 1.4136...  0.8284 sec/batch\n",
      "Epoch: 499/700...  Training Step: 25401...  Training loss: 1.3238...  Val loss: 1.4217...  0.8215 sec/batch\n",
      "Epoch: 501/700...  Training Step: 25501...  Training loss: 1.3408...  Val loss: 1.4093...  0.8245 sec/batch\n",
      "WARNING:tensorflow:Error encountered when serializing LAYER_NAME_UIDS.\n",
      "Type is unsupported, or the types of the items don't match field type in CollectionDef.\n",
      "'dict' object has no attribute 'name'\n",
      "Epoch: 502/700...  Training Step: 25601...  Training loss: 1.3256...  Val loss: 1.4134...  0.8235 sec/batch\n",
      "Epoch: 504/700...  Training Step: 25701...  Training loss: 1.3119...  Val loss: 1.4203...  0.8223 sec/batch\n",
      "Epoch: 506/700...  Training Step: 25801...  Training loss: 1.2938...  Val loss: 1.4113...  0.8237 sec/batch\n",
      "Epoch: 508/700...  Training Step: 25901...  Training loss: 1.3120...  Val loss: 1.4054...  0.8219 sec/batch\n",
      "Epoch: 510/700...  Training Step: 26001...  Training loss: 1.3009...  Val loss: 1.4091...  0.8220 sec/batch\n",
      "WARNING:tensorflow:Error encountered when serializing LAYER_NAME_UIDS.\n",
      "Type is unsupported, or the types of the items don't match field type in CollectionDef.\n",
      "'dict' object has no attribute 'name'\n",
      "Epoch: 512/700...  Training Step: 26101...  Training loss: 1.2979...  Val loss: 1.4136...  0.8226 sec/batch\n",
      "Epoch: 514/700...  Training Step: 26201...  Training loss: 1.2967...  Val loss: 1.4130...  0.8221 sec/batch\n",
      "Epoch: 516/700...  Training Step: 26301...  Training loss: 1.3164...  Val loss: 1.4236...  0.8225 sec/batch\n",
      "Epoch: 518/700...  Training Step: 26401...  Training loss: 1.3018...  Val loss: 1.4212...  0.8210 sec/batch\n",
      "Epoch: 520/700...  Training Step: 26501...  Training loss: 1.2985...  Val loss: 1.4163...  0.8223 sec/batch\n",
      "WARNING:tensorflow:Error encountered when serializing LAYER_NAME_UIDS.\n",
      "Type is unsupported, or the types of the items don't match field type in CollectionDef.\n",
      "'dict' object has no attribute 'name'\n",
      "Epoch: 522/700...  Training Step: 26601...  Training loss: 1.3032...  Val loss: 1.4157...  0.8224 sec/batch\n",
      "Epoch: 524/700...  Training Step: 26701...  Training loss: 1.3238...  Val loss: 1.4270...  0.8219 sec/batch\n",
      "Epoch: 526/700...  Training Step: 26801...  Training loss: 1.3173...  Val loss: 1.4261...  0.8224 sec/batch\n",
      "Epoch: 528/700...  Training Step: 26901...  Training loss: 1.2952...  Val loss: 1.4202...  0.8217 sec/batch\n",
      "Epoch: 530/700...  Training Step: 27001...  Training loss: 1.3089...  Val loss: 1.4180...  0.8219 sec/batch\n",
      "WARNING:tensorflow:Error encountered when serializing LAYER_NAME_UIDS.\n",
      "Type is unsupported, or the types of the items don't match field type in CollectionDef.\n",
      "'dict' object has no attribute 'name'\n",
      "Epoch: 532/700...  Training Step: 27101...  Training loss: 1.2979...  Val loss: 1.4229...  0.8220 sec/batch\n",
      "Epoch: 534/700...  Training Step: 27201...  Training loss: 1.2876...  Val loss: 1.4215...  0.8221 sec/batch\n",
      "Epoch: 536/700...  Training Step: 27301...  Training loss: 1.2894...  Val loss: 1.4343...  0.8215 sec/batch\n",
      "Epoch: 538/700...  Training Step: 27401...  Training loss: 1.3080...  Val loss: 1.4305...  0.8228 sec/batch\n",
      "Epoch: 540/700...  Training Step: 27501...  Training loss: 1.2771...  Val loss: 1.4323...  0.8211 sec/batch\n",
      "WARNING:tensorflow:Error encountered when serializing LAYER_NAME_UIDS.\n",
      "Type is unsupported, or the types of the items don't match field type in CollectionDef.\n",
      "'dict' object has no attribute 'name'\n",
      "Epoch: 542/700...  Training Step: 27601...  Training loss: 1.2926...  Val loss: 1.4259...  0.8216 sec/batch\n",
      "Epoch: 544/700...  Training Step: 27701...  Training loss: 1.2855...  Val loss: 1.4321...  0.8212 sec/batch\n",
      "Epoch: 546/700...  Training Step: 27801...  Training loss: 1.2822...  Val loss: 1.4312...  0.8236 sec/batch\n",
      "Epoch: 548/700...  Training Step: 27901...  Training loss: 1.3087...  Val loss: 1.4303...  0.8236 sec/batch\n",
      "Epoch: 550/700...  Training Step: 28001...  Training loss: 1.3158...  Val loss: 1.4286...  0.8217 sec/batch\n"
     ]
    },
    {
     "name": "stdout",
     "output_type": "stream",
     "text": [
      "WARNING:tensorflow:Error encountered when serializing LAYER_NAME_UIDS.\n",
      "Type is unsupported, or the types of the items don't match field type in CollectionDef.\n",
      "'dict' object has no attribute 'name'\n",
      "Epoch: 551/700...  Training Step: 28101...  Training loss: 1.2888...  Val loss: 1.4333...  0.8219 sec/batch\n",
      "Epoch: 553/700...  Training Step: 28201...  Training loss: 1.3024...  Val loss: 1.4296...  0.8226 sec/batch\n",
      "Epoch: 555/700...  Training Step: 28301...  Training loss: 1.2708...  Val loss: 1.4213...  0.8220 sec/batch\n",
      "Epoch: 557/700...  Training Step: 28401...  Training loss: 1.2730...  Val loss: 1.4239...  0.8229 sec/batch\n",
      "Epoch: 559/700...  Training Step: 28501...  Training loss: 1.3048...  Val loss: 1.4172...  0.8224 sec/batch\n",
      "WARNING:tensorflow:Error encountered when serializing LAYER_NAME_UIDS.\n",
      "Type is unsupported, or the types of the items don't match field type in CollectionDef.\n",
      "'dict' object has no attribute 'name'\n",
      "Epoch: 561/700...  Training Step: 28601...  Training loss: 1.2925...  Val loss: 1.4268...  0.8223 sec/batch\n",
      "Epoch: 563/700...  Training Step: 28701...  Training loss: 1.2738...  Val loss: 1.4289...  0.8233 sec/batch\n",
      "Epoch: 565/700...  Training Step: 28801...  Training loss: 1.2647...  Val loss: 1.4318...  0.8225 sec/batch\n",
      "Epoch: 567/700...  Training Step: 28901...  Training loss: 1.2771...  Val loss: 1.4380...  0.8224 sec/batch\n",
      "Epoch: 569/700...  Training Step: 29001...  Training loss: 1.2662...  Val loss: 1.4430...  0.8213 sec/batch\n",
      "WARNING:tensorflow:Error encountered when serializing LAYER_NAME_UIDS.\n",
      "Type is unsupported, or the types of the items don't match field type in CollectionDef.\n",
      "'dict' object has no attribute 'name'\n",
      "Epoch: 571/700...  Training Step: 29101...  Training loss: 1.2834...  Val loss: 1.4413...  0.8228 sec/batch\n",
      "Epoch: 573/700...  Training Step: 29201...  Training loss: 1.2745...  Val loss: 1.4462...  0.8214 sec/batch\n",
      "Epoch: 575/700...  Training Step: 29301...  Training loss: 1.2464...  Val loss: 1.4354...  0.8236 sec/batch\n",
      "Epoch: 577/700...  Training Step: 29401...  Training loss: 1.2791...  Val loss: 1.4407...  0.8224 sec/batch\n",
      "Epoch: 579/700...  Training Step: 29501...  Training loss: 1.2724...  Val loss: 1.4313...  0.8228 sec/batch\n",
      "WARNING:tensorflow:Error encountered when serializing LAYER_NAME_UIDS.\n",
      "Type is unsupported, or the types of the items don't match field type in CollectionDef.\n",
      "'dict' object has no attribute 'name'\n",
      "Epoch: 581/700...  Training Step: 29601...  Training loss: 1.2809...  Val loss: 1.4426...  0.8226 sec/batch\n",
      "Epoch: 583/700...  Training Step: 29701...  Training loss: 1.2799...  Val loss: 1.4519...  0.8222 sec/batch\n",
      "Epoch: 585/700...  Training Step: 29801...  Training loss: 1.2607...  Val loss: 1.4411...  0.8228 sec/batch\n",
      "Epoch: 587/700...  Training Step: 29901...  Training loss: 1.2860...  Val loss: 1.4471...  0.8231 sec/batch\n",
      "Epoch: 589/700...  Training Step: 30001...  Training loss: 1.2817...  Val loss: 1.4410...  0.8231 sec/batch\n",
      "WARNING:tensorflow:Error encountered when serializing LAYER_NAME_UIDS.\n",
      "Type is unsupported, or the types of the items don't match field type in CollectionDef.\n",
      "'dict' object has no attribute 'name'\n",
      "Epoch: 591/700...  Training Step: 30101...  Training loss: 1.2601...  Val loss: 1.4447...  0.8226 sec/batch\n",
      "Epoch: 593/700...  Training Step: 30201...  Training loss: 1.2647...  Val loss: 1.4437...  0.8229 sec/batch\n",
      "Epoch: 595/700...  Training Step: 30301...  Training loss: 1.2539...  Val loss: 1.4505...  0.8217 sec/batch\n",
      "Epoch: 597/700...  Training Step: 30401...  Training loss: 1.2619...  Val loss: 1.4503...  0.8226 sec/batch\n",
      "Epoch: 599/700...  Training Step: 30501...  Training loss: 1.2677...  Val loss: 1.4585...  0.8218 sec/batch\n",
      "WARNING:tensorflow:Error encountered when serializing LAYER_NAME_UIDS.\n",
      "Type is unsupported, or the types of the items don't match field type in CollectionDef.\n",
      "'dict' object has no attribute 'name'\n",
      "Epoch: 601/700...  Training Step: 30601...  Training loss: 1.2885...  Val loss: 1.4389...  0.8224 sec/batch\n",
      "Epoch: 602/700...  Training Step: 30701...  Training loss: 1.2810...  Val loss: 1.4475...  0.8223 sec/batch\n",
      "Epoch: 604/700...  Training Step: 30801...  Training loss: 1.2633...  Val loss: 1.4440...  0.8239 sec/batch\n",
      "Epoch: 606/700...  Training Step: 30901...  Training loss: 1.2393...  Val loss: 1.4471...  0.8220 sec/batch\n",
      "Epoch: 608/700...  Training Step: 31001...  Training loss: 1.2626...  Val loss: 1.4421...  0.8273 sec/batch\n",
      "WARNING:tensorflow:Error encountered when serializing LAYER_NAME_UIDS.\n",
      "Type is unsupported, or the types of the items don't match field type in CollectionDef.\n",
      "'dict' object has no attribute 'name'\n",
      "Epoch: 610/700...  Training Step: 31101...  Training loss: 1.2452...  Val loss: 1.4459...  0.8234 sec/batch\n",
      "Epoch: 612/700...  Training Step: 31201...  Training loss: 1.2524...  Val loss: 1.4502...  0.8218 sec/batch\n",
      "Epoch: 614/700...  Training Step: 31301...  Training loss: 1.2460...  Val loss: 1.4551...  0.8213 sec/batch\n",
      "Epoch: 616/700...  Training Step: 31401...  Training loss: 1.2653...  Val loss: 1.4541...  0.8216 sec/batch\n",
      "Epoch: 618/700...  Training Step: 31501...  Training loss: 1.2515...  Val loss: 1.4574...  0.8222 sec/batch\n",
      "WARNING:tensorflow:Error encountered when serializing LAYER_NAME_UIDS.\n",
      "Type is unsupported, or the types of the items don't match field type in CollectionDef.\n",
      "'dict' object has no attribute 'name'\n",
      "Epoch: 620/700...  Training Step: 31601...  Training loss: 1.2545...  Val loss: 1.4548...  0.8220 sec/batch\n",
      "Epoch: 622/700...  Training Step: 31701...  Training loss: 1.2482...  Val loss: 1.4497...  0.8217 sec/batch\n",
      "Epoch: 624/700...  Training Step: 31801...  Training loss: 1.2781...  Val loss: 1.4555...  0.8228 sec/batch\n",
      "Epoch: 626/700...  Training Step: 31901...  Training loss: 1.2617...  Val loss: 1.4646...  0.8217 sec/batch\n",
      "Epoch: 628/700...  Training Step: 32001...  Training loss: 1.2527...  Val loss: 1.4640...  0.8223 sec/batch\n",
      "WARNING:tensorflow:Error encountered when serializing LAYER_NAME_UIDS.\n",
      "Type is unsupported, or the types of the items don't match field type in CollectionDef.\n",
      "'dict' object has no attribute 'name'\n",
      "Epoch: 630/700...  Training Step: 32101...  Training loss: 1.2547...  Val loss: 1.4673...  0.8225 sec/batch\n",
      "Epoch: 632/700...  Training Step: 32201...  Training loss: 1.2465...  Val loss: 1.4615...  0.8228 sec/batch\n",
      "Epoch: 634/700...  Training Step: 32301...  Training loss: 1.2459...  Val loss: 1.4520...  0.8218 sec/batch\n",
      "Epoch: 636/700...  Training Step: 32401...  Training loss: 1.2424...  Val loss: 1.4627...  0.8230 sec/batch\n",
      "Epoch: 638/700...  Training Step: 32501...  Training loss: 1.2592...  Val loss: 1.4690...  0.8224 sec/batch\n",
      "WARNING:tensorflow:Error encountered when serializing LAYER_NAME_UIDS.\n",
      "Type is unsupported, or the types of the items don't match field type in CollectionDef.\n",
      "'dict' object has no attribute 'name'\n",
      "Epoch: 640/700...  Training Step: 32601...  Training loss: 1.2379...  Val loss: 1.4717...  0.8236 sec/batch\n",
      "Epoch: 642/700...  Training Step: 32701...  Training loss: 1.2411...  Val loss: 1.4657...  0.8222 sec/batch\n",
      "Epoch: 644/700...  Training Step: 32801...  Training loss: 1.2498...  Val loss: 1.4711...  0.8247 sec/batch\n",
      "Epoch: 646/700...  Training Step: 32901...  Training loss: 1.2384...  Val loss: 1.4663...  0.8228 sec/batch\n",
      "Epoch: 648/700...  Training Step: 33001...  Training loss: 1.2584...  Val loss: 1.4634...  0.8223 sec/batch\n",
      "WARNING:tensorflow:Error encountered when serializing LAYER_NAME_UIDS.\n",
      "Type is unsupported, or the types of the items don't match field type in CollectionDef.\n",
      "'dict' object has no attribute 'name'\n",
      "Epoch: 650/700...  Training Step: 33101...  Training loss: 1.2760...  Val loss: 1.4629...  0.8226 sec/batch\n",
      "Epoch: 651/700...  Training Step: 33201...  Training loss: 1.2332...  Val loss: 1.4574...  0.8240 sec/batch\n",
      "Epoch: 653/700...  Training Step: 33301...  Training loss: 1.2556...  Val loss: 1.4554...  0.8224 sec/batch\n",
      "Epoch: 655/700...  Training Step: 33401...  Training loss: 1.2271...  Val loss: 1.4595...  0.8223 sec/batch\n",
      "Epoch: 657/700...  Training Step: 33501...  Training loss: 1.2271...  Val loss: 1.4642...  0.8229 sec/batch\n",
      "WARNING:tensorflow:Error encountered when serializing LAYER_NAME_UIDS.\n",
      "Type is unsupported, or the types of the items don't match field type in CollectionDef.\n",
      "'dict' object has no attribute 'name'\n"
     ]
    },
    {
     "name": "stdout",
     "output_type": "stream",
     "text": [
      "Epoch: 659/700...  Training Step: 33601...  Training loss: 1.2633...  Val loss: 1.4562...  0.8231 sec/batch\n",
      "Epoch: 661/700...  Training Step: 33701...  Training loss: 1.2365...  Val loss: 1.4623...  0.8231 sec/batch\n",
      "Epoch: 663/700...  Training Step: 33801...  Training loss: 1.2281...  Val loss: 1.4666...  0.8228 sec/batch\n",
      "Epoch: 665/700...  Training Step: 33901...  Training loss: 1.2130...  Val loss: 1.4734...  0.8226 sec/batch\n",
      "Epoch: 667/700...  Training Step: 34001...  Training loss: 1.2340...  Val loss: 1.4719...  0.8225 sec/batch\n",
      "WARNING:tensorflow:Error encountered when serializing LAYER_NAME_UIDS.\n",
      "Type is unsupported, or the types of the items don't match field type in CollectionDef.\n",
      "'dict' object has no attribute 'name'\n",
      "Epoch: 669/700...  Training Step: 34101...  Training loss: 1.2203...  Val loss: 1.4669...  0.8233 sec/batch\n",
      "Epoch: 671/700...  Training Step: 34201...  Training loss: 1.2368...  Val loss: 1.4671...  0.8226 sec/batch\n",
      "Epoch: 673/700...  Training Step: 34301...  Training loss: 1.2291...  Val loss: 1.4790...  0.8215 sec/batch\n",
      "Epoch: 675/700...  Training Step: 34401...  Training loss: 1.2039...  Val loss: 1.4802...  0.8226 sec/batch\n",
      "Epoch: 677/700...  Training Step: 34501...  Training loss: 1.2285...  Val loss: 1.4876...  0.8230 sec/batch\n",
      "WARNING:tensorflow:Error encountered when serializing LAYER_NAME_UIDS.\n",
      "Type is unsupported, or the types of the items don't match field type in CollectionDef.\n",
      "'dict' object has no attribute 'name'\n",
      "Epoch: 679/700...  Training Step: 34601...  Training loss: 1.2295...  Val loss: 1.4753...  0.8223 sec/batch\n",
      "Epoch: 681/700...  Training Step: 34701...  Training loss: 1.2396...  Val loss: 1.4841...  0.8216 sec/batch\n",
      "Epoch: 683/700...  Training Step: 34801...  Training loss: 1.2249...  Val loss: 1.4752...  0.8219 sec/batch\n",
      "Epoch: 685/700...  Training Step: 34901...  Training loss: 1.2189...  Val loss: 1.4751...  0.8227 sec/batch\n",
      "Epoch: 687/700...  Training Step: 35001...  Training loss: 1.2327...  Val loss: 1.4887...  0.8227 sec/batch\n",
      "WARNING:tensorflow:Error encountered when serializing LAYER_NAME_UIDS.\n",
      "Type is unsupported, or the types of the items don't match field type in CollectionDef.\n",
      "'dict' object has no attribute 'name'\n",
      "Epoch: 689/700...  Training Step: 35101...  Training loss: 1.2316...  Val loss: 1.4856...  0.8234 sec/batch\n",
      "Epoch: 691/700...  Training Step: 35201...  Training loss: 1.2075...  Val loss: 1.4934...  0.8225 sec/batch\n",
      "Epoch: 693/700...  Training Step: 35301...  Training loss: 1.2151...  Val loss: 1.4883...  0.8234 sec/batch\n",
      "Epoch: 695/700...  Training Step: 35401...  Training loss: 1.2006...  Val loss: 1.4905...  0.8219 sec/batch\n",
      "Epoch: 697/700...  Training Step: 35501...  Training loss: 1.2234...  Val loss: 1.4895...  0.8228 sec/batch\n",
      "WARNING:tensorflow:Error encountered when serializing LAYER_NAME_UIDS.\n",
      "Type is unsupported, or the types of the items don't match field type in CollectionDef.\n",
      "'dict' object has no attribute 'name'\n",
      "Epoch: 699/700...  Training Step: 35601...  Training loss: 1.2289...  Val loss: 1.4880...  0.8222 sec/batch\n",
      "WARNING:tensorflow:Error encountered when serializing LAYER_NAME_UIDS.\n",
      "Type is unsupported, or the types of the items don't match field type in CollectionDef.\n",
      "'dict' object has no attribute 'name'\n"
     ]
    }
   ],
   "source": [
    "#epochs = 1\n",
    "# Save every N iterations\n",
    "save_every_n = 500\n",
    "print_loss_every_n = 100\n",
    "sample_every = 500\n",
    "with tf.device(\"/gpu:0\"):\n",
    "    model = CharRNN(len(vocab), batch_size=batch_size, num_steps=num_steps,\n",
    "                lstm_size=lstm_size, num_layers=num_layers, \n",
    "                learning_rate=learning_rate)\n",
    "    #print(\"after model\")\n",
    "\n",
    "saver = tf.train.Saver(max_to_keep=5)\n",
    "#print(\"after saver\")\n",
    "with tf.Session() as sess:\n",
    "    sess.run(tf.global_variables_initializer())\n",
    "    print(\"Number of parameters:\",get_number_of_parameters(),\"Dataset size:\",len(encoded))\n",
    "    #print(\"after initializer\")\n",
    "    if resume_from_checkpoint:\n",
    "        latest_checkpoint = tf.train.latest_checkpoint('checkpoints')\n",
    "        saver.restore(sess, latest_checkpoint)\n",
    "    counter = 0\n",
    "    for e in range(epochs):\n",
    "        # Train network\n",
    "        \n",
    "        new_state = sess.run(model.initial_state)\n",
    "        loss = 0\n",
    "        for x, y in get_batches(encoded, batch_size, num_steps):\n",
    "            \n",
    "            \n",
    "            start = time.time()\n",
    "            feed = {model.inputs: x,\n",
    "                    model.targets: y,\n",
    "                    model.keep_prob: keep_prob,\n",
    "                    model.initial_state: new_state}\n",
    "            batch_loss, new_state, _ = sess.run([model.loss, \n",
    "                                                 model.final_state, \n",
    "                                                 model.optimizer], \n",
    "                                                 feed_dict=feed)\n",
    "        \n",
    "            \n",
    "            end = time.time()\n",
    "            if counter%print_loss_every_n == 0:\n",
    "                val_batches = get_batches(encoded_val,int(len(encoded_val)/num_steps),num_steps)\n",
    "                x_val,y_val = next(val_batches)\n",
    "                \n",
    "                val_dict = {model.inputs: x_val,\n",
    "                            model.targets: y_val,\n",
    "                            model.keep_prob: 1,\n",
    "                            model.initial_state: new_state}\n",
    "                \n",
    "                val_loss,prediction = sess.run([model.loss,model.prediction],feed_dict=val_dict)\n",
    "                \n",
    "                losses[\"train\"].append(batch_loss)\n",
    "                losses[\"validation\"].append(val_loss)\n",
    "                \n",
    "                \n",
    "                global_step = tf.train.global_step(sess,model.global_step_tensor)\n",
    "                x_steps.append(global_step)\n",
    "                \n",
    "                print('Epoch: {}/{}... '.format(e+1, epochs),\n",
    "                      'Training Step: {}... '.format(global_step),\n",
    "                      'Training loss: {:.4f}... '.format(batch_loss),\n",
    "                      'Val loss: {:.4f}... '.format(val_loss),\n",
    "                      '{:.4f} sec/batch'.format((end-start)))\n",
    "        \n",
    "            if (counter % save_every_n == 0):\n",
    "                global_step = tf.train.global_step(sess,model.global_step_tensor)\n",
    "                saver.save(sess, \"checkpoints/m{}_i{}_l{}.ckpt\".format(mode,global_step, lstm_size))\n",
    "                \n",
    "            counter += 1\n",
    "            \n",
    "    global_step = tf.train.global_step(sess,model.global_step_tensor)\n",
    "    saver.save(sess, \"checkpoints/m{}_i{}_l{}.ckpt\".format(mode,global_step, lstm_size))"
   ]
  },
  {
   "cell_type": "code",
   "execution_count": 31,
   "metadata": {},
   "outputs": [
    {
     "data": {
      "image/png": "[encoded data removed]",
      "text/plain": [
       "<matplotlib.figure.Figure at 0x7f43fbd7ae10>"
      ]
     },
     "metadata": {
      "image/png": {
       "height": 250,
       "width": 373
      }
     },
     "output_type": "display_data"
    }
   ],
   "source": [
    "plt.plot(x_steps,losses[\"train\"],label=\"Train loss\")\n",
    "plt.plot(x_steps,losses[\"validation\"],label=\"Validation loss\")\n",
    "plt.legend()\n",
    "_ = plt.ylim()"
   ]
  },
  {
   "cell_type": "markdown",
   "metadata": {},
   "source": [
    "#### Saved checkpoints\n",
    "\n",
    "Read up on saving and loading checkpoints here: https://www.tensorflow.org/programmers_guide/variables"
   ]
  },
  {
   "cell_type": "code",
   "execution_count": 32,
   "metadata": {
    "collapsed": true
   },
   "outputs": [],
   "source": [
    "checkpoints = tf.train.get_checkpoint_state('checkpoints')"
   ]
  },
  {
   "cell_type": "markdown",
   "metadata": {},
   "source": [
    "## Sampling final trained model\n",
    "\n",
    "Now that the network is trained, we'll can use it to generate new text. The idea is that we pass in a character, then the network will predict the next character. We can use the new one, to predict the next one. And we keep doing this to generate all new text. I also included some functionality to prime the network with some text by passing in a string and building up a state from that.\n",
    "\n",
    "The network gives us predictions for each character. To reduce noise and make things a little less random, I'm going to only choose a new character from the top N most likely characters.\n",
    "\n"
   ]
  },
  {
   "cell_type": "code",
   "execution_count": 33,
   "metadata": {
    "collapsed": true
   },
   "outputs": [],
   "source": [
    "def sample(checkpoint, n_samples, lstm_size, vocab_size, prime=\"The \",mode=\"characters\"):\n",
    "    print(mode)\n",
    "    samples = tokenize_text(prime,mode)\n",
    "    model = CharRNN(len(vocab), lstm_size=lstm_size, sampling=True)\n",
    "    saver = tf.train.Saver()\n",
    "    with tf.Session() as sess:\n",
    "        saver.restore(sess, checkpoint)\n",
    "        new_state = sess.run(model.initial_state)\n",
    "        for c in tokenize_text(prime,mode):\n",
    "            x = np.zeros((1, 1))\n",
    "            x[0,0] = vocab_to_int[c]\n",
    "            feed = {model.inputs: x,\n",
    "                    model.keep_prob: 1.,\n",
    "                    model.initial_state: new_state}\n",
    "            preds, new_state = sess.run([model.prediction, model.final_state], \n",
    "                                         feed_dict=feed)\n",
    "\n",
    "        c = pick_top_n(preds, len(vocab))\n",
    "        samples.append(int_to_vocab[c])\n",
    "\n",
    "        for i in range(n_samples):\n",
    "            x[0,0] = c\n",
    "            feed = {model.inputs: x,\n",
    "                    model.keep_prob: 1.,\n",
    "                    model.initial_state: new_state}\n",
    "            preds, new_state = sess.run([model.prediction, model.final_state], \n",
    "                                         feed_dict=feed)\n",
    "\n",
    "            c = pick_top_n(preds, len(vocab))\n",
    "            samples.append(int_to_vocab[c])\n",
    "        \n",
    "    return ''.join(samples).replace(\"new_line_token\",\"\\n\")"
   ]
  },
  {
   "cell_type": "markdown",
   "metadata": {},
   "source": [
    "Here, pass in the path to a checkpoint and sample from the network."
   ]
  },
  {
   "cell_type": "code",
   "execution_count": 34,
   "metadata": {},
   "outputs": [
    {
     "data": {
      "text/plain": [
       "'checkpoints/mcharacters_i35700_l768.ckpt'"
      ]
     },
     "execution_count": 34,
     "metadata": {},
     "output_type": "execute_result"
    }
   ],
   "source": [
    "tf.train.latest_checkpoint('checkpoints')"
   ]
  },
  {
   "cell_type": "markdown",
   "metadata": {},
   "source": [
    "## Generate new text from \"base\" text"
   ]
  },
  {
   "cell_type": "code",
   "execution_count": 35,
   "metadata": {},
   "outputs": [
    {
     "name": "stdout",
     "output_type": "stream",
     "text": [
      "characters\n",
      "INFO:tensorflow:Restoring parameters from checkpoints/mcharacters_i35700_l768.ckpt\n",
      "characters\n",
      "INFO:tensorflow:Restoring parameters from checkpoints/mcharacters_i35700_l768.ckpt\n",
      "characters\n",
      "INFO:tensorflow:Restoring parameters from checkpoints/mcharacters_i35700_l768.ckpt\n",
      "characters\n",
      "INFO:tensorflow:Restoring parameters from checkpoints/mcharacters_i35700_l768.ckpt\n",
      "characters\n",
      "INFO:tensorflow:Restoring parameters from checkpoints/mcharacters_i35700_l768.ckpt\n",
      "characters\n",
      "INFO:tensorflow:Restoring parameters from checkpoints/mcharacters_i35700_l768.ckpt\n",
      "characters\n",
      "INFO:tensorflow:Restoring parameters from checkpoints/mcharacters_i35700_l768.ckpt\n",
      "characters\n",
      "INFO:tensorflow:Restoring parameters from checkpoints/mcharacters_i35700_l768.ckpt\n",
      "characters\n",
      "INFO:tensorflow:Restoring parameters from checkpoints/mcharacters_i35700_l768.ckpt\n",
      "characters\n",
      "INFO:tensorflow:Restoring parameters from checkpoints/mcharacters_i35700_l768.ckpt\n",
      "characters\n",
      "INFO:tensorflow:Restoring parameters from checkpoints/mcharacters_i35700_l768.ckpt\n",
      "characters\n",
      "INFO:tensorflow:Restoring parameters from checkpoints/mcharacters_i35700_l768.ckpt\n",
      "characters\n",
      "INFO:tensorflow:Restoring parameters from checkpoints/mcharacters_i35700_l768.ckpt\n",
      "characters\n",
      "INFO:tensorflow:Restoring parameters from checkpoints/mcharacters_i35700_l768.ckpt\n",
      "characters\n",
      "INFO:tensorflow:Restoring parameters from checkpoints/mcharacters_i35700_l768.ckpt\n",
      "characters\n",
      "INFO:tensorflow:Restoring parameters from checkpoints/mcharacters_i35700_l768.ckpt\n"
     ]
    }
   ],
   "source": [
    "\n",
    "checkpoint = tf.train.latest_checkpoint('checkpoints')\n",
    "\n",
    "\n",
    "samples = list()\n",
    "for text in text_to_try:\n",
    "    #print(\"------------------------\",text)\n",
    "    samples.append( sample(checkpoint, 500, lstm_size, len(vocab), prime=text,mode=mode))\n",
    "    #print(samp)\n",
    "    #print(\"------------------------\")"
   ]
  },
  {
   "cell_type": "code",
   "execution_count": 36,
   "metadata": {},
   "outputs": [
    {
     "name": "stdout",
     "output_type": "stream",
     "text": [
      "------------------------ In the first place\n",
      "In the first place, if son at length the suches which had not a corvidor and sound, and the strange secret of his considerable stracger to ascerd an extensive bering one of that thought of sourde, and as when was a lest excalmingly state which he shiffed the seasting-idea at the must of the men he had stone so that we could not bo concern it as horribly as in a stiry and taking secret and alley we were in the madness. His house thought they came or an inferelt of mention that he should have been in the cass, the m\n",
      "------------------------\n",
      "------------------------ the night before\n",
      "the night before I had to ceare. We assumed a sound belanded to the mestage. The crew there aper the same tattres of haspened was once to account, and secured a single trouble of tonce to the stone starts that this world of the detective could be terrible and fathered on his food, and with a strange tran of this above our possible trincitors and mustures which his men attached a consciousness and shadely accounts of a few starts of stately perfect and supply contriptent on the firming of ancient times, which he \n",
      "------------------------\n",
      "------------------------ horror\n",
      "horrors to and into the men with its parely for a careful. All the first time toed although I could net been.\n",
      "\n",
      "    At length I had not tere that at least ag this time I should not be told, where the wind-would be nights and although he was still the colleceness of the prepirition and shurrer which we had to be so far as they came as we had told him a monther far would have been before; the word were a subject by the consciousness and, as at all, after sail, and the almost even a chomen curious mestory \n",
      "------------------------\n",
      "------------------------ creature\n",
      "creature to the case which had stalled my saturative; and in the chamber to the complicity of host and seemed to came us what the thought was a sundered archaic of cormicar to some thing which I failed in husterand and passed servest of subpessing the part of the terrible sincularly carmings of the stars, and whose confession was on a springling of structure, too, taking about her attention at large any destart and surpace impossible for the care. With some season, and incomplete character, he heard the \n",
      "------------------------\n",
      "------------------------ night\n",
      "night\n",
      "had been interested in the signal. I had so conceived it was in the\n",
      "course of any ordinary sense of docater, therefore who had born in\n",
      "the ship. This was transolined to a pate transiforable a stearthy condition,\n",
      "I seemed to be then that we were indeed to but some forting of to\n",
      "many accessories without the most clasminal which the mast succeeded\n",
      "by the chief condution, though only when we were op nearly at least\n",
      "anowher. I had and abture that we had a pressure of suppressing semble\n",
      "strungs over a\n",
      "------------------------\n",
      "------------------------ dream\n",
      "dream of an intense silence who saw the prenens that was a man from the method at her singular conversation.\n",
      "\n",
      "    On the struck had a consequently convereation of tangs of structure, the sixing of the planes or twinish strained himsels and the antiquarianism was a state of cormenation from the man. The time of the dost had naturally seek him, but there appeared to sted how anything we could see and of the deserted musical ranging in the compination, the strange decadent accinents were that was absolut\n",
      "------------------------\n",
      "------------------------ thing\n",
      "thing we had been attributed by the complete secund more than fine supstation of the combon whose crept was carefully began to report to the terror. The sea-confused mass of canelestress he was stone with shelves as a mistre of sound of anticipated the plon overwarked, in sounds around my poritiveness without his period as the word was stringed by the persons to poster the child-of hours and a strange dreamer section from the stones, and with a perficted man will be dined and profuses; following all t\n",
      "------------------------\n",
      "------------------------ That night\n",
      "That night in the same state, which I found a continuous messenger in any other such as he dade on their soul in mind. The father and the decadent west were too marine; but which soon remember the papes, burning ont of the searan, and serven fere to the place. The present watchmanth which had been disturbed in all the treis of moments were such of any propribted and period to his attempt to assure my hind. He was any of the present fantastic were-suck into its and starelasd their struggle. In this time we \n",
      "------------------------\n",
      "------------------------ mountain\n",
      "mountains. I cannot conceive his stony statereom; and the start seemed abtured to the feet of the thing would be some of the more than my sunsate. In the southern head as I suthemed. A continuous passion of allistitity as a man and to have been insured this men who were too crest first the construction and the sturied structure far andidiem. Willett starked the mountain sail of a chimber.\n",
      "\n",
      "The centre of charce at lessth day an incendation of second time truck attending to this men had forced the barry th\n",
      "------------------------\n",
      "------------------------ Ammi\n",
      "Ammination of mis in the matingary there when we saw the meteor which the scurptor had been dreamed. There wished to cume of her attentance at length, to ancoon with the passionate commingions of the million years. All the still shall wall the crise witt who was now though I found that we will all along it implinable for anything the sunder panty were torch and so for the part of a loome time, and as a sublisient subjicion to shapeless, and all they saw, indeed, they was seer too and out in the coult\n",
      "------------------------\n",
      "------------------------ Cthulhu\n",
      "Cthulhunation.\n",
      "\n",
      "In the primal line the condition of his present, the present hands were such an object on their caselesmore. He had a forced minuses and muthering to hear the feeling of merour. The courting-in other security, however resterlatly, in a short of success of part of the mountain-saded close a star was the cases, as were all that they seared it at once with the planess weight from the such and sealonisal conditions, before his stirl was necessary in that continuous mental caring, which, in t\n",
      "------------------------\n",
      "------------------------ raven\n",
      "raven to be described. A strange depictunes and mary one of those men had sungeaded one of the disposition, there was the carrisgre of harf-this water from the plane. The sun on the monntroos. I had now alled hore for the mass we had now sounds. His presence of that considerable place, the formical chamection of town in the choling courten of a place in the dost of senting one of the primal sceet. And why he had, a done that went and a clatthe on thirty to such alled at the call, howing that the month\n",
      "------------------------\n",
      "------------------------ bird\n",
      "bird, and he went about for the moment to thore her wall, and we was still roomed in his foot. It was nearly the canvenss, and as he dos not bree him a patertal days and thought; of the constunter and charced and period of an ontine and crumband cource of his same tring. I went to the thought of the carven canies that as the came strange he will be no pense. The bather we had been seand as it was soon as if thristened and asconding, and as I was in the strength, out of the distunbingling and anches w\n",
      "------------------------\n",
      "------------------------ nevermore\n",
      "nevermore on the minds of the pare the tater of the candes. Though it had caused it to be the manine too word of the company of companion. I was about taken by any paticnabte was a silence, without sounds of state on some subject, and a surmrive obleators of the most divading ancient sceles.\n",
      "\n",
      "The family and too man as they were talked about the chosing, and toward the pass and told the most pointing suptly of any death. An intensity and perfocalion, and we could not came for my presence of countenance, an\n",
      "------------------------\n",
      "------------------------ dead\n",
      "dead treebless bedone the process--when the stifling shades of the carven proceesiand cale such walk of a faint sound of strange allatances with a frantic lotely sunder past, was the must formate the processes and profound and alpercated cries of a fanes which concruded what will not be stone, and higher that a constructed mountain, the careliss of the topp here the black spread, that how the littered care as the plane was suppered, the single specimens were and or a marked and archaic presence of mu\n",
      "------------------------\n",
      "------------------------ The bird\n",
      "The bird of such some mem than tenre the matter of the change of sea which I had templet their story of mind, and in the souncising certain tentures were about to be seen. Allen in the ship was that who was, as he should be all the sail was never an influence. That was something survould for the sound of that, with its ancasnobul sundicions, at those others than and others of the present and treebled some points it seemed to see the concidenal its peculiar principle of held. There was some terrific spate\n",
      "------------------------\n"
     ]
    }
   ],
   "source": [
    "for i in range(len(text_to_try)):\n",
    "    text = text_to_try[i]\n",
    "    generated = samples[i]\n",
    "    print(\"------------------------\",text)\n",
    "    print(generated)\n",
    "    print(\"------------------------\")"
   ]
  },
  {
   "cell_type": "code",
   "execution_count": null,
   "metadata": {
    "collapsed": true
   },
   "outputs": [],
   "source": []
  }
 ],
 "metadata": {
  "kernelspec": {
   "display_name": "Python 3",
   "language": "python",
   "name": "python3"
  },
  "language_info": {
   "codemirror_mode": {
    "name": "ipython",
    "version": 3
   },
   "file_extension": ".py",
   "mimetype": "text/x-python",
   "name": "python",
   "nbconvert_exporter": "python",
   "pygments_lexer": "ipython3",
   "version": "3.6.1"
  }
 },
 "nbformat": 4,
 "nbformat_minor": 2
}
