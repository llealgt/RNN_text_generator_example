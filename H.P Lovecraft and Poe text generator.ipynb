{
 "cells": [
  {
   "cell_type": "markdown",
   "metadata": {},
   "source": [
    "# Recurrent neural networks for H.P Lovecraft text generation\n",
    "\n",
    "\"The color out of space\" is one of my favorite tales from Lovecraft, i will use it(as well as others as the call of cthulhu) to create a recurrent neural network in tensorflow that learns his style and generates new text in his style\n",
    "\n",
    "This network is based off of Andrej Karpathy's [post on RNNs](http://karpathy.github.io/2015/05/21/rnn-effectiveness/) and [implementation in Torch](https://github.com/karpathy/char-rnn) and an example from \"Deep Learning Nanodegree\" on udacity. Also, some information [here at r2rt](http://r2rt.com/recurrent-neural-networks-in-tensorflow-ii.html) and from [Sherjil Ozair](https://github.com/sherjilozair/char-rnn-tensorflow) on GitHub. \n",
    "\n",
    "## General architecture using \"Long short term memory\" units in the recurrent layers\n",
    "\n",
    "<img src=\"assets/charseq.jpeg\" width=\"500\">"
   ]
  },
  {
   "cell_type": "code",
   "execution_count": 1,
   "metadata": {
    "collapsed": true
   },
   "outputs": [],
   "source": [
    "%matplotlib inline\n",
    "%config InlineBackend.figure_format = 'retina'"
   ]
  },
  {
   "cell_type": "code",
   "execution_count": 2,
   "metadata": {
    "collapsed": true
   },
   "outputs": [],
   "source": [
    "import time\n",
    "from collections import namedtuple\n",
    "\n",
    "import numpy as np\n",
    "import tensorflow as tf\n",
    "from nltk.tokenize import word_tokenize\n",
    "import nltk\n",
    "import itertools\n",
    "import matplotlib.pyplot as plt\n",
    "from time import gmtime, strftime ,localtime"
   ]
  },
  {
   "cell_type": "code",
   "execution_count": 3,
   "metadata": {
    "collapsed": true
   },
   "outputs": [],
   "source": [
    "# Run only the  first time nltk is used to download language\n",
    "#nltk.download()"
   ]
  },
  {
   "cell_type": "markdown",
   "metadata": {},
   "source": [
    "### Define conf variables and hyper parameteters "
   ]
  },
  {
   "cell_type": "code",
   "execution_count": 4,
   "metadata": {
    "collapsed": true
   },
   "outputs": [],
   "source": [
    "mode = \"words\" #characters or words\n",
    "\n",
    "epochs = 500\n",
    "batch_size = 100       # Sequences per batch\n",
    "num_steps = 50         # Number of sequence steps per batch\n",
    "lstm_size = 512         # Size of hidden layers in LSTMs\n",
    "num_layers = 2          # Number of LSTM layers\n",
    "learning_rate = 0.0001    # Learning rate\n",
    "keep_prob = 0.5       # Dropout keep probability\n",
    "\n",
    "resume_from_checkpoint = False"
   ]
  },
  {
   "cell_type": "markdown",
   "metadata": {},
   "source": [
    "### Define base text\n",
    "Once trained ,the network can take base text and a sequence size and generate new text using base text as first characters in the sequence. For every element in base text wi will create a list that will store generated text as training goes, to be able to compare results between steps"
   ]
  },
  {
   "cell_type": "code",
   "execution_count": 5,
   "metadata": {
    "collapsed": true
   },
   "outputs": [],
   "source": [
    "text_to_try = [\"In the first place\",\"the night before\",\"horror\",\"creature\",\"night\",\"dream\",\"thing\",\"That night\",\"mountain\",\"Ammi\",\"Cthulhu\",\"raven\",\"bird\",\"nevermore\",\"dead\",\"The bird\"]"
   ]
  },
  {
   "cell_type": "markdown",
   "metadata": {},
   "source": [
    "#### Function that separates text into tokens(for whitespace characters, only new line is implemented, missing tabs and others="
   ]
  },
  {
   "cell_type": "code",
   "execution_count": 6,
   "metadata": {},
   "outputs": [
    {
     "data": {
      "text/plain": [
       "['Hello',\n",
       " ',',\n",
       " ' ',\n",
       " 'my',\n",
       " ' ',\n",
       " 'name',\n",
       " ' ',\n",
       " 'is',\n",
       " ' ',\n",
       " 'Luis',\n",
       " ' ',\n",
       " 'Leal',\n",
       " '!',\n",
       " 'new_line_token',\n",
       " 'new_line_token',\n",
       " 'From',\n",
       " ' ',\n",
       " 'Guatemala',\n",
       " ' ']"
      ]
     },
     "execution_count": 6,
     "metadata": {},
     "output_type": "execute_result"
    }
   ],
   "source": [
    "def tokenize_by_words(text):\n",
    "    text = text.replace(\"\\n\",\" new_line_token \")\n",
    "    tokens = []\n",
    "    splitted =[[word_tokenize(w),' ']for w in text.split()]\n",
    "    splitted = list(itertools.chain(*list(itertools.chain(*splitted))))\n",
    "    \n",
    "    token_list = []\n",
    "    i = 0\n",
    "    while i < len(splitted):\n",
    "        if splitted[i] == \"new_line_token\":\n",
    "            if   token_list[-1]==\" \":\n",
    "                token_list[-1] = splitted[i]\n",
    "            else:\n",
    "                token_list.append(splitted[i])\n",
    "            i+=1\n",
    "        else:\n",
    "            token_list.append(splitted[i])\n",
    "        i+=1\n",
    "    \n",
    "    return token_list\n",
    "\n",
    "def tokenize_by_characters(text):\n",
    "    return list(text)\n",
    "\n",
    "def tokenize_text(text,mode=\"characters\"):\n",
    "    if mode == \"characters\":\n",
    "        return tokenize_by_characters(text)\n",
    "    elif mode == \"words\":\n",
    "        return tokenize_by_words(text)\n",
    "    \n",
    "tokenize_text(\"Hello, my name is Luis Leal!\\n\\nFrom Guatemala\",mode)\n",
    "#tokenize_text(\"Hello, my name is Luis Leal!\\n\\nFrom Guatemala\",\"words\")\n"
   ]
  },
  {
   "cell_type": "markdown",
   "metadata": {},
   "source": [
    "First we'll load the text file and convert it into integers for our network to use. Here I'm creating a couple dictionaries to convert the characters to and from integers. Encoding the characters as integers makes it easier to use as input in the network."
   ]
  },
  {
   "cell_type": "code",
   "execution_count": 7,
   "metadata": {
    "collapsed": true
   },
   "outputs": [],
   "source": [
    "with open('corpus.txt', 'r') as f:\n",
    "    text=f.read()"
   ]
  },
  {
   "cell_type": "code",
   "execution_count": 8,
   "metadata": {
    "collapsed": true
   },
   "outputs": [],
   "source": [
    "vocab = set(tokenize_text(text,mode))\n",
    "vocab_to_int = {c: i for i, c in enumerate(vocab)}\n",
    "int_to_vocab = dict(enumerate(vocab))"
   ]
  },
  {
   "cell_type": "markdown",
   "metadata": {},
   "source": [
    "### Get a little portion of text for validation"
   ]
  },
  {
   "cell_type": "code",
   "execution_count": 9,
   "metadata": {
    "collapsed": true
   },
   "outputs": [],
   "source": [
    "tokenized_text = tokenize_text(text,mode)\n",
    "encoded_dataset = np.array([vocab_to_int[c] for c in tokenized_text if c in vocab_to_int], dtype=np.int32)"
   ]
  },
  {
   "cell_type": "code",
   "execution_count": 10,
   "metadata": {
    "collapsed": true
   },
   "outputs": [],
   "source": [
    "validation_size = batch_size * num_steps #create a single baty\n",
    "validation_start_index = len(encoded_dataset) - validation_size\n",
    "\n",
    "encoded = encoded_dataset[:validation_start_index]\n",
    "encoded_val = encoded_dataset[validation_start_index:]"
   ]
  },
  {
   "cell_type": "code",
   "execution_count": 11,
   "metadata": {},
   "outputs": [
    {
     "name": "stdout",
     "output_type": "stream",
     "text": [
      " occurred to our philosophers that a laudable curiosity might be gratified, and, at the same time, the interests of science much advanced, by living this natural term in installments. In the case of history, indeed, experience demonstrated that something of this kind was indispensable. An historian\n"
     ]
    }
   ],
   "source": [
    "def encoded_to_text(encoded):\n",
    "    return \"\".join([int_to_vocab[number] for number in encoded])\n",
    "\n",
    "print(encoded_to_text(encoded_val[0:100]))"
   ]
  },
  {
   "cell_type": "code",
   "execution_count": 12,
   "metadata": {
    "collapsed": true
   },
   "outputs": [],
   "source": [
    "val_text =encoded_to_text(encoded_val)\n",
    "text = encoded_to_text(encoded)"
   ]
  },
  {
   "cell_type": "markdown",
   "metadata": {},
   "source": [
    "Let's check out the first 100 characters of train and validation, make sure everything is peachy.  line of a book ever."
   ]
  },
  {
   "cell_type": "code",
   "execution_count": 13,
   "metadata": {},
   "outputs": [
    {
     "data": {
      "text/plain": [
       "'THE COLOUR OUT OF SPACEnew_line_tokennew_line_tokenWest of Arkham the hills rise wild, and there are'"
      ]
     },
     "execution_count": 13,
     "metadata": {},
     "output_type": "execute_result"
    }
   ],
   "source": [
    "text[:100]"
   ]
  },
  {
   "cell_type": "code",
   "execution_count": 14,
   "metadata": {},
   "outputs": [
    {
     "data": {
      "text/plain": [
       "' occurred to our philosophers that a laudable curiosity might be gratified, and, at the same time, t'"
      ]
     },
     "execution_count": 14,
     "metadata": {},
     "output_type": "execute_result"
    }
   ],
   "source": [
    "val_text[:100]"
   ]
  },
  {
   "cell_type": "markdown",
   "metadata": {},
   "source": [
    "And we can see the characters encoded as integersin both train and validation"
   ]
  },
  {
   "cell_type": "code",
   "execution_count": 15,
   "metadata": {},
   "outputs": [
    {
     "data": {
      "text/plain": [
       "array([ 8372, 24427,  4933, 24427, 16102, 24427,  9568, 24427, 20623,\n",
       "       15160, 15160,  2699, 24427,  4446, 24427, 24216, 24427, 17568,\n",
       "       24427, 22642, 24427,  4400, 24427, 11449, 18288, 24427,  5205,\n",
       "       24427, 23526, 24427,   417, 24427,  7275, 24427,  4307, 24427,\n",
       "        7564, 24427,  6421, 24427,  7032, 24427, 13116, 24427,  1113,\n",
       "       24427, 13702, 24427, 25673, 24427, 23100, 14590, 24427,  6741,\n",
       "       24427,   417, 24427, 13901, 24427, 11045, 24427, 10901, 24427,\n",
       "       11026, 24427, 17568, 24427, 21826, 24427, 12434, 24427, 17389,\n",
       "       18288, 24427,  5205, 24427, 11026, 24427,  2127, 24427, 10953,\n",
       "       24427, 13697, 24427, 24912, 24427, 25673, 24427,  1081, 24427,\n",
       "        9122, 24427, 17568, 24427, 19082, 24427,  4446, 24427, 25855, 14590], dtype=int32)"
      ]
     },
     "execution_count": 15,
     "metadata": {},
     "output_type": "execute_result"
    }
   ],
   "source": [
    "encoded[:100]"
   ]
  },
  {
   "cell_type": "code",
   "execution_count": 16,
   "metadata": {},
   "outputs": [
    {
     "data": {
      "text/plain": [
       "array([24427,  2567, 24427,  1766, 24427,  6058, 24427,   719, 24427,\n",
       "        7032, 24427, 16178, 24427,  1218, 24427, 19244, 24427,   230,\n",
       "       24427, 22895, 24427, 14995, 18288, 24427,  5205, 18288, 24427,\n",
       "        8324, 24427, 17568, 24427, 17296, 24427, 16363, 18288, 24427,\n",
       "       17568, 24427,  5336, 24427,  4446, 24427,  4303, 24427, 20488,\n",
       "       24427, 17845, 18288, 24427, 11102, 24427, 24567, 24427, 22948,\n",
       "       24427, 21965, 24427, 21903, 24427, 22040, 24427, 19185, 14590,\n",
       "       24427, 26056, 24427, 17568, 24427, 10987, 24427,  4446, 24427,\n",
       "       10090, 18288, 24427, 26654, 18288, 24427,  9616, 24427, 12455,\n",
       "       24427,  7032, 24427, 21058, 24427,  4446, 24427, 22948, 24427,\n",
       "       14764, 24427, 26167, 24427, 20993, 14590, 24427, 16875, 24427,  9370], dtype=int32)"
      ]
     },
     "execution_count": 16,
     "metadata": {},
     "output_type": "execute_result"
    }
   ],
   "source": [
    "encoded_val[0:100]"
   ]
  },
  {
   "cell_type": "markdown",
   "metadata": {},
   "source": [
    "Since the network is working with individual english tokens, it's similar to a classification problem in which we are trying to predict the next character from the previous text.  Here's how many 'classes' our network has to pick from."
   ]
  },
  {
   "cell_type": "code",
   "execution_count": 17,
   "metadata": {},
   "outputs": [
    {
     "data": {
      "text/plain": [
       "28404"
      ]
     },
     "execution_count": 17,
     "metadata": {},
     "output_type": "execute_result"
    }
   ],
   "source": [
    "len(vocab)"
   ]
  },
  {
   "cell_type": "markdown",
   "metadata": {},
   "source": [
    "## Making training mini-batches\n",
    "\n",
    "Here is where we'll make our mini-batches for training. Remember that we want our batches to be multiple sequences of some desired number of sequence steps. Considering a simple example, our batches would look like this:\n",
    "\n",
    "<img src=\"assets/sequence_batching@1x.png\" width=500px>\n",
    "\n",
    "\n",
    "<br>\n",
    "We have our text encoded as integers as one long array in `encoded`. Let's create a function that will give us an iterator for our batches. I like using [generator functions](https://jeffknupp.com/blog/2013/04/07/improve-your-python-yield-and-generators-explained/) to do this. Then we can pass `encoded` into this function and get our batch generator.\n",
    "\n",
    "The first thing we need to do is discard some of the text so we only have completely full batches. Each batch contains $N \\times M$ characters, where $N$ is the batch size (the number of sequences) and $M$ is the number of steps. Then, to get the number of batches we can make from some array `arr`, you divide the length of `arr` by the batch size. Once you know the number of batches and the batch size, you can get the total number of characters to keep.\n",
    "\n",
    "After that, we need to split `arr` into $N$ sequences. You can do this using `arr.reshape(size)` where `size` is a tuple containing the dimensions sizes of the reshaped array. We know we want $N$ sequences (`n_seqs` below), let's make that the size of the first dimension. For the second dimension, you can use `-1` as a placeholder in the size, it'll fill up the array with the appropriate data for you. After this, you should have an array that is $N \\times (M * K)$ where $K$ is the number of batches.\n",
    "\n",
    "Now that we have this array, we can iterate through it to get our batches. The idea is each batch is a $N \\times M$ window on the array. For each subsequent batch, the window moves over by `n_steps`. We also want to create both the input and target arrays. Remember that the targets are the inputs shifted over one character. You'll usually see the first input character used as the last target character, so something like this:\n",
    "```python\n",
    "y[:, :-1], y[:, -1] = x[:, 1:], x[:, 0]\n",
    "```\n",
    "where `x` is the input batch and `y` is the target batch.\n",
    "\n",
    "The way I like to do this window is use `range` to take steps of size `n_steps` from $0$ to `arr.shape[1]`, the total number of steps in each sequence. That way, the integers you get from `range` always point to the start of a batch, and each window is `n_steps` wide."
   ]
  },
  {
   "cell_type": "code",
   "execution_count": 18,
   "metadata": {
    "collapsed": true
   },
   "outputs": [],
   "source": [
    "def get_batches(arr, n_seqs, n_steps):\n",
    "    '''Create a generator that returns batches of size\n",
    "       n_seqs x n_steps from arr.\n",
    "       \n",
    "       Arguments\n",
    "       ---------\n",
    "       arr: Array you want to make batches from\n",
    "       n_seqs: Batch size, the number of sequences per batch\n",
    "       n_steps: Number of sequence steps per batch\n",
    "    '''\n",
    "    # Get the batch size and number of batches we can make\n",
    "    batch_size = n_seqs * n_steps \n",
    "    n_batches =  len(arr)//batch_size\n",
    "    \n",
    "    # Keep only enough characters to make full batches\n",
    "    arr =  arr[:n_batches*batch_size]\n",
    "    \n",
    "    # Reshape into n_seqs rows\n",
    "    arr = arr.reshape((n_seqs,-1))\n",
    "    \n",
    "    for n in range(0, arr.shape[1], n_steps):\n",
    "        # The features\n",
    "        x = arr[:,n:n+n_steps]\n",
    "        # The targets, shifted by one\n",
    "        y = np.zeros(x.shape)\n",
    "        y[:,:-1],y[:,-1] = x[:,1:] ,x[:,0]\n",
    "        yield x, y"
   ]
  },
  {
   "cell_type": "markdown",
   "metadata": {},
   "source": [
    "Now I'll make my data sets and we can check out what's going on here. Here I'm going to use a batch size of 10 and 50 sequence steps."
   ]
  },
  {
   "cell_type": "code",
   "execution_count": 19,
   "metadata": {
    "collapsed": true
   },
   "outputs": [],
   "source": [
    "batches = get_batches(encoded, 10, 50)\n",
    "x, y = next(batches)"
   ]
  },
  {
   "cell_type": "code",
   "execution_count": 20,
   "metadata": {},
   "outputs": [
    {
     "name": "stdout",
     "output_type": "stream",
     "text": [
      "x\n",
      " [[ 8372 24427  4933 24427 16102 24427  9568 24427 20623 15160]\n",
      " [24594 24427 25250 14590 15160 15160 18969 24427 26167 24427]\n",
      " [24427  7908 24427   800 24427 26103 24427 18776 24427  4446]\n",
      " [16178 24427 27275 24427  4307 24427  9430 18288 24427 12873]\n",
      " [24427 17568 24427 14734 24427  2236 24427  4370 24427  4830]\n",
      " [24427 20317 24427 22033 24427    30 24427 28378 18288 24427]\n",
      " [16404 24427 18410 14590 24427 21051 24427 25116 24427  3859]\n",
      " [14590 24427 12614 24427 26447 24427 17568 24427 10674 24427]\n",
      " [ 4446 24427  4830 18288 24427  5205 24427 25854 24427  7032]\n",
      " [24427 22895 24427 25135 24427  4258 24427 24769 24427  4370]]\n",
      "\n",
      "y\n",
      " [[ 24427.   4933.  24427.  16102.  24427.   9568.  24427.  20623.  15160.\n",
      "   15160.]\n",
      " [ 24427.  25250.  14590.  15160.  15160.  18969.  24427.  26167.  24427.\n",
      "   15578.]\n",
      " [  7908.  24427.    800.  24427.  26103.  24427.  18776.  24427.   4446.\n",
      "   24427.]\n",
      " [ 24427.  27275.  24427.   4307.  24427.   9430.  18288.  24427.  12873.\n",
      "   24427.]\n",
      " [ 17568.  24427.  14734.  24427.   2236.  24427.   4370.  24427.   4830.\n",
      "   24427.]\n",
      " [ 20317.  24427.  22033.  24427.     30.  24427.  28378.  18288.  24427.\n",
      "   17568.]\n",
      " [ 24427.  18410.  14590.  24427.  21051.  24427.  25116.  24427.   3859.\n",
      "   24427.]\n",
      " [ 24427.  12614.  24427.  26447.  24427.  17568.  24427.  10674.  24427.\n",
      "    7032.]\n",
      " [ 24427.   4830.  18288.  24427.   5205.  24427.  25854.  24427.   7032.\n",
      "   24427.]\n",
      " [ 22895.  24427.  25135.  24427.   4258.  24427.  24769.  24427.   4370.\n",
      "   24427.]]\n"
     ]
    }
   ],
   "source": [
    "print('x\\n', x[:10, :10])\n",
    "print('\\ny\\n', y[:10, :10])"
   ]
  },
  {
   "cell_type": "markdown",
   "metadata": {},
   "source": [
    "## Building the model\n",
    "\n",
    "Below is where you'll build the network. We'll break it up into parts so it's easier to reason about each bit. Then we can connect them up into the whole network.\n",
    "\n",
    "<img src=\"assets/charRNN.png\" width=500px>\n",
    "\n",
    "\n",
    "### Inputs\n",
    "\n",
    "First off we'll create our input placeholders. As usual we need placeholders for the training data and the targets. We'll also create a placeholder for dropout layers called `keep_prob`. This will be a scalar, that is a 0-D tensor. To make a scalar, you create a placeholder without giving it a size."
   ]
  },
  {
   "cell_type": "code",
   "execution_count": 21,
   "metadata": {
    "collapsed": true
   },
   "outputs": [],
   "source": [
    "def build_inputs(batch_size, num_steps):\n",
    "    ''' Define placeholders for inputs, targets, and dropout \n",
    "    \n",
    "        Arguments\n",
    "        ---------\n",
    "        batch_size: Batch size, number of sequences per batch\n",
    "        num_steps: Number of sequence steps in a batch\n",
    "        \n",
    "    '''\n",
    "    # Declare placeholders we'll feed into the graph\n",
    "    inputs = tf.placeholder(tf.int32,[batch_size,num_steps],name=\"inputs\")\n",
    "    targets = tf.placeholder(tf.int32,[batch_size,num_steps],name=\"targets\")\n",
    "    \n",
    "    # Keep probability placeholder for drop out layers\n",
    "    keep_prob = tf.placeholder(tf.float32,name=\"keep_prob\")\n",
    "    \n",
    "    return inputs, targets, keep_prob"
   ]
  },
  {
   "cell_type": "markdown",
   "metadata": {},
   "source": [
    "### LSTM Cell\n",
    "\n",
    "Here we will create the LSTM cell we'll use in the hidden layer. We'll use this cell as a building block for the RNN. So we aren't actually defining the RNN here, just the type of cell we'll use in the hidden layer.\n",
    "\n",
    "We first create a basic LSTM cell with\n",
    "\n",
    "```python\n",
    "lstm = tf.contrib.rnn.BasicLSTMCell(num_units)\n",
    "```\n",
    "\n",
    "where `num_units` is the number of units in the hidden layers in the cell. Then we can add dropout by wrapping it with \n",
    "\n",
    "```python\n",
    "tf.contrib.rnn.DropoutWrapper(lstm, output_keep_prob=keep_prob)\n",
    "```\n",
    "You pass in a cell and it will automatically add dropout to the inputs or outputs. Finally, we can stack up the LSTM cells into layers with [`tf.contrib.rnn.MultiRNNCell`](https://www.tensorflow.org/versions/r1.0/api_docs/python/tf/contrib/rnn/MultiRNNCell). With this, you pass in a list of cells and it will send the output of one cell into the next cell. For example,\n",
    "\n",
    "```python\n",
    "tf.contrib.rnn.MultiRNNCell([cell]*num_layers)\n",
    "```\n",
    "\n",
    "This might look a little weird if you know Python well because this will create a list of the same `cell` object. However, TensorFlow will create different weight matrices for all `cell` objects. Even though this is actually multiple LSTM cells stacked on each other, you can treat the multiple layers as one cell.\n",
    "\n",
    "We also need to create an initial cell state of all zeros. This can be done like so\n",
    "\n",
    "```python\n",
    "initial_state = cell.zero_state(batch_size, tf.float32)\n",
    "```\n"
   ]
  },
  {
   "cell_type": "code",
   "execution_count": 22,
   "metadata": {
    "collapsed": true
   },
   "outputs": [],
   "source": [
    "def build_lstm(lstm_size, num_layers, batch_size, keep_prob):\n",
    "    ''' Build LSTM cell.\n",
    "    \n",
    "        Arguments\n",
    "        ---------\n",
    "        keep_prob: Scalar tensor (tf.placeholder) for the dropout keep probability\n",
    "        lstm_size: Size of the hidden layers in the LSTM cells\n",
    "        num_layers: Number of LSTM layers\n",
    "        batch_size: Batch size\n",
    "\n",
    "    '''\n",
    "    ### Build the LSTM Cell\n",
    "    # Use a basic LSTM cell\n",
    "    # Add dropout to the cell outputs\n",
    "    # Stack up multiple LSTM layers, for deep learning\n",
    "    cell = tf.contrib.rnn.MultiRNNCell([tf.contrib.rnn.DropoutWrapper( tf.contrib.rnn.BasicLSTMCell(lstm_size),output_keep_prob = keep_prob) for _ in range(num_layers)])\n",
    "    initial_state = cell.zero_state(batch_size,tf.float32)\n",
    "    \n",
    "    return cell, initial_state"
   ]
  },
  {
   "cell_type": "markdown",
   "metadata": {},
   "source": [
    "### RNN Output\n",
    "\n",
    "Here we'll create the output layer. We need to connect the output of the RNN cells to a full connected layer with a softmax output. The softmax output gives us a probability distribution we can use to predict the next character, so we want this layer to have size $C$, the number of classes/characters we have in our text.\n",
    "\n",
    "If our input has batch size $N$, number of steps $M$, and the hidden layer has $L$ hidden units, then the output is a 3D tensor with size $N \\times M \\times L$. The output of each LSTM cell has size $L$, we have $M$ of them, one for each sequence step, and we have $N$ sequences. So the total size is $N \\times M \\times L$. \n",
    "\n",
    "We are using the same fully connected layer, the same weights, for each of the outputs. Then, to make things easier, we should reshape the outputs into a 2D tensor with shape $(M * N) \\times L$. That is, one row for each sequence and step, where the values of each row are the output from the LSTM cells. We get the LSTM output as a list, `lstm_output`. First we need to concatenate this whole list into one array with [`tf.concat`](https://www.tensorflow.org/api_docs/python/tf/concat). Then, reshape it (with `tf.reshape`) to size $(M * N) \\times L$.\n",
    "\n",
    "One we have the outputs reshaped, we can do the matrix multiplication with the weights. We need to wrap the weight and bias variables in a variable scope with `tf.variable_scope(scope_name)` because there are weights being created in the LSTM cells. TensorFlow will throw an error if the weights created here have the same names as the weights created in the LSTM cells, which they will be default. To avoid this, we wrap the variables in a variable scope so we can give them unique names.\n"
   ]
  },
  {
   "cell_type": "code",
   "execution_count": 23,
   "metadata": {
    "collapsed": true
   },
   "outputs": [],
   "source": [
    "def build_output(lstm_output, in_size, out_size):\n",
    "    ''' Build a softmax layer, return the softmax output and logits.\n",
    "    \n",
    "        Arguments\n",
    "        ---------\n",
    "        \n",
    "        lstm_output: List of output tensors from the LSTM layer\n",
    "        in_size: Size of the input tensor, for example, size of the LSTM cells\n",
    "        out_size: Size of this softmax layer\n",
    "    \n",
    "    '''\n",
    "\n",
    "    # Reshape output so it's a bunch of rows, one row for each step for each sequence.\n",
    "    # Concatenate lstm_output over axis 1 (the columns)\n",
    "    seq_output = tf.concat(lstm_output,axis=1)\n",
    "    # Reshape seq_output to a 2D tensor with lstm_size columns\n",
    "    x = tf.reshape(seq_output,[-1,in_size])\n",
    "    \n",
    "    # Connect the RNN outputs to a softmax layer\n",
    "    with tf.variable_scope('softmax'):\n",
    "        # Create the weight and bias variables here\n",
    "        softmax_w = tf.Variable(tf.truncated_normal((in_size, out_size),stddev=0.1))\n",
    "        softmax_b = tf.Variable(tf.zeros([out_size]))\n",
    "    \n",
    "    # Since output is a bunch of rows of RNN cell outputs, logits will be a bunch\n",
    "    # of rows of logit outputs, one for each step and sequence\n",
    "    logits =  tf.add(tf.matmul(x,softmax_w),softmax_b) \n",
    "    \n",
    "    # Use softmax to get the probabilities for predicted characters\n",
    "    out = tf.nn.softmax(logits,name =\"out\")\n",
    "    \n",
    "    return out, logits"
   ]
  },
  {
   "cell_type": "markdown",
   "metadata": {},
   "source": [
    "### Training loss\n",
    "\n",
    "Next up is the training loss. We get the logits and targets and calculate the softmax cross-entropy loss. First we need to one-hot encode the targets, we're getting them as encoded characters. Then, reshape the one-hot targets so it's a 2D tensor with size $(M*N) \\times C$ where $C$ is the number of classes/characters we have. Remember that we reshaped the LSTM outputs and ran them through a fully connected layer with $C$ units. So our logits will also have size $(M*N) \\times C$.\n",
    "\n",
    "Then we run the logits and targets through `tf.nn.softmax_cross_entropy_with_logits` and find the mean to get the loss."
   ]
  },
  {
   "cell_type": "code",
   "execution_count": 24,
   "metadata": {
    "collapsed": true
   },
   "outputs": [],
   "source": [
    "def build_loss(logits, targets, lstm_size, num_classes):\n",
    "    ''' Calculate the loss from the logits and the targets.\n",
    "    \n",
    "        Arguments\n",
    "        ---------\n",
    "        logits: Logits from final fully connected layer\n",
    "        targets: Targets for supervised learning\n",
    "        lstm_size: Number of LSTM hidden units\n",
    "        num_classes: Number of classes in targets\n",
    "        \n",
    "    '''\n",
    "    # One-hot encode targets and reshape to match logits, one row per sequence per step\n",
    "    y_one_hot = tf.one_hot(targets,num_classes)\n",
    "    y_reshaped =  tf.reshape(y_one_hot,logits.get_shape())\n",
    "    \n",
    "    # Softmax cross entropy loss\n",
    "    loss = tf.reduce_mean(tf.nn.softmax_cross_entropy_with_logits(logits=logits,labels=y_reshaped))\n",
    "    \n",
    "    return loss"
   ]
  },
  {
   "cell_type": "markdown",
   "metadata": {},
   "source": [
    "### Optimizer\n",
    "\n",
    "Here we build the optimizer. Normal RNNs have have issues gradients exploding and disappearing. LSTMs fix the disappearance problem, but the gradients can still grow without bound. To fix this, we can clip the gradients above some threshold. That is, if a gradient is larger than that threshold, we set it to the threshold. This will ensure the gradients never grow overly large. Then we use an AdamOptimizer for the learning step."
   ]
  },
  {
   "cell_type": "code",
   "execution_count": 25,
   "metadata": {
    "collapsed": true
   },
   "outputs": [],
   "source": [
    "def build_optimizer(loss, learning_rate, grad_clip,global_step):\n",
    "    ''' Build optmizer for training, using gradient clipping.\n",
    "    \n",
    "        Arguments:\n",
    "        loss: Network loss\n",
    "        learning_rate: Learning rate for optimizer\n",
    "        global_step: to control the total number of train steps\n",
    "    \n",
    "    '''\n",
    "    \n",
    "    # Optimizer for training, using gradient clipping to control exploding gradients\n",
    "    tvars = tf.trainable_variables()\n",
    "    grads, _ = tf.clip_by_global_norm(tf.gradients(loss, tvars), grad_clip)\n",
    "    train_op = tf.train.AdamOptimizer(learning_rate)\n",
    "    optimizer = train_op.apply_gradients(zip(grads, tvars),global_step)\n",
    "    \n",
    "    return optimizer"
   ]
  },
  {
   "cell_type": "markdown",
   "metadata": {},
   "source": [
    "### Build the network\n",
    "\n",
    "Now we can put all the pieces together and build a class for the network. To actually run data through the LSTM cells, we will use [`tf.nn.dynamic_rnn`](https://www.tensorflow.org/versions/r1.0/api_docs/python/tf/nn/dynamic_rnn). This function will pass the hidden and cell states across LSTM cells appropriately for us. It returns the outputs for each LSTM cell at each step for each sequence in the mini-batch. It also gives us the final LSTM state. We want to save this state as `final_state` so we can pass it to the first LSTM cell in the the next mini-batch run. For `tf.nn.dynamic_rnn`, we pass in the cell and initial state we get from `build_lstm`, as well as our input sequences. Also, we need to one-hot encode the inputs before going into the RNN. \n"
   ]
  },
  {
   "cell_type": "code",
   "execution_count": 26,
   "metadata": {
    "collapsed": true
   },
   "outputs": [],
   "source": [
    "class CharRNN:\n",
    "    \n",
    "    def __init__(self, num_classes, batch_size=64, num_steps=50, \n",
    "                       lstm_size=128, num_layers=2, learning_rate=0.001, \n",
    "                       grad_clip=5, sampling=False):\n",
    "    \n",
    "        # When we're using this network for sampling later, we'll be passing in\n",
    "        # one character at a time, so providing an option for that\n",
    "        if sampling == True:\n",
    "            batch_size, num_steps = 1, 1\n",
    "        else:\n",
    "            batch_size, num_steps = batch_size, num_steps\n",
    "\n",
    "        tf.reset_default_graph()\n",
    "        \n",
    "        self.global_step_tensor = tf.Variable(0,trainable=False,name = \"global_step\")\n",
    "        # Build the input placeholder tensors\n",
    "        self.inputs, self.targets, self.keep_prob = build_inputs(batch_size,num_steps)\n",
    "        # Build the LSTM cell\n",
    "        cell, self.initial_state = build_lstm(lstm_size,num_layers,batch_size,self.keep_prob)\n",
    "        ### Run the data through the RNN layers\n",
    "        # First, one-hot encode the input tokens\n",
    "        x_one_hot = tf.one_hot(self.inputs,num_classes)\n",
    "        \n",
    "        # Run each sequence step through the RNN with tf.nn.dynamic_rnn \n",
    "        outputs, state = tf.nn.dynamic_rnn(cell,x_one_hot,initial_state=self.initial_state)\n",
    "        self.final_state = state\n",
    "        \n",
    "        # Get softmax predictions and logits\n",
    "        self.prediction, self.logits = build_output(outputs,lstm_size,num_classes)\n",
    "        \n",
    "        # Loss and optimizer (with gradient clipping)\n",
    "        self.loss =  build_loss(self.logits,self.targets,lstm_size,num_classes)\n",
    "        self.optimizer = build_optimizer(self.loss,learning_rate,grad_clip,self.global_step_tensor)"
   ]
  },
  {
   "cell_type": "markdown",
   "metadata": {},
   "source": [
    "## Hyperparameters\n",
    "\n",
    "Here are the hyperparameters for the network.\n",
    "\n",
    "* `batch_size` - Number of sequences running through the network in one pass.\n",
    "* `num_steps` - Number of characters in the sequence the network is trained on. Larger is better typically, the network will learn more long range dependencies. But it takes longer to train. 100 is typically a good number here.\n",
    "* `lstm_size` - The number of units in the hidden layers.\n",
    "* `num_layers` - Number of hidden LSTM layers to use\n",
    "* `learning_rate` - Learning rate for training\n",
    "* `keep_prob` - The dropout keep probability when training. If you're network is overfitting, try decreasing this.\n",
    "\n",
    "Here's some good advice from Andrej Karpathy on training the network:. \n",
    "\n",
    "> ## Tips and Tricks\n",
    "\n",
    ">### Monitoring Validation Loss vs. Training Loss\n",
    ">If you're somewhat new to Machine Learning or Neural Networks it can take a bit of expertise to get good models. The most important quantity to keep track of is the difference between your training loss (printed during training) and the validation loss (printed once in a while when the RNN is run on the validation data (by default every 1000 iterations)). In particular:\n",
    "\n",
    "> - If your training loss is much lower than validation loss then this means the network might be **overfitting**. Solutions to this are to decrease your network size, or to increase dropout. For example you could try dropout of 0.5 and so on.\n",
    "> - If your training/validation loss are about equal then your model is **underfitting**. Increase the size of your model (either number of layers or the raw number of neurons per layer)\n",
    "\n",
    "> ### Approximate number of parameters\n",
    "\n",
    "> The two most important parameters that control the model are `lstm_size` and `num_layers`. I would advise that you always use `num_layers` of either 2/3. The `lstm_size` can be adjusted based on how much data you have. The two important quantities to keep track of here are:\n",
    "\n",
    "> - The number of parameters in your model. This is printed when you start training.\n",
    "> - The size of your dataset. 1MB file is approximately 1 million characters.\n",
    "\n",
    ">These two should be about the same order of magnitude. It's a little tricky to tell. Here are some examples:\n",
    "\n",
    "> - I have a 100MB dataset and I'm using the default parameter settings (which currently print 150K parameters). My data size is significantly larger (100 mil >> 0.15 mil), so I expect to heavily underfit. I am thinking I can comfortably afford to make `lstm_size` larger.\n",
    "> - I have a 10MB dataset and running a 10 million parameter model. I'm slightly nervous and I'm carefully monitoring my validation loss. If it's larger than my training loss then I may want to try to increase dropout a bit and see if that helps the validation loss.\n",
    "\n",
    "> ### Best models strategy\n",
    "\n",
    ">The winning strategy to obtaining very good models (if you have the compute time) is to always err on making the network larger (as large as you're willing to wait for it to compute) and then try different dropout values (between 0,1). Whatever model has the best validation performance (the loss, written in the checkpoint filename, low is good) is the one you should use in the end.\n",
    "\n",
    ">It is very common in deep learning to run many different models with many different hyperparameter settings, and in the end take whatever checkpoint gave the best validation performance.\n",
    "\n",
    ">By the way, the size of your training and validation splits are also parameters. Make sure you have a decent amount of data in your validation set or otherwise the validation performance will be noisy and not very informative."
   ]
  },
  {
   "cell_type": "code",
   "execution_count": 27,
   "metadata": {
    "collapsed": true
   },
   "outputs": [],
   "source": [
    "def get_number_of_parameters():\n",
    "    total_parameters = 0\n",
    "    for variable in tf.trainable_variables():\n",
    "        shape = variable.get_shape()\n",
    "        #print(shape)\n",
    "        #print(len(shape))\n",
    "        variable_parameters = 1\n",
    "        \n",
    "        for dim in shape:\n",
    "            #print(dim)\n",
    "            variable_parameters*=dim.value\n",
    "        #print(variable_parameters)\n",
    "        total_parameters+= variable_parameters\n",
    "    return total_parameters"
   ]
  },
  {
   "cell_type": "code",
   "execution_count": 28,
   "metadata": {
    "collapsed": true
   },
   "outputs": [],
   "source": [
    "def pick_top_n(preds, vocab_size, top_n=5):\n",
    "    p = np.squeeze(preds)\n",
    "    p[np.argsort(p)[:-top_n]] = 0\n",
    "    p = p / np.sum(p)\n",
    "    c = np.random.choice(vocab_size, 1, p=p)[0]\n",
    "    return c"
   ]
  },
  {
   "cell_type": "markdown",
   "metadata": {},
   "source": [
    "## Time for training\n",
    "\n",
    "This is typical training code, passing inputs and targets into the network, then running the optimizer. Here we also get back the final LSTM state for the mini-batch. Then, we pass that state back into the network so the next batch can continue the state from the previous batch. And every so often (set by `save_every_n`) I save a checkpoint.\n",
    "\n",
    "Here I'm saving checkpoints with the format\n",
    "\n",
    "`i{iteration number}_l{# hidden layer units}.ckpt`\n"
   ]
  },
  {
   "cell_type": "code",
   "execution_count": 29,
   "metadata": {
    "collapsed": true
   },
   "outputs": [],
   "source": [
    "losses = {\"train\":[],\"validation\":[]}\n",
    "x_steps = list()"
   ]
  },
  {
   "cell_type": "code",
   "execution_count": 30,
   "metadata": {},
   "outputs": [
    {
     "name": "stdout",
     "output_type": "stream",
     "text": [
      "Training starting at time: 2017-09-19 08:40:43\n",
      "Number of parameters: 75892468 Dataset size: 951327\n",
      "Epoch: 1/500...  Training Step: 1...  Training loss: 10.2474...  Val loss: 10.2362...  1.6146 sec/batch\n",
      "WARNING:tensorflow:Error encountered when serializing LAYER_NAME_UIDS.\n",
      "Type is unsupported, or the types of the items don't match field type in CollectionDef.\n",
      "'dict' object has no attribute 'name'\n",
      "Epoch: 1/500...  Training Step: 101...  Training loss: 4.9565...  Val loss: 4.6186...  1.1324 sec/batch\n",
      "Epoch: 2/500...  Training Step: 201...  Training loss: 4.6861...  Val loss: 4.4323...  1.1353 sec/batch\n",
      "Epoch: 2/500...  Training Step: 301...  Training loss: 4.6216...  Val loss: 4.3709...  1.1330 sec/batch\n",
      "Epoch: 3/500...  Training Step: 401...  Training loss: 4.2110...  Val loss: 4.0761...  1.1322 sec/batch\n",
      "Epoch: 3/500...  Training Step: 501...  Training loss: 4.0254...  Val loss: 3.9069...  1.1330 sec/batch\n",
      "WARNING:tensorflow:Error encountered when serializing LAYER_NAME_UIDS.\n",
      "Type is unsupported, or the types of the items don't match field type in CollectionDef.\n",
      "'dict' object has no attribute 'name'\n",
      "Epoch: 4/500...  Training Step: 601...  Training loss: 3.9509...  Val loss: 3.8419...  1.1338 sec/batch\n",
      "Epoch: 4/500...  Training Step: 701...  Training loss: 3.8979...  Val loss: 3.8027...  1.1503 sec/batch\n",
      "Epoch: 5/500...  Training Step: 801...  Training loss: 3.8531...  Val loss: 3.7748...  1.1331 sec/batch\n",
      "Epoch: 5/500...  Training Step: 901...  Training loss: 3.8543...  Val loss: 3.7509...  1.1344 sec/batch\n",
      "Epoch: 6/500...  Training Step: 1001...  Training loss: 3.8185...  Val loss: 3.7291...  1.1340 sec/batch\n",
      "WARNING:tensorflow:Error encountered when serializing LAYER_NAME_UIDS.\n",
      "Type is unsupported, or the types of the items don't match field type in CollectionDef.\n",
      "'dict' object has no attribute 'name'\n",
      "Epoch: 6/500...  Training Step: 1101...  Training loss: 3.7497...  Val loss: 3.7127...  1.1348 sec/batch\n",
      "Epoch: 7/500...  Training Step: 1201...  Training loss: 3.8078...  Val loss: 3.6940...  1.1336 sec/batch\n",
      "Epoch: 7/500...  Training Step: 1301...  Training loss: 3.7259...  Val loss: 3.6747...  1.1339 sec/batch\n",
      "Epoch: 8/500...  Training Step: 1401...  Training loss: 3.7228...  Val loss: 3.6556...  1.1340 sec/batch\n",
      "Epoch: 8/500...  Training Step: 1501...  Training loss: 3.7198...  Val loss: 3.6447...  1.1370 sec/batch\n",
      "WARNING:tensorflow:Error encountered when serializing LAYER_NAME_UIDS.\n",
      "Type is unsupported, or the types of the items don't match field type in CollectionDef.\n",
      "'dict' object has no attribute 'name'\n",
      "Epoch: 9/500...  Training Step: 1601...  Training loss: 3.7061...  Val loss: 3.6274...  1.1336 sec/batch\n",
      "Epoch: 9/500...  Training Step: 1701...  Training loss: 3.7207...  Val loss: 3.6188...  1.1372 sec/batch\n",
      "Epoch: 10/500...  Training Step: 1801...  Training loss: 3.6677...  Val loss: 3.6012...  1.1351 sec/batch\n",
      "Epoch 10/500 time:216.2636489868164...  finished at 2017-09-19 09:17:03\n",
      "Epoch: 11/500...  Training Step: 1901...  Training loss: 4.2869...  Val loss: 3.5980...  1.1361 sec/batch\n",
      "Epoch: 11/500...  Training Step: 2001...  Training loss: 3.6310...  Val loss: 3.5768...  1.1317 sec/batch\n",
      "WARNING:tensorflow:Error encountered when serializing LAYER_NAME_UIDS.\n",
      "Type is unsupported, or the types of the items don't match field type in CollectionDef.\n",
      "'dict' object has no attribute 'name'\n",
      "Epoch: 12/500...  Training Step: 2101...  Training loss: 3.6322...  Val loss: 3.5756...  1.1321 sec/batch\n",
      "Epoch: 12/500...  Training Step: 2201...  Training loss: 3.6131...  Val loss: 3.5499...  1.1331 sec/batch\n",
      "Epoch: 13/500...  Training Step: 2301...  Training loss: 3.5691...  Val loss: 3.5488...  1.1334 sec/batch\n",
      "Epoch: 13/500...  Training Step: 2401...  Training loss: 3.5847...  Val loss: 3.5281...  1.1331 sec/batch\n",
      "Epoch: 14/500...  Training Step: 2501...  Training loss: 3.5632...  Val loss: 3.5268...  1.1364 sec/batch\n",
      "WARNING:tensorflow:Error encountered when serializing LAYER_NAME_UIDS.\n",
      "Type is unsupported, or the types of the items don't match field type in CollectionDef.\n",
      "'dict' object has no attribute 'name'\n",
      "Epoch: 14/500...  Training Step: 2601...  Training loss: 3.5481...  Val loss: 3.5122...  1.1349 sec/batch\n",
      "Epoch: 15/500...  Training Step: 2701...  Training loss: 3.5095...  Val loss: 3.5014...  1.1324 sec/batch\n",
      "Epoch: 15/500...  Training Step: 2801...  Training loss: 3.5265...  Val loss: 3.4922...  1.1335 sec/batch\n",
      "Epoch: 16/500...  Training Step: 2901...  Training loss: 3.4909...  Val loss: 3.4849...  1.1398 sec/batch\n",
      "Epoch: 16/500...  Training Step: 3001...  Training loss: 3.4374...  Val loss: 3.4808...  1.1349 sec/batch\n",
      "WARNING:tensorflow:Error encountered when serializing LAYER_NAME_UIDS.\n",
      "Type is unsupported, or the types of the items don't match field type in CollectionDef.\n",
      "'dict' object has no attribute 'name'\n",
      "Epoch: 17/500...  Training Step: 3101...  Training loss: 3.5082...  Val loss: 3.4754...  1.1334 sec/batch\n",
      "Epoch: 17/500...  Training Step: 3201...  Training loss: 3.4055...  Val loss: 3.4599...  1.1344 sec/batch\n",
      "Epoch: 18/500...  Training Step: 3301...  Training loss: 3.4285...  Val loss: 3.4503...  1.1401 sec/batch\n",
      "Epoch: 18/500...  Training Step: 3401...  Training loss: 3.4211...  Val loss: 3.4523...  1.1371 sec/batch\n",
      "Epoch: 19/500...  Training Step: 3501...  Training loss: 3.4112...  Val loss: 3.4543...  1.1367 sec/batch\n",
      "WARNING:tensorflow:Error encountered when serializing LAYER_NAME_UIDS.\n",
      "Type is unsupported, or the types of the items don't match field type in CollectionDef.\n",
      "'dict' object has no attribute 'name'\n",
      "Epoch: 19/500...  Training Step: 3601...  Training loss: 3.4464...  Val loss: 3.4453...  1.1334 sec/batch\n",
      "Epoch: 20/500...  Training Step: 3701...  Training loss: 3.4033...  Val loss: 3.4317...  1.1339 sec/batch\n",
      "Epoch 20/500 time:216.2800154685974...  finished at 2017-09-19 09:53:29\n",
      "Epoch: 21/500...  Training Step: 3801...  Training loss: 3.8006...  Val loss: 3.4321...  1.1406 sec/batch\n",
      "Epoch: 21/500...  Training Step: 3901...  Training loss: 3.3603...  Val loss: 3.4227...  1.1334 sec/batch\n",
      "Epoch: 22/500...  Training Step: 4001...  Training loss: 3.3637...  Val loss: 3.4239...  1.1353 sec/batch\n",
      "WARNING:tensorflow:Error encountered when serializing LAYER_NAME_UIDS.\n",
      "Type is unsupported, or the types of the items don't match field type in CollectionDef.\n",
      "'dict' object has no attribute 'name'\n",
      "Epoch: 22/500...  Training Step: 4101...  Training loss: 3.3304...  Val loss: 3.4034...  1.1389 sec/batch\n",
      "Epoch: 23/500...  Training Step: 4201...  Training loss: 3.3174...  Val loss: 3.4180...  1.1382 sec/batch\n",
      "Epoch: 23/500...  Training Step: 4301...  Training loss: 3.3334...  Val loss: 3.4140...  1.1381 sec/batch\n",
      "Epoch: 24/500...  Training Step: 4401...  Training loss: 3.3115...  Val loss: 3.4283...  1.1363 sec/batch\n",
      "Epoch: 24/500...  Training Step: 4501...  Training loss: 3.3007...  Val loss: 3.4081...  1.1378 sec/batch\n",
      "WARNING:tensorflow:Error encountered when serializing LAYER_NAME_UIDS.\n",
      "Type is unsupported, or the types of the items don't match field type in CollectionDef.\n",
      "'dict' object has no attribute 'name'\n",
      "Epoch: 25/500...  Training Step: 4601...  Training loss: 3.2808...  Val loss: 3.4022...  1.1366 sec/batch\n",
      "Epoch: 25/500...  Training Step: 4701...  Training loss: 3.2732...  Val loss: 3.4093...  1.1437 sec/batch\n",
      "Epoch: 26/500...  Training Step: 4801...  Training loss: 3.2826...  Val loss: 3.4273...  1.1370 sec/batch\n",
      "Epoch: 26/500...  Training Step: 4901...  Training loss: 3.2079...  Val loss: 3.4217...  1.1345 sec/batch\n",
      "Epoch: 27/500...  Training Step: 5001...  Training loss: 3.2690...  Val loss: 3.4445...  1.1372 sec/batch\n",
      "WARNING:tensorflow:Error encountered when serializing LAYER_NAME_UIDS.\n",
      "Type is unsupported, or the types of the items don't match field type in CollectionDef.\n",
      "'dict' object has no attribute 'name'\n",
      "Epoch: 27/500...  Training Step: 5101...  Training loss: 3.2098...  Val loss: 3.4251...  1.1338 sec/batch\n",
      "Epoch: 28/500...  Training Step: 5201...  Training loss: 3.2091...  Val loss: 3.3972...  1.1378 sec/batch\n",
      "Epoch: 28/500...  Training Step: 5301...  Training loss: 3.1970...  Val loss: 3.4130...  1.1400 sec/batch\n",
      "Epoch: 29/500...  Training Step: 5401...  Training loss: 3.1972...  Val loss: 3.4092...  1.1418 sec/batch\n"
     ]
    },
    {
     "name": "stdout",
     "output_type": "stream",
     "text": [
      "Epoch: 29/500...  Training Step: 5501...  Training loss: 3.2513...  Val loss: 3.4369...  1.1365 sec/batch\n",
      "WARNING:tensorflow:Error encountered when serializing LAYER_NAME_UIDS.\n",
      "Type is unsupported, or the types of the items don't match field type in CollectionDef.\n",
      "'dict' object has no attribute 'name'\n",
      "Epoch: 30/500...  Training Step: 5601...  Training loss: 3.1813...  Val loss: 3.4227...  1.1371 sec/batch\n",
      "Epoch 30/500 time:216.5941503047943...  finished at 2017-09-19 10:29:51\n",
      "Epoch: 31/500...  Training Step: 5701...  Training loss: 3.5289...  Val loss: 3.4173...  1.1349 sec/batch\n",
      "Epoch: 31/500...  Training Step: 5801...  Training loss: 3.1685...  Val loss: 3.4052...  1.1362 sec/batch\n",
      "Epoch: 32/500...  Training Step: 5901...  Training loss: 3.1824...  Val loss: 3.4261...  1.1384 sec/batch\n",
      "Epoch: 32/500...  Training Step: 6001...  Training loss: 3.1396...  Val loss: 3.4103...  1.1364 sec/batch\n",
      "WARNING:tensorflow:Error encountered when serializing LAYER_NAME_UIDS.\n",
      "Type is unsupported, or the types of the items don't match field type in CollectionDef.\n",
      "'dict' object has no attribute 'name'\n",
      "Epoch: 33/500...  Training Step: 6101...  Training loss: 3.1398...  Val loss: 3.4140...  1.1370 sec/batch\n",
      "Epoch: 33/500...  Training Step: 6201...  Training loss: 3.1484...  Val loss: 3.4493...  1.1409 sec/batch\n",
      "Epoch: 34/500...  Training Step: 6301...  Training loss: 3.1258...  Val loss: 3.4298...  1.1363 sec/batch\n",
      "Epoch: 34/500...  Training Step: 6401...  Training loss: 3.1266...  Val loss: 3.4351...  1.1345 sec/batch\n",
      "Epoch: 35/500...  Training Step: 6501...  Training loss: 3.1017...  Val loss: 3.4291...  1.1370 sec/batch\n",
      "WARNING:tensorflow:Error encountered when serializing LAYER_NAME_UIDS.\n",
      "Type is unsupported, or the types of the items don't match field type in CollectionDef.\n",
      "'dict' object has no attribute 'name'\n",
      "Epoch: 35/500...  Training Step: 6601...  Training loss: 3.1092...  Val loss: 3.4265...  1.1355 sec/batch\n",
      "Epoch: 36/500...  Training Step: 6701...  Training loss: 3.1170...  Val loss: 3.4278...  1.1326 sec/batch\n",
      "Epoch: 36/500...  Training Step: 6801...  Training loss: 3.0672...  Val loss: 3.4450...  1.1403 sec/batch\n",
      "Epoch: 37/500...  Training Step: 6901...  Training loss: 3.0888...  Val loss: 3.4467...  1.1387 sec/batch\n",
      "Epoch: 37/500...  Training Step: 7001...  Training loss: 3.0196...  Val loss: 3.4414...  1.1380 sec/batch\n",
      "WARNING:tensorflow:Error encountered when serializing LAYER_NAME_UIDS.\n",
      "Type is unsupported, or the types of the items don't match field type in CollectionDef.\n",
      "'dict' object has no attribute 'name'\n",
      "Epoch: 38/500...  Training Step: 7101...  Training loss: 3.0311...  Val loss: 3.4228...  1.1376 sec/batch\n",
      "Epoch: 38/500...  Training Step: 7201...  Training loss: 3.0428...  Val loss: 3.4436...  1.1325 sec/batch\n",
      "Epoch: 39/500...  Training Step: 7301...  Training loss: 3.0470...  Val loss: 3.4606...  1.1363 sec/batch\n",
      "Epoch: 39/500...  Training Step: 7401...  Training loss: 3.0826...  Val loss: 3.4592...  1.1405 sec/batch\n",
      "Epoch: 40/500...  Training Step: 7501...  Training loss: 3.0554...  Val loss: 3.4389...  1.1375 sec/batch\n",
      "WARNING:tensorflow:Error encountered when serializing LAYER_NAME_UIDS.\n",
      "Type is unsupported, or the types of the items don't match field type in CollectionDef.\n",
      "'dict' object has no attribute 'name'\n",
      "Epoch 40/500 time:219.77624249458313...  finished at 2017-09-19 11:06:14\n",
      "Epoch: 41/500...  Training Step: 7601...  Training loss: 3.4611...  Val loss: 3.4445...  1.1392 sec/batch\n",
      "Epoch: 41/500...  Training Step: 7701...  Training loss: 3.0507...  Val loss: 3.4654...  1.1428 sec/batch\n",
      "Epoch: 42/500...  Training Step: 7801...  Training loss: 3.0677...  Val loss: 3.4414...  1.1364 sec/batch\n",
      "Epoch: 42/500...  Training Step: 7901...  Training loss: 2.9812...  Val loss: 3.4407...  1.1413 sec/batch\n",
      "Epoch: 43/500...  Training Step: 8001...  Training loss: 3.0200...  Val loss: 3.4780...  1.1370 sec/batch\n",
      "WARNING:tensorflow:Error encountered when serializing LAYER_NAME_UIDS.\n",
      "Type is unsupported, or the types of the items don't match field type in CollectionDef.\n",
      "'dict' object has no attribute 'name'\n",
      "Epoch: 43/500...  Training Step: 8101...  Training loss: 3.0061...  Val loss: 3.4711...  1.1361 sec/batch\n",
      "Epoch: 44/500...  Training Step: 8201...  Training loss: 2.9899...  Val loss: 3.4680...  1.1501 sec/batch\n",
      "Epoch: 44/500...  Training Step: 8301...  Training loss: 2.9942...  Val loss: 3.4837...  1.1364 sec/batch\n",
      "Epoch: 45/500...  Training Step: 8401...  Training loss: 2.9930...  Val loss: 3.4605...  1.1363 sec/batch\n",
      "Epoch: 45/500...  Training Step: 8501...  Training loss: 2.9823...  Val loss: 3.4712...  1.1370 sec/batch\n",
      "WARNING:tensorflow:Error encountered when serializing LAYER_NAME_UIDS.\n",
      "Type is unsupported, or the types of the items don't match field type in CollectionDef.\n",
      "'dict' object has no attribute 'name'\n",
      "Epoch: 46/500...  Training Step: 8601...  Training loss: 2.9939...  Val loss: 3.5302...  1.1385 sec/batch\n",
      "Epoch: 46/500...  Training Step: 8701...  Training loss: 2.9446...  Val loss: 3.4865...  1.1377 sec/batch\n",
      "Epoch: 47/500...  Training Step: 8801...  Training loss: 2.9768...  Val loss: 3.4732...  1.1359 sec/batch\n",
      "Epoch: 47/500...  Training Step: 8901...  Training loss: 2.8903...  Val loss: 3.4704...  1.1358 sec/batch\n",
      "Epoch: 48/500...  Training Step: 9001...  Training loss: 2.9037...  Val loss: 3.4843...  1.1346 sec/batch\n",
      "WARNING:tensorflow:Error encountered when serializing LAYER_NAME_UIDS.\n",
      "Type is unsupported, or the types of the items don't match field type in CollectionDef.\n",
      "'dict' object has no attribute 'name'\n",
      "Epoch: 48/500...  Training Step: 9101...  Training loss: 2.9068...  Val loss: 3.4871...  1.1369 sec/batch\n",
      "Epoch: 49/500...  Training Step: 9201...  Training loss: 2.9407...  Val loss: 3.5212...  1.1373 sec/batch\n",
      "Epoch: 49/500...  Training Step: 9301...  Training loss: 2.9793...  Val loss: 3.4872...  1.1332 sec/batch\n",
      "Epoch: 50/500...  Training Step: 9401...  Training loss: 2.9299...  Val loss: 3.4917...  1.1369 sec/batch\n",
      "Epoch 50/500 time:216.48278832435608...  finished at 2017-09-19 11:42:33\n",
      "Epoch: 51/500...  Training Step: 9501...  Training loss: 3.3650...  Val loss: 3.5093...  1.1387 sec/batch\n",
      "WARNING:tensorflow:Error encountered when serializing LAYER_NAME_UIDS.\n",
      "Type is unsupported, or the types of the items don't match field type in CollectionDef.\n",
      "'dict' object has no attribute 'name'\n",
      "Epoch: 51/500...  Training Step: 9601...  Training loss: 2.8829...  Val loss: 3.4708...  1.1400 sec/batch\n",
      "Epoch: 52/500...  Training Step: 9701...  Training loss: 2.9495...  Val loss: 3.5147...  1.1332 sec/batch\n",
      "Epoch: 52/500...  Training Step: 9801...  Training loss: 2.8892...  Val loss: 3.5286...  1.1329 sec/batch\n",
      "Epoch: 53/500...  Training Step: 9901...  Training loss: 2.9063...  Val loss: 3.4996...  1.1371 sec/batch\n",
      "Epoch: 53/500...  Training Step: 10001...  Training loss: 2.9018...  Val loss: 3.5277...  1.1519 sec/batch\n",
      "WARNING:tensorflow:Error encountered when serializing LAYER_NAME_UIDS.\n",
      "Type is unsupported, or the types of the items don't match field type in CollectionDef.\n",
      "'dict' object has no attribute 'name'\n",
      "Epoch: 54/500...  Training Step: 10101...  Training loss: 2.8737...  Val loss: 3.5074...  1.1360 sec/batch\n",
      "Epoch: 54/500...  Training Step: 10201...  Training loss: 2.8854...  Val loss: 3.5264...  1.1379 sec/batch\n",
      "Epoch: 55/500...  Training Step: 10301...  Training loss: 2.8671...  Val loss: 3.5209...  1.1364 sec/batch\n",
      "Epoch: 55/500...  Training Step: 10401...  Training loss: 2.8802...  Val loss: 3.5171...  1.1392 sec/batch\n",
      "Epoch: 56/500...  Training Step: 10501...  Training loss: 2.8586...  Val loss: 3.5291...  1.1364 sec/batch\n",
      "WARNING:tensorflow:Error encountered when serializing LAYER_NAME_UIDS.\n",
      "Type is unsupported, or the types of the items don't match field type in CollectionDef.\n",
      "'dict' object has no attribute 'name'\n",
      "Epoch: 56/500...  Training Step: 10601...  Training loss: 2.8557...  Val loss: 3.5320...  1.1371 sec/batch\n",
      "Epoch: 57/500...  Training Step: 10701...  Training loss: 2.8297...  Val loss: 3.5288...  1.1367 sec/batch\n",
      "Epoch: 57/500...  Training Step: 10801...  Training loss: 2.7842...  Val loss: 3.5292...  1.1356 sec/batch\n",
      "Epoch: 58/500...  Training Step: 10901...  Training loss: 2.8236...  Val loss: 3.5139...  1.1395 sec/batch\n"
     ]
    },
    {
     "name": "stdout",
     "output_type": "stream",
     "text": [
      "Epoch: 58/500...  Training Step: 11001...  Training loss: 2.8013...  Val loss: 3.5650...  1.1386 sec/batch\n",
      "WARNING:tensorflow:Error encountered when serializing LAYER_NAME_UIDS.\n",
      "Type is unsupported, or the types of the items don't match field type in CollectionDef.\n",
      "'dict' object has no attribute 'name'\n",
      "Epoch: 59/500...  Training Step: 11101...  Training loss: 2.8863...  Val loss: 3.5335...  1.1331 sec/batch\n",
      "Epoch: 59/500...  Training Step: 11201...  Training loss: 2.8715...  Val loss: 3.5598...  1.1396 sec/batch\n",
      "Epoch: 60/500...  Training Step: 11301...  Training loss: 2.8314...  Val loss: 3.5451...  1.1335 sec/batch\n",
      "Epoch 60/500 time:216.60218572616577...  finished at 2017-09-19 12:18:57\n",
      "Epoch: 61/500...  Training Step: 11401...  Training loss: 3.2840...  Val loss: 3.5346...  1.1388 sec/batch\n",
      "Epoch: 61/500...  Training Step: 11501...  Training loss: 2.8412...  Val loss: 3.5389...  1.1386 sec/batch\n",
      "WARNING:tensorflow:Error encountered when serializing LAYER_NAME_UIDS.\n",
      "Type is unsupported, or the types of the items don't match field type in CollectionDef.\n",
      "'dict' object has no attribute 'name'\n",
      "Epoch: 62/500...  Training Step: 11601...  Training loss: 2.8758...  Val loss: 3.5283...  1.1348 sec/batch\n",
      "Epoch: 62/500...  Training Step: 11701...  Training loss: 2.8015...  Val loss: 3.5575...  1.1363 sec/batch\n",
      "Epoch: 63/500...  Training Step: 11801...  Training loss: 2.7858...  Val loss: 3.5307...  1.1396 sec/batch\n",
      "Epoch: 63/500...  Training Step: 11901...  Training loss: 2.7903...  Val loss: 3.5660...  1.1383 sec/batch\n",
      "Epoch: 64/500...  Training Step: 12001...  Training loss: 2.7879...  Val loss: 3.5552...  1.1327 sec/batch\n",
      "WARNING:tensorflow:Error encountered when serializing LAYER_NAME_UIDS.\n",
      "Type is unsupported, or the types of the items don't match field type in CollectionDef.\n",
      "'dict' object has no attribute 'name'\n",
      "Epoch: 64/500...  Training Step: 12101...  Training loss: 2.7889...  Val loss: 3.5781...  1.1335 sec/batch\n",
      "Epoch: 65/500...  Training Step: 12201...  Training loss: 2.7548...  Val loss: 3.5577...  1.1421 sec/batch\n",
      "Epoch: 65/500...  Training Step: 12301...  Training loss: 2.7788...  Val loss: 3.5911...  1.1417 sec/batch\n",
      "Epoch: 66/500...  Training Step: 12401...  Training loss: 2.7980...  Val loss: 3.5652...  1.1349 sec/batch\n",
      "Epoch: 66/500...  Training Step: 12501...  Training loss: 2.7622...  Val loss: 3.5713...  1.1337 sec/batch\n",
      "WARNING:tensorflow:Error encountered when serializing LAYER_NAME_UIDS.\n",
      "Type is unsupported, or the types of the items don't match field type in CollectionDef.\n",
      "'dict' object has no attribute 'name'\n",
      "Epoch: 67/500...  Training Step: 12601...  Training loss: 2.7454...  Val loss: 3.5770...  1.1360 sec/batch\n",
      "Epoch: 67/500...  Training Step: 12701...  Training loss: 2.7160...  Val loss: 3.5996...  1.1356 sec/batch\n",
      "Epoch: 68/500...  Training Step: 12801...  Training loss: 2.7390...  Val loss: 3.5729...  1.1373 sec/batch\n",
      "Epoch: 68/500...  Training Step: 12901...  Training loss: 2.7182...  Val loss: 3.6308...  1.1389 sec/batch\n",
      "Epoch: 69/500...  Training Step: 13001...  Training loss: 2.7725...  Val loss: 3.6039...  1.1370 sec/batch\n",
      "WARNING:tensorflow:Error encountered when serializing LAYER_NAME_UIDS.\n",
      "Type is unsupported, or the types of the items don't match field type in CollectionDef.\n",
      "'dict' object has no attribute 'name'\n",
      "Epoch: 69/500...  Training Step: 13101...  Training loss: 2.8023...  Val loss: 3.6088...  1.1371 sec/batch\n",
      "Epoch: 70/500...  Training Step: 13201...  Training loss: 2.7803...  Val loss: 3.5729...  1.1381 sec/batch\n",
      "Epoch 70/500 time:216.34024214744568...  finished at 2017-09-19 12:55:19\n",
      "Epoch: 71/500...  Training Step: 13301...  Training loss: 3.1173...  Val loss: 3.6033...  1.1345 sec/batch\n",
      "Epoch: 71/500...  Training Step: 13401...  Training loss: 2.7207...  Val loss: 3.6036...  1.1373 sec/batch\n",
      "Epoch: 72/500...  Training Step: 13501...  Training loss: 2.7532...  Val loss: 3.5965...  1.1359 sec/batch\n",
      "WARNING:tensorflow:Error encountered when serializing LAYER_NAME_UIDS.\n",
      "Type is unsupported, or the types of the items don't match field type in CollectionDef.\n",
      "'dict' object has no attribute 'name'\n",
      "Epoch: 72/500...  Training Step: 13601...  Training loss: 2.6990...  Val loss: 3.5830...  1.1365 sec/batch\n",
      "Epoch: 73/500...  Training Step: 13701...  Training loss: 2.7591...  Val loss: 3.5456...  1.1352 sec/batch\n",
      "Epoch: 73/500...  Training Step: 13801...  Training loss: 2.6786...  Val loss: 3.6465...  1.1338 sec/batch\n",
      "Epoch: 74/500...  Training Step: 13901...  Training loss: 2.7352...  Val loss: 3.6093...  1.1326 sec/batch\n",
      "Epoch: 74/500...  Training Step: 14001...  Training loss: 2.7429...  Val loss: 3.6216...  1.1347 sec/batch\n",
      "WARNING:tensorflow:Error encountered when serializing LAYER_NAME_UIDS.\n",
      "Type is unsupported, or the types of the items don't match field type in CollectionDef.\n",
      "'dict' object has no attribute 'name'\n",
      "Epoch: 75/500...  Training Step: 14101...  Training loss: 2.7093...  Val loss: 3.6580...  1.1367 sec/batch\n",
      "Epoch: 75/500...  Training Step: 14201...  Training loss: 2.6895...  Val loss: 3.6636...  1.1384 sec/batch\n",
      "Epoch: 76/500...  Training Step: 14301...  Training loss: 2.7287...  Val loss: 3.6156...  1.1363 sec/batch\n",
      "Epoch: 76/500...  Training Step: 14401...  Training loss: 2.7082...  Val loss: 3.6433...  1.1362 sec/batch\n",
      "Epoch: 77/500...  Training Step: 14501...  Training loss: 2.7104...  Val loss: 3.6570...  1.1424 sec/batch\n",
      "WARNING:tensorflow:Error encountered when serializing LAYER_NAME_UIDS.\n",
      "Type is unsupported, or the types of the items don't match field type in CollectionDef.\n",
      "'dict' object has no attribute 'name'\n",
      "Epoch: 77/500...  Training Step: 14601...  Training loss: 2.6896...  Val loss: 3.5781...  1.1346 sec/batch\n",
      "Epoch: 78/500...  Training Step: 14701...  Training loss: 2.6504...  Val loss: 3.6493...  1.1384 sec/batch\n",
      "Epoch: 78/500...  Training Step: 14801...  Training loss: 2.6395...  Val loss: 3.6142...  1.1364 sec/batch\n",
      "Epoch: 79/500...  Training Step: 14901...  Training loss: 2.7169...  Val loss: 3.7127...  1.1382 sec/batch\n",
      "Epoch: 79/500...  Training Step: 15001...  Training loss: 2.7143...  Val loss: 3.6927...  1.1373 sec/batch\n",
      "WARNING:tensorflow:Error encountered when serializing LAYER_NAME_UIDS.\n",
      "Type is unsupported, or the types of the items don't match field type in CollectionDef.\n",
      "'dict' object has no attribute 'name'\n",
      "Epoch: 80/500...  Training Step: 15101...  Training loss: 2.6858...  Val loss: 3.6097...  1.1337 sec/batch\n",
      "Epoch 80/500 time:216.33207035064697...  finished at 2017-09-19 13:31:41\n",
      "Epoch: 81/500...  Training Step: 15201...  Training loss: 3.0202...  Val loss: 3.6810...  1.1351 sec/batch\n",
      "Epoch: 81/500...  Training Step: 15301...  Training loss: 2.6480...  Val loss: 3.6434...  1.1367 sec/batch\n",
      "Epoch: 82/500...  Training Step: 15401...  Training loss: 2.6613...  Val loss: 3.6192...  1.1383 sec/batch\n",
      "Epoch: 82/500...  Training Step: 15501...  Training loss: 2.6390...  Val loss: 3.6475...  1.1378 sec/batch\n",
      "WARNING:tensorflow:Error encountered when serializing LAYER_NAME_UIDS.\n",
      "Type is unsupported, or the types of the items don't match field type in CollectionDef.\n",
      "'dict' object has no attribute 'name'\n",
      "Epoch: 83/500...  Training Step: 15601...  Training loss: 2.6430...  Val loss: 3.6594...  1.1337 sec/batch\n",
      "Epoch: 83/500...  Training Step: 15701...  Training loss: 2.6354...  Val loss: 3.6775...  1.1335 sec/batch\n",
      "Epoch: 84/500...  Training Step: 15801...  Training loss: 2.6436...  Val loss: 3.6540...  1.1335 sec/batch\n",
      "Epoch: 84/500...  Training Step: 15901...  Training loss: 2.6597...  Val loss: 3.6715...  1.1356 sec/batch\n",
      "Epoch: 85/500...  Training Step: 16001...  Training loss: 2.6649...  Val loss: 3.6718...  1.1385 sec/batch\n",
      "WARNING:tensorflow:Error encountered when serializing LAYER_NAME_UIDS.\n",
      "Type is unsupported, or the types of the items don't match field type in CollectionDef.\n",
      "'dict' object has no attribute 'name'\n",
      "Epoch: 85/500...  Training Step: 16101...  Training loss: 2.6230...  Val loss: 3.7035...  1.1340 sec/batch\n",
      "Epoch: 86/500...  Training Step: 16201...  Training loss: 2.6539...  Val loss: 3.6923...  1.1359 sec/batch\n",
      "Epoch: 86/500...  Training Step: 16301...  Training loss: 2.6241...  Val loss: 3.6914...  1.1378 sec/batch\n",
      "Epoch: 87/500...  Training Step: 16401...  Training loss: 2.6060...  Val loss: 3.7036...  1.1346 sec/batch\n"
     ]
    },
    {
     "name": "stdout",
     "output_type": "stream",
     "text": [
      "Epoch: 87/500...  Training Step: 16501...  Training loss: 2.5680...  Val loss: 3.6332...  1.1343 sec/batch\n",
      "WARNING:tensorflow:Error encountered when serializing LAYER_NAME_UIDS.\n",
      "Type is unsupported, or the types of the items don't match field type in CollectionDef.\n",
      "'dict' object has no attribute 'name'\n",
      "Epoch: 88/500...  Training Step: 16601...  Training loss: 2.6032...  Val loss: 3.6426...  1.1336 sec/batch\n",
      "Epoch: 88/500...  Training Step: 16701...  Training loss: 2.5592...  Val loss: 3.6929...  1.1370 sec/batch\n",
      "Epoch: 89/500...  Training Step: 16801...  Training loss: 2.6048...  Val loss: 3.6791...  1.1341 sec/batch\n",
      "Epoch: 89/500...  Training Step: 16901...  Training loss: 2.6300...  Val loss: 3.7341...  1.1328 sec/batch\n",
      "Epoch: 90/500...  Training Step: 17001...  Training loss: 2.6696...  Val loss: 3.6966...  1.1343 sec/batch\n",
      "WARNING:tensorflow:Error encountered when serializing LAYER_NAME_UIDS.\n",
      "Type is unsupported, or the types of the items don't match field type in CollectionDef.\n",
      "'dict' object has no attribute 'name'\n",
      "Epoch 90/500 time:219.68438506126404...  finished at 2017-09-19 14:08:01\n",
      "Epoch: 91/500...  Training Step: 17101...  Training loss: 2.9642...  Val loss: 3.6686...  1.1351 sec/batch\n",
      "Epoch: 91/500...  Training Step: 17201...  Training loss: 2.5793...  Val loss: 3.6954...  1.1341 sec/batch\n",
      "Epoch: 92/500...  Training Step: 17301...  Training loss: 2.6526...  Val loss: 3.7061...  1.1338 sec/batch\n",
      "Epoch: 92/500...  Training Step: 17401...  Training loss: 2.5791...  Val loss: 3.7329...  1.1375 sec/batch\n",
      "Epoch: 93/500...  Training Step: 17501...  Training loss: 2.5732...  Val loss: 3.6949...  1.1357 sec/batch\n",
      "WARNING:tensorflow:Error encountered when serializing LAYER_NAME_UIDS.\n",
      "Type is unsupported, or the types of the items don't match field type in CollectionDef.\n",
      "'dict' object has no attribute 'name'\n",
      "Epoch: 93/500...  Training Step: 17601...  Training loss: 2.5434...  Val loss: 3.7192...  1.1363 sec/batch\n",
      "Epoch: 94/500...  Training Step: 17701...  Training loss: 2.6274...  Val loss: 3.7401...  1.1382 sec/batch\n",
      "Epoch: 94/500...  Training Step: 17801...  Training loss: 2.5469...  Val loss: 3.7171...  1.1373 sec/batch\n",
      "Epoch: 95/500...  Training Step: 17901...  Training loss: 2.6082...  Val loss: 3.6818...  1.1337 sec/batch\n",
      "Epoch: 95/500...  Training Step: 18001...  Training loss: 2.5830...  Val loss: 3.7148...  1.1340 sec/batch\n",
      "WARNING:tensorflow:Error encountered when serializing LAYER_NAME_UIDS.\n",
      "Type is unsupported, or the types of the items don't match field type in CollectionDef.\n",
      "'dict' object has no attribute 'name'\n",
      "Epoch: 96/500...  Training Step: 18101...  Training loss: 2.6067...  Val loss: 3.6866...  1.1394 sec/batch\n",
      "Epoch: 96/500...  Training Step: 18201...  Training loss: 2.5800...  Val loss: 3.6789...  1.1345 sec/batch\n",
      "Epoch: 97/500...  Training Step: 18301...  Training loss: 2.5161...  Val loss: 3.7321...  1.1378 sec/batch\n",
      "Epoch: 97/500...  Training Step: 18401...  Training loss: 2.5413...  Val loss: 3.6613...  1.1332 sec/batch\n",
      "Epoch: 98/500...  Training Step: 18501...  Training loss: 2.5055...  Val loss: 3.6821...  1.1356 sec/batch\n",
      "WARNING:tensorflow:Error encountered when serializing LAYER_NAME_UIDS.\n",
      "Type is unsupported, or the types of the items don't match field type in CollectionDef.\n",
      "'dict' object has no attribute 'name'\n",
      "Epoch: 98/500...  Training Step: 18601...  Training loss: 2.4644...  Val loss: 3.7198...  1.1370 sec/batch\n",
      "Epoch: 99/500...  Training Step: 18701...  Training loss: 2.5540...  Val loss: 3.7543...  1.1334 sec/batch\n",
      "Epoch: 99/500...  Training Step: 18801...  Training loss: 2.5542...  Val loss: 3.7361...  1.1357 sec/batch\n",
      "Epoch: 100/500...  Training Step: 18901...  Training loss: 2.5983...  Val loss: 3.7229...  1.1385 sec/batch\n",
      "Epoch 100/500 time:216.27355647087097...  finished at 2017-09-19 14:44:19\n",
      "Epoch: 101/500...  Training Step: 19001...  Training loss: 2.8684...  Val loss: 3.7012...  1.1431 sec/batch\n",
      "WARNING:tensorflow:Error encountered when serializing LAYER_NAME_UIDS.\n",
      "Type is unsupported, or the types of the items don't match field type in CollectionDef.\n",
      "'dict' object has no attribute 'name'\n",
      "Epoch: 101/500...  Training Step: 19101...  Training loss: 2.5281...  Val loss: 3.7690...  1.1345 sec/batch\n",
      "Epoch: 102/500...  Training Step: 19201...  Training loss: 2.6415...  Val loss: 3.6864...  1.1422 sec/batch\n",
      "Epoch: 102/500...  Training Step: 19301...  Training loss: 2.4872...  Val loss: 3.7217...  1.1394 sec/batch\n",
      "Epoch: 103/500...  Training Step: 19401...  Training loss: 2.5515...  Val loss: 3.7178...  1.1340 sec/batch\n",
      "Epoch: 103/500...  Training Step: 19501...  Training loss: 2.4774...  Val loss: 3.7340...  1.1387 sec/batch\n",
      "WARNING:tensorflow:Error encountered when serializing LAYER_NAME_UIDS.\n",
      "Type is unsupported, or the types of the items don't match field type in CollectionDef.\n",
      "'dict' object has no attribute 'name'\n",
      "Epoch: 104/500...  Training Step: 19601...  Training loss: 2.5134...  Val loss: 3.7452...  1.1356 sec/batch\n",
      "Epoch: 104/500...  Training Step: 19701...  Training loss: 2.4986...  Val loss: 3.7280...  1.1334 sec/batch\n",
      "Epoch: 105/500...  Training Step: 19801...  Training loss: 2.5113...  Val loss: 3.7571...  1.1370 sec/batch\n",
      "Epoch: 105/500...  Training Step: 19901...  Training loss: 2.4721...  Val loss: 3.7433...  1.1360 sec/batch\n",
      "Epoch: 106/500...  Training Step: 20001...  Training loss: 2.4731...  Val loss: 3.7561...  1.1357 sec/batch\n",
      "WARNING:tensorflow:Error encountered when serializing LAYER_NAME_UIDS.\n",
      "Type is unsupported, or the types of the items don't match field type in CollectionDef.\n",
      "'dict' object has no attribute 'name'\n",
      "Epoch: 106/500...  Training Step: 20101...  Training loss: 2.5104...  Val loss: 3.7533...  1.1361 sec/batch\n",
      "Epoch: 107/500...  Training Step: 20201...  Training loss: 2.4386...  Val loss: 3.7761...  1.1339 sec/batch\n",
      "Epoch: 107/500...  Training Step: 20301...  Training loss: 2.4205...  Val loss: 3.7393...  1.1341 sec/batch\n",
      "Epoch: 108/500...  Training Step: 20401...  Training loss: 2.4418...  Val loss: 3.7931...  1.1382 sec/batch\n",
      "Epoch: 108/500...  Training Step: 20501...  Training loss: 2.4748...  Val loss: 3.7440...  1.1329 sec/batch\n",
      "WARNING:tensorflow:Error encountered when serializing LAYER_NAME_UIDS.\n",
      "Type is unsupported, or the types of the items don't match field type in CollectionDef.\n",
      "'dict' object has no attribute 'name'\n",
      "Epoch: 109/500...  Training Step: 20601...  Training loss: 2.5146...  Val loss: 3.7543...  1.1383 sec/batch\n",
      "Epoch: 109/500...  Training Step: 20701...  Training loss: 2.4943...  Val loss: 3.7933...  1.1347 sec/batch\n",
      "Epoch: 110/500...  Training Step: 20801...  Training loss: 2.5332...  Val loss: 3.7435...  1.1335 sec/batch\n",
      "Epoch 110/500 time:216.29355454444885...  finished at 2017-09-19 15:20:40\n",
      "Epoch: 111/500...  Training Step: 20901...  Training loss: 2.7813...  Val loss: 3.7092...  1.1353 sec/batch\n",
      "Epoch: 111/500...  Training Step: 21001...  Training loss: 2.4592...  Val loss: 3.7775...  1.1362 sec/batch\n",
      "WARNING:tensorflow:Error encountered when serializing LAYER_NAME_UIDS.\n",
      "Type is unsupported, or the types of the items don't match field type in CollectionDef.\n",
      "'dict' object has no attribute 'name'\n",
      "Epoch: 112/500...  Training Step: 21101...  Training loss: 2.5626...  Val loss: 3.7426...  1.1339 sec/batch\n",
      "Epoch: 112/500...  Training Step: 21201...  Training loss: 2.4305...  Val loss: 3.7757...  1.1352 sec/batch\n",
      "Epoch: 113/500...  Training Step: 21301...  Training loss: 2.4877...  Val loss: 3.7452...  1.1375 sec/batch\n",
      "Epoch: 113/500...  Training Step: 21401...  Training loss: 2.4436...  Val loss: 3.8053...  1.1370 sec/batch\n",
      "Epoch: 114/500...  Training Step: 21501...  Training loss: 2.4545...  Val loss: 3.7789...  1.1363 sec/batch\n",
      "WARNING:tensorflow:Error encountered when serializing LAYER_NAME_UIDS.\n",
      "Type is unsupported, or the types of the items don't match field type in CollectionDef.\n",
      "'dict' object has no attribute 'name'\n",
      "Epoch: 114/500...  Training Step: 21601...  Training loss: 2.4295...  Val loss: 3.8388...  1.1337 sec/batch\n",
      "Epoch: 115/500...  Training Step: 21701...  Training loss: 2.4153...  Val loss: 3.8343...  1.1351 sec/batch\n",
      "Epoch: 115/500...  Training Step: 21801...  Training loss: 2.3543...  Val loss: 3.8246...  1.1369 sec/batch\n"
     ]
    },
    {
     "name": "stdout",
     "output_type": "stream",
     "text": [
      "Epoch: 116/500...  Training Step: 21901...  Training loss: 2.3949...  Val loss: 3.7521...  1.1352 sec/batch\n",
      "Epoch: 116/500...  Training Step: 22001...  Training loss: 2.4512...  Val loss: 3.7771...  1.1350 sec/batch\n",
      "WARNING:tensorflow:Error encountered when serializing LAYER_NAME_UIDS.\n",
      "Type is unsupported, or the types of the items don't match field type in CollectionDef.\n",
      "'dict' object has no attribute 'name'\n",
      "Epoch: 117/500...  Training Step: 22101...  Training loss: 2.3645...  Val loss: 3.8167...  1.1373 sec/batch\n",
      "Epoch: 117/500...  Training Step: 22201...  Training loss: 2.3702...  Val loss: 3.7370...  1.1378 sec/batch\n",
      "Epoch: 118/500...  Training Step: 22301...  Training loss: 2.3693...  Val loss: 3.8152...  1.1380 sec/batch\n",
      "Epoch: 118/500...  Training Step: 22401...  Training loss: 2.3413...  Val loss: 3.7845...  1.1475 sec/batch\n",
      "Epoch: 119/500...  Training Step: 22501...  Training loss: 2.4285...  Val loss: 3.7886...  1.1338 sec/batch\n",
      "WARNING:tensorflow:Error encountered when serializing LAYER_NAME_UIDS.\n",
      "Type is unsupported, or the types of the items don't match field type in CollectionDef.\n",
      "'dict' object has no attribute 'name'\n",
      "Epoch: 119/500...  Training Step: 22601...  Training loss: 2.4169...  Val loss: 3.8594...  1.1333 sec/batch\n",
      "Epoch: 120/500...  Training Step: 22701...  Training loss: 2.4496...  Val loss: 3.8133...  1.1369 sec/batch\n",
      "Epoch 120/500 time:216.2648162841797...  finished at 2017-09-19 15:57:00\n",
      "Epoch: 121/500...  Training Step: 22801...  Training loss: 2.7164...  Val loss: 3.8472...  1.1401 sec/batch\n",
      "Epoch: 121/500...  Training Step: 22901...  Training loss: 2.3508...  Val loss: 3.8035...  1.1375 sec/batch\n",
      "Epoch: 122/500...  Training Step: 23001...  Training loss: 2.4580...  Val loss: 3.7823...  1.1335 sec/batch\n",
      "WARNING:tensorflow:Error encountered when serializing LAYER_NAME_UIDS.\n",
      "Type is unsupported, or the types of the items don't match field type in CollectionDef.\n",
      "'dict' object has no attribute 'name'\n",
      "Epoch: 122/500...  Training Step: 23101...  Training loss: 2.3991...  Val loss: 3.8230...  1.1371 sec/batch\n",
      "Epoch: 123/500...  Training Step: 23201...  Training loss: 2.4105...  Val loss: 3.8268...  1.1373 sec/batch\n",
      "Epoch: 123/500...  Training Step: 23301...  Training loss: 2.4037...  Val loss: 3.8181...  1.1349 sec/batch\n",
      "Epoch: 124/500...  Training Step: 23401...  Training loss: 2.3532...  Val loss: 3.8783...  1.1338 sec/batch\n",
      "Epoch: 124/500...  Training Step: 23501...  Training loss: 2.3797...  Val loss: 3.8312...  1.1337 sec/batch\n",
      "WARNING:tensorflow:Error encountered when serializing LAYER_NAME_UIDS.\n",
      "Type is unsupported, or the types of the items don't match field type in CollectionDef.\n",
      "'dict' object has no attribute 'name'\n",
      "Epoch: 125/500...  Training Step: 23601...  Training loss: 2.3461...  Val loss: 3.8575...  1.1364 sec/batch\n",
      "Epoch: 125/500...  Training Step: 23701...  Training loss: 2.3686...  Val loss: 3.8171...  1.1392 sec/batch\n",
      "Epoch: 126/500...  Training Step: 23801...  Training loss: 2.3584...  Val loss: 3.8484...  1.1384 sec/batch\n",
      "Epoch: 126/500...  Training Step: 23901...  Training loss: 2.3606...  Val loss: 3.8157...  1.1385 sec/batch\n",
      "Epoch: 127/500...  Training Step: 24001...  Training loss: 2.3104...  Val loss: 3.8499...  1.1332 sec/batch\n",
      "WARNING:tensorflow:Error encountered when serializing LAYER_NAME_UIDS.\n",
      "Type is unsupported, or the types of the items don't match field type in CollectionDef.\n",
      "'dict' object has no attribute 'name'\n",
      "Epoch: 127/500...  Training Step: 24101...  Training loss: 2.2421...  Val loss: 3.7784...  1.1365 sec/batch\n",
      "Epoch: 128/500...  Training Step: 24201...  Training loss: 2.3001...  Val loss: 3.8225...  1.1376 sec/batch\n",
      "Epoch: 128/500...  Training Step: 24301...  Training loss: 2.2663...  Val loss: 3.8717...  1.1346 sec/batch\n",
      "Epoch: 129/500...  Training Step: 24401...  Training loss: 2.3571...  Val loss: 3.8627...  1.1333 sec/batch\n",
      "Epoch: 129/500...  Training Step: 24501...  Training loss: 2.3484...  Val loss: 3.9195...  1.1347 sec/batch\n",
      "WARNING:tensorflow:Error encountered when serializing LAYER_NAME_UIDS.\n",
      "Type is unsupported, or the types of the items don't match field type in CollectionDef.\n",
      "'dict' object has no attribute 'name'\n",
      "Epoch: 130/500...  Training Step: 24601...  Training loss: 2.4075...  Val loss: 3.8507...  1.1350 sec/batch\n",
      "Epoch 130/500 time:216.24193120002747...  finished at 2017-09-19 16:33:21\n",
      "Epoch: 131/500...  Training Step: 24701...  Training loss: 2.6498...  Val loss: 3.9534...  1.1362 sec/batch\n",
      "Epoch: 131/500...  Training Step: 24801...  Training loss: 2.2833...  Val loss: 3.8477...  1.1351 sec/batch\n",
      "Epoch: 132/500...  Training Step: 24901...  Training loss: 2.3845...  Val loss: 3.7902...  1.1349 sec/batch\n",
      "Epoch: 132/500...  Training Step: 25001...  Training loss: 2.2956...  Val loss: 3.8715...  1.1356 sec/batch\n",
      "WARNING:tensorflow:Error encountered when serializing LAYER_NAME_UIDS.\n",
      "Type is unsupported, or the types of the items don't match field type in CollectionDef.\n",
      "'dict' object has no attribute 'name'\n",
      "Epoch: 133/500...  Training Step: 25101...  Training loss: 2.3547...  Val loss: 3.9027...  1.1353 sec/batch\n",
      "Epoch: 133/500...  Training Step: 25201...  Training loss: 2.2737...  Val loss: 3.8660...  1.1329 sec/batch\n",
      "Epoch: 134/500...  Training Step: 25301...  Training loss: 2.3194...  Val loss: 3.8164...  1.1342 sec/batch\n",
      "Epoch: 134/500...  Training Step: 25401...  Training loss: 2.3767...  Val loss: 3.8860...  1.1372 sec/batch\n",
      "Epoch: 135/500...  Training Step: 25501...  Training loss: 2.2888...  Val loss: 3.8742...  1.1374 sec/batch\n",
      "WARNING:tensorflow:Error encountered when serializing LAYER_NAME_UIDS.\n",
      "Type is unsupported, or the types of the items don't match field type in CollectionDef.\n",
      "'dict' object has no attribute 'name'\n",
      "Epoch: 135/500...  Training Step: 25601...  Training loss: 2.2507...  Val loss: 3.9024...  1.1365 sec/batch\n",
      "Epoch: 136/500...  Training Step: 25701...  Training loss: 2.3164...  Val loss: 3.8546...  1.1360 sec/batch\n",
      "Epoch: 136/500...  Training Step: 25801...  Training loss: 2.3674...  Val loss: 3.8463...  1.1362 sec/batch\n",
      "Epoch: 137/500...  Training Step: 25901...  Training loss: 2.1996...  Val loss: 3.8865...  1.1344 sec/batch\n",
      "Epoch: 137/500...  Training Step: 26001...  Training loss: 2.2187...  Val loss: 3.8224...  1.1436 sec/batch\n",
      "WARNING:tensorflow:Error encountered when serializing LAYER_NAME_UIDS.\n",
      "Type is unsupported, or the types of the items don't match field type in CollectionDef.\n",
      "'dict' object has no attribute 'name'\n",
      "Epoch: 138/500...  Training Step: 26101...  Training loss: 2.2071...  Val loss: 3.8499...  1.1347 sec/batch\n",
      "Epoch: 138/500...  Training Step: 26201...  Training loss: 2.2173...  Val loss: 3.8563...  1.1338 sec/batch\n",
      "Epoch: 139/500...  Training Step: 26301...  Training loss: 2.3104...  Val loss: 3.8796...  1.1351 sec/batch\n",
      "Epoch: 139/500...  Training Step: 26401...  Training loss: 2.2778...  Val loss: 3.9413...  1.1412 sec/batch\n",
      "Epoch: 140/500...  Training Step: 26501...  Training loss: 2.3443...  Val loss: 3.8635...  1.1341 sec/batch\n",
      "WARNING:tensorflow:Error encountered when serializing LAYER_NAME_UIDS.\n",
      "Type is unsupported, or the types of the items don't match field type in CollectionDef.\n",
      "'dict' object has no attribute 'name'\n",
      "Epoch 140/500 time:219.65790271759033...  finished at 2017-09-19 17:09:42\n",
      "Epoch: 141/500...  Training Step: 26601...  Training loss: 2.5542...  Val loss: 3.8616...  1.1345 sec/batch\n",
      "Epoch: 141/500...  Training Step: 26701...  Training loss: 2.2294...  Val loss: 3.9270...  1.1336 sec/batch\n",
      "Epoch: 142/500...  Training Step: 26801...  Training loss: 2.2866...  Val loss: 3.8698...  1.1379 sec/batch\n",
      "Epoch: 142/500...  Training Step: 26901...  Training loss: 2.2752...  Val loss: 3.8597...  1.1369 sec/batch\n",
      "Epoch: 143/500...  Training Step: 27001...  Training loss: 2.2796...  Val loss: 3.9114...  1.1344 sec/batch\n",
      "WARNING:tensorflow:Error encountered when serializing LAYER_NAME_UIDS.\n",
      "Type is unsupported, or the types of the items don't match field type in CollectionDef.\n",
      "'dict' object has no attribute 'name'\n",
      "Epoch: 143/500...  Training Step: 27101...  Training loss: 2.1955...  Val loss: 3.9222...  1.1331 sec/batch\n",
      "Epoch: 144/500...  Training Step: 27201...  Training loss: 2.2888...  Val loss: 3.8490...  1.1341 sec/batch\n"
     ]
    },
    {
     "name": "stdout",
     "output_type": "stream",
     "text": [
      "Epoch: 144/500...  Training Step: 27301...  Training loss: 2.2628...  Val loss: 3.9216...  1.1346 sec/batch\n",
      "Epoch: 145/500...  Training Step: 27401...  Training loss: 2.2126...  Val loss: 3.8741...  1.1360 sec/batch\n",
      "Epoch: 145/500...  Training Step: 27501...  Training loss: 2.2022...  Val loss: 3.9679...  1.1374 sec/batch\n",
      "WARNING:tensorflow:Error encountered when serializing LAYER_NAME_UIDS.\n",
      "Type is unsupported, or the types of the items don't match field type in CollectionDef.\n",
      "'dict' object has no attribute 'name'\n",
      "Epoch: 146/500...  Training Step: 27601...  Training loss: 2.2063...  Val loss: 3.8972...  1.1362 sec/batch\n",
      "Epoch: 146/500...  Training Step: 27701...  Training loss: 2.3056...  Val loss: 3.8639...  1.1366 sec/batch\n",
      "Epoch: 147/500...  Training Step: 27801...  Training loss: 2.1665...  Val loss: 3.9533...  1.1369 sec/batch\n",
      "Epoch: 147/500...  Training Step: 27901...  Training loss: 2.1613...  Val loss: 3.8677...  1.1349 sec/batch\n",
      "Epoch: 148/500...  Training Step: 28001...  Training loss: 2.1973...  Val loss: 3.8801...  1.1400 sec/batch\n",
      "WARNING:tensorflow:Error encountered when serializing LAYER_NAME_UIDS.\n",
      "Type is unsupported, or the types of the items don't match field type in CollectionDef.\n",
      "'dict' object has no attribute 'name'\n",
      "Epoch: 148/500...  Training Step: 28101...  Training loss: 2.1881...  Val loss: 3.8691...  1.1356 sec/batch\n",
      "Epoch: 149/500...  Training Step: 28201...  Training loss: 2.2385...  Val loss: 3.9079...  1.1350 sec/batch\n",
      "Epoch: 149/500...  Training Step: 28301...  Training loss: 2.2257...  Val loss: 3.9831...  1.1401 sec/batch\n",
      "Epoch: 150/500...  Training Step: 28401...  Training loss: 2.3139...  Val loss: 3.8723...  1.1388 sec/batch\n",
      "Epoch 150/500 time:216.28779315948486...  finished at 2017-09-19 17:45:59\n",
      "Epoch: 151/500...  Training Step: 28501...  Training loss: 2.4782...  Val loss: 3.8992...  1.1384 sec/batch\n",
      "WARNING:tensorflow:Error encountered when serializing LAYER_NAME_UIDS.\n",
      "Type is unsupported, or the types of the items don't match field type in CollectionDef.\n",
      "'dict' object has no attribute 'name'\n",
      "Epoch: 151/500...  Training Step: 28601...  Training loss: 2.2172...  Val loss: 3.9092...  1.1342 sec/batch\n",
      "Epoch: 152/500...  Training Step: 28701...  Training loss: 2.2030...  Val loss: 3.8778...  1.1327 sec/batch\n",
      "Epoch: 152/500...  Training Step: 28801...  Training loss: 2.2140...  Val loss: 3.9291...  1.1341 sec/batch\n",
      "Epoch: 153/500...  Training Step: 28901...  Training loss: 2.1938...  Val loss: 3.9281...  1.1333 sec/batch\n",
      "Epoch: 153/500...  Training Step: 29001...  Training loss: 2.1802...  Val loss: 3.9641...  1.1373 sec/batch\n",
      "WARNING:tensorflow:Error encountered when serializing LAYER_NAME_UIDS.\n",
      "Type is unsupported, or the types of the items don't match field type in CollectionDef.\n",
      "'dict' object has no attribute 'name'\n",
      "Epoch: 154/500...  Training Step: 29101...  Training loss: 2.1794...  Val loss: 3.9380...  1.1359 sec/batch\n",
      "Epoch: 154/500...  Training Step: 29201...  Training loss: 2.1767...  Val loss: 3.9833...  1.1345 sec/batch\n",
      "Epoch: 155/500...  Training Step: 29301...  Training loss: 2.1602...  Val loss: 3.9265...  1.1385 sec/batch\n",
      "Epoch: 155/500...  Training Step: 29401...  Training loss: 2.1472...  Val loss: 3.9632...  1.1369 sec/batch\n",
      "Epoch: 156/500...  Training Step: 29501...  Training loss: 2.1108...  Val loss: 3.9996...  1.1362 sec/batch\n",
      "WARNING:tensorflow:Error encountered when serializing LAYER_NAME_UIDS.\n",
      "Type is unsupported, or the types of the items don't match field type in CollectionDef.\n",
      "'dict' object has no attribute 'name'\n",
      "Epoch: 156/500...  Training Step: 29601...  Training loss: 2.1877...  Val loss: 3.9156...  1.1344 sec/batch\n",
      "Epoch: 157/500...  Training Step: 29701...  Training loss: 2.1351...  Val loss: 3.9790...  1.1354 sec/batch\n",
      "Epoch: 157/500...  Training Step: 29801...  Training loss: 2.0744...  Val loss: 3.9347...  1.1355 sec/batch\n",
      "Epoch: 158/500...  Training Step: 29901...  Training loss: 2.1430...  Val loss: 3.8947...  1.1342 sec/batch\n",
      "Epoch: 158/500...  Training Step: 30001...  Training loss: 2.0967...  Val loss: 3.9018...  1.1333 sec/batch\n",
      "WARNING:tensorflow:Error encountered when serializing LAYER_NAME_UIDS.\n",
      "Type is unsupported, or the types of the items don't match field type in CollectionDef.\n",
      "'dict' object has no attribute 'name'\n",
      "Epoch: 159/500...  Training Step: 30101...  Training loss: 2.1389...  Val loss: 3.9347...  1.1350 sec/batch\n",
      "Epoch: 159/500...  Training Step: 30201...  Training loss: 2.1489...  Val loss: 3.9741...  1.1331 sec/batch\n",
      "Epoch: 160/500...  Training Step: 30301...  Training loss: 2.2505...  Val loss: 3.8871...  1.1354 sec/batch\n",
      "Epoch 160/500 time:216.26531672477722...  finished at 2017-09-19 18:22:20\n",
      "Epoch: 161/500...  Training Step: 30401...  Training loss: 2.3632...  Val loss: 3.9231...  1.1349 sec/batch\n",
      "Epoch: 161/500...  Training Step: 30501...  Training loss: 2.1799...  Val loss: 3.9072...  1.1369 sec/batch\n",
      "WARNING:tensorflow:Error encountered when serializing LAYER_NAME_UIDS.\n",
      "Type is unsupported, or the types of the items don't match field type in CollectionDef.\n",
      "'dict' object has no attribute 'name'\n",
      "Epoch: 162/500...  Training Step: 30601...  Training loss: 2.1329...  Val loss: 3.8587...  1.1335 sec/batch\n",
      "Epoch: 162/500...  Training Step: 30701...  Training loss: 2.1474...  Val loss: 3.9641...  1.1361 sec/batch\n",
      "Epoch: 163/500...  Training Step: 30801...  Training loss: 2.1138...  Val loss: 3.9280...  1.1336 sec/batch\n",
      "Epoch: 163/500...  Training Step: 30901...  Training loss: 2.1468...  Val loss: 4.0413...  1.1366 sec/batch\n",
      "Epoch: 164/500...  Training Step: 31001...  Training loss: 2.1157...  Val loss: 3.8778...  1.1373 sec/batch\n",
      "WARNING:tensorflow:Error encountered when serializing LAYER_NAME_UIDS.\n",
      "Type is unsupported, or the types of the items don't match field type in CollectionDef.\n",
      "'dict' object has no attribute 'name'\n",
      "Epoch: 164/500...  Training Step: 31101...  Training loss: 2.1017...  Val loss: 4.0156...  1.1336 sec/batch\n",
      "Epoch: 165/500...  Training Step: 31201...  Training loss: 2.1035...  Val loss: 3.9070...  1.1337 sec/batch\n",
      "Epoch: 165/500...  Training Step: 31301...  Training loss: 2.0927...  Val loss: 3.9641...  1.1370 sec/batch\n",
      "Epoch: 166/500...  Training Step: 31401...  Training loss: 2.0757...  Val loss: 4.0224...  1.1374 sec/batch\n",
      "Epoch: 166/500...  Training Step: 31501...  Training loss: 2.1964...  Val loss: 3.8895...  1.1381 sec/batch\n",
      "WARNING:tensorflow:Error encountered when serializing LAYER_NAME_UIDS.\n",
      "Type is unsupported, or the types of the items don't match field type in CollectionDef.\n",
      "'dict' object has no attribute 'name'\n",
      "Epoch: 167/500...  Training Step: 31601...  Training loss: 2.0243...  Val loss: 4.0255...  1.1325 sec/batch\n",
      "Epoch: 167/500...  Training Step: 31701...  Training loss: 2.0148...  Val loss: 3.9437...  1.1335 sec/batch\n",
      "Epoch: 168/500...  Training Step: 31801...  Training loss: 2.0748...  Val loss: 3.9997...  1.1338 sec/batch\n",
      "Epoch: 168/500...  Training Step: 31901...  Training loss: 2.0459...  Val loss: 3.9803...  1.1380 sec/batch\n",
      "Epoch: 169/500...  Training Step: 32001...  Training loss: 2.0729...  Val loss: 3.9753...  1.1371 sec/batch\n",
      "WARNING:tensorflow:Error encountered when serializing LAYER_NAME_UIDS.\n",
      "Type is unsupported, or the types of the items don't match field type in CollectionDef.\n",
      "'dict' object has no attribute 'name'\n",
      "Epoch: 169/500...  Training Step: 32101...  Training loss: 2.0705...  Val loss: 3.9763...  1.1373 sec/batch\n",
      "Epoch: 170/500...  Training Step: 32201...  Training loss: 2.2254...  Val loss: 3.9155...  1.1370 sec/batch\n",
      "Epoch 170/500 time:216.28645706176758...  finished at 2017-09-19 18:58:40\n",
      "Epoch: 171/500...  Training Step: 32301...  Training loss: 2.2854...  Val loss: 3.9401...  1.1334 sec/batch\n",
      "Epoch: 171/500...  Training Step: 32401...  Training loss: 2.1258...  Val loss: 3.9481...  1.1339 sec/batch\n",
      "Epoch: 172/500...  Training Step: 32501...  Training loss: 2.0715...  Val loss: 3.8835...  1.1376 sec/batch\n",
      "WARNING:tensorflow:Error encountered when serializing LAYER_NAME_UIDS.\n",
      "Type is unsupported, or the types of the items don't match field type in CollectionDef.\n",
      "'dict' object has no attribute 'name'\n",
      "Epoch: 172/500...  Training Step: 32601...  Training loss: 2.0626...  Val loss: 3.9533...  1.1405 sec/batch\n"
     ]
    },
    {
     "name": "stdout",
     "output_type": "stream",
     "text": [
      "Epoch: 173/500...  Training Step: 32701...  Training loss: 2.1089...  Val loss: 4.0227...  1.1392 sec/batch\n",
      "Epoch: 173/500...  Training Step: 32801...  Training loss: 2.0704...  Val loss: 4.0443...  1.1378 sec/batch\n",
      "Epoch: 174/500...  Training Step: 32901...  Training loss: 2.0637...  Val loss: 3.9330...  1.1379 sec/batch\n",
      "Epoch: 174/500...  Training Step: 33001...  Training loss: 2.0353...  Val loss: 4.0161...  1.1389 sec/batch\n",
      "WARNING:tensorflow:Error encountered when serializing LAYER_NAME_UIDS.\n",
      "Type is unsupported, or the types of the items don't match field type in CollectionDef.\n",
      "'dict' object has no attribute 'name'\n",
      "Epoch: 175/500...  Training Step: 33101...  Training loss: 2.0800...  Val loss: 3.9192...  1.1342 sec/batch\n",
      "Epoch: 175/500...  Training Step: 33201...  Training loss: 2.0380...  Val loss: 3.9620...  1.1357 sec/batch\n",
      "Epoch: 176/500...  Training Step: 33301...  Training loss: 2.0098...  Val loss: 4.0299...  1.1364 sec/batch\n",
      "Epoch: 176/500...  Training Step: 33401...  Training loss: 2.1048...  Val loss: 3.9193...  1.1359 sec/batch\n",
      "Epoch: 177/500...  Training Step: 33501...  Training loss: 1.9557...  Val loss: 3.9967...  1.1376 sec/batch\n",
      "WARNING:tensorflow:Error encountered when serializing LAYER_NAME_UIDS.\n",
      "Type is unsupported, or the types of the items don't match field type in CollectionDef.\n",
      "'dict' object has no attribute 'name'\n",
      "Epoch: 177/500...  Training Step: 33601...  Training loss: 1.9226...  Val loss: 3.9852...  1.1358 sec/batch\n",
      "Epoch: 178/500...  Training Step: 33701...  Training loss: 1.9805...  Val loss: 3.9798...  1.1360 sec/batch\n",
      "Epoch: 178/500...  Training Step: 33801...  Training loss: 1.9923...  Val loss: 4.0241...  1.1348 sec/batch\n",
      "Epoch: 179/500...  Training Step: 33901...  Training loss: 1.9966...  Val loss: 3.9928...  1.1354 sec/batch\n",
      "Epoch: 179/500...  Training Step: 34001...  Training loss: 2.0083...  Val loss: 4.0420...  1.1337 sec/batch\n",
      "WARNING:tensorflow:Error encountered when serializing LAYER_NAME_UIDS.\n",
      "Type is unsupported, or the types of the items don't match field type in CollectionDef.\n",
      "'dict' object has no attribute 'name'\n",
      "Epoch: 180/500...  Training Step: 34101...  Training loss: 2.1491...  Val loss: 3.9815...  1.1366 sec/batch\n",
      "Epoch 180/500 time:216.22884321212769...  finished at 2017-09-19 19:35:01\n",
      "Epoch: 181/500...  Training Step: 34201...  Training loss: 2.2063...  Val loss: 3.9837...  1.1378 sec/batch\n",
      "Epoch: 181/500...  Training Step: 34301...  Training loss: 2.0869...  Val loss: 4.0204...  1.1362 sec/batch\n",
      "Epoch: 182/500...  Training Step: 34401...  Training loss: 1.9844...  Val loss: 3.9200...  1.1370 sec/batch\n",
      "Epoch: 182/500...  Training Step: 34501...  Training loss: 1.9842...  Val loss: 4.0452...  1.1340 sec/batch\n",
      "WARNING:tensorflow:Error encountered when serializing LAYER_NAME_UIDS.\n",
      "Type is unsupported, or the types of the items don't match field type in CollectionDef.\n",
      "'dict' object has no attribute 'name'\n",
      "Epoch: 183/500...  Training Step: 34601...  Training loss: 2.0300...  Val loss: 4.0399...  1.1341 sec/batch\n",
      "Epoch: 183/500...  Training Step: 34701...  Training loss: 2.0195...  Val loss: 4.0669...  1.1376 sec/batch\n",
      "Epoch: 184/500...  Training Step: 34801...  Training loss: 1.9910...  Val loss: 4.0058...  1.1354 sec/batch\n",
      "Epoch: 184/500...  Training Step: 34901...  Training loss: 2.0187...  Val loss: 4.0288...  1.1378 sec/batch\n",
      "Epoch: 185/500...  Training Step: 35001...  Training loss: 2.0211...  Val loss: 3.9654...  1.1378 sec/batch\n",
      "WARNING:tensorflow:Error encountered when serializing LAYER_NAME_UIDS.\n",
      "Type is unsupported, or the types of the items don't match field type in CollectionDef.\n",
      "'dict' object has no attribute 'name'\n",
      "Epoch: 185/500...  Training Step: 35101...  Training loss: 1.9677...  Val loss: 3.9626...  1.1360 sec/batch\n",
      "Epoch: 186/500...  Training Step: 35201...  Training loss: 2.0066...  Val loss: 4.0841...  1.1384 sec/batch\n",
      "Epoch: 186/500...  Training Step: 35301...  Training loss: 2.0654...  Val loss: 3.9939...  1.1361 sec/batch\n",
      "Epoch: 187/500...  Training Step: 35401...  Training loss: 1.9291...  Val loss: 4.0696...  1.1379 sec/batch\n",
      "Epoch: 187/500...  Training Step: 35501...  Training loss: 1.9165...  Val loss: 4.0114...  1.1386 sec/batch\n",
      "WARNING:tensorflow:Error encountered when serializing LAYER_NAME_UIDS.\n",
      "Type is unsupported, or the types of the items don't match field type in CollectionDef.\n",
      "'dict' object has no attribute 'name'\n",
      "Epoch: 188/500...  Training Step: 35601...  Training loss: 1.9290...  Val loss: 4.0077...  1.1357 sec/batch\n",
      "Epoch: 188/500...  Training Step: 35701...  Training loss: 1.9258...  Val loss: 4.0066...  1.1365 sec/batch\n",
      "Epoch: 189/500...  Training Step: 35801...  Training loss: 1.9349...  Val loss: 4.0773...  1.1365 sec/batch\n",
      "Epoch: 189/500...  Training Step: 35901...  Training loss: 1.9704...  Val loss: 4.0612...  1.1383 sec/batch\n",
      "Epoch: 190/500...  Training Step: 36001...  Training loss: 2.1213...  Val loss: 4.0418...  1.1386 sec/batch\n",
      "WARNING:tensorflow:Error encountered when serializing LAYER_NAME_UIDS.\n",
      "Type is unsupported, or the types of the items don't match field type in CollectionDef.\n",
      "'dict' object has no attribute 'name'\n",
      "Epoch 190/500 time:219.7767779827118...  finished at 2017-09-19 20:11:21\n",
      "Epoch: 191/500...  Training Step: 36101...  Training loss: 2.1408...  Val loss: 3.9792...  1.1379 sec/batch\n",
      "Epoch: 191/500...  Training Step: 36201...  Training loss: 1.9979...  Val loss: 4.0336...  1.1354 sec/batch\n",
      "Epoch: 192/500...  Training Step: 36301...  Training loss: 1.9592...  Val loss: 3.9457...  1.1380 sec/batch\n",
      "Epoch: 192/500...  Training Step: 36401...  Training loss: 1.9321...  Val loss: 4.0489...  1.1371 sec/batch\n",
      "Epoch: 193/500...  Training Step: 36501...  Training loss: 1.9459...  Val loss: 4.0560...  1.1381 sec/batch\n",
      "WARNING:tensorflow:Error encountered when serializing LAYER_NAME_UIDS.\n",
      "Type is unsupported, or the types of the items don't match field type in CollectionDef.\n",
      "'dict' object has no attribute 'name'\n",
      "Epoch: 193/500...  Training Step: 36601...  Training loss: 1.9826...  Val loss: 4.0941...  1.1373 sec/batch\n",
      "Epoch: 194/500...  Training Step: 36701...  Training loss: 1.9239...  Val loss: 4.0444...  1.1370 sec/batch\n",
      "Epoch: 194/500...  Training Step: 36801...  Training loss: 1.9600...  Val loss: 4.0844...  1.1378 sec/batch\n",
      "Epoch: 195/500...  Training Step: 36901...  Training loss: 1.9825...  Val loss: 4.0121...  1.1351 sec/batch\n",
      "Epoch: 195/500...  Training Step: 37001...  Training loss: 1.9713...  Val loss: 4.0476...  1.1380 sec/batch\n",
      "WARNING:tensorflow:Error encountered when serializing LAYER_NAME_UIDS.\n",
      "Type is unsupported, or the types of the items don't match field type in CollectionDef.\n",
      "'dict' object has no attribute 'name'\n",
      "Epoch: 196/500...  Training Step: 37101...  Training loss: 1.9217...  Val loss: 4.1041...  1.1336 sec/batch\n",
      "Epoch: 196/500...  Training Step: 37201...  Training loss: 1.9749...  Val loss: 3.9875...  1.1335 sec/batch\n",
      "Epoch: 197/500...  Training Step: 37301...  Training loss: 1.8604...  Val loss: 4.1070...  1.1349 sec/batch\n",
      "Epoch: 197/500...  Training Step: 37401...  Training loss: 1.8284...  Val loss: 4.0662...  1.1427 sec/batch\n",
      "Epoch: 198/500...  Training Step: 37501...  Training loss: 1.9366...  Val loss: 4.0246...  1.1384 sec/batch\n",
      "WARNING:tensorflow:Error encountered when serializing LAYER_NAME_UIDS.\n",
      "Type is unsupported, or the types of the items don't match field type in CollectionDef.\n",
      "'dict' object has no attribute 'name'\n",
      "Epoch: 198/500...  Training Step: 37601...  Training loss: 1.8663...  Val loss: 4.0450...  1.1364 sec/batch\n",
      "Epoch: 199/500...  Training Step: 37701...  Training loss: 1.8969...  Val loss: 4.0748...  1.1362 sec/batch\n",
      "Epoch: 199/500...  Training Step: 37801...  Training loss: 1.9081...  Val loss: 4.0594...  1.1359 sec/batch\n",
      "Epoch: 200/500...  Training Step: 37901...  Training loss: 2.0528...  Val loss: 4.0453...  1.1369 sec/batch\n",
      "Epoch 200/500 time:216.2478849887848...  finished at 2017-09-19 20:47:43\n",
      "Epoch: 201/500...  Training Step: 38001...  Training loss: 2.1411...  Val loss: 4.0838...  1.1405 sec/batch\n",
      "WARNING:tensorflow:Error encountered when serializing LAYER_NAME_UIDS.\n",
      "Type is unsupported, or the types of the items don't match field type in CollectionDef.\n",
      "'dict' object has no attribute 'name'\n"
     ]
    },
    {
     "name": "stdout",
     "output_type": "stream",
     "text": [
      "Epoch: 201/500...  Training Step: 38101...  Training loss: 1.9804...  Val loss: 4.0751...  1.1354 sec/batch\n",
      "Epoch: 202/500...  Training Step: 38201...  Training loss: 1.9753...  Val loss: 4.0238...  1.1341 sec/batch\n",
      "Epoch: 202/500...  Training Step: 38301...  Training loss: 1.8644...  Val loss: 4.0852...  1.1364 sec/batch\n",
      "Epoch: 203/500...  Training Step: 38401...  Training loss: 1.9562...  Val loss: 4.1538...  1.1343 sec/batch\n",
      "Epoch: 203/500...  Training Step: 38501...  Training loss: 1.9439...  Val loss: 4.1136...  1.1337 sec/batch\n",
      "WARNING:tensorflow:Error encountered when serializing LAYER_NAME_UIDS.\n",
      "Type is unsupported, or the types of the items don't match field type in CollectionDef.\n",
      "'dict' object has no attribute 'name'\n",
      "Epoch: 204/500...  Training Step: 38601...  Training loss: 1.8777...  Val loss: 4.0641...  1.1352 sec/batch\n",
      "Epoch: 204/500...  Training Step: 38701...  Training loss: 1.9454...  Val loss: 4.1006...  1.1344 sec/batch\n",
      "Epoch: 205/500...  Training Step: 38801...  Training loss: 1.9648...  Val loss: 4.0768...  1.1334 sec/batch\n",
      "Epoch: 205/500...  Training Step: 38901...  Training loss: 1.9133...  Val loss: 4.0616...  1.1379 sec/batch\n",
      "Epoch: 206/500...  Training Step: 39001...  Training loss: 1.9360...  Val loss: 4.1631...  1.1381 sec/batch\n",
      "WARNING:tensorflow:Error encountered when serializing LAYER_NAME_UIDS.\n",
      "Type is unsupported, or the types of the items don't match field type in CollectionDef.\n",
      "'dict' object has no attribute 'name'\n",
      "Epoch: 206/500...  Training Step: 39101...  Training loss: 1.8968...  Val loss: 4.0208...  1.1368 sec/batch\n",
      "Epoch: 207/500...  Training Step: 39201...  Training loss: 1.8395...  Val loss: 4.1204...  1.1355 sec/batch\n",
      "Epoch: 207/500...  Training Step: 39301...  Training loss: 1.7878...  Val loss: 4.1025...  1.1363 sec/batch\n",
      "Epoch: 208/500...  Training Step: 39401...  Training loss: 1.8337...  Val loss: 4.0517...  1.1373 sec/batch\n",
      "Epoch: 208/500...  Training Step: 39501...  Training loss: 1.8305...  Val loss: 4.1036...  1.1349 sec/batch\n",
      "WARNING:tensorflow:Error encountered when serializing LAYER_NAME_UIDS.\n",
      "Type is unsupported, or the types of the items don't match field type in CollectionDef.\n",
      "'dict' object has no attribute 'name'\n",
      "Epoch: 209/500...  Training Step: 39601...  Training loss: 1.8425...  Val loss: 4.0936...  1.1332 sec/batch\n",
      "Epoch: 209/500...  Training Step: 39701...  Training loss: 1.9045...  Val loss: 4.1507...  1.1342 sec/batch\n",
      "Epoch: 210/500...  Training Step: 39801...  Training loss: 1.9727...  Val loss: 4.0758...  1.1359 sec/batch\n",
      "Epoch 210/500 time:216.1916787624359...  finished at 2017-09-19 21:24:04\n",
      "Epoch: 211/500...  Training Step: 39901...  Training loss: 2.1026...  Val loss: 4.0764...  1.1398 sec/batch\n",
      "Epoch: 211/500...  Training Step: 40001...  Training loss: 1.9316...  Val loss: 4.0586...  1.1347 sec/batch\n",
      "WARNING:tensorflow:Error encountered when serializing LAYER_NAME_UIDS.\n",
      "Type is unsupported, or the types of the items don't match field type in CollectionDef.\n",
      "'dict' object has no attribute 'name'\n",
      "Epoch: 212/500...  Training Step: 40101...  Training loss: 1.9005...  Val loss: 4.0617...  1.1350 sec/batch\n",
      "Epoch: 212/500...  Training Step: 40201...  Training loss: 1.8273...  Val loss: 4.1311...  1.1373 sec/batch\n",
      "Epoch: 213/500...  Training Step: 40301...  Training loss: 1.8883...  Val loss: 4.1587...  1.1373 sec/batch\n",
      "Epoch: 213/500...  Training Step: 40401...  Training loss: 1.8774...  Val loss: 4.2163...  1.1355 sec/batch\n",
      "Epoch: 214/500...  Training Step: 40501...  Training loss: 1.8426...  Val loss: 4.1449...  1.1367 sec/batch\n",
      "WARNING:tensorflow:Error encountered when serializing LAYER_NAME_UIDS.\n",
      "Type is unsupported, or the types of the items don't match field type in CollectionDef.\n",
      "'dict' object has no attribute 'name'\n",
      "Epoch: 214/500...  Training Step: 40601...  Training loss: 1.9134...  Val loss: 4.1935...  1.1344 sec/batch\n",
      "Epoch: 215/500...  Training Step: 40701...  Training loss: 1.8683...  Val loss: 4.1614...  1.1374 sec/batch\n",
      "Epoch: 215/500...  Training Step: 40801...  Training loss: 1.8418...  Val loss: 4.0665...  1.1339 sec/batch\n"
     ]
    },
    {
     "ename": "KeyboardInterrupt",
     "evalue": "",
     "output_type": "error",
     "traceback": [
      "\u001b[0;31m---------------------------------------------------------------------------\u001b[0m",
      "\u001b[0;31mKeyboardInterrupt\u001b[0m                         Traceback (most recent call last)",
      "\u001b[0;32m<ipython-input-30-e8cbf6c2632c>\u001b[0m in \u001b[0;36m<module>\u001b[0;34m()\u001b[0m\n\u001b[1;32m     40\u001b[0m                                                  \u001b[0mmodel\u001b[0m\u001b[0;34m.\u001b[0m\u001b[0mfinal_state\u001b[0m\u001b[0;34m,\u001b[0m\u001b[0;34m\u001b[0m\u001b[0m\n\u001b[1;32m     41\u001b[0m                                                  model.optimizer], \n\u001b[0;32m---> 42\u001b[0;31m                                                  feed_dict=feed)\n\u001b[0m\u001b[1;32m     43\u001b[0m \u001b[0;34m\u001b[0m\u001b[0m\n\u001b[1;32m     44\u001b[0m \u001b[0;34m\u001b[0m\u001b[0m\n",
      "\u001b[0;32m/home/luis/anaconda2/envs/dlnd_gpu/lib/python3.6/site-packages/tensorflow/python/client/session.py\u001b[0m in \u001b[0;36mrun\u001b[0;34m(self, fetches, feed_dict, options, run_metadata)\u001b[0m\n\u001b[1;32m    787\u001b[0m     \u001b[0;32mtry\u001b[0m\u001b[0;34m:\u001b[0m\u001b[0;34m\u001b[0m\u001b[0m\n\u001b[1;32m    788\u001b[0m       result = self._run(None, fetches, feed_dict, options_ptr,\n\u001b[0;32m--> 789\u001b[0;31m                          run_metadata_ptr)\n\u001b[0m\u001b[1;32m    790\u001b[0m       \u001b[0;32mif\u001b[0m \u001b[0mrun_metadata\u001b[0m\u001b[0;34m:\u001b[0m\u001b[0;34m\u001b[0m\u001b[0m\n\u001b[1;32m    791\u001b[0m         \u001b[0mproto_data\u001b[0m \u001b[0;34m=\u001b[0m \u001b[0mtf_session\u001b[0m\u001b[0;34m.\u001b[0m\u001b[0mTF_GetBuffer\u001b[0m\u001b[0;34m(\u001b[0m\u001b[0mrun_metadata_ptr\u001b[0m\u001b[0;34m)\u001b[0m\u001b[0;34m\u001b[0m\u001b[0m\n",
      "\u001b[0;32m/home/luis/anaconda2/envs/dlnd_gpu/lib/python3.6/site-packages/tensorflow/python/client/session.py\u001b[0m in \u001b[0;36m_run\u001b[0;34m(self, handle, fetches, feed_dict, options, run_metadata)\u001b[0m\n\u001b[1;32m    995\u001b[0m     \u001b[0;32mif\u001b[0m \u001b[0mfinal_fetches\u001b[0m \u001b[0;32mor\u001b[0m \u001b[0mfinal_targets\u001b[0m\u001b[0;34m:\u001b[0m\u001b[0;34m\u001b[0m\u001b[0m\n\u001b[1;32m    996\u001b[0m       results = self._do_run(handle, final_targets, final_fetches,\n\u001b[0;32m--> 997\u001b[0;31m                              feed_dict_string, options, run_metadata)\n\u001b[0m\u001b[1;32m    998\u001b[0m     \u001b[0;32melse\u001b[0m\u001b[0;34m:\u001b[0m\u001b[0;34m\u001b[0m\u001b[0m\n\u001b[1;32m    999\u001b[0m       \u001b[0mresults\u001b[0m \u001b[0;34m=\u001b[0m \u001b[0;34m[\u001b[0m\u001b[0;34m]\u001b[0m\u001b[0;34m\u001b[0m\u001b[0m\n",
      "\u001b[0;32m/home/luis/anaconda2/envs/dlnd_gpu/lib/python3.6/site-packages/tensorflow/python/client/session.py\u001b[0m in \u001b[0;36m_do_run\u001b[0;34m(self, handle, target_list, fetch_list, feed_dict, options, run_metadata)\u001b[0m\n\u001b[1;32m   1130\u001b[0m     \u001b[0;32mif\u001b[0m \u001b[0mhandle\u001b[0m \u001b[0;32mis\u001b[0m \u001b[0;32mNone\u001b[0m\u001b[0;34m:\u001b[0m\u001b[0;34m\u001b[0m\u001b[0m\n\u001b[1;32m   1131\u001b[0m       return self._do_call(_run_fn, self._session, feed_dict, fetch_list,\n\u001b[0;32m-> 1132\u001b[0;31m                            target_list, options, run_metadata)\n\u001b[0m\u001b[1;32m   1133\u001b[0m     \u001b[0;32melse\u001b[0m\u001b[0;34m:\u001b[0m\u001b[0;34m\u001b[0m\u001b[0m\n\u001b[1;32m   1134\u001b[0m       return self._do_call(_prun_fn, self._session, handle, feed_dict,\n",
      "\u001b[0;32m/home/luis/anaconda2/envs/dlnd_gpu/lib/python3.6/site-packages/tensorflow/python/client/session.py\u001b[0m in \u001b[0;36m_do_call\u001b[0;34m(self, fn, *args)\u001b[0m\n\u001b[1;32m   1137\u001b[0m   \u001b[0;32mdef\u001b[0m \u001b[0m_do_call\u001b[0m\u001b[0;34m(\u001b[0m\u001b[0mself\u001b[0m\u001b[0;34m,\u001b[0m \u001b[0mfn\u001b[0m\u001b[0;34m,\u001b[0m \u001b[0;34m*\u001b[0m\u001b[0margs\u001b[0m\u001b[0;34m)\u001b[0m\u001b[0;34m:\u001b[0m\u001b[0;34m\u001b[0m\u001b[0m\n\u001b[1;32m   1138\u001b[0m     \u001b[0;32mtry\u001b[0m\u001b[0;34m:\u001b[0m\u001b[0;34m\u001b[0m\u001b[0m\n\u001b[0;32m-> 1139\u001b[0;31m       \u001b[0;32mreturn\u001b[0m \u001b[0mfn\u001b[0m\u001b[0;34m(\u001b[0m\u001b[0;34m*\u001b[0m\u001b[0margs\u001b[0m\u001b[0;34m)\u001b[0m\u001b[0;34m\u001b[0m\u001b[0m\n\u001b[0m\u001b[1;32m   1140\u001b[0m     \u001b[0;32mexcept\u001b[0m \u001b[0merrors\u001b[0m\u001b[0;34m.\u001b[0m\u001b[0mOpError\u001b[0m \u001b[0;32mas\u001b[0m \u001b[0me\u001b[0m\u001b[0;34m:\u001b[0m\u001b[0;34m\u001b[0m\u001b[0m\n\u001b[1;32m   1141\u001b[0m       \u001b[0mmessage\u001b[0m \u001b[0;34m=\u001b[0m \u001b[0mcompat\u001b[0m\u001b[0;34m.\u001b[0m\u001b[0mas_text\u001b[0m\u001b[0;34m(\u001b[0m\u001b[0me\u001b[0m\u001b[0;34m.\u001b[0m\u001b[0mmessage\u001b[0m\u001b[0;34m)\u001b[0m\u001b[0;34m\u001b[0m\u001b[0m\n",
      "\u001b[0;32m/home/luis/anaconda2/envs/dlnd_gpu/lib/python3.6/site-packages/tensorflow/python/client/session.py\u001b[0m in \u001b[0;36m_run_fn\u001b[0;34m(session, feed_dict, fetch_list, target_list, options, run_metadata)\u001b[0m\n\u001b[1;32m   1119\u001b[0m         return tf_session.TF_Run(session, options,\n\u001b[1;32m   1120\u001b[0m                                  \u001b[0mfeed_dict\u001b[0m\u001b[0;34m,\u001b[0m \u001b[0mfetch_list\u001b[0m\u001b[0;34m,\u001b[0m \u001b[0mtarget_list\u001b[0m\u001b[0;34m,\u001b[0m\u001b[0;34m\u001b[0m\u001b[0m\n\u001b[0;32m-> 1121\u001b[0;31m                                  status, run_metadata)\n\u001b[0m\u001b[1;32m   1122\u001b[0m \u001b[0;34m\u001b[0m\u001b[0m\n\u001b[1;32m   1123\u001b[0m     \u001b[0;32mdef\u001b[0m \u001b[0m_prun_fn\u001b[0m\u001b[0;34m(\u001b[0m\u001b[0msession\u001b[0m\u001b[0;34m,\u001b[0m \u001b[0mhandle\u001b[0m\u001b[0;34m,\u001b[0m \u001b[0mfeed_dict\u001b[0m\u001b[0;34m,\u001b[0m \u001b[0mfetch_list\u001b[0m\u001b[0;34m)\u001b[0m\u001b[0;34m:\u001b[0m\u001b[0;34m\u001b[0m\u001b[0m\n",
      "\u001b[0;31mKeyboardInterrupt\u001b[0m: "
     ]
    }
   ],
   "source": [
    "#epochs = 1\n",
    "# Save every N iterations\n",
    "save_every_n = 500\n",
    "print_loss_every_n = 100\n",
    "sample_every = 500\n",
    "print_epoch_time_every = 10\n",
    "\n",
    "with tf.device(\"/gpu:0\"):\n",
    "    model = CharRNN(len(vocab), batch_size=batch_size, num_steps=num_steps,\n",
    "                lstm_size=lstm_size, num_layers=num_layers, \n",
    "                learning_rate=learning_rate)\n",
    "    #print(\"after model\")\n",
    "\n",
    "saver = tf.train.Saver(max_to_keep=5)\n",
    "print(\"Training starting at time:\",strftime(\"%Y-%m-%d %H:%M:%S\", localtime()))\n",
    "train_start_time = time.time()\n",
    "with tf.Session() as sess:\n",
    "    sess.run(tf.global_variables_initializer())\n",
    "    print(\"Number of parameters:\",get_number_of_parameters(),\"Dataset size:\",len(encoded))\n",
    "    #print(\"after initializer\")\n",
    "    if resume_from_checkpoint:\n",
    "        latest_checkpoint = tf.train.latest_checkpoint('checkpoints')\n",
    "        saver.restore(sess, latest_checkpoint)\n",
    "    counter = 0\n",
    "    for e in range(epochs):\n",
    "        # Train network\n",
    "        epoch_start = time.time()\n",
    "        \n",
    "        new_state = sess.run(model.initial_state)\n",
    "        loss = 0\n",
    "        for x, y in get_batches(encoded, batch_size, num_steps):\n",
    "            \n",
    "            \n",
    "            start = time.time()\n",
    "            feed = {model.inputs: x,\n",
    "                    model.targets: y,\n",
    "                    model.keep_prob: keep_prob,\n",
    "                    model.initial_state: new_state}\n",
    "            batch_loss, new_state, _ = sess.run([model.loss, \n",
    "                                                 model.final_state, \n",
    "                                                 model.optimizer], \n",
    "                                                 feed_dict=feed)\n",
    "        \n",
    "            \n",
    "            end = time.time()\n",
    "            if counter%print_loss_every_n == 0:\n",
    "                val_batches = get_batches(encoded_val,int(len(encoded_val)/num_steps),num_steps)\n",
    "                x_val,y_val = next(val_batches)\n",
    "                \n",
    "                val_dict = {model.inputs: x_val,\n",
    "                            model.targets: y_val,\n",
    "                            model.keep_prob: 1,\n",
    "                            model.initial_state: new_state}\n",
    "                \n",
    "                val_loss,prediction = sess.run([model.loss,model.prediction],feed_dict=val_dict)\n",
    "                \n",
    "                losses[\"train\"].append(batch_loss)\n",
    "                losses[\"validation\"].append(val_loss)\n",
    "                \n",
    "                \n",
    "                global_step = tf.train.global_step(sess,model.global_step_tensor)\n",
    "                x_steps.append(global_step)\n",
    "                \n",
    "                print('Epoch: {}/{}... '.format(e+1, epochs),\n",
    "                      'Training Step: {}... '.format(global_step),\n",
    "                      'Training loss: {:.4f}... '.format(batch_loss),\n",
    "                      'Val loss: {:.4f}... '.format(val_loss),\n",
    "                      '{:.4f} sec/batch'.format((end-start)))\n",
    "        \n",
    "            if (counter % save_every_n == 0):\n",
    "                global_step = tf.train.global_step(sess,model.global_step_tensor)\n",
    "                saver.save(sess, \"checkpoints/m{}_i{}_l{}.ckpt\".format(mode,global_step, lstm_size))\n",
    "                \n",
    "            counter += 1\n",
    "        \n",
    "        epoch_end = time.time()\n",
    "        \n",
    "        \n",
    "        if ((e+1) % print_epoch_time_every== 0):\n",
    "            print('Epoch {}/{} time:{}...'.format(e+1,epochs,epoch_end-epoch_start),\n",
    "                 \" finished at\",strftime(\"%Y-%m-%d %H:%M:%S\", localtime()))\n",
    "        \n",
    "            \n",
    "    global_step = tf.train.global_step(sess,model.global_step_tensor)\n",
    "    saver.save(sess, \"checkpoints/m{}_i{}_l{}.ckpt\".format(mode,global_step, lstm_size))\n",
    "    \n",
    "print(\"Training ending at time:\",strftime(\"%Y-%m-%d %H:%M:%S\", localtime()))\n",
    "print(\"Trainint total time:\",time.time()-train_start_time)"
   ]
  },
  {
   "cell_type": "code",
   "execution_count": 32,
   "metadata": {},
   "outputs": [
    {
     "data": {
      "image/png": "[encoded data removed]",
      "text/plain": [
       "<matplotlib.figure.Figure at 0x7f63aae2ce80>"
      ]
     },
     "metadata": {
      "image/png": {
       "height": 250,
       "width": 370
      }
     },
     "output_type": "display_data"
    }
   ],
   "source": [
    "plt.plot(x_steps,losses[\"train\"],label=\"Train loss\")\n",
    "plt.plot(x_steps,losses[\"validation\"],label=\"Validation loss\")\n",
    "plt.legend()\n",
    "_ = plt.ylim()"
   ]
  },
  {
   "cell_type": "markdown",
   "metadata": {},
   "source": [
    "#### Saved checkpoints\n",
    "\n",
    "Read up on saving and loading checkpoints here: https://www.tensorflow.org/programmers_guide/variables"
   ]
  },
  {
   "cell_type": "code",
   "execution_count": 33,
   "metadata": {
    "collapsed": true
   },
   "outputs": [],
   "source": [
    "checkpoints = tf.train.get_checkpoint_state('checkpoints')"
   ]
  },
  {
   "cell_type": "markdown",
   "metadata": {},
   "source": [
    "## Sampling final trained model\n",
    "\n",
    "Now that the network is trained, we'll can use it to generate new text. The idea is that we pass in a character, then the network will predict the next character. We can use the new one, to predict the next one. And we keep doing this to generate all new text. I also included some functionality to prime the network with some text by passing in a string and building up a state from that.\n",
    "\n",
    "The network gives us predictions for each character. To reduce noise and make things a little less random, I'm going to only choose a new character from the top N most likely characters.\n",
    "\n"
   ]
  },
  {
   "cell_type": "code",
   "execution_count": 34,
   "metadata": {
    "collapsed": true
   },
   "outputs": [],
   "source": [
    "def sample(checkpoint, n_samples, lstm_size, vocab_size, prime=\"The \",mode=\"characters\"):\n",
    "    print(mode)\n",
    "    samples = tokenize_text(prime,mode)\n",
    "    model = CharRNN(len(vocab), lstm_size=lstm_size, sampling=True)\n",
    "    saver = tf.train.Saver()\n",
    "    with tf.Session() as sess:\n",
    "        saver.restore(sess, checkpoint)\n",
    "        new_state = sess.run(model.initial_state)\n",
    "        for c in tokenize_text(prime,mode):\n",
    "            x = np.zeros((1, 1))\n",
    "            x[0,0] = vocab_to_int[c]\n",
    "            feed = {model.inputs: x,\n",
    "                    model.keep_prob: 1.,\n",
    "                    model.initial_state: new_state}\n",
    "            preds, new_state = sess.run([model.prediction, model.final_state], \n",
    "                                         feed_dict=feed)\n",
    "\n",
    "        c = pick_top_n(preds, len(vocab))\n",
    "        samples.append(int_to_vocab[c])\n",
    "\n",
    "        for i in range(n_samples):\n",
    "            x[0,0] = c\n",
    "            feed = {model.inputs: x,\n",
    "                    model.keep_prob: 1.,\n",
    "                    model.initial_state: new_state}\n",
    "            preds, new_state = sess.run([model.prediction, model.final_state], \n",
    "                                         feed_dict=feed)\n",
    "\n",
    "            c = pick_top_n(preds, len(vocab))\n",
    "            samples.append(int_to_vocab[c])\n",
    "        \n",
    "    return ''.join(samples).replace(\"new_line_token\",\"\\n\")"
   ]
  },
  {
   "cell_type": "markdown",
   "metadata": {},
   "source": [
    "Here, pass in the path to a checkpoint and sample from the network."
   ]
  },
  {
   "cell_type": "code",
   "execution_count": 35,
   "metadata": {},
   "outputs": [
    {
     "data": {
      "text/plain": [
       "'checkpoints/mwords_i40501_l512.ckpt'"
      ]
     },
     "execution_count": 35,
     "metadata": {},
     "output_type": "execute_result"
    }
   ],
   "source": [
    "tf.train.latest_checkpoint('checkpoints')"
   ]
  },
  {
   "cell_type": "markdown",
   "metadata": {},
   "source": [
    "## Generate new text from \"base\" text"
   ]
  },
  {
   "cell_type": "code",
   "execution_count": 36,
   "metadata": {},
   "outputs": [
    {
     "name": "stdout",
     "output_type": "stream",
     "text": [
      "words\n",
      "INFO:tensorflow:Restoring parameters from checkpoints/mwords_i40501_l512.ckpt\n",
      "words\n",
      "INFO:tensorflow:Restoring parameters from checkpoints/mwords_i40501_l512.ckpt\n",
      "words\n",
      "INFO:tensorflow:Restoring parameters from checkpoints/mwords_i40501_l512.ckpt\n",
      "words\n",
      "INFO:tensorflow:Restoring parameters from checkpoints/mwords_i40501_l512.ckpt\n",
      "words\n",
      "INFO:tensorflow:Restoring parameters from checkpoints/mwords_i40501_l512.ckpt\n",
      "words\n",
      "INFO:tensorflow:Restoring parameters from checkpoints/mwords_i40501_l512.ckpt\n",
      "words\n",
      "INFO:tensorflow:Restoring parameters from checkpoints/mwords_i40501_l512.ckpt\n",
      "words\n",
      "INFO:tensorflow:Restoring parameters from checkpoints/mwords_i40501_l512.ckpt\n",
      "words\n",
      "INFO:tensorflow:Restoring parameters from checkpoints/mwords_i40501_l512.ckpt\n",
      "words\n",
      "INFO:tensorflow:Restoring parameters from checkpoints/mwords_i40501_l512.ckpt\n",
      "words\n",
      "INFO:tensorflow:Restoring parameters from checkpoints/mwords_i40501_l512.ckpt\n",
      "words\n",
      "INFO:tensorflow:Restoring parameters from checkpoints/mwords_i40501_l512.ckpt\n",
      "words\n",
      "INFO:tensorflow:Restoring parameters from checkpoints/mwords_i40501_l512.ckpt\n",
      "words\n",
      "INFO:tensorflow:Restoring parameters from checkpoints/mwords_i40501_l512.ckpt\n",
      "words\n",
      "INFO:tensorflow:Restoring parameters from checkpoints/mwords_i40501_l512.ckpt\n",
      "words\n",
      "INFO:tensorflow:Restoring parameters from checkpoints/mwords_i40501_l512.ckpt\n"
     ]
    }
   ],
   "source": [
    "\n",
    "checkpoint = tf.train.latest_checkpoint('checkpoints')\n",
    "\n",
    "\n",
    "samples = list()\n",
    "for text in text_to_try:\n",
    "    #print(\"------------------------\",text)\n",
    "    samples.append( sample(checkpoint, 500, lstm_size, len(vocab), prime=text,mode=mode))\n",
    "    #print(samp)\n",
    "    #print(\"------------------------\")"
   ]
  },
  {
   "cell_type": "code",
   "execution_count": 37,
   "metadata": {},
   "outputs": [
    {
     "name": "stdout",
     "output_type": "stream",
     "text": [
      "------------------------ In the first place\n",
      "In the first place he had left to his right supply at the camp he made him to the camp and he wished it at the camp. It was a bad deal with the brooding or place, and the horned ones would glean to the Old Ones and the Great Ones. They could see, they would have come to the gods. They have been seen in their corners and unknown and incredible toughness, and must have been seen in human things.\n",
      "\n",
      "I had seen to go down to the great world and made the Voorish way and drag the north of Ibn VII.\n",
      "“That of Obed has told away of them had to come, and the folks of the men is a bad and thar; but they are it was like the kind o’ mushy stuff in a little junction. That I had done got things and pa to git off the big o’ the folks like the taown of ’’ then what a queer folks fer abaout when wa’n’t come out o’ dyin’ fer an’ ’’, an’ openin he ben abaout’n’n jest in an, Obed fer fust an’ jine naow. He got shet whar. I was that they had come. They cud git an Whateley folks in anem ’ hez like it in all them, an’ . haff on the graoun . . . Sawyer I have a few abaout to hear they had done\n",
      "------------------------\n",
      "------------------------ the night before\n",
      "the night before the other trap-door of the old man, and never knew to do that he had never ever visited. I would not be to get the trip for a few or the horde of meat and fly inward on the Great Abyss and had the other gods as. He could tell it is the matter in that the city of the world of dreamland for horror in the cold waste wherein the earth was beyond the marvellous city. There were something, too, for the terrible tales of their Old Ones; and he did not tell what they had never heard of earth’s dreamland. And they had seen the Great Ones’ but it is no longer that planet is their beings ever ever seen.\n",
      "“Easier in gods, the marvellous city will have one they have seen so in their own world, but I knew it to find a queer world of the gods atop Kadath for that night in sight could, the Old Ones had ever come of them. He had never seen many years before, but would do no doubt to the gods. He would have not been more than any things in earth. The gods, and their beings had never been lost when they had been seen to see him; since the men were born in that things are dreaming and tell that the city is not to be in what they can tell you can.\n",
      "“It will be\n",
      "------------------------\n",
      "------------------------ horror\n",
      "horror the whole time in the most office.\n",
      "\n",
      "The next morning was gone at last, after a second moment, the key on the whole road, and the hapless, maddening fear had evidently seen for the longevity. The men, and were the most thing for one could ever be heard or more than the Outer Race’s, but have ever ever heard; but the man had ever been seen on their borders; and the sense of contiguous correlation had never been used to the same state. We had explained, and in that the first one had been been drawn to cross the godlike residue and fishily him. He the of Akeley could not to be thought  ’ who could come to find his own friend; but it was very bad; but it was much more than the newer people, but I felt a sense of perverse or not unknown things; and then had been silent and blasted or before it. It is  ; the limits which he had not much of my own knowledge and call I have seen to do to do in. . I was sure. I think I think to know the visitors, but it was more like a matter in genuine things. He had never seen the picture of this things he had seen my own hand. I had not even it to do for any time for the place in my way to go up\n",
      "------------------------\n",
      "------------------------ creature\n",
      "creature the last time of the house which had been reached the first; but he could not help a single glimpse of their disreputably paws . \n",
      "I thought of a very great and heavier people of this, I did not at my own moment, but I felt that I would find a sense of motion in the direction and I could not help my guess.\n",
      "I had no chance was.\n",
      "I felt that the phonograph record, and I had to find it in my mind to get a terrible fears. Isolated as I had said in the house to the house and looked out in the house. I did not hear the kodak record, but he could hear the kodak thing as if I could not be. It was now I know, and I think that I have never heard the thing I had seen before before it. It would have be seen that I heard of the old city. I know that I had told them? I am not at my own place. I think it would have been out of my mind; but I am better ashamed can get to think you. It is horrible—don and ye know to you to describe. I know you do you think that I think you to tell with what of you will do for any time.\n",
      "My own record I have told the thing you will tell you to do to get up\n",
      "------------------------\n",
      "------------------------ night\n",
      "night the whole man was not. It was not a sort to man at the moment I felt the picture of the old house and his present.\n",
      "The next morning, I realised that I had come to do the new horror of horror in the midst of my own and sinister pinnacles against its realms.\n",
      "\n",
      "It must have been credited as I could make, for it would be turned a curious deal in my way for I can not help what I could not tell it. If the worst I cannot help describe, I will be sure that I can tell them. I wish’t think of you know how more. I am sure I could not have better to do it. If I can do how you you you will hear my way on the world of my own house for the phonograph record with the kodak thing. He had ever tell it in the Innsmouth.\n",
      "But I saw that they was seen to hear, and I know they think of the earth’s a-callin’ a place arter his way for the  ’s Gilman Whateley nothin. He heerd aout o’ Obed naow, but’ an folks aout, with a big lot fer the taown like the taown to God’ aout abaout’ the’things jest at poor ud calc mixin. folks got them’ with an hoppin’ araoun’ taown offen Obed, an Whateley ’’ aout’ ’’ aout \n",
      "------------------------\n",
      "------------------------ dream\n",
      "dream and be the first kitten in the midst of the well of Curwen had been long in the Middle. Graveyards had been been him. The stoutest albino Ones them and the men was in sight of the earth, and had been a few or fifteen million million years ago. I found the first picture who had been stumbled from his brain in my dreams of  . , and as a queer man would have been seen in a mouthful of young earth's old grandfather, and curious symbols on the errands had in the house of the Great Race. It was very difficult to see, and the Great Race had been one of those or abnormal than them’s other things. In the end of this planet’s place was given back by certain things; but at this moment there was a very sign and transient things that it had ever had been been away. In the midst of my own torch at the last office with the town I had lately heard once heard in the room which he had a single deal of horror as the Outer Ones, so and have ever killed at the world of the elder elder secrets and subterrene dreamland. But the things were about them as they had it could be done and what was in sight. Then the dreams of this things had been told him, but he was a terrible man of his own friend\n",
      "------------------------\n",
      "------------------------ thing\n",
      "thing I had no doubt to be seen from the old world who had seen dwelled and caper, and saw the great thing were not much as be on the harbour in their unknown dreamland. They did not hesitate, however, whether what had ever had told were older and to the black city that the Great Ones have seen to relay of.\n",
      "\n",
      "It is that brightest godless known to that they are the crawling chaos Nyarlathotep on the Great Ones atop aught on Kadath, but Carter was all they have all the queer? They cannot know the city of the world they know that it would have been long and ever had seen the mountains of their own. They had seen they heard them in the earth of the gods had seen him on their sunset, for the thing might be seen of their own life. He had given a kind of molecular impressions—impressions that had lived out, and on a large deal’s map it was not turn the more than the blasted. The man was very less than all they had seen and the Great Ones at least and marvellous their allies to any others, for this was not to think they would be seen. The man were now who have told the great race of their own things and dreamland. And in their shantak who had hungrily their slain and piping up and the curious a curious woods, and even\n",
      "------------------------\n",
      "------------------------ That night\n",
      "That night he had come to leave the trip which he had been glibly at the house of his life grandfather. They were out them, and they could have done their earth in their gods, hence they found them to them and abnormal gods. They did not get the island to seek the gods which had not have heard them on the dark which they had ever described. The captain and now they saw it to be a sort of dark familiarity and out the  ’ blasted n it was like by a kind of a native gods and plates of the own waste. Then the gods of the Great Ones had Nyarlathotep. They were shaped for their fellows in the Great Ones he had seen shaped in their island, but they did not know that it. If the things was not more than they could not be able. They know them they are seen in the gods, but it was no good as we could go at the time that they had left it to the gods of the gods had seen the crawling waste Nyarlathotep.\n",
      "It was the same time to be seen a very black city of the old, and Carter had never found a chance to visit it. He had not been been to this people at the place in the end of the place he had seen before. They were not seen, and had come to the earth and \n",
      "------------------------\n",
      "------------------------ mountain\n",
      "mountain I never not think of the old. It was not that the thing were ever heard of earth, but it had been seen in that old world he had never. There were very queer, though he would not have been able to get out the ladder, but for it he had never dared not do it had never had been the other days. They was not too, but not to be at any thing of any human race. For this time I could not go to do the phonograph thing of what old man, as you will do for all you to get them. If it will be better to do that will say you can be better to tell how that the Outer Ones have seen it come to be. It is not that be been too enough to be sure that it is not much of any things or any human beings for human people in the matter of life when we can tell them from them with a kind of exaltation and common?“But, I am queerly scared them’s human things. They have been gone and usual back to the car he told the Vermont depths. They can know no old beings on the earth’s dreamland in the sea at the rim; but that he had gone and the Great Ones it is too than to think on the protecting world in reality to the beings other and\n",
      "------------------------\n",
      "------------------------ Ammi\n",
      "Ammi I never to be on the room.\n",
      "\n",
      "I now felt the note of the old voice had not gone at least; but,\n",
      "and the rest had been so enough for not use it in the case of our own personality for attracting than. It was was much in the matter that I had not do to do. I know that I must have done the place to go down the road, but it was to do that I saw that they would be better in the earth, and all the things of those things like them. But I can have come up the things in those kind of extra-cosmic life as sech things, as if they ought to have left them the thrones reassuring.\n",
      "\n",
      "But I have said I heard a long thing to see, but it was a fake and horrible life.\n",
      "The rest of those had been right, but they had been seen to think of the things’ since the old man would be like him to take them as if he could. You think was the same man. It was a bad business, and I had told the folks of the folks of his wife and told me?\n",
      "But I think that I had seen it was too to be out of a kind of half-human creatures and.\n",
      "“What was aout of the things they had seen on what folks on them. They saw them there \n",
      "------------------------\n",
      "------------------------ Cthulhu\n",
      "Cthulhu and once, in course, to be a very remarkable nature in the surrounding nature. In this period I saw a book to summon the voice had not so much; and the sense of old things had not been heard to warrant the normal, the least the marvellous thing in the same time which they had learned.\n",
      "\n",
      "There was a matter the scene, and I must have dreamed there would not the task of my own life. The youth was not known to do in any terrible; but the man was stronger or militia could conceive the whole place.\n",
      "“I shall say you do to do it. It is that this thing, for all things in the college world, and even the record of them was now. You can tell you what I know that there was very little things, but you can’t see what they can. They are seen the gods of ’ --but they can do for a kind; and I am. I think of the abruptness of the folks of the record of folklore like up. Was thar up, my own it is more than what I saw it. You, therefore, it was, but the old man had ever heard the phonograph record; but it was not to do in any time. It is a good deal of what he had gone; for this day were more enough in all this time, \n",
      "------------------------\n",
      "------------------------ raven\n",
      "raven a few thing he, or the same point of his own eyes in the rear city in the town beside me as a few or the feet before. The whole man was now far in the rear of the city and hampered its footfalls attacks -- the hideous and which a osseous lingering tribes to the diagnosis, and had the same man who saw the name of Joseph Curwen had noted, Joseph Curwen was reputed to be seen in strange and had seen in the woods. And of the strange tool-sheds are to be laughed, and he spoke of an Whateley who heard them they could tell, but it was a very kind of the gods. He did not hear the queer stone; and I saw his fear with fear and he saw his way. He was a curious picture, and he had heard at least times on the dark side.\n",
      "It was a great deal of the old man, which he saw the bungalow of the bungalow and, but he had come from the house of his wife in his quest, for the picture in his library. He was a curious boy, and it was a kind of formulae, and the doctor could not have been a man or more. His father were now seen? It was, too that he had not seen; and he had never seen he had seen at all he had seen it was a\n",
      "------------------------\n",
      "------------------------ bird\n",
      "bird the old man had been seen, so, and the whole thing would have been been than for one of the old world's party of the camp they had not seen. The Old Ones had been seen in the gloaming of the town; and he had in curious blocks in the woods, and that he could not be sure. He would not help the gods have been for the sceptical of course in the midst, as when he was fully close before what I have heard them had seen him on a very horrible odour. They had, though the butler had been seen before him, and had not left the first part of his wife. He had to be seen for his mother, for he knew he had been to learn at the time of the night, and wishing to draw the terrible hand with the monstrous tension and his son eye on the house, he had not the old deal of the old man.\n",
      "\n",
      "The house had been abandoned before his son, who had tried it would not him to his parents had been for a mouthful; but the doctor had come to a very sort of febrile query as they was he was able to see the keenest old and old man on his face. His friend, he knew that he had come to the old old house that he had been heard in his hand. He had gone\n",
      "------------------------\n",
      "------------------------ nevermore\n",
      "nevermore a first man, and the most consistent maw could ever know with the Great Race and all one Old Ones. They had seen them at the house, but they had never seen to tell, but the things had ever seen them. They were like that they had seen before? They could not be seen that the blasted heath was ever like a matter of that man was about the Great Ones in his own mood; for what had come on his house was too much in the kind; and even it will be too much than it. If it. Ex nihilo nihil them, I can’t go any than they would have come from the earth. They are a great deal of those things on their earth, but even they had ever come to do that one of the gods’s gods, their own things, but the gods would be ready. But you will be know that I had come on Innsmouth.\n",
      "“Wal --, you! And the thing that thing has come from your Innsmouth?”\n",
      "\n",
      "’ . . . . . . . .”\n",
      "\n",
      "\n",
      "The “, . . . . .”\n",
      "But .”\n",
      "\n",
      "(. .\n",
      "\n",
      "(SEVERAL)) VOICES and ONCE IN SPEECH)\n",
      "\n",
      "(MANY FOOTSTEPS, INCLUDING THE PECULIAR LOOSE STIRRING))\n",
      "\n",
      ") . \n",
      " . . .\n",
      "\n",
      "It was a time in that afternoon as he had told it’s place is \n",
      "------------------------\n",
      "------------------------ dead\n",
      "dead a Sime of the strange speech-producer. He now said a few and insisted had wholly slain; whilst in a second a few time it had gone to be in the same place. They had been seen in this workmen, and had had seen them in the picture of the world who had never seen before before, and the whole merchant was all in a kind of likeness to any final place since the world of madness in the Great Ones’s gods, but their clues. He would be seen in all men to the earth, and when it was the little sense would be quite less than the creatures of the Great Ones had been gone on by the blasted heath. They had been a sort of timbre that men, and in their fear of his own friend, he had never found, but it was not that it might be described. They did not pause that this men would be found with all strange importance, but if it was in a native of England. Then he had not much of them on the world of the house. But the outcome had been gone, and at first the entire record was a very man, or the old man had been lost him on the picture that he had come at the time. It was a great deal of the great stone city, and the foreigners were quite anxious to tell it. \n",
      "------------------------\n",
      "------------------------ The bird\n",
      "The bird was, and I saw that the whole trap-door was left. They now saw a great phosphorescence of his face had fallen and his right, and the ship was able to get up off. But it, he did not see that he must have been the picture of his own quest, for his friend would not help enough to make the rest of the night. They did not know, however, that they had come to find that city and night-gaunts had come on the city. They knew them they would be back to be the likeness to the rest of those Kadath, but they had never have been seen since the man would be the same man. He had been a horse on the house to seek about the slope, and that they had seen to come in the cold waste as the gods would be seen. It was too a great wind and the moon in the same moment, when he was glad to keep out of the old world and blasted traffick of those things and brooding races of earth whose abodes and like the queer of those places; and Carter never know that he was to sleep. It was that that he could not; the gods would be have been to be in them as they could not have done the earth’s camp. They were had gone, but he did not know the city of those things which\n",
      "------------------------\n"
     ]
    }
   ],
   "source": [
    "for i in range(len(text_to_try)):\n",
    "    text = text_to_try[i]\n",
    "    generated = samples[i]\n",
    "    print(\"------------------------\",text)\n",
    "    print(generated)\n",
    "    print(\"------------------------\")"
   ]
  },
  {
   "cell_type": "code",
   "execution_count": 38,
   "metadata": {},
   "outputs": [
    {
     "data": {
      "text/plain": [
       "model_checkpoint_path: \"checkpoints/mwords_i40501_l512.ckpt\"\n",
       "all_model_checkpoint_paths: \"checkpoints/mwords_i38501_l512.ckpt\"\n",
       "all_model_checkpoint_paths: \"checkpoints/mwords_i39001_l512.ckpt\"\n",
       "all_model_checkpoint_paths: \"checkpoints/mwords_i39501_l512.ckpt\"\n",
       "all_model_checkpoint_paths: \"checkpoints/mwords_i40001_l512.ckpt\"\n",
       "all_model_checkpoint_paths: \"checkpoints/mwords_i40501_l512.ckpt\""
      ]
     },
     "execution_count": 38,
     "metadata": {},
     "output_type": "execute_result"
    }
   ],
   "source": [
    "tf.train.get_checkpoint_state('checkpoints')"
   ]
  },
  {
   "cell_type": "code",
   "execution_count": null,
   "metadata": {
    "collapsed": true
   },
   "outputs": [],
   "source": []
  }
 ],
 "metadata": {
  "kernelspec": {
   "display_name": "Python 3",
   "language": "python",
   "name": "python3"
  },
  "language_info": {
   "codemirror_mode": {
    "name": "ipython",
    "version": 3
   },
   "file_extension": ".py",
   "mimetype": "text/x-python",
   "name": "python",
   "nbconvert_exporter": "python",
   "pygments_lexer": "ipython3",
   "version": "3.6.1"
  }
 },
 "nbformat": 4,
 "nbformat_minor": 2
}
