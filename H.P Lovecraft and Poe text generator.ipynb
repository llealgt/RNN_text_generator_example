{
 "cells": [
  {
   "cell_type": "markdown",
   "metadata": {},
   "source": [
    "# Recurrent neural networks for H.P Lovecraft text generation\n",
    "\n",
    "\"The color out of space\" is one of my favorite tales from Lovecraft, i will use it(as well as others as the call of cthulhu) to create a recurrent neural network in tensorflow that learns his style and generates new text in his style\n",
    "\n",
    "This network is based off of Andrej Karpathy's [post on RNNs](http://karpathy.github.io/2015/05/21/rnn-effectiveness/) and [implementation in Torch](https://github.com/karpathy/char-rnn) and an example from \"Deep Learning Nanodegree\" on udacity. Also, some information [here at r2rt](http://r2rt.com/recurrent-neural-networks-in-tensorflow-ii.html) and from [Sherjil Ozair](https://github.com/sherjilozair/char-rnn-tensorflow) on GitHub. \n",
    "\n",
    "## General architecture using \"Long short term memory\" units in the recurrent layers\n",
    "\n",
    "<img src=\"assets/charseq.jpeg\" width=\"500\">"
   ]
  },
  {
   "cell_type": "code",
   "execution_count": 1,
   "metadata": {},
   "outputs": [],
   "source": [
    "%matplotlib inline\n",
    "%config InlineBackend.figure_format = 'retina'"
   ]
  },
  {
   "cell_type": "code",
   "execution_count": 2,
   "metadata": {},
   "outputs": [],
   "source": [
    "import time\n",
    "from collections import namedtuple\n",
    "\n",
    "import numpy as np\n",
    "import tensorflow as tf\n",
    "from nltk.tokenize import word_tokenize\n",
    "import nltk\n",
    "import itertools\n",
    "import matplotlib.pyplot as plt\n",
    "from time import gmtime, strftime ,localtime"
   ]
  },
  {
   "cell_type": "code",
   "execution_count": 3,
   "metadata": {},
   "outputs": [],
   "source": [
    "# Run only the  first time nltk is used to download language\n",
    "#nltk.download()"
   ]
  },
  {
   "cell_type": "markdown",
   "metadata": {},
   "source": [
    "### Define conf variables and hyper parameteters "
   ]
  },
  {
   "cell_type": "code",
   "execution_count": 74,
   "metadata": {
    "collapsed": true
   },
   "outputs": [],
   "source": [
    "mode = \"words\" #characters or words\n",
    "\n",
    "epochs = 15\n",
    "batch_size = 100       # Sequences per batch\n",
    "num_steps = 50         # Number of sequence steps per batch\n",
    "lstm_size = 512         # Size of hidden layers in LSTMs\n",
    "num_layers = 2          # Number of LSTM layers\n",
    "learning_rate = 0.0001    # Learning rate\n",
    "keep_prob = 0.15       # Dropout keep probability\n",
    "\n",
    "resume_from_checkpoint = True"
   ]
  },
  {
   "cell_type": "markdown",
   "metadata": {},
   "source": [
    "### Define base text\n",
    "Once trained ,the network can take base text and a sequence size and generate new text using base text as first characters in the sequence. For every element in base text wi will create a list that will store generated text as training goes, to be able to compare results between steps"
   ]
  },
  {
   "cell_type": "code",
   "execution_count": 40,
   "metadata": {
    "collapsed": true
   },
   "outputs": [],
   "source": [
    "text_to_try = [\"In the first place\",\"the night before\",\"horror\",\"creature\",\"night\",\"dream\",\"thing\",\"That night\",\"mountain\",\"Ammi\",\"Cthulhu\",\"raven\",\"bird\",\"nevermore\",\"dead\",\"The bird\"]"
   ]
  },
  {
   "cell_type": "markdown",
   "metadata": {},
   "source": [
    "#### Function that separates text into tokens(for whitespace characters, only new line is implemented, missing tabs and others="
   ]
  },
  {
   "cell_type": "code",
   "execution_count": 41,
   "metadata": {},
   "outputs": [
    {
     "data": {
      "text/plain": [
       "['Hello',\n",
       " ',',\n",
       " ' ',\n",
       " 'my',\n",
       " ' ',\n",
       " 'name',\n",
       " ' ',\n",
       " 'is',\n",
       " ' ',\n",
       " 'Luis',\n",
       " ' ',\n",
       " 'Leal',\n",
       " '!',\n",
       " 'new_line_token',\n",
       " 'new_line_token',\n",
       " 'From',\n",
       " ' ',\n",
       " 'Guatemala',\n",
       " ' ']"
      ]
     },
     "execution_count": 41,
     "metadata": {},
     "output_type": "execute_result"
    }
   ],
   "source": [
    "def tokenize_by_words(text):\n",
    "    text = text.replace(\"\\n\",\" new_line_token \")\n",
    "    tokens = []\n",
    "    splitted =[[word_tokenize(w),' ']for w in text.split()]\n",
    "    splitted = list(itertools.chain(*list(itertools.chain(*splitted))))\n",
    "    \n",
    "    token_list = []\n",
    "    i = 0\n",
    "    while i < len(splitted):\n",
    "        if splitted[i] == \"new_line_token\":\n",
    "            if   token_list[-1]==\" \":\n",
    "                token_list[-1] = splitted[i]\n",
    "            else:\n",
    "                token_list.append(splitted[i])\n",
    "            i+=1\n",
    "        else:\n",
    "            token_list.append(splitted[i])\n",
    "        i+=1\n",
    "    \n",
    "    return token_list\n",
    "\n",
    "def tokenize_by_characters(text):\n",
    "    return list(text)\n",
    "\n",
    "def tokenize_text(text,mode=\"characters\"):\n",
    "    if mode == \"characters\":\n",
    "        return tokenize_by_characters(text)\n",
    "    elif mode == \"words\":\n",
    "        return tokenize_by_words(text)\n",
    "    \n",
    "tokenize_text(\"Hello, my name is Luis Leal!\\n\\nFrom Guatemala\",mode)\n",
    "#tokenize_text(\"Hello, my name is Luis Leal!\\n\\nFrom Guatemala\",\"words\")\n"
   ]
  },
  {
   "cell_type": "markdown",
   "metadata": {},
   "source": [
    "First we'll load the text file and convert it into integers for our network to use. Here I'm creating a couple dictionaries to convert the characters to and from integers. Encoding the characters as integers makes it easier to use as input in the network."
   ]
  },
  {
   "cell_type": "code",
   "execution_count": 42,
   "metadata": {
    "collapsed": true
   },
   "outputs": [],
   "source": [
    "with open('corpus.txt', 'r') as f:\n",
    "    text=f.read()"
   ]
  },
  {
   "cell_type": "code",
   "execution_count": 43,
   "metadata": {
    "collapsed": true
   },
   "outputs": [],
   "source": [
    "vocab = set(tokenize_text(text,mode))\n",
    "vocab_to_int = {c: i for i, c in enumerate(vocab)}\n",
    "int_to_vocab = dict(enumerate(vocab))"
   ]
  },
  {
   "cell_type": "markdown",
   "metadata": {},
   "source": [
    "### Get a little portion of text for validation"
   ]
  },
  {
   "cell_type": "code",
   "execution_count": 44,
   "metadata": {
    "collapsed": true
   },
   "outputs": [],
   "source": [
    "tokenized_text = tokenize_text(text,mode)\n",
    "encoded_dataset = np.array([vocab_to_int[c] for c in tokenized_text if c in vocab_to_int], dtype=np.int32)"
   ]
  },
  {
   "cell_type": "code",
   "execution_count": 45,
   "metadata": {
    "collapsed": true
   },
   "outputs": [],
   "source": [
    "validation_size = batch_size * num_steps #create a single baty\n",
    "validation_start_index = len(encoded_dataset) - validation_size\n",
    "\n",
    "encoded = encoded_dataset[:validation_start_index]\n",
    "encoded_val = encoded_dataset[validation_start_index:]"
   ]
  },
  {
   "cell_type": "code",
   "execution_count": 46,
   "metadata": {},
   "outputs": [
    {
     "name": "stdout",
     "output_type": "stream",
     "text": [
      " occurred to our philosophers that a laudable curiosity might be gratified, and, at the same time, the interests of science much advanced, by living this natural term in installments. In the case of history, indeed, experience demonstrated that something of this kind was indispensable. An historian\n"
     ]
    }
   ],
   "source": [
    "def encoded_to_text(encoded):\n",
    "    return \"\".join([int_to_vocab[number] for number in encoded])\n",
    "\n",
    "print(encoded_to_text(encoded_val[0:100]))"
   ]
  },
  {
   "cell_type": "code",
   "execution_count": 47,
   "metadata": {
    "collapsed": true
   },
   "outputs": [],
   "source": [
    "val_text =encoded_to_text(encoded_val)\n",
    "text = encoded_to_text(encoded)"
   ]
  },
  {
   "cell_type": "markdown",
   "metadata": {},
   "source": [
    "Let's check out the first 100 characters of train and validation, make sure everything is peachy.  line of a book ever."
   ]
  },
  {
   "cell_type": "code",
   "execution_count": 48,
   "metadata": {},
   "outputs": [
    {
     "data": {
      "text/plain": [
       "'THE COLOUR OUT OF SPACEnew_line_tokennew_line_tokenWest of Arkham the hills rise wild, and there are'"
      ]
     },
     "execution_count": 48,
     "metadata": {},
     "output_type": "execute_result"
    }
   ],
   "source": [
    "text[:100]"
   ]
  },
  {
   "cell_type": "code",
   "execution_count": 49,
   "metadata": {},
   "outputs": [
    {
     "data": {
      "text/plain": [
       "' occurred to our philosophers that a laudable curiosity might be gratified, and, at the same time, t'"
      ]
     },
     "execution_count": 49,
     "metadata": {},
     "output_type": "execute_result"
    }
   ],
   "source": [
    "val_text[:100]"
   ]
  },
  {
   "cell_type": "markdown",
   "metadata": {},
   "source": [
    "And we can see the characters encoded as integersin both train and validation"
   ]
  },
  {
   "cell_type": "code",
   "execution_count": 50,
   "metadata": {},
   "outputs": [
    {
     "data": {
      "text/plain": [
       "array([18807,  8219, 17188,  8219,  3006,  8219,  5226,  8219, 19968,\n",
       "       28186, 28186,  8666,  8219,  8382,  8219,  2882,  8219, 26062,\n",
       "        8219, 12184,  8219, 12880,  8219,  4196, 21748,  8219, 24822,\n",
       "        8219, 26937,  8219,  1636,  8219,  2632,  8219, 10345,  8219,\n",
       "        6091,  8219, 28230,  8219,  4213,  8219,  3825,  8219, 16131,\n",
       "        8219,  3841,  8219, 25736,  8219, 21112,  8264,  8219, 14789,\n",
       "        8219,  1636,  8219, 15592,  8219, 18817,  8219, 11463,  8219,\n",
       "        3742,  8219, 26062,  8219, 17376,  8219, 18569,  8219,  1104,\n",
       "       21748,  8219, 24822,  8219,  3742,  8219, 22212,  8219,   567,\n",
       "        8219, 25013,  8219,  8603,  8219, 25736,  8219, 18195,  8219,\n",
       "        4700,  8219, 26062,  8219, 18698,  8219,  8382,  8219, 17245,  8264], dtype=int32)"
      ]
     },
     "execution_count": 50,
     "metadata": {},
     "output_type": "execute_result"
    }
   ],
   "source": [
    "encoded[:100]"
   ]
  },
  {
   "cell_type": "code",
   "execution_count": 51,
   "metadata": {},
   "outputs": [
    {
     "data": {
      "text/plain": [
       "array([ 8219, 18674,  8219, 22564,  8219, 21369,  8219, 25473,  8219,\n",
       "        4213,  8219,  4904,  8219, 19184,  8219,  1780,  8219,  1785,\n",
       "        8219, 26000,  8219,  9762, 21748,  8219, 24822, 21748,  8219,\n",
       "        1169,  8219, 26062,  8219, 21614,  8219,  1817, 21748,  8219,\n",
       "       26062,  8219,  3076,  8219,  8382,  8219, 22185,  8219,  6147,\n",
       "        8219,  7445, 21748,  8219, 11413,  8219,  3572,  8219, 24884,\n",
       "        8219, 11713,  8219, 14685,  8219, 20084,  8219, 13790,  8264,\n",
       "        8219, 23094,  8219, 26062,  8219, 19523,  8219,  8382,  8219,\n",
       "       17279, 21748,  8219,  4644, 21748,  8219,  5490,  8219,   785,\n",
       "        8219,  4213,  8219,  9398,  8219,  8382,  8219, 24884,  8219,\n",
       "       28320,  8219,  7822,  8219,  8472,  8264,  8219, 28229,  8219,  5745], dtype=int32)"
      ]
     },
     "execution_count": 51,
     "metadata": {},
     "output_type": "execute_result"
    }
   ],
   "source": [
    "encoded_val[0:100]"
   ]
  },
  {
   "cell_type": "markdown",
   "metadata": {},
   "source": [
    "Since the network is working with individual english tokens, it's similar to a classification problem in which we are trying to predict the next character from the previous text.  Here's how many 'classes' our network has to pick from."
   ]
  },
  {
   "cell_type": "code",
   "execution_count": 52,
   "metadata": {},
   "outputs": [
    {
     "data": {
      "text/plain": [
       "28404"
      ]
     },
     "execution_count": 52,
     "metadata": {},
     "output_type": "execute_result"
    }
   ],
   "source": [
    "len(vocab)"
   ]
  },
  {
   "cell_type": "markdown",
   "metadata": {},
   "source": [
    "## Making training mini-batches\n",
    "\n",
    "Here is where we'll make our mini-batches for training. Remember that we want our batches to be multiple sequences of some desired number of sequence steps. Considering a simple example, our batches would look like this:\n",
    "\n",
    "<img src=\"assets/sequence_batching@1x.png\" width=500px>\n",
    "\n",
    "\n",
    "<br>\n",
    "We have our text encoded as integers as one long array in `encoded`. Let's create a function that will give us an iterator for our batches. I like using [generator functions](https://jeffknupp.com/blog/2013/04/07/improve-your-python-yield-and-generators-explained/) to do this. Then we can pass `encoded` into this function and get our batch generator.\n",
    "\n",
    "The first thing we need to do is discard some of the text so we only have completely full batches. Each batch contains $N \\times M$ characters, where $N$ is the batch size (the number of sequences) and $M$ is the number of steps. Then, to get the number of batches we can make from some array `arr`, you divide the length of `arr` by the batch size. Once you know the number of batches and the batch size, you can get the total number of characters to keep.\n",
    "\n",
    "After that, we need to split `arr` into $N$ sequences. You can do this using `arr.reshape(size)` where `size` is a tuple containing the dimensions sizes of the reshaped array. We know we want $N$ sequences (`n_seqs` below), let's make that the size of the first dimension. For the second dimension, you can use `-1` as a placeholder in the size, it'll fill up the array with the appropriate data for you. After this, you should have an array that is $N \\times (M * K)$ where $K$ is the number of batches.\n",
    "\n",
    "Now that we have this array, we can iterate through it to get our batches. The idea is each batch is a $N \\times M$ window on the array. For each subsequent batch, the window moves over by `n_steps`. We also want to create both the input and target arrays. Remember that the targets are the inputs shifted over one character. You'll usually see the first input character used as the last target character, so something like this:\n",
    "```python\n",
    "y[:, :-1], y[:, -1] = x[:, 1:], x[:, 0]\n",
    "```\n",
    "where `x` is the input batch and `y` is the target batch.\n",
    "\n",
    "The way I like to do this window is use `range` to take steps of size `n_steps` from $0$ to `arr.shape[1]`, the total number of steps in each sequence. That way, the integers you get from `range` always point to the start of a batch, and each window is `n_steps` wide."
   ]
  },
  {
   "cell_type": "code",
   "execution_count": 53,
   "metadata": {
    "collapsed": true
   },
   "outputs": [],
   "source": [
    "def get_batches(arr, n_seqs, n_steps):\n",
    "    '''Create a generator that returns batches of size\n",
    "       n_seqs x n_steps from arr.\n",
    "       \n",
    "       Arguments\n",
    "       ---------\n",
    "       arr: Array you want to make batches from\n",
    "       n_seqs: Batch size, the number of sequences per batch\n",
    "       n_steps: Number of sequence steps per batch\n",
    "    '''\n",
    "    # Get the batch size and number of batches we can make\n",
    "    batch_size = n_seqs * n_steps \n",
    "    n_batches =  len(arr)//batch_size\n",
    "    \n",
    "    # Keep only enough characters to make full batches\n",
    "    arr =  arr[:n_batches*batch_size]\n",
    "    \n",
    "    # Reshape into n_seqs rows\n",
    "    arr = arr.reshape((n_seqs,-1))\n",
    "    \n",
    "    for n in range(0, arr.shape[1], n_steps):\n",
    "        # The features\n",
    "        x = arr[:,n:n+n_steps]\n",
    "        # The targets, shifted by one\n",
    "        y = np.zeros(x.shape)\n",
    "        y[:,:-1],y[:,-1] = x[:,1:] ,x[:,0]\n",
    "        yield x, y"
   ]
  },
  {
   "cell_type": "markdown",
   "metadata": {},
   "source": [
    "Now I'll make my data sets and we can check out what's going on here. Here I'm going to use a batch size of 10 and 50 sequence steps."
   ]
  },
  {
   "cell_type": "code",
   "execution_count": 54,
   "metadata": {
    "collapsed": true
   },
   "outputs": [],
   "source": [
    "batches = get_batches(encoded, 10, 50)\n",
    "x, y = next(batches)"
   ]
  },
  {
   "cell_type": "code",
   "execution_count": 55,
   "metadata": {},
   "outputs": [
    {
     "name": "stdout",
     "output_type": "stream",
     "text": [
      "x\n",
      " [[18807  8219 17188  8219  3006  8219  5226  8219 19968 28186]\n",
      " [28167  8219 14071  8264 28186 28186  3060  8219  7822  8219]\n",
      " [ 8219  8226  8219   529  8219 13889  8219  2830  8219  8382]\n",
      " [ 4904  8219 20883  8219 10345  8219 23259 21748  8219  8151]\n",
      " [ 8219 26062  8219 25434  8219 20125  8219 23576  8219 19823]\n",
      " [ 8219 22593  8219 17160  8219 18530  8219 18875 21748  8219]\n",
      " [27909  8219  2872  8264  8219  8555  8219 12044  8219 24306]\n",
      " [ 8264  8219 21500  8219  3387  8219 26062  8219  8176  8219]\n",
      " [ 8382  8219 19823 21748  8219 24822  8219 18002  8219  4213]\n",
      " [ 8219 26000  8219 27946  8219 19284  8219 13483  8219 23576]]\n",
      "\n",
      "y\n",
      " [[  8219.  17188.   8219.   3006.   8219.   5226.   8219.  19968.  28186.\n",
      "   28186.]\n",
      " [  8219.  14071.   8264.  28186.  28186.   3060.   8219.   7822.   8219.\n",
      "   23659.]\n",
      " [  8226.   8219.    529.   8219.  13889.   8219.   2830.   8219.   8382.\n",
      "    8219.]\n",
      " [  8219.  20883.   8219.  10345.   8219.  23259.  21748.   8219.   8151.\n",
      "    8219.]\n",
      " [ 26062.   8219.  25434.   8219.  20125.   8219.  23576.   8219.  19823.\n",
      "    8219.]\n",
      " [ 22593.   8219.  17160.   8219.  18530.   8219.  18875.  21748.   8219.\n",
      "   26062.]\n",
      " [  8219.   2872.   8264.   8219.   8555.   8219.  12044.   8219.  24306.\n",
      "    8219.]\n",
      " [  8219.  21500.   8219.   3387.   8219.  26062.   8219.   8176.   8219.\n",
      "    4213.]\n",
      " [  8219.  19823.  21748.   8219.  24822.   8219.  18002.   8219.   4213.\n",
      "    8219.]\n",
      " [ 26000.   8219.  27946.   8219.  19284.   8219.  13483.   8219.  23576.\n",
      "    8219.]]\n"
     ]
    }
   ],
   "source": [
    "print('x\\n', x[:10, :10])\n",
    "print('\\ny\\n', y[:10, :10])"
   ]
  },
  {
   "cell_type": "markdown",
   "metadata": {},
   "source": [
    "## Building the model\n",
    "\n",
    "Below is where you'll build the network. We'll break it up into parts so it's easier to reason about each bit. Then we can connect them up into the whole network.\n",
    "\n",
    "<img src=\"assets/charRNN.png\" width=500px>\n",
    "\n",
    "\n",
    "### Inputs\n",
    "\n",
    "First off we'll create our input placeholders. As usual we need placeholders for the training data and the targets. We'll also create a placeholder for dropout layers called `keep_prob`. This will be a scalar, that is a 0-D tensor. To make a scalar, you create a placeholder without giving it a size."
   ]
  },
  {
   "cell_type": "code",
   "execution_count": 56,
   "metadata": {
    "collapsed": true
   },
   "outputs": [],
   "source": [
    "def build_inputs(batch_size, num_steps):\n",
    "    ''' Define placeholders for inputs, targets, and dropout \n",
    "    \n",
    "        Arguments\n",
    "        ---------\n",
    "        batch_size: Batch size, number of sequences per batch\n",
    "        num_steps: Number of sequence steps in a batch\n",
    "        \n",
    "    '''\n",
    "    # Declare placeholders we'll feed into the graph\n",
    "    inputs = tf.placeholder(tf.int32,[batch_size,num_steps],name=\"inputs\")\n",
    "    targets = tf.placeholder(tf.int32,[batch_size,num_steps],name=\"targets\")\n",
    "    \n",
    "    # Keep probability placeholder for drop out layers\n",
    "    keep_prob = tf.placeholder(tf.float32,name=\"keep_prob\")\n",
    "    \n",
    "    return inputs, targets, keep_prob"
   ]
  },
  {
   "cell_type": "markdown",
   "metadata": {},
   "source": [
    "### LSTM Cell\n",
    "\n",
    "Here we will create the LSTM cell we'll use in the hidden layer. We'll use this cell as a building block for the RNN. So we aren't actually defining the RNN here, just the type of cell we'll use in the hidden layer.\n",
    "\n",
    "We first create a basic LSTM cell with\n",
    "\n",
    "```python\n",
    "lstm = tf.contrib.rnn.BasicLSTMCell(num_units)\n",
    "```\n",
    "\n",
    "where `num_units` is the number of units in the hidden layers in the cell. Then we can add dropout by wrapping it with \n",
    "\n",
    "```python\n",
    "tf.contrib.rnn.DropoutWrapper(lstm, output_keep_prob=keep_prob)\n",
    "```\n",
    "You pass in a cell and it will automatically add dropout to the inputs or outputs. Finally, we can stack up the LSTM cells into layers with [`tf.contrib.rnn.MultiRNNCell`](https://www.tensorflow.org/versions/r1.0/api_docs/python/tf/contrib/rnn/MultiRNNCell). With this, you pass in a list of cells and it will send the output of one cell into the next cell. For example,\n",
    "\n",
    "```python\n",
    "tf.contrib.rnn.MultiRNNCell([cell]*num_layers)\n",
    "```\n",
    "\n",
    "This might look a little weird if you know Python well because this will create a list of the same `cell` object. However, TensorFlow will create different weight matrices for all `cell` objects. Even though this is actually multiple LSTM cells stacked on each other, you can treat the multiple layers as one cell.\n",
    "\n",
    "We also need to create an initial cell state of all zeros. This can be done like so\n",
    "\n",
    "```python\n",
    "initial_state = cell.zero_state(batch_size, tf.float32)\n",
    "```\n"
   ]
  },
  {
   "cell_type": "code",
   "execution_count": 57,
   "metadata": {
    "collapsed": true
   },
   "outputs": [],
   "source": [
    "def build_lstm(lstm_size, num_layers, batch_size, keep_prob):\n",
    "    ''' Build LSTM cell.\n",
    "    \n",
    "        Arguments\n",
    "        ---------\n",
    "        keep_prob: Scalar tensor (tf.placeholder) for the dropout keep probability\n",
    "        lstm_size: Size of the hidden layers in the LSTM cells\n",
    "        num_layers: Number of LSTM layers\n",
    "        batch_size: Batch size\n",
    "\n",
    "    '''\n",
    "    ### Build the LSTM Cell\n",
    "    # Use a basic LSTM cell\n",
    "    # Add dropout to the cell outputs\n",
    "    # Stack up multiple LSTM layers, for deep learning\n",
    "    cell = tf.contrib.rnn.MultiRNNCell([tf.contrib.rnn.DropoutWrapper( tf.contrib.rnn.BasicLSTMCell(lstm_size),output_keep_prob = keep_prob) for _ in range(num_layers)])\n",
    "    initial_state = cell.zero_state(batch_size,tf.float32)\n",
    "    \n",
    "    return cell, initial_state"
   ]
  },
  {
   "cell_type": "markdown",
   "metadata": {},
   "source": [
    "### RNN Output\n",
    "\n",
    "Here we'll create the output layer. We need to connect the output of the RNN cells to a full connected layer with a softmax output. The softmax output gives us a probability distribution we can use to predict the next character, so we want this layer to have size $C$, the number of classes/characters we have in our text.\n",
    "\n",
    "If our input has batch size $N$, number of steps $M$, and the hidden layer has $L$ hidden units, then the output is a 3D tensor with size $N \\times M \\times L$. The output of each LSTM cell has size $L$, we have $M$ of them, one for each sequence step, and we have $N$ sequences. So the total size is $N \\times M \\times L$. \n",
    "\n",
    "We are using the same fully connected layer, the same weights, for each of the outputs. Then, to make things easier, we should reshape the outputs into a 2D tensor with shape $(M * N) \\times L$. That is, one row for each sequence and step, where the values of each row are the output from the LSTM cells. We get the LSTM output as a list, `lstm_output`. First we need to concatenate this whole list into one array with [`tf.concat`](https://www.tensorflow.org/api_docs/python/tf/concat). Then, reshape it (with `tf.reshape`) to size $(M * N) \\times L$.\n",
    "\n",
    "One we have the outputs reshaped, we can do the matrix multiplication with the weights. We need to wrap the weight and bias variables in a variable scope with `tf.variable_scope(scope_name)` because there are weights being created in the LSTM cells. TensorFlow will throw an error if the weights created here have the same names as the weights created in the LSTM cells, which they will be default. To avoid this, we wrap the variables in a variable scope so we can give them unique names.\n"
   ]
  },
  {
   "cell_type": "code",
   "execution_count": 58,
   "metadata": {
    "collapsed": true
   },
   "outputs": [],
   "source": [
    "def build_output(lstm_output, in_size, out_size):\n",
    "    ''' Build a softmax layer, return the softmax output and logits.\n",
    "    \n",
    "        Arguments\n",
    "        ---------\n",
    "        \n",
    "        lstm_output: List of output tensors from the LSTM layer\n",
    "        in_size: Size of the input tensor, for example, size of the LSTM cells\n",
    "        out_size: Size of this softmax layer\n",
    "    \n",
    "    '''\n",
    "\n",
    "    # Reshape output so it's a bunch of rows, one row for each step for each sequence.\n",
    "    # Concatenate lstm_output over axis 1 (the columns)\n",
    "    seq_output = tf.concat(lstm_output,axis=1)\n",
    "    # Reshape seq_output to a 2D tensor with lstm_size columns\n",
    "    x = tf.reshape(seq_output,[-1,in_size])\n",
    "    \n",
    "    # Connect the RNN outputs to a softmax layer\n",
    "    with tf.variable_scope('softmax'):\n",
    "        # Create the weight and bias variables here\n",
    "        softmax_w = tf.Variable(tf.truncated_normal((in_size, out_size),stddev=0.1))\n",
    "        softmax_b = tf.Variable(tf.zeros([out_size]))\n",
    "    \n",
    "    # Since output is a bunch of rows of RNN cell outputs, logits will be a bunch\n",
    "    # of rows of logit outputs, one for each step and sequence\n",
    "    logits =  tf.add(tf.matmul(x,softmax_w),softmax_b) \n",
    "    \n",
    "    # Use softmax to get the probabilities for predicted characters\n",
    "    out = tf.nn.softmax(logits,name =\"out\")\n",
    "    \n",
    "    return out, logits"
   ]
  },
  {
   "cell_type": "markdown",
   "metadata": {},
   "source": [
    "### Training loss\n",
    "\n",
    "Next up is the training loss. We get the logits and targets and calculate the softmax cross-entropy loss. First we need to one-hot encode the targets, we're getting them as encoded characters. Then, reshape the one-hot targets so it's a 2D tensor with size $(M*N) \\times C$ where $C$ is the number of classes/characters we have. Remember that we reshaped the LSTM outputs and ran them through a fully connected layer with $C$ units. So our logits will also have size $(M*N) \\times C$.\n",
    "\n",
    "Then we run the logits and targets through `tf.nn.softmax_cross_entropy_with_logits` and find the mean to get the loss."
   ]
  },
  {
   "cell_type": "code",
   "execution_count": 59,
   "metadata": {
    "collapsed": true
   },
   "outputs": [],
   "source": [
    "def build_loss(logits, targets, lstm_size, num_classes):\n",
    "    ''' Calculate the loss from the logits and the targets.\n",
    "    \n",
    "        Arguments\n",
    "        ---------\n",
    "        logits: Logits from final fully connected layer\n",
    "        targets: Targets for supervised learning\n",
    "        lstm_size: Number of LSTM hidden units\n",
    "        num_classes: Number of classes in targets\n",
    "        \n",
    "    '''\n",
    "    # One-hot encode targets and reshape to match logits, one row per sequence per step\n",
    "    y_one_hot = tf.one_hot(targets,num_classes)\n",
    "    y_reshaped =  tf.reshape(y_one_hot,logits.get_shape())\n",
    "    \n",
    "    # Softmax cross entropy loss\n",
    "    loss = tf.reduce_mean(tf.nn.softmax_cross_entropy_with_logits(logits=logits,labels=y_reshaped))\n",
    "    \n",
    "    return loss"
   ]
  },
  {
   "cell_type": "markdown",
   "metadata": {},
   "source": [
    "### Optimizer\n",
    "\n",
    "Here we build the optimizer. Normal RNNs have have issues gradients exploding and disappearing. LSTMs fix the disappearance problem, but the gradients can still grow without bound. To fix this, we can clip the gradients above some threshold. That is, if a gradient is larger than that threshold, we set it to the threshold. This will ensure the gradients never grow overly large. Then we use an AdamOptimizer for the learning step."
   ]
  },
  {
   "cell_type": "code",
   "execution_count": 60,
   "metadata": {
    "collapsed": true
   },
   "outputs": [],
   "source": [
    "def build_optimizer(loss, learning_rate, grad_clip,global_step):\n",
    "    ''' Build optmizer for training, using gradient clipping.\n",
    "    \n",
    "        Arguments:\n",
    "        loss: Network loss\n",
    "        learning_rate: Learning rate for optimizer\n",
    "        global_step: to control the total number of train steps\n",
    "    \n",
    "    '''\n",
    "    \n",
    "    # Optimizer for training, using gradient clipping to control exploding gradients\n",
    "    tvars = tf.trainable_variables()\n",
    "    grads, _ = tf.clip_by_global_norm(tf.gradients(loss, tvars), grad_clip)\n",
    "    train_op = tf.train.AdamOptimizer(learning_rate)\n",
    "    optimizer = train_op.apply_gradients(zip(grads, tvars),global_step)\n",
    "    \n",
    "    return optimizer"
   ]
  },
  {
   "cell_type": "markdown",
   "metadata": {},
   "source": [
    "### Build the network\n",
    "\n",
    "Now we can put all the pieces together and build a class for the network. To actually run data through the LSTM cells, we will use [`tf.nn.dynamic_rnn`](https://www.tensorflow.org/versions/r1.0/api_docs/python/tf/nn/dynamic_rnn). This function will pass the hidden and cell states across LSTM cells appropriately for us. It returns the outputs for each LSTM cell at each step for each sequence in the mini-batch. It also gives us the final LSTM state. We want to save this state as `final_state` so we can pass it to the first LSTM cell in the the next mini-batch run. For `tf.nn.dynamic_rnn`, we pass in the cell and initial state we get from `build_lstm`, as well as our input sequences. Also, we need to one-hot encode the inputs before going into the RNN. \n"
   ]
  },
  {
   "cell_type": "code",
   "execution_count": 61,
   "metadata": {
    "collapsed": true
   },
   "outputs": [],
   "source": [
    "class CharRNN:\n",
    "    \n",
    "    def __init__(self, num_classes, batch_size=64, num_steps=50, \n",
    "                       lstm_size=128, num_layers=2, learning_rate=0.001, \n",
    "                       grad_clip=5, sampling=False):\n",
    "    \n",
    "        # When we're using this network for sampling later, we'll be passing in\n",
    "        # one character at a time, so providing an option for that\n",
    "        if sampling == True:\n",
    "            batch_size, num_steps = 1, 1\n",
    "        else:\n",
    "            batch_size, num_steps = batch_size, num_steps\n",
    "\n",
    "        tf.reset_default_graph()\n",
    "        \n",
    "        self.global_step_tensor = tf.Variable(0,trainable=False,name = \"global_step\")\n",
    "        # Build the input placeholder tensors\n",
    "        self.inputs, self.targets, self.keep_prob = build_inputs(batch_size,num_steps)\n",
    "        # Build the LSTM cell\n",
    "        cell, self.initial_state = build_lstm(lstm_size,num_layers,batch_size,self.keep_prob)\n",
    "        ### Run the data through the RNN layers\n",
    "        # First, one-hot encode the input tokens\n",
    "        x_one_hot = tf.one_hot(self.inputs,num_classes)\n",
    "        \n",
    "        # Run each sequence step through the RNN with tf.nn.dynamic_rnn \n",
    "        outputs, state = tf.nn.dynamic_rnn(cell,x_one_hot,initial_state=self.initial_state)\n",
    "        self.final_state = state\n",
    "        \n",
    "        # Get softmax predictions and logits\n",
    "        self.prediction, self.logits = build_output(outputs,lstm_size,num_classes)\n",
    "        \n",
    "        # Loss and optimizer (with gradient clipping)\n",
    "        self.loss =  build_loss(self.logits,self.targets,lstm_size,num_classes)\n",
    "        self.optimizer = build_optimizer(self.loss,learning_rate,grad_clip,self.global_step_tensor)"
   ]
  },
  {
   "cell_type": "markdown",
   "metadata": {},
   "source": [
    "## Hyperparameters\n",
    "\n",
    "Here are the hyperparameters for the network.\n",
    "\n",
    "* `batch_size` - Number of sequences running through the network in one pass.\n",
    "* `num_steps` - Number of characters in the sequence the network is trained on. Larger is better typically, the network will learn more long range dependencies. But it takes longer to train. 100 is typically a good number here.\n",
    "* `lstm_size` - The number of units in the hidden layers.\n",
    "* `num_layers` - Number of hidden LSTM layers to use\n",
    "* `learning_rate` - Learning rate for training\n",
    "* `keep_prob` - The dropout keep probability when training. If you're network is overfitting, try decreasing this.\n",
    "\n",
    "Here's some good advice from Andrej Karpathy on training the network:. \n",
    "\n",
    "> ## Tips and Tricks\n",
    "\n",
    ">### Monitoring Validation Loss vs. Training Loss\n",
    ">If you're somewhat new to Machine Learning or Neural Networks it can take a bit of expertise to get good models. The most important quantity to keep track of is the difference between your training loss (printed during training) and the validation loss (printed once in a while when the RNN is run on the validation data (by default every 1000 iterations)). In particular:\n",
    "\n",
    "> - If your training loss is much lower than validation loss then this means the network might be **overfitting**. Solutions to this are to decrease your network size, or to increase dropout. For example you could try dropout of 0.5 and so on.\n",
    "> - If your training/validation loss are about equal then your model is **underfitting**. Increase the size of your model (either number of layers or the raw number of neurons per layer)\n",
    "\n",
    "> ### Approximate number of parameters\n",
    "\n",
    "> The two most important parameters that control the model are `lstm_size` and `num_layers`. I would advise that you always use `num_layers` of either 2/3. The `lstm_size` can be adjusted based on how much data you have. The two important quantities to keep track of here are:\n",
    "\n",
    "> - The number of parameters in your model. This is printed when you start training.\n",
    "> - The size of your dataset. 1MB file is approximately 1 million characters.\n",
    "\n",
    ">These two should be about the same order of magnitude. It's a little tricky to tell. Here are some examples:\n",
    "\n",
    "> - I have a 100MB dataset and I'm using the default parameter settings (which currently print 150K parameters). My data size is significantly larger (100 mil >> 0.15 mil), so I expect to heavily underfit. I am thinking I can comfortably afford to make `lstm_size` larger.\n",
    "> - I have a 10MB dataset and running a 10 million parameter model. I'm slightly nervous and I'm carefully monitoring my validation loss. If it's larger than my training loss then I may want to try to increase dropout a bit and see if that helps the validation loss.\n",
    "\n",
    "> ### Best models strategy\n",
    "\n",
    ">The winning strategy to obtaining very good models (if you have the compute time) is to always err on making the network larger (as large as you're willing to wait for it to compute) and then try different dropout values (between 0,1). Whatever model has the best validation performance (the loss, written in the checkpoint filename, low is good) is the one you should use in the end.\n",
    "\n",
    ">It is very common in deep learning to run many different models with many different hyperparameter settings, and in the end take whatever checkpoint gave the best validation performance.\n",
    "\n",
    ">By the way, the size of your training and validation splits are also parameters. Make sure you have a decent amount of data in your validation set or otherwise the validation performance will be noisy and not very informative."
   ]
  },
  {
   "cell_type": "code",
   "execution_count": 62,
   "metadata": {
    "collapsed": true
   },
   "outputs": [],
   "source": [
    "def get_number_of_parameters():\n",
    "    total_parameters = 0\n",
    "    for variable in tf.trainable_variables():\n",
    "        shape = variable.get_shape()\n",
    "        #print(shape)\n",
    "        #print(len(shape))\n",
    "        variable_parameters = 1\n",
    "        \n",
    "        for dim in shape:\n",
    "            #print(dim)\n",
    "            variable_parameters*=dim.value\n",
    "        #print(variable_parameters)\n",
    "        total_parameters+= variable_parameters\n",
    "    return total_parameters"
   ]
  },
  {
   "cell_type": "code",
   "execution_count": 63,
   "metadata": {
    "collapsed": true
   },
   "outputs": [],
   "source": [
    "def pick_top_n(preds, vocab_size, top_n=5):\n",
    "    p = np.squeeze(preds)\n",
    "    p[np.argsort(p)[:-top_n]] = 0\n",
    "    p = p / np.sum(p)\n",
    "    c = np.random.choice(vocab_size, 1, p=p)[0]\n",
    "    return c"
   ]
  },
  {
   "cell_type": "markdown",
   "metadata": {},
   "source": [
    "## Time for training\n",
    "\n",
    "This is typical training code, passing inputs and targets into the network, then running the optimizer. Here we also get back the final LSTM state for the mini-batch. Then, we pass that state back into the network so the next batch can continue the state from the previous batch. And every so often (set by `save_every_n`) I save a checkpoint.\n",
    "\n",
    "Here I'm saving checkpoints with the format\n",
    "\n",
    "`i{iteration number}_l{# hidden layer units}.ckpt`\n"
   ]
  },
  {
   "cell_type": "code",
   "execution_count": 64,
   "metadata": {
    "collapsed": true
   },
   "outputs": [],
   "source": [
    "losses = {\"train\":[],\"validation\":[]}\n",
    "x_steps = list()"
   ]
  },
  {
   "cell_type": "code",
   "execution_count": 75,
   "metadata": {},
   "outputs": [
    {
     "name": "stdout",
     "output_type": "stream",
     "text": [
      "Training starting at time: 2017-10-15 18:45:12\n",
      "Number of parameters: 75892468 Dataset size: 951327\n",
      "INFO:tensorflow:Restoring parameters from checkpoints/mwords_i5700_l512.ckpt\n",
      "Epoch: 1/15...  Training Step: 5701...  Training loss: 2.7913...  Val loss: 3.6031...  1.4087 sec/batch\n",
      "Epoch: 1/15...  Training Step: 5801...  Training loss: 2.6679...  Val loss: 3.6421...  1.0793 sec/batch\n",
      "Epoch: 2/15...  Training Step: 5901...  Training loss: 2.7310...  Val loss: 3.6354...  1.0757 sec/batch\n",
      "Epoch: 2/15...  Training Step: 6001...  Training loss: 2.6242...  Val loss: 3.6420...  1.0765 sec/batch\n",
      "Epoch: 3/15...  Training Step: 6101...  Training loss: 2.6680...  Val loss: 3.6202...  1.0842 sec/batch\n",
      "Epoch: 3/15...  Training Step: 6201...  Training loss: 2.6472...  Val loss: 3.6697...  1.0887 sec/batch\n",
      "Epoch: 4/15...  Training Step: 6301...  Training loss: 2.6841...  Val loss: 3.6337...  1.0848 sec/batch\n",
      "Epoch: 4/15...  Training Step: 6401...  Training loss: 2.6483...  Val loss: 3.6663...  1.0821 sec/batch\n",
      "Epoch: 5/15...  Training Step: 6501...  Training loss: 2.6298...  Val loss: 3.6630...  1.0863 sec/batch\n",
      "Epoch: 5/15...  Training Step: 6601...  Training loss: 2.6276...  Val loss: 3.7525...  1.0839 sec/batch\n",
      "Epoch: 6/15...  Training Step: 6701...  Training loss: 2.6046...  Val loss: 3.7207...  1.0799 sec/batch\n",
      "Epoch: 6/15...  Training Step: 6801...  Training loss: 2.6066...  Val loss: 3.6768...  1.0823 sec/batch\n",
      "Epoch: 7/15...  Training Step: 6901...  Training loss: 2.6305...  Val loss: 3.7061...  1.0994 sec/batch\n",
      "Epoch: 7/15...  Training Step: 7001...  Training loss: 2.5702...  Val loss: 3.7111...  1.0866 sec/batch\n",
      "Epoch: 8/15...  Training Step: 7101...  Training loss: 2.5754...  Val loss: 3.7079...  1.0901 sec/batch\n",
      "Epoch: 8/15...  Training Step: 7201...  Training loss: 2.5770...  Val loss: 3.7355...  1.0825 sec/batch\n",
      "Epoch: 9/15...  Training Step: 7301...  Training loss: 2.5863...  Val loss: 3.7501...  1.0839 sec/batch\n",
      "Epoch: 9/15...  Training Step: 7401...  Training loss: 2.6213...  Val loss: 3.7428...  1.0900 sec/batch\n",
      "Epoch: 10/15...  Training Step: 7501...  Training loss: 2.6539...  Val loss: 3.7213...  1.0836 sec/batch\n",
      "Epoch 10/15 time:206.405255317688...  finished at 2017-10-15 19:19:54\n",
      "Epoch: 11/15...  Training Step: 7601...  Training loss: 2.6854...  Val loss: 3.7100...  1.0916 sec/batch\n",
      "Epoch: 11/15...  Training Step: 7701...  Training loss: 2.5794...  Val loss: 3.7354...  1.0873 sec/batch\n",
      "Epoch: 12/15...  Training Step: 7801...  Training loss: 2.6647...  Val loss: 3.7320...  1.0759 sec/batch\n",
      "Epoch: 12/15...  Training Step: 7901...  Training loss: 2.5638...  Val loss: 3.7359...  1.0886 sec/batch\n",
      "Epoch: 13/15...  Training Step: 8001...  Training loss: 2.5954...  Val loss: 3.6959...  1.0809 sec/batch\n",
      "Epoch: 13/15...  Training Step: 8101...  Training loss: 2.5720...  Val loss: 3.7639...  1.0844 sec/batch\n",
      "Epoch: 14/15...  Training Step: 8201...  Training loss: 2.6176...  Val loss: 3.6989...  1.0854 sec/batch\n",
      "Epoch: 14/15...  Training Step: 8301...  Training loss: 2.5783...  Val loss: 3.7520...  1.0810 sec/batch\n",
      "Epoch: 15/15...  Training Step: 8401...  Training loss: 2.5817...  Val loss: 3.7858...  1.0797 sec/batch\n",
      "Epoch: 15/15...  Training Step: 8501...  Training loss: 2.5714...  Val loss: 3.8354...  1.0909 sec/batch\n",
      "Training ending at time: 2017-10-15 19:37:18\n",
      "Trainint total time: 3126.2703969478607\n"
     ]
    }
   ],
   "source": [
    "#epochs = 1\n",
    "# Save every N iterations\n",
    "save_every_n = 500\n",
    "print_loss_every_n = 100\n",
    "sample_every = 500\n",
    "print_epoch_time_every = 10\n",
    "\n",
    "with tf.device(\"/gpu:0\"):\n",
    "    model = CharRNN(len(vocab), batch_size=batch_size, num_steps=num_steps,\n",
    "                lstm_size=lstm_size, num_layers=num_layers, \n",
    "                learning_rate=learning_rate)\n",
    "    #print(\"after model\")\n",
    "\n",
    "saver = tf.train.Saver(max_to_keep=5)\n",
    "print(\"Training starting at time:\",strftime(\"%Y-%m-%d %H:%M:%S\", localtime()))\n",
    "train_start_time = time.time()\n",
    "with tf.Session() as sess:\n",
    "    sess.run(tf.global_variables_initializer())\n",
    "    print(\"Number of parameters:\",get_number_of_parameters(),\"Dataset size:\",len(encoded))\n",
    "    #print(\"after initializer\")\n",
    "    if resume_from_checkpoint:\n",
    "        latest_checkpoint = tf.train.latest_checkpoint('checkpoints')\n",
    "        saver.restore(sess, latest_checkpoint)\n",
    "    counter = 0\n",
    "    for e in range(epochs):\n",
    "        # Train network\n",
    "        epoch_start = time.time()\n",
    "        \n",
    "        new_state = sess.run(model.initial_state)\n",
    "        loss = 0\n",
    "        for x, y in get_batches(encoded, batch_size, num_steps):\n",
    "            \n",
    "            \n",
    "            start = time.time()\n",
    "            feed = {model.inputs: x,\n",
    "                    model.targets: y,\n",
    "                    model.keep_prob: keep_prob,\n",
    "                    model.initial_state: new_state}\n",
    "            batch_loss, new_state, _ = sess.run([model.loss, \n",
    "                                                 model.final_state, \n",
    "                                                 model.optimizer], \n",
    "                                                 feed_dict=feed)\n",
    "        \n",
    "            \n",
    "            end = time.time()\n",
    "            if counter%print_loss_every_n == 0:\n",
    "                val_batches = get_batches(encoded_val,int(len(encoded_val)/num_steps),num_steps)\n",
    "                x_val,y_val = next(val_batches)\n",
    "                \n",
    "                val_dict = {model.inputs: x_val,\n",
    "                            model.targets: y_val,\n",
    "                            model.keep_prob: 1,\n",
    "                            model.initial_state: new_state}\n",
    "                \n",
    "                val_loss,prediction = sess.run([model.loss,model.prediction],feed_dict=val_dict)\n",
    "                \n",
    "                losses[\"train\"].append(batch_loss)\n",
    "                losses[\"validation\"].append(val_loss)\n",
    "                \n",
    "                \n",
    "                global_step = tf.train.global_step(sess,model.global_step_tensor)\n",
    "                x_steps.append(global_step)\n",
    "                \n",
    "                print('Epoch: {}/{}... '.format(e+1, epochs),\n",
    "                      'Training Step: {}... '.format(global_step),\n",
    "                      'Training loss: {:.4f}... '.format(batch_loss),\n",
    "                      'Val loss: {:.4f}... '.format(val_loss),\n",
    "                      '{:.4f} sec/batch'.format((end-start)))\n",
    "        \n",
    "            if (counter % save_every_n == 0):\n",
    "                global_step = tf.train.global_step(sess,model.global_step_tensor)\n",
    "                saver.save(sess, \"checkpoints/m{}_i{}_l{}.ckpt\".format(mode,global_step, lstm_size))\n",
    "                \n",
    "            counter += 1\n",
    "        \n",
    "        epoch_end = time.time()\n",
    "        \n",
    "        \n",
    "        if ((e+1) % print_epoch_time_every== 0):\n",
    "            print('Epoch {}/{} time:{}...'.format(e+1,epochs,epoch_end-epoch_start),\n",
    "                 \" finished at\",strftime(\"%Y-%m-%d %H:%M:%S\", localtime()))\n",
    "        \n",
    "            \n",
    "    global_step = tf.train.global_step(sess,model.global_step_tensor)\n",
    "    saver.save(sess, \"checkpoints/m{}_i{}_l{}.ckpt\".format(mode,global_step, lstm_size))\n",
    "    \n",
    "print(\"Training ending at time:\",strftime(\"%Y-%m-%d %H:%M:%S\", localtime()))\n",
    "print(\"Trainint total time:\",time.time()-train_start_time)"
   ]
  },
  {
   "cell_type": "code",
   "execution_count": 76,
   "metadata": {},
   "outputs": [
    {
     "data": {
      "image/png": "[encoded data removed]",
      "text/plain": [
       "<matplotlib.figure.Figure at 0x7ff5a34bfa90>"
      ]
     },
     "metadata": {
      "image/png": {
       "height": 250,
       "width": 373
      }
     },
     "output_type": "display_data"
    }
   ],
   "source": [
    "plt.plot(x_steps,losses[\"train\"],label=\"Train loss\")\n",
    "plt.plot(x_steps,losses[\"validation\"],label=\"Validation loss\")\n",
    "plt.legend()\n",
    "_ = plt.ylim()"
   ]
  },
  {
   "cell_type": "markdown",
   "metadata": {},
   "source": [
    "#### Saved checkpoints\n",
    "\n",
    "Read up on saving and loading checkpoints here: https://www.tensorflow.org/programmers_guide/variables"
   ]
  },
  {
   "cell_type": "code",
   "execution_count": 77,
   "metadata": {
    "collapsed": true
   },
   "outputs": [],
   "source": [
    "checkpoints = tf.train.get_checkpoint_state('checkpoints')"
   ]
  },
  {
   "cell_type": "markdown",
   "metadata": {},
   "source": [
    "## Sampling final trained model\n",
    "\n",
    "Now that the network is trained, we'll can use it to generate new text. The idea is that we pass in a character, then the network will predict the next character. We can use the new one, to predict the next one. And we keep doing this to generate all new text. I also included some functionality to prime the network with some text by passing in a string and building up a state from that.\n",
    "\n",
    "The network gives us predictions for each character. To reduce noise and make things a little less random, I'm going to only choose a new character from the top N most likely characters.\n",
    "\n"
   ]
  },
  {
   "cell_type": "code",
   "execution_count": 78,
   "metadata": {
    "collapsed": true
   },
   "outputs": [],
   "source": [
    "def sample(checkpoint, n_samples, lstm_size, vocab_size, prime=\"The \",mode=\"characters\"):\n",
    "    print(mode)\n",
    "    samples = tokenize_text(prime,mode)\n",
    "    model = CharRNN(len(vocab), lstm_size=lstm_size, sampling=True)\n",
    "    saver = tf.train.Saver()\n",
    "    with tf.Session() as sess:\n",
    "        saver.restore(sess, checkpoint)\n",
    "        new_state = sess.run(model.initial_state)\n",
    "        for c in tokenize_text(prime,mode):\n",
    "            x = np.zeros((1, 1))\n",
    "            x[0,0] = vocab_to_int[c]\n",
    "            feed = {model.inputs: x,\n",
    "                    model.keep_prob: 1.,\n",
    "                    model.initial_state: new_state}\n",
    "            preds, new_state = sess.run([model.prediction, model.final_state], \n",
    "                                         feed_dict=feed)\n",
    "\n",
    "        c = pick_top_n(preds, len(vocab))\n",
    "        samples.append(int_to_vocab[c])\n",
    "\n",
    "        for i in range(n_samples):\n",
    "            x[0,0] = c\n",
    "            feed = {model.inputs: x,\n",
    "                    model.keep_prob: 1.,\n",
    "                    model.initial_state: new_state}\n",
    "            preds, new_state = sess.run([model.prediction, model.final_state], \n",
    "                                         feed_dict=feed)\n",
    "\n",
    "            c = pick_top_n(preds, len(vocab))\n",
    "            samples.append(int_to_vocab[c])\n",
    "        \n",
    "    return ''.join(samples).replace(\"new_line_token\",\"\\n\")"
   ]
  },
  {
   "cell_type": "markdown",
   "metadata": {},
   "source": [
    "Here, pass in the path to a checkpoint and sample from the network."
   ]
  },
  {
   "cell_type": "code",
   "execution_count": 79,
   "metadata": {},
   "outputs": [
    {
     "data": {
      "text/plain": [
       "'checkpoints/mwords_i8550_l512.ckpt'"
      ]
     },
     "execution_count": 79,
     "metadata": {},
     "output_type": "execute_result"
    }
   ],
   "source": [
    "tf.train.latest_checkpoint('checkpoints')"
   ]
  },
  {
   "cell_type": "markdown",
   "metadata": {},
   "source": [
    "## Generate new text from \"base\" text"
   ]
  },
  {
   "cell_type": "code",
   "execution_count": 80,
   "metadata": {},
   "outputs": [
    {
     "name": "stdout",
     "output_type": "stream",
     "text": [
      "words\n",
      "INFO:tensorflow:Restoring parameters from checkpoints/mwords_i8550_l512.ckpt\n",
      "words\n",
      "INFO:tensorflow:Restoring parameters from checkpoints/mwords_i8550_l512.ckpt\n",
      "words\n",
      "INFO:tensorflow:Restoring parameters from checkpoints/mwords_i8550_l512.ckpt\n",
      "words\n",
      "INFO:tensorflow:Restoring parameters from checkpoints/mwords_i8550_l512.ckpt\n",
      "words\n",
      "INFO:tensorflow:Restoring parameters from checkpoints/mwords_i8550_l512.ckpt\n",
      "words\n",
      "INFO:tensorflow:Restoring parameters from checkpoints/mwords_i8550_l512.ckpt\n",
      "words\n",
      "INFO:tensorflow:Restoring parameters from checkpoints/mwords_i8550_l512.ckpt\n",
      "words\n",
      "INFO:tensorflow:Restoring parameters from checkpoints/mwords_i8550_l512.ckpt\n",
      "words\n",
      "INFO:tensorflow:Restoring parameters from checkpoints/mwords_i8550_l512.ckpt\n",
      "words\n",
      "INFO:tensorflow:Restoring parameters from checkpoints/mwords_i8550_l512.ckpt\n",
      "words\n",
      "INFO:tensorflow:Restoring parameters from checkpoints/mwords_i8550_l512.ckpt\n",
      "words\n",
      "INFO:tensorflow:Restoring parameters from checkpoints/mwords_i8550_l512.ckpt\n",
      "words\n",
      "INFO:tensorflow:Restoring parameters from checkpoints/mwords_i8550_l512.ckpt\n",
      "words\n",
      "INFO:tensorflow:Restoring parameters from checkpoints/mwords_i8550_l512.ckpt\n",
      "words\n",
      "INFO:tensorflow:Restoring parameters from checkpoints/mwords_i8550_l512.ckpt\n",
      "words\n",
      "INFO:tensorflow:Restoring parameters from checkpoints/mwords_i8550_l512.ckpt\n"
     ]
    }
   ],
   "source": [
    "\n",
    "checkpoint = tf.train.latest_checkpoint('checkpoints')\n",
    "\n",
    "\n",
    "samples = list()\n",
    "for text in text_to_try:\n",
    "    #print(\"------------------------\",text)\n",
    "    samples.append( sample(checkpoint, 500, lstm_size, len(vocab), prime=text,mode=mode))\n",
    "    #print(samp)\n",
    "    #print(\"------------------------\")"
   ]
  },
  {
   "cell_type": "code",
   "execution_count": 81,
   "metadata": {},
   "outputs": [
    {
     "name": "stdout",
     "output_type": "stream",
     "text": [
      "------------------------ In the first place\n",
      "In the first place of the other manner, as we was to be a very little manner of the same manner in the other manner to the same door. In my own time, we had found a few of my own,\n",
      "a very little time to be been for the whole\n",
      "portion of the whole door --and that a few minutes had not seen a\n",
      "mile to the sea. This latter was a large portion\n",
      "of the vessel, as we was to be so more in his\n",
      "way in our hand. He now found the mate in the water for the\n",
      "time, and I had been a large species of the savages was\n",
      "taken to a great manner.\n",
      "\n",
      "It was very very more than a very very little difficulty for the cabin\n",
      "of the most degree of the cabin. We made us a large manner of water. It was no time in this moment, and I could not be been to be to go in the\n",
      "vessel, I had been a large and very\n",
      "very long; and we had been now found to\n",
      "take a few minutes\n",
      "in the other manner. The brig would have\n",
      "been to a\n",
      "most difficulty of despair, the brig had seen\n",
      "the brig in\n",
      "the sea of the water in a most distance of the\n",
      "cabin in our head in the savages; and, with a most of the sea was\n",
      "been as in our own position, we were not \n",
      "------------------------\n",
      "------------------------ the night before\n",
      "the night before the great world, but I could have been to be the kind of earth’s core. He was very very long, but he was now in my own way, for that I could not see the same man of the house, and I had no little way to make the kind of horror. But the same night and one of the whole thing of the world. They could have seen my eyes in the old man's old house. The first day was a more. He had been not to make the way in my mind that they could be been. He would have been to be to have seen a great man. It was a few or a few and a few man in all which we had ever. It was not to be to see a kind of old and that they had never been been for the place of the world. But it was a great thing that the man had been to be in a great place and a few thing that he would have been to be to see the place of the town. They was no very very more than the time.\n",
      "It was not a few and the man’s place, and he was not a few of the world that the Great Ones had seen to see his house. There was a great man in a great city of, but they had seen that \n",
      "------------------------\n",
      "------------------------ horror\n",
      "horror and the great room of a most  . We had\n",
      "been not a little of the other and the most distance to the water.\n",
      "\n",
      "The first was no longer of the same manner of the same manner in which the vessel would be done for the vessel of his own situation of our water.\n",
      "\n",
      "We could not be no more than it. It was no doubt the most of the whole door, and the most of a\n",
      "most time of the most manner which was not in his own condition. The brig could not be\n",
      "able to be a more than the most of\n",
      "my head, and I could be to be a large degree of\n",
      "latitude -- or longitude 15 degrees degrees''\n",
      "\n",
      "The head of the brig had been been, and\n",
      "I saw to the most time of the\n",
      "water to the water, and in the most portion of\n",
      "our\n",
      "deck, in the sea, we had been in some\n",
      "degree of water, which had been a large and\n",
      "the water of the most\n",
      "of the most distance and the water\n",
      "in the water, we could not be so\n",
      "a little of our way in the water as\n",
      "a little portion of the brig, and the brig was to the\n",
      "vessel with our most species of sea and water\n",
      "to the southward, and the most\n",
      "portion of the schooner, with the water, and the\n",
      "most large and a small\n",
      "portion \n",
      "------------------------\n",
      "------------------------ creature\n",
      "creature to the great, and the most  . It was not a very very very more to be been in my own, and I could not be to make the same time, and the most of this moment we had found a great degree of water. I had not a more than a few, and the\n",
      "whole of the whole manner of our own manner as we\n",
      "should have done a way of the most manner of the\n",
      "water and the most portion of the brig and a\n",
      "great manner. In some minutes the most manner was to be\n",
      "to be to be in the vessel of the cabin. In a large manner, and the most species of\n",
      "thirst we saw that we had been taken from\n",
      "his body in my mind; but I had now found\n",
      "it to make a great difficulty of the vessel\n",
      "to the water of the water, as it would be\n",
      "to be been to have been so a very more to be.\n",
      "\n",
      "We had seen a very very large and one of his own body in the water and the vessel was to be\n",
      "been in the most portion of the cabin,\n",
      "and\n",
      "we could not have been much to the brig of the\n",
      "water\n",
      "of the water in the other portion of the water in\n",
      "the sea, and the vessel was in\n",
      "the most portion of the\n",
      "brig as to be a large condition, and in a\n",
      "------------------------\n",
      "------------------------ night\n",
      "night but  the first were a great degree of the most, and the other time I could have come up to the way, but it is a long more than the whole of which he saw the first of the most thing was so to the place. He did not not be to be been in the way to the sea. The first were the great, in which the most of this latter, however, was no longer.\n",
      "The first of the day had been no longer to make the whole degree of the whole of the most degree, and I had been not to be so.\n",
      "\n",
      "The most of the day, the same thing we were not so to be so in the whole of the water, I had not been to be in the most portion of\n",
      "my own condition. The next day, however, was to be\n",
      "in the most of the water, the whole portion of the\n",
      "cabin of my eyes. It was not no more than\n",
      "the same portion of which he had been at a\n",
      "time to make us a few of the cabin as\n",
      "I could be to be in the same portion of the vessel)\n",
      "and we could not be done, but the most species was to\n",
      "be to be so more than a few\n",
      "of the most degree of the vessel. The whole day was no\n",
      "large or a little degree, and the\n",
      "\n",
      "------------------------\n",
      "------------------------ dream\n",
      "dream of a little. It was no\n",
      "more than the way of the same room. In my own mind I could not be been for a moment. It was a great time to the great door of the sea, but the whole portion of the water had to be a very very very very more than the most of the sea.\n",
      "\n",
      "``You will do you have not to be the word of the matter --the most of the most idea of my own hand -- --the whole words of his own eyes, and it would be a few of my friend, the man was in the whole of the room of his own hand, but it was no more than the most of the same, or the time to the most portion of the\n",
      "cabin and the most degree of terror, which we had not seen the vessel of\n",
      "the same time and in the sea, and, however, I could\n",
      "not make me a kind of water, for my own manner, and I\n",
      "should be to be so to be to be in the most time. The whole portion of the brig was to be to be been to be so\n",
      "to be to take the most manner of the water, and the whole\n",
      "time of my mind was so more than the whole of my own hand, and I\n",
      "could have been a few minutes to the first time as\n",
      "------------------------\n",
      "------------------------ thing\n",
      "thing and  and I had no more in the same man, and the man were; for a few of the great world was a more than that I could not make him a little place of the most degree of earth, and in the most degree of the sea, and a very little man of the most of my mind. We could not make the way of the same place in the most of a same time.\n",
      "\n",
      "The next day, I had been in the same time that he could not be been at length to the other and, the first of the same period. The third were now of a most very few and which he had been made to the whole degree, in the most portion of the\n",
      "brig and the whole day was, in a small manner of the most, and a large islands were thrown up from the cabin of the southward. The most portion of the\n",
      "vessel was in a few minutes, and he was to the\n",
      "way of my own way, as I saw that the mate were to be so to any means of\n",
      "the\n",
      "sea, and the whole of the sea, I had not been\n",
      "been to take a few and the vessel of a most\n",
      "distance of my head. We found a small manner of\n",
      "the brig, in our head, which were a very little portion of the\n",
      "vessel of a\n",
      "great\n",
      "------------------------\n",
      "------------------------ That night\n",
      "That night in the other of my hand. I could not be to be no way to make them more as; for it had no longer to be seen in the other of the most degree of water, and of the whole portion of the cabin which I felt a little of a very few of the most of the most portion of the brig, and the vessel is in our own\n",
      "means, and the whole of the sea, and he had been\n",
      "to be so a very very more than a little difficulty in a\n",
      "great portion of the savages in the\n",
      "cabin.\n",
      "\n",
      "I have not now had no longer to be to\n",
      "be so a very more than more than the whole side,\n",
      "we had not been to be in his hand, and a very\n",
      "little moment to be a little of the vessel in the savages in\n",
      "my\n",
      "hand, the whole manner of the most degree of the vessel.\n",
      "\n",
      "The brig was now to be so a large of the\n",
      "most of my own nature of the cabin in the water, and\n",
      "we had been to be so to be a very large,\n",
      "the most of a vessel of his hand; the mate was the small portion which had to be\n",
      "thrown up by the water to\n",
      "the water; and the other time\n",
      "to,\n",
      "I could not be been in his\n",
      "own condition, and I found a very large portion \n",
      "------------------------\n",
      "------------------------ mountain\n",
      "mountain a  and I had been to say in the whole time in the whole manner in the whole of the same man.\n",
      "\n",
      "The most of the same man was the few of the same day.\n",
      "\n",
      "The body of the old day had been seen in my hand, and the whole of a great thing was so to a little time. We now had been to have no little more than a more than one of the most distance, and in a few manner of the same manner of the other nature. The first was no little, and he was a very very little more than a kind of wine, which there was the most measure of a trap as I could not be to be a long and one of the most of the vessel,\n",
      "I saw the most portion of the brig in the water,\n",
      "and a great portion of a large condition of our hands; as I could not have been\n",
      "to be to be a few of the sea to be\n",
      "in the other of the vessel.\n",
      "\n",
      "It was not a few of the brig\n",
      "of the most degree of a\n",
      "water to the most of the vessel of a\n",
      "vessel as we had been to be, as I\n",
      "could be been to be in the\n",
      "other time and had been to make the\n",
      "hold of the cabin and the most\n",
      "degree of water.\n",
      "\n",
      "``It is no more\n",
      "------------------------\n",
      "------------------------ Ammi\n",
      "Ammi had been a very long and a few of the same world, but that the most of the whole man was so a few or a great state, which he had seen to be to be so to the most of the other, and\n",
      "we found that it were no very very more than the whole degree. We could see the same time,\n",
      "the most of the whole of the sea was so more to be\n",
      "more than the same man of the other manner. We could not\n",
      "have done the same time in the most portion of the\n",
      "schooner. The weather were in two hundred feet in a small\n",
      "distance on a small islands, which had been so\n",
      "to the vessel, the vessel was so very more. I could\n",
      "not have seen a few of the most of the vessel in\n",
      "the sea, which was a large appearance of the brig in the\n",
      "vessel. The brig was a very difficulty of a few\n",
      "of the water, and we had not no more than\n",
      "the brig to the southward; and the\n",
      "first of the sea had been so to the brig. I had found a large manner in a most portion of the\n",
      "vessel, as the whole of the sea was in the water as the whole vessel was the\n",
      "vessel of the sea,\n",
      "we were now as much of the vessel, and in\n",
      "the vessel of the brig had been so\n",
      "------------------------\n",
      "------------------------ Cthulhu\n",
      "Cthulhu of this the same time I found the most portion of the vessel and a large nature of the vessel.\n",
      "\n",
      "The whole of a great portion of the brig were to the water, and the vessel would be to be, and we was\n",
      "to make a little deal of a very little manner, and we had\n",
      "been been to be.\n",
      "\n",
      "``You will you know it, as I am no longer; and you can not be to do the word --you --the matter you will be to see a kind of your eyes --you will be no longer -- I, and you say it?'' The fact, I have now not to be sure, that I cannot say, as I have not to be sure, as he had to say, the thing in my hand; and I have not a few of a few of the most thing in the house --the whole man was a kind of wine. He had been so in a few minutes of the time in the same period. I had not been to be so much to the first of the time. He was no doubt, for the time of his own voice --the man of my own friend.\n",
      "\n",
      "It is not to say, but, as he was to be to be the word in my head. It is a few minutes that the most portion of the brig),\n",
      "------------------------\n",
      "------------------------ raven\n",
      "raven and the first of this day I had seen to the most of the same man. The third was no more, or now could not have seen a great degree, while it was very more as well in the same.\n",
      "\n",
      "``And a more than a little idea of this man are the matter, and it is a few of the way of the same man, and I could not say the first moment of the room of my own own voice. I have been a little of the way of the whole time in this time --the first man, it was no longer a few in a time, as the same time in my hand. In the whole moment it would have been to make. He now had been to make a few of my mind as he could do. But I had not to be to have no way of the house. The most time of this time we was to take them by the way of my own mind and the man was not to be to be to be in the same\n",
      "manner in the other world. I had no more than a little difficulty of my\n",
      "friend, and it had been been to take the same way in the sea, and we had been no little more than the vessel to have been to be in our attention to the sea.\n",
      "\n",
      "We had been, and I\n",
      "------------------------\n",
      "------------------------ bird\n",
      "bird the   of the most time which I have seen the way of a other world; for the time of the other man was the very very few and one had been to make the way from my mind. The whole day were the great door in the sea's  , the great line of the ground, which was a great distance of their black rock.\n",
      "\n",
      "``And it is that you is a little man of your eyes --the matter of a very little matter? But, that they had not been to do? It was the thing to do that it, but the old thing had been to have been a very few of the old man, for a little man was not so to be the matter of the world of my own mind. The first man was to be in the most of the same thing. The first of the same time he had been so to be a few of his own hand, and it was a very more than that the house of the room of the world was so more than the man of a most thing to be been at a great distance to the great abyss.\n",
      "\n",
      "It had been no long, and he had been to be in the most distance; for this time the most time was not to be seen. It was no longer, but was the most of my own \n",
      "------------------------\n",
      "------------------------ nevermore\n",
      "nevermore The  , the most of the water were in the sea. We could scarcely be done with a little distance, in the most of the cabin, as the same period of the sea. The whole of this time, however, were a small appearance of the whole door, and we could not be seen to\n",
      "be the few of the most of the most vessel, and we had been to be a\n",
      "large position, that we saw a large nature which could be seen in\n",
      "a large condition, and that we had been\n",
      "no difficulty in his eyes. In a time he had been\n",
      "so more than that it was no very longer. The mate had been in my\n",
      "attention, in one of the water, and in the brig.\n",
      "\n",
      "It are now, however, that I could not be\n",
      "to be to have been so, in the vessel of, the first manner\n",
      "in the water of my own condition.\n",
      "\n",
      "The whole portion of the whole of the\n",
      "brig were to the first the whole of the savages, and the whole manner had been,\n",
      "for that the whole portion of the whole of the vessel was to\n",
      "be\n",
      "to be to be to be been at once.\n",
      "\n",
      "In these time, however, I could have been a few portion of\n",
      "my head at a most portion of the brig in the\n",
      "sea of the water.\n",
      "\n",
      "The body of the \n",
      "------------------------\n",
      "------------------------ dead\n",
      "dead and a little time in my way for the other of the most of the same room, but the whole of the whole day of the old city had been seen in the same place and other feet and a great abyss. It were no longer to say it, but it was not to be so more than the man of the old world of the old man. It was not the few of his dreams and that the old city was a very kind of stone or to the world. It was not a very very very long, but the thing would be been for that the world was more than the old side of the city in the town and had ever ever found. There was, and a little, the first had been, and that he was the very very little thing of his house as the old Old Ones had been known to the world; and the first   , the old man had been to be seen. It was very great of the old city of the great town and the black stone city in the Great Ones of the earth; and that the Old Ones had a more than a great stone of a other and of the Great Ones the earth’s camp and the great world in earth’s earth’s mountains which. There was not the monstrous stone and the ancient peaks of the city. \n",
      "------------------------\n",
      "------------------------ The bird\n",
      "The bird of the most  and a very few of the whole day had been been as to make a great distance. The whole of the whole day we saw the first time of the whole manner and a most thing was so more than a kind of\n",
      "London, and this latter had been found a large feet with the cabin and the\n",
      "same time the most degree of earth. The whole portion of my eyes had taken, but I could not make the most moment, and it was not a long manner to be to be more, and the first of the time was a few degree of a large position in the vessel and a large islands of the cabin in the sea, and a few of the vessel were\n",
      "a great distance; and the small number of the vessel was the vessel in\n",
      "our head in the sea of the sea.\n",
      "\n",
      "The brig were now, in a large manner, with a large manner in the\n",
      "water, in the other time. I had been no\n",
      "doubt, and the first day of a most manner of the\n",
      "cabin. We now had been been at a little portion of my hand.\n",
      "\n",
      "It was no longer a very few. We had been no longer\n",
      "to make me the time.\n",
      "\n",
      "The first day was the very very great portion of the cabin with the brig, and the mate was been\n",
      "upon the way.\n",
      "------------------------\n"
     ]
    }
   ],
   "source": [
    "for i in range(len(text_to_try)):\n",
    "    text = text_to_try[i]\n",
    "    generated = samples[i]\n",
    "    print(\"------------------------\",text)\n",
    "    print(generated)\n",
    "    print(\"------------------------\")"
   ]
  },
  {
   "cell_type": "code",
   "execution_count": 82,
   "metadata": {},
   "outputs": [
    {
     "data": {
      "text/plain": [
       "model_checkpoint_path: \"checkpoints/mwords_i8550_l512.ckpt\"\n",
       "all_model_checkpoint_paths: \"checkpoints/mwords_i6701_l512.ckpt\"\n",
       "all_model_checkpoint_paths: \"checkpoints/mwords_i7201_l512.ckpt\"\n",
       "all_model_checkpoint_paths: \"checkpoints/mwords_i7701_l512.ckpt\"\n",
       "all_model_checkpoint_paths: \"checkpoints/mwords_i8201_l512.ckpt\"\n",
       "all_model_checkpoint_paths: \"checkpoints/mwords_i8550_l512.ckpt\""
      ]
     },
     "execution_count": 82,
     "metadata": {},
     "output_type": "execute_result"
    }
   ],
   "source": [
    "tf.train.get_checkpoint_state('checkpoints')"
   ]
  },
  {
   "cell_type": "code",
   "execution_count": 83,
   "metadata": {},
   "outputs": [
    {
     "name": "stdout",
     "output_type": "stream",
     "text": [
      "words\n",
      "INFO:tensorflow:Restoring parameters from checkpoints/mwords_i8550_l512.ckpt\n",
      "The thing that should not be to be to make the same man; but it is a little more than the time of the most portion of the water; but in his hand, the same period he would not be to be a few of the most of the sea, and the first of the same time, we had been been at length, but to the most of the whole of our hand -- and a most of my head was to be to be to the vessel.\n",
      "\n",
      "We had not not been to say the most time to be to\n",
      "have to be to take my head with the most of the cabin and the\n",
      "brig had ever been been at once in a great portion\n",
      "of the water) and a few of a other\n",
      "manner of the sea and most of the vessel\n",
      "as the vessel had been to be been at the sea of the vessel and the sea\n",
      "were so much and the first of the water and a other portion\n",
      "of the sea, and in a great portion of the brig (with our\n",
      "way with the most portion of\n",
      "my eyes; and a little manner, in the same manner\n",
      "of a large manner and the water, and was so much in a\n",
      "great distance. We now made a few of the cabin\n",
      "in the cabin and the brig had been taken from the savages\n",
      "in the cabin which I could not say, as it was a\n",
      "few of the water; but the most of the\n",
      "most of the brig, and the whole manner of\n",
      "his head were at the most time\n",
      "of the most portion of the cabin and a few of the vessel\n",
      "of the vessel in the sea, we found the whole degree of deck. The whole manner\n",
      "were found with a great manner, and the whole day, and a\n",
      "most very large manner which made us no doubt to the vessel. In a time\n",
      "a great portion of a vessel had been so to any\n",
      "the vessel, we were to be been to be\n",
      "so more than that I was, and a few of our most\n",
      "of the most manner of my companions was the mate\n",
      "before.\n",
      "\n",
      "I have made a few degree of a great position; for a\n",
      "most time in my head, as it would have, in the most manner\n",
      "of a great vessel of the sea, which we could\n",
      "not be to be to be\n",
      "to make them to make the vessel to\n",
      "the vessel of the water\n",
      "in the water, but in the other\n",
      "manner, and I had found a large appearance, the whole and. The whole\n",
      "day had been been so as I could not be been to\n",
      "make us a large degree, and the whole of his brig, as\n",
      "I could not make us be to be so in the most portion of\n",
      "the cabin, in my\n",
      "hand, I had been to be a little difficulty in his\n",
      "head in a vessel in a most manner. We\n",
      "had been to the most degree of deck, and\n",
      "the vessel was in a few of our head\n",
      "from the savages in the savages of the vessel, the most of the brig of the\n",
      "sea, and a large islands was a few of the water. We was not the\n",
      "great difficulty which could not be able to be so, and we could\n",
      "see the whole of the water in the vessel\n",
      "of the cabin as I should be been at least, as he, and I\n",
      "could be able to get up that a few minutes. I\n",
      "had found, I was no more than the whole of a large condition\n",
      "of the water; as the most of the water,\n",
      "we had no more than a very little, as we had\n",
      "found the whole portion of the brig (with the cabin or\n",
      "to the water. We had been in\n",
      "my hand as the brig were to the sea. We found the brig\n",
      "at the whole period, the wind of our body was so much in the vessel\n",
      "to the cabin, as we could not say a few of our\n",
      "way to his mind in the cabin, and I\n",
      "found the most degree of thirst, the whole canoes\n",
      "in the cabin of the\n",
      "cabin of our body. The whole manner is been as as\n",
      "the most manner of my own hand, I had found the most\n",
      "large and the water was to be a more than a most\n",
      "of my own condition, and he had now been to take him\n",
      "by my own.\n",
      "\n",
      "``It will be sure,'' replied this, as I could not be done. I was no little very less than a very little of the water, I had no longer no reason for the same manner. He had been in the most portion of the whole door -- and it would have been to be so more than the way on my hand. It was not a few and the most difficulty, and the first\n",
      "of the first moment the most time of his own position -- the most of a whole manner, and the most portion of the brig.\n",
      "\n",
      "The whole manner had made a little manner, as he was a large manner to the\n",
      "water, and that the time was the most difficulty and\n",
      "discovered his own situation and to be been to make\n",
      "a large manner of the sea. It was very very little more,\n",
      "and a few of the brig were to the water, and the mate\n",
      "was not so more than that the brig, and it was no\n",
      "way to the sea of our most degree, and it. The brig\n",
      "were no longer to be been for the vessel of the\n",
      "vessel, but a large manner of our head on the sea,\n",
      "which was a small portion of the vessel as\n",
      "a great vessel, which was not been in the vessel to the\n",
      "cabin of my own way. We could not say that it had\n",
      "been been to be to make a great distance. We now now no\n",
      "little\n",
      "of a great degree of water. I was no more than a\n",
      "large position of the cabin, and I could not help a large manner.\n",
      "\n",
      "In a most portion of the whole of the whole portion of his\n",
      "own body in the most manner of the sea.\n",
      "\n",
      "The most time was not to be to be been;\n",
      "but I had not been at\n",
      "a moment, and he could not have been the\n",
      "vessel and a most portion of the savages\n",
      "at the manner. The whole time is a very large, and\n",
      "we could not be,\n",
      "I saw, I was to have no means to\n",
      "be in the most degree of the\n",
      "deck of a great extent, a large vessel and\n",
      "two of the cabin and\n",
      "be taken from a small degree of a most\n",
      "distance of the sea. The vessel was to\n",
      "be no more than the water,\n",
      "and to be to have been to make the way\n",
      "to a great portion, which had been\n",
      "found in the most degree of water.\n",
      "\n",
      "In the most portion of the whole of this\n",
      "day, we was to be a small difficulty, and\n",
      "now immediately in the sea to the vessel of the\n",
      "savages to the cabin. The whole portion of a whole portion\n",
      "was in our hands, as we had been a very few of our body. We were a little portion of the\n",
      "brig in the sea, and\n",
      "the most time\n",
      "I could be able to have been the rope to our\n",
      "hold.\n",
      "\n",
      "The brig was a very little very large in the sea in the water.\n",
      "\n",
      "The brig was a very very little more than a few of our water, but a few and the\n",
      "whole manner were in the sea, and I had been to\n",
      "be to make a large state of the\n",
      "sea; and the mate was to be\n",
      "so very far to be so much than a large portion of the\n",
      "savages in our head; the brig, and\n",
      "the whole time of the savages, and we found, the most of the\n",
      "vessel was to the vessel of the\n",
      "cabin in our own hand, and the brig\n",
      "had been to be in a\n",
      "few of the sea.\n",
      "\n",
      "``The word, --the whole time is a little very very long of the same time I should see the vessel of the whole\n",
      "door in a great manner of the whole, and I was not\n",
      "to be so more than it, for a time I should have been to be a\n",
      "very few degree of. I was a little more than the whole manner in a\n",
      "vessel. The most moment had been been to the vessel of the water,\n",
      "which was no longer so more than a little portion of the\n",
      "brig, and it, in the\n",
      "other time I could not help myself\n",
      "at the manner in the vessel, the mate had\n",
      "been to take the cabin\n",
      "with a most difficulty of despair, the mate\n",
      "had been to make a large position, the brig in our\n",
      "savages, I could scarcely be to go from the vessel\n",
      "and the water of my own;\n",
      "and he were no very more\n",
      "than the vessel in the water, in the vessel in our deck, as\n",
      "the vessel was now to take the most portion of\n",
      "the savages\n",
      "in the cabin, which he had been made from a most\n",
      "of a large condition, as the brig had been to\n",
      "be in a large degree of the vessel in the water.\n",
      "\n",
      "In the whole day he could not have been to be to be\n",
      "in the most degree of latitude)\n",
      "\n",
      "((the longitude -- -- , upon the brig\n",
      "of the brig, with the vessel of the\n",
      "water, which was the most very little than the\n",
      "vessel of the water, the\n",
      "whole of the brig had been to\n",
      "make a great manner, and I found a great manner from the cabin and\n",
      "no great degree of water, which would be to be\n",
      "so to the sea. I could scarcely say\n",
      "that the time were not been so to be in his\n",
      "mind in our way for my head of the water\n",
      "of my mind in the vessel to the most degree of water. The\n",
      "whole of this latter had been been at least in\n",
      "the sea, and we found the first\n",
      "time to the water as a\n",
      "few of his hand. In a\n",
      "most moment the vessel had been\n",
      "found that we could be seen, and the first of this period\n",
      "of the most time. I saw a very few of the vessel we had been been.\n",
      "\n",
      "It was a very very very few of the vessel, and a large\n",
      "manner of my eyes, a small manner in our water.\n",
      "\n",
      "We was no little than my mind to make us to be a\n",
      "large manner with the cabin, and the brig were to the vessel in\n",
      "the vessel of the vessel, and in the\n",
      "most time in the sea in the vessel, I had\n",
      "been so, as he could never have been to the\n",
      "most portion of the savages, with\n",
      "his way, the most portion of the savages\n",
      "in the cabin, the mate were to be so more than it in the\n",
      "vessel, and he were not a few of a most\n",
      "difficulty and immediately in the water, as\n",
      "the first of the\n",
      "sea, we were now to be a few\n",
      "of the most manner of a\n",
      "large position, a small islands of our head in\n",
      "the savages.\n",
      "\n",
      "In this manner the whole manner were in the sea, and\n",
      "I had been to the first of a few degree of\n",
      "a great extent of the water as the vessel of our water.\n",
      "\n",
      "In the whole manner the brig, however, we found it in the same\n",
      "moment in this manner to be the vessel, but the whole portion\n",
      "of the savages, in a small manner, which he was no more\n",
      "to be more than the water. It was the most\n",
      "portion of my head in the sea, and a most difficulty of thirst\n",
      "and nearly up which we could see a vessel; and the most difficulty\n",
      "was in a large position, the vessel\n",
      "was a few of my own hand. It is\n",
      "not to be a little portion, and it was,\n",
      "to the first manner that of the most of our\n",
      "head was so\n",
      "far to be so far at the most manner to\n",
      "be to make a vessel\n",
      "in the water to the most\n",
      "portion of the vessel. This being now was\n",
      "a large manner in the cabin, and it, the whole\n",
      "manner was so very much and more than the whole time in the\n",
      "most portion of\n",
      "the brig, and at the same time, the mate\n",
      "had been taken by our hand.\n",
      "\n",
      "We found a large manner, and a great difficulty\n",
      "and discovered a few breeze from the cabin\n",
      "and the most portion of our head, as\n",
      "the brig was no\n",
      "longer and possible. It had been very long in the water, and had\n",
      "to be to be so more than the manner, but it was to make a few minutes in a\n",
      "large\n",
      "portion of his companions, as if I saw the vessel to\n",
      "the sea,\n",
      "and the most of a large condition was the vessel, and we had\n",
      "been now to have been a\n",
      "large degree, as he had taken a large\n",
      "degree, and a few minutes in the vessel, we\n",
      "had been\n",
      "to be to be so in my hand.\n",
      "\n",
      "``And it, as I am no good -- in a kind'''' I replied, ``as I had been at a time to the most time --I am no longer to be been at the matter. It was to be so very long, or to say. ``It is a little of a little idea; but I am to do it ----I am not not to be to say, and, in the word, the man, I am sure the skull is that the thing of the matter I can?''\n",
      "\n",
      "I have been to be a few of the most of the vessel in the whole manner, the most manner of \n"
     ]
    }
   ],
   "source": [
    "generated = sample(checkpoint, 5000, lstm_size, len(vocab), prime=\"The thing that should not be\",mode=mode)\n",
    "print(generated)"
   ]
  },
  {
   "cell_type": "code",
   "execution_count": null,
   "metadata": {
    "collapsed": true
   },
   "outputs": [],
   "source": []
  },
  {
   "cell_type": "code",
   "execution_count": null,
   "metadata": {
    "collapsed": true
   },
   "outputs": [],
   "source": []
  }
 ],
 "metadata": {
  "kernelspec": {
   "display_name": "Python 3",
   "language": "python",
   "name": "python3"
  },
  "language_info": {
   "codemirror_mode": {
    "name": "ipython",
    "version": 3
   },
   "file_extension": ".py",
   "mimetype": "text/x-python",
   "name": "python",
   "nbconvert_exporter": "python",
   "pygments_lexer": "ipython3",
   "version": "3.6.3"
  }
 },
 "nbformat": 4,
 "nbformat_minor": 2
}
