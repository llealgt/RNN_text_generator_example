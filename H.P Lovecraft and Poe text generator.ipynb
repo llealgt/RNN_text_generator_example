{
 "cells": [
  {
   "cell_type": "markdown",
   "metadata": {},
   "source": [
    "# Recurrent neural networks for H.P Lovecraft text generation\n",
    "\n",
    "\"The color out of space\" is one of my favorite tales from Lovecraft, i will use it(as well as others as the call of cthulhu) to create a recurrent neural network in tensorflow that learns his style and generates new text in his style\n",
    "\n",
    "This network is based off of Andrej Karpathy's [post on RNNs](http://karpathy.github.io/2015/05/21/rnn-effectiveness/) and [implementation in Torch](https://github.com/karpathy/char-rnn) and an example from \"Deep Learning Nanodegree\" on udacity. Also, some information [here at r2rt](http://r2rt.com/recurrent-neural-networks-in-tensorflow-ii.html) and from [Sherjil Ozair](https://github.com/sherjilozair/char-rnn-tensorflow) on GitHub. \n",
    "\n",
    "## General architecture using \"Long short term memory\" units in the recurrent layers\n",
    "\n",
    "<img src=\"assets/charseq.jpeg\" width=\"500\">"
   ]
  },
  {
   "cell_type": "code",
   "execution_count": 1,
   "metadata": {},
   "outputs": [],
   "source": [
    "%matplotlib inline\n",
    "%config InlineBackend.figure_format = 'retina'"
   ]
  },
  {
   "cell_type": "code",
   "execution_count": 2,
   "metadata": {},
   "outputs": [],
   "source": [
    "import time\n",
    "from collections import namedtuple\n",
    "\n",
    "import numpy as np\n",
    "import tensorflow as tf\n",
    "from nltk.tokenize import word_tokenize\n",
    "import nltk\n",
    "import itertools\n",
    "import matplotlib.pyplot as plt\n",
    "from time import gmtime, strftime ,localtime"
   ]
  },
  {
   "cell_type": "code",
   "execution_count": 3,
   "metadata": {},
   "outputs": [],
   "source": [
    "# Run only the  first time nltk is used to download language\n",
    "#nltk.download()"
   ]
  },
  {
   "cell_type": "markdown",
   "metadata": {},
   "source": [
    "### Define conf variables and hyper parameteters "
   ]
  },
  {
   "cell_type": "code",
   "execution_count": 4,
   "metadata": {
    "collapsed": true
   },
   "outputs": [],
   "source": [
    "mode = \"characters\" #characters or words\n",
    "\n",
    "epochs = 15\n",
    "batch_size = 128       # Sequences per batch\n",
    "num_steps = 75         # Number of sequence steps per batch\n",
    "lstm_size = 512         # Size of hidden layers in LSTMs\n",
    "num_layers = 2          # Number of LSTM layers\n",
    "learning_rate = 0.005    # Learning rate\n",
    "keep_prob = 1       # Dropout keep probability\n",
    "\n",
    "resume_from_checkpoint = False"
   ]
  },
  {
   "cell_type": "markdown",
   "metadata": {},
   "source": [
    "### Define base text\n",
    "Once trained ,the network can take base text and a sequence size and generate new text using base text as first characters in the sequence. For every element in base text wi will create a list that will store generated text as training goes, to be able to compare results between steps"
   ]
  },
  {
   "cell_type": "code",
   "execution_count": 5,
   "metadata": {
    "collapsed": true
   },
   "outputs": [],
   "source": [
    "text_to_try = [\"In the first place\",\"the night before\",\"horror\",\"creature\",\"night\",\"dream\",\"thing\",\"That night\",\"mountain\",\"Ammi\",\"Cthulhu\",\"raven\",\"bird\",\"nevermore\",\"dead\",\"The bird\"]"
   ]
  },
  {
   "cell_type": "markdown",
   "metadata": {},
   "source": [
    "#### Function that separates text into tokens(for whitespace characters, only new line is implemented, missing tabs and others="
   ]
  },
  {
   "cell_type": "code",
   "execution_count": 6,
   "metadata": {},
   "outputs": [
    {
     "data": {
      "text/plain": [
       "['H',\n",
       " 'e',\n",
       " 'l',\n",
       " 'l',\n",
       " 'o',\n",
       " ',',\n",
       " ' ',\n",
       " 'm',\n",
       " 'y',\n",
       " ' ',\n",
       " 'n',\n",
       " 'a',\n",
       " 'm',\n",
       " 'e',\n",
       " ' ',\n",
       " 'i',\n",
       " 's',\n",
       " ' ',\n",
       " 'L',\n",
       " 'u',\n",
       " 'i',\n",
       " 's',\n",
       " ' ',\n",
       " 'L',\n",
       " 'e',\n",
       " 'a',\n",
       " 'l',\n",
       " '!',\n",
       " '\\n',\n",
       " '\\n',\n",
       " 'F',\n",
       " 'r',\n",
       " 'o',\n",
       " 'm',\n",
       " ' ',\n",
       " 'G',\n",
       " 'u',\n",
       " 'a',\n",
       " 't',\n",
       " 'e',\n",
       " 'm',\n",
       " 'a',\n",
       " 'l',\n",
       " 'a']"
      ]
     },
     "execution_count": 6,
     "metadata": {},
     "output_type": "execute_result"
    }
   ],
   "source": [
    "def tokenize_by_words(text):\n",
    "    text = text.replace(\"\\n\",\" new_line_token \")\n",
    "    tokens = []\n",
    "    splitted =[[word_tokenize(w),' ']for w in text.split()]\n",
    "    splitted = list(itertools.chain(*list(itertools.chain(*splitted))))\n",
    "    \n",
    "    token_list = []\n",
    "    i = 0\n",
    "    while i < len(splitted):\n",
    "        if splitted[i] == \"new_line_token\":\n",
    "            if   token_list[-1]==\" \":\n",
    "                token_list[-1] = splitted[i]\n",
    "            else:\n",
    "                token_list.append(splitted[i])\n",
    "            i+=1\n",
    "        else:\n",
    "            token_list.append(splitted[i])\n",
    "        i+=1\n",
    "    \n",
    "    return token_list\n",
    "\n",
    "def tokenize_by_characters(text):\n",
    "    return list(text)\n",
    "\n",
    "def tokenize_text(text,mode=\"characters\"):\n",
    "    if mode == \"characters\":\n",
    "        return tokenize_by_characters(text)\n",
    "    elif mode == \"words\":\n",
    "        return tokenize_by_words(text)\n",
    "    \n",
    "tokenize_text(\"Hello, my name is Luis Leal!\\n\\nFrom Guatemala\",mode)\n",
    "#tokenize_text(\"Hello, my name is Luis Leal!\\n\\nFrom Guatemala\",\"words\")\n"
   ]
  },
  {
   "cell_type": "markdown",
   "metadata": {},
   "source": [
    "First we'll load the text file and convert it into integers for our network to use. Here I'm creating a couple dictionaries to convert the characters to and from integers. Encoding the characters as integers makes it easier to use as input in the network."
   ]
  },
  {
   "cell_type": "code",
   "execution_count": 7,
   "metadata": {
    "collapsed": true
   },
   "outputs": [],
   "source": [
    "with open('corpus.txt', 'r') as f:\n",
    "    text=f.read()"
   ]
  },
  {
   "cell_type": "code",
   "execution_count": 8,
   "metadata": {
    "collapsed": true
   },
   "outputs": [],
   "source": [
    "vocab = set(tokenize_text(text,mode))\n",
    "vocab_to_int = {c: i for i, c in enumerate(vocab)}\n",
    "int_to_vocab = dict(enumerate(vocab))"
   ]
  },
  {
   "cell_type": "markdown",
   "metadata": {},
   "source": [
    "### Get a little portion of text for validation"
   ]
  },
  {
   "cell_type": "code",
   "execution_count": 9,
   "metadata": {
    "collapsed": true
   },
   "outputs": [],
   "source": [
    "tokenized_text = tokenize_text(text,mode)\n",
    "encoded_dataset = np.array([vocab_to_int[c] for c in tokenized_text if c in vocab_to_int], dtype=np.int32)"
   ]
  },
  {
   "cell_type": "code",
   "execution_count": 10,
   "metadata": {
    "collapsed": true
   },
   "outputs": [],
   "source": [
    "validation_size = batch_size * num_steps #create a single baty\n",
    "validation_start_index = len(encoded_dataset) - validation_size\n",
    "\n",
    "encoded = encoded_dataset[:validation_start_index]\n",
    "encoded_val = encoded_dataset[validation_start_index:]"
   ]
  },
  {
   "cell_type": "code",
   "execution_count": 11,
   "metadata": {},
   "outputs": [
    {
     "name": "stdout",
     "output_type": "stream",
     "text": [
      "r genera of creatures are germinated) -- the spontaneous germination, I say, of five vast hordes of \n"
     ]
    }
   ],
   "source": [
    "def encoded_to_text(encoded):\n",
    "    return \"\".join([int_to_vocab[number] for number in encoded])\n",
    "\n",
    "print(encoded_to_text(encoded_val[0:100]))"
   ]
  },
  {
   "cell_type": "code",
   "execution_count": 12,
   "metadata": {
    "collapsed": true
   },
   "outputs": [],
   "source": [
    "val_text =encoded_to_text(encoded_val)\n",
    "text = encoded_to_text(encoded)"
   ]
  },
  {
   "cell_type": "markdown",
   "metadata": {},
   "source": [
    "Let's check out the first 100 characters of train and validation, make sure everything is peachy.  line of a book ever."
   ]
  },
  {
   "cell_type": "code",
   "execution_count": 13,
   "metadata": {},
   "outputs": [
    {
     "data": {
      "text/plain": [
       "'THE COLOUR OUT OF SPACE\\n\\nWest of Arkham the hills rise wild, and there are valleys with deep woods t'"
      ]
     },
     "execution_count": 13,
     "metadata": {},
     "output_type": "execute_result"
    }
   ],
   "source": [
    "text[:100]"
   ]
  },
  {
   "cell_type": "code",
   "execution_count": 14,
   "metadata": {},
   "outputs": [
    {
     "data": {
      "text/plain": [
       "'r genera of creatures are germinated) -- the spontaneous germination, I say, of five vast hordes of '"
      ]
     },
     "execution_count": 14,
     "metadata": {},
     "output_type": "execute_result"
    }
   ],
   "source": [
    "val_text[:100]"
   ]
  },
  {
   "cell_type": "markdown",
   "metadata": {},
   "source": [
    "And we can see the characters encoded as integersin both train and validation"
   ]
  },
  {
   "cell_type": "code",
   "execution_count": 15,
   "metadata": {},
   "outputs": [
    {
     "data": {
      "text/plain": [
       "array([53, 70, 96, 48, 84, 18, 15, 18, 71,  1, 48, 18, 71, 53, 48, 18, 52,\n",
       "       48, 74, 10, 31, 84, 96, 19, 19, 77, 16, 49, 63, 48, 62, 57, 48, 31,\n",
       "       99, 69, 43, 92,  9, 48, 63, 43, 16, 48, 43,  6, 20, 20, 49, 48, 99,\n",
       "        6, 49, 16, 48, 93,  6, 20, 32, 58, 48, 92, 47, 32, 48, 63, 43, 16,\n",
       "       99, 16, 48, 92, 99, 16, 48, 35, 92, 20, 20, 16, 67, 49, 48, 93,  6,\n",
       "       63, 43, 48, 32, 16, 16, 78, 48, 93, 62, 62, 32, 49, 48, 63], dtype=int32)"
      ]
     },
     "execution_count": 15,
     "metadata": {},
     "output_type": "execute_result"
    }
   ],
   "source": [
    "encoded[:100]"
   ]
  },
  {
   "cell_type": "code",
   "execution_count": 16,
   "metadata": {},
   "outputs": [
    {
     "data": {
      "text/plain": [
       "array([99, 48, 97, 16, 47, 16, 99, 92, 48, 62, 57, 48, 39, 99, 16, 92, 63,\n",
       "       82, 99, 16, 49, 48, 92, 99, 16, 48, 97, 16, 99,  9,  6, 47, 92, 63,\n",
       "       16, 32, 55, 48,  0,  0, 48, 63, 43, 16, 48, 49, 78, 62, 47, 63, 92,\n",
       "       47, 16, 62, 82, 49, 48, 97, 16, 99,  9,  6, 47, 92, 63,  6, 62, 47,\n",
       "       58, 48, 12, 48, 49, 92, 67, 58, 48, 62, 57, 48, 57,  6, 35, 16, 48,\n",
       "       35, 92, 49, 63, 48, 43, 62, 99, 32, 16, 49, 48, 62, 57, 48], dtype=int32)"
      ]
     },
     "execution_count": 16,
     "metadata": {},
     "output_type": "execute_result"
    }
   ],
   "source": [
    "encoded_val[0:100]"
   ]
  },
  {
   "cell_type": "markdown",
   "metadata": {},
   "source": [
    "Since the network is working with individual english tokens, it's similar to a classification problem in which we are trying to predict the next character from the previous text.  Here's how many 'classes' our network has to pick from."
   ]
  },
  {
   "cell_type": "code",
   "execution_count": 17,
   "metadata": {},
   "outputs": [
    {
     "data": {
      "text/plain": [
       "102"
      ]
     },
     "execution_count": 17,
     "metadata": {},
     "output_type": "execute_result"
    }
   ],
   "source": [
    "len(vocab)"
   ]
  },
  {
   "cell_type": "markdown",
   "metadata": {},
   "source": [
    "## Making training mini-batches\n",
    "\n",
    "Here is where we'll make our mini-batches for training. Remember that we want our batches to be multiple sequences of some desired number of sequence steps. Considering a simple example, our batches would look like this:\n",
    "\n",
    "<img src=\"assets/sequence_batching@1x.png\" width=500px>\n",
    "\n",
    "\n",
    "<br>\n",
    "We have our text encoded as integers as one long array in `encoded`. Let's create a function that will give us an iterator for our batches. I like using [generator functions](https://jeffknupp.com/blog/2013/04/07/improve-your-python-yield-and-generators-explained/) to do this. Then we can pass `encoded` into this function and get our batch generator.\n",
    "\n",
    "The first thing we need to do is discard some of the text so we only have completely full batches. Each batch contains $N \\times M$ characters, where $N$ is the batch size (the number of sequences) and $M$ is the number of steps. Then, to get the number of batches we can make from some array `arr`, you divide the length of `arr` by the batch size. Once you know the number of batches and the batch size, you can get the total number of characters to keep.\n",
    "\n",
    "After that, we need to split `arr` into $N$ sequences. You can do this using `arr.reshape(size)` where `size` is a tuple containing the dimensions sizes of the reshaped array. We know we want $N$ sequences (`n_seqs` below), let's make that the size of the first dimension. For the second dimension, you can use `-1` as a placeholder in the size, it'll fill up the array with the appropriate data for you. After this, you should have an array that is $N \\times (M * K)$ where $K$ is the number of batches.\n",
    "\n",
    "Now that we have this array, we can iterate through it to get our batches. The idea is each batch is a $N \\times M$ window on the array. For each subsequent batch, the window moves over by `n_steps`. We also want to create both the input and target arrays. Remember that the targets are the inputs shifted over one character. You'll usually see the first input character used as the last target character, so something like this:\n",
    "```python\n",
    "y[:, :-1], y[:, -1] = x[:, 1:], x[:, 0]\n",
    "```\n",
    "where `x` is the input batch and `y` is the target batch.\n",
    "\n",
    "The way I like to do this window is use `range` to take steps of size `n_steps` from $0$ to `arr.shape[1]`, the total number of steps in each sequence. That way, the integers you get from `range` always point to the start of a batch, and each window is `n_steps` wide."
   ]
  },
  {
   "cell_type": "code",
   "execution_count": 18,
   "metadata": {
    "collapsed": true
   },
   "outputs": [],
   "source": [
    "def get_batches(arr, n_seqs, n_steps):\n",
    "    '''Create a generator that returns batches of size\n",
    "       n_seqs x n_steps from arr.\n",
    "       \n",
    "       Arguments\n",
    "       ---------\n",
    "       arr: Array you want to make batches from\n",
    "       n_seqs: Batch size, the number of sequences per batch\n",
    "       n_steps: Number of sequence steps per batch\n",
    "    '''\n",
    "    # Get the batch size and number of batches we can make\n",
    "    batch_size = n_seqs * n_steps \n",
    "    n_batches =  len(arr)//batch_size\n",
    "    \n",
    "    # Keep only enough characters to make full batches\n",
    "    arr =  arr[:n_batches*batch_size]\n",
    "    \n",
    "    # Reshape into n_seqs rows\n",
    "    arr = arr.reshape((n_seqs,-1))\n",
    "    \n",
    "    for n in range(0, arr.shape[1], n_steps):\n",
    "        # The features\n",
    "        x = arr[:,n:n+n_steps]\n",
    "        # The targets, shifted by one\n",
    "        y = np.zeros(x.shape)\n",
    "        y[:,:-1],y[:,-1] = x[:,1:] ,x[:,0]\n",
    "        yield x, y"
   ]
  },
  {
   "cell_type": "markdown",
   "metadata": {},
   "source": [
    "Now I'll make my data sets and we can check out what's going on here. Here I'm going to use a batch size of 10 and 50 sequence steps."
   ]
  },
  {
   "cell_type": "code",
   "execution_count": 19,
   "metadata": {
    "collapsed": true
   },
   "outputs": [],
   "source": [
    "batches = get_batches(encoded, 10, 50)\n",
    "x, y = next(batches)"
   ]
  },
  {
   "cell_type": "code",
   "execution_count": 20,
   "metadata": {},
   "outputs": [
    {
     "name": "stdout",
     "output_type": "stream",
     "text": [
      "x\n",
      " [[53 70 96 48 84 18 15 18 71  1]\n",
      " [48 49 16 63 48 92 78 78 16 92]\n",
      " [48 39 92 35 16 99 47 62 82 49]\n",
      " [16 32 48 20 62 62 78 43 62 20]\n",
      " [63 20 67 48 63 62 48 92 20 20]\n",
      " [16 92 99 20 67 48 39 92 20  9]\n",
      " [16 49 48 93 16 99 16 48 92 97]\n",
      " [47 48 92 32 35 92 47 39 16 58]\n",
      " [92 39 16 32 48 32 62 93 47 48]\n",
      " [63 92  6 47 95 49 48 54 92 49]]\n",
      "\n",
      "y\n",
      " [[ 70.  96.  48.  84.  18.  15.  18.  71.   1.  48.]\n",
      " [ 49.  16.  63.  48.  92.  78.  78.  16.  92.  20.]\n",
      " [ 39.  92.  35.  16.  99.  47.  62.  82.  49.  48.]\n",
      " [ 32.  48.  20.  62.  62.  78.  43.  62.  20.  16.]\n",
      " [ 20.  67.  48.  63.  62.  48.  92.  20.  20.  62.]\n",
      " [ 92.  99.  20.  67.  48.  39.  92.  20.   9.  58.]\n",
      " [ 49.  48.  93.  16.  99.  16.  48.  92.  97.  92.]\n",
      " [ 48.  92.  32.  35.  92.  47.  39.  16.  58.  48.]\n",
      " [ 39.  16.  32.  48.  32.  62.  93.  47.  48.  78.]\n",
      " [ 92.   6.  47.  95.  49.  48.  54.  92.  49.  16.]]\n"
     ]
    }
   ],
   "source": [
    "print('x\\n', x[:10, :10])\n",
    "print('\\ny\\n', y[:10, :10])"
   ]
  },
  {
   "cell_type": "markdown",
   "metadata": {},
   "source": [
    "## Building the model\n",
    "\n",
    "Below is where you'll build the network. We'll break it up into parts so it's easier to reason about each bit. Then we can connect them up into the whole network.\n",
    "\n",
    "<img src=\"assets/charRNN.png\" width=500px>\n",
    "\n",
    "\n",
    "### Inputs\n",
    "\n",
    "First off we'll create our input placeholders. As usual we need placeholders for the training data and the targets. We'll also create a placeholder for dropout layers called `keep_prob`. This will be a scalar, that is a 0-D tensor. To make a scalar, you create a placeholder without giving it a size."
   ]
  },
  {
   "cell_type": "code",
   "execution_count": 21,
   "metadata": {
    "collapsed": true
   },
   "outputs": [],
   "source": [
    "def build_inputs(batch_size, num_steps):\n",
    "    ''' Define placeholders for inputs, targets, and dropout \n",
    "    \n",
    "        Arguments\n",
    "        ---------\n",
    "        batch_size: Batch size, number of sequences per batch\n",
    "        num_steps: Number of sequence steps in a batch\n",
    "        \n",
    "    '''\n",
    "    # Declare placeholders we'll feed into the graph\n",
    "    inputs = tf.placeholder(tf.int32,[batch_size,num_steps],name=\"inputs\")\n",
    "    targets = tf.placeholder(tf.int32,[batch_size,num_steps],name=\"targets\")\n",
    "    \n",
    "    # Keep probability placeholder for drop out layers\n",
    "    keep_prob = tf.placeholder(tf.float32,name=\"keep_prob\")\n",
    "    \n",
    "    return inputs, targets, keep_prob"
   ]
  },
  {
   "cell_type": "markdown",
   "metadata": {},
   "source": [
    "### LSTM Cell\n",
    "\n",
    "Here we will create the LSTM cell we'll use in the hidden layer. We'll use this cell as a building block for the RNN. So we aren't actually defining the RNN here, just the type of cell we'll use in the hidden layer.\n",
    "\n",
    "We first create a basic LSTM cell with\n",
    "\n",
    "```python\n",
    "lstm = tf.contrib.rnn.BasicLSTMCell(num_units)\n",
    "```\n",
    "\n",
    "where `num_units` is the number of units in the hidden layers in the cell. Then we can add dropout by wrapping it with \n",
    "\n",
    "```python\n",
    "tf.contrib.rnn.DropoutWrapper(lstm, output_keep_prob=keep_prob)\n",
    "```\n",
    "You pass in a cell and it will automatically add dropout to the inputs or outputs. Finally, we can stack up the LSTM cells into layers with [`tf.contrib.rnn.MultiRNNCell`](https://www.tensorflow.org/versions/r1.0/api_docs/python/tf/contrib/rnn/MultiRNNCell). With this, you pass in a list of cells and it will send the output of one cell into the next cell. For example,\n",
    "\n",
    "```python\n",
    "tf.contrib.rnn.MultiRNNCell([cell]*num_layers)\n",
    "```\n",
    "\n",
    "This might look a little weird if you know Python well because this will create a list of the same `cell` object. However, TensorFlow will create different weight matrices for all `cell` objects. Even though this is actually multiple LSTM cells stacked on each other, you can treat the multiple layers as one cell.\n",
    "\n",
    "We also need to create an initial cell state of all zeros. This can be done like so\n",
    "\n",
    "```python\n",
    "initial_state = cell.zero_state(batch_size, tf.float32)\n",
    "```\n"
   ]
  },
  {
   "cell_type": "code",
   "execution_count": 22,
   "metadata": {
    "collapsed": true
   },
   "outputs": [],
   "source": [
    "def build_lstm(lstm_size, num_layers, batch_size, keep_prob):\n",
    "    ''' Build LSTM cell.\n",
    "    \n",
    "        Arguments\n",
    "        ---------\n",
    "        keep_prob: Scalar tensor (tf.placeholder) for the dropout keep probability\n",
    "        lstm_size: Size of the hidden layers in the LSTM cells\n",
    "        num_layers: Number of LSTM layers\n",
    "        batch_size: Batch size\n",
    "\n",
    "    '''\n",
    "    ### Build the LSTM Cell\n",
    "    # Use a basic LSTM cell\n",
    "    # Add dropout to the cell outputs\n",
    "    # Stack up multiple LSTM layers, for deep learning\n",
    "    cell = tf.contrib.rnn.MultiRNNCell([tf.contrib.rnn.DropoutWrapper( tf.contrib.rnn.BasicLSTMCell(lstm_size),output_keep_prob = keep_prob) for _ in range(num_layers)])\n",
    "    initial_state = cell.zero_state(batch_size,tf.float32)\n",
    "    \n",
    "    return cell, initial_state"
   ]
  },
  {
   "cell_type": "markdown",
   "metadata": {},
   "source": [
    "### RNN Output\n",
    "\n",
    "Here we'll create the output layer. We need to connect the output of the RNN cells to a full connected layer with a softmax output. The softmax output gives us a probability distribution we can use to predict the next character, so we want this layer to have size $C$, the number of classes/characters we have in our text.\n",
    "\n",
    "If our input has batch size $N$, number of steps $M$, and the hidden layer has $L$ hidden units, then the output is a 3D tensor with size $N \\times M \\times L$. The output of each LSTM cell has size $L$, we have $M$ of them, one for each sequence step, and we have $N$ sequences. So the total size is $N \\times M \\times L$. \n",
    "\n",
    "We are using the same fully connected layer, the same weights, for each of the outputs. Then, to make things easier, we should reshape the outputs into a 2D tensor with shape $(M * N) \\times L$. That is, one row for each sequence and step, where the values of each row are the output from the LSTM cells. We get the LSTM output as a list, `lstm_output`. First we need to concatenate this whole list into one array with [`tf.concat`](https://www.tensorflow.org/api_docs/python/tf/concat). Then, reshape it (with `tf.reshape`) to size $(M * N) \\times L$.\n",
    "\n",
    "One we have the outputs reshaped, we can do the matrix multiplication with the weights. We need to wrap the weight and bias variables in a variable scope with `tf.variable_scope(scope_name)` because there are weights being created in the LSTM cells. TensorFlow will throw an error if the weights created here have the same names as the weights created in the LSTM cells, which they will be default. To avoid this, we wrap the variables in a variable scope so we can give them unique names.\n"
   ]
  },
  {
   "cell_type": "code",
   "execution_count": 23,
   "metadata": {
    "collapsed": true
   },
   "outputs": [],
   "source": [
    "def build_output(lstm_output, in_size, out_size):\n",
    "    ''' Build a softmax layer, return the softmax output and logits.\n",
    "    \n",
    "        Arguments\n",
    "        ---------\n",
    "        \n",
    "        lstm_output: List of output tensors from the LSTM layer\n",
    "        in_size: Size of the input tensor, for example, size of the LSTM cells\n",
    "        out_size: Size of this softmax layer\n",
    "    \n",
    "    '''\n",
    "\n",
    "    # Reshape output so it's a bunch of rows, one row for each step for each sequence.\n",
    "    # Concatenate lstm_output over axis 1 (the columns)\n",
    "    seq_output = tf.concat(lstm_output,axis=1)\n",
    "    # Reshape seq_output to a 2D tensor with lstm_size columns\n",
    "    x = tf.reshape(seq_output,[-1,in_size])\n",
    "    \n",
    "    # Connect the RNN outputs to a softmax layer\n",
    "    with tf.variable_scope('softmax'):\n",
    "        # Create the weight and bias variables here\n",
    "        softmax_w = tf.Variable(tf.truncated_normal((in_size, out_size),stddev=0.1))\n",
    "        softmax_b = tf.Variable(tf.zeros([out_size]))\n",
    "    \n",
    "    # Since output is a bunch of rows of RNN cell outputs, logits will be a bunch\n",
    "    # of rows of logit outputs, one for each step and sequence\n",
    "    logits =  tf.add(tf.matmul(x,softmax_w),softmax_b) \n",
    "    \n",
    "    # Use softmax to get the probabilities for predicted characters\n",
    "    out = tf.nn.softmax(logits,name =\"out\")\n",
    "    \n",
    "    return out, logits"
   ]
  },
  {
   "cell_type": "markdown",
   "metadata": {},
   "source": [
    "### Training loss\n",
    "\n",
    "Next up is the training loss. We get the logits and targets and calculate the softmax cross-entropy loss. First we need to one-hot encode the targets, we're getting them as encoded characters. Then, reshape the one-hot targets so it's a 2D tensor with size $(M*N) \\times C$ where $C$ is the number of classes/characters we have. Remember that we reshaped the LSTM outputs and ran them through a fully connected layer with $C$ units. So our logits will also have size $(M*N) \\times C$.\n",
    "\n",
    "Then we run the logits and targets through `tf.nn.softmax_cross_entropy_with_logits` and find the mean to get the loss."
   ]
  },
  {
   "cell_type": "code",
   "execution_count": 24,
   "metadata": {
    "collapsed": true
   },
   "outputs": [],
   "source": [
    "def build_loss(logits, targets, lstm_size, num_classes):\n",
    "    ''' Calculate the loss from the logits and the targets.\n",
    "    \n",
    "        Arguments\n",
    "        ---------\n",
    "        logits: Logits from final fully connected layer\n",
    "        targets: Targets for supervised learning\n",
    "        lstm_size: Number of LSTM hidden units\n",
    "        num_classes: Number of classes in targets\n",
    "        \n",
    "    '''\n",
    "    # One-hot encode targets and reshape to match logits, one row per sequence per step\n",
    "    y_one_hot = tf.one_hot(targets,num_classes)\n",
    "    y_reshaped =  tf.reshape(y_one_hot,logits.get_shape())\n",
    "    \n",
    "    # Softmax cross entropy loss\n",
    "    loss = tf.reduce_mean(tf.nn.softmax_cross_entropy_with_logits(logits=logits,labels=y_reshaped))\n",
    "    \n",
    "    return loss"
   ]
  },
  {
   "cell_type": "markdown",
   "metadata": {},
   "source": [
    "### Optimizer\n",
    "\n",
    "Here we build the optimizer. Normal RNNs have have issues gradients exploding and disappearing. LSTMs fix the disappearance problem, but the gradients can still grow without bound. To fix this, we can clip the gradients above some threshold. That is, if a gradient is larger than that threshold, we set it to the threshold. This will ensure the gradients never grow overly large. Then we use an AdamOptimizer for the learning step."
   ]
  },
  {
   "cell_type": "code",
   "execution_count": 25,
   "metadata": {
    "collapsed": true
   },
   "outputs": [],
   "source": [
    "def build_optimizer(loss, learning_rate, grad_clip,global_step):\n",
    "    ''' Build optmizer for training, using gradient clipping.\n",
    "    \n",
    "        Arguments:\n",
    "        loss: Network loss\n",
    "        learning_rate: Learning rate for optimizer\n",
    "        global_step: to control the total number of train steps\n",
    "    \n",
    "    '''\n",
    "    \n",
    "    # Optimizer for training, using gradient clipping to control exploding gradients\n",
    "    tvars = tf.trainable_variables()\n",
    "    grads, _ = tf.clip_by_global_norm(tf.gradients(loss, tvars), grad_clip)\n",
    "    train_op = tf.train.AdamOptimizer(learning_rate)\n",
    "    optimizer = train_op.apply_gradients(zip(grads, tvars),global_step)\n",
    "    \n",
    "    return optimizer"
   ]
  },
  {
   "cell_type": "markdown",
   "metadata": {},
   "source": [
    "### Build the network\n",
    "\n",
    "Now we can put all the pieces together and build a class for the network. To actually run data through the LSTM cells, we will use [`tf.nn.dynamic_rnn`](https://www.tensorflow.org/versions/r1.0/api_docs/python/tf/nn/dynamic_rnn). This function will pass the hidden and cell states across LSTM cells appropriately for us. It returns the outputs for each LSTM cell at each step for each sequence in the mini-batch. It also gives us the final LSTM state. We want to save this state as `final_state` so we can pass it to the first LSTM cell in the the next mini-batch run. For `tf.nn.dynamic_rnn`, we pass in the cell and initial state we get from `build_lstm`, as well as our input sequences. Also, we need to one-hot encode the inputs before going into the RNN. \n"
   ]
  },
  {
   "cell_type": "code",
   "execution_count": 26,
   "metadata": {
    "collapsed": true
   },
   "outputs": [],
   "source": [
    "class CharRNN:\n",
    "    \n",
    "    def __init__(self, num_classes, batch_size=64, num_steps=50, \n",
    "                       lstm_size=128, num_layers=2, learning_rate=0.001, \n",
    "                       grad_clip=5, sampling=False):\n",
    "    \n",
    "        # When we're using this network for sampling later, we'll be passing in\n",
    "        # one character at a time, so providing an option for that\n",
    "        if sampling == True:\n",
    "            batch_size, num_steps = 1, 1\n",
    "        else:\n",
    "            batch_size, num_steps = batch_size, num_steps\n",
    "\n",
    "        tf.reset_default_graph()\n",
    "        \n",
    "        self.global_step_tensor = tf.Variable(0,trainable=False,name = \"global_step\")\n",
    "        # Build the input placeholder tensors\n",
    "        self.inputs, self.targets, self.keep_prob = build_inputs(batch_size,num_steps)\n",
    "        # Build the LSTM cell\n",
    "        cell, self.initial_state = build_lstm(lstm_size,num_layers,batch_size,self.keep_prob)\n",
    "        ### Run the data through the RNN layers\n",
    "        # First, one-hot encode the input tokens\n",
    "        x_one_hot = tf.one_hot(self.inputs,num_classes)\n",
    "        \n",
    "        self.grad_clip  = grad_clip\n",
    "        # Run each sequence step through the RNN with tf.nn.dynamic_rnn \n",
    "        outputs, state = tf.nn.dynamic_rnn(cell,x_one_hot,initial_state=self.initial_state)\n",
    "        self.final_state = state\n",
    "        \n",
    "        # Get softmax predictions and logits\n",
    "        self.prediction, self.logits = build_output(outputs,lstm_size,num_classes)\n",
    "        \n",
    "        # Loss and optimizer (with gradient clipping)\n",
    "        self.loss =  build_loss(self.logits,self.targets,lstm_size,num_classes)\n",
    "        self.optimizer = build_optimizer(self.loss,learning_rate,grad_clip,self.global_step_tensor)"
   ]
  },
  {
   "cell_type": "markdown",
   "metadata": {},
   "source": [
    "## Hyperparameters\n",
    "\n",
    "Here are the hyperparameters for the network.\n",
    "\n",
    "* `batch_size` - Number of sequences running through the network in one pass.\n",
    "* `num_steps` - Number of characters in the sequence the network is trained on. Larger is better typically, the network will learn more long range dependencies. But it takes longer to train. 100 is typically a good number here.\n",
    "* `lstm_size` - The number of units in the hidden layers.\n",
    "* `num_layers` - Number of hidden LSTM layers to use\n",
    "* `learning_rate` - Learning rate for training\n",
    "* `keep_prob` - The dropout keep probability when training. If you're network is overfitting, try decreasing this.\n",
    "\n",
    "Here's some good advice from Andrej Karpathy on training the network:. \n",
    "\n",
    "> ## Tips and Tricks\n",
    "\n",
    ">### Monitoring Validation Loss vs. Training Loss\n",
    ">If you're somewhat new to Machine Learning or Neural Networks it can take a bit of expertise to get good models. The most important quantity to keep track of is the difference between your training loss (printed during training) and the validation loss (printed once in a while when the RNN is run on the validation data (by default every 1000 iterations)). In particular:\n",
    "\n",
    "> - If your training loss is much lower than validation loss then this means the network might be **overfitting**. Solutions to this are to decrease your network size, or to increase dropout. For example you could try dropout of 0.5 and so on.\n",
    "> - If your training/validation loss are about equal then your model is **underfitting**. Increase the size of your model (either number of layers or the raw number of neurons per layer)\n",
    "\n",
    "> ### Approximate number of parameters\n",
    "\n",
    "> The two most important parameters that control the model are `lstm_size` and `num_layers`. I would advise that you always use `num_layers` of either 2/3. The `lstm_size` can be adjusted based on how much data you have. The two important quantities to keep track of here are:\n",
    "\n",
    "> - The number of parameters in your model. This is printed when you start training.\n",
    "> - The size of your dataset. 1MB file is approximately 1 million characters.\n",
    "\n",
    ">These two should be about the same order of magnitude. It's a little tricky to tell. Here are some examples:\n",
    "\n",
    "> - I have a 100MB dataset and I'm using the default parameter settings (which currently print 150K parameters). My data size is significantly larger (100 mil >> 0.15 mil), so I expect to heavily underfit. I am thinking I can comfortably afford to make `lstm_size` larger.\n",
    "> - I have a 10MB dataset and running a 10 million parameter model. I'm slightly nervous and I'm carefully monitoring my validation loss. If it's larger than my training loss then I may want to try to increase dropout a bit and see if that helps the validation loss.\n",
    "\n",
    "> ### Best models strategy\n",
    "\n",
    ">The winning strategy to obtaining very good models (if you have the compute time) is to always err on making the network larger (as large as you're willing to wait for it to compute) and then try different dropout values (between 0,1). Whatever model has the best validation performance (the loss, written in the checkpoint filename, low is good) is the one you should use in the end.\n",
    "\n",
    ">It is very common in deep learning to run many different models with many different hyperparameter settings, and in the end take whatever checkpoint gave the best validation performance.\n",
    "\n",
    ">By the way, the size of your training and validation splits are also parameters. Make sure you have a decent amount of data in your validation set or otherwise the validation performance will be noisy and not very informative."
   ]
  },
  {
   "cell_type": "code",
   "execution_count": 27,
   "metadata": {
    "collapsed": true
   },
   "outputs": [],
   "source": [
    "def get_number_of_parameters():\n",
    "    total_parameters = 0\n",
    "    for variable in tf.trainable_variables():\n",
    "        shape = variable.get_shape()\n",
    "        #print(shape)\n",
    "        #print(len(shape))\n",
    "        variable_parameters = 1\n",
    "        \n",
    "        for dim in shape:\n",
    "            #print(dim)\n",
    "            variable_parameters*=dim.value\n",
    "        #print(variable_parameters)\n",
    "        total_parameters+= variable_parameters\n",
    "    return total_parameters"
   ]
  },
  {
   "cell_type": "code",
   "execution_count": 28,
   "metadata": {
    "collapsed": true
   },
   "outputs": [],
   "source": [
    "def pick_top_n(preds, vocab_size, top_n=5):\n",
    "    p = np.squeeze(preds)\n",
    "    p[np.argsort(p)[:-top_n]] = 0\n",
    "    p = p / np.sum(p)\n",
    "    c = np.random.choice(vocab_size, 1, p=p)[0]\n",
    "    return c"
   ]
  },
  {
   "cell_type": "markdown",
   "metadata": {},
   "source": [
    "## Time for training\n",
    "\n",
    "This is typical training code, passing inputs and targets into the network, then running the optimizer. Here we also get back the final LSTM state for the mini-batch. Then, we pass that state back into the network so the next batch can continue the state from the previous batch. And every so often (set by `save_every_n`) I save a checkpoint.\n",
    "\n",
    "Here I'm saving checkpoints with the format\n",
    "\n",
    "`i{iteration number}_l{# hidden layer units}.ckpt`\n"
   ]
  },
  {
   "cell_type": "code",
   "execution_count": 29,
   "metadata": {
    "collapsed": true
   },
   "outputs": [],
   "source": [
    "losses = {\"train\":[],\"validation\":[]}\n",
    "x_steps = list()"
   ]
  },
  {
   "cell_type": "code",
   "execution_count": 30,
   "metadata": {},
   "outputs": [
    {
     "name": "stdout",
     "output_type": "stream",
     "text": [
      "Training starting at time: 2017-10-16 01:11:36\n",
      "Number of parameters: 3411046 Dataset size: 2563420\n",
      "Epoch: 1/15...  Training Step: 1...  Training loss: 4.6238...  Val loss: 4.0814...  0.2658 sec/batch\n",
      "Epoch: 1/15...  Training Step: 101...  Training loss: 3.0459...  Val loss: 3.0424...  0.1261 sec/batch\n",
      "Epoch: 1/15...  Training Step: 201...  Training loss: 2.5507...  Val loss: 2.5719...  0.1262 sec/batch\n",
      "Epoch: 2/15...  Training Step: 301...  Training loss: 2.3464...  Val loss: 2.3712...  0.1270 sec/batch\n",
      "Epoch: 2/15...  Training Step: 401...  Training loss: 2.1858...  Val loss: 2.2033...  0.1267 sec/batch\n",
      "Epoch: 2/15...  Training Step: 501...  Training loss: 2.0631...  Val loss: 2.0856...  0.1270 sec/batch\n",
      "Epoch: 3/15...  Training Step: 601...  Training loss: 1.9498...  Val loss: 2.0212...  0.1272 sec/batch\n",
      "Epoch: 3/15...  Training Step: 701...  Training loss: 1.8617...  Val loss: 1.9364...  0.1280 sec/batch\n",
      "Epoch: 3/15...  Training Step: 801...  Training loss: 1.8440...  Val loss: 1.8866...  0.1273 sec/batch\n",
      "Epoch: 4/15...  Training Step: 901...  Training loss: 1.7489...  Val loss: 1.8363...  0.1274 sec/batch\n",
      "Epoch: 4/15...  Training Step: 1001...  Training loss: 1.6728...  Val loss: 1.7800...  0.1269 sec/batch\n",
      "Epoch: 5/15...  Training Step: 1101...  Training loss: 1.6311...  Val loss: 1.7664...  0.1270 sec/batch\n",
      "Epoch: 5/15...  Training Step: 1201...  Training loss: 1.5972...  Val loss: 1.7238...  0.1272 sec/batch\n",
      "Epoch: 5/15...  Training Step: 1301...  Training loss: 1.6205...  Val loss: 1.6944...  0.1272 sec/batch\n",
      "Epoch: 6/15...  Training Step: 1401...  Training loss: 1.5629...  Val loss: 1.6688...  0.1279 sec/batch\n",
      "Epoch: 6/15...  Training Step: 1501...  Training loss: 1.5313...  Val loss: 1.6419...  0.1278 sec/batch\n",
      "Epoch: 6/15...  Training Step: 1601...  Training loss: 1.5248...  Val loss: 1.6355...  0.1282 sec/batch\n",
      "Epoch: 7/15...  Training Step: 1701...  Training loss: 1.5101...  Val loss: 1.6114...  0.1281 sec/batch\n",
      "Epoch: 7/15...  Training Step: 1801...  Training loss: 1.4542...  Val loss: 1.5878...  0.1271 sec/batch\n",
      "Epoch: 8/15...  Training Step: 1901...  Training loss: 1.4445...  Val loss: 1.5914...  0.1272 sec/batch\n",
      "Epoch: 8/15...  Training Step: 2001...  Training loss: 1.4517...  Val loss: 1.5729...  0.1271 sec/batch\n",
      "Epoch: 8/15...  Training Step: 2101...  Training loss: 1.4352...  Val loss: 1.5605...  0.1280 sec/batch\n",
      "Epoch: 9/15...  Training Step: 2201...  Training loss: 1.4184...  Val loss: 1.5745...  0.1274 sec/batch\n",
      "Epoch: 9/15...  Training Step: 2301...  Training loss: 1.4177...  Val loss: 1.5511...  0.1279 sec/batch\n",
      "Epoch: 9/15...  Training Step: 2401...  Training loss: 1.4066...  Val loss: 1.5532...  0.1276 sec/batch\n",
      "Epoch: 10/15...  Training Step: 2501...  Training loss: 1.3867...  Val loss: 1.5374...  0.1272 sec/batch\n",
      "Epoch: 10/15...  Training Step: 2601...  Training loss: 1.3847...  Val loss: 1.5359...  0.1280 sec/batch\n",
      "Epoch 10/15 time:34.3462655544281...  finished at 2017-10-16 01:17:19\n",
      "Epoch: 11/15...  Training Step: 2701...  Training loss: 1.3728...  Val loss: 1.5387...  0.1275 sec/batch\n",
      "Epoch: 11/15...  Training Step: 2801...  Training loss: 1.3729...  Val loss: 1.5399...  0.1272 sec/batch\n",
      "Epoch: 11/15...  Training Step: 2901...  Training loss: 1.3500...  Val loss: 1.5237...  0.1271 sec/batch\n",
      "Epoch: 12/15...  Training Step: 3001...  Training loss: 1.3789...  Val loss: 1.5352...  0.1279 sec/batch\n",
      "Epoch: 12/15...  Training Step: 3101...  Training loss: 1.3403...  Val loss: 1.5160...  0.1276 sec/batch\n",
      "Epoch: 12/15...  Training Step: 3201...  Training loss: 1.3454...  Val loss: 1.5243...  0.1273 sec/batch\n",
      "Epoch: 13/15...  Training Step: 3301...  Training loss: 1.3567...  Val loss: 1.5146...  0.1280 sec/batch\n",
      "Epoch: 13/15...  Training Step: 3401...  Training loss: 1.3587...  Val loss: 1.5151...  0.1275 sec/batch\n",
      "Epoch: 14/15...  Training Step: 3501...  Training loss: 1.3471...  Val loss: 1.5213...  0.1274 sec/batch\n",
      "Epoch: 14/15...  Training Step: 3601...  Training loss: 1.3161...  Val loss: 1.5152...  0.1282 sec/batch\n",
      "Epoch: 14/15...  Training Step: 3701...  Training loss: 1.3482...  Val loss: 1.5138...  0.1276 sec/batch\n",
      "Epoch: 15/15...  Training Step: 3801...  Training loss: 1.2958...  Val loss: 1.5223...  0.1274 sec/batch\n",
      "Epoch: 15/15...  Training Step: 3901...  Training loss: 1.3339...  Val loss: 1.5148...  0.1274 sec/batch\n",
      "Epoch: 15/15...  Training Step: 4001...  Training loss: 1.2917...  Val loss: 1.5170...  0.1273 sec/batch\n",
      "Training ending at time: 2017-10-16 01:20:12\n",
      "Trainint total time: 515.8242363929749\n"
     ]
    }
   ],
   "source": [
    "#epochs = 1\n",
    "# Save every N iterations\n",
    "save_every_n = 500\n",
    "print_loss_every_n = 100\n",
    "sample_every = 500\n",
    "print_epoch_time_every = 10\n",
    "\n",
    "with tf.device(\"/gpu:0\"):\n",
    "    model = CharRNN(len(vocab), batch_size=batch_size, num_steps=num_steps,\n",
    "                lstm_size=lstm_size, num_layers=num_layers, \n",
    "                learning_rate=learning_rate)\n",
    "    #print(\"after model\")\n",
    "\n",
    "saver = tf.train.Saver(max_to_keep=5)\n",
    "print(\"Training starting at time:\",strftime(\"%Y-%m-%d %H:%M:%S\", localtime()))\n",
    "train_start_time = time.time()\n",
    "with tf.Session() as sess:\n",
    "    sess.run(tf.global_variables_initializer())\n",
    "    print(\"Number of parameters:\",get_number_of_parameters(),\"Dataset size:\",len(encoded))\n",
    "    #print(\"after initializer\")\n",
    "    if resume_from_checkpoint:\n",
    "        latest_checkpoint = tf.train.latest_checkpoint('checkpoints')\n",
    "        saver.restore(sess, latest_checkpoint)\n",
    "    counter = 0\n",
    "    for e in range(epochs):\n",
    "        # Train network\n",
    "        epoch_start = time.time()\n",
    "        \n",
    "        new_state = sess.run(model.initial_state)\n",
    "        loss = 0\n",
    "        for x, y in get_batches(encoded, batch_size, num_steps):\n",
    "            \n",
    "            \n",
    "            start = time.time()\n",
    "            feed = {model.inputs: x,\n",
    "                    model.targets: y,\n",
    "                    model.keep_prob: keep_prob,\n",
    "                    model.initial_state: new_state}\n",
    "            batch_loss, new_state, _ = sess.run([model.loss, \n",
    "                                                 model.final_state, \n",
    "                                                 model.optimizer], \n",
    "                                                 feed_dict=feed)\n",
    "        \n",
    "            \n",
    "            end = time.time()\n",
    "            if counter%print_loss_every_n == 0:\n",
    "                val_batches = get_batches(encoded_val,int(len(encoded_val)/num_steps),num_steps)\n",
    "                x_val,y_val = next(val_batches)\n",
    "                \n",
    "                val_dict = {model.inputs: x_val,\n",
    "                            model.targets: y_val,\n",
    "                            model.keep_prob: 1,\n",
    "                            model.initial_state: new_state}\n",
    "                \n",
    "                val_loss,prediction = sess.run([model.loss,model.prediction],feed_dict=val_dict)\n",
    "                \n",
    "                losses[\"train\"].append(batch_loss)\n",
    "                losses[\"validation\"].append(val_loss)\n",
    "                \n",
    "                \n",
    "                global_step = tf.train.global_step(sess,model.global_step_tensor)\n",
    "                x_steps.append(global_step)\n",
    "                \n",
    "                print('Epoch: {}/{}... '.format(e+1, epochs),\n",
    "                      'Training Step: {}... '.format(global_step),\n",
    "                      'Training loss: {:.4f}... '.format(batch_loss),\n",
    "                      'Val loss: {:.4f}... '.format(val_loss),\n",
    "                      '{:.4f} sec/batch'.format((end-start)))\n",
    "        \n",
    "            if (counter % save_every_n == 0):\n",
    "                global_step = tf.train.global_step(sess,model.global_step_tensor)\n",
    "                saver.save(sess, \"checkpoints/m{}_i{}_l{}.ckpt\".format(mode,global_step, lstm_size))\n",
    "                \n",
    "            counter += 1\n",
    "            #learning_rate*=0.75\n",
    "            #model.optimizer = build_optimizer(model.loss,learning_rate,model.grad_clip,model.global_step_tensor)\n",
    "        \n",
    "        epoch_end = time.time()\n",
    "        \n",
    "        \n",
    "        if ((e+1) % print_epoch_time_every== 0):\n",
    "            print('Epoch {}/{} time:{}...'.format(e+1,epochs,epoch_end-epoch_start),\n",
    "                 \" finished at\",strftime(\"%Y-%m-%d %H:%M:%S\", localtime()))\n",
    "        \n",
    "            \n",
    "    global_step = tf.train.global_step(sess,model.global_step_tensor)\n",
    "    saver.save(sess, \"checkpoints/m{}_i{}_l{}.ckpt\".format(mode,global_step, lstm_size))\n",
    "    \n",
    "print(\"Training ending at time:\",strftime(\"%Y-%m-%d %H:%M:%S\", localtime()))\n",
    "print(\"Trainint total time:\",time.time()-train_start_time)"
   ]
  },
  {
   "cell_type": "code",
   "execution_count": 31,
   "metadata": {},
   "outputs": [
    {
     "data": {
      "image/png": "[encoded data removed]",
      "text/plain": [
       "<matplotlib.figure.Figure at 0x7f3a4066beb8>"
      ]
     },
     "metadata": {
      "image/png": {
       "height": 250,
       "width": 373
      }
     },
     "output_type": "display_data"
    }
   ],
   "source": [
    "plt.plot(x_steps,losses[\"train\"],label=\"Train loss\")\n",
    "plt.plot(x_steps,losses[\"validation\"],label=\"Validation loss\")\n",
    "plt.legend()\n",
    "_ = plt.ylim()"
   ]
  },
  {
   "cell_type": "markdown",
   "metadata": {},
   "source": [
    "#### Saved checkpoints\n",
    "\n",
    "Read up on saving and loading checkpoints here: https://www.tensorflow.org/programmers_guide/variables"
   ]
  },
  {
   "cell_type": "code",
   "execution_count": 32,
   "metadata": {
    "collapsed": true
   },
   "outputs": [],
   "source": [
    "checkpoints = tf.train.get_checkpoint_state('checkpoints')"
   ]
  },
  {
   "cell_type": "markdown",
   "metadata": {},
   "source": [
    "## Sampling final trained model\n",
    "\n",
    "Now that the network is trained, we'll can use it to generate new text. The idea is that we pass in a character, then the network will predict the next character. We can use the new one, to predict the next one. And we keep doing this to generate all new text. I also included some functionality to prime the network with some text by passing in a string and building up a state from that.\n",
    "\n",
    "The network gives us predictions for each character. To reduce noise and make things a little less random, I'm going to only choose a new character from the top N most likely characters.\n",
    "\n"
   ]
  },
  {
   "cell_type": "code",
   "execution_count": 33,
   "metadata": {
    "collapsed": true
   },
   "outputs": [],
   "source": [
    "def sample(checkpoint, n_samples, lstm_size, vocab_size, prime=\"The \",mode=\"characters\"):\n",
    "    print(mode)\n",
    "    samples = tokenize_text(prime,mode)\n",
    "    model = CharRNN(len(vocab), lstm_size=lstm_size, sampling=True)\n",
    "    saver = tf.train.Saver()\n",
    "    with tf.Session() as sess:\n",
    "        saver.restore(sess, checkpoint)\n",
    "        new_state = sess.run(model.initial_state)\n",
    "        for c in tokenize_text(prime,mode):\n",
    "            x = np.zeros((1, 1))\n",
    "            x[0,0] = vocab_to_int[c]\n",
    "            feed = {model.inputs: x,\n",
    "                    model.keep_prob: 1.,\n",
    "                    model.initial_state: new_state}\n",
    "            preds, new_state = sess.run([model.prediction, model.final_state], \n",
    "                                         feed_dict=feed)\n",
    "\n",
    "        c = pick_top_n(preds, len(vocab))\n",
    "        samples.append(int_to_vocab[c])\n",
    "\n",
    "        for i in range(n_samples):\n",
    "            x[0,0] = c\n",
    "            feed = {model.inputs: x,\n",
    "                    model.keep_prob: 1.,\n",
    "                    model.initial_state: new_state}\n",
    "            preds, new_state = sess.run([model.prediction, model.final_state], \n",
    "                                         feed_dict=feed)\n",
    "\n",
    "            c = pick_top_n(preds, len(vocab))\n",
    "            samples.append(int_to_vocab[c])\n",
    "        \n",
    "    return ''.join(samples).replace(\"new_line_token\",\"\\n\")"
   ]
  },
  {
   "cell_type": "markdown",
   "metadata": {},
   "source": [
    "Here, pass in the path to a checkpoint and sample from the network."
   ]
  },
  {
   "cell_type": "code",
   "execution_count": 34,
   "metadata": {},
   "outputs": [
    {
     "data": {
      "text/plain": [
       "'checkpoints/mcharacters_i4005_l512.ckpt'"
      ]
     },
     "execution_count": 34,
     "metadata": {},
     "output_type": "execute_result"
    }
   ],
   "source": [
    "tf.train.latest_checkpoint('checkpoints')"
   ]
  },
  {
   "cell_type": "markdown",
   "metadata": {},
   "source": [
    "## Generate new text from \"base\" text"
   ]
  },
  {
   "cell_type": "code",
   "execution_count": 35,
   "metadata": {},
   "outputs": [
    {
     "name": "stdout",
     "output_type": "stream",
     "text": [
      "characters\n",
      "INFO:tensorflow:Restoring parameters from checkpoints/mcharacters_i4005_l512.ckpt\n",
      "characters\n",
      "INFO:tensorflow:Restoring parameters from checkpoints/mcharacters_i4005_l512.ckpt\n",
      "characters\n",
      "INFO:tensorflow:Restoring parameters from checkpoints/mcharacters_i4005_l512.ckpt\n",
      "characters\n",
      "INFO:tensorflow:Restoring parameters from checkpoints/mcharacters_i4005_l512.ckpt\n",
      "characters\n",
      "INFO:tensorflow:Restoring parameters from checkpoints/mcharacters_i4005_l512.ckpt\n",
      "characters\n",
      "INFO:tensorflow:Restoring parameters from checkpoints/mcharacters_i4005_l512.ckpt\n",
      "characters\n",
      "INFO:tensorflow:Restoring parameters from checkpoints/mcharacters_i4005_l512.ckpt\n",
      "characters\n",
      "INFO:tensorflow:Restoring parameters from checkpoints/mcharacters_i4005_l512.ckpt\n",
      "characters\n",
      "INFO:tensorflow:Restoring parameters from checkpoints/mcharacters_i4005_l512.ckpt\n",
      "characters\n",
      "INFO:tensorflow:Restoring parameters from checkpoints/mcharacters_i4005_l512.ckpt\n",
      "characters\n",
      "INFO:tensorflow:Restoring parameters from checkpoints/mcharacters_i4005_l512.ckpt\n",
      "characters\n",
      "INFO:tensorflow:Restoring parameters from checkpoints/mcharacters_i4005_l512.ckpt\n",
      "characters\n",
      "INFO:tensorflow:Restoring parameters from checkpoints/mcharacters_i4005_l512.ckpt\n",
      "characters\n",
      "INFO:tensorflow:Restoring parameters from checkpoints/mcharacters_i4005_l512.ckpt\n",
      "characters\n",
      "INFO:tensorflow:Restoring parameters from checkpoints/mcharacters_i4005_l512.ckpt\n",
      "characters\n",
      "INFO:tensorflow:Restoring parameters from checkpoints/mcharacters_i4005_l512.ckpt\n"
     ]
    }
   ],
   "source": [
    "\n",
    "checkpoint = tf.train.latest_checkpoint('checkpoints')\n",
    "\n",
    "\n",
    "samples = list()\n",
    "for text in text_to_try:\n",
    "    #print(\"------------------------\",text)\n",
    "    samples.append( sample(checkpoint, 500, lstm_size, len(vocab), prime=text,mode=mode))\n",
    "    #print(samp)\n",
    "    #print(\"------------------------\")"
   ]
  },
  {
   "cell_type": "code",
   "execution_count": 36,
   "metadata": {},
   "outputs": [
    {
     "name": "stdout",
     "output_type": "stream",
     "text": [
      "------------------------ In the first place\n",
      "In the first place that he wished to remay. There was the brig was never a dead and been in about twisting in his streets and almost empty feebly and at thotoggoths. There whatever their stunct, and he decided, indeed be the base,\n",
      "as it is up a feeble become dreaded, at length, and it was suddenly at a counterance of any antulcient objective attack. The six hands are intelligently, with the books were statted into which, if he wanted in that one simply day.\n",
      "     “Though to repain he could breathe about their parro\n",
      "------------------------\n",
      "------------------------ the night before\n",
      "the night before the man and solism what the specimens to the ship at the cabin. He drew in the desert, It was they. Three opened of his county or twenty-six malming in it. The specimen at the cabin to the sheetless tinues in thought terrible. The conscious excited almost ashesit in a climber and his with me winter in the speculationary abrupture, he created in all thirty, as I had, it was seen and strangely is on accordingly taken the background and a lay at once there will never be steer to the strange bodies \n",
      "------------------------\n",
      "------------------------ horror\n",
      "horror tried he wailingly been taken into the brief boriters were not as to the world where it is need to take a shelve of absolute even though tenances on the plenting time was a peril opened a prove of the half-beardian cities in their face of a large and died the beings would have been attention.\n",
      "\n",
      "When there was an uncovered with the whole dread and they was the sea, and took the warning. The sculpel of that thing, although, the columns, and the distance and spell to the wide and disturbed thing wer\n",
      "------------------------\n",
      "------------------------ creature\n",
      "creatures, the metal and still and a sight as I caught to the sounned when the week of hir werribly and simier which had been those sinister anglex. The strett boy, and was indicated it a strangely speculations of stroke to be repeated. He shall be all willin’, and there is not almost a cloud of a sense. The mean horrors have said, and a centre of the coachs were seemed seemed at one of the world, where that with a little was then at once\n",
      "another indication. If this was now to be able to take more. His m\n",
      "------------------------\n",
      "------------------------ night\n",
      "night they had the mountains to hardles where the word where those higress of the cheeking obours any to the land and two half-race of the sanisharish are this\n",
      "immeriatoly shelt. It is, as the causes of stark, which thought of the change in accursed or steady and the mean alteration who have had notired all in steering that I did I heard the powerful city itsell wholly it in a secret series of this, and then he definitly.\n",
      "\n",
      "That it was the countenance, became and aroused unearthly terrible to be some o\n",
      "------------------------\n",
      "------------------------ dream\n",
      "dreams on the same merchant and the cleak. I see him a man would be steers of almost-hand and departed and frequent interval. Then he discernable, indeed because\n",
      "to telephan in the crowd with its steed wilder than a secret.\n",
      "\n",
      "There was in the spectreat beyond the crew. Indeed have a certain peculiarity in his shunned arms was at once. This with the clear, and was\n",
      "indeed, in a larger of the present space what I have those he wan to the sea over the streams, and that we had been improved; tores of the sh\n",
      "------------------------\n",
      "------------------------ thing\n",
      "thing the bottle of the letter that wanting in the contumab seeres of hour, any of the closed and the species to the crowing shale to the sharks which having seen and burstion wheter wards in their first arms and broad, that worth of the beatings. I saw that there was it have a consies. They had specificens where the counter had begun to breaded in the creeping with the world.\n",
      "\n",
      "The dogs was not to trundath to the beginning of his height at once mistakes who were the windowless crowing that he was n tr\n",
      "------------------------\n",
      "------------------------ That night\n",
      "That nightmare secret stranger, there is an oppress of the men, and the crack one too, with its eyes with the spring in their several recover and a correcting. And tell you that was about to have happened in their sixtern and strength, and an infersalised singular steps, and there have seen the sea of the sails at the sensistment of the method,\n",
      "indeed there were the marvellous shantaks of my retroud and street, with helped born and the starving hall and, alwed in such a tail in a period and thirty another \n",
      "------------------------\n",
      "------------------------ mountain\n",
      "mountains in the leaders—the seventy strains and shelves of the mists, and had been taken a secret an incredible delucious little break. I drew an instant of sea of the chaos brief and the most example of sealed born and a grey and fieldish, been collowed by the letter interrupted the longer. All the chisel and matting them to the weeknan and strange back of a similar exact thorough was strange about their seven thought of any other structure which had been terrestries to take only a father witning it wi\n",
      "------------------------\n",
      "------------------------ Ammi\n",
      "Ammi experienced, all many silker, and that to the leader which had been at their courts. The faculty-shady still as they had been told me in search that he had been seemed any antique, and tell in a few miles with that opened there was a presing it at once more of the steps, and as an expans in his stricken. At the mass are taken all about feeling the black artic survers, and they could not bryt an action. If I could not have been seen one of the case to a lover that it have all this covered inches \n",
      "------------------------\n",
      "------------------------ Cthulhu\n",
      "Cthulhule the ship with her whole and terrible abropital character is a galling with the most recrecials. To the largher distances on that of the most respect of the sterious conversain in them, and half-conscined it was they come from the farther and many arches with a secief the world, and we had already arranged. This, and the dreams to a courage to be dropped up at any death of the level of that present assigned a dead at onct to the stars in a steps the body of thirty-stopped sellet. As there had b\n",
      "------------------------\n",
      "------------------------ raven\n",
      "raven, but it is it will not be a gleamer fancied through wine three officials onct incline, broke itself; and it was shell to be deliberately. There world one with a crawling specimen. Once, was the blacker was shall that in something on a time.\"\n",
      "\n",
      "They would be the counterphile, which more to a streets any one.\n",
      "\n",
      "All at all how they were shaken in mind this the crew. It had been it is indeed at less than and teerless, and the body was too,. I\n",
      "had taken into a leave with many street implacees all over \n",
      "------------------------\n",
      "------------------------ bird\n",
      "bird to have a rails which the seventeen told of their hints and almost-earning as aliening their fall of second and attempt that the main tile tinged being as a streams had true and struced. They have said the base of shirper world was attention. The first of the stars of the mountain itself of the cabin to the\n",
      "cratching hinted\n",
      "alternative of most deep torch they did not attent. That he distinguish it and that to the desiriture was antiquity into some decay and roamed, and what to be replied. Our ha\n",
      "------------------------\n",
      "------------------------ nevermore\n",
      "nevermore, and the bright, becamelach off in that.\n",
      "\n",
      "In hand at all tanger, and the same intellect as we had the contempt to the couch would be two death which the country took all of his can exploie any of the crying alike with me, and a child over that they were so that\n",
      "we were in a person.\n",
      "\n",
      "There was now all three speculations. A month of the dark and streets of the passage would be described; but I wished what it camilers of my drew word in the palace was now become wearing an idea of the construme tha\n",
      "------------------------\n",
      "------------------------ dead\n",
      "dead, breedled, by the crew. Here intolerably, and the seventhere on her seekind which havely took it. We had seen the starvings.\n",
      "     “Well he would not be seen to the library of the search of a large confess it had, his shoulder and strangeness; as we were in the chain. There had brought and still.\n",
      "\n",
      "That he could not help him an examine in the dead calculable stopping of the light of them; the chambard. What\n",
      "becide and look in theirself, in the drew the steep and moon. We had been. Their thing in t\n",
      "------------------------\n",
      "------------------------ The bird\n",
      "The birds and the colour, when they dready to take their face was in the leavorant shadows.\n",
      "\n",
      "The marvellow wants and speech was an insidies were in the chamber; and attentic access whatever well as to see, trial, had taken a ground betwixt the straturnal seemed terridly three\n",
      "one travele inside. The sentinels and the shelving abaout her shallow and a hideous and accompanied impatiency of morals operatic increasingly and starker. They canot of the spot and shall be in the day, were sure to the from the co\n",
      "------------------------\n"
     ]
    }
   ],
   "source": [
    "for i in range(len(text_to_try)):\n",
    "    text = text_to_try[i]\n",
    "    generated = samples[i]\n",
    "    print(\"------------------------\",text)\n",
    "    print(generated)\n",
    "    print(\"------------------------\")"
   ]
  },
  {
   "cell_type": "code",
   "execution_count": 37,
   "metadata": {},
   "outputs": [
    {
     "data": {
      "text/plain": [
       "model_checkpoint_path: \"checkpoints/mcharacters_i4005_l512.ckpt\"\n",
       "all_model_checkpoint_paths: \"checkpoints/mcharacters_i2501_l512.ckpt\"\n",
       "all_model_checkpoint_paths: \"checkpoints/mcharacters_i3001_l512.ckpt\"\n",
       "all_model_checkpoint_paths: \"checkpoints/mcharacters_i3501_l512.ckpt\"\n",
       "all_model_checkpoint_paths: \"checkpoints/mcharacters_i4001_l512.ckpt\"\n",
       "all_model_checkpoint_paths: \"checkpoints/mcharacters_i4005_l512.ckpt\""
      ]
     },
     "execution_count": 37,
     "metadata": {},
     "output_type": "execute_result"
    }
   ],
   "source": [
    "tf.train.get_checkpoint_state('checkpoints')"
   ]
  },
  {
   "cell_type": "code",
   "execution_count": 38,
   "metadata": {},
   "outputs": [
    {
     "name": "stdout",
     "output_type": "stream",
     "text": [
      "characters\n",
      "INFO:tensorflow:Restoring parameters from checkpoints/mcharacters_i4005_l512.ckpt\n",
      "The old folk have gone away to and shew a steep remark to take his higher and around to their streets. The follow or several terrors were seen. There were thing of share of the principal prints in the latter of their highering. It was not meel to the horror. At the shirts and the limbles of the sheep-wish incled myself and exception of also, it was then, widely in shape, and he had exceptible one of their flesh in the latter attempted to that an imitation at all tinted over me back in a chimn which we were seen in this period. At there at one then having seen a genirine that how that he had beer about the letter at all. The mean attenth, in the deeper. A moved space which close a particle that the back in the labine. There was a peculiarity—and still that the mirrors, there was a more to show that those though is to tell what his own antarctic circle on that indestructs were they were in a partical peril. This was overcardings or earth and trembling in the letter that I wish that that he had acquired me that the monoliths of the speld of him in all secretly and dragging in a contare into a large and little spectacombeatic three mind that the fire. The dooss its specimen of thire. The freech that with his crestifications or terving high the start and his mental branch. They were, we had then a partical palping shibely repellent stream than th one. This was in his since high, but he was the mind which has been drew, and with the break at one of the commingly shibes of all the cheer often, terming in that space and delevance and distermingly to be a globe. At the deep and deep in the light of\n",
      "the mind he had begun in the reason they had not unfortunately in time, that the moon. As had at almo an impression on my fiendian specimen and dark towering that his cold of the path and start at the room was still, and ten fine, and there was it told me with the low can about to reach it with the crottes and travelled we how her tauld be shorlly discussionally been that one spoke of the command in the death of his help. They were seen off it, which is unfolts which had broughest that the mind. I would have been transcenced more than at lass that this thing about the call and mean is immlanced an operant to retear, and a little blacker towers any doubt.\n",
      "\n",
      "    I show in the dreadful, and wonder that the cause was to be thought, that they can be seen borned they had almost be a mad, the choked black gale of measalter is that they arruday and blocked in the same monoton at one of the speech. He took my dream of seekind higher. They were interptories it and to the steet door with his families of the shorter as all at all; an instant to the latter a delperts to tell him, but he counted in the left insistent and marriages, and to take anything in the chamber they had then at all too much taken. This whose place—and would have the brick to have seed the black case which he was indeed a moust would have alive the common riches, and the string of the clock to be at all to his heed about that human sea-throughout the child in what his frightful, but that had seeken me in some obscurtable crewling speculation. The state ten the proper painted case which had a secret or earth, and held it indeed the brain.\n",
      "     The left heat at leasting in the case is always had shipping from our power, and that the left heights of the stark times howled in the same memory which he could be attempt a people to see the same. We warm that it was a period to them a sign of seen of the lurches, we were then and those we from the letter with the point all that went in the shore of his mental cryphils of the stales, who had needed and sometimes have been all the same men of shape a character in the cracked conversail of the state and a conversation to the father of these intentions and breacherous ascendance of the means of the sailers, by an instant about those that the brain the collar. This time in the letter a palateous means to this couth, with an again teather than told me to have happered to think or expanded; and to tee from a specimen, and the same spot. And aftard they did not retain a time over his party wholly superficed a perils of mercifylique that affected, and when he had struck along toward at the hideous ships in a lasting of allowing above,hy and at the precipice was shewing his friend had a dead. Then the frenzy side. I said, weet an expression it was surrounding the houses and tentacles—which is a search in a single come. He hairthating the blowing seeming struggles have been a great dealling to their cargo oforous shapes as to tell.\n",
      "     It was an intelligent open. All too, was not, he was set off bore, which must be that impersion of the mild sealed at their steps already entirely back to the stepities which mirror, and with any or missing that a characters to the frame with all time was they and half on the rich and sight of the precent whisploying at once to see it would not pain an almost about to be\n",
      "a human being the steer dead or fell with their feet off a\n"
     ]
    }
   ],
   "source": [
    "generated = sample(checkpoint, 5000, lstm_size, len(vocab), prime=\"The old folk have gone away\",mode=mode)\n",
    "print(generated)"
   ]
  },
  {
   "cell_type": "code",
   "execution_count": null,
   "metadata": {
    "collapsed": true
   },
   "outputs": [],
   "source": []
  },
  {
   "cell_type": "markdown",
   "metadata": {
    "collapsed": true
   },
   "source": []
  }
 ],
 "metadata": {
  "kernelspec": {
   "display_name": "Python 3",
   "language": "python",
   "name": "python3"
  },
  "language_info": {
   "codemirror_mode": {
    "name": "ipython",
    "version": 3
   },
   "file_extension": ".py",
   "mimetype": "text/x-python",
   "name": "python",
   "nbconvert_exporter": "python",
   "pygments_lexer": "ipython3",
   "version": "3.6.3"
  }
 },
 "nbformat": 4,
 "nbformat_minor": 2
}
