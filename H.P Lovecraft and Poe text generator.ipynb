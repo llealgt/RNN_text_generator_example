{
 "cells": [
  {
   "cell_type": "markdown",
   "metadata": {},
   "source": [
    "# Recurrent neural networks for H.P Lovecraft text generation\n",
    "\n",
    "\"The color out of space\" is one of my favorite tales from Lovecraft, i will use it(as well as others as the call of cthulhu) to create a recurrent neural network in tensorflow that learns his style and generates new text in his style\n",
    "\n",
    "This network is based off of Andrej Karpathy's [post on RNNs](http://karpathy.github.io/2015/05/21/rnn-effectiveness/) and [implementation in Torch](https://github.com/karpathy/char-rnn) and an example from \"Deep Learning Nanodegree\" on udacity. Also, some information [here at r2rt](http://r2rt.com/recurrent-neural-networks-in-tensorflow-ii.html) and from [Sherjil Ozair](https://github.com/sherjilozair/char-rnn-tensorflow) on GitHub. \n",
    "\n",
    "## General architecture using \"Long short term memory\" units in the recurrent layers\n",
    "\n",
    "<img src=\"assets/charseq.jpeg\" width=\"500\">"
   ]
  },
  {
   "cell_type": "code",
   "execution_count": 1,
   "metadata": {
    "collapsed": true
   },
   "outputs": [],
   "source": [
    "%matplotlib inline\n",
    "%config InlineBackend.figure_format = 'retina'"
   ]
  },
  {
   "cell_type": "code",
   "execution_count": 2,
   "metadata": {
    "collapsed": true
   },
   "outputs": [],
   "source": [
    "import time\n",
    "from collections import namedtuple\n",
    "\n",
    "import numpy as np\n",
    "import tensorflow as tf\n",
    "from nltk.tokenize import word_tokenize\n",
    "import nltk\n",
    "import itertools\n",
    "import matplotlib.pyplot as plt"
   ]
  },
  {
   "cell_type": "code",
   "execution_count": 3,
   "metadata": {
    "collapsed": true
   },
   "outputs": [],
   "source": [
    "# Run only the  first time nltk is used to download language\n",
    "#nltk.download()"
   ]
  },
  {
   "cell_type": "markdown",
   "metadata": {},
   "source": [
    "### Define conf variables and hyper parameteters "
   ]
  },
  {
   "cell_type": "code",
   "execution_count": 4,
   "metadata": {
    "collapsed": true
   },
   "outputs": [],
   "source": [
    "mode = \"characters\" #characters or words\n",
    "\n",
    "epochs = 700\n",
    "batch_size = 100         # Sequences per batch\n",
    "num_steps = 250          # Number of sequence steps per batch\n",
    "lstm_size = 300         # Size of hidden layers in LSTMs\n",
    "num_layers = 2          # Number of LSTM layers\n",
    "learning_rate = 0.0001    # Learning rate\n",
    "keep_prob = 0.2         # Dropout keep probability\n",
    "\n",
    "resume_from_checkpoint = False"
   ]
  },
  {
   "cell_type": "markdown",
   "metadata": {},
   "source": [
    "### Define base text\n",
    "Once trained ,the network can take base text and a sequence size and generate new text using base text as first characters in the sequence. For every element in base text wi will create a list that will store generated text as training goes, to be able to compare results between steps"
   ]
  },
  {
   "cell_type": "code",
   "execution_count": 5,
   "metadata": {
    "collapsed": true
   },
   "outputs": [],
   "source": [
    "text_to_try = [\"In the first place\",\"the night before\",\"horror\",\"creature\",\"night\",\"dream\",\"thing\",\"That night\",\"mountain\",\"Ammi\",\"Cthulhu\",\"raven\",\"bird\",\"nevermore\",\"dead\",\"The bird\"]"
   ]
  },
  {
   "cell_type": "markdown",
   "metadata": {},
   "source": [
    "#### Function that separates text into tokens(for whitespace characters, only new line is implemented, missing tabs and others="
   ]
  },
  {
   "cell_type": "code",
   "execution_count": 6,
   "metadata": {},
   "outputs": [
    {
     "data": {
      "text/plain": [
       "['H',\n",
       " 'e',\n",
       " 'l',\n",
       " 'l',\n",
       " 'o',\n",
       " ',',\n",
       " ' ',\n",
       " 'm',\n",
       " 'y',\n",
       " ' ',\n",
       " 'n',\n",
       " 'a',\n",
       " 'm',\n",
       " 'e',\n",
       " ' ',\n",
       " 'i',\n",
       " 's',\n",
       " ' ',\n",
       " 'L',\n",
       " 'u',\n",
       " 'i',\n",
       " 's',\n",
       " ' ',\n",
       " 'L',\n",
       " 'e',\n",
       " 'a',\n",
       " 'l',\n",
       " '!',\n",
       " '\\n',\n",
       " '\\n',\n",
       " 'F',\n",
       " 'r',\n",
       " 'o',\n",
       " 'm',\n",
       " ' ',\n",
       " 'G',\n",
       " 'u',\n",
       " 'a',\n",
       " 't',\n",
       " 'e',\n",
       " 'm',\n",
       " 'a',\n",
       " 'l',\n",
       " 'a']"
      ]
     },
     "execution_count": 6,
     "metadata": {},
     "output_type": "execute_result"
    }
   ],
   "source": [
    "def tokenize_by_words(text):\n",
    "    text = text.replace(\"\\n\",\" new_line_token \")\n",
    "    tokens = []\n",
    "    splitted =[[word_tokenize(w),' ']for w in text.split()]\n",
    "    splitted = list(itertools.chain(*list(itertools.chain(*splitted))))\n",
    "    \n",
    "    token_list = []\n",
    "    i = 0\n",
    "    while i < len(splitted):\n",
    "        if splitted[i] == \"new_line_token\":\n",
    "            if   token_list[-1]==\" \":\n",
    "                token_list[-1] = splitted[i]\n",
    "            else:\n",
    "                token_list.append(splitted[i])\n",
    "            i+=1\n",
    "        else:\n",
    "            token_list.append(splitted[i])\n",
    "        i+=1\n",
    "    \n",
    "    return token_list\n",
    "\n",
    "def tokenize_by_characters(text):\n",
    "    return list(text)\n",
    "\n",
    "def tokenize_text(text,mode=\"characters\"):\n",
    "    if mode == \"characters\":\n",
    "        return tokenize_by_characters(text)\n",
    "    elif mode == \"words\":\n",
    "        return tokenize_by_words(text)\n",
    "    \n",
    "tokenize_text(\"Hello, my name is Luis Leal!\\n\\nFrom Guatemala\",mode)\n",
    "#tokenize_text(\"Hello, my name is Luis Leal!\\n\\nFrom Guatemala\",\"words\")\n"
   ]
  },
  {
   "cell_type": "markdown",
   "metadata": {},
   "source": [
    "First we'll load the text file and convert it into integers for our network to use. Here I'm creating a couple dictionaries to convert the characters to and from integers. Encoding the characters as integers makes it easier to use as input in the network."
   ]
  },
  {
   "cell_type": "code",
   "execution_count": 7,
   "metadata": {
    "collapsed": true
   },
   "outputs": [],
   "source": [
    "with open('colour_out_of_space.txt', 'r') as f:\n",
    "    text=f.read()"
   ]
  },
  {
   "cell_type": "code",
   "execution_count": 8,
   "metadata": {
    "collapsed": true
   },
   "outputs": [],
   "source": [
    "vocab = set(tokenize_text(text,mode))\n",
    "vocab_to_int = {c: i for i, c in enumerate(vocab)}\n",
    "int_to_vocab = dict(enumerate(vocab))"
   ]
  },
  {
   "cell_type": "markdown",
   "metadata": {},
   "source": [
    "### Get a little portion of text for validation"
   ]
  },
  {
   "cell_type": "code",
   "execution_count": 9,
   "metadata": {},
   "outputs": [],
   "source": [
    "validation_size = batch_size * num_steps #create a single baty\n",
    "validation_start_index = len(text) - validation_size\n",
    "\n",
    "val_text = text[validation_start_index:]\n",
    "text = text[:validation_start_index]"
   ]
  },
  {
   "cell_type": "markdown",
   "metadata": {},
   "source": [
    "Let's check out the first 100 characters of train and validation, make sure everything is peachy.  line of a book ever."
   ]
  },
  {
   "cell_type": "code",
   "execution_count": 10,
   "metadata": {},
   "outputs": [
    {
     "data": {
      "text/plain": [
       "'THE COLOUR OUT OF SPACE\\n\\nWest of Arkham the hills rise wild, and there are valleys with deep woods t'"
      ]
     },
     "execution_count": 10,
     "metadata": {},
     "output_type": "execute_result"
    }
   ],
   "source": [
    "text[:100]"
   ]
  },
  {
   "cell_type": "code",
   "execution_count": 11,
   "metadata": {},
   "outputs": [
    {
     "data": {
      "text/plain": [
       "'estore me to peace, in giving me back to reason.\\n\\nAnd the evening closed in upon me thus-and then th'"
      ]
     },
     "execution_count": 11,
     "metadata": {},
     "output_type": "execute_result"
    }
   ],
   "source": [
    "val_text[:100]"
   ]
  },
  {
   "cell_type": "code",
   "execution_count": 12,
   "metadata": {
    "collapsed": true
   },
   "outputs": [],
   "source": [
    "encoded = np.array([vocab_to_int[c] for c in tokenize_text(text,mode)], dtype=np.int32)\n",
    "encoded_val = np.array([vocab_to_int[c] for c in tokenize_text(val_text,mode)],dtype=np.int32)"
   ]
  },
  {
   "cell_type": "markdown",
   "metadata": {},
   "source": [
    "And we can see the characters encoded as integersin both train and validation"
   ]
  },
  {
   "cell_type": "code",
   "execution_count": 13,
   "metadata": {},
   "outputs": [
    {
     "data": {
      "text/plain": [
       "array([42, 29, 46, 41,  1, 63, 21, 63, 65, 61, 41, 63, 65, 42, 41, 63, 54,\n",
       "       41, 90, 73, 83,  1, 46, 47, 47, 51, 74, 35, 32, 41, 18, 44, 41, 83,\n",
       "       39, 12, 80, 11,  4, 41, 32, 80, 74, 41, 80, 30, 87, 87, 35, 41, 39,\n",
       "       30, 35, 74, 41, 91, 30, 87, 69, 56, 41, 11, 38, 69, 41, 32, 80, 74,\n",
       "       39, 74, 41, 11, 39, 74, 41, 36, 11, 87, 87, 74, 24, 35, 41, 91, 30,\n",
       "       32, 80, 41, 69, 74, 74, 58, 41, 91, 18, 18, 69, 35, 41, 32], dtype=int32)"
      ]
     },
     "execution_count": 13,
     "metadata": {},
     "output_type": "execute_result"
    }
   ],
   "source": [
    "encoded[:100]"
   ]
  },
  {
   "cell_type": "code",
   "execution_count": 14,
   "metadata": {},
   "outputs": [
    {
     "data": {
      "text/plain": [
       "array([74, 35, 32, 18, 39, 74, 41,  4, 74, 41, 32, 18, 41, 58, 74, 11, 10,\n",
       "       74, 56, 41, 30, 38, 41,  5, 30, 36, 30, 38,  5, 41,  4, 74, 41, 75,\n",
       "       11, 10, 12, 41, 32, 18, 41, 39, 74, 11, 35, 18, 38, 28, 47, 47, 83,\n",
       "       38, 69, 41, 32, 80, 74, 41, 74, 36, 74, 38, 30, 38,  5, 41, 10, 87,\n",
       "       18, 35, 74, 69, 41, 30, 38, 41, 67, 58, 18, 38, 41,  4, 74, 41, 32,\n",
       "       80, 67, 35, 15, 11, 38, 69, 41, 32, 80, 74, 38, 41, 32, 80], dtype=int32)"
      ]
     },
     "execution_count": 14,
     "metadata": {},
     "output_type": "execute_result"
    }
   ],
   "source": [
    "encoded_val[0:100]"
   ]
  },
  {
   "cell_type": "markdown",
   "metadata": {},
   "source": [
    "Since the network is working with individual english tokens, it's similar to a classification problem in which we are trying to predict the next character from the previous text.  Here's how many 'classes' our network has to pick from."
   ]
  },
  {
   "cell_type": "code",
   "execution_count": 15,
   "metadata": {},
   "outputs": [
    {
     "data": {
      "text/plain": [
       "95"
      ]
     },
     "execution_count": 15,
     "metadata": {},
     "output_type": "execute_result"
    }
   ],
   "source": [
    "len(vocab)"
   ]
  },
  {
   "cell_type": "code",
   "execution_count": 16,
   "metadata": {},
   "outputs": [
    {
     "name": "stdout",
     "output_type": "stream",
     "text": [
      "estore me to peace, in giving me back to reason.\n",
      "\n",
      "And the evening closed in upon me thus-and then th\n"
     ]
    }
   ],
   "source": [
    "def encoded_to_text(encoded):\n",
    "    return \"\".join([int_to_vocab[number] for number in encoded])\n",
    "\n",
    "print(encoded_to_text(encoded_val[0:100]))"
   ]
  },
  {
   "cell_type": "markdown",
   "metadata": {},
   "source": [
    "## Making training mini-batches\n",
    "\n",
    "Here is where we'll make our mini-batches for training. Remember that we want our batches to be multiple sequences of some desired number of sequence steps. Considering a simple example, our batches would look like this:\n",
    "\n",
    "<img src=\"assets/sequence_batching@1x.png\" width=500px>\n",
    "\n",
    "\n",
    "<br>\n",
    "We have our text encoded as integers as one long array in `encoded`. Let's create a function that will give us an iterator for our batches. I like using [generator functions](https://jeffknupp.com/blog/2013/04/07/improve-your-python-yield-and-generators-explained/) to do this. Then we can pass `encoded` into this function and get our batch generator.\n",
    "\n",
    "The first thing we need to do is discard some of the text so we only have completely full batches. Each batch contains $N \\times M$ characters, where $N$ is the batch size (the number of sequences) and $M$ is the number of steps. Then, to get the number of batches we can make from some array `arr`, you divide the length of `arr` by the batch size. Once you know the number of batches and the batch size, you can get the total number of characters to keep.\n",
    "\n",
    "After that, we need to split `arr` into $N$ sequences. You can do this using `arr.reshape(size)` where `size` is a tuple containing the dimensions sizes of the reshaped array. We know we want $N$ sequences (`n_seqs` below), let's make that the size of the first dimension. For the second dimension, you can use `-1` as a placeholder in the size, it'll fill up the array with the appropriate data for you. After this, you should have an array that is $N \\times (M * K)$ where $K$ is the number of batches.\n",
    "\n",
    "Now that we have this array, we can iterate through it to get our batches. The idea is each batch is a $N \\times M$ window on the array. For each subsequent batch, the window moves over by `n_steps`. We also want to create both the input and target arrays. Remember that the targets are the inputs shifted over one character. You'll usually see the first input character used as the last target character, so something like this:\n",
    "```python\n",
    "y[:, :-1], y[:, -1] = x[:, 1:], x[:, 0]\n",
    "```\n",
    "where `x` is the input batch and `y` is the target batch.\n",
    "\n",
    "The way I like to do this window is use `range` to take steps of size `n_steps` from $0$ to `arr.shape[1]`, the total number of steps in each sequence. That way, the integers you get from `range` always point to the start of a batch, and each window is `n_steps` wide."
   ]
  },
  {
   "cell_type": "code",
   "execution_count": 17,
   "metadata": {
    "collapsed": true
   },
   "outputs": [],
   "source": [
    "def get_batches(arr, n_seqs, n_steps):\n",
    "    '''Create a generator that returns batches of size\n",
    "       n_seqs x n_steps from arr.\n",
    "       \n",
    "       Arguments\n",
    "       ---------\n",
    "       arr: Array you want to make batches from\n",
    "       n_seqs: Batch size, the number of sequences per batch\n",
    "       n_steps: Number of sequence steps per batch\n",
    "    '''\n",
    "    # Get the batch size and number of batches we can make\n",
    "    batch_size = n_seqs * n_steps \n",
    "    n_batches =  len(arr)//batch_size\n",
    "    \n",
    "    # Keep only enough characters to make full batches\n",
    "    arr =  arr[:n_batches*batch_size]\n",
    "    \n",
    "    # Reshape into n_seqs rows\n",
    "    arr = arr.reshape((n_seqs,-1))\n",
    "    \n",
    "    for n in range(0, arr.shape[1], n_steps):\n",
    "        # The features\n",
    "        x = arr[:,n:n+n_steps]\n",
    "        # The targets, shifted by one\n",
    "        y = np.zeros(x.shape)\n",
    "        y[:,:-1],y[:,-1] = x[:,1:] ,x[:,0]\n",
    "        yield x, y"
   ]
  },
  {
   "cell_type": "markdown",
   "metadata": {},
   "source": [
    "Now I'll make my data sets and we can check out what's going on here. Here I'm going to use a batch size of 10 and 50 sequence steps."
   ]
  },
  {
   "cell_type": "code",
   "execution_count": 18,
   "metadata": {
    "collapsed": true
   },
   "outputs": [],
   "source": [
    "batches = get_batches(encoded, 10, 50)\n",
    "x, y = next(batches)"
   ]
  },
  {
   "cell_type": "code",
   "execution_count": 19,
   "metadata": {},
   "outputs": [
    {
     "name": "stdout",
     "output_type": "stream",
     "text": [
      "x\n",
      " [[42 29 46 41  1 63 21 63 65 61]\n",
      " [87 87 24 41 67 38 69 74 39 41]\n",
      " [35 32 11 39 74 69 41 75 87 11]\n",
      " [87 87 74 32 32 41  5 74 32 41]\n",
      " [18 67 32 41 18 44 41 80 74 87]\n",
      " [91 74 41 35 32 67 69 30 74 69]\n",
      " [41 35 32 39 18 12 74 41 18 44]\n",
      " [56 41 11 87 32 80 18 67  5 80]\n",
      " [47 39 74  4 11 30 38 74 69 41]\n",
      " [35 28 41 51 74 41 91 74 39 74]]\n",
      "\n",
      "y\n",
      " [[ 29.  46.  41.   1.  63.  21.  63.  65.  61.  41.]\n",
      " [ 87.  24.  41.  67.  38.  69.  74.  39.  41.  32.]\n",
      " [ 32.  11.  39.  74.  69.  41.  75.  87.  11.  38.]\n",
      " [ 87.  74.  32.  32.  41.   5.  74.  32.  41.  44.]\n",
      " [ 67.  32.  41.  18.  44.  41.  80.  74.  87.  87.]\n",
      " [ 74.  41.  35.  32.  67.  69.  30.  74.  69.  41.]\n",
      " [ 35.  32.  39.  18.  12.  74.  41.  18.  44.  41.]\n",
      " [ 41.  11.  87.  32.  80.  18.  67.   5.  80.  41.]\n",
      " [ 39.  74.   4.  11.  30.  38.  74.  69.  41.  30.]\n",
      " [ 28.  41.  51.  74.  41.  91.  74.  39.  74.  41.]]\n"
     ]
    }
   ],
   "source": [
    "print('x\\n', x[:10, :10])\n",
    "print('\\ny\\n', y[:10, :10])"
   ]
  },
  {
   "cell_type": "markdown",
   "metadata": {},
   "source": [
    "## Building the model\n",
    "\n",
    "Below is where you'll build the network. We'll break it up into parts so it's easier to reason about each bit. Then we can connect them up into the whole network.\n",
    "\n",
    "<img src=\"assets/charRNN.png\" width=500px>\n",
    "\n",
    "\n",
    "### Inputs\n",
    "\n",
    "First off we'll create our input placeholders. As usual we need placeholders for the training data and the targets. We'll also create a placeholder for dropout layers called `keep_prob`. This will be a scalar, that is a 0-D tensor. To make a scalar, you create a placeholder without giving it a size."
   ]
  },
  {
   "cell_type": "code",
   "execution_count": 20,
   "metadata": {
    "collapsed": true
   },
   "outputs": [],
   "source": [
    "def build_inputs(batch_size, num_steps):\n",
    "    ''' Define placeholders for inputs, targets, and dropout \n",
    "    \n",
    "        Arguments\n",
    "        ---------\n",
    "        batch_size: Batch size, number of sequences per batch\n",
    "        num_steps: Number of sequence steps in a batch\n",
    "        \n",
    "    '''\n",
    "    # Declare placeholders we'll feed into the graph\n",
    "    inputs = tf.placeholder(tf.int32,[batch_size,num_steps],name=\"inputs\")\n",
    "    targets = tf.placeholder(tf.int32,[batch_size,num_steps],name=\"targets\")\n",
    "    \n",
    "    # Keep probability placeholder for drop out layers\n",
    "    keep_prob = tf.placeholder(tf.float32,name=\"keep_prob\")\n",
    "    \n",
    "    return inputs, targets, keep_prob"
   ]
  },
  {
   "cell_type": "markdown",
   "metadata": {},
   "source": [
    "### LSTM Cell\n",
    "\n",
    "Here we will create the LSTM cell we'll use in the hidden layer. We'll use this cell as a building block for the RNN. So we aren't actually defining the RNN here, just the type of cell we'll use in the hidden layer.\n",
    "\n",
    "We first create a basic LSTM cell with\n",
    "\n",
    "```python\n",
    "lstm = tf.contrib.rnn.BasicLSTMCell(num_units)\n",
    "```\n",
    "\n",
    "where `num_units` is the number of units in the hidden layers in the cell. Then we can add dropout by wrapping it with \n",
    "\n",
    "```python\n",
    "tf.contrib.rnn.DropoutWrapper(lstm, output_keep_prob=keep_prob)\n",
    "```\n",
    "You pass in a cell and it will automatically add dropout to the inputs or outputs. Finally, we can stack up the LSTM cells into layers with [`tf.contrib.rnn.MultiRNNCell`](https://www.tensorflow.org/versions/r1.0/api_docs/python/tf/contrib/rnn/MultiRNNCell). With this, you pass in a list of cells and it will send the output of one cell into the next cell. For example,\n",
    "\n",
    "```python\n",
    "tf.contrib.rnn.MultiRNNCell([cell]*num_layers)\n",
    "```\n",
    "\n",
    "This might look a little weird if you know Python well because this will create a list of the same `cell` object. However, TensorFlow will create different weight matrices for all `cell` objects. Even though this is actually multiple LSTM cells stacked on each other, you can treat the multiple layers as one cell.\n",
    "\n",
    "We also need to create an initial cell state of all zeros. This can be done like so\n",
    "\n",
    "```python\n",
    "initial_state = cell.zero_state(batch_size, tf.float32)\n",
    "```\n"
   ]
  },
  {
   "cell_type": "code",
   "execution_count": 21,
   "metadata": {
    "collapsed": true
   },
   "outputs": [],
   "source": [
    "def build_lstm(lstm_size, num_layers, batch_size, keep_prob):\n",
    "    ''' Build LSTM cell.\n",
    "    \n",
    "        Arguments\n",
    "        ---------\n",
    "        keep_prob: Scalar tensor (tf.placeholder) for the dropout keep probability\n",
    "        lstm_size: Size of the hidden layers in the LSTM cells\n",
    "        num_layers: Number of LSTM layers\n",
    "        batch_size: Batch size\n",
    "\n",
    "    '''\n",
    "    ### Build the LSTM Cell\n",
    "    # Use a basic LSTM cell\n",
    "    # Add dropout to the cell outputs\n",
    "    # Stack up multiple LSTM layers, for deep learning\n",
    "    cell = tf.contrib.rnn.MultiRNNCell([tf.contrib.rnn.DropoutWrapper( tf.contrib.rnn.BasicLSTMCell(lstm_size),output_keep_prob = keep_prob) for _ in range(num_layers)])\n",
    "    initial_state = cell.zero_state(batch_size,tf.float32)\n",
    "    \n",
    "    return cell, initial_state"
   ]
  },
  {
   "cell_type": "markdown",
   "metadata": {},
   "source": [
    "### RNN Output\n",
    "\n",
    "Here we'll create the output layer. We need to connect the output of the RNN cells to a full connected layer with a softmax output. The softmax output gives us a probability distribution we can use to predict the next character, so we want this layer to have size $C$, the number of classes/characters we have in our text.\n",
    "\n",
    "If our input has batch size $N$, number of steps $M$, and the hidden layer has $L$ hidden units, then the output is a 3D tensor with size $N \\times M \\times L$. The output of each LSTM cell has size $L$, we have $M$ of them, one for each sequence step, and we have $N$ sequences. So the total size is $N \\times M \\times L$. \n",
    "\n",
    "We are using the same fully connected layer, the same weights, for each of the outputs. Then, to make things easier, we should reshape the outputs into a 2D tensor with shape $(M * N) \\times L$. That is, one row for each sequence and step, where the values of each row are the output from the LSTM cells. We get the LSTM output as a list, `lstm_output`. First we need to concatenate this whole list into one array with [`tf.concat`](https://www.tensorflow.org/api_docs/python/tf/concat). Then, reshape it (with `tf.reshape`) to size $(M * N) \\times L$.\n",
    "\n",
    "One we have the outputs reshaped, we can do the matrix multiplication with the weights. We need to wrap the weight and bias variables in a variable scope with `tf.variable_scope(scope_name)` because there are weights being created in the LSTM cells. TensorFlow will throw an error if the weights created here have the same names as the weights created in the LSTM cells, which they will be default. To avoid this, we wrap the variables in a variable scope so we can give them unique names.\n"
   ]
  },
  {
   "cell_type": "code",
   "execution_count": 22,
   "metadata": {
    "collapsed": true
   },
   "outputs": [],
   "source": [
    "def build_output(lstm_output, in_size, out_size):\n",
    "    ''' Build a softmax layer, return the softmax output and logits.\n",
    "    \n",
    "        Arguments\n",
    "        ---------\n",
    "        \n",
    "        lstm_output: List of output tensors from the LSTM layer\n",
    "        in_size: Size of the input tensor, for example, size of the LSTM cells\n",
    "        out_size: Size of this softmax layer\n",
    "    \n",
    "    '''\n",
    "\n",
    "    # Reshape output so it's a bunch of rows, one row for each step for each sequence.\n",
    "    # Concatenate lstm_output over axis 1 (the columns)\n",
    "    seq_output = tf.concat(lstm_output,axis=1)\n",
    "    # Reshape seq_output to a 2D tensor with lstm_size columns\n",
    "    x = tf.reshape(seq_output,[-1,in_size])\n",
    "    \n",
    "    # Connect the RNN outputs to a softmax layer\n",
    "    with tf.variable_scope('softmax'):\n",
    "        # Create the weight and bias variables here\n",
    "        softmax_w = tf.Variable(tf.truncated_normal((in_size, out_size),stddev=0.1))\n",
    "        softmax_b = tf.Variable(tf.zeros([out_size]))\n",
    "    \n",
    "    # Since output is a bunch of rows of RNN cell outputs, logits will be a bunch\n",
    "    # of rows of logit outputs, one for each step and sequence\n",
    "    logits =  tf.add(tf.matmul(x,softmax_w),softmax_b) \n",
    "    \n",
    "    # Use softmax to get the probabilities for predicted characters\n",
    "    out = tf.nn.softmax(logits,name =\"out\")\n",
    "    \n",
    "    return out, logits"
   ]
  },
  {
   "cell_type": "markdown",
   "metadata": {},
   "source": [
    "### Training loss\n",
    "\n",
    "Next up is the training loss. We get the logits and targets and calculate the softmax cross-entropy loss. First we need to one-hot encode the targets, we're getting them as encoded characters. Then, reshape the one-hot targets so it's a 2D tensor with size $(M*N) \\times C$ where $C$ is the number of classes/characters we have. Remember that we reshaped the LSTM outputs and ran them through a fully connected layer with $C$ units. So our logits will also have size $(M*N) \\times C$.\n",
    "\n",
    "Then we run the logits and targets through `tf.nn.softmax_cross_entropy_with_logits` and find the mean to get the loss."
   ]
  },
  {
   "cell_type": "code",
   "execution_count": 23,
   "metadata": {
    "collapsed": true
   },
   "outputs": [],
   "source": [
    "def build_loss(logits, targets, lstm_size, num_classes):\n",
    "    ''' Calculate the loss from the logits and the targets.\n",
    "    \n",
    "        Arguments\n",
    "        ---------\n",
    "        logits: Logits from final fully connected layer\n",
    "        targets: Targets for supervised learning\n",
    "        lstm_size: Number of LSTM hidden units\n",
    "        num_classes: Number of classes in targets\n",
    "        \n",
    "    '''\n",
    "    # One-hot encode targets and reshape to match logits, one row per sequence per step\n",
    "    y_one_hot = tf.one_hot(targets,num_classes)\n",
    "    y_reshaped =  tf.reshape(y_one_hot,logits.get_shape())\n",
    "    \n",
    "    # Softmax cross entropy loss\n",
    "    loss = tf.reduce_mean(tf.nn.softmax_cross_entropy_with_logits(logits=logits,labels=y_reshaped))\n",
    "    \n",
    "    return loss"
   ]
  },
  {
   "cell_type": "markdown",
   "metadata": {},
   "source": [
    "### Optimizer\n",
    "\n",
    "Here we build the optimizer. Normal RNNs have have issues gradients exploding and disappearing. LSTMs fix the disappearance problem, but the gradients can still grow without bound. To fix this, we can clip the gradients above some threshold. That is, if a gradient is larger than that threshold, we set it to the threshold. This will ensure the gradients never grow overly large. Then we use an AdamOptimizer for the learning step."
   ]
  },
  {
   "cell_type": "code",
   "execution_count": 24,
   "metadata": {
    "collapsed": true
   },
   "outputs": [],
   "source": [
    "def build_optimizer(loss, learning_rate, grad_clip,global_step):\n",
    "    ''' Build optmizer for training, using gradient clipping.\n",
    "    \n",
    "        Arguments:\n",
    "        loss: Network loss\n",
    "        learning_rate: Learning rate for optimizer\n",
    "        global_step: to control the total number of train steps\n",
    "    \n",
    "    '''\n",
    "    \n",
    "    # Optimizer for training, using gradient clipping to control exploding gradients\n",
    "    tvars = tf.trainable_variables()\n",
    "    grads, _ = tf.clip_by_global_norm(tf.gradients(loss, tvars), grad_clip)\n",
    "    train_op = tf.train.AdamOptimizer(learning_rate)\n",
    "    optimizer = train_op.apply_gradients(zip(grads, tvars),global_step)\n",
    "    \n",
    "    return optimizer"
   ]
  },
  {
   "cell_type": "markdown",
   "metadata": {},
   "source": [
    "### Build the network\n",
    "\n",
    "Now we can put all the pieces together and build a class for the network. To actually run data through the LSTM cells, we will use [`tf.nn.dynamic_rnn`](https://www.tensorflow.org/versions/r1.0/api_docs/python/tf/nn/dynamic_rnn). This function will pass the hidden and cell states across LSTM cells appropriately for us. It returns the outputs for each LSTM cell at each step for each sequence in the mini-batch. It also gives us the final LSTM state. We want to save this state as `final_state` so we can pass it to the first LSTM cell in the the next mini-batch run. For `tf.nn.dynamic_rnn`, we pass in the cell and initial state we get from `build_lstm`, as well as our input sequences. Also, we need to one-hot encode the inputs before going into the RNN. \n"
   ]
  },
  {
   "cell_type": "code",
   "execution_count": 25,
   "metadata": {
    "collapsed": true
   },
   "outputs": [],
   "source": [
    "class CharRNN:\n",
    "    \n",
    "    def __init__(self, num_classes, batch_size=64, num_steps=50, \n",
    "                       lstm_size=128, num_layers=2, learning_rate=0.001, \n",
    "                       grad_clip=5, sampling=False):\n",
    "    \n",
    "        # When we're using this network for sampling later, we'll be passing in\n",
    "        # one character at a time, so providing an option for that\n",
    "        if sampling == True:\n",
    "            batch_size, num_steps = 1, 1\n",
    "        else:\n",
    "            batch_size, num_steps = batch_size, num_steps\n",
    "\n",
    "        tf.reset_default_graph()\n",
    "        \n",
    "        self.global_step_tensor = tf.Variable(0,trainable=False,name = \"global_step\")\n",
    "        # Build the input placeholder tensors\n",
    "        self.inputs, self.targets, self.keep_prob = build_inputs(batch_size,num_steps)\n",
    "        # Build the LSTM cell\n",
    "        cell, self.initial_state = build_lstm(lstm_size,num_layers,batch_size,self.keep_prob)\n",
    "        ### Run the data through the RNN layers\n",
    "        # First, one-hot encode the input tokens\n",
    "        x_one_hot = tf.one_hot(self.inputs,num_classes)\n",
    "        \n",
    "        # Run each sequence step through the RNN with tf.nn.dynamic_rnn \n",
    "        outputs, state = tf.nn.dynamic_rnn(cell,x_one_hot,initial_state=self.initial_state)\n",
    "        self.final_state = state\n",
    "        \n",
    "        # Get softmax predictions and logits\n",
    "        self.prediction, self.logits = build_output(outputs,lstm_size,num_classes)\n",
    "        \n",
    "        # Loss and optimizer (with gradient clipping)\n",
    "        self.loss =  build_loss(self.logits,self.targets,lstm_size,num_classes)\n",
    "        self.optimizer = build_optimizer(self.loss,learning_rate,grad_clip,self.global_step_tensor)"
   ]
  },
  {
   "cell_type": "markdown",
   "metadata": {},
   "source": [
    "## Hyperparameters\n",
    "\n",
    "Here are the hyperparameters for the network.\n",
    "\n",
    "* `batch_size` - Number of sequences running through the network in one pass.\n",
    "* `num_steps` - Number of characters in the sequence the network is trained on. Larger is better typically, the network will learn more long range dependencies. But it takes longer to train. 100 is typically a good number here.\n",
    "* `lstm_size` - The number of units in the hidden layers.\n",
    "* `num_layers` - Number of hidden LSTM layers to use\n",
    "* `learning_rate` - Learning rate for training\n",
    "* `keep_prob` - The dropout keep probability when training. If you're network is overfitting, try decreasing this.\n",
    "\n",
    "Here's some good advice from Andrej Karpathy on training the network:. \n",
    "\n",
    "> ## Tips and Tricks\n",
    "\n",
    ">### Monitoring Validation Loss vs. Training Loss\n",
    ">If you're somewhat new to Machine Learning or Neural Networks it can take a bit of expertise to get good models. The most important quantity to keep track of is the difference between your training loss (printed during training) and the validation loss (printed once in a while when the RNN is run on the validation data (by default every 1000 iterations)). In particular:\n",
    "\n",
    "> - If your training loss is much lower than validation loss then this means the network might be **overfitting**. Solutions to this are to decrease your network size, or to increase dropout. For example you could try dropout of 0.5 and so on.\n",
    "> - If your training/validation loss are about equal then your model is **underfitting**. Increase the size of your model (either number of layers or the raw number of neurons per layer)\n",
    "\n",
    "> ### Approximate number of parameters\n",
    "\n",
    "> The two most important parameters that control the model are `lstm_size` and `num_layers`. I would advise that you always use `num_layers` of either 2/3. The `lstm_size` can be adjusted based on how much data you have. The two important quantities to keep track of here are:\n",
    "\n",
    "> - The number of parameters in your model. This is printed when you start training.\n",
    "> - The size of your dataset. 1MB file is approximately 1 million characters.\n",
    "\n",
    ">These two should be about the same order of magnitude. It's a little tricky to tell. Here are some examples:\n",
    "\n",
    "> - I have a 100MB dataset and I'm using the default parameter settings (which currently print 150K parameters). My data size is significantly larger (100 mil >> 0.15 mil), so I expect to heavily underfit. I am thinking I can comfortably afford to make `lstm_size` larger.\n",
    "> - I have a 10MB dataset and running a 10 million parameter model. I'm slightly nervous and I'm carefully monitoring my validation loss. If it's larger than my training loss then I may want to try to increase dropout a bit and see if that helps the validation loss.\n",
    "\n",
    "> ### Best models strategy\n",
    "\n",
    ">The winning strategy to obtaining very good models (if you have the compute time) is to always err on making the network larger (as large as you're willing to wait for it to compute) and then try different dropout values (between 0,1). Whatever model has the best validation performance (the loss, written in the checkpoint filename, low is good) is the one you should use in the end.\n",
    "\n",
    ">It is very common in deep learning to run many different models with many different hyperparameter settings, and in the end take whatever checkpoint gave the best validation performance.\n",
    "\n",
    ">By the way, the size of your training and validation splits are also parameters. Make sure you have a decent amount of data in your validation set or otherwise the validation performance will be noisy and not very informative."
   ]
  },
  {
   "cell_type": "code",
   "execution_count": 26,
   "metadata": {
    "collapsed": true
   },
   "outputs": [],
   "source": [
    "def get_number_of_parameters():\n",
    "    total_parameters = 0\n",
    "    for variable in tf.trainable_variables():\n",
    "        shape = variable.get_shape()\n",
    "        #print(shape)\n",
    "        #print(len(shape))\n",
    "        variable_parameters = 1\n",
    "        \n",
    "        for dim in shape:\n",
    "            #print(dim)\n",
    "            variable_parameters*=dim.value\n",
    "        #print(variable_parameters)\n",
    "        total_parameters+= variable_parameters\n",
    "    return total_parameters"
   ]
  },
  {
   "cell_type": "code",
   "execution_count": 27,
   "metadata": {
    "collapsed": true
   },
   "outputs": [],
   "source": [
    "def pick_top_n(preds, vocab_size, top_n=5):\n",
    "    p = np.squeeze(preds)\n",
    "    p[np.argsort(p)[:-top_n]] = 0\n",
    "    p = p / np.sum(p)\n",
    "    c = np.random.choice(vocab_size, 1, p=p)[0]\n",
    "    return c"
   ]
  },
  {
   "cell_type": "markdown",
   "metadata": {},
   "source": [
    "## Time for training\n",
    "\n",
    "This is typical training code, passing inputs and targets into the network, then running the optimizer. Here we also get back the final LSTM state for the mini-batch. Then, we pass that state back into the network so the next batch can continue the state from the previous batch. And every so often (set by `save_every_n`) I save a checkpoint.\n",
    "\n",
    "Here I'm saving checkpoints with the format\n",
    "\n",
    "`i{iteration number}_l{# hidden layer units}.ckpt`\n"
   ]
  },
  {
   "cell_type": "code",
   "execution_count": 28,
   "metadata": {
    "collapsed": true
   },
   "outputs": [],
   "source": [
    "losses = {\"train\":[],\"validation\":[]}\n",
    "x_steps = list()"
   ]
  },
  {
   "cell_type": "code",
   "execution_count": 29,
   "metadata": {
    "scrolled": true
   },
   "outputs": [
    {
     "name": "stdout",
     "output_type": "stream",
     "text": [
      "Number of parameters: 1224995 Dataset size: 1439811\n",
      "Epoch: 1/700...  Training Step: 1...  Training loss: 4.5569...  Val loss: 4.5516...  0.4000 sec/batch\n",
      "WARNING:tensorflow:Error encountered when serializing LAYER_NAME_UIDS.\n",
      "Type is unsupported, or the types of the items don't match field type in CollectionDef.\n",
      "'dict' object has no attribute 'name'\n",
      "Epoch: 2/700...  Training Step: 101...  Training loss: 3.4462...  Val loss: 3.1849...  0.1997 sec/batch\n",
      "Epoch: 4/700...  Training Step: 201...  Training loss: 3.3134...  Val loss: 3.1128...  0.2007 sec/batch\n",
      "Epoch: 6/700...  Training Step: 301...  Training loss: 3.2458...  Val loss: 3.0880...  0.2000 sec/batch\n",
      "Epoch: 8/700...  Training Step: 401...  Training loss: 3.2162...  Val loss: 3.0635...  0.2116 sec/batch\n",
      "Epoch: 9/700...  Training Step: 501...  Training loss: 3.1666...  Val loss: 3.0423...  0.2179 sec/batch\n",
      "WARNING:tensorflow:Error encountered when serializing LAYER_NAME_UIDS.\n",
      "Type is unsupported, or the types of the items don't match field type in CollectionDef.\n",
      "'dict' object has no attribute 'name'\n",
      "Epoch: 11/700...  Training Step: 601...  Training loss: 3.1091...  Val loss: 3.0051...  0.2007 sec/batch\n",
      "Epoch: 13/700...  Training Step: 701...  Training loss: 3.0329...  Val loss: 2.9199...  0.2119 sec/batch\n",
      "Epoch: 15/700...  Training Step: 801...  Training loss: 2.9508...  Val loss: 2.8173...  0.2013 sec/batch\n",
      "Epoch: 16/700...  Training Step: 901...  Training loss: 2.8550...  Val loss: 2.7219...  0.2012 sec/batch\n",
      "Epoch: 18/700...  Training Step: 1001...  Training loss: 2.7599...  Val loss: 2.6305...  0.2044 sec/batch\n",
      "WARNING:tensorflow:Error encountered when serializing LAYER_NAME_UIDS.\n",
      "Type is unsupported, or the types of the items don't match field type in CollectionDef.\n",
      "'dict' object has no attribute 'name'\n",
      "Epoch: 20/700...  Training Step: 1101...  Training loss: 2.6839...  Val loss: 2.5693...  0.2056 sec/batch\n",
      "Epoch: 22/700...  Training Step: 1201...  Training loss: 2.6794...  Val loss: 2.5286...  0.2006 sec/batch\n",
      "Epoch: 23/700...  Training Step: 1301...  Training loss: 2.6403...  Val loss: 2.4945...  0.2195 sec/batch\n",
      "Epoch: 25/700...  Training Step: 1401...  Training loss: 2.5972...  Val loss: 2.4681...  0.2078 sec/batch\n",
      "Epoch: 27/700...  Training Step: 1501...  Training loss: 2.5604...  Val loss: 2.4389...  0.2098 sec/batch\n",
      "WARNING:tensorflow:Error encountered when serializing LAYER_NAME_UIDS.\n",
      "Type is unsupported, or the types of the items don't match field type in CollectionDef.\n",
      "'dict' object has no attribute 'name'\n",
      "Epoch: 29/700...  Training Step: 1601...  Training loss: 2.5439...  Val loss: 2.4164...  0.2004 sec/batch\n",
      "Epoch: 30/700...  Training Step: 1701...  Training loss: 2.5263...  Val loss: 2.3976...  0.2133 sec/batch\n",
      "Epoch: 32/700...  Training Step: 1801...  Training loss: 2.5329...  Val loss: 2.3784...  0.2016 sec/batch\n",
      "Epoch: 34/700...  Training Step: 1901...  Training loss: 2.4518...  Val loss: 2.3600...  0.2262 sec/batch\n",
      "Epoch: 36/700...  Training Step: 2001...  Training loss: 2.4820...  Val loss: 2.3423...  0.2016 sec/batch\n",
      "WARNING:tensorflow:Error encountered when serializing LAYER_NAME_UIDS.\n",
      "Type is unsupported, or the types of the items don't match field type in CollectionDef.\n",
      "'dict' object has no attribute 'name'\n",
      "Epoch: 37/700...  Training Step: 2101...  Training loss: 2.4350...  Val loss: 2.3251...  0.2015 sec/batch\n",
      "Epoch: 39/700...  Training Step: 2201...  Training loss: 2.4260...  Val loss: 2.3112...  0.2091 sec/batch\n",
      "Epoch: 41/700...  Training Step: 2301...  Training loss: 2.3982...  Val loss: 2.2972...  0.2095 sec/batch\n",
      "Epoch: 43/700...  Training Step: 2401...  Training loss: 2.3836...  Val loss: 2.2841...  0.2137 sec/batch\n",
      "Epoch: 44/700...  Training Step: 2501...  Training loss: 2.4119...  Val loss: 2.2702...  0.2213 sec/batch\n",
      "WARNING:tensorflow:Error encountered when serializing LAYER_NAME_UIDS.\n",
      "Type is unsupported, or the types of the items don't match field type in CollectionDef.\n",
      "'dict' object has no attribute 'name'\n",
      "Epoch: 46/700...  Training Step: 2601...  Training loss: 2.3861...  Val loss: 2.2593...  0.2021 sec/batch\n",
      "Epoch: 48/700...  Training Step: 2701...  Training loss: 2.3424...  Val loss: 2.2490...  0.2115 sec/batch\n",
      "Epoch: 50/700...  Training Step: 2801...  Training loss: 2.3412...  Val loss: 2.2351...  0.2016 sec/batch\n",
      "Epoch: 51/700...  Training Step: 2901...  Training loss: 2.3451...  Val loss: 2.2248...  0.2029 sec/batch\n",
      "Epoch: 53/700...  Training Step: 3001...  Training loss: 2.3653...  Val loss: 2.2146...  0.2013 sec/batch\n",
      "WARNING:tensorflow:Error encountered when serializing LAYER_NAME_UIDS.\n",
      "Type is unsupported, or the types of the items don't match field type in CollectionDef.\n",
      "'dict' object has no attribute 'name'\n",
      "Epoch: 55/700...  Training Step: 3101...  Training loss: 2.2916...  Val loss: 2.2045...  0.2045 sec/batch\n",
      "Epoch: 57/700...  Training Step: 3201...  Training loss: 2.2993...  Val loss: 2.1941...  0.2023 sec/batch\n",
      "Epoch: 58/700...  Training Step: 3301...  Training loss: 2.3066...  Val loss: 2.1853...  0.2021 sec/batch\n",
      "Epoch: 60/700...  Training Step: 3401...  Training loss: 2.2922...  Val loss: 2.1763...  0.2017 sec/batch\n",
      "Epoch: 62/700...  Training Step: 3501...  Training loss: 2.2766...  Val loss: 2.1687...  0.2001 sec/batch\n",
      "WARNING:tensorflow:Error encountered when serializing LAYER_NAME_UIDS.\n",
      "Type is unsupported, or the types of the items don't match field type in CollectionDef.\n",
      "'dict' object has no attribute 'name'\n",
      "Epoch: 64/700...  Training Step: 3601...  Training loss: 2.2669...  Val loss: 2.1607...  0.2016 sec/batch\n",
      "Epoch: 65/700...  Training Step: 3701...  Training loss: 2.2767...  Val loss: 2.1530...  0.2019 sec/batch\n",
      "Epoch: 67/700...  Training Step: 3801...  Training loss: 2.2719...  Val loss: 2.1465...  0.2026 sec/batch\n",
      "Epoch: 69/700...  Training Step: 3901...  Training loss: 2.2713...  Val loss: 2.1376...  0.2012 sec/batch\n",
      "Epoch: 71/700...  Training Step: 4001...  Training loss: 2.2499...  Val loss: 2.1297...  0.2100 sec/batch\n",
      "WARNING:tensorflow:Error encountered when serializing LAYER_NAME_UIDS.\n",
      "Type is unsupported, or the types of the items don't match field type in CollectionDef.\n",
      "'dict' object has no attribute 'name'\n",
      "Epoch: 72/700...  Training Step: 4101...  Training loss: 2.2521...  Val loss: 2.1235...  0.2015 sec/batch\n",
      "Epoch: 74/700...  Training Step: 4201...  Training loss: 2.2457...  Val loss: 2.1168...  0.2016 sec/batch\n",
      "Epoch: 76/700...  Training Step: 4301...  Training loss: 2.2219...  Val loss: 2.1113...  0.2019 sec/batch\n",
      "Epoch: 78/700...  Training Step: 4401...  Training loss: 2.2198...  Val loss: 2.1038...  0.2016 sec/batch\n",
      "Epoch: 79/700...  Training Step: 4501...  Training loss: 2.2367...  Val loss: 2.0955...  0.2019 sec/batch\n",
      "WARNING:tensorflow:Error encountered when serializing LAYER_NAME_UIDS.\n",
      "Type is unsupported, or the types of the items don't match field type in CollectionDef.\n",
      "'dict' object has no attribute 'name'\n",
      "Epoch: 81/700...  Training Step: 4601...  Training loss: 2.2200...  Val loss: 2.0906...  0.2019 sec/batch\n",
      "Epoch: 83/700...  Training Step: 4701...  Training loss: 2.2026...  Val loss: 2.0847...  0.2098 sec/batch\n",
      "Epoch: 85/700...  Training Step: 4801...  Training loss: 2.1970...  Val loss: 2.0811...  0.2101 sec/batch\n",
      "Epoch: 86/700...  Training Step: 4901...  Training loss: 2.1926...  Val loss: 2.0741...  0.2122 sec/batch\n",
      "Epoch: 88/700...  Training Step: 5001...  Training loss: 2.2005...  Val loss: 2.0684...  0.2101 sec/batch\n",
      "WARNING:tensorflow:Error encountered when serializing LAYER_NAME_UIDS.\n",
      "Type is unsupported, or the types of the items don't match field type in CollectionDef.\n",
      "'dict' object has no attribute 'name'\n",
      "Epoch: 90/700...  Training Step: 5101...  Training loss: 2.1716...  Val loss: 2.0628...  0.2111 sec/batch\n",
      "Epoch: 92/700...  Training Step: 5201...  Training loss: 2.1768...  Val loss: 2.0583...  0.2111 sec/batch\n",
      "Epoch: 93/700...  Training Step: 5301...  Training loss: 2.1709...  Val loss: 2.0495...  0.2079 sec/batch\n",
      "Epoch: 95/700...  Training Step: 5401...  Training loss: 2.1524...  Val loss: 2.0468...  0.2103 sec/batch\n",
      "Epoch: 97/700...  Training Step: 5501...  Training loss: 2.1625...  Val loss: 2.0438...  0.2102 sec/batch\n",
      "WARNING:tensorflow:Error encountered when serializing LAYER_NAME_UIDS.\n",
      "Type is unsupported, or the types of the items don't match field type in CollectionDef.\n",
      "'dict' object has no attribute 'name'\n"
     ]
    },
    {
     "name": "stdout",
     "output_type": "stream",
     "text": [
      "Epoch: 99/700...  Training Step: 5601...  Training loss: 2.1549...  Val loss: 2.0374...  0.2097 sec/batch\n",
      "Epoch: 101/700...  Training Step: 5701...  Training loss: 2.1775...  Val loss: 2.0340...  0.2114 sec/batch\n",
      "Epoch: 102/700...  Training Step: 5801...  Training loss: 2.1312...  Val loss: 2.0272...  0.2101 sec/batch\n",
      "Epoch: 104/700...  Training Step: 5901...  Training loss: 2.1412...  Val loss: 2.0240...  0.2101 sec/batch\n",
      "Epoch: 106/700...  Training Step: 6001...  Training loss: 2.1342...  Val loss: 2.0188...  0.2003 sec/batch\n",
      "WARNING:tensorflow:Error encountered when serializing LAYER_NAME_UIDS.\n",
      "Type is unsupported, or the types of the items don't match field type in CollectionDef.\n",
      "'dict' object has no attribute 'name'\n",
      "Epoch: 108/700...  Training Step: 6101...  Training loss: 2.1513...  Val loss: 2.0139...  0.2017 sec/batch\n",
      "Epoch: 109/700...  Training Step: 6201...  Training loss: 2.1252...  Val loss: 2.0101...  0.2174 sec/batch\n",
      "Epoch: 111/700...  Training Step: 6301...  Training loss: 2.1157...  Val loss: 2.0067...  0.2103 sec/batch\n",
      "Epoch: 113/700...  Training Step: 6401...  Training loss: 2.1113...  Val loss: 1.9998...  0.2091 sec/batch\n",
      "Epoch: 115/700...  Training Step: 6501...  Training loss: 2.1198...  Val loss: 1.9949...  0.2103 sec/batch\n",
      "WARNING:tensorflow:Error encountered when serializing LAYER_NAME_UIDS.\n",
      "Type is unsupported, or the types of the items don't match field type in CollectionDef.\n",
      "'dict' object has no attribute 'name'\n",
      "Epoch: 116/700...  Training Step: 6601...  Training loss: 2.1279...  Val loss: 1.9936...  0.2103 sec/batch\n",
      "Epoch: 118/700...  Training Step: 6701...  Training loss: 2.1021...  Val loss: 1.9884...  0.2104 sec/batch\n",
      "Epoch: 120/700...  Training Step: 6801...  Training loss: 2.0866...  Val loss: 1.9843...  0.2103 sec/batch\n",
      "Epoch: 122/700...  Training Step: 6901...  Training loss: 2.1226...  Val loss: 1.9809...  0.2112 sec/batch\n",
      "Epoch: 123/700...  Training Step: 7001...  Training loss: 2.1173...  Val loss: 1.9759...  0.2098 sec/batch\n",
      "WARNING:tensorflow:Error encountered when serializing LAYER_NAME_UIDS.\n",
      "Type is unsupported, or the types of the items don't match field type in CollectionDef.\n",
      "'dict' object has no attribute 'name'\n",
      "Epoch: 125/700...  Training Step: 7101...  Training loss: 2.0886...  Val loss: 1.9734...  0.2111 sec/batch\n",
      "Epoch: 127/700...  Training Step: 7201...  Training loss: 2.0739...  Val loss: 1.9685...  0.2101 sec/batch\n",
      "Epoch: 129/700...  Training Step: 7301...  Training loss: 2.0943...  Val loss: 1.9645...  0.2106 sec/batch\n",
      "Epoch: 130/700...  Training Step: 7401...  Training loss: 2.0894...  Val loss: 1.9614...  0.2040 sec/batch\n",
      "Epoch: 132/700...  Training Step: 7501...  Training loss: 2.0991...  Val loss: 1.9583...  0.2129 sec/batch\n",
      "WARNING:tensorflow:Error encountered when serializing LAYER_NAME_UIDS.\n",
      "Type is unsupported, or the types of the items don't match field type in CollectionDef.\n",
      "'dict' object has no attribute 'name'\n",
      "Epoch: 134/700...  Training Step: 7601...  Training loss: 2.0499...  Val loss: 1.9564...  0.2017 sec/batch\n",
      "Epoch: 136/700...  Training Step: 7701...  Training loss: 2.0761...  Val loss: 1.9501...  0.2192 sec/batch\n",
      "Epoch: 137/700...  Training Step: 7801...  Training loss: 2.0642...  Val loss: 1.9489...  0.2233 sec/batch\n",
      "Epoch: 139/700...  Training Step: 7901...  Training loss: 2.0675...  Val loss: 1.9459...  0.2030 sec/batch\n",
      "Epoch: 141/700...  Training Step: 8001...  Training loss: 2.0362...  Val loss: 1.9415...  0.2092 sec/batch\n",
      "WARNING:tensorflow:Error encountered when serializing LAYER_NAME_UIDS.\n",
      "Type is unsupported, or the types of the items don't match field type in CollectionDef.\n",
      "'dict' object has no attribute 'name'\n",
      "Epoch: 143/700...  Training Step: 8101...  Training loss: 2.0330...  Val loss: 1.9412...  0.2004 sec/batch\n",
      "Epoch: 144/700...  Training Step: 8201...  Training loss: 2.0660...  Val loss: 1.9359...  0.2035 sec/batch\n",
      "Epoch: 146/700...  Training Step: 8301...  Training loss: 2.0563...  Val loss: 1.9341...  0.2021 sec/batch\n",
      "Epoch: 148/700...  Training Step: 8401...  Training loss: 2.0237...  Val loss: 1.9312...  0.2147 sec/batch\n",
      "Epoch: 150/700...  Training Step: 8501...  Training loss: 2.0261...  Val loss: 1.9287...  0.2082 sec/batch\n",
      "WARNING:tensorflow:Error encountered when serializing LAYER_NAME_UIDS.\n",
      "Type is unsupported, or the types of the items don't match field type in CollectionDef.\n",
      "'dict' object has no attribute 'name'\n",
      "Epoch: 151/700...  Training Step: 8601...  Training loss: 2.0485...  Val loss: 1.9248...  0.2148 sec/batch\n",
      "Epoch: 153/700...  Training Step: 8701...  Training loss: 2.0673...  Val loss: 1.9223...  0.2020 sec/batch\n",
      "Epoch: 155/700...  Training Step: 8801...  Training loss: 1.9962...  Val loss: 1.9182...  0.2020 sec/batch\n",
      "Epoch: 157/700...  Training Step: 8901...  Training loss: 2.0255...  Val loss: 1.9166...  0.2125 sec/batch\n",
      "Epoch: 158/700...  Training Step: 9001...  Training loss: 2.0336...  Val loss: 1.9147...  0.2031 sec/batch\n",
      "WARNING:tensorflow:Error encountered when serializing LAYER_NAME_UIDS.\n",
      "Type is unsupported, or the types of the items don't match field type in CollectionDef.\n",
      "'dict' object has no attribute 'name'\n",
      "Epoch: 160/700...  Training Step: 9101...  Training loss: 2.0416...  Val loss: 1.9106...  0.2017 sec/batch\n",
      "Epoch: 162/700...  Training Step: 9201...  Training loss: 2.0166...  Val loss: 1.9093...  0.2015 sec/batch\n",
      "Epoch: 164/700...  Training Step: 9301...  Training loss: 2.0136...  Val loss: 1.9078...  0.2143 sec/batch\n",
      "Epoch: 165/700...  Training Step: 9401...  Training loss: 2.0234...  Val loss: 1.9030...  0.2144 sec/batch\n",
      "Epoch: 167/700...  Training Step: 9501...  Training loss: 2.0293...  Val loss: 1.9020...  0.2060 sec/batch\n",
      "WARNING:tensorflow:Error encountered when serializing LAYER_NAME_UIDS.\n",
      "Type is unsupported, or the types of the items don't match field type in CollectionDef.\n",
      "'dict' object has no attribute 'name'\n",
      "Epoch: 169/700...  Training Step: 9601...  Training loss: 2.0291...  Val loss: 1.8964...  0.2019 sec/batch\n",
      "Epoch: 171/700...  Training Step: 9701...  Training loss: 2.0116...  Val loss: 1.8968...  0.2130 sec/batch\n",
      "Epoch: 172/700...  Training Step: 9801...  Training loss: 2.0303...  Val loss: 1.8949...  0.2096 sec/batch\n",
      "Epoch: 174/700...  Training Step: 9901...  Training loss: 2.0190...  Val loss: 1.8904...  0.2067 sec/batch\n",
      "Epoch: 176/700...  Training Step: 10001...  Training loss: 2.0025...  Val loss: 1.8897...  0.2025 sec/batch\n",
      "WARNING:tensorflow:Error encountered when serializing LAYER_NAME_UIDS.\n",
      "Type is unsupported, or the types of the items don't match field type in CollectionDef.\n",
      "'dict' object has no attribute 'name'\n",
      "Epoch: 178/700...  Training Step: 10101...  Training loss: 2.0044...  Val loss: 1.8866...  0.2142 sec/batch\n",
      "Epoch: 179/700...  Training Step: 10201...  Training loss: 2.0280...  Val loss: 1.8816...  0.2030 sec/batch\n",
      "Epoch: 181/700...  Training Step: 10301...  Training loss: 2.0080...  Val loss: 1.8811...  0.2027 sec/batch\n",
      "Epoch: 183/700...  Training Step: 10401...  Training loss: 1.9938...  Val loss: 1.8805...  0.2018 sec/batch\n",
      "Epoch: 185/700...  Training Step: 10501...  Training loss: 1.9925...  Val loss: 1.8799...  0.2077 sec/batch\n",
      "WARNING:tensorflow:Error encountered when serializing LAYER_NAME_UIDS.\n",
      "Type is unsupported, or the types of the items don't match field type in CollectionDef.\n",
      "'dict' object has no attribute 'name'\n",
      "Epoch: 186/700...  Training Step: 10601...  Training loss: 1.9992...  Val loss: 1.8763...  0.2220 sec/batch\n",
      "Epoch: 188/700...  Training Step: 10701...  Training loss: 2.0008...  Val loss: 1.8732...  0.2018 sec/batch\n",
      "Epoch: 190/700...  Training Step: 10801...  Training loss: 1.9865...  Val loss: 1.8710...  0.2017 sec/batch\n",
      "Epoch: 192/700...  Training Step: 10901...  Training loss: 1.9815...  Val loss: 1.8700...  0.2027 sec/batch\n",
      "Epoch: 193/700...  Training Step: 11001...  Training loss: 1.9906...  Val loss: 1.8647...  0.2017 sec/batch\n",
      "WARNING:tensorflow:Error encountered when serializing LAYER_NAME_UIDS.\n",
      "Type is unsupported, or the types of the items don't match field type in CollectionDef.\n",
      "'dict' object has no attribute 'name'\n",
      "Epoch: 195/700...  Training Step: 11101...  Training loss: 1.9734...  Val loss: 1.8645...  0.2145 sec/batch\n",
      "Epoch: 197/700...  Training Step: 11201...  Training loss: 1.9807...  Val loss: 1.8633...  0.2022 sec/batch\n"
     ]
    },
    {
     "name": "stdout",
     "output_type": "stream",
     "text": [
      "Epoch: 199/700...  Training Step: 11301...  Training loss: 1.9837...  Val loss: 1.8622...  0.2166 sec/batch\n",
      "Epoch: 201/700...  Training Step: 11401...  Training loss: 2.0018...  Val loss: 1.8611...  0.2018 sec/batch\n",
      "Epoch: 202/700...  Training Step: 11501...  Training loss: 1.9632...  Val loss: 1.8567...  0.2015 sec/batch\n",
      "WARNING:tensorflow:Error encountered when serializing LAYER_NAME_UIDS.\n",
      "Type is unsupported, or the types of the items don't match field type in CollectionDef.\n",
      "'dict' object has no attribute 'name'\n",
      "Epoch: 204/700...  Training Step: 11601...  Training loss: 1.9683...  Val loss: 1.8554...  0.2292 sec/batch\n",
      "Epoch: 206/700...  Training Step: 11701...  Training loss: 1.9639...  Val loss: 1.8537...  0.2019 sec/batch\n",
      "Epoch: 208/700...  Training Step: 11801...  Training loss: 2.0013...  Val loss: 1.8518...  0.2016 sec/batch\n",
      "Epoch: 209/700...  Training Step: 11901...  Training loss: 1.9591...  Val loss: 1.8504...  0.2017 sec/batch\n",
      "Epoch: 211/700...  Training Step: 12001...  Training loss: 1.9592...  Val loss: 1.8487...  0.2034 sec/batch\n",
      "WARNING:tensorflow:Error encountered when serializing LAYER_NAME_UIDS.\n",
      "Type is unsupported, or the types of the items don't match field type in CollectionDef.\n",
      "'dict' object has no attribute 'name'\n",
      "Epoch: 213/700...  Training Step: 12101...  Training loss: 1.9481...  Val loss: 1.8467...  0.2151 sec/batch\n",
      "Epoch: 215/700...  Training Step: 12201...  Training loss: 1.9704...  Val loss: 1.8444...  0.2185 sec/batch\n",
      "Epoch: 216/700...  Training Step: 12301...  Training loss: 1.9787...  Val loss: 1.8475...  0.2020 sec/batch\n",
      "Epoch: 218/700...  Training Step: 12401...  Training loss: 1.9581...  Val loss: 1.8438...  0.2051 sec/batch\n",
      "Epoch: 220/700...  Training Step: 12501...  Training loss: 1.9387...  Val loss: 1.8391...  0.2104 sec/batch\n",
      "WARNING:tensorflow:Error encountered when serializing LAYER_NAME_UIDS.\n",
      "Type is unsupported, or the types of the items don't match field type in CollectionDef.\n",
      "'dict' object has no attribute 'name'\n",
      "Epoch: 222/700...  Training Step: 12601...  Training loss: 1.9716...  Val loss: 1.8381...  0.2111 sec/batch\n",
      "Epoch: 223/700...  Training Step: 12701...  Training loss: 1.9598...  Val loss: 1.8382...  0.2106 sec/batch\n",
      "Epoch: 225/700...  Training Step: 12801...  Training loss: 1.9505...  Val loss: 1.8366...  0.2106 sec/batch\n",
      "Epoch: 227/700...  Training Step: 12901...  Training loss: 1.9400...  Val loss: 1.8333...  0.2091 sec/batch\n",
      "Epoch: 229/700...  Training Step: 13001...  Training loss: 1.9546...  Val loss: 1.8307...  0.2105 sec/batch\n",
      "WARNING:tensorflow:Error encountered when serializing LAYER_NAME_UIDS.\n",
      "Type is unsupported, or the types of the items don't match field type in CollectionDef.\n",
      "'dict' object has no attribute 'name'\n",
      "Epoch: 230/700...  Training Step: 13101...  Training loss: 1.9474...  Val loss: 1.8299...  0.2110 sec/batch\n",
      "Epoch: 232/700...  Training Step: 13201...  Training loss: 1.9748...  Val loss: 1.8295...  0.2102 sec/batch\n",
      "Epoch: 234/700...  Training Step: 13301...  Training loss: 1.9225...  Val loss: 1.8279...  0.2107 sec/batch\n",
      "Epoch: 236/700...  Training Step: 13401...  Training loss: 1.9541...  Val loss: 1.8240...  0.2201 sec/batch\n",
      "Epoch: 237/700...  Training Step: 13501...  Training loss: 1.9361...  Val loss: 1.8254...  0.2020 sec/batch\n",
      "WARNING:tensorflow:Error encountered when serializing LAYER_NAME_UIDS.\n",
      "Type is unsupported, or the types of the items don't match field type in CollectionDef.\n",
      "'dict' object has no attribute 'name'\n",
      "Epoch: 239/700...  Training Step: 13601...  Training loss: 1.9332...  Val loss: 1.8255...  0.2104 sec/batch\n",
      "Epoch: 241/700...  Training Step: 13701...  Training loss: 1.9100...  Val loss: 1.8206...  0.2102 sec/batch\n",
      "Epoch: 243/700...  Training Step: 13801...  Training loss: 1.9059...  Val loss: 1.8224...  0.2106 sec/batch\n",
      "Epoch: 244/700...  Training Step: 13901...  Training loss: 1.9426...  Val loss: 1.8195...  0.2101 sec/batch\n",
      "Epoch: 246/700...  Training Step: 14001...  Training loss: 1.9403...  Val loss: 1.8189...  0.2103 sec/batch\n",
      "WARNING:tensorflow:Error encountered when serializing LAYER_NAME_UIDS.\n",
      "Type is unsupported, or the types of the items don't match field type in CollectionDef.\n",
      "'dict' object has no attribute 'name'\n",
      "Epoch: 248/700...  Training Step: 14101...  Training loss: 1.9036...  Val loss: 1.8183...  0.2110 sec/batch\n",
      "Epoch: 250/700...  Training Step: 14201...  Training loss: 1.9174...  Val loss: 1.8161...  0.2130 sec/batch\n",
      "Epoch: 251/700...  Training Step: 14301...  Training loss: 1.9363...  Val loss: 1.8142...  0.2183 sec/batch\n",
      "Epoch: 253/700...  Training Step: 14401...  Training loss: 1.9544...  Val loss: 1.8135...  0.2114 sec/batch\n",
      "Epoch: 255/700...  Training Step: 14501...  Training loss: 1.8905...  Val loss: 1.8101...  0.2232 sec/batch\n",
      "WARNING:tensorflow:Error encountered when serializing LAYER_NAME_UIDS.\n",
      "Type is unsupported, or the types of the items don't match field type in CollectionDef.\n",
      "'dict' object has no attribute 'name'\n",
      "Epoch: 257/700...  Training Step: 14601...  Training loss: 1.9009...  Val loss: 1.8118...  0.2061 sec/batch\n",
      "Epoch: 258/700...  Training Step: 14701...  Training loss: 1.9278...  Val loss: 1.8109...  0.2213 sec/batch\n",
      "Epoch: 260/700...  Training Step: 14801...  Training loss: 1.9336...  Val loss: 1.8089...  0.2094 sec/batch\n",
      "Epoch: 262/700...  Training Step: 14901...  Training loss: 1.9116...  Val loss: 1.8058...  0.2223 sec/batch\n",
      "Epoch: 264/700...  Training Step: 15001...  Training loss: 1.8981...  Val loss: 1.8079...  0.2113 sec/batch\n",
      "WARNING:tensorflow:Error encountered when serializing LAYER_NAME_UIDS.\n",
      "Type is unsupported, or the types of the items don't match field type in CollectionDef.\n",
      "'dict' object has no attribute 'name'\n",
      "Epoch: 265/700...  Training Step: 15101...  Training loss: 1.9232...  Val loss: 1.8050...  0.2017 sec/batch\n",
      "Epoch: 267/700...  Training Step: 15201...  Training loss: 1.9233...  Val loss: 1.8039...  0.2015 sec/batch\n",
      "Epoch: 269/700...  Training Step: 15301...  Training loss: 1.9241...  Val loss: 1.8017...  0.2014 sec/batch\n",
      "Epoch: 271/700...  Training Step: 15401...  Training loss: 1.9115...  Val loss: 1.8018...  0.2054 sec/batch\n",
      "Epoch: 272/700...  Training Step: 15501...  Training loss: 1.9222...  Val loss: 1.8024...  0.2048 sec/batch\n",
      "WARNING:tensorflow:Error encountered when serializing LAYER_NAME_UIDS.\n",
      "Type is unsupported, or the types of the items don't match field type in CollectionDef.\n",
      "'dict' object has no attribute 'name'\n",
      "Epoch: 274/700...  Training Step: 15601...  Training loss: 1.9265...  Val loss: 1.7992...  0.2044 sec/batch\n",
      "Epoch: 276/700...  Training Step: 15701...  Training loss: 1.9075...  Val loss: 1.7988...  0.2048 sec/batch\n",
      "Epoch: 278/700...  Training Step: 15801...  Training loss: 1.9094...  Val loss: 1.7986...  0.2049 sec/batch\n",
      "Epoch: 279/700...  Training Step: 15901...  Training loss: 1.9256...  Val loss: 1.7940...  0.2050 sec/batch\n",
      "Epoch: 281/700...  Training Step: 16001...  Training loss: 1.9176...  Val loss: 1.7953...  0.2150 sec/batch\n",
      "WARNING:tensorflow:Error encountered when serializing LAYER_NAME_UIDS.\n",
      "Type is unsupported, or the types of the items don't match field type in CollectionDef.\n",
      "'dict' object has no attribute 'name'\n",
      "Epoch: 283/700...  Training Step: 16101...  Training loss: 1.8930...  Val loss: 1.7949...  0.2067 sec/batch\n",
      "Epoch: 285/700...  Training Step: 16201...  Training loss: 1.8994...  Val loss: 1.7941...  0.2023 sec/batch\n",
      "Epoch: 286/700...  Training Step: 16301...  Training loss: 1.9097...  Val loss: 1.7934...  0.2023 sec/batch\n",
      "Epoch: 288/700...  Training Step: 16401...  Training loss: 1.9016...  Val loss: 1.7902...  0.2014 sec/batch\n",
      "Epoch: 290/700...  Training Step: 16501...  Training loss: 1.8872...  Val loss: 1.7876...  0.2194 sec/batch\n",
      "WARNING:tensorflow:Error encountered when serializing LAYER_NAME_UIDS.\n",
      "Type is unsupported, or the types of the items don't match field type in CollectionDef.\n",
      "'dict' object has no attribute 'name'\n",
      "Epoch: 292/700...  Training Step: 16601...  Training loss: 1.8964...  Val loss: 1.7887...  0.2018 sec/batch\n",
      "Epoch: 293/700...  Training Step: 16701...  Training loss: 1.8986...  Val loss: 1.7842...  0.2017 sec/batch\n",
      "Epoch: 295/700...  Training Step: 16801...  Training loss: 1.8758...  Val loss: 1.7869...  0.2146 sec/batch\n"
     ]
    },
    {
     "name": "stdout",
     "output_type": "stream",
     "text": [
      "Epoch: 297/700...  Training Step: 16901...  Training loss: 1.8905...  Val loss: 1.7851...  0.2048 sec/batch\n",
      "Epoch: 299/700...  Training Step: 17001...  Training loss: 1.8918...  Val loss: 1.7855...  0.2052 sec/batch\n",
      "WARNING:tensorflow:Error encountered when serializing LAYER_NAME_UIDS.\n",
      "Type is unsupported, or the types of the items don't match field type in CollectionDef.\n",
      "'dict' object has no attribute 'name'\n",
      "Epoch: 301/700...  Training Step: 17101...  Training loss: 1.9186...  Val loss: 1.7835...  0.2048 sec/batch\n",
      "Epoch: 302/700...  Training Step: 17201...  Training loss: 1.8758...  Val loss: 1.7818...  0.2066 sec/batch\n",
      "Epoch: 304/700...  Training Step: 17301...  Training loss: 1.8890...  Val loss: 1.7816...  0.2235 sec/batch\n",
      "Epoch: 306/700...  Training Step: 17401...  Training loss: 1.8821...  Val loss: 1.7792...  0.2064 sec/batch\n",
      "Epoch: 308/700...  Training Step: 17501...  Training loss: 1.9050...  Val loss: 1.7791...  0.2052 sec/batch\n",
      "WARNING:tensorflow:Error encountered when serializing LAYER_NAME_UIDS.\n",
      "Type is unsupported, or the types of the items don't match field type in CollectionDef.\n",
      "'dict' object has no attribute 'name'\n",
      "Epoch: 309/700...  Training Step: 17601...  Training loss: 1.8753...  Val loss: 1.7782...  0.2046 sec/batch\n",
      "Epoch: 311/700...  Training Step: 17701...  Training loss: 1.8806...  Val loss: 1.7773...  0.2046 sec/batch\n",
      "Epoch: 313/700...  Training Step: 17801...  Training loss: 1.8635...  Val loss: 1.7749...  0.2058 sec/batch\n",
      "Epoch: 315/700...  Training Step: 17901...  Training loss: 1.8892...  Val loss: 1.7727...  0.2073 sec/batch\n",
      "Epoch: 316/700...  Training Step: 18001...  Training loss: 1.8966...  Val loss: 1.7767...  0.2046 sec/batch\n",
      "WARNING:tensorflow:Error encountered when serializing LAYER_NAME_UIDS.\n",
      "Type is unsupported, or the types of the items don't match field type in CollectionDef.\n",
      "'dict' object has no attribute 'name'\n",
      "Epoch: 318/700...  Training Step: 18101...  Training loss: 1.8883...  Val loss: 1.7735...  0.2204 sec/batch\n",
      "Epoch: 320/700...  Training Step: 18201...  Training loss: 1.8591...  Val loss: 1.7710...  0.2051 sec/batch\n",
      "Epoch: 322/700...  Training Step: 18301...  Training loss: 1.9035...  Val loss: 1.7718...  0.2049 sec/batch\n",
      "Epoch: 323/700...  Training Step: 18401...  Training loss: 1.8997...  Val loss: 1.7704...  0.2048 sec/batch\n",
      "Epoch: 325/700...  Training Step: 18501...  Training loss: 1.8700...  Val loss: 1.7691...  0.2065 sec/batch\n",
      "WARNING:tensorflow:Error encountered when serializing LAYER_NAME_UIDS.\n",
      "Type is unsupported, or the types of the items don't match field type in CollectionDef.\n",
      "'dict' object has no attribute 'name'\n",
      "Epoch: 327/700...  Training Step: 18601...  Training loss: 1.8586...  Val loss: 1.7669...  0.2058 sec/batch\n",
      "Epoch: 329/700...  Training Step: 18701...  Training loss: 1.8810...  Val loss: 1.7649...  0.2162 sec/batch\n",
      "Epoch: 330/700...  Training Step: 18801...  Training loss: 1.8686...  Val loss: 1.7667...  0.2085 sec/batch\n",
      "Epoch: 332/700...  Training Step: 18901...  Training loss: 1.8939...  Val loss: 1.7653...  0.2077 sec/batch\n",
      "Epoch: 334/700...  Training Step: 19001...  Training loss: 1.8380...  Val loss: 1.7655...  0.2086 sec/batch\n",
      "WARNING:tensorflow:Error encountered when serializing LAYER_NAME_UIDS.\n",
      "Type is unsupported, or the types of the items don't match field type in CollectionDef.\n",
      "'dict' object has no attribute 'name'\n",
      "Epoch: 336/700...  Training Step: 19101...  Training loss: 1.8690...  Val loss: 1.7606...  0.2086 sec/batch\n",
      "Epoch: 337/700...  Training Step: 19201...  Training loss: 1.8746...  Val loss: 1.7640...  0.2083 sec/batch\n",
      "Epoch: 339/700...  Training Step: 19301...  Training loss: 1.8632...  Val loss: 1.7633...  0.2083 sec/batch\n",
      "Epoch: 341/700...  Training Step: 19401...  Training loss: 1.8288...  Val loss: 1.7592...  0.2078 sec/batch\n",
      "Epoch: 343/700...  Training Step: 19501...  Training loss: 1.8424...  Val loss: 1.7604...  0.2201 sec/batch\n",
      "WARNING:tensorflow:Error encountered when serializing LAYER_NAME_UIDS.\n",
      "Type is unsupported, or the types of the items don't match field type in CollectionDef.\n",
      "'dict' object has no attribute 'name'\n",
      "Epoch: 344/700...  Training Step: 19601...  Training loss: 1.8723...  Val loss: 1.7586...  0.2186 sec/batch\n",
      "Epoch: 346/700...  Training Step: 19701...  Training loss: 1.8588...  Val loss: 1.7594...  0.1997 sec/batch\n",
      "Epoch: 348/700...  Training Step: 19801...  Training loss: 1.8358...  Val loss: 1.7599...  0.2019 sec/batch\n",
      "Epoch: 350/700...  Training Step: 19901...  Training loss: 1.8422...  Val loss: 1.7586...  0.2052 sec/batch\n",
      "Epoch: 351/700...  Training Step: 20001...  Training loss: 1.8623...  Val loss: 1.7572...  0.2034 sec/batch\n",
      "WARNING:tensorflow:Error encountered when serializing LAYER_NAME_UIDS.\n",
      "Type is unsupported, or the types of the items don't match field type in CollectionDef.\n",
      "'dict' object has no attribute 'name'\n",
      "Epoch: 353/700...  Training Step: 20101...  Training loss: 1.8923...  Val loss: 1.7558...  0.2162 sec/batch\n",
      "Epoch: 355/700...  Training Step: 20201...  Training loss: 1.8231...  Val loss: 1.7537...  0.2056 sec/batch\n",
      "Epoch: 357/700...  Training Step: 20301...  Training loss: 1.8353...  Val loss: 1.7527...  0.2047 sec/batch\n",
      "Epoch: 358/700...  Training Step: 20401...  Training loss: 1.8709...  Val loss: 1.7539...  0.2038 sec/batch\n",
      "Epoch: 360/700...  Training Step: 20501...  Training loss: 1.8666...  Val loss: 1.7527...  0.2121 sec/batch\n",
      "WARNING:tensorflow:Error encountered when serializing LAYER_NAME_UIDS.\n",
      "Type is unsupported, or the types of the items don't match field type in CollectionDef.\n",
      "'dict' object has no attribute 'name'\n",
      "Epoch: 362/700...  Training Step: 20601...  Training loss: 1.8462...  Val loss: 1.7495...  0.2047 sec/batch\n",
      "Epoch: 364/700...  Training Step: 20701...  Training loss: 1.8337...  Val loss: 1.7545...  0.2046 sec/batch\n",
      "Epoch: 365/700...  Training Step: 20801...  Training loss: 1.8573...  Val loss: 1.7497...  0.2049 sec/batch\n",
      "Epoch: 367/700...  Training Step: 20901...  Training loss: 1.8588...  Val loss: 1.7511...  0.2052 sec/batch\n",
      "Epoch: 369/700...  Training Step: 21001...  Training loss: 1.8659...  Val loss: 1.7473...  0.2158 sec/batch\n",
      "WARNING:tensorflow:Error encountered when serializing LAYER_NAME_UIDS.\n",
      "Type is unsupported, or the types of the items don't match field type in CollectionDef.\n",
      "'dict' object has no attribute 'name'\n",
      "Epoch: 371/700...  Training Step: 21101...  Training loss: 1.8437...  Val loss: 1.7488...  0.2157 sec/batch\n",
      "Epoch: 372/700...  Training Step: 21201...  Training loss: 1.8583...  Val loss: 1.7493...  0.2048 sec/batch\n",
      "Epoch: 374/700...  Training Step: 21301...  Training loss: 1.8583...  Val loss: 1.7466...  0.2046 sec/batch\n",
      "Epoch: 376/700...  Training Step: 21401...  Training loss: 1.8404...  Val loss: 1.7459...  0.2133 sec/batch\n",
      "Epoch: 378/700...  Training Step: 21501...  Training loss: 1.8509...  Val loss: 1.7441...  0.2139 sec/batch\n",
      "WARNING:tensorflow:Error encountered when serializing LAYER_NAME_UIDS.\n",
      "Type is unsupported, or the types of the items don't match field type in CollectionDef.\n",
      "'dict' object has no attribute 'name'\n",
      "Epoch: 379/700...  Training Step: 21601...  Training loss: 1.8676...  Val loss: 1.7416...  0.2047 sec/batch\n",
      "Epoch: 381/700...  Training Step: 21701...  Training loss: 1.8580...  Val loss: 1.7429...  0.2052 sec/batch\n",
      "Epoch: 383/700...  Training Step: 21801...  Training loss: 1.8347...  Val loss: 1.7422...  0.2051 sec/batch\n",
      "Epoch: 385/700...  Training Step: 21901...  Training loss: 1.8409...  Val loss: 1.7454...  0.2044 sec/batch\n",
      "Epoch: 386/700...  Training Step: 22001...  Training loss: 1.8448...  Val loss: 1.7432...  0.2146 sec/batch\n",
      "WARNING:tensorflow:Error encountered when serializing LAYER_NAME_UIDS.\n",
      "Type is unsupported, or the types of the items don't match field type in CollectionDef.\n",
      "'dict' object has no attribute 'name'\n",
      "Epoch: 388/700...  Training Step: 22101...  Training loss: 1.8436...  Val loss: 1.7425...  0.2057 sec/batch\n",
      "Epoch: 390/700...  Training Step: 22201...  Training loss: 1.8286...  Val loss: 1.7398...  0.2190 sec/batch\n",
      "Epoch: 392/700...  Training Step: 22301...  Training loss: 1.8325...  Val loss: 1.7406...  0.2024 sec/batch\n",
      "Epoch: 393/700...  Training Step: 22401...  Training loss: 1.8431...  Val loss: 1.7359...  0.2170 sec/batch\n"
     ]
    },
    {
     "name": "stdout",
     "output_type": "stream",
     "text": [
      "Epoch: 395/700...  Training Step: 22501...  Training loss: 1.8268...  Val loss: 1.7379...  0.2064 sec/batch\n",
      "WARNING:tensorflow:Error encountered when serializing LAYER_NAME_UIDS.\n",
      "Type is unsupported, or the types of the items don't match field type in CollectionDef.\n",
      "'dict' object has no attribute 'name'\n",
      "Epoch: 397/700...  Training Step: 22601...  Training loss: 1.8382...  Val loss: 1.7377...  0.2058 sec/batch\n",
      "Epoch: 399/700...  Training Step: 22701...  Training loss: 1.8369...  Val loss: 1.7395...  0.2044 sec/batch\n",
      "Epoch: 401/700...  Training Step: 22801...  Training loss: 1.8580...  Val loss: 1.7376...  0.2082 sec/batch\n",
      "Epoch: 402/700...  Training Step: 22901...  Training loss: 1.8315...  Val loss: 1.7339...  0.2026 sec/batch\n",
      "Epoch: 404/700...  Training Step: 23001...  Training loss: 1.8366...  Val loss: 1.7349...  0.2080 sec/batch\n",
      "WARNING:tensorflow:Error encountered when serializing LAYER_NAME_UIDS.\n",
      "Type is unsupported, or the types of the items don't match field type in CollectionDef.\n",
      "'dict' object has no attribute 'name'\n",
      "Epoch: 406/700...  Training Step: 23101...  Training loss: 1.8302...  Val loss: 1.7351...  0.2082 sec/batch\n",
      "Epoch: 408/700...  Training Step: 23201...  Training loss: 1.8602...  Val loss: 1.7346...  0.2161 sec/batch\n",
      "Epoch: 409/700...  Training Step: 23301...  Training loss: 1.8267...  Val loss: 1.7328...  0.2056 sec/batch\n",
      "Epoch: 411/700...  Training Step: 23401...  Training loss: 1.8263...  Val loss: 1.7335...  0.2094 sec/batch\n",
      "Epoch: 413/700...  Training Step: 23501...  Training loss: 1.8213...  Val loss: 1.7319...  0.2097 sec/batch\n",
      "WARNING:tensorflow:Error encountered when serializing LAYER_NAME_UIDS.\n",
      "Type is unsupported, or the types of the items don't match field type in CollectionDef.\n",
      "'dict' object has no attribute 'name'\n",
      "Epoch: 415/700...  Training Step: 23601...  Training loss: 1.8339...  Val loss: 1.7296...  0.2068 sec/batch\n",
      "Epoch: 416/700...  Training Step: 23701...  Training loss: 1.8362...  Val loss: 1.7345...  0.2105 sec/batch\n",
      "Epoch: 418/700...  Training Step: 23801...  Training loss: 1.8248...  Val loss: 1.7300...  0.2093 sec/batch\n",
      "Epoch: 420/700...  Training Step: 23901...  Training loss: 1.7954...  Val loss: 1.7293...  0.2088 sec/batch\n",
      "Epoch: 422/700...  Training Step: 24001...  Training loss: 1.8412...  Val loss: 1.7312...  0.2067 sec/batch\n",
      "WARNING:tensorflow:Error encountered when serializing LAYER_NAME_UIDS.\n",
      "Type is unsupported, or the types of the items don't match field type in CollectionDef.\n",
      "'dict' object has no attribute 'name'\n",
      "Epoch: 423/700...  Training Step: 24101...  Training loss: 1.8339...  Val loss: 1.7300...  0.2089 sec/batch\n",
      "Epoch: 425/700...  Training Step: 24201...  Training loss: 1.8210...  Val loss: 1.7286...  0.2087 sec/batch\n",
      "Epoch: 427/700...  Training Step: 24301...  Training loss: 1.8163...  Val loss: 1.7273...  0.2090 sec/batch\n",
      "Epoch: 429/700...  Training Step: 24401...  Training loss: 1.8290...  Val loss: 1.7245...  0.2079 sec/batch\n",
      "Epoch: 430/700...  Training Step: 24501...  Training loss: 1.8216...  Val loss: 1.7269...  0.2093 sec/batch\n",
      "WARNING:tensorflow:Error encountered when serializing LAYER_NAME_UIDS.\n",
      "Type is unsupported, or the types of the items don't match field type in CollectionDef.\n",
      "'dict' object has no attribute 'name'\n",
      "Epoch: 432/700...  Training Step: 24601...  Training loss: 1.8483...  Val loss: 1.7244...  0.2080 sec/batch\n",
      "Epoch: 434/700...  Training Step: 24701...  Training loss: 1.7999...  Val loss: 1.7256...  0.2086 sec/batch\n",
      "Epoch: 436/700...  Training Step: 24801...  Training loss: 1.8282...  Val loss: 1.7220...  0.2004 sec/batch\n",
      "Epoch: 437/700...  Training Step: 24901...  Training loss: 1.8310...  Val loss: 1.7247...  0.2097 sec/batch\n",
      "Epoch: 439/700...  Training Step: 25001...  Training loss: 1.8160...  Val loss: 1.7248...  0.2054 sec/batch\n",
      "WARNING:tensorflow:Error encountered when serializing LAYER_NAME_UIDS.\n",
      "Type is unsupported, or the types of the items don't match field type in CollectionDef.\n",
      "'dict' object has no attribute 'name'\n",
      "Epoch: 441/700...  Training Step: 25101...  Training loss: 1.7821...  Val loss: 1.7201...  0.2283 sec/batch\n",
      "Epoch: 443/700...  Training Step: 25201...  Training loss: 1.7932...  Val loss: 1.7226...  0.2141 sec/batch\n",
      "Epoch: 444/700...  Training Step: 25301...  Training loss: 1.8227...  Val loss: 1.7220...  0.2074 sec/batch\n",
      "Epoch: 446/700...  Training Step: 25401...  Training loss: 1.8205...  Val loss: 1.7222...  0.2249 sec/batch\n",
      "Epoch: 448/700...  Training Step: 25501...  Training loss: 1.7873...  Val loss: 1.7231...  0.2078 sec/batch\n",
      "WARNING:tensorflow:Error encountered when serializing LAYER_NAME_UIDS.\n",
      "Type is unsupported, or the types of the items don't match field type in CollectionDef.\n",
      "'dict' object has no attribute 'name'\n",
      "Epoch: 450/700...  Training Step: 25601...  Training loss: 1.7890...  Val loss: 1.7218...  0.2080 sec/batch\n",
      "Epoch: 451/700...  Training Step: 25701...  Training loss: 1.8129...  Val loss: 1.7192...  0.2082 sec/batch\n",
      "Epoch: 453/700...  Training Step: 25801...  Training loss: 1.8448...  Val loss: 1.7178...  0.2076 sec/batch\n",
      "Epoch: 455/700...  Training Step: 25901...  Training loss: 1.7807...  Val loss: 1.7163...  0.2071 sec/batch\n",
      "Epoch: 457/700...  Training Step: 26001...  Training loss: 1.7921...  Val loss: 1.7178...  0.2072 sec/batch\n",
      "WARNING:tensorflow:Error encountered when serializing LAYER_NAME_UIDS.\n",
      "Type is unsupported, or the types of the items don't match field type in CollectionDef.\n",
      "'dict' object has no attribute 'name'\n",
      "Epoch: 458/700...  Training Step: 26101...  Training loss: 1.8163...  Val loss: 1.7187...  0.2196 sec/batch\n",
      "Epoch: 460/700...  Training Step: 26201...  Training loss: 1.8225...  Val loss: 1.7177...  0.2078 sec/batch\n",
      "Epoch: 462/700...  Training Step: 26301...  Training loss: 1.8012...  Val loss: 1.7147...  0.2067 sec/batch\n",
      "Epoch: 464/700...  Training Step: 26401...  Training loss: 1.7986...  Val loss: 1.7175...  0.2068 sec/batch\n",
      "Epoch: 465/700...  Training Step: 26501...  Training loss: 1.8147...  Val loss: 1.7145...  0.2072 sec/batch\n",
      "WARNING:tensorflow:Error encountered when serializing LAYER_NAME_UIDS.\n",
      "Type is unsupported, or the types of the items don't match field type in CollectionDef.\n",
      "'dict' object has no attribute 'name'\n",
      "Epoch: 467/700...  Training Step: 26601...  Training loss: 1.8176...  Val loss: 1.7167...  0.2165 sec/batch\n",
      "Epoch: 469/700...  Training Step: 26701...  Training loss: 1.8221...  Val loss: 1.7129...  0.2193 sec/batch\n",
      "Epoch: 471/700...  Training Step: 26801...  Training loss: 1.8007...  Val loss: 1.7137...  0.2107 sec/batch\n",
      "Epoch: 472/700...  Training Step: 26901...  Training loss: 1.8235...  Val loss: 1.7146...  0.2015 sec/batch\n",
      "Epoch: 474/700...  Training Step: 27001...  Training loss: 1.8119...  Val loss: 1.7127...  0.2072 sec/batch\n",
      "WARNING:tensorflow:Error encountered when serializing LAYER_NAME_UIDS.\n",
      "Type is unsupported, or the types of the items don't match field type in CollectionDef.\n",
      "'dict' object has no attribute 'name'\n",
      "Epoch: 476/700...  Training Step: 27101...  Training loss: 1.8013...  Val loss: 1.7127...  0.2066 sec/batch\n",
      "Epoch: 478/700...  Training Step: 27201...  Training loss: 1.8089...  Val loss: 1.7114...  0.2079 sec/batch\n",
      "Epoch: 479/700...  Training Step: 27301...  Training loss: 1.8276...  Val loss: 1.7074...  0.2072 sec/batch\n",
      "Epoch: 481/700...  Training Step: 27401...  Training loss: 1.8150...  Val loss: 1.7114...  0.2075 sec/batch\n",
      "Epoch: 483/700...  Training Step: 27501...  Training loss: 1.7950...  Val loss: 1.7093...  0.2013 sec/batch\n",
      "WARNING:tensorflow:Error encountered when serializing LAYER_NAME_UIDS.\n",
      "Type is unsupported, or the types of the items don't match field type in CollectionDef.\n",
      "'dict' object has no attribute 'name'\n",
      "Epoch: 485/700...  Training Step: 27601...  Training loss: 1.7977...  Val loss: 1.7128...  0.2017 sec/batch\n",
      "Epoch: 486/700...  Training Step: 27701...  Training loss: 1.8117...  Val loss: 1.7118...  0.2001 sec/batch\n",
      "Epoch: 488/700...  Training Step: 27801...  Training loss: 1.8074...  Val loss: 1.7107...  0.2017 sec/batch\n",
      "Epoch: 490/700...  Training Step: 27901...  Training loss: 1.7886...  Val loss: 1.7076...  0.2002 sec/batch\n",
      "Epoch: 492/700...  Training Step: 28001...  Training loss: 1.7965...  Val loss: 1.7084...  0.2021 sec/batch\n",
      "WARNING:tensorflow:Error encountered when serializing LAYER_NAME_UIDS.\n",
      "Type is unsupported, or the types of the items don't match field type in CollectionDef.\n",
      "'dict' object has no attribute 'name'\n"
     ]
    },
    {
     "name": "stdout",
     "output_type": "stream",
     "text": [
      "Epoch: 493/700...  Training Step: 28101...  Training loss: 1.8109...  Val loss: 1.7062...  0.2072 sec/batch\n",
      "Epoch: 495/700...  Training Step: 28201...  Training loss: 1.7828...  Val loss: 1.7069...  0.2092 sec/batch\n",
      "Epoch: 497/700...  Training Step: 28301...  Training loss: 1.7985...  Val loss: 1.7066...  0.2059 sec/batch\n",
      "Epoch: 499/700...  Training Step: 28401...  Training loss: 1.7977...  Val loss: 1.7089...  0.2076 sec/batch\n",
      "Epoch: 501/700...  Training Step: 28501...  Training loss: 1.8237...  Val loss: 1.7082...  0.2071 sec/batch\n",
      "WARNING:tensorflow:Error encountered when serializing LAYER_NAME_UIDS.\n",
      "Type is unsupported, or the types of the items don't match field type in CollectionDef.\n",
      "'dict' object has no attribute 'name'\n",
      "Epoch: 502/700...  Training Step: 28601...  Training loss: 1.7894...  Val loss: 1.7059...  0.2078 sec/batch\n",
      "Epoch: 504/700...  Training Step: 28701...  Training loss: 1.7983...  Val loss: 1.7065...  0.2080 sec/batch\n",
      "Epoch: 506/700...  Training Step: 28801...  Training loss: 1.7872...  Val loss: 1.7060...  0.2072 sec/batch\n",
      "Epoch: 508/700...  Training Step: 28901...  Training loss: 1.8184...  Val loss: 1.7062...  0.2071 sec/batch\n",
      "Epoch: 509/700...  Training Step: 29001...  Training loss: 1.7932...  Val loss: 1.7047...  0.2103 sec/batch\n",
      "WARNING:tensorflow:Error encountered when serializing LAYER_NAME_UIDS.\n",
      "Type is unsupported, or the types of the items don't match field type in CollectionDef.\n",
      "'dict' object has no attribute 'name'\n",
      "Epoch: 511/700...  Training Step: 29101...  Training loss: 1.7786...  Val loss: 1.7026...  0.2068 sec/batch\n",
      "Epoch: 513/700...  Training Step: 29201...  Training loss: 1.7738...  Val loss: 1.7038...  0.2082 sec/batch\n",
      "Epoch: 515/700...  Training Step: 29301...  Training loss: 1.7949...  Val loss: 1.7016...  0.2074 sec/batch\n",
      "Epoch: 516/700...  Training Step: 29401...  Training loss: 1.8069...  Val loss: 1.7062...  0.2078 sec/batch\n",
      "Epoch: 518/700...  Training Step: 29501...  Training loss: 1.7795...  Val loss: 1.7004...  0.2074 sec/batch\n",
      "WARNING:tensorflow:Error encountered when serializing LAYER_NAME_UIDS.\n",
      "Type is unsupported, or the types of the items don't match field type in CollectionDef.\n",
      "'dict' object has no attribute 'name'\n",
      "Epoch: 520/700...  Training Step: 29601...  Training loss: 1.7690...  Val loss: 1.7014...  0.2002 sec/batch\n",
      "Epoch: 522/700...  Training Step: 29701...  Training loss: 1.8028...  Val loss: 1.7018...  0.2019 sec/batch\n",
      "Epoch: 523/700...  Training Step: 29801...  Training loss: 1.8054...  Val loss: 1.7030...  0.2021 sec/batch\n",
      "Epoch: 525/700...  Training Step: 29901...  Training loss: 1.7814...  Val loss: 1.7018...  0.2004 sec/batch\n",
      "Epoch: 527/700...  Training Step: 30001...  Training loss: 1.7739...  Val loss: 1.6978...  0.2020 sec/batch\n",
      "WARNING:tensorflow:Error encountered when serializing LAYER_NAME_UIDS.\n",
      "Type is unsupported, or the types of the items don't match field type in CollectionDef.\n",
      "'dict' object has no attribute 'name'\n",
      "Epoch: 529/700...  Training Step: 30101...  Training loss: 1.7921...  Val loss: 1.6978...  0.2019 sec/batch\n",
      "Epoch: 530/700...  Training Step: 30201...  Training loss: 1.7865...  Val loss: 1.6989...  0.2016 sec/batch\n",
      "Epoch: 532/700...  Training Step: 30301...  Training loss: 1.8134...  Val loss: 1.6978...  0.2029 sec/batch\n",
      "Epoch: 534/700...  Training Step: 30401...  Training loss: 1.7590...  Val loss: 1.6997...  0.2015 sec/batch\n",
      "Epoch: 536/700...  Training Step: 30501...  Training loss: 1.7847...  Val loss: 1.6954...  0.2150 sec/batch\n",
      "WARNING:tensorflow:Error encountered when serializing LAYER_NAME_UIDS.\n",
      "Type is unsupported, or the types of the items don't match field type in CollectionDef.\n",
      "'dict' object has no attribute 'name'\n",
      "Epoch: 537/700...  Training Step: 30601...  Training loss: 1.7959...  Val loss: 1.6995...  0.2021 sec/batch\n",
      "Epoch: 539/700...  Training Step: 30701...  Training loss: 1.7788...  Val loss: 1.6982...  0.2017 sec/batch\n",
      "Epoch: 541/700...  Training Step: 30801...  Training loss: 1.7463...  Val loss: 1.6956...  0.2004 sec/batch\n",
      "Epoch: 543/700...  Training Step: 30901...  Training loss: 1.7568...  Val loss: 1.6972...  0.2015 sec/batch\n",
      "Epoch: 544/700...  Training Step: 31001...  Training loss: 1.7865...  Val loss: 1.6962...  0.2024 sec/batch\n",
      "WARNING:tensorflow:Error encountered when serializing LAYER_NAME_UIDS.\n",
      "Type is unsupported, or the types of the items don't match field type in CollectionDef.\n",
      "'dict' object has no attribute 'name'\n",
      "Epoch: 546/700...  Training Step: 31101...  Training loss: 1.7796...  Val loss: 1.6964...  0.2018 sec/batch\n",
      "Epoch: 548/700...  Training Step: 31201...  Training loss: 1.7547...  Val loss: 1.6966...  0.2020 sec/batch\n",
      "Epoch: 550/700...  Training Step: 31301...  Training loss: 1.7618...  Val loss: 1.6981...  0.2017 sec/batch\n",
      "Epoch: 551/700...  Training Step: 31401...  Training loss: 1.7798...  Val loss: 1.6941...  0.2023 sec/batch\n",
      "Epoch: 553/700...  Training Step: 31501...  Training loss: 1.8093...  Val loss: 1.6939...  0.2020 sec/batch\n",
      "WARNING:tensorflow:Error encountered when serializing LAYER_NAME_UIDS.\n",
      "Type is unsupported, or the types of the items don't match field type in CollectionDef.\n",
      "'dict' object has no attribute 'name'\n",
      "Epoch: 555/700...  Training Step: 31601...  Training loss: 1.7435...  Val loss: 1.6924...  0.2019 sec/batch\n",
      "Epoch: 557/700...  Training Step: 31701...  Training loss: 1.7583...  Val loss: 1.6930...  0.2015 sec/batch\n",
      "Epoch: 558/700...  Training Step: 31801...  Training loss: 1.7828...  Val loss: 1.6931...  0.2024 sec/batch\n",
      "Epoch: 560/700...  Training Step: 31901...  Training loss: 1.7850...  Val loss: 1.6936...  0.2004 sec/batch\n",
      "Epoch: 562/700...  Training Step: 32001...  Training loss: 1.7669...  Val loss: 1.6906...  0.2021 sec/batch\n",
      "WARNING:tensorflow:Error encountered when serializing LAYER_NAME_UIDS.\n",
      "Type is unsupported, or the types of the items don't match field type in CollectionDef.\n",
      "'dict' object has no attribute 'name'\n",
      "Epoch: 564/700...  Training Step: 32101...  Training loss: 1.7633...  Val loss: 1.6939...  0.2017 sec/batch\n",
      "Epoch: 565/700...  Training Step: 32201...  Training loss: 1.7758...  Val loss: 1.6913...  0.2161 sec/batch\n",
      "Epoch: 567/700...  Training Step: 32301...  Training loss: 1.7871...  Val loss: 1.6921...  0.2017 sec/batch\n",
      "Epoch: 569/700...  Training Step: 32401...  Training loss: 1.7853...  Val loss: 1.6889...  0.2026 sec/batch\n",
      "Epoch: 571/700...  Training Step: 32501...  Training loss: 1.7669...  Val loss: 1.6905...  0.2019 sec/batch\n",
      "WARNING:tensorflow:Error encountered when serializing LAYER_NAME_UIDS.\n",
      "Type is unsupported, or the types of the items don't match field type in CollectionDef.\n",
      "'dict' object has no attribute 'name'\n",
      "Epoch: 572/700...  Training Step: 32601...  Training loss: 1.7855...  Val loss: 1.6917...  0.2018 sec/batch\n",
      "Epoch: 574/700...  Training Step: 32701...  Training loss: 1.7789...  Val loss: 1.6903...  0.2001 sec/batch\n",
      "Epoch: 576/700...  Training Step: 32801...  Training loss: 1.7644...  Val loss: 1.6882...  0.2012 sec/batch\n",
      "Epoch: 578/700...  Training Step: 32901...  Training loss: 1.7694...  Val loss: 1.6892...  0.2015 sec/batch\n",
      "Epoch: 579/700...  Training Step: 33001...  Training loss: 1.7895...  Val loss: 1.6861...  0.2018 sec/batch\n",
      "WARNING:tensorflow:Error encountered when serializing LAYER_NAME_UIDS.\n",
      "Type is unsupported, or the types of the items don't match field type in CollectionDef.\n",
      "'dict' object has no attribute 'name'\n",
      "Epoch: 581/700...  Training Step: 33101...  Training loss: 1.7881...  Val loss: 1.6877...  0.2030 sec/batch\n",
      "Epoch: 583/700...  Training Step: 33201...  Training loss: 1.7646...  Val loss: 1.6881...  0.2017 sec/batch\n",
      "Epoch: 585/700...  Training Step: 33301...  Training loss: 1.7662...  Val loss: 1.6891...  0.2020 sec/batch\n",
      "Epoch: 586/700...  Training Step: 33401...  Training loss: 1.7806...  Val loss: 1.6897...  0.2029 sec/batch\n",
      "Epoch: 588/700...  Training Step: 33501...  Training loss: 1.7725...  Val loss: 1.6887...  0.2001 sec/batch\n",
      "WARNING:tensorflow:Error encountered when serializing LAYER_NAME_UIDS.\n",
      "Type is unsupported, or the types of the items don't match field type in CollectionDef.\n",
      "'dict' object has no attribute 'name'\n",
      "Epoch: 590/700...  Training Step: 33601...  Training loss: 1.7599...  Val loss: 1.6860...  0.2019 sec/batch\n"
     ]
    },
    {
     "name": "stdout",
     "output_type": "stream",
     "text": [
      "Epoch: 592/700...  Training Step: 33701...  Training loss: 1.7550...  Val loss: 1.6864...  0.2021 sec/batch\n",
      "Epoch: 593/700...  Training Step: 33801...  Training loss: 1.7719...  Val loss: 1.6845...  0.2016 sec/batch\n",
      "Epoch: 595/700...  Training Step: 33901...  Training loss: 1.7425...  Val loss: 1.6859...  0.2017 sec/batch\n",
      "Epoch: 597/700...  Training Step: 34001...  Training loss: 1.7612...  Val loss: 1.6873...  0.2022 sec/batch\n",
      "WARNING:tensorflow:Error encountered when serializing LAYER_NAME_UIDS.\n",
      "Type is unsupported, or the types of the items don't match field type in CollectionDef.\n",
      "'dict' object has no attribute 'name'\n",
      "Epoch: 599/700...  Training Step: 34101...  Training loss: 1.7632...  Val loss: 1.6869...  0.2019 sec/batch\n",
      "Epoch: 601/700...  Training Step: 34201...  Training loss: 1.7974...  Val loss: 1.6849...  0.2018 sec/batch\n",
      "Epoch: 602/700...  Training Step: 34301...  Training loss: 1.7595...  Val loss: 1.6841...  0.2017 sec/batch\n",
      "Epoch: 604/700...  Training Step: 34401...  Training loss: 1.7643...  Val loss: 1.6854...  0.2014 sec/batch\n",
      "Epoch: 606/700...  Training Step: 34501...  Training loss: 1.7638...  Val loss: 1.6845...  0.2031 sec/batch\n",
      "WARNING:tensorflow:Error encountered when serializing LAYER_NAME_UIDS.\n",
      "Type is unsupported, or the types of the items don't match field type in CollectionDef.\n",
      "'dict' object has no attribute 'name'\n",
      "Epoch: 608/700...  Training Step: 34601...  Training loss: 1.7898...  Val loss: 1.6859...  0.2017 sec/batch\n",
      "Epoch: 609/700...  Training Step: 34701...  Training loss: 1.7612...  Val loss: 1.6845...  0.2026 sec/batch\n",
      "Epoch: 611/700...  Training Step: 34801...  Training loss: 1.7515...  Val loss: 1.6834...  0.2017 sec/batch\n",
      "Epoch: 613/700...  Training Step: 34901...  Training loss: 1.7437...  Val loss: 1.6833...  0.2018 sec/batch\n",
      "Epoch: 615/700...  Training Step: 35001...  Training loss: 1.7680...  Val loss: 1.6799...  0.2016 sec/batch\n",
      "WARNING:tensorflow:Error encountered when serializing LAYER_NAME_UIDS.\n",
      "Type is unsupported, or the types of the items don't match field type in CollectionDef.\n",
      "'dict' object has no attribute 'name'\n",
      "Epoch: 616/700...  Training Step: 35101...  Training loss: 1.7759...  Val loss: 1.6850...  0.2017 sec/batch\n",
      "Epoch: 618/700...  Training Step: 35201...  Training loss: 1.7572...  Val loss: 1.6817...  0.2014 sec/batch\n",
      "Epoch: 620/700...  Training Step: 35301...  Training loss: 1.7381...  Val loss: 1.6811...  0.2191 sec/batch\n",
      "Epoch: 622/700...  Training Step: 35401...  Training loss: 1.7752...  Val loss: 1.6820...  0.2002 sec/batch\n",
      "Epoch: 623/700...  Training Step: 35501...  Training loss: 1.7837...  Val loss: 1.6832...  0.2021 sec/batch\n",
      "WARNING:tensorflow:Error encountered when serializing LAYER_NAME_UIDS.\n",
      "Type is unsupported, or the types of the items don't match field type in CollectionDef.\n",
      "'dict' object has no attribute 'name'\n",
      "Epoch: 625/700...  Training Step: 35601...  Training loss: 1.7480...  Val loss: 1.6811...  0.2011 sec/batch\n",
      "Epoch: 627/700...  Training Step: 35701...  Training loss: 1.7420...  Val loss: 1.6791...  0.2020 sec/batch\n",
      "Epoch: 629/700...  Training Step: 35801...  Training loss: 1.7730...  Val loss: 1.6777...  0.2015 sec/batch\n",
      "Epoch: 630/700...  Training Step: 35901...  Training loss: 1.7571...  Val loss: 1.6811...  0.2001 sec/batch\n",
      "Epoch: 632/700...  Training Step: 36001...  Training loss: 1.7828...  Val loss: 1.6793...  0.2017 sec/batch\n",
      "WARNING:tensorflow:Error encountered when serializing LAYER_NAME_UIDS.\n",
      "Type is unsupported, or the types of the items don't match field type in CollectionDef.\n",
      "'dict' object has no attribute 'name'\n",
      "Epoch: 634/700...  Training Step: 36101...  Training loss: 1.7332...  Val loss: 1.6807...  0.2021 sec/batch\n",
      "Epoch: 636/700...  Training Step: 36201...  Training loss: 1.7647...  Val loss: 1.6770...  0.2016 sec/batch\n",
      "Epoch: 637/700...  Training Step: 36301...  Training loss: 1.7643...  Val loss: 1.6791...  0.2018 sec/batch\n",
      "Epoch: 639/700...  Training Step: 36401...  Training loss: 1.7578...  Val loss: 1.6793...  0.2016 sec/batch\n",
      "Epoch: 641/700...  Training Step: 36501...  Training loss: 1.7148...  Val loss: 1.6756...  0.2017 sec/batch\n",
      "WARNING:tensorflow:Error encountered when serializing LAYER_NAME_UIDS.\n",
      "Type is unsupported, or the types of the items don't match field type in CollectionDef.\n",
      "'dict' object has no attribute 'name'\n",
      "Epoch: 643/700...  Training Step: 36601...  Training loss: 1.7257...  Val loss: 1.6784...  0.2014 sec/batch\n",
      "Epoch: 644/700...  Training Step: 36701...  Training loss: 1.7541...  Val loss: 1.6785...  0.2002 sec/batch\n",
      "Epoch: 646/700...  Training Step: 36801...  Training loss: 1.7539...  Val loss: 1.6778...  0.2017 sec/batch\n",
      "Epoch: 648/700...  Training Step: 36901...  Training loss: 1.7268...  Val loss: 1.6785...  0.2129 sec/batch\n",
      "Epoch: 650/700...  Training Step: 37001...  Training loss: 1.7287...  Val loss: 1.6799...  0.2188 sec/batch\n",
      "WARNING:tensorflow:Error encountered when serializing LAYER_NAME_UIDS.\n",
      "Type is unsupported, or the types of the items don't match field type in CollectionDef.\n",
      "'dict' object has no attribute 'name'\n",
      "Epoch: 651/700...  Training Step: 37101...  Training loss: 1.7584...  Val loss: 1.6762...  0.2117 sec/batch\n",
      "Epoch: 653/700...  Training Step: 37201...  Training loss: 1.7787...  Val loss: 1.6757...  0.2109 sec/batch\n",
      "Epoch: 655/700...  Training Step: 37301...  Training loss: 1.7174...  Val loss: 1.6761...  0.2113 sec/batch\n",
      "Epoch: 657/700...  Training Step: 37401...  Training loss: 1.7322...  Val loss: 1.6763...  0.2114 sec/batch\n",
      "Epoch: 658/700...  Training Step: 37501...  Training loss: 1.7550...  Val loss: 1.6767...  0.2060 sec/batch\n",
      "WARNING:tensorflow:Error encountered when serializing LAYER_NAME_UIDS.\n",
      "Type is unsupported, or the types of the items don't match field type in CollectionDef.\n",
      "'dict' object has no attribute 'name'\n",
      "Epoch: 660/700...  Training Step: 37601...  Training loss: 1.7630...  Val loss: 1.6758...  0.2119 sec/batch\n",
      "Epoch: 662/700...  Training Step: 37701...  Training loss: 1.7454...  Val loss: 1.6744...  0.2204 sec/batch\n",
      "Epoch: 664/700...  Training Step: 37801...  Training loss: 1.7377...  Val loss: 1.6766...  0.2038 sec/batch\n",
      "Epoch: 665/700...  Training Step: 37901...  Training loss: 1.7559...  Val loss: 1.6739...  0.2203 sec/batch\n",
      "Epoch: 667/700...  Training Step: 38001...  Training loss: 1.7531...  Val loss: 1.6756...  0.2181 sec/batch\n",
      "WARNING:tensorflow:Error encountered when serializing LAYER_NAME_UIDS.\n",
      "Type is unsupported, or the types of the items don't match field type in CollectionDef.\n",
      "'dict' object has no attribute 'name'\n",
      "Epoch: 669/700...  Training Step: 38101...  Training loss: 1.7592...  Val loss: 1.6726...  0.2190 sec/batch\n",
      "Epoch: 671/700...  Training Step: 38201...  Training loss: 1.7363...  Val loss: 1.6735...  0.2202 sec/batch\n",
      "Epoch: 672/700...  Training Step: 38301...  Training loss: 1.7562...  Val loss: 1.6759...  0.2012 sec/batch\n",
      "Epoch: 674/700...  Training Step: 38401...  Training loss: 1.7490...  Val loss: 1.6721...  0.2132 sec/batch\n",
      "Epoch: 676/700...  Training Step: 38501...  Training loss: 1.7339...  Val loss: 1.6728...  0.2017 sec/batch\n",
      "WARNING:tensorflow:Error encountered when serializing LAYER_NAME_UIDS.\n",
      "Type is unsupported, or the types of the items don't match field type in CollectionDef.\n",
      "'dict' object has no attribute 'name'\n",
      "Epoch: 678/700...  Training Step: 38601...  Training loss: 1.7521...  Val loss: 1.6729...  0.2014 sec/batch\n",
      "Epoch: 679/700...  Training Step: 38701...  Training loss: 1.7742...  Val loss: 1.6697...  0.2018 sec/batch\n",
      "Epoch: 681/700...  Training Step: 38801...  Training loss: 1.7600...  Val loss: 1.6724...  0.2018 sec/batch\n",
      "Epoch: 683/700...  Training Step: 38901...  Training loss: 1.7374...  Val loss: 1.6708...  0.2019 sec/batch\n",
      "Epoch: 685/700...  Training Step: 39001...  Training loss: 1.7424...  Val loss: 1.6744...  0.2000 sec/batch\n",
      "WARNING:tensorflow:Error encountered when serializing LAYER_NAME_UIDS.\n",
      "Type is unsupported, or the types of the items don't match field type in CollectionDef.\n",
      "'dict' object has no attribute 'name'\n",
      "Epoch: 686/700...  Training Step: 39101...  Training loss: 1.7458...  Val loss: 1.6734...  0.2012 sec/batch\n",
      "Epoch: 688/700...  Training Step: 39201...  Training loss: 1.7479...  Val loss: 1.6734...  0.2022 sec/batch\n"
     ]
    },
    {
     "name": "stdout",
     "output_type": "stream",
     "text": [
      "Epoch: 690/700...  Training Step: 39301...  Training loss: 1.7353...  Val loss: 1.6684...  0.2013 sec/batch\n",
      "Epoch: 692/700...  Training Step: 39401...  Training loss: 1.7387...  Val loss: 1.6705...  0.2048 sec/batch\n",
      "Epoch: 693/700...  Training Step: 39501...  Training loss: 1.7430...  Val loss: 1.6670...  0.2019 sec/batch\n",
      "WARNING:tensorflow:Error encountered when serializing LAYER_NAME_UIDS.\n",
      "Type is unsupported, or the types of the items don't match field type in CollectionDef.\n",
      "'dict' object has no attribute 'name'\n",
      "Epoch: 695/700...  Training Step: 39601...  Training loss: 1.7225...  Val loss: 1.6710...  0.2019 sec/batch\n",
      "Epoch: 697/700...  Training Step: 39701...  Training loss: 1.7396...  Val loss: 1.6700...  0.1999 sec/batch\n",
      "Epoch: 699/700...  Training Step: 39801...  Training loss: 1.7371...  Val loss: 1.6717...  0.2009 sec/batch\n",
      "WARNING:tensorflow:Error encountered when serializing LAYER_NAME_UIDS.\n",
      "Type is unsupported, or the types of the items don't match field type in CollectionDef.\n",
      "'dict' object has no attribute 'name'\n"
     ]
    }
   ],
   "source": [
    "#epochs = 1\n",
    "# Save every N iterations\n",
    "save_every_n = 500\n",
    "print_loss_every_n = 100\n",
    "sample_every = 500\n",
    "with tf.device(\"/gpu:0\"):\n",
    "    model = CharRNN(len(vocab), batch_size=batch_size, num_steps=num_steps,\n",
    "                lstm_size=lstm_size, num_layers=num_layers, \n",
    "                learning_rate=learning_rate)\n",
    "    #print(\"after model\")\n",
    "\n",
    "saver = tf.train.Saver(max_to_keep=5)\n",
    "#print(\"after saver\")\n",
    "with tf.Session() as sess:\n",
    "    sess.run(tf.global_variables_initializer())\n",
    "    print(\"Number of parameters:\",get_number_of_parameters(),\"Dataset size:\",len(encoded))\n",
    "    #print(\"after initializer\")\n",
    "    if resume_from_checkpoint:\n",
    "        latest_checkpoint = tf.train.latest_checkpoint('checkpoints')\n",
    "        saver.restore(sess, latest_checkpoint)\n",
    "    counter = 0\n",
    "    for e in range(epochs):\n",
    "        # Train network\n",
    "        \n",
    "        new_state = sess.run(model.initial_state)\n",
    "        loss = 0\n",
    "        for x, y in get_batches(encoded, batch_size, num_steps):\n",
    "            \n",
    "            \n",
    "            start = time.time()\n",
    "            feed = {model.inputs: x,\n",
    "                    model.targets: y,\n",
    "                    model.keep_prob: keep_prob,\n",
    "                    model.initial_state: new_state}\n",
    "            batch_loss, new_state, _ = sess.run([model.loss, \n",
    "                                                 model.final_state, \n",
    "                                                 model.optimizer], \n",
    "                                                 feed_dict=feed)\n",
    "        \n",
    "            \n",
    "            end = time.time()\n",
    "            if counter%print_loss_every_n == 0:\n",
    "                val_batches = get_batches(encoded_val,int(len(encoded_val)/num_steps),num_steps)\n",
    "                x_val,y_val = next(val_batches)\n",
    "                \n",
    "                val_dict = {model.inputs: x_val,\n",
    "                            model.targets: y_val,\n",
    "                            model.keep_prob: 1,\n",
    "                            model.initial_state: new_state}\n",
    "                \n",
    "                val_loss,prediction = sess.run([model.loss,model.prediction],feed_dict=val_dict)\n",
    "                \n",
    "                losses[\"train\"].append(batch_loss)\n",
    "                losses[\"validation\"].append(val_loss)\n",
    "                \n",
    "                \n",
    "                global_step = tf.train.global_step(sess,model.global_step_tensor)\n",
    "                x_steps.append(global_step)\n",
    "                \n",
    "                print('Epoch: {}/{}... '.format(e+1, epochs),\n",
    "                      'Training Step: {}... '.format(global_step),\n",
    "                      'Training loss: {:.4f}... '.format(batch_loss),\n",
    "                      'Val loss: {:.4f}... '.format(val_loss),\n",
    "                      '{:.4f} sec/batch'.format((end-start)))\n",
    "        \n",
    "            if (counter % save_every_n == 0):\n",
    "                global_step = tf.train.global_step(sess,model.global_step_tensor)\n",
    "                saver.save(sess, \"checkpoints/m{}_i{}_l{}.ckpt\".format(mode,global_step, lstm_size))\n",
    "                \n",
    "            counter += 1\n",
    "            \n",
    "    global_step = tf.train.global_step(sess,model.global_step_tensor)\n",
    "    saver.save(sess, \"checkpoints/m{}_i{}_l{}.ckpt\".format(mode,global_step, lstm_size))"
   ]
  },
  {
   "cell_type": "code",
   "execution_count": 30,
   "metadata": {},
   "outputs": [
    {
     "data": {
      "image/png": "[encoded data removed]",
      "text/plain": [
       "<matplotlib.figure.Figure at 0x7fcfca79a0f0>"
      ]
     },
     "metadata": {
      "image/png": {
       "height": 250,
       "width": 374
      }
     },
     "output_type": "display_data"
    }
   ],
   "source": [
    "plt.plot(x_steps,losses[\"train\"],label=\"Train loss\")\n",
    "plt.plot(x_steps,losses[\"validation\"],label=\"Validation loss\")\n",
    "plt.legend()\n",
    "_ = plt.ylim()"
   ]
  },
  {
   "cell_type": "markdown",
   "metadata": {},
   "source": [
    "#### Saved checkpoints\n",
    "\n",
    "Read up on saving and loading checkpoints here: https://www.tensorflow.org/programmers_guide/variables"
   ]
  },
  {
   "cell_type": "code",
   "execution_count": 31,
   "metadata": {
    "collapsed": true
   },
   "outputs": [],
   "source": [
    "checkpoints = tf.train.get_checkpoint_state('checkpoints')"
   ]
  },
  {
   "cell_type": "markdown",
   "metadata": {},
   "source": [
    "## Sampling final trained model\n",
    "\n",
    "Now that the network is trained, we'll can use it to generate new text. The idea is that we pass in a character, then the network will predict the next character. We can use the new one, to predict the next one. And we keep doing this to generate all new text. I also included some functionality to prime the network with some text by passing in a string and building up a state from that.\n",
    "\n",
    "The network gives us predictions for each character. To reduce noise and make things a little less random, I'm going to only choose a new character from the top N most likely characters.\n",
    "\n"
   ]
  },
  {
   "cell_type": "code",
   "execution_count": 32,
   "metadata": {
    "collapsed": true
   },
   "outputs": [],
   "source": [
    "def sample(checkpoint, n_samples, lstm_size, vocab_size, prime=\"The \",mode=\"characters\"):\n",
    "    print(mode)\n",
    "    samples = tokenize_text(prime,mode)\n",
    "    model = CharRNN(len(vocab), lstm_size=lstm_size, sampling=True)\n",
    "    saver = tf.train.Saver()\n",
    "    with tf.Session() as sess:\n",
    "        saver.restore(sess, checkpoint)\n",
    "        new_state = sess.run(model.initial_state)\n",
    "        for c in tokenize_text(prime,mode):\n",
    "            x = np.zeros((1, 1))\n",
    "            x[0,0] = vocab_to_int[c]\n",
    "            feed = {model.inputs: x,\n",
    "                    model.keep_prob: 1.,\n",
    "                    model.initial_state: new_state}\n",
    "            preds, new_state = sess.run([model.prediction, model.final_state], \n",
    "                                         feed_dict=feed)\n",
    "\n",
    "        c = pick_top_n(preds, len(vocab))\n",
    "        samples.append(int_to_vocab[c])\n",
    "\n",
    "        for i in range(n_samples):\n",
    "            x[0,0] = c\n",
    "            feed = {model.inputs: x,\n",
    "                    model.keep_prob: 1.,\n",
    "                    model.initial_state: new_state}\n",
    "            preds, new_state = sess.run([model.prediction, model.final_state], \n",
    "                                         feed_dict=feed)\n",
    "\n",
    "            c = pick_top_n(preds, len(vocab))\n",
    "            samples.append(int_to_vocab[c])\n",
    "        \n",
    "    return ''.join(samples).replace(\"new_line_token\",\"\\n\")"
   ]
  },
  {
   "cell_type": "markdown",
   "metadata": {},
   "source": [
    "Here, pass in the path to a checkpoint and sample from the network."
   ]
  },
  {
   "cell_type": "code",
   "execution_count": 33,
   "metadata": {},
   "outputs": [
    {
     "data": {
      "text/plain": [
       "'checkpoints/mcharacters_i39900_l300.ckpt'"
      ]
     },
     "execution_count": 33,
     "metadata": {},
     "output_type": "execute_result"
    }
   ],
   "source": [
    "tf.train.latest_checkpoint('checkpoints')"
   ]
  },
  {
   "cell_type": "markdown",
   "metadata": {},
   "source": [
    "## Generate new text from \"base\" text"
   ]
  },
  {
   "cell_type": "code",
   "execution_count": 34,
   "metadata": {},
   "outputs": [
    {
     "name": "stdout",
     "output_type": "stream",
     "text": [
      "characters\n",
      "INFO:tensorflow:Restoring parameters from checkpoints/mcharacters_i39900_l300.ckpt\n",
      "characters\n",
      "INFO:tensorflow:Restoring parameters from checkpoints/mcharacters_i39900_l300.ckpt\n",
      "characters\n",
      "INFO:tensorflow:Restoring parameters from checkpoints/mcharacters_i39900_l300.ckpt\n",
      "characters\n",
      "INFO:tensorflow:Restoring parameters from checkpoints/mcharacters_i39900_l300.ckpt\n",
      "characters\n",
      "INFO:tensorflow:Restoring parameters from checkpoints/mcharacters_i39900_l300.ckpt\n",
      "characters\n",
      "INFO:tensorflow:Restoring parameters from checkpoints/mcharacters_i39900_l300.ckpt\n",
      "characters\n",
      "INFO:tensorflow:Restoring parameters from checkpoints/mcharacters_i39900_l300.ckpt\n",
      "characters\n",
      "INFO:tensorflow:Restoring parameters from checkpoints/mcharacters_i39900_l300.ckpt\n",
      "characters\n",
      "INFO:tensorflow:Restoring parameters from checkpoints/mcharacters_i39900_l300.ckpt\n",
      "characters\n",
      "INFO:tensorflow:Restoring parameters from checkpoints/mcharacters_i39900_l300.ckpt\n",
      "characters\n",
      "INFO:tensorflow:Restoring parameters from checkpoints/mcharacters_i39900_l300.ckpt\n",
      "characters\n",
      "INFO:tensorflow:Restoring parameters from checkpoints/mcharacters_i39900_l300.ckpt\n",
      "characters\n",
      "INFO:tensorflow:Restoring parameters from checkpoints/mcharacters_i39900_l300.ckpt\n",
      "characters\n",
      "INFO:tensorflow:Restoring parameters from checkpoints/mcharacters_i39900_l300.ckpt\n",
      "characters\n",
      "INFO:tensorflow:Restoring parameters from checkpoints/mcharacters_i39900_l300.ckpt\n",
      "characters\n",
      "INFO:tensorflow:Restoring parameters from checkpoints/mcharacters_i39900_l300.ckpt\n"
     ]
    }
   ],
   "source": [
    "\n",
    "checkpoint = tf.train.latest_checkpoint('checkpoints')\n",
    "\n",
    "\n",
    "samples = list()\n",
    "for text in text_to_try:\n",
    "    #print(\"------------------------\",text)\n",
    "    samples.append( sample(checkpoint, 500, lstm_size, len(vocab), prime=text,mode=mode))\n",
    "    #print(samp)\n",
    "    #print(\"------------------------\")"
   ]
  },
  {
   "cell_type": "code",
   "execution_count": 35,
   "metadata": {},
   "outputs": [
    {
     "name": "stdout",
     "output_type": "stream",
     "text": [
      "------------------------ In the first place\n",
      "In the first places were the things, and\n",
      "well at a mort to here as he called of the meneal, and have been but attention to me to all thats it with the mare and stearily of the meature what so hore as to bus a period and told and to the pall of sundilare to altogether a thar with those this sented sentions there which was at length seinged in offeced of, and to these soushs of the cortidino seening a person of the sont of the parert that the the presont as thes took their\n",
      "pirtient. It would be convicted of her alle\n",
      "------------------------\n",
      "------------------------ the night before\n",
      "the night before when the cinder of the tare of the\n",
      "partess of a strean which and astack or the still. The manter sonicilant to my stase with stome to ment of the polise would be at the mase and consturtital time of all ans anceing to that any to the comperess sign to the chance of the than of\n",
      "his can to be what have to the men were alled of the pance than his andorous stritter as the man to her any stone serie taken to be shanting to strength that the stirst of horrid, and he winds worled on tone with shors. He\n",
      "------------------------\n",
      "------------------------ horror\n",
      "horrors to me so things a concince on the\n",
      "second of the thirked which was so thought and wares, and were seen that whose samistice of a poring wele banked, than without seemed, and a tome of as an antantionis of the candon and which some of the strong sand thering things of all these thoughts, and were sated and mes of sere the\n",
      "came than was told. At the criscoment were night ovining his posely of a thating, and attamed the sereet to\n",
      "should to bur to\n",
      "be any almost any anches of the pertention of the sa\n",
      "------------------------\n",
      "------------------------ creature\n",
      "creatures that we seemed a manter tropased to supply of my altistic stanter of sone thought. He had been a sigul order at the mettor. Him the thar at the tootil and that as had been strong heard, though the threating of the mistare that we\n",
      "had been the the componion. Houring in this sear had not the pecalal water, on have seen the point and the son of her conversons, the sease that the tranting sound worked, and he we had a sare a sidister of the sathence and mind of as the seetit of the mate to me, and \n",
      "------------------------\n",
      "------------------------ night\n",
      "night them to some mistor at the strong, oun without\n",
      "had supposing the coust to some sime and sundince. He censared in thein than, we was to tham as to hade the seried in whace had not heard a manner that his stastere at to the than white heass so was not still struckle strange of them to the toll of a tomerate thing, out at anstery thrust,\n",
      "and a tame of the searar this antorthing some ateence of this that the tome and a tonge of the presistation and to tome the sore serving with a sight or the cormes\n",
      "------------------------\n",
      "------------------------ dream\n",
      "dreaming which had the sont at the sould woudd a termol state itself, in\n",
      "think if the trast, which seemed to the cart and care. The southard store to how what where the prosemtion of the come tine of her somathing of the sore of, as, the prosince which a singe thing him of the sinels seantid of the sathed, and that they was the stome with the stoot of me time, which had been been as tiges, whine we had an tartest stone still of a prate of all this some wind of homing and astention to\n",
      "the presation of \n",
      "------------------------\n",
      "------------------------ thing\n",
      "thing of the stronger thing the past of mind a cases in an expetioned to the stoundely, and then to how of the miss was so cratting, and we thought the stural as was betheen with the porsions were not bitter thought it of the tate of mind of the morth and the changing were a contuned at ancient stare, but have\n",
      "this steres in the tole and were, and a pracist tenrel seemed in the calling than he sterled to the sould, which stepple to be thoughts. The perition what they and the constent as shead a south \n",
      "------------------------\n",
      "------------------------ That night\n",
      "That nighted of a tarret and what when he cousd an other strugtlic the satitian steck in seemed and sentition to the most other tare would bo caredarly in the cheen time, was the made of the sime and told the period of the conconstion; and the sont and serean than terner with whan with some attomate of at the sact, and the parenss were some tatiest imagonions which was thought of the porse of the most alparcaling and whenever it was the proceeded. As in the tornial shimp and the presine the single to such \n",
      "------------------------\n",
      "------------------------ mountain\n",
      "mountain and ster as the three. This which as some than has been thought and as a convilanted antiress, which we save seven far some tounds of the companianter; bourd to be seen to the time.\n",
      "\n",
      "    I was this would then\n",
      "say it out. I sore seed,\n",
      "that I was the centaars of the chiscurition, who sound to but if the stole of the patsering which the cart to suppers a tangel alangant in his tome and comminarise and so so the tare in the mens as any atterped on the more the attamed the seration, and where howred \n",
      "------------------------\n",
      "------------------------ Ammi\n",
      "Ammins, at a serition and tornes was\n",
      "thought or to be one, the mare sang to the misten and to the cime of the thouthousle to a monnacion to the sately as they had night, and the man what we come, the soushard of the thing the must shin to some tore and\n",
      "supperated. They were seened this wall on the pass of searaton. This aspect and hourse assents was tord a might there ant such and wince as at the tare, is an ende of his prinity\n",
      "inside, that the sanes to the stepper assuncing to the torn to that their\n",
      "------------------------\n",
      "------------------------ Cthulhu\n",
      "Cthulhuras and sumfered and a pits and time at all, in the partially well of the sare and taken was so commanded, and it was nature of an ofdering at a condectial astimity. Here seesing antollisies to his ming and at its\n",
      "torch of their alsinne the pecains and the secent sate were thought in with when I his sear of a chinde took and wear was share our than seatare and woudded to made as the strength works were at a cander sourd, but in should storm think in a tenter serious. At the serow of this there of\n",
      "------------------------\n",
      "------------------------ raven\n",
      "ravenss to his coultening any and things, a mean who could not sar to she thinks of the stole, and the mean and which I had to terled it interrable of the trate, who has never tould, which I seont the stances there something that I have bingithed the samicity and mentory, and\n",
      "seight a matter and chissed it, at the censes of the tiss of holror and that that has bear of his somilority of southern, sancily and hard to bean out. They aloved of a moment of the ther on the sint of the second alond the tare,\n",
      "------------------------\n",
      "------------------------ bird\n",
      "bird ale sursitional atterpedent about the persence of the torgh and stored and as a time and attated and cromsed and well searth, by the calm would tark and a serest, and the simp and the simelish of the pition to may a mer strength which was but to the midet of as such strong there, though thes he would, between interallest stans about the throat was of anythous a pire to a shout.\n",
      "\n",
      "And who sat with hand terrible the thought they tord the the palty of the meaton things of some stones in a tome, whic\n",
      "------------------------\n",
      "------------------------ nevermore\n",
      "nevermore or many seeming than the time. The carrous tise would heave somating which he said.\n",
      "To hear, in\n",
      "the pate would not a patter and concere in which with a toult.\n",
      "\n",
      "   \n",
      "The statite had astimed at at the tome and. At the tomes, to a porsint of a telring the sight of my streanth and somethan colrantions of the sate that a moment of a collige of the more and and sentour the stome at indessente into the mansion, with a time in the partion of sone with a pass with at a there and them, and he seated wore w\n",
      "------------------------\n",
      "------------------------ dead\n",
      "dead,,\n",
      "as the cormuning whilite those would hear of the toundent, which\n",
      "he were and concorned. The minutes and ancicers of the cortinical themelet a strange and concems of the cimal of them stall on the torn, and shall the seass of these sen or matione ang themened a presinity of such seasthered. His antatural anched on he stook only in the pisits of as and and a palise and seatively of my thoughts. We suppained as seem, were not by hint, and there wish the periad abented a them of her ancearance of \n",
      "------------------------\n",
      "------------------------ The bird\n",
      "The bird in the piche would be a preculate instonance of him out of the thought. He could to so the continuous the some and was of some words; where we hereed the poot, on the coulse\n",
      "was a case, the south was as he had all the palision which any and sound and\n",
      "ate of these tord, and seamed to be frantated to these the meast, and which all the\n",
      "prictalance\n",
      "we taken ont of the cresped alome to a sort which was some on attending the canes to\n",
      "surden she attended as a more, and in where they seemed as well so f\n",
      "------------------------\n"
     ]
    }
   ],
   "source": [
    "for i in range(len(text_to_try)):\n",
    "    text = text_to_try[i]\n",
    "    generated = samples[i]\n",
    "    print(\"------------------------\",text)\n",
    "    print(generated)\n",
    "    print(\"------------------------\")"
   ]
  },
  {
   "cell_type": "code",
   "execution_count": 36,
   "metadata": {},
   "outputs": [
    {
     "data": {
      "text/plain": [
       "model_checkpoint_path: \"checkpoints/mcharacters_i39900_l300.ckpt\"\n",
       "all_model_checkpoint_paths: \"checkpoints/mcharacters_i38001_l300.ckpt\"\n",
       "all_model_checkpoint_paths: \"checkpoints/mcharacters_i38501_l300.ckpt\"\n",
       "all_model_checkpoint_paths: \"checkpoints/mcharacters_i39001_l300.ckpt\"\n",
       "all_model_checkpoint_paths: \"checkpoints/mcharacters_i39501_l300.ckpt\"\n",
       "all_model_checkpoint_paths: \"checkpoints/mcharacters_i39900_l300.ckpt\""
      ]
     },
     "execution_count": 36,
     "metadata": {},
     "output_type": "execute_result"
    }
   ],
   "source": [
    "tf.train.get_checkpoint_state('checkpoints')"
   ]
  },
  {
   "cell_type": "code",
   "execution_count": null,
   "metadata": {
    "collapsed": true
   },
   "outputs": [],
   "source": []
  }
 ],
 "metadata": {
  "kernelspec": {
   "display_name": "Python 3",
   "language": "python",
   "name": "python3"
  },
  "language_info": {
   "codemirror_mode": {
    "name": "ipython",
    "version": 3
   },
   "file_extension": ".py",
   "mimetype": "text/x-python",
   "name": "python",
   "nbconvert_exporter": "python",
   "pygments_lexer": "ipython3",
   "version": "3.6.1"
  }
 },
 "nbformat": 4,
 "nbformat_minor": 2
}
