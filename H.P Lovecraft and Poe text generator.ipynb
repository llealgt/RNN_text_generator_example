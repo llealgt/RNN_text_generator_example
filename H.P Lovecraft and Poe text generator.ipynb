{
 "cells": [
  {
   "cell_type": "markdown",
   "metadata": {},
   "source": [
    "# Recurrent neural networks for H.P Lovecraft text generation\n",
    "\n",
    "\"The color out of space\" is one of my favorite tales from Lovecraft, i will use it(as well as others as the call of cthulhu) to create a recurrent neural network in tensorflow that learns his style and generates new text in his style\n",
    "\n",
    "This network is based off of Andrej Karpathy's [post on RNNs](http://karpathy.github.io/2015/05/21/rnn-effectiveness/) and [implementation in Torch](https://github.com/karpathy/char-rnn) and an example from \"Deep Learning Nanodegree\" on udacity. Also, some information [here at r2rt](http://r2rt.com/recurrent-neural-networks-in-tensorflow-ii.html) and from [Sherjil Ozair](https://github.com/sherjilozair/char-rnn-tensorflow) on GitHub. \n",
    "\n",
    "## General architecture using \"Long short term memory\" units in the recurrent layers\n",
    "\n",
    "<img src=\"assets/charseq.jpeg\" width=\"500\">"
   ]
  },
  {
   "cell_type": "code",
   "execution_count": 1,
   "metadata": {},
   "outputs": [],
   "source": [
    "%matplotlib inline\n",
    "%config InlineBackend.figure_format = 'retina'"
   ]
  },
  {
   "cell_type": "code",
   "execution_count": 2,
   "metadata": {},
   "outputs": [],
   "source": [
    "import time\n",
    "from collections import namedtuple\n",
    "\n",
    "import numpy as np\n",
    "import tensorflow as tf\n",
    "from nltk.tokenize import word_tokenize\n",
    "import nltk\n",
    "import itertools\n",
    "import matplotlib.pyplot as plt\n",
    "from time import gmtime, strftime ,localtime"
   ]
  },
  {
   "cell_type": "code",
   "execution_count": 3,
   "metadata": {},
   "outputs": [],
   "source": [
    "# Run only the  first time nltk is used to download language\n",
    "#nltk.download()"
   ]
  },
  {
   "cell_type": "markdown",
   "metadata": {},
   "source": [
    "### Define conf variables and hyper parameteters "
   ]
  },
  {
   "cell_type": "code",
   "execution_count": 52,
   "metadata": {
    "collapsed": true
   },
   "outputs": [],
   "source": [
    "mode = \"characters\" #characters or words\n",
    "\n",
    "epochs = 5\n",
    "batch_size = 128       # Sequences per batch\n",
    "num_steps = 75         # Number of sequence steps per batch\n",
    "lstm_size = 768         # Size of hidden layers in LSTMs\n",
    "num_layers = 2          # Number of LSTM layers\n",
    "learning_rate = 0.0005    # Learning rate\n",
    "keep_prob = 1       # Dropout keep probability\n",
    "\n",
    "resume_from_checkpoint = True"
   ]
  },
  {
   "cell_type": "markdown",
   "metadata": {},
   "source": [
    "### Define base text\n",
    "Once trained ,the network can take base text and a sequence size and generate new text using base text as first characters in the sequence. For every element in base text wi will create a list that will store generated text as training goes, to be able to compare results between steps"
   ]
  },
  {
   "cell_type": "code",
   "execution_count": 5,
   "metadata": {
    "collapsed": true
   },
   "outputs": [],
   "source": [
    "text_to_try = [\"In the first place\",\"the night before\",\"horror\",\"creature\",\"night\",\"dream\",\"thing\",\"That night\",\"mountain\",\"Ammi\",\"Cthulhu\",\"raven\",\"bird\",\"nevermore\",\"dead\",\"The bird\"]"
   ]
  },
  {
   "cell_type": "markdown",
   "metadata": {},
   "source": [
    "#### Function that separates text into tokens(for whitespace characters, only new line is implemented, missing tabs and others="
   ]
  },
  {
   "cell_type": "code",
   "execution_count": 6,
   "metadata": {},
   "outputs": [
    {
     "data": {
      "text/plain": [
       "['H',\n",
       " 'e',\n",
       " 'l',\n",
       " 'l',\n",
       " 'o',\n",
       " ',',\n",
       " ' ',\n",
       " 'm',\n",
       " 'y',\n",
       " ' ',\n",
       " 'n',\n",
       " 'a',\n",
       " 'm',\n",
       " 'e',\n",
       " ' ',\n",
       " 'i',\n",
       " 's',\n",
       " ' ',\n",
       " 'L',\n",
       " 'u',\n",
       " 'i',\n",
       " 's',\n",
       " ' ',\n",
       " 'L',\n",
       " 'e',\n",
       " 'a',\n",
       " 'l',\n",
       " '!',\n",
       " '\\n',\n",
       " '\\n',\n",
       " 'F',\n",
       " 'r',\n",
       " 'o',\n",
       " 'm',\n",
       " ' ',\n",
       " 'G',\n",
       " 'u',\n",
       " 'a',\n",
       " 't',\n",
       " 'e',\n",
       " 'm',\n",
       " 'a',\n",
       " 'l',\n",
       " 'a']"
      ]
     },
     "execution_count": 6,
     "metadata": {},
     "output_type": "execute_result"
    }
   ],
   "source": [
    "def tokenize_by_words(text):\n",
    "    text = text.replace(\"\\n\",\" new_line_token \")\n",
    "    tokens = []\n",
    "    splitted =[[word_tokenize(w),' ']for w in text.split()]\n",
    "    splitted = list(itertools.chain(*list(itertools.chain(*splitted))))\n",
    "    \n",
    "    token_list = []\n",
    "    i = 0\n",
    "    while i < len(splitted):\n",
    "        if splitted[i] == \"new_line_token\":\n",
    "            if   token_list[-1]==\" \":\n",
    "                token_list[-1] = splitted[i]\n",
    "            else:\n",
    "                token_list.append(splitted[i])\n",
    "            i+=1\n",
    "        else:\n",
    "            token_list.append(splitted[i])\n",
    "        i+=1\n",
    "    \n",
    "    return token_list\n",
    "\n",
    "def tokenize_by_characters(text):\n",
    "    return list(text)\n",
    "\n",
    "def tokenize_text(text,mode=\"characters\"):\n",
    "    if mode == \"characters\":\n",
    "        return tokenize_by_characters(text)\n",
    "    elif mode == \"words\":\n",
    "        return tokenize_by_words(text)\n",
    "    \n",
    "tokenize_text(\"Hello, my name is Luis Leal!\\n\\nFrom Guatemala\",mode)\n",
    "#tokenize_text(\"Hello, my name is Luis Leal!\\n\\nFrom Guatemala\",\"words\")\n"
   ]
  },
  {
   "cell_type": "markdown",
   "metadata": {},
   "source": [
    "First we'll load the text file and convert it into integers for our network to use. Here I'm creating a couple dictionaries to convert the characters to and from integers. Encoding the characters as integers makes it easier to use as input in the network."
   ]
  },
  {
   "cell_type": "code",
   "execution_count": 7,
   "metadata": {
    "collapsed": true
   },
   "outputs": [],
   "source": [
    "with open('corpus.txt', 'r') as f:\n",
    "    text=f.read()"
   ]
  },
  {
   "cell_type": "code",
   "execution_count": 8,
   "metadata": {
    "collapsed": true
   },
   "outputs": [],
   "source": [
    "vocab = set(tokenize_text(text,mode))\n",
    "vocab_to_int = {c: i for i, c in enumerate(vocab)}\n",
    "int_to_vocab = dict(enumerate(vocab))"
   ]
  },
  {
   "cell_type": "markdown",
   "metadata": {},
   "source": [
    "### Get a little portion of text for validation"
   ]
  },
  {
   "cell_type": "code",
   "execution_count": 9,
   "metadata": {
    "collapsed": true
   },
   "outputs": [],
   "source": [
    "tokenized_text = tokenize_text(text,mode)\n",
    "encoded_dataset = np.array([vocab_to_int[c] for c in tokenized_text if c in vocab_to_int], dtype=np.int32)"
   ]
  },
  {
   "cell_type": "code",
   "execution_count": 10,
   "metadata": {
    "collapsed": true
   },
   "outputs": [],
   "source": [
    "validation_size = batch_size * num_steps #create a single baty\n",
    "validation_start_index = len(encoded_dataset) - validation_size\n",
    "\n",
    "encoded = encoded_dataset[:validation_start_index]\n",
    "encoded_val = encoded_dataset[validation_start_index:]"
   ]
  },
  {
   "cell_type": "code",
   "execution_count": 11,
   "metadata": {},
   "outputs": [
    {
     "name": "stdout",
     "output_type": "stream",
     "text": [
      "r genera of creatures are germinated) -- the spontaneous germination, I say, of five vast hordes of \n"
     ]
    }
   ],
   "source": [
    "def encoded_to_text(encoded):\n",
    "    return \"\".join([int_to_vocab[number] for number in encoded])\n",
    "\n",
    "print(encoded_to_text(encoded_val[0:100]))"
   ]
  },
  {
   "cell_type": "code",
   "execution_count": 12,
   "metadata": {
    "collapsed": true
   },
   "outputs": [],
   "source": [
    "val_text =encoded_to_text(encoded_val)\n",
    "text = encoded_to_text(encoded)"
   ]
  },
  {
   "cell_type": "markdown",
   "metadata": {},
   "source": [
    "Let's check out the first 100 characters of train and validation, make sure everything is peachy.  line of a book ever."
   ]
  },
  {
   "cell_type": "code",
   "execution_count": 13,
   "metadata": {},
   "outputs": [
    {
     "data": {
      "text/plain": [
       "'THE COLOUR OUT OF SPACE\\n\\nWest of Arkham the hills rise wild, and there are valleys with deep woods t'"
      ]
     },
     "execution_count": 13,
     "metadata": {},
     "output_type": "execute_result"
    }
   ],
   "source": [
    "text[:100]"
   ]
  },
  {
   "cell_type": "code",
   "execution_count": 14,
   "metadata": {},
   "outputs": [
    {
     "data": {
      "text/plain": [
       "'r genera of creatures are germinated) -- the spontaneous germination, I say, of five vast hordes of '"
      ]
     },
     "execution_count": 14,
     "metadata": {},
     "output_type": "execute_result"
    }
   ],
   "source": [
    "val_text[:100]"
   ]
  },
  {
   "cell_type": "markdown",
   "metadata": {},
   "source": [
    "And we can see the characters encoded as integersin both train and validation"
   ]
  },
  {
   "cell_type": "code",
   "execution_count": 15,
   "metadata": {},
   "outputs": [
    {
     "data": {
      "text/plain": [
       "array([ 52,  89,  70,  96,  72,  27,  58,  27,  97,  51,  96,  27,  97,\n",
       "        52,  96,  27,  60,  96,  53,  39,  57,  72,  70,  11,  11,  24,\n",
       "        61,  79,  84,  96,  56,   6,  96,  57,  48,  47,   8,  19,  73,\n",
       "        96,  84,   8,  61,  96,   8,  99,  95,  95,  79,  96,  48,  99,\n",
       "        79,  61,  96,   5,  99,  95, 100,  30,  96,  19,  34, 100,  96,\n",
       "        84,   8,  61,  48,  61,  96,  19,  48,  61,  96,  66,  19,  95,\n",
       "        95,  61,  42,  79,  96,   5,  99,  84,   8,  96, 100,  61,  61,\n",
       "        77,  96,   5,  56,  56, 100,  79,  96,  84], dtype=int32)"
      ]
     },
     "execution_count": 15,
     "metadata": {},
     "output_type": "execute_result"
    }
   ],
   "source": [
    "encoded[:100]"
   ]
  },
  {
   "cell_type": "code",
   "execution_count": 16,
   "metadata": {},
   "outputs": [
    {
     "data": {
      "text/plain": [
       "array([ 48,  96,  20,  61,  34,  61,  48,  19,  96,  56,   6,  96,  82,\n",
       "        48,  61,  19,  84,  33,  48,  61,  79,  96,  19,  48,  61,  96,\n",
       "        20,  61,  48,  73,  99,  34,  19,  84,  61, 100,  38,  96,  15,\n",
       "        15,  96,  84,   8,  61,  96,  79,  77,  56,  34,  84,  19,  34,\n",
       "        61,  56,  33,  79,  96,  20,  61,  48,  73,  99,  34,  19,  84,\n",
       "        99,  56,  34,  30,  96,  31,  96,  79,  19,  42,  30,  96,  56,\n",
       "         6,  96,   6,  99,  66,  61,  96,  66,  19,  79,  84,  96,   8,\n",
       "        56,  48, 100,  61,  79,  96,  56,   6,  96], dtype=int32)"
      ]
     },
     "execution_count": 16,
     "metadata": {},
     "output_type": "execute_result"
    }
   ],
   "source": [
    "encoded_val[0:100]"
   ]
  },
  {
   "cell_type": "markdown",
   "metadata": {},
   "source": [
    "Since the network is working with individual english tokens, it's similar to a classification problem in which we are trying to predict the next character from the previous text.  Here's how many 'classes' our network has to pick from."
   ]
  },
  {
   "cell_type": "code",
   "execution_count": 17,
   "metadata": {},
   "outputs": [
    {
     "data": {
      "text/plain": [
       "102"
      ]
     },
     "execution_count": 17,
     "metadata": {},
     "output_type": "execute_result"
    }
   ],
   "source": [
    "len(vocab)"
   ]
  },
  {
   "cell_type": "markdown",
   "metadata": {},
   "source": [
    "## Making training mini-batches\n",
    "\n",
    "Here is where we'll make our mini-batches for training. Remember that we want our batches to be multiple sequences of some desired number of sequence steps. Considering a simple example, our batches would look like this:\n",
    "\n",
    "<img src=\"assets/sequence_batching@1x.png\" width=500px>\n",
    "\n",
    "\n",
    "<br>\n",
    "We have our text encoded as integers as one long array in `encoded`. Let's create a function that will give us an iterator for our batches. I like using [generator functions](https://jeffknupp.com/blog/2013/04/07/improve-your-python-yield-and-generators-explained/) to do this. Then we can pass `encoded` into this function and get our batch generator.\n",
    "\n",
    "The first thing we need to do is discard some of the text so we only have completely full batches. Each batch contains $N \\times M$ characters, where $N$ is the batch size (the number of sequences) and $M$ is the number of steps. Then, to get the number of batches we can make from some array `arr`, you divide the length of `arr` by the batch size. Once you know the number of batches and the batch size, you can get the total number of characters to keep.\n",
    "\n",
    "After that, we need to split `arr` into $N$ sequences. You can do this using `arr.reshape(size)` where `size` is a tuple containing the dimensions sizes of the reshaped array. We know we want $N$ sequences (`n_seqs` below), let's make that the size of the first dimension. For the second dimension, you can use `-1` as a placeholder in the size, it'll fill up the array with the appropriate data for you. After this, you should have an array that is $N \\times (M * K)$ where $K$ is the number of batches.\n",
    "\n",
    "Now that we have this array, we can iterate through it to get our batches. The idea is each batch is a $N \\times M$ window on the array. For each subsequent batch, the window moves over by `n_steps`. We also want to create both the input and target arrays. Remember that the targets are the inputs shifted over one character. You'll usually see the first input character used as the last target character, so something like this:\n",
    "```python\n",
    "y[:, :-1], y[:, -1] = x[:, 1:], x[:, 0]\n",
    "```\n",
    "where `x` is the input batch and `y` is the target batch.\n",
    "\n",
    "The way I like to do this window is use `range` to take steps of size `n_steps` from $0$ to `arr.shape[1]`, the total number of steps in each sequence. That way, the integers you get from `range` always point to the start of a batch, and each window is `n_steps` wide."
   ]
  },
  {
   "cell_type": "code",
   "execution_count": 18,
   "metadata": {
    "collapsed": true
   },
   "outputs": [],
   "source": [
    "def get_batches(arr, n_seqs, n_steps):\n",
    "    '''Create a generator that returns batches of size\n",
    "       n_seqs x n_steps from arr.\n",
    "       \n",
    "       Arguments\n",
    "       ---------\n",
    "       arr: Array you want to make batches from\n",
    "       n_seqs: Batch size, the number of sequences per batch\n",
    "       n_steps: Number of sequence steps per batch\n",
    "    '''\n",
    "    # Get the batch size and number of batches we can make\n",
    "    batch_size = n_seqs * n_steps \n",
    "    n_batches =  len(arr)//batch_size\n",
    "    \n",
    "    # Keep only enough characters to make full batches\n",
    "    arr =  arr[:n_batches*batch_size]\n",
    "    \n",
    "    # Reshape into n_seqs rows\n",
    "    arr = arr.reshape((n_seqs,-1))\n",
    "    \n",
    "    for n in range(0, arr.shape[1], n_steps):\n",
    "        # The features\n",
    "        x = arr[:,n:n+n_steps]\n",
    "        # The targets, shifted by one\n",
    "        y = np.zeros(x.shape)\n",
    "        y[:,:-1],y[:,-1] = x[:,1:] ,x[:,0]\n",
    "        yield x, y"
   ]
  },
  {
   "cell_type": "markdown",
   "metadata": {},
   "source": [
    "Now I'll make my data sets and we can check out what's going on here. Here I'm going to use a batch size of 10 and 50 sequence steps."
   ]
  },
  {
   "cell_type": "code",
   "execution_count": 19,
   "metadata": {
    "collapsed": true
   },
   "outputs": [],
   "source": [
    "batches = get_batches(encoded, 10, 50)\n",
    "x, y = next(batches)"
   ]
  },
  {
   "cell_type": "code",
   "execution_count": 20,
   "metadata": {},
   "outputs": [
    {
     "name": "stdout",
     "output_type": "stream",
     "text": [
      "x\n",
      " [[ 52  89  70  96  72  27  58  27  97  51]\n",
      " [ 96  79  61  84  96  19  77  77  61  19]\n",
      " [ 96  82  19  66  61  48  34  56  33  79]\n",
      " [ 61 100  96  95  56  56  77   8  56  95]\n",
      " [ 84  95  42  96  84  56  96  19  95  95]\n",
      " [ 61  19  48  95  42  96  82  19  95  73]\n",
      " [ 61  79  96   5  61  48  61  96  19  20]\n",
      " [ 34  96  19 100  66  19  34  82  61  30]\n",
      " [ 19  82  61 100  96 100  56   5  34  96]\n",
      " [ 84  19  99  34  40  79  96  64  19  79]]\n",
      "\n",
      "y\n",
      " [[  89.   70.   96.   72.   27.   58.   27.   97.   51.   96.]\n",
      " [  79.   61.   84.   96.   19.   77.   77.   61.   19.   95.]\n",
      " [  82.   19.   66.   61.   48.   34.   56.   33.   79.   96.]\n",
      " [ 100.   96.   95.   56.   56.   77.    8.   56.   95.   61.]\n",
      " [  95.   42.   96.   84.   56.   96.   19.   95.   95.   56.]\n",
      " [  19.   48.   95.   42.   96.   82.   19.   95.   73.   30.]\n",
      " [  79.   96.    5.   61.   48.   61.   96.   19.   20.   19.]\n",
      " [  96.   19.  100.   66.   19.   34.   82.   61.   30.   96.]\n",
      " [  82.   61.  100.   96.  100.   56.    5.   34.   96.   77.]\n",
      " [  19.   99.   34.   40.   79.   96.   64.   19.   79.   61.]]\n"
     ]
    }
   ],
   "source": [
    "print('x\\n', x[:10, :10])\n",
    "print('\\ny\\n', y[:10, :10])"
   ]
  },
  {
   "cell_type": "markdown",
   "metadata": {},
   "source": [
    "## Building the model\n",
    "\n",
    "Below is where you'll build the network. We'll break it up into parts so it's easier to reason about each bit. Then we can connect them up into the whole network.\n",
    "\n",
    "<img src=\"assets/charRNN.png\" width=500px>\n",
    "\n",
    "\n",
    "### Inputs\n",
    "\n",
    "First off we'll create our input placeholders. As usual we need placeholders for the training data and the targets. We'll also create a placeholder for dropout layers called `keep_prob`. This will be a scalar, that is a 0-D tensor. To make a scalar, you create a placeholder without giving it a size."
   ]
  },
  {
   "cell_type": "code",
   "execution_count": 21,
   "metadata": {
    "collapsed": true
   },
   "outputs": [],
   "source": [
    "def build_inputs(batch_size, num_steps):\n",
    "    ''' Define placeholders for inputs, targets, and dropout \n",
    "    \n",
    "        Arguments\n",
    "        ---------\n",
    "        batch_size: Batch size, number of sequences per batch\n",
    "        num_steps: Number of sequence steps in a batch\n",
    "        \n",
    "    '''\n",
    "    # Declare placeholders we'll feed into the graph\n",
    "    inputs = tf.placeholder(tf.int32,[batch_size,num_steps],name=\"inputs\")\n",
    "    targets = tf.placeholder(tf.int32,[batch_size,num_steps],name=\"targets\")\n",
    "    \n",
    "    # Keep probability placeholder for drop out layers\n",
    "    keep_prob = tf.placeholder(tf.float32,name=\"keep_prob\")\n",
    "    \n",
    "    return inputs, targets, keep_prob"
   ]
  },
  {
   "cell_type": "markdown",
   "metadata": {},
   "source": [
    "### LSTM Cell\n",
    "\n",
    "Here we will create the LSTM cell we'll use in the hidden layer. We'll use this cell as a building block for the RNN. So we aren't actually defining the RNN here, just the type of cell we'll use in the hidden layer.\n",
    "\n",
    "We first create a basic LSTM cell with\n",
    "\n",
    "```python\n",
    "lstm = tf.contrib.rnn.BasicLSTMCell(num_units)\n",
    "```\n",
    "\n",
    "where `num_units` is the number of units in the hidden layers in the cell. Then we can add dropout by wrapping it with \n",
    "\n",
    "```python\n",
    "tf.contrib.rnn.DropoutWrapper(lstm, output_keep_prob=keep_prob)\n",
    "```\n",
    "You pass in a cell and it will automatically add dropout to the inputs or outputs. Finally, we can stack up the LSTM cells into layers with [`tf.contrib.rnn.MultiRNNCell`](https://www.tensorflow.org/versions/r1.0/api_docs/python/tf/contrib/rnn/MultiRNNCell). With this, you pass in a list of cells and it will send the output of one cell into the next cell. For example,\n",
    "\n",
    "```python\n",
    "tf.contrib.rnn.MultiRNNCell([cell]*num_layers)\n",
    "```\n",
    "\n",
    "This might look a little weird if you know Python well because this will create a list of the same `cell` object. However, TensorFlow will create different weight matrices for all `cell` objects. Even though this is actually multiple LSTM cells stacked on each other, you can treat the multiple layers as one cell.\n",
    "\n",
    "We also need to create an initial cell state of all zeros. This can be done like so\n",
    "\n",
    "```python\n",
    "initial_state = cell.zero_state(batch_size, tf.float32)\n",
    "```\n"
   ]
  },
  {
   "cell_type": "code",
   "execution_count": 22,
   "metadata": {
    "collapsed": true
   },
   "outputs": [],
   "source": [
    "def build_lstm(lstm_size, num_layers, batch_size, keep_prob):\n",
    "    ''' Build LSTM cell.\n",
    "    \n",
    "        Arguments\n",
    "        ---------\n",
    "        keep_prob: Scalar tensor (tf.placeholder) for the dropout keep probability\n",
    "        lstm_size: Size of the hidden layers in the LSTM cells\n",
    "        num_layers: Number of LSTM layers\n",
    "        batch_size: Batch size\n",
    "\n",
    "    '''\n",
    "    ### Build the LSTM Cell\n",
    "    # Use a basic LSTM cell\n",
    "    # Add dropout to the cell outputs\n",
    "    # Stack up multiple LSTM layers, for deep learning\n",
    "    cell = tf.contrib.rnn.MultiRNNCell([tf.contrib.rnn.DropoutWrapper( tf.contrib.rnn.BasicLSTMCell(lstm_size),output_keep_prob = keep_prob) for _ in range(num_layers)])\n",
    "    initial_state = cell.zero_state(batch_size,tf.float32)\n",
    "    \n",
    "    return cell, initial_state"
   ]
  },
  {
   "cell_type": "markdown",
   "metadata": {},
   "source": [
    "### RNN Output\n",
    "\n",
    "Here we'll create the output layer. We need to connect the output of the RNN cells to a full connected layer with a softmax output. The softmax output gives us a probability distribution we can use to predict the next character, so we want this layer to have size $C$, the number of classes/characters we have in our text.\n",
    "\n",
    "If our input has batch size $N$, number of steps $M$, and the hidden layer has $L$ hidden units, then the output is a 3D tensor with size $N \\times M \\times L$. The output of each LSTM cell has size $L$, we have $M$ of them, one for each sequence step, and we have $N$ sequences. So the total size is $N \\times M \\times L$. \n",
    "\n",
    "We are using the same fully connected layer, the same weights, for each of the outputs. Then, to make things easier, we should reshape the outputs into a 2D tensor with shape $(M * N) \\times L$. That is, one row for each sequence and step, where the values of each row are the output from the LSTM cells. We get the LSTM output as a list, `lstm_output`. First we need to concatenate this whole list into one array with [`tf.concat`](https://www.tensorflow.org/api_docs/python/tf/concat). Then, reshape it (with `tf.reshape`) to size $(M * N) \\times L$.\n",
    "\n",
    "One we have the outputs reshaped, we can do the matrix multiplication with the weights. We need to wrap the weight and bias variables in a variable scope with `tf.variable_scope(scope_name)` because there are weights being created in the LSTM cells. TensorFlow will throw an error if the weights created here have the same names as the weights created in the LSTM cells, which they will be default. To avoid this, we wrap the variables in a variable scope so we can give them unique names.\n"
   ]
  },
  {
   "cell_type": "code",
   "execution_count": 23,
   "metadata": {
    "collapsed": true
   },
   "outputs": [],
   "source": [
    "def build_output(lstm_output, in_size, out_size):\n",
    "    ''' Build a softmax layer, return the softmax output and logits.\n",
    "    \n",
    "        Arguments\n",
    "        ---------\n",
    "        \n",
    "        lstm_output: List of output tensors from the LSTM layer\n",
    "        in_size: Size of the input tensor, for example, size of the LSTM cells\n",
    "        out_size: Size of this softmax layer\n",
    "    \n",
    "    '''\n",
    "\n",
    "    # Reshape output so it's a bunch of rows, one row for each step for each sequence.\n",
    "    # Concatenate lstm_output over axis 1 (the columns)\n",
    "    seq_output = tf.concat(lstm_output,axis=1)\n",
    "    # Reshape seq_output to a 2D tensor with lstm_size columns\n",
    "    x = tf.reshape(seq_output,[-1,in_size])\n",
    "    \n",
    "    # Connect the RNN outputs to a softmax layer\n",
    "    with tf.variable_scope('softmax'):\n",
    "        # Create the weight and bias variables here\n",
    "        softmax_w = tf.Variable(tf.truncated_normal((in_size, out_size),stddev=0.1))\n",
    "        softmax_b = tf.Variable(tf.zeros([out_size]))\n",
    "    \n",
    "    # Since output is a bunch of rows of RNN cell outputs, logits will be a bunch\n",
    "    # of rows of logit outputs, one for each step and sequence\n",
    "    logits =  tf.add(tf.matmul(x,softmax_w),softmax_b) \n",
    "    \n",
    "    # Use softmax to get the probabilities for predicted characters\n",
    "    out = tf.nn.softmax(logits,name =\"out\")\n",
    "    \n",
    "    return out, logits"
   ]
  },
  {
   "cell_type": "markdown",
   "metadata": {},
   "source": [
    "### Training loss\n",
    "\n",
    "Next up is the training loss. We get the logits and targets and calculate the softmax cross-entropy loss. First we need to one-hot encode the targets, we're getting them as encoded characters. Then, reshape the one-hot targets so it's a 2D tensor with size $(M*N) \\times C$ where $C$ is the number of classes/characters we have. Remember that we reshaped the LSTM outputs and ran them through a fully connected layer with $C$ units. So our logits will also have size $(M*N) \\times C$.\n",
    "\n",
    "Then we run the logits and targets through `tf.nn.softmax_cross_entropy_with_logits` and find the mean to get the loss."
   ]
  },
  {
   "cell_type": "code",
   "execution_count": 24,
   "metadata": {
    "collapsed": true
   },
   "outputs": [],
   "source": [
    "def build_loss(logits, targets, lstm_size, num_classes):\n",
    "    ''' Calculate the loss from the logits and the targets.\n",
    "    \n",
    "        Arguments\n",
    "        ---------\n",
    "        logits: Logits from final fully connected layer\n",
    "        targets: Targets for supervised learning\n",
    "        lstm_size: Number of LSTM hidden units\n",
    "        num_classes: Number of classes in targets\n",
    "        \n",
    "    '''\n",
    "    # One-hot encode targets and reshape to match logits, one row per sequence per step\n",
    "    y_one_hot = tf.one_hot(targets,num_classes)\n",
    "    y_reshaped =  tf.reshape(y_one_hot,logits.get_shape())\n",
    "    \n",
    "    # Softmax cross entropy loss\n",
    "    loss = tf.reduce_mean(tf.nn.softmax_cross_entropy_with_logits(logits=logits,labels=y_reshaped))\n",
    "    \n",
    "    return loss"
   ]
  },
  {
   "cell_type": "markdown",
   "metadata": {},
   "source": [
    "### Optimizer\n",
    "\n",
    "Here we build the optimizer. Normal RNNs have have issues gradients exploding and disappearing. LSTMs fix the disappearance problem, but the gradients can still grow without bound. To fix this, we can clip the gradients above some threshold. That is, if a gradient is larger than that threshold, we set it to the threshold. This will ensure the gradients never grow overly large. Then we use an AdamOptimizer for the learning step."
   ]
  },
  {
   "cell_type": "code",
   "execution_count": 25,
   "metadata": {
    "collapsed": true
   },
   "outputs": [],
   "source": [
    "def build_optimizer(loss, learning_rate, grad_clip,global_step):\n",
    "    ''' Build optmizer for training, using gradient clipping.\n",
    "    \n",
    "        Arguments:\n",
    "        loss: Network loss\n",
    "        learning_rate: Learning rate for optimizer\n",
    "        global_step: to control the total number of train steps\n",
    "    \n",
    "    '''\n",
    "    \n",
    "    # Optimizer for training, using gradient clipping to control exploding gradients\n",
    "    tvars = tf.trainable_variables()\n",
    "    grads, _ = tf.clip_by_global_norm(tf.gradients(loss, tvars), grad_clip)\n",
    "    train_op = tf.train.AdamOptimizer(learning_rate)\n",
    "    optimizer = train_op.apply_gradients(zip(grads, tvars),global_step)\n",
    "    \n",
    "    return optimizer"
   ]
  },
  {
   "cell_type": "markdown",
   "metadata": {},
   "source": [
    "### Build the network\n",
    "\n",
    "Now we can put all the pieces together and build a class for the network. To actually run data through the LSTM cells, we will use [`tf.nn.dynamic_rnn`](https://www.tensorflow.org/versions/r1.0/api_docs/python/tf/nn/dynamic_rnn). This function will pass the hidden and cell states across LSTM cells appropriately for us. It returns the outputs for each LSTM cell at each step for each sequence in the mini-batch. It also gives us the final LSTM state. We want to save this state as `final_state` so we can pass it to the first LSTM cell in the the next mini-batch run. For `tf.nn.dynamic_rnn`, we pass in the cell and initial state we get from `build_lstm`, as well as our input sequences. Also, we need to one-hot encode the inputs before going into the RNN. \n"
   ]
  },
  {
   "cell_type": "code",
   "execution_count": 26,
   "metadata": {
    "collapsed": true
   },
   "outputs": [],
   "source": [
    "class CharRNN:\n",
    "    \n",
    "    def __init__(self, num_classes, batch_size=64, num_steps=50, \n",
    "                       lstm_size=128, num_layers=2, learning_rate=0.001, \n",
    "                       grad_clip=5, sampling=False):\n",
    "    \n",
    "        # When we're using this network for sampling later, we'll be passing in\n",
    "        # one character at a time, so providing an option for that\n",
    "        if sampling == True:\n",
    "            batch_size, num_steps = 1, 1\n",
    "        else:\n",
    "            batch_size, num_steps = batch_size, num_steps\n",
    "\n",
    "        tf.reset_default_graph()\n",
    "        \n",
    "        self.global_step_tensor = tf.Variable(0,trainable=False,name = \"global_step\")\n",
    "        # Build the input placeholder tensors\n",
    "        self.inputs, self.targets, self.keep_prob = build_inputs(batch_size,num_steps)\n",
    "        # Build the LSTM cell\n",
    "        cell, self.initial_state = build_lstm(lstm_size,num_layers,batch_size,self.keep_prob)\n",
    "        ### Run the data through the RNN layers\n",
    "        # First, one-hot encode the input tokens\n",
    "        x_one_hot = tf.one_hot(self.inputs,num_classes)\n",
    "        \n",
    "        self.grad_clip  = grad_clip\n",
    "        # Run each sequence step through the RNN with tf.nn.dynamic_rnn \n",
    "        outputs, state = tf.nn.dynamic_rnn(cell,x_one_hot,initial_state=self.initial_state)\n",
    "        self.final_state = state\n",
    "        \n",
    "        # Get softmax predictions and logits\n",
    "        self.prediction, self.logits = build_output(outputs,lstm_size,num_classes)\n",
    "        \n",
    "        # Loss and optimizer (with gradient clipping)\n",
    "        self.loss =  build_loss(self.logits,self.targets,lstm_size,num_classes)\n",
    "        self.optimizer = build_optimizer(self.loss,learning_rate,grad_clip,self.global_step_tensor)"
   ]
  },
  {
   "cell_type": "markdown",
   "metadata": {},
   "source": [
    "## Hyperparameters\n",
    "\n",
    "Here are the hyperparameters for the network.\n",
    "\n",
    "* `batch_size` - Number of sequences running through the network in one pass.\n",
    "* `num_steps` - Number of characters in the sequence the network is trained on. Larger is better typically, the network will learn more long range dependencies. But it takes longer to train. 100 is typically a good number here.\n",
    "* `lstm_size` - The number of units in the hidden layers.\n",
    "* `num_layers` - Number of hidden LSTM layers to use\n",
    "* `learning_rate` - Learning rate for training\n",
    "* `keep_prob` - The dropout keep probability when training. If you're network is overfitting, try decreasing this.\n",
    "\n",
    "Here's some good advice from Andrej Karpathy on training the network:. \n",
    "\n",
    "> ## Tips and Tricks\n",
    "\n",
    ">### Monitoring Validation Loss vs. Training Loss\n",
    ">If you're somewhat new to Machine Learning or Neural Networks it can take a bit of expertise to get good models. The most important quantity to keep track of is the difference between your training loss (printed during training) and the validation loss (printed once in a while when the RNN is run on the validation data (by default every 1000 iterations)). In particular:\n",
    "\n",
    "> - If your training loss is much lower than validation loss then this means the network might be **overfitting**. Solutions to this are to decrease your network size, or to increase dropout. For example you could try dropout of 0.5 and so on.\n",
    "> - If your training/validation loss are about equal then your model is **underfitting**. Increase the size of your model (either number of layers or the raw number of neurons per layer)\n",
    "\n",
    "> ### Approximate number of parameters\n",
    "\n",
    "> The two most important parameters that control the model are `lstm_size` and `num_layers`. I would advise that you always use `num_layers` of either 2/3. The `lstm_size` can be adjusted based on how much data you have. The two important quantities to keep track of here are:\n",
    "\n",
    "> - The number of parameters in your model. This is printed when you start training.\n",
    "> - The size of your dataset. 1MB file is approximately 1 million characters.\n",
    "\n",
    ">These two should be about the same order of magnitude. It's a little tricky to tell. Here are some examples:\n",
    "\n",
    "> - I have a 100MB dataset and I'm using the default parameter settings (which currently print 150K parameters). My data size is significantly larger (100 mil >> 0.15 mil), so I expect to heavily underfit. I am thinking I can comfortably afford to make `lstm_size` larger.\n",
    "> - I have a 10MB dataset and running a 10 million parameter model. I'm slightly nervous and I'm carefully monitoring my validation loss. If it's larger than my training loss then I may want to try to increase dropout a bit and see if that helps the validation loss.\n",
    "\n",
    "> ### Best models strategy\n",
    "\n",
    ">The winning strategy to obtaining very good models (if you have the compute time) is to always err on making the network larger (as large as you're willing to wait for it to compute) and then try different dropout values (between 0,1). Whatever model has the best validation performance (the loss, written in the checkpoint filename, low is good) is the one you should use in the end.\n",
    "\n",
    ">It is very common in deep learning to run many different models with many different hyperparameter settings, and in the end take whatever checkpoint gave the best validation performance.\n",
    "\n",
    ">By the way, the size of your training and validation splits are also parameters. Make sure you have a decent amount of data in your validation set or otherwise the validation performance will be noisy and not very informative."
   ]
  },
  {
   "cell_type": "code",
   "execution_count": 27,
   "metadata": {
    "collapsed": true
   },
   "outputs": [],
   "source": [
    "def get_number_of_parameters():\n",
    "    total_parameters = 0\n",
    "    for variable in tf.trainable_variables():\n",
    "        shape = variable.get_shape()\n",
    "        #print(shape)\n",
    "        #print(len(shape))\n",
    "        variable_parameters = 1\n",
    "        \n",
    "        for dim in shape:\n",
    "            #print(dim)\n",
    "            variable_parameters*=dim.value\n",
    "        #print(variable_parameters)\n",
    "        total_parameters+= variable_parameters\n",
    "    return total_parameters"
   ]
  },
  {
   "cell_type": "code",
   "execution_count": 28,
   "metadata": {
    "collapsed": true
   },
   "outputs": [],
   "source": [
    "def pick_top_n(preds, vocab_size, top_n=5):\n",
    "    p = np.squeeze(preds)\n",
    "    p[np.argsort(p)[:-top_n]] = 0\n",
    "    p = p / np.sum(p)\n",
    "    c = np.random.choice(vocab_size, 1, p=p)[0]\n",
    "    return c"
   ]
  },
  {
   "cell_type": "markdown",
   "metadata": {},
   "source": [
    "## Time for training\n",
    "\n",
    "This is typical training code, passing inputs and targets into the network, then running the optimizer. Here we also get back the final LSTM state for the mini-batch. Then, we pass that state back into the network so the next batch can continue the state from the previous batch. And every so often (set by `save_every_n`) I save a checkpoint.\n",
    "\n",
    "Here I'm saving checkpoints with the format\n",
    "\n",
    "`i{iteration number}_l{# hidden layer units}.ckpt`\n"
   ]
  },
  {
   "cell_type": "code",
   "execution_count": 29,
   "metadata": {
    "collapsed": true
   },
   "outputs": [],
   "source": [
    "losses = {\"train\":[],\"validation\":[]}\n",
    "x_steps = list()"
   ]
  },
  {
   "cell_type": "code",
   "execution_count": 63,
   "metadata": {},
   "outputs": [
    {
     "name": "stdout",
     "output_type": "stream",
     "text": [
      "Training starting at time: 2017-10-16 03:47:02\n",
      "Number of parameters: 7475814 Dataset size: 2563420\n",
      "INFO:tensorflow:Restoring parameters from checkpoints/mcharacters_i9345_l768.ckpt\n",
      "Epoch: 1/5...  Training Step: 9346...  Training loss: 0.5881...  Val loss: 2.3269...  0.3436 sec/batch\n",
      "Epoch: 1/5...  Training Step: 9446...  Training loss: 0.5443...  Val loss: 2.3067...  0.2741 sec/batch\n",
      "Epoch: 1/5...  Training Step: 9546...  Training loss: 0.5341...  Val loss: 2.3139...  0.2752 sec/batch\n",
      "Epoch: 2/5...  Training Step: 9646...  Training loss: 0.5076...  Val loss: 2.3260...  0.2750 sec/batch\n",
      "Epoch: 2/5...  Training Step: 9746...  Training loss: 0.5252...  Val loss: 2.3296...  0.2760 sec/batch\n",
      "Epoch: 2/5...  Training Step: 9846...  Training loss: 0.5168...  Val loss: 2.3735...  0.2763 sec/batch\n",
      "Epoch: 3/5...  Training Step: 9946...  Training loss: 0.5100...  Val loss: 2.3751...  0.2763 sec/batch\n",
      "Epoch: 3/5...  Training Step: 10046...  Training loss: 0.4974...  Val loss: 2.3922...  0.2775 sec/batch\n",
      "Epoch: 3/5...  Training Step: 10146...  Training loss: 0.4832...  Val loss: 2.3950...  0.2768 sec/batch\n",
      "Epoch: 4/5...  Training Step: 10246...  Training loss: 0.5012...  Val loss: 2.4328...  0.2756 sec/batch\n",
      "Epoch: 4/5...  Training Step: 10346...  Training loss: 0.4844...  Val loss: 2.4538...  0.2760 sec/batch\n",
      "Epoch: 5/5...  Training Step: 10446...  Training loss: 0.4802...  Val loss: 2.4357...  0.2771 sec/batch\n",
      "Epoch: 5/5...  Training Step: 10546...  Training loss: 0.4540...  Val loss: 2.4522...  0.2778 sec/batch\n",
      "Epoch: 5/5...  Training Step: 10646...  Training loss: 0.4624...  Val loss: 2.4622...  0.2757 sec/batch\n",
      "Training ending at time: 2017-10-16 03:53:13\n",
      "Trainint total time: 371.7902855873108\n"
     ]
    }
   ],
   "source": [
    "#epochs = 1\n",
    "# Save every N iterations\n",
    "save_every_n = 500\n",
    "print_loss_every_n = 100\n",
    "sample_every = 500\n",
    "print_epoch_time_every = 10\n",
    "\n",
    "with tf.device(\"/gpu:0\"):\n",
    "    model = CharRNN(len(vocab), batch_size=batch_size, num_steps=num_steps,\n",
    "                lstm_size=lstm_size, num_layers=num_layers, \n",
    "                learning_rate=learning_rate)\n",
    "    #print(\"after model\")\n",
    "\n",
    "saver = tf.train.Saver(max_to_keep=5)\n",
    "print(\"Training starting at time:\",strftime(\"%Y-%m-%d %H:%M:%S\", localtime()))\n",
    "train_start_time = time.time()\n",
    "with tf.Session() as sess:\n",
    "    sess.run(tf.global_variables_initializer())\n",
    "    print(\"Number of parameters:\",get_number_of_parameters(),\"Dataset size:\",len(encoded))\n",
    "    #print(\"after initializer\")\n",
    "    if resume_from_checkpoint:\n",
    "        latest_checkpoint = tf.train.latest_checkpoint('checkpoints')\n",
    "        saver.restore(sess, latest_checkpoint)\n",
    "    counter = 0\n",
    "    for e in range(epochs):\n",
    "        # Train network\n",
    "        epoch_start = time.time()\n",
    "        \n",
    "        new_state = sess.run(model.initial_state)\n",
    "        loss = 0\n",
    "        for x, y in get_batches(encoded, batch_size, num_steps):\n",
    "            \n",
    "            \n",
    "            start = time.time()\n",
    "            feed = {model.inputs: x,\n",
    "                    model.targets: y,\n",
    "                    model.keep_prob: keep_prob,\n",
    "                    model.initial_state: new_state}\n",
    "            batch_loss, new_state, _ = sess.run([model.loss, \n",
    "                                                 model.final_state, \n",
    "                                                 model.optimizer], \n",
    "                                                 feed_dict=feed)\n",
    "        \n",
    "            \n",
    "            end = time.time()\n",
    "            if counter%print_loss_every_n == 0:\n",
    "                val_batches = get_batches(encoded_val,int(len(encoded_val)/num_steps),num_steps)\n",
    "                x_val,y_val = next(val_batches)\n",
    "                \n",
    "                val_dict = {model.inputs: x_val,\n",
    "                            model.targets: y_val,\n",
    "                            model.keep_prob: 1,\n",
    "                            model.initial_state: new_state}\n",
    "                \n",
    "                val_loss,prediction = sess.run([model.loss,model.prediction],feed_dict=val_dict)\n",
    "                \n",
    "                losses[\"train\"].append(batch_loss)\n",
    "                losses[\"validation\"].append(val_loss)\n",
    "                \n",
    "                \n",
    "                global_step = tf.train.global_step(sess,model.global_step_tensor)\n",
    "                x_steps.append(global_step)\n",
    "                \n",
    "                print('Epoch: {}/{}... '.format(e+1, epochs),\n",
    "                      'Training Step: {}... '.format(global_step),\n",
    "                      'Training loss: {:.4f}... '.format(batch_loss),\n",
    "                      'Val loss: {:.4f}... '.format(val_loss),\n",
    "                      '{:.4f} sec/batch'.format((end-start)))\n",
    "        \n",
    "            if (counter % save_every_n == 0):\n",
    "                global_step = tf.train.global_step(sess,model.global_step_tensor)\n",
    "                saver.save(sess, \"checkpoints/m{}_i{}_l{}.ckpt\".format(mode,global_step, lstm_size))\n",
    "                \n",
    "            counter += 1\n",
    "            #learning_rate*=0.75\n",
    "            #model.optimizer = build_optimizer(model.loss,learning_rate,model.grad_clip,model.global_step_tensor)\n",
    "        \n",
    "        epoch_end = time.time()\n",
    "        \n",
    "        \n",
    "        if ((e+1) % print_epoch_time_every== 0):\n",
    "            print('Epoch {}/{} time:{}...'.format(e+1,epochs,epoch_end-epoch_start),\n",
    "                 \" finished at\",strftime(\"%Y-%m-%d %H:%M:%S\", localtime()))\n",
    "        \n",
    "            \n",
    "    global_step = tf.train.global_step(sess,model.global_step_tensor)\n",
    "    saver.save(sess, \"checkpoints/m{}_i{}_l{}.ckpt\".format(mode,global_step, lstm_size))\n",
    "    \n",
    "print(\"Training ending at time:\",strftime(\"%Y-%m-%d %H:%M:%S\", localtime()))\n",
    "print(\"Trainint total time:\",time.time()-train_start_time)"
   ]
  },
  {
   "cell_type": "code",
   "execution_count": 64,
   "metadata": {},
   "outputs": [
    {
     "data": {
      "image/png": "[encoded data removed]",
      "text/plain": [
       "<matplotlib.figure.Figure at 0x7fa24fc842b0>"
      ]
     },
     "metadata": {
      "image/png": {
       "height": 250,
       "width": 364
      }
     },
     "output_type": "display_data"
    }
   ],
   "source": [
    "plt.plot(x_steps,losses[\"train\"],label=\"Train loss\")\n",
    "plt.plot(x_steps,losses[\"validation\"],label=\"Validation loss\")\n",
    "plt.legend()\n",
    "_ = plt.ylim()"
   ]
  },
  {
   "cell_type": "markdown",
   "metadata": {},
   "source": [
    "#### Saved checkpoints\n",
    "\n",
    "Read up on saving and loading checkpoints here: https://www.tensorflow.org/programmers_guide/variables"
   ]
  },
  {
   "cell_type": "code",
   "execution_count": 65,
   "metadata": {
    "collapsed": true
   },
   "outputs": [],
   "source": [
    "checkpoints = tf.train.get_checkpoint_state('checkpoints')"
   ]
  },
  {
   "cell_type": "markdown",
   "metadata": {},
   "source": [
    "## Sampling final trained model\n",
    "\n",
    "Now that the network is trained, we'll can use it to generate new text. The idea is that we pass in a character, then the network will predict the next character. We can use the new one, to predict the next one. And we keep doing this to generate all new text. I also included some functionality to prime the network with some text by passing in a string and building up a state from that.\n",
    "\n",
    "The network gives us predictions for each character. To reduce noise and make things a little less random, I'm going to only choose a new character from the top N most likely characters.\n",
    "\n"
   ]
  },
  {
   "cell_type": "code",
   "execution_count": 66,
   "metadata": {
    "collapsed": true
   },
   "outputs": [],
   "source": [
    "def sample(checkpoint, n_samples, lstm_size, vocab_size, prime=\"The \",mode=\"characters\"):\n",
    "    print(mode)\n",
    "    samples = tokenize_text(prime,mode)\n",
    "    model = CharRNN(len(vocab), lstm_size=lstm_size, sampling=True)\n",
    "    saver = tf.train.Saver()\n",
    "    with tf.Session() as sess:\n",
    "        saver.restore(sess, checkpoint)\n",
    "        new_state = sess.run(model.initial_state)\n",
    "        for c in tokenize_text(prime,mode):\n",
    "            x = np.zeros((1, 1))\n",
    "            x[0,0] = vocab_to_int[c]\n",
    "            feed = {model.inputs: x,\n",
    "                    model.keep_prob: 1.,\n",
    "                    model.initial_state: new_state}\n",
    "            preds, new_state = sess.run([model.prediction, model.final_state], \n",
    "                                         feed_dict=feed)\n",
    "\n",
    "        c = pick_top_n(preds, len(vocab))\n",
    "        samples.append(int_to_vocab[c])\n",
    "\n",
    "        for i in range(n_samples):\n",
    "            x[0,0] = c\n",
    "            feed = {model.inputs: x,\n",
    "                    model.keep_prob: 1.,\n",
    "                    model.initial_state: new_state}\n",
    "            preds, new_state = sess.run([model.prediction, model.final_state], \n",
    "                                         feed_dict=feed)\n",
    "\n",
    "            c = pick_top_n(preds, len(vocab))\n",
    "            samples.append(int_to_vocab[c])\n",
    "        \n",
    "    return ''.join(samples).replace(\"new_line_token\",\"\\n\")"
   ]
  },
  {
   "cell_type": "markdown",
   "metadata": {},
   "source": [
    "Here, pass in the path to a checkpoint and sample from the network."
   ]
  },
  {
   "cell_type": "code",
   "execution_count": 67,
   "metadata": {},
   "outputs": [
    {
     "data": {
      "text/plain": [
       "'checkpoints/mcharacters_i10680_l768.ckpt'"
      ]
     },
     "execution_count": 67,
     "metadata": {},
     "output_type": "execute_result"
    }
   ],
   "source": [
    "tf.train.latest_checkpoint('checkpoints')"
   ]
  },
  {
   "cell_type": "markdown",
   "metadata": {},
   "source": [
    "## Generate new text from \"base\" text"
   ]
  },
  {
   "cell_type": "code",
   "execution_count": 68,
   "metadata": {},
   "outputs": [
    {
     "name": "stdout",
     "output_type": "stream",
     "text": [
      "characters\n",
      "INFO:tensorflow:Restoring parameters from checkpoints/mcharacters_i10680_l768.ckpt\n",
      "characters\n",
      "INFO:tensorflow:Restoring parameters from checkpoints/mcharacters_i10680_l768.ckpt\n",
      "characters\n",
      "INFO:tensorflow:Restoring parameters from checkpoints/mcharacters_i10680_l768.ckpt\n",
      "characters\n",
      "INFO:tensorflow:Restoring parameters from checkpoints/mcharacters_i10680_l768.ckpt\n",
      "characters\n",
      "INFO:tensorflow:Restoring parameters from checkpoints/mcharacters_i10680_l768.ckpt\n",
      "characters\n",
      "INFO:tensorflow:Restoring parameters from checkpoints/mcharacters_i10680_l768.ckpt\n",
      "characters\n",
      "INFO:tensorflow:Restoring parameters from checkpoints/mcharacters_i10680_l768.ckpt\n",
      "characters\n",
      "INFO:tensorflow:Restoring parameters from checkpoints/mcharacters_i10680_l768.ckpt\n",
      "characters\n",
      "INFO:tensorflow:Restoring parameters from checkpoints/mcharacters_i10680_l768.ckpt\n",
      "characters\n",
      "INFO:tensorflow:Restoring parameters from checkpoints/mcharacters_i10680_l768.ckpt\n",
      "characters\n",
      "INFO:tensorflow:Restoring parameters from checkpoints/mcharacters_i10680_l768.ckpt\n",
      "characters\n",
      "INFO:tensorflow:Restoring parameters from checkpoints/mcharacters_i10680_l768.ckpt\n",
      "characters\n",
      "INFO:tensorflow:Restoring parameters from checkpoints/mcharacters_i10680_l768.ckpt\n",
      "characters\n",
      "INFO:tensorflow:Restoring parameters from checkpoints/mcharacters_i10680_l768.ckpt\n",
      "characters\n",
      "INFO:tensorflow:Restoring parameters from checkpoints/mcharacters_i10680_l768.ckpt\n",
      "characters\n",
      "INFO:tensorflow:Restoring parameters from checkpoints/mcharacters_i10680_l768.ckpt\n"
     ]
    }
   ],
   "source": [
    "\n",
    "checkpoint = tf.train.latest_checkpoint('checkpoints')\n",
    "\n",
    "\n",
    "samples = list()\n",
    "for text in text_to_try:\n",
    "    #print(\"------------------------\",text)\n",
    "    samples.append( sample(checkpoint, 500, lstm_size, len(vocab), prime=text,mode=mode))\n",
    "    #print(samp)\n",
    "    #print(\"------------------------\")"
   ]
  },
  {
   "cell_type": "code",
   "execution_count": 69,
   "metadata": {},
   "outputs": [
    {
     "name": "stdout",
     "output_type": "stream",
     "text": [
      "------------------------ In the first place\n",
      "In the first place, my expectance was to four feet, in firmars, he was engolection in the picture in question. An acusedaye, however, were four claiminally excited. I kept down what shewrute seldom here to hear such a was now greasly agitatude; but I was not this except by an arrow no direction from the hill. Ward asked Dr. Chomes he cumbored, however, that his studies had secured me, he went,\n",
      "completely bridened the mouldering mouth.\n",
      "     It was notebother, I continued the terrace aciactyrs. I have said I receive\n",
      "------------------------\n",
      "------------------------ the night before\n",
      "the night before.\n",
      "\n",
      "    The next few rooms terrible your crinists covered with huggly sniff-bank before-way between life it must be hatch to later on. No build of facing the drumary, never as so frequently merely by a breakwash any case upon deck at any time to presumes used. That the productions exists read:this, as hege and dawn where the range of man’s last rashed touch.\n",
      "\n",
      "    On observing he had made the exact astroou in time, had araided my hissed fands, and his father at fault and disturbing dome\n",
      "to the hutc\n",
      "------------------------\n",
      "------------------------ horror\n",
      "horror; forevauls things, indeed, my own projection, and child rock, through the house in some dark, but the memory of pretending ice itself, from that forgetisest men div down,  this clutch of discoveries is the tragued in the most absent guttural treeiggent enduring the winds with accompanicynboly; but it was rises the gather,d great endure by the consequent wifes in closing. They had been talking of snow and the slate-headed by the aperture for daylight. Carter could buggern to long abyss,s nervous \n",
      "------------------------\n",
      "------------------------ creature\n",
      "creature and philosophis to be completely. His sons represented the vividness appeared uallel because if the rattling cryptographs with spasmism and did not seemed definite away. In my ear unitedant\n",
      "nearnshin extremity\n",
      "may hereatifer supremed. Then as is succeeded for very carelessness monstrous lones in all theisul-goldities on certain myth certain mystery. Cecumplaneauly-d feeled—and the damp calm witn its were completek thad its strange peacements in that accursed deament, with its effects to facturou\n",
      "------------------------\n",
      "------------------------ night\n",
      "nightes; but what they tells was no longiture -- buo,neisedness mes mour, and was prevailing, almost afterwarfure. Kwellew, rolling\n",
      "on the deck nextled, I adve so great dead. But I had the record. I had servace, from the natives came that ever-kindness in the lowest level? Fou dock care some fair--admed Lake before --I fancied the noble beloved?\" \n",
      "\n",
      "\"Serpticious, temped my steps) where he was completely modeller than I should refer to think that softened as you previoled another, each other. ever since\n",
      "------------------------\n",
      "------------------------ dream\n",
      "dreaments in everile, mound only affected me unless themperousure of the authorities in the end, all of these end the cryptograph-recture according my bosom, immediately bursed ittermible. It was as hew the eyes behaved his visitors, and preduced the eight or to thus on the other.\n",
      "\n",
      "I cannot yourge typically,\" soir repeating this coffeeding, by promisuut, smited\n",
      "a careless\n",
      "eastward, those\n",
      "octopping of dreadful convulsionship, the discretific winds were inmmembles. Providence, Rougin\n",
      "common-spread my he\n",
      "------------------------\n",
      "------------------------ thing\n",
      "things which had talked to me to let my grapping toward my eyes.\n",
      "     The scent of the corridor’s nighted, and a proposition into the watch, is by this time still. At the period of earth, with bu well\n",
      "absent me from the nature or turrally confess.\n",
      "Its walls we duly repeated my footstep recollic of a section, I could buing myself a scholars to be apprehended, we should be able to connect the possibilt, osinightful testimony fercible, and upon\n",
      "the wall-direction being inspiring in the edge, and turning \n",
      "------------------------\n",
      "------------------------ That night\n",
      "That night. TheNce he lay, with a humble animal as what as I uschair the open made no appear.\n",
      "\n",
      "    The brig mainly more mostlying intention of my friend's expectation reply.iH till light held a little\n",
      "convicting his health were not. My first message my preferring-torring issuismit had depunded) not me to conceal. At times the men certain consumed myths up from the door; but he likely to the water, this in the\n",
      "diary as a physician sensects. The cats were now deeply cut inropic a belief has ain\n",
      "the basased d\n",
      "------------------------\n",
      "------------------------ mountain\n",
      "mountainspriceturial trucks through that fould record. There are echieded becass loodely down at night flew unchantingly amidst the familiar voyaum of Earl in the accuhsory.ury, “GrEgi-Gi-Coovic's '-bug hamm --but mere standensigive it remarks a narrow estatisted me.\"\n",
      "\n",
      "When were smooth, and exceptions happened; by a loose dr violence.\n",
      "\n",
      "    We are thughef visions among the blackers, he was enormously carefully liked within itself. He detailed to\n",
      "make my weff from the conversation upon my speecilling massi\n",
      "------------------------\n",
      "------------------------ Ammi\n",
      "AmmiWs, Henley, was much moment, as that their shadowy manuscripe darked down wherge human beings kept around Yakowic Mills. Courtespended the movement the sky met hibrous-scaraer, almost tempted abouthtopletyly. Ends Now can termetted all my chain knows with enormous species. Their immediate vanishes in the human being a little more than thirty o harm. They were, icutaining the tragedying cutting of all the arrangsmanHs had not produced no imagination.\n",
      "     Kuranes will be gone, earth’s gate in his \n",
      "------------------------\n",
      "------------------------ Cthulhu\n",
      "Cthulhus Diebetisets to the letter part century, as he unloced and evhnoried by a flagour, and seen through a viewicul door.\n",
      "     By the time he called me up wo\n",
      "with the rumours which now began te arrangement, ghastly duct, however annum to ether assistance arriving the pass.\n",
      "At the last general field the gore gather much thelley as he countedred, carrying for professors. From his usual simple manner, was not more feetful elfthcasp that the rest wdich flank and gester to hyick over my uncle's greenice o\n",
      "------------------------\n",
      "------------------------ raven\n",
      "ravenouslike before men came that the press rumouring and drawing intplampts of tdeering my lamb and appearance.\n",
      "\n",
      "With at leathing his madness consumed this privinge, are although there must) have been moleman—saws much a roial manner its various men once my own lean.\n",
      "\n",
      "\"Dickeed\"\" I said.\n",
      "\n",
      "\"Now, massa? Drunk, by a little dog.\"\n",
      "\n",
      "   Withous questious scrubbing, chaially, hereifored tunnel the trees an’ little typeur such\n",
      "breasthingsoly elevered on ever. Night he felt coment! Insteuding to let him much be\n",
      "------------------------\n",
      "------------------------ bird\n",
      "bird itself at his; and his hoir may be no curious boot which telling my late is natuated. They arrivenward Erk Buckin, which all was labyrataticulate.\n",
      "\n",
      "    Jainer Street-stars, however, he told the matter in which he was immedificed.\n",
      "\n",
      "The examining obverped, by his wwo except that it might be evident tnat my visit fellow-boriness, and emined with few\n",
      "personal fright after excessively mantal in the most change that he shuffled from my positions in swimming wind force. In another, but a small peirfed,\n",
      "------------------------\n",
      "------------------------ nevermore\n",
      "nevermore.\n",
      "\n",
      "The earthly crawling character was cleared at he spoke of us, and the curious set uprefacability of his which might have been, apparently,\n",
      "he clambered against the pressure of her physicials in out wit himself agains. Accordingly I had smoon\n",
      "upon this idea, purving it is except that the memory of my folli entity there came out over the decketuceritory of the implicated manner in which I dared as my qualms chewilly -- so hurried by a strange, higger, with around men, while\n",
      "he finished the resul\n",
      "------------------------\n",
      "------------------------ dead\n",
      "dead the circular ribson countrussed by a contained of unknown mouth.\n",
      "\n",
      "Dvermoth, I are retained, bbt o assure me that the scatterer, it was as my friend, indeed, it is true, a stiffered with the wrutchentfulness, cituablear, including than for eighteen\n",
      "convuxition with the flightful structure with the cracks of thought. We were far from tyllphouse, sometimes came with a letter from membrane.\n",
      "\n",
      "The sufferer beyond the limit of a pinotolite cry, any, if these mechanics, the labyraturets were as old to h\n",
      "------------------------\n",
      "------------------------ The bird\n",
      "The birds he was\n",
      "drawnching as end. As I received from the harmled condition of my trom? I concludedotell well have you could not get now the splighous color at the Age organise.\"\n",
      "\n",
      "\"Give not its three mer literal.\" Frmit up the course as usuan the cave-might respecting him eye as)h? Twiffelly, white five departm re it were eight or told my etignation. The lawy, were indeed a lonf and unwishable feature might be east for the\n",
      "present, but had the fragments of mentioning in the must lively because I was pre\n",
      "------------------------\n"
     ]
    }
   ],
   "source": [
    "for i in range(len(text_to_try)):\n",
    "    text = text_to_try[i]\n",
    "    generated = samples[i]\n",
    "    print(\"------------------------\",text)\n",
    "    print(generated)\n",
    "    print(\"------------------------\")"
   ]
  },
  {
   "cell_type": "code",
   "execution_count": 70,
   "metadata": {},
   "outputs": [
    {
     "data": {
      "text/plain": [
       "model_checkpoint_path: \"checkpoints/mcharacters_i10680_l768.ckpt\"\n",
       "all_model_checkpoint_paths: \"checkpoints/mcharacters_i9346_l768.ckpt\"\n",
       "all_model_checkpoint_paths: \"checkpoints/mcharacters_i9846_l768.ckpt\"\n",
       "all_model_checkpoint_paths: \"checkpoints/mcharacters_i10346_l768.ckpt\"\n",
       "all_model_checkpoint_paths: \"checkpoints/mcharacters_i10680_l768.ckpt\""
      ]
     },
     "execution_count": 70,
     "metadata": {},
     "output_type": "execute_result"
    }
   ],
   "source": [
    "tf.train.get_checkpoint_state('checkpoints')"
   ]
  },
  {
   "cell_type": "code",
   "execution_count": 71,
   "metadata": {},
   "outputs": [
    {
     "name": "stdout",
     "output_type": "stream",
     "text": [
      "characters\n",
      "INFO:tensorflow:Restoring parameters from checkpoints/mcharacters_i10680_l768.ckpt\n",
      "The old folk have gone away when the staff above my eyes.\n",
      "     July 20--18----I-bendardm -- this! I am thirkengally all the new mfandi c, and that the earthly but rather of his side is my nostrined topics. dog my recalled legends- nearly provisionale,\n",
      "as difficult, a pockets of a distance upon\n",
      "his nothing to afford much at all, but evidently passed the papers as a good explain. For the first time, after the\n",
      "discovery of his straniin shirts in corresponding, and Carter become intoxerated from my dreams—a claiming sense of crumbed special memory, asleep, and persistently lost upon hours as which the brid\n",
      "had shewn crimedully. In the event of\n",
      "particular, the mason-heared in evnybre. Ward was a weary, thinking subject, to that ain tales he naided an expedience at all with the utterlve of the day, wh sea confessed artist preserving the adventure than the other. Such worther about the marks the descripts itself.ies devisions to his weakness and hillscaped the scene.\n",
      "     So the minorout thing himself would permit upon them difured at hand. Here the voice of a passionate, dreaming, and giving up the chain groph with daesiess in stealth at the cryptical radic occouragious visitors had predicted us in a formul and spiral; the typeh notes of these turns were reduced, only to the front expanation, which had been lostened, the brig, and thettering a shocking abysmaless high-rous -- of all very reflucted to the actual commerce, the greater odours despite his clothing. They had been expected to theel howey large minuscular boding prodigious but allowest race in the elder specific than they had otherwise them.\n",
      "     The houses were varied upon my experience, whihned his motor close-huggests presude, the buildly stiny if they were lost alone.\n",
      "     “Wy togn’s privage impressions to come over my fall.\n",
      "\n",
      "\"The sail') so mortal!\" some little acquisitions of the contempt to rugge fe seeined\n",
      "marking our hold. Thus daughter that I was also ten finging the part of myself, which he told me to be sure that he who might find him on shortly fine.\n",
      "\n",
      "                           CHAPTER XII\n",
      "\n",
      "    The professors that formed something about the dampness heeds singultall croaked;abuidding the situation that the general abulted dust the first two o'clock Waspelly son agonies” and locked them told of the present. Withdraway he sank into fullen emaciated by bickness of unidentasbous eye for porthol in transi, and once indulgred peefulating. Ahter the least thing of my eyes men may spirhs and crees, with peculiar slopes, at least on alm seizing the scientic together, including the tacker which he decided the mad wit did not make usen of the previomsy surces of ectory, and briet, and tigle with it that sending favoural abeves and pictures. No omith air could possibly movn the probablutions of the party among range that blacknessh—sevent from London; then aggs, giving through the primitive intensity, and the constitution of everythiages its restrictions in the wide massive. The ship wdays as far as ghatter than there came a slight survivors.\n",
      "     And my way to you crowp on board wasts, but through the past, were marved in our best small curiosity, though incredible primacy spare-northeast in the nicteethening but this walls and impressions. It seemed\n",
      "to be a low doubt about this thore them in no other rudder of wood. We resolved to-vantage others, but I had constantly from the company, I repeat, l tremandly, were said,table-lnormed by one of troubrowling books. Their fellows, householced me to expect it, in studion, to keep await, had coinged me (when, after a day of the peculiar record-bthered. Before he lived encouraged by the infamous brawn from me immediately to the\n",
      "coat, and the spiritude walls of the bright\n",
      "hair intervals such.\n",
      " night that occasional remarks on sprang out the most perplexing and fully vivid ance that he had dreamed. It was no wonders of horror and interest’s crac er whatever. The whereabout immediately leagues most closely to admit on our larboad, and spread out the scene into two hideousations in the cabin, and all three murderous patch of dreamland had been taken to have hinted a very smouth; so carelessn-to their squares colourd our vapour especially increasurable perversition -- how its infity would be glimpses among the levels of the nurse.\n",
      "\n",
      "    Here is from a touch off Innsmouth and myself. I am not\n",
      "dutitude, at least for the next time, I burn driving upon my building terror,ifternively illustrated. Could I guile these work I saw that the ancient rylated copered of this infinite mi st, and where he did come with fruitless curious ineautial myniac boring with monstrous irregular numbyrs, whicpouringly, such and suppositions, inductions, on the two of the brig were stricken forehead; but a terrortely similar crowded in rare and huge, responshible as they had done no oppirt and closed upon impand matter down; engg ngreanoly, and ill-namal vehyirs, Captain Cook Frivbed as i restraining the eye. I knew my proper yita you will be ittacked by the mate recenc\n"
     ]
    }
   ],
   "source": [
    "generated = sample(checkpoint, 5000, lstm_size, len(vocab), prime=\"The old folk have gone away\",mode=mode)\n",
    "print(generated)"
   ]
  },
  {
   "cell_type": "code",
   "execution_count": 72,
   "metadata": {},
   "outputs": [
    {
     "name": "stdout",
     "output_type": "stream",
     "text": [
      "characters\n",
      "INFO:tensorflow:Restoring parameters from checkpoints/mcharacters_i10680_l768.ckpt\n",
      "The thing that should not be surprised; but on Certain in case daements wheneves to me that the party as if we drew into the windows. Two headsthe bungalow's key, wery fattening thlessme or  wigh years rimiced in this picture we called from the air—a tonce which I learned muchfully formed the broad-st down, productive by the sprayer which the unknectorities; orituns come to him to clabbeurures; the sail was now apparently because of the wantered gravestone in the clothest seamen, than thus th Hahkeg-Klad Liggia who had disappeared.\n",
      "\n",
      "Byhonger, one more the learn of his friends occupied that, his face was nearly as emerawd, as we had been the work very absent from, ferocious to have been thrown down there with their backs with the generitois holders.\n",
      "     It was dark of a million y the walls in order to epholopast I could change me that the brig was sometimestered by a nittef dead; and by the time the prowled me installably dryphing all honestfolescy—a few seemed qugetius into its twilight ingenuies of ruin, and we could ever have heard, or probably to the indicated currents example. Bloods they always waiting, for Cart had fairly instinctive menacing-accduing it regardatives before he was gnowing terror,y and thereint the silence reverseonogrer. Fortunate Greech was terriditon up thick, and after that they manumously expressed his mother in the mild gloaour. This bottle was an easleely chordace—to becure it, ascending the decrs of parallelism with building.\n",
      "\n",
      "It was twilight had but hour have had a cool, do me, as he endeatoned, I stroved\n",
      "to contender to make a precision that the half-made up insistent and easier or letters, having but little pictures alimation of his. or evening, when the earth, where eleven it had been the two other sipern—yellowing as much to that it openly possessed them. A hilterens bloat shouting, and everyone were awakeform more) --there were the permission to his steel.i\n",
      "\n",
      "Providently mention, he said with all my narrative we developed—infinitely luck heouded the upper work, at which he did indy a sent belove it was found.\n",
      "\n",
      "We had now released, it bursal between the two records. On the traic, had been drawn to odd,s arousing me for it.\n",
      "     The multitude was fully a definite design. I have swooned -ignsperangly,lyading with the fundit of a strange special clue—and ice was more curiosity. Besides, whit his feet incredible from the districting casemely broken and still became such beliefs,\n",
      "and falling to our arms,\n",
      "were it a fetter specielation, regarding ter outfully humbed abex-mids. The ceiling, other merchants with the shout, he came to the whole company a presumptuous obstrus—and thought to carry a singular and huge and bell the sled into accomplishments, which the absence of my long, loud mattermine concernint the minds of occult-portions of the nearey. What impedite instructive extent, upon reviving, around the crew of the peculiar, and the men who came to the right to tanklessly. The generics eff was just retained, although as the wide street arrangements of the islanders, what appeared, and really existed, by me whose other\n",
      "dapolism hose to me and convey. Market was characteries of mystic convulsions, from the passage of my name!\" and then I saw the right, I knew, the pandring-put beneath her life, and wished the boldned air all of\n",
      "the primal myscips, he declined\n",
      "to the specimen, and my soul and terrible inquiry by which the privateered chambers. There went down, and look dizzy, and scarcely reverberataly in course, is only accidentallight; and there were such a character as we passumed in the aid. My breath fruited me to string out to the living, and took the roaring of her heart Geayen Browsl’s friend lying toward Arkham. He had ndiversing hither of his feelings frightened with the picture already on the intense. Let him useful men turned partly definitely\n",
      "leaped in my long mendor, and approached by the luss of the mystery is my proper position; a twilf chmiches and temples.\n",
      "\n",
      "As I say, I hear an information tex, that I was small in a malnekntary in the passages from which I had brought before. How to keep the pictures, but I’ve been sorrectees than it had been kepticm and black stiffed long against the reviousating by occasional shops with rusts, and the governess of the move to the mattress and dragging of ice-dust is the faces of their chamber, andes, their tabled mechanics, more than leegibly, as I had talked with impunity. The ideer\n",
      "counted me by the lingerint astending myself with it to\n",
      "be here; but as I thought in very laughter, upon the ground, frorth still the hearing thicf, I came upon a few minutes\n",
      "the latent memory-rates; hence\n",
      "the tunnel meank so plain, with a pen\n",
      "accuracy in call attempt to prevented him.\n",
      "\n",
      "                                                                                                                                                                                                                                                                                                    \n"
     ]
    }
   ],
   "source": [
    "generated = sample(checkpoint, 5000, lstm_size, len(vocab), prime=\"The thing that should not be\",mode=mode)\n",
    "print(generated)"
   ]
  },
  {
   "cell_type": "markdown",
   "metadata": {
    "collapsed": true
   },
   "source": []
  }
 ],
 "metadata": {
  "kernelspec": {
   "display_name": "Python 3",
   "language": "python",
   "name": "python3"
  },
  "language_info": {
   "codemirror_mode": {
    "name": "ipython",
    "version": 3
   },
   "file_extension": ".py",
   "mimetype": "text/x-python",
   "name": "python",
   "nbconvert_exporter": "python",
   "pygments_lexer": "ipython3",
   "version": "3.6.3"
  }
 },
 "nbformat": 4,
 "nbformat_minor": 2
}
